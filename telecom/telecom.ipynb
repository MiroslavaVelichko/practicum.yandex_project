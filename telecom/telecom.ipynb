{
 "cells": [
  {
   "cell_type": "markdown",
   "metadata": {
    "toc": true
   },
   "source": [
    "<h1>Содержание<span class=\"tocSkip\"></span></h1>\n",
    "<div class=\"toc\"><ul class=\"toc-item\"><li><span><a href=\"#Изучение-данных-из-файла--\" data-toc-modified-id=\"Изучение-данных-из-файла---1\"><span class=\"toc-item-num\">1&nbsp;&nbsp;</span>Изучение данных из файла  <a id=\"step_1\"></a></a></span><ul class=\"toc-item\"><li><span><a href=\"#Вывод\" data-toc-modified-id=\"Вывод-1.1\"><span class=\"toc-item-num\">1.1&nbsp;&nbsp;</span>Вывод</a></span></li></ul></li><li><span><a href=\"#Предобработка-данных--\" data-toc-modified-id=\"Предобработка-данных---2\"><span class=\"toc-item-num\">2&nbsp;&nbsp;</span>Предобработка данных  <a id=\"step_2\"></a></a></span><ul class=\"toc-item\"><li><span><a href=\"#Исправление-заголовков--\" data-toc-modified-id=\"Исправление-заголовков---2.1\"><span class=\"toc-item-num\">2.1&nbsp;&nbsp;</span>Исправление заголовков  <a id=\"step_2.1\"></a></a></span></li><li><span><a href=\"#Обработка-пропусков--\" data-toc-modified-id=\"Обработка-пропусков---2.2\"><span class=\"toc-item-num\">2.2&nbsp;&nbsp;</span>Обработка пропусков  <a id=\"step_2.2\"></a></a></span></li><li><span><a href=\"#Удаление-дубликатов--\" data-toc-modified-id=\"Удаление-дубликатов---2.3\"><span class=\"toc-item-num\">2.3&nbsp;&nbsp;</span>Удаление дубликатов  <a id=\"step_2.3\"></a></a></span></li><li><span><a href=\"#Проверка-данных-на-аномалии-и-исправления--\" data-toc-modified-id=\"Проверка-данных-на-аномалии-и-исправления---2.4\"><span class=\"toc-item-num\">2.4&nbsp;&nbsp;</span>Проверка данных на аномалии и исправления  <a id=\"step_2.4\"></a></a></span><ul class=\"toc-item\"><li><span><a href=\"#В-таблице-calls--\" data-toc-modified-id=\"В-таблице-calls---2.4.1\"><span class=\"toc-item-num\">2.4.1&nbsp;&nbsp;</span>В таблице <code>calls</code>  <a id=\"step_2.4.1\"></a></a></span></li><li><span><a href=\"#В-таблице-messages--\" data-toc-modified-id=\"В-таблице-messages---2.4.2\"><span class=\"toc-item-num\">2.4.2&nbsp;&nbsp;</span>В таблице <code>messages</code>  <a id=\"step_2.4.2\"></a></a></span></li><li><span><a href=\"#В-таблице-internet--\" data-toc-modified-id=\"В-таблице-internet---2.4.3\"><span class=\"toc-item-num\">2.4.3&nbsp;&nbsp;</span>В таблице <code>internet</code>  <a id=\"step_2.4.3\"></a></a></span></li><li><span><a href=\"#В-таблице-users--\" data-toc-modified-id=\"В-таблице-users---2.4.4\"><span class=\"toc-item-num\">2.4.4&nbsp;&nbsp;</span>В таблице <code>users</code>  <a id=\"step_2.4.5\"></a></a></span></li></ul></li><li><span><a href=\"#Расчёты-и-добавление-результатов-в-таблицу\" data-toc-modified-id=\"Расчёты-и-добавление-результатов-в-таблицу-2.5\"><span class=\"toc-item-num\">2.5&nbsp;&nbsp;</span>Расчёты и добавление результатов в таблицу</a></span><ul class=\"toc-item\"><li><span><a href=\"#Количество-сделанных-звонков-и-израсходованных-минут-разговора-по-месяцам\" data-toc-modified-id=\"Количество-сделанных-звонков-и-израсходованных-минут-разговора-по-месяцам-2.5.1\"><span class=\"toc-item-num\">2.5.1&nbsp;&nbsp;</span>Количество сделанных звонков и израсходованных минут разговора по месяцам</a></span></li><li><span><a href=\"#Количество-отправленных-сообщений-по-месяцам\" data-toc-modified-id=\"Количество-отправленных-сообщений-по-месяцам-2.5.2\"><span class=\"toc-item-num\">2.5.2&nbsp;&nbsp;</span>Количество отправленных сообщений по месяцам</a></span></li><li><span><a href=\"#Oбъем-израсходованного-интернет-трафика-по-месяцам;\" data-toc-modified-id=\"Oбъем-израсходованного-интернет-трафика-по-месяцам;-2.5.3\"><span class=\"toc-item-num\">2.5.3&nbsp;&nbsp;</span>Oбъем израсходованного интернет-трафика по месяцам;</a></span></li><li><span><a href=\"#Объединение-таблиц\" data-toc-modified-id=\"Объединение-таблиц-2.5.4\"><span class=\"toc-item-num\">2.5.4&nbsp;&nbsp;</span>Объединение таблиц</a></span></li><li><span><a href=\"#Помесячная-выручка-с-каждого-пользователя\" data-toc-modified-id=\"Помесячная-выручка-с-каждого-пользователя-2.5.5\"><span class=\"toc-item-num\">2.5.5&nbsp;&nbsp;</span>Помесячная выручка с каждого пользователя</a></span></li></ul></li></ul></li><li><span><a href=\"#Исследовательский-анализ-данных\" data-toc-modified-id=\"Исследовательский-анализ-данных-3\"><span class=\"toc-item-num\">3&nbsp;&nbsp;</span>Исследовательский анализ данных</a></span><ul class=\"toc-item\"><li><span><a href=\"#Выручка\" data-toc-modified-id=\"Выручка-3.1\"><span class=\"toc-item-num\">3.1&nbsp;&nbsp;</span>Выручка</a></span></li><li><span><a href=\"#Минуты-разговора\" data-toc-modified-id=\"Минуты-разговора-3.2\"><span class=\"toc-item-num\">3.2&nbsp;&nbsp;</span>Минуты разговора</a></span></li><li><span><a href=\"#Сообщения\" data-toc-modified-id=\"Сообщения-3.3\"><span class=\"toc-item-num\">3.3&nbsp;&nbsp;</span>Сообщения</a></span></li><li><span><a href=\"#Интернет\" data-toc-modified-id=\"Интернет-3.4\"><span class=\"toc-item-num\">3.4&nbsp;&nbsp;</span>Интернет</a></span></li></ul></li><li><span><a href=\"#Проверка-гипотез\" data-toc-modified-id=\"Проверка-гипотез-4\"><span class=\"toc-item-num\">4&nbsp;&nbsp;</span>Проверка гипотез</a></span><ul class=\"toc-item\"><li><span><a href=\"#Гипотеза-№1\" data-toc-modified-id=\"Гипотеза-№1-4.1\"><span class=\"toc-item-num\">4.1&nbsp;&nbsp;</span>Гипотеза №1</a></span></li><li><span><a href=\"#Гипотеза-№2\" data-toc-modified-id=\"Гипотеза-№2-4.2\"><span class=\"toc-item-num\">4.2&nbsp;&nbsp;</span>Гипотеза №2</a></span></li></ul></li><li><span><a href=\"#Вывод\" data-toc-modified-id=\"Вывод-5\"><span class=\"toc-item-num\">5&nbsp;&nbsp;</span>Вывод</a></span></li><li><span><a href=\"#Общий-вывод-по-проекту\" data-toc-modified-id=\"Общий-вывод-по-проекту-6\"><span class=\"toc-item-num\">6&nbsp;&nbsp;</span>Общий вывод по проекту</a></span></li><li><span><a href=\"#Вторая-итерация-ревью\" data-toc-modified-id=\"Вторая-итерация-ревью-7\"><span class=\"toc-item-num\">7&nbsp;&nbsp;</span>Вторая итерация ревью</a></span></li></ul></div>"
   ]
  },
  {
   "cell_type": "markdown",
   "metadata": {},
   "source": [
    "<div style=\"border:solid green 2px; padding: 20px\">\n",
    "<b>Привет, Мирослава!</b>\n",
    "\n",
    "Меня зовут Евгений Колитененко, я твой ревьюер на этом проекте. \n",
    "    \n",
    "<b>От лица коллектива код-ревьюеров приношу извинения за длительное ожидание проверки работы.</b> \n",
    "    \n",
    "Теперь приступим:\n",
    "    \n",
    "Моя задача не указать на совершенные тобой ошибки, а поделиться опытом и помочь стать аналитиком данных.\n",
    "\n",
    "Предлагаю общаться на «ты». Если это неприемлемо, напиши об этом в комментариях - мы сразу перейдем на \"Вы\".\n",
    "Спасибо за отправку проекта, видно, что ты проделала большую и качественную работу. \n",
    "\n",
    "Ниже ты обнаружишь цветные комментарии сразу после каждого вывода (кроме исключительных случаев) - пожалуйста, \n",
    "не изменяй эти блоки, а лучше вообще сохранить работу до и после =)     \n",
    "\n",
    "<div class=\"alert alert-block alert-success\">\n",
    "<b>Комментарий ревьюера (всё отлично):</b> \n",
    "Такими комментарии я буду помечать хорошо проделаную работу =)</div>\n",
    "\n",
    "<div class=\"alert alert-block alert-warning\">\n",
    "<b>Комментарий ревьюера (принимаем к размышлению): </b> \n",
    "В таких комментариях я постараюсь подсказать тебе более элегантное или легкое решение, некоторые хитрости и фишки или укажу на некритичные замечания. \n",
    "Части проекта, помеченные такими комментариями, можно не исправлять, но если их будет больше трёх я не смогу принять твою работу.</div>\n",
    "\n",
    "<div class=\"alert alert-block alert-danger\">\n",
    "<b>Комментарий ревьюера (критичная ошибка):</b> \n",
    "Если ты видишь такой комментарий, значит здесь есть недочет, который следует исправить. Без такого исправления я не приму твою работу :) </div>\n",
    "\n",
    "Давай работать над проектом в диалоге: если ты что-то меняешь в проекте или отвечаешь на мои комментарии — пиши об этом. \n",
    "Будет быстрее и легче отследить изменения и выполнить повторную проверку твоего проекта, если ты выделишь их:\n",
    "\n",
    "<div class=\"alert alert-info\"> <b>Комментарий студента:</b> Например, вот так.</div>\n",
    "\n",
    "Чтобы сделать подобный блок, кликни здесь дважды и скопируй всю предыдущую строку ;)"
   ]
  },
  {
   "cell_type": "markdown",
   "metadata": {},
   "source": [
    "<div class=\"alert alert-info\"> <b>Комментарий студента:</b> Привет, Евгений!\n",
    "Спасибо за твою работу, каждый раз узнаю что-то полезное после ревью, это очень ценно) Старалась обработать все твои замечания, комментарии везде писала.</div>"
   ]
  },
  {
   "cell_type": "markdown",
   "metadata": {},
   "source": [
    "<div style=\"border:solid green 2px; padding: 20px\">\n",
    "<b>Привет, Мирослава!</b>\n",
    "    \n",
    "Спасибо за тёплые слова, рад оказаться полезным.\n",
    "    \n",
    "Твой проект стал еще лучше и я его с удовольствием принимаю. Отличная работа. Ниже ты можешь увидеть мои комментарии с пометкой <b>Комментарий ревьюера V2:</b>.\n",
    "    \n",
    "Не удивляйся, что проект снова пришел на доработку. Если у тебя остались вопросы, то задай их в комментариях, а если нет присылай на проверку, чтобы я нажал на все необходимые кнопки :)"
   ]
  },
  {
   "cell_type": "markdown",
   "metadata": {},
   "source": [
    "<div class=\"alert alert-info\"> <b>Комментарий студента V2:</b> Евгений, спасибо за советы и подсказки!\n",
    "    Я получила ответы на свои вопросы ) Ниже по тексту уже не писала новые комментарии, чтобы не отвлекать больше на свой проект. \n",
    "    (Табличку по всем средним хотела сделать с размерами пакетов, чтобы было видно как в среднем эти пакеты используется на каждом из тарифов. Я себе на листочке такую рисовала, пока сравнивала))\n",
    "</div>"
   ]
  },
  {
   "cell_type": "markdown",
   "metadata": {},
   "source": [
    "<div class=\"alert alert-block alert-warning\">\n",
    "<s><b>Комментарий ревьюера(принимаем к размышлению):</b>\n",
    "Я вижу, что ячейки в твоей тетрадке начинаются не с 1. Перед отправкой проекта стоит проверять работоспособность кода — это можно сделать, нажав на панели Jupiter Hub ``Kernel`` и ``Restart & Run All`` (см скриншот ниже).</b>\n",
    "\n",
    "![](https://i.postimg.cc/yd19rYf6/Screenshot-428.png)\n",
    "    \n",
    "</div>"
   ]
  },
  {
   "cell_type": "markdown",
   "metadata": {},
   "source": [
    "<div class=\"alert alert-info\"> <b>Комментарий студента:</b> Спасибо, я думала когда ревьюер открывает проект на своем компьютере, мою нумерацию не видно)   .</div>"
   ]
  },
  {
   "cell_type": "markdown",
   "metadata": {},
   "source": [
    "<div class=\"alert alert-block alert-success\">\n",
    "<b>Комментарий ревьюера V2(всё отлично):</b> \n",
    "Мы (ревьюеры) видим всё 👀 Или почти всё ☺</div>"
   ]
  },
  {
   "cell_type": "markdown",
   "metadata": {},
   "source": [
    "# Определение перспективного тарифа для телеком-компании <a id='intro'></a>"
   ]
  },
  {
   "cell_type": "markdown",
   "metadata": {},
   "source": [
    "По заданию коммерческого департамента компании «Мегалайн» - федерального оператора сотовой связи, необходимо определить наиболее прибыльный тарифный план.\n",
    "\n",
    "Клиентам «Мегалайн» предлагают два тарифных плана: «Смарт» и «Ультра». \n",
    "\n",
    "**Описание тарифов**\n",
    "\n",
    "**Тариф «Смарт»**\n",
    "1. Ежемесячная плата: 550 рублей\n",
    "2. Включено 500 минут разговора, 50 сообщений и 15 Гб интернет-трафика\n",
    "3. Стоимость услуг сверх тарифного пакета:\n",
    "* минута разговора: 3 рубля\n",
    "* сообщение: 3 рубля\n",
    "* 1 Гб интернет-трафика: 200 рублей\n",
    "\n",
    "**Тариф «Ультра»**\n",
    "1. Ежемесячная плата: 1950 рублей\n",
    "2. Включено 3000 минут разговора, 1000 сообщений и 30 Гб интернет-трафика\n",
    "3. Стоимость услуг сверх тарифного пакета:\n",
    "* минута разговора: 1 рубль\n",
    "* сообщение: 1 рубль\n",
    "* 1 Гб интернет-трафика: 150 рублей\n",
    "\n",
    "**Цели исследования**: \n",
    "1. Ответить на вопрос:\n",
    "*  сколько минут разговора, сколько сообщений и какой объём интернет-трафика требуется пользователям каждого тарифа в месяц?\n",
    "2. Проверить гипотезы:\n",
    "* средняя выручка пользователей тарифов «Ультра» и «Смарт» различаются;\n",
    "* средняя выручка пользователей из Москвы отличается от выручки пользователей из других регионов.\n",
    "\n",
    "\n",
    "**Ход исследования** \n",
    "\n",
    "Входные данные — информация о звонках, смс, и использованном объеме интернет трафика 500 пользователей «Мегалайна» за 2018 год.\n",
    "Перед проверкой гипотез понадобится обзор данных.   \n",
    "Проверим данные на ошибки и оценим их влияние на исследование. На этапе предобработки постараемся исправить самые критичные ошибки данных.\n",
    "\n",
    "Для ответа на гипотезы посчитаем и добавим в таблицу следующие данные:\n",
    "* количество сделанных звонков и израсходованных минут разговора по месяцам;\n",
    "* количество отправленных сообщений по месяцам;\n",
    "* объем израсходованного интернет-трафика по месяцам;\n",
    "* помесячную выручку с каждого пользователя.\n",
    " \n",
    "Таким образом, исследование пройдёт в четыре этапа:\n",
    " 1. Обзор данных;\n",
    " 2. Предобработка данных;\n",
    " 4. Исследовательский анализ данных;\n",
    " 3. Проверка гипотез.\n",
    "\n",
    "\n",
    "\n"
   ]
  },
  {
   "cell_type": "markdown",
   "metadata": {},
   "source": [
    "<div class=\"alert alert-block alert-success\">\n",
    "<s><b>Комментарий ревьюера (всё отлично):</b> \n",
    "\n",
    "Здорово, что во вступлении к твоему проекту есть\n",
    "\n",
    "заголовок,\n",
    "\n",
    "краткое описание проекта,\n",
    "\n",
    "цель проекта,\n",
    "\n",
    "Вступление станет лучше, если ты добавишь в него:\n",
    "\n",
    "описание данных\n",
    "\n",
    "план работы.\n",
    "\n",
    "Тогда получатель отчета сможет быстрей его понять.</s>"
   ]
  },
  {
   "cell_type": "markdown",
   "metadata": {},
   "source": [
    "<div class=\"alert alert-info\"> <b>Комментарий студента:  \n",
    "</b> Внесла изменения во введение. </div>"
   ]
  },
  {
   "cell_type": "markdown",
   "metadata": {},
   "source": [
    "<div class=\"alert alert-block alert-success\">\n",
    "<b>Комментарий ревьюера V2(всё отлично):</b>\n",
    "Отличная работа! "
   ]
  },
  {
   "cell_type": "markdown",
   "metadata": {},
   "source": [
    "<div class=\"alert alert-block alert-success\">\n",
    "<s><b>Комментарий ревьюера (всё отлично):</b> \n",
    "Твой проект станет намного удобней в использовании, если ты добавишь интерактивное оглавление — с помощью гиперссылок или в плагине toc. Материал об этом есть в студенческом notion, для получения ссылки и доступа обратись к куратору.</s>"
   ]
  },
  {
   "cell_type": "markdown",
   "metadata": {},
   "source": [
    "<div class=\"alert alert-info\"> <b>Комментарий студента:</b> Включила через toc, надеюсь все верно поняла. В этом случае гиперссылки не нужны, или если я захочу ссылаться на какой-либо раздел, необходимо будет проставлять метки с id?</div>"
   ]
  },
  {
   "cell_type": "markdown",
   "metadata": {},
   "source": [
    "<div class=\"alert alert-block alert-success\">\n",
    "<b>Комментарий ревьюера V2(всё отлично):</b>\n",
    "Да, всё верно сделано. Ссылки телепортируют меня к необходимым разделам и гиперссылки не нужны :)"
   ]
  },
  {
   "cell_type": "markdown",
   "metadata": {},
   "source": [
    "## Изучение данных из файла  <a id='step_1'></a>"
   ]
  },
  {
   "cell_type": "markdown",
   "metadata": {},
   "source": [
    "Для первого знакомства с данными импортируем библиотеку `pandas` и сохраним предоставленные файлы в переменных."
   ]
  },
  {
   "cell_type": "code",
   "execution_count": 1,
   "metadata": {},
   "outputs": [],
   "source": [
    "import pandas as pd # импорт библиотеки pandas\n",
    "import matplotlib.pyplot as plt # импорт библиотеки matplotlib\n",
    "import math as mt # импорт модуля  math\n",
    "import numpy as np # импорт библиотеки numpy"
   ]
  },
  {
   "cell_type": "markdown",
   "metadata": {},
   "source": [
    "<div class=\"alert alert-block alert-success\">\n",
    "<b>Комментарий ревьюера (всё отлично):</b> \n",
    "Молодец, что загружаешь все библиотеки в начале проекта. Так сложней случайно удалить ячейку с загрузкой нужной библиотеки и сделать код не работающим. А получатель отчета сразу поймет, какие библиотеки ты используешь и какие ему нужно установить для запуска проекта.\n",
    "    \n",
    "Общепринятое сокращение для библиотеки math - mt :)"
   ]
  },
  {
   "cell_type": "code",
   "execution_count": 2,
   "metadata": {},
   "outputs": [
    {
     "data": {
      "text/html": [
       "<div>\n",
       "<style scoped>\n",
       "    .dataframe tbody tr th:only-of-type {\n",
       "        vertical-align: middle;\n",
       "    }\n",
       "\n",
       "    .dataframe tbody tr th {\n",
       "        vertical-align: top;\n",
       "    }\n",
       "\n",
       "    .dataframe thead th {\n",
       "        text-align: right;\n",
       "    }\n",
       "</style>\n",
       "<table border=\"1\" class=\"dataframe\">\n",
       "  <thead>\n",
       "    <tr style=\"text-align: right;\">\n",
       "      <th></th>\n",
       "      <th>id</th>\n",
       "      <th>call_date</th>\n",
       "      <th>duration</th>\n",
       "      <th>user_id</th>\n",
       "    </tr>\n",
       "  </thead>\n",
       "  <tbody>\n",
       "    <tr>\n",
       "      <th>0</th>\n",
       "      <td>1000_0</td>\n",
       "      <td>2018-07-25</td>\n",
       "      <td>0.00</td>\n",
       "      <td>1000</td>\n",
       "    </tr>\n",
       "    <tr>\n",
       "      <th>1</th>\n",
       "      <td>1000_1</td>\n",
       "      <td>2018-08-17</td>\n",
       "      <td>0.00</td>\n",
       "      <td>1000</td>\n",
       "    </tr>\n",
       "    <tr>\n",
       "      <th>2</th>\n",
       "      <td>1000_2</td>\n",
       "      <td>2018-06-11</td>\n",
       "      <td>2.85</td>\n",
       "      <td>1000</td>\n",
       "    </tr>\n",
       "    <tr>\n",
       "      <th>3</th>\n",
       "      <td>1000_3</td>\n",
       "      <td>2018-09-21</td>\n",
       "      <td>13.80</td>\n",
       "      <td>1000</td>\n",
       "    </tr>\n",
       "    <tr>\n",
       "      <th>4</th>\n",
       "      <td>1000_4</td>\n",
       "      <td>2018-12-15</td>\n",
       "      <td>5.18</td>\n",
       "      <td>1000</td>\n",
       "    </tr>\n",
       "  </tbody>\n",
       "</table>\n",
       "</div>"
      ],
      "text/plain": [
       "       id   call_date  duration  user_id\n",
       "0  1000_0  2018-07-25      0.00     1000\n",
       "1  1000_1  2018-08-17      0.00     1000\n",
       "2  1000_2  2018-06-11      2.85     1000\n",
       "3  1000_3  2018-09-21     13.80     1000\n",
       "4  1000_4  2018-12-15      5.18     1000"
      ]
     },
     "execution_count": 2,
     "metadata": {},
     "output_type": "execute_result"
    }
   ],
   "source": [
    "calls = pd.read_csv('/datasets/calls.csv') # чтение файла с данными и сохранение в `calls`\n",
    "calls.head() # получение первых 5 строк таблицы "
   ]
  },
  {
   "cell_type": "code",
   "execution_count": 3,
   "metadata": {},
   "outputs": [
    {
     "name": "stdout",
     "output_type": "stream",
     "text": [
      "<class 'pandas.core.frame.DataFrame'>\n",
      "RangeIndex: 202607 entries, 0 to 202606\n",
      "Data columns (total 4 columns):\n",
      " #   Column     Non-Null Count   Dtype  \n",
      "---  ------     --------------   -----  \n",
      " 0   id         202607 non-null  object \n",
      " 1   call_date  202607 non-null  object \n",
      " 2   duration   202607 non-null  float64\n",
      " 3   user_id    202607 non-null  int64  \n",
      "dtypes: float64(1), int64(1), object(2)\n",
      "memory usage: 6.2+ MB\n"
     ]
    }
   ],
   "source": [
    "calls.info() # получение общей информации о данных в таблице `calls`"
   ]
  },
  {
   "cell_type": "markdown",
   "metadata": {},
   "source": [
    "В таблице 4 столбца. Количество значений в столбцах не различается. Тип данных `float64(1)`, `int64(1)`, `object(2)`.\n",
    "\n",
    "Согласно документации к данным:\n",
    "* `id` — уникальный номер звонка;\n",
    "* `call_date` — дата звонка;\n",
    "* `duration` — длительность звонка в минутах;\n",
    "* `user_id` — идентификатор пользователя, сделавшего звонок."
   ]
  },
  {
   "cell_type": "code",
   "execution_count": 4,
   "metadata": {},
   "outputs": [
    {
     "data": {
      "text/html": [
       "<div>\n",
       "<style scoped>\n",
       "    .dataframe tbody tr th:only-of-type {\n",
       "        vertical-align: middle;\n",
       "    }\n",
       "\n",
       "    .dataframe tbody tr th {\n",
       "        vertical-align: top;\n",
       "    }\n",
       "\n",
       "    .dataframe thead th {\n",
       "        text-align: right;\n",
       "    }\n",
       "</style>\n",
       "<table border=\"1\" class=\"dataframe\">\n",
       "  <thead>\n",
       "    <tr style=\"text-align: right;\">\n",
       "      <th></th>\n",
       "      <th>id</th>\n",
       "      <th>message_date</th>\n",
       "      <th>user_id</th>\n",
       "    </tr>\n",
       "  </thead>\n",
       "  <tbody>\n",
       "    <tr>\n",
       "      <th>0</th>\n",
       "      <td>1000_0</td>\n",
       "      <td>2018-06-27</td>\n",
       "      <td>1000</td>\n",
       "    </tr>\n",
       "    <tr>\n",
       "      <th>1</th>\n",
       "      <td>1000_1</td>\n",
       "      <td>2018-10-08</td>\n",
       "      <td>1000</td>\n",
       "    </tr>\n",
       "    <tr>\n",
       "      <th>2</th>\n",
       "      <td>1000_2</td>\n",
       "      <td>2018-08-04</td>\n",
       "      <td>1000</td>\n",
       "    </tr>\n",
       "    <tr>\n",
       "      <th>3</th>\n",
       "      <td>1000_3</td>\n",
       "      <td>2018-06-16</td>\n",
       "      <td>1000</td>\n",
       "    </tr>\n",
       "    <tr>\n",
       "      <th>4</th>\n",
       "      <td>1000_4</td>\n",
       "      <td>2018-12-05</td>\n",
       "      <td>1000</td>\n",
       "    </tr>\n",
       "  </tbody>\n",
       "</table>\n",
       "</div>"
      ],
      "text/plain": [
       "       id message_date  user_id\n",
       "0  1000_0   2018-06-27     1000\n",
       "1  1000_1   2018-10-08     1000\n",
       "2  1000_2   2018-08-04     1000\n",
       "3  1000_3   2018-06-16     1000\n",
       "4  1000_4   2018-12-05     1000"
      ]
     },
     "execution_count": 4,
     "metadata": {},
     "output_type": "execute_result"
    }
   ],
   "source": [
    "messages = pd.read_csv('/datasets/messages.csv') # чтение файла с данными и сохранение в переменную\n",
    "messages.head() # получение первых 5 строк таблицы"
   ]
  },
  {
   "cell_type": "code",
   "execution_count": 5,
   "metadata": {},
   "outputs": [
    {
     "name": "stdout",
     "output_type": "stream",
     "text": [
      "<class 'pandas.core.frame.DataFrame'>\n",
      "RangeIndex: 123036 entries, 0 to 123035\n",
      "Data columns (total 3 columns):\n",
      " #   Column        Non-Null Count   Dtype \n",
      "---  ------        --------------   ----- \n",
      " 0   id            123036 non-null  object\n",
      " 1   message_date  123036 non-null  object\n",
      " 2   user_id       123036 non-null  int64 \n",
      "dtypes: int64(1), object(2)\n",
      "memory usage: 2.8+ MB\n"
     ]
    }
   ],
   "source": [
    "messages.info() # получение общей информации о данных в таблице"
   ]
  },
  {
   "cell_type": "markdown",
   "metadata": {},
   "source": [
    "В таблице три столбца, 123036 строк. Количество значений в столбцах не различается. Тип данных - `int64(1)`, `object(2)`.\n",
    "\n",
    "Согласно документации к данным:\n",
    "\n",
    "* `id` — уникальный номер сообщения\n",
    "* `message_date` — дата сообщения\n",
    "* `user_id` — идентификатор пользователя, отправившего сообщение"
   ]
  },
  {
   "cell_type": "code",
   "execution_count": 6,
   "metadata": {},
   "outputs": [
    {
     "data": {
      "text/html": [
       "<div>\n",
       "<style scoped>\n",
       "    .dataframe tbody tr th:only-of-type {\n",
       "        vertical-align: middle;\n",
       "    }\n",
       "\n",
       "    .dataframe tbody tr th {\n",
       "        vertical-align: top;\n",
       "    }\n",
       "\n",
       "    .dataframe thead th {\n",
       "        text-align: right;\n",
       "    }\n",
       "</style>\n",
       "<table border=\"1\" class=\"dataframe\">\n",
       "  <thead>\n",
       "    <tr style=\"text-align: right;\">\n",
       "      <th></th>\n",
       "      <th>Unnamed: 0</th>\n",
       "      <th>id</th>\n",
       "      <th>mb_used</th>\n",
       "      <th>session_date</th>\n",
       "      <th>user_id</th>\n",
       "    </tr>\n",
       "  </thead>\n",
       "  <tbody>\n",
       "    <tr>\n",
       "      <th>0</th>\n",
       "      <td>0</td>\n",
       "      <td>1000_0</td>\n",
       "      <td>112.95</td>\n",
       "      <td>2018-11-25</td>\n",
       "      <td>1000</td>\n",
       "    </tr>\n",
       "    <tr>\n",
       "      <th>1</th>\n",
       "      <td>1</td>\n",
       "      <td>1000_1</td>\n",
       "      <td>1052.81</td>\n",
       "      <td>2018-09-07</td>\n",
       "      <td>1000</td>\n",
       "    </tr>\n",
       "    <tr>\n",
       "      <th>2</th>\n",
       "      <td>2</td>\n",
       "      <td>1000_2</td>\n",
       "      <td>1197.26</td>\n",
       "      <td>2018-06-25</td>\n",
       "      <td>1000</td>\n",
       "    </tr>\n",
       "    <tr>\n",
       "      <th>3</th>\n",
       "      <td>3</td>\n",
       "      <td>1000_3</td>\n",
       "      <td>550.27</td>\n",
       "      <td>2018-08-22</td>\n",
       "      <td>1000</td>\n",
       "    </tr>\n",
       "    <tr>\n",
       "      <th>4</th>\n",
       "      <td>4</td>\n",
       "      <td>1000_4</td>\n",
       "      <td>302.56</td>\n",
       "      <td>2018-09-24</td>\n",
       "      <td>1000</td>\n",
       "    </tr>\n",
       "  </tbody>\n",
       "</table>\n",
       "</div>"
      ],
      "text/plain": [
       "   Unnamed: 0      id  mb_used session_date  user_id\n",
       "0           0  1000_0   112.95   2018-11-25     1000\n",
       "1           1  1000_1  1052.81   2018-09-07     1000\n",
       "2           2  1000_2  1197.26   2018-06-25     1000\n",
       "3           3  1000_3   550.27   2018-08-22     1000\n",
       "4           4  1000_4   302.56   2018-09-24     1000"
      ]
     },
     "execution_count": 6,
     "metadata": {},
     "output_type": "execute_result"
    }
   ],
   "source": [
    "internet = pd.read_csv('/datasets/internet.csv') # чтение файла с данными и сохранение в переменную\n",
    "internet.head()  # получение первых 5 строк таблицы"
   ]
  },
  {
   "cell_type": "code",
   "execution_count": 7,
   "metadata": {},
   "outputs": [
    {
     "name": "stdout",
     "output_type": "stream",
     "text": [
      "<class 'pandas.core.frame.DataFrame'>\n",
      "RangeIndex: 149396 entries, 0 to 149395\n",
      "Data columns (total 5 columns):\n",
      " #   Column        Non-Null Count   Dtype  \n",
      "---  ------        --------------   -----  \n",
      " 0   Unnamed: 0    149396 non-null  int64  \n",
      " 1   id            149396 non-null  object \n",
      " 2   mb_used       149396 non-null  float64\n",
      " 3   session_date  149396 non-null  object \n",
      " 4   user_id       149396 non-null  int64  \n",
      "dtypes: float64(1), int64(2), object(2)\n",
      "memory usage: 5.7+ MB\n"
     ]
    }
   ],
   "source": [
    "internet.info() # получение общей информации о данных в таблице"
   ]
  },
  {
   "cell_type": "markdown",
   "metadata": {},
   "source": [
    "В таблице 5 столбцов, 149396 строк.\n",
    "\n",
    "Согласно документации к данным:\n",
    "\n",
    "* `id` — уникальный номер сессии;\n",
    "* `mb_used` — объём потраченного за сессию интернет-трафика (в мегабайтах);\n",
    "* `session_date` — дата интернет-сессии;\n",
    "* `user_id` — идентификатор пользователя."
   ]
  },
  {
   "cell_type": "code",
   "execution_count": 8,
   "metadata": {},
   "outputs": [
    {
     "data": {
      "text/html": [
       "<div>\n",
       "<style scoped>\n",
       "    .dataframe tbody tr th:only-of-type {\n",
       "        vertical-align: middle;\n",
       "    }\n",
       "\n",
       "    .dataframe tbody tr th {\n",
       "        vertical-align: top;\n",
       "    }\n",
       "\n",
       "    .dataframe thead th {\n",
       "        text-align: right;\n",
       "    }\n",
       "</style>\n",
       "<table border=\"1\" class=\"dataframe\">\n",
       "  <thead>\n",
       "    <tr style=\"text-align: right;\">\n",
       "      <th></th>\n",
       "      <th>messages_included</th>\n",
       "      <th>mb_per_month_included</th>\n",
       "      <th>minutes_included</th>\n",
       "      <th>rub_monthly_fee</th>\n",
       "      <th>rub_per_gb</th>\n",
       "      <th>rub_per_message</th>\n",
       "      <th>rub_per_minute</th>\n",
       "      <th>tariff_name</th>\n",
       "    </tr>\n",
       "  </thead>\n",
       "  <tbody>\n",
       "    <tr>\n",
       "      <th>0</th>\n",
       "      <td>50</td>\n",
       "      <td>15360</td>\n",
       "      <td>500</td>\n",
       "      <td>550</td>\n",
       "      <td>200</td>\n",
       "      <td>3</td>\n",
       "      <td>3</td>\n",
       "      <td>smart</td>\n",
       "    </tr>\n",
       "    <tr>\n",
       "      <th>1</th>\n",
       "      <td>1000</td>\n",
       "      <td>30720</td>\n",
       "      <td>3000</td>\n",
       "      <td>1950</td>\n",
       "      <td>150</td>\n",
       "      <td>1</td>\n",
       "      <td>1</td>\n",
       "      <td>ultra</td>\n",
       "    </tr>\n",
       "  </tbody>\n",
       "</table>\n",
       "</div>"
      ],
      "text/plain": [
       "   messages_included  mb_per_month_included  minutes_included  \\\n",
       "0                 50                  15360               500   \n",
       "1               1000                  30720              3000   \n",
       "\n",
       "   rub_monthly_fee  rub_per_gb  rub_per_message  rub_per_minute tariff_name  \n",
       "0              550         200                3               3       smart  \n",
       "1             1950         150                1               1       ultra  "
      ]
     },
     "execution_count": 8,
     "metadata": {},
     "output_type": "execute_result"
    }
   ],
   "source": [
    "tariffs = pd.read_csv('/datasets/tariffs.csv') # чтение файла с данными и сохранение в переменную\n",
    "tariffs.head()  # получение первых 5 строк таблицы"
   ]
  },
  {
   "cell_type": "code",
   "execution_count": 9,
   "metadata": {},
   "outputs": [
    {
     "name": "stdout",
     "output_type": "stream",
     "text": [
      "<class 'pandas.core.frame.DataFrame'>\n",
      "RangeIndex: 2 entries, 0 to 1\n",
      "Data columns (total 8 columns):\n",
      " #   Column                 Non-Null Count  Dtype \n",
      "---  ------                 --------------  ----- \n",
      " 0   messages_included      2 non-null      int64 \n",
      " 1   mb_per_month_included  2 non-null      int64 \n",
      " 2   minutes_included       2 non-null      int64 \n",
      " 3   rub_monthly_fee        2 non-null      int64 \n",
      " 4   rub_per_gb             2 non-null      int64 \n",
      " 5   rub_per_message        2 non-null      int64 \n",
      " 6   rub_per_minute         2 non-null      int64 \n",
      " 7   tariff_name            2 non-null      object\n",
      "dtypes: int64(7), object(1)\n",
      "memory usage: 256.0+ bytes\n"
     ]
    }
   ],
   "source": [
    "tariffs.info() # получение общей информации о данных в таблице"
   ]
  },
  {
   "cell_type": "markdown",
   "metadata": {},
   "source": [
    "В таблице 8 столбцов и 2 строки. Тип данных - `int64(7)`, `object(1)`.\n",
    "\n",
    "Информация в колонках:\n",
    "\n",
    "* `tariff_name` — название тарифа;\n",
    "* `rub_monthly_fee` — ежемесячная абонентская плата в рублях;\n",
    "* `minutes_included` — количество минут разговора в месяц, включённых в абонентскую плату;\n",
    "* `messages_included` — количество сообщений в месяц, включённых в абонентскую плату;\n",
    "* `mb_per_month_included` — объём интернет-трафика, включённого в абонентскую плату (в мегабайтах);\n",
    "* `rub_per_minute` — стоимость минуты разговора сверх тарифного пакета (например, если в тарифе 100 минут разговора в месяц, то со 101 минуты будет взиматься плата);\n",
    "* `rub_per_message` — стоимость отправки сообщения сверх тарифного пакета;\n",
    "* `rub_per_gb` — стоимость дополнительного гигабайта интернет-трафика сверх тарифного пакета (1 гигабайт = 1024 мегабайта)."
   ]
  },
  {
   "cell_type": "code",
   "execution_count": 10,
   "metadata": {},
   "outputs": [
    {
     "data": {
      "text/html": [
       "<div>\n",
       "<style scoped>\n",
       "    .dataframe tbody tr th:only-of-type {\n",
       "        vertical-align: middle;\n",
       "    }\n",
       "\n",
       "    .dataframe tbody tr th {\n",
       "        vertical-align: top;\n",
       "    }\n",
       "\n",
       "    .dataframe thead th {\n",
       "        text-align: right;\n",
       "    }\n",
       "</style>\n",
       "<table border=\"1\" class=\"dataframe\">\n",
       "  <thead>\n",
       "    <tr style=\"text-align: right;\">\n",
       "      <th></th>\n",
       "      <th>user_id</th>\n",
       "      <th>age</th>\n",
       "      <th>churn_date</th>\n",
       "      <th>city</th>\n",
       "      <th>first_name</th>\n",
       "      <th>last_name</th>\n",
       "      <th>reg_date</th>\n",
       "      <th>tariff</th>\n",
       "    </tr>\n",
       "  </thead>\n",
       "  <tbody>\n",
       "    <tr>\n",
       "      <th>0</th>\n",
       "      <td>1000</td>\n",
       "      <td>52</td>\n",
       "      <td>NaN</td>\n",
       "      <td>Краснодар</td>\n",
       "      <td>Рафаил</td>\n",
       "      <td>Верещагин</td>\n",
       "      <td>2018-05-25</td>\n",
       "      <td>ultra</td>\n",
       "    </tr>\n",
       "    <tr>\n",
       "      <th>1</th>\n",
       "      <td>1001</td>\n",
       "      <td>41</td>\n",
       "      <td>NaN</td>\n",
       "      <td>Москва</td>\n",
       "      <td>Иван</td>\n",
       "      <td>Ежов</td>\n",
       "      <td>2018-11-01</td>\n",
       "      <td>smart</td>\n",
       "    </tr>\n",
       "    <tr>\n",
       "      <th>2</th>\n",
       "      <td>1002</td>\n",
       "      <td>59</td>\n",
       "      <td>NaN</td>\n",
       "      <td>Стерлитамак</td>\n",
       "      <td>Евгений</td>\n",
       "      <td>Абрамович</td>\n",
       "      <td>2018-06-17</td>\n",
       "      <td>smart</td>\n",
       "    </tr>\n",
       "    <tr>\n",
       "      <th>3</th>\n",
       "      <td>1003</td>\n",
       "      <td>23</td>\n",
       "      <td>NaN</td>\n",
       "      <td>Москва</td>\n",
       "      <td>Белла</td>\n",
       "      <td>Белякова</td>\n",
       "      <td>2018-08-17</td>\n",
       "      <td>ultra</td>\n",
       "    </tr>\n",
       "    <tr>\n",
       "      <th>4</th>\n",
       "      <td>1004</td>\n",
       "      <td>68</td>\n",
       "      <td>NaN</td>\n",
       "      <td>Новокузнецк</td>\n",
       "      <td>Татьяна</td>\n",
       "      <td>Авдеенко</td>\n",
       "      <td>2018-05-14</td>\n",
       "      <td>ultra</td>\n",
       "    </tr>\n",
       "  </tbody>\n",
       "</table>\n",
       "</div>"
      ],
      "text/plain": [
       "   user_id  age churn_date         city first_name  last_name    reg_date  \\\n",
       "0     1000   52        NaN    Краснодар     Рафаил  Верещагин  2018-05-25   \n",
       "1     1001   41        NaN       Москва       Иван       Ежов  2018-11-01   \n",
       "2     1002   59        NaN  Стерлитамак    Евгений  Абрамович  2018-06-17   \n",
       "3     1003   23        NaN       Москва      Белла   Белякова  2018-08-17   \n",
       "4     1004   68        NaN  Новокузнецк    Татьяна   Авдеенко  2018-05-14   \n",
       "\n",
       "  tariff  \n",
       "0  ultra  \n",
       "1  smart  \n",
       "2  smart  \n",
       "3  ultra  \n",
       "4  ultra  "
      ]
     },
     "execution_count": 10,
     "metadata": {},
     "output_type": "execute_result"
    }
   ],
   "source": [
    "users = pd.read_csv('/datasets/users.csv') # чтение файла с данными и сохранение в переменную\n",
    "users.head()  # получение первых 5 строк таблицы"
   ]
  },
  {
   "cell_type": "code",
   "execution_count": 11,
   "metadata": {},
   "outputs": [
    {
     "name": "stdout",
     "output_type": "stream",
     "text": [
      "<class 'pandas.core.frame.DataFrame'>\n",
      "RangeIndex: 500 entries, 0 to 499\n",
      "Data columns (total 8 columns):\n",
      " #   Column      Non-Null Count  Dtype \n",
      "---  ------      --------------  ----- \n",
      " 0   user_id     500 non-null    int64 \n",
      " 1   age         500 non-null    int64 \n",
      " 2   churn_date  38 non-null     object\n",
      " 3   city        500 non-null    object\n",
      " 4   first_name  500 non-null    object\n",
      " 5   last_name   500 non-null    object\n",
      " 6   reg_date    500 non-null    object\n",
      " 7   tariff      500 non-null    object\n",
      "dtypes: int64(2), object(6)\n",
      "memory usage: 31.4+ KB\n"
     ]
    }
   ],
   "source": [
    "users.info() # получение общей информации о данных в таблице"
   ]
  },
  {
   "cell_type": "markdown",
   "metadata": {},
   "source": [
    "В таблице 8 столбцов, тип данных `int64(2)`, `object(6)`. Количество значений в столбцах не различается, за исключением столбца `churn_date`. Пропуск в этом столбце означает, что тариф ещё действовал на момент выгрузки данных.\n",
    "\n",
    "Таблица `user` содержит следующую информацию о пользователях:\n",
    "\n",
    "* `user_id` — уникальный идентификатор пользователя;\n",
    "* `first_name` — имя пользователя;\n",
    "* `last_name` — фамилия пользователя;\n",
    "* `age` — возраст пользователя (годы);\n",
    "* `reg_date` — дата подключения тарифа (день, месяц, год);\n",
    "* `churn_date` — дата прекращения пользования тарифом (если значение пропущено, то тариф ещё действовал на момент выгрузки данных);\n",
    "* `city` — город проживания пользователя;\n",
    "* `tarif` — название тарифного плана."
   ]
  },
  {
   "cell_type": "markdown",
   "metadata": {},
   "source": [
    "### Вывод"
   ]
  },
  {
   "cell_type": "markdown",
   "metadata": {},
   "source": [
    "Итак, необходимая для исследования информация разбита на 5 таблиц: информация о звонках, смс, и расходовании трафика интернет, таблица с информацией о пользователях, а также таблица с характеристиками тарифов. В дальнейшем нам предстоит объединить данные в одну большую таблицу. Перед этим проверим данные на ошибки и аномалии. Приведем информацию в столбцах к нужным типам данных. Устраним пропуски, проверим на наличие дубликатов."
   ]
  },
  {
   "cell_type": "markdown",
   "metadata": {},
   "source": [
    "<div class=\"alert alert-block alert-success\">\n",
    "<b>Комментарий ревьюера (всё отлично):</b> \n",
    "Данные загружены и описаны. Для описания данных ты используешь метод info() - это оптимальный способ. 1 шаг проекта выполнен идеально!\n",
    "    \n",
    "</div>"
   ]
  },
  {
   "cell_type": "markdown",
   "metadata": {},
   "source": [
    "\n",
    "## Предобработка данных  <a id='step_2'></a>"
   ]
  },
  {
   "cell_type": "markdown",
   "metadata": {},
   "source": [
    "### Исправление заголовков  <a id='step_2.1'></a>"
   ]
  },
  {
   "cell_type": "markdown",
   "metadata": {},
   "source": [
    "Заголовки в таблицах оформленны без ошибок, но в трех таблицах содержится столбец с одинаковым названием id. Чтобы после объединения таблиц было читать таблицу, изменим названия этих столбцов."
   ]
  },
  {
   "cell_type": "code",
   "execution_count": 12,
   "metadata": {},
   "outputs": [
    {
     "data": {
      "text/html": [
       "<div>\n",
       "<style scoped>\n",
       "    .dataframe tbody tr th:only-of-type {\n",
       "        vertical-align: middle;\n",
       "    }\n",
       "\n",
       "    .dataframe tbody tr th {\n",
       "        vertical-align: top;\n",
       "    }\n",
       "\n",
       "    .dataframe thead th {\n",
       "        text-align: right;\n",
       "    }\n",
       "</style>\n",
       "<table border=\"1\" class=\"dataframe\">\n",
       "  <thead>\n",
       "    <tr style=\"text-align: right;\">\n",
       "      <th></th>\n",
       "      <th>id_call</th>\n",
       "      <th>call_date</th>\n",
       "      <th>duration</th>\n",
       "      <th>user_id</th>\n",
       "    </tr>\n",
       "  </thead>\n",
       "  <tbody>\n",
       "    <tr>\n",
       "      <th>0</th>\n",
       "      <td>1000_0</td>\n",
       "      <td>2018-07-25</td>\n",
       "      <td>0.00</td>\n",
       "      <td>1000</td>\n",
       "    </tr>\n",
       "    <tr>\n",
       "      <th>1</th>\n",
       "      <td>1000_1</td>\n",
       "      <td>2018-08-17</td>\n",
       "      <td>0.00</td>\n",
       "      <td>1000</td>\n",
       "    </tr>\n",
       "    <tr>\n",
       "      <th>2</th>\n",
       "      <td>1000_2</td>\n",
       "      <td>2018-06-11</td>\n",
       "      <td>2.85</td>\n",
       "      <td>1000</td>\n",
       "    </tr>\n",
       "    <tr>\n",
       "      <th>3</th>\n",
       "      <td>1000_3</td>\n",
       "      <td>2018-09-21</td>\n",
       "      <td>13.80</td>\n",
       "      <td>1000</td>\n",
       "    </tr>\n",
       "    <tr>\n",
       "      <th>4</th>\n",
       "      <td>1000_4</td>\n",
       "      <td>2018-12-15</td>\n",
       "      <td>5.18</td>\n",
       "      <td>1000</td>\n",
       "    </tr>\n",
       "  </tbody>\n",
       "</table>\n",
       "</div>"
      ],
      "text/plain": [
       "  id_call   call_date  duration  user_id\n",
       "0  1000_0  2018-07-25      0.00     1000\n",
       "1  1000_1  2018-08-17      0.00     1000\n",
       "2  1000_2  2018-06-11      2.85     1000\n",
       "3  1000_3  2018-09-21     13.80     1000\n",
       "4  1000_4  2018-12-15      5.18     1000"
      ]
     },
     "execution_count": 12,
     "metadata": {},
     "output_type": "execute_result"
    }
   ],
   "source": [
    "calls = calls.rename(columns={'id':'id_call'}) # переименование столбцов\n",
    "calls.head() # получение первых 5 строк таблицы"
   ]
  },
  {
   "cell_type": "code",
   "execution_count": 13,
   "metadata": {},
   "outputs": [
    {
     "data": {
      "text/html": [
       "<div>\n",
       "<style scoped>\n",
       "    .dataframe tbody tr th:only-of-type {\n",
       "        vertical-align: middle;\n",
       "    }\n",
       "\n",
       "    .dataframe tbody tr th {\n",
       "        vertical-align: top;\n",
       "    }\n",
       "\n",
       "    .dataframe thead th {\n",
       "        text-align: right;\n",
       "    }\n",
       "</style>\n",
       "<table border=\"1\" class=\"dataframe\">\n",
       "  <thead>\n",
       "    <tr style=\"text-align: right;\">\n",
       "      <th></th>\n",
       "      <th>id_message</th>\n",
       "      <th>message_date</th>\n",
       "      <th>user_id</th>\n",
       "    </tr>\n",
       "  </thead>\n",
       "  <tbody>\n",
       "    <tr>\n",
       "      <th>0</th>\n",
       "      <td>1000_0</td>\n",
       "      <td>2018-06-27</td>\n",
       "      <td>1000</td>\n",
       "    </tr>\n",
       "    <tr>\n",
       "      <th>1</th>\n",
       "      <td>1000_1</td>\n",
       "      <td>2018-10-08</td>\n",
       "      <td>1000</td>\n",
       "    </tr>\n",
       "    <tr>\n",
       "      <th>2</th>\n",
       "      <td>1000_2</td>\n",
       "      <td>2018-08-04</td>\n",
       "      <td>1000</td>\n",
       "    </tr>\n",
       "    <tr>\n",
       "      <th>3</th>\n",
       "      <td>1000_3</td>\n",
       "      <td>2018-06-16</td>\n",
       "      <td>1000</td>\n",
       "    </tr>\n",
       "    <tr>\n",
       "      <th>4</th>\n",
       "      <td>1000_4</td>\n",
       "      <td>2018-12-05</td>\n",
       "      <td>1000</td>\n",
       "    </tr>\n",
       "  </tbody>\n",
       "</table>\n",
       "</div>"
      ],
      "text/plain": [
       "  id_message message_date  user_id\n",
       "0     1000_0   2018-06-27     1000\n",
       "1     1000_1   2018-10-08     1000\n",
       "2     1000_2   2018-08-04     1000\n",
       "3     1000_3   2018-06-16     1000\n",
       "4     1000_4   2018-12-05     1000"
      ]
     },
     "execution_count": 13,
     "metadata": {},
     "output_type": "execute_result"
    }
   ],
   "source": [
    "messages = messages.rename(columns={'id':'id_message'}) # переименование столбцов\n",
    "messages.head() # получение первых 5 строк таблицы"
   ]
  },
  {
   "cell_type": "code",
   "execution_count": 14,
   "metadata": {},
   "outputs": [
    {
     "data": {
      "text/html": [
       "<div>\n",
       "<style scoped>\n",
       "    .dataframe tbody tr th:only-of-type {\n",
       "        vertical-align: middle;\n",
       "    }\n",
       "\n",
       "    .dataframe tbody tr th {\n",
       "        vertical-align: top;\n",
       "    }\n",
       "\n",
       "    .dataframe thead th {\n",
       "        text-align: right;\n",
       "    }\n",
       "</style>\n",
       "<table border=\"1\" class=\"dataframe\">\n",
       "  <thead>\n",
       "    <tr style=\"text-align: right;\">\n",
       "      <th></th>\n",
       "      <th>Unnamed: 0</th>\n",
       "      <th>id_internet</th>\n",
       "      <th>mb_used</th>\n",
       "      <th>session_date</th>\n",
       "      <th>user_id</th>\n",
       "    </tr>\n",
       "  </thead>\n",
       "  <tbody>\n",
       "    <tr>\n",
       "      <th>0</th>\n",
       "      <td>0</td>\n",
       "      <td>1000_0</td>\n",
       "      <td>112.95</td>\n",
       "      <td>2018-11-25</td>\n",
       "      <td>1000</td>\n",
       "    </tr>\n",
       "    <tr>\n",
       "      <th>1</th>\n",
       "      <td>1</td>\n",
       "      <td>1000_1</td>\n",
       "      <td>1052.81</td>\n",
       "      <td>2018-09-07</td>\n",
       "      <td>1000</td>\n",
       "    </tr>\n",
       "    <tr>\n",
       "      <th>2</th>\n",
       "      <td>2</td>\n",
       "      <td>1000_2</td>\n",
       "      <td>1197.26</td>\n",
       "      <td>2018-06-25</td>\n",
       "      <td>1000</td>\n",
       "    </tr>\n",
       "    <tr>\n",
       "      <th>3</th>\n",
       "      <td>3</td>\n",
       "      <td>1000_3</td>\n",
       "      <td>550.27</td>\n",
       "      <td>2018-08-22</td>\n",
       "      <td>1000</td>\n",
       "    </tr>\n",
       "    <tr>\n",
       "      <th>4</th>\n",
       "      <td>4</td>\n",
       "      <td>1000_4</td>\n",
       "      <td>302.56</td>\n",
       "      <td>2018-09-24</td>\n",
       "      <td>1000</td>\n",
       "    </tr>\n",
       "  </tbody>\n",
       "</table>\n",
       "</div>"
      ],
      "text/plain": [
       "   Unnamed: 0 id_internet  mb_used session_date  user_id\n",
       "0           0      1000_0   112.95   2018-11-25     1000\n",
       "1           1      1000_1  1052.81   2018-09-07     1000\n",
       "2           2      1000_2  1197.26   2018-06-25     1000\n",
       "3           3      1000_3   550.27   2018-08-22     1000\n",
       "4           4      1000_4   302.56   2018-09-24     1000"
      ]
     },
     "execution_count": 14,
     "metadata": {},
     "output_type": "execute_result"
    }
   ],
   "source": [
    "internet = internet.rename(columns={'id':'id_internet'}) # переименование столбцов\n",
    "internet.head() # получение первых 5 строк таблицы"
   ]
  },
  {
   "cell_type": "markdown",
   "metadata": {},
   "source": [
    "<div class=\"alert alert-block alert-success\">\n",
    "<b>Комментарий ревьюера (всё отлично):</b> \n",
    "Стало гораздо удобнее."
   ]
  },
  {
   "cell_type": "markdown",
   "metadata": {},
   "source": [
    "### Обработка пропусков  <a id='step_2.2'></a>"
   ]
  },
  {
   "cell_type": "code",
   "execution_count": 15,
   "metadata": {},
   "outputs": [
    {
     "data": {
      "text/plain": [
       "id_call      0.0\n",
       "call_date    0.0\n",
       "duration     0.0\n",
       "user_id      0.0\n",
       "dtype: float64"
      ]
     },
     "execution_count": 15,
     "metadata": {},
     "output_type": "execute_result"
    }
   ],
   "source": [
    "(calls.isna().mean()*100).round(1) # подсчёт пропусков"
   ]
  },
  {
   "cell_type": "code",
   "execution_count": 16,
   "metadata": {},
   "outputs": [
    {
     "data": {
      "text/plain": [
       "id_message      0.0\n",
       "message_date    0.0\n",
       "user_id         0.0\n",
       "dtype: float64"
      ]
     },
     "execution_count": 16,
     "metadata": {},
     "output_type": "execute_result"
    }
   ],
   "source": [
    "(messages.isna().mean()*100).round(1) # подсчёт пропусков"
   ]
  },
  {
   "cell_type": "code",
   "execution_count": 17,
   "metadata": {},
   "outputs": [
    {
     "data": {
      "text/plain": [
       "Unnamed: 0      0.0\n",
       "id_internet     0.0\n",
       "mb_used         0.0\n",
       "session_date    0.0\n",
       "user_id         0.0\n",
       "dtype: float64"
      ]
     },
     "execution_count": 17,
     "metadata": {},
     "output_type": "execute_result"
    }
   ],
   "source": [
    "(internet.isna().mean()*100).round(1) # подсчёт пропусков"
   ]
  },
  {
   "cell_type": "code",
   "execution_count": 18,
   "metadata": {},
   "outputs": [
    {
     "data": {
      "text/plain": [
       "user_id        0.0\n",
       "age            0.0\n",
       "churn_date    92.4\n",
       "city           0.0\n",
       "first_name     0.0\n",
       "last_name      0.0\n",
       "reg_date       0.0\n",
       "tariff         0.0\n",
       "dtype: float64"
      ]
     },
     "execution_count": 18,
     "metadata": {},
     "output_type": "execute_result"
    }
   ],
   "source": [
    "(users.isna().mean()*100).round(1) # подсчёт пропусков"
   ]
  },
  {
   "cell_type": "markdown",
   "metadata": {},
   "source": [
    "В столбце `churn_date` содержится информация о дате прекращения пользования тарифом (если значение пропущено, то тариф ещё действовал на момент выгрузки данных). В этом случае 92,4% пропусков не являются ошибкой. Заменим пропуски в этом столбце пустой строкой."
   ]
  },
  {
   "cell_type": "code",
   "execution_count": 19,
   "metadata": {},
   "outputs": [
    {
     "data": {
      "text/plain": [
       "messages_included        0.0\n",
       "mb_per_month_included    0.0\n",
       "minutes_included         0.0\n",
       "rub_monthly_fee          0.0\n",
       "rub_per_gb               0.0\n",
       "rub_per_message          0.0\n",
       "rub_per_minute           0.0\n",
       "tariff_name              0.0\n",
       "dtype: float64"
      ]
     },
     "execution_count": 19,
     "metadata": {},
     "output_type": "execute_result"
    }
   ],
   "source": [
    "(tariffs.isna().mean()*100).round(1) # подсчёт пропусков"
   ]
  },
  {
   "cell_type": "markdown",
   "metadata": {},
   "source": [
    "<div class=\"alert alert-block alert-success\">\n",
    "<b>Комментарий ревьюера (всё отлично):</b> \n",
    "Подсчет пропусков долями - восхитительно!"
   ]
  },
  {
   "cell_type": "markdown",
   "metadata": {},
   "source": [
    "<div class=\"alert alert-info\"> <b>Комментарий студента:</b> Спасибо, научили твои коллеги в одном из ревью ).</div>"
   ]
  },
  {
   "cell_type": "markdown",
   "metadata": {},
   "source": [
    "### Удаление дубликатов  <a id='step_2.3'></a>"
   ]
  },
  {
   "cell_type": "code",
   "execution_count": 20,
   "metadata": {},
   "outputs": [
    {
     "data": {
      "text/plain": [
       "0"
      ]
     },
     "execution_count": 20,
     "metadata": {},
     "output_type": "execute_result"
    }
   ],
   "source": [
    "calls.duplicated().sum() # проверка на отсутствие явных дубликатов"
   ]
  },
  {
   "cell_type": "code",
   "execution_count": 21,
   "metadata": {},
   "outputs": [
    {
     "data": {
      "text/plain": [
       "0"
      ]
     },
     "execution_count": 21,
     "metadata": {},
     "output_type": "execute_result"
    }
   ],
   "source": [
    "messages.duplicated().sum() # проверка на отсутствие явных дубликатов"
   ]
  },
  {
   "cell_type": "code",
   "execution_count": 22,
   "metadata": {},
   "outputs": [
    {
     "data": {
      "text/plain": [
       "0"
      ]
     },
     "execution_count": 22,
     "metadata": {},
     "output_type": "execute_result"
    }
   ],
   "source": [
    "internet.duplicated().sum() # проверка на отсутствие явных дубликатов"
   ]
  },
  {
   "cell_type": "code",
   "execution_count": 23,
   "metadata": {},
   "outputs": [
    {
     "data": {
      "text/plain": [
       "0"
      ]
     },
     "execution_count": 23,
     "metadata": {},
     "output_type": "execute_result"
    }
   ],
   "source": [
    "users.duplicated().sum() # проверка на отсутствие явных дубликатов"
   ]
  },
  {
   "cell_type": "code",
   "execution_count": 24,
   "metadata": {},
   "outputs": [
    {
     "data": {
      "text/plain": [
       "0"
      ]
     },
     "execution_count": 24,
     "metadata": {},
     "output_type": "execute_result"
    }
   ],
   "source": [
    "tariffs.duplicated().sum() # проверка на отсутствие явных дубликатов"
   ]
  },
  {
   "cell_type": "markdown",
   "metadata": {},
   "source": [
    "Явные дубликаты отсутствуют."
   ]
  },
  {
   "cell_type": "markdown",
   "metadata": {},
   "source": [
    "<div class=\"alert alert-block alert-success\">\n",
    "<b>Комментарий ревьюера (всё отлично):</b>\n",
    "Супер!"
   ]
  },
  {
   "cell_type": "markdown",
   "metadata": {},
   "source": [
    "### Проверка данных на аномалии и исправления  <a id='step_2.4'></a>"
   ]
  },
  {
   "cell_type": "markdown",
   "metadata": {},
   "source": [
    "#### В таблице `calls`  <a id='step_2.4.1'></a>"
   ]
  },
  {
   "cell_type": "code",
   "execution_count": 25,
   "metadata": {},
   "outputs": [
    {
     "data": {
      "text/plain": [
       "<AxesSubplot:>"
      ]
     },
     "execution_count": 25,
     "metadata": {},
     "output_type": "execute_result"
    },
    {
     "data": {
      "image/png": "[encoded data removed]",
      "text/plain": [
       "<Figure size 432x288 with 1 Axes>"
      ]
     },
     "metadata": {
      "needs_background": "light"
     },
     "output_type": "display_data"
    }
   ],
   "source": [
    "calls['user_id'].hist() # гистограмма для столбца 'user_id'"
   ]
  },
  {
   "cell_type": "code",
   "execution_count": 26,
   "metadata": {},
   "outputs": [
    {
     "data": {
      "text/plain": [
       "array([1000, 1001, 1002, 1003, 1004, 1005, 1006, 1007, 1008, 1009, 1010,\n",
       "       1011, 1012, 1013, 1014, 1015, 1016, 1017, 1018, 1019, 1020, 1021,\n",
       "       1022, 1023, 1024, 1025, 1026, 1027, 1028, 1029, 1030, 1031, 1032,\n",
       "       1033, 1034, 1035, 1036, 1037, 1038, 1039, 1040, 1041, 1042, 1043,\n",
       "       1044, 1045, 1046, 1047, 1048, 1049, 1050, 1051, 1052, 1053, 1054,\n",
       "       1055, 1056, 1057, 1058, 1059, 1060, 1061, 1062, 1063, 1064, 1065,\n",
       "       1066, 1067, 1068, 1069, 1070, 1071, 1072, 1073, 1074, 1075, 1076,\n",
       "       1077, 1078, 1079, 1080, 1081, 1082, 1083, 1084, 1085, 1086, 1087,\n",
       "       1088, 1089, 1090, 1092, 1093, 1094, 1095, 1096, 1097, 1098, 1099,\n",
       "       1100, 1101, 1102, 1103, 1104, 1105, 1107, 1108, 1109, 1110, 1111,\n",
       "       1112, 1113, 1114, 1115, 1116, 1117, 1118, 1119, 1120, 1121, 1122,\n",
       "       1123, 1124, 1125, 1126, 1127, 1129, 1130, 1131, 1132, 1133, 1134,\n",
       "       1135, 1136, 1137, 1138, 1139, 1140, 1141, 1142, 1143, 1144, 1145,\n",
       "       1146, 1147, 1148, 1149, 1150, 1151, 1152, 1153, 1154, 1155, 1156,\n",
       "       1157, 1158, 1159, 1160, 1161, 1162, 1163, 1164, 1165, 1166, 1167,\n",
       "       1168, 1169, 1170, 1171, 1172, 1173, 1174, 1175, 1176, 1177, 1178,\n",
       "       1179, 1180, 1181, 1182, 1183, 1184, 1185, 1186, 1187, 1188, 1189,\n",
       "       1190, 1191, 1192, 1193, 1194, 1195, 1196, 1197, 1198, 1199, 1200,\n",
       "       1201, 1202, 1203, 1204, 1205, 1206, 1207, 1208, 1209, 1210, 1211,\n",
       "       1212, 1213, 1214, 1215, 1216, 1217, 1218, 1219, 1220, 1221, 1222,\n",
       "       1223, 1224, 1225, 1226, 1227, 1228, 1229, 1230, 1232, 1233, 1234,\n",
       "       1235, 1236, 1237, 1238, 1239, 1240, 1241, 1242, 1243, 1244, 1245,\n",
       "       1246, 1247, 1248, 1249, 1250, 1251, 1252, 1253, 1254, 1255, 1256,\n",
       "       1257, 1258, 1259, 1260, 1261, 1262, 1263, 1264, 1265, 1266, 1267,\n",
       "       1268, 1269, 1270, 1271, 1272, 1273, 1274, 1275, 1276, 1277, 1278,\n",
       "       1279, 1280, 1281, 1282, 1283, 1284, 1285, 1286, 1287, 1288, 1289,\n",
       "       1290, 1291, 1292, 1293, 1294, 1295, 1296, 1297, 1298, 1299, 1300,\n",
       "       1301, 1302, 1303, 1304, 1305, 1306, 1307, 1308, 1309, 1310, 1311,\n",
       "       1312, 1313, 1314, 1315, 1316, 1317, 1318, 1319, 1320, 1321, 1322,\n",
       "       1323, 1324, 1325, 1326, 1327, 1329, 1330, 1331, 1332, 1333, 1334,\n",
       "       1335, 1336, 1337, 1338, 1339, 1340, 1341, 1342, 1343, 1344, 1345,\n",
       "       1346, 1347, 1348, 1349, 1350, 1351, 1352, 1353, 1354, 1355, 1356,\n",
       "       1357, 1358, 1359, 1360, 1361, 1362, 1363, 1364, 1365, 1366, 1367,\n",
       "       1368, 1369, 1370, 1372, 1373, 1374, 1375, 1376, 1377, 1378, 1379,\n",
       "       1380, 1381, 1382, 1383, 1384, 1385, 1386, 1387, 1388, 1389, 1390,\n",
       "       1391, 1392, 1393, 1394, 1395, 1396, 1397, 1398, 1399, 1400, 1401,\n",
       "       1402, 1403, 1404, 1405, 1406, 1407, 1408, 1409, 1410, 1411, 1412,\n",
       "       1413, 1414, 1415, 1416, 1417, 1418, 1419, 1420, 1421, 1422, 1423,\n",
       "       1424, 1425, 1426, 1427, 1428, 1429, 1430, 1431, 1432, 1433, 1434,\n",
       "       1435, 1436, 1437, 1438, 1439, 1440, 1441, 1442, 1443, 1444, 1445,\n",
       "       1446, 1447, 1448, 1449, 1450, 1451, 1452, 1453, 1454, 1455, 1456,\n",
       "       1457, 1458, 1459, 1460, 1461, 1462, 1463, 1464, 1465, 1466, 1467,\n",
       "       1468, 1469, 1470, 1471, 1472, 1474, 1475, 1476, 1477, 1478, 1479,\n",
       "       1480, 1481, 1482, 1483, 1484, 1485, 1486, 1487, 1488, 1490, 1491,\n",
       "       1492, 1493, 1494, 1495, 1496, 1497, 1498, 1499])"
      ]
     },
     "execution_count": 26,
     "metadata": {},
     "output_type": "execute_result"
    }
   ],
   "source": [
    "calls['user_id'].unique() # просмотр уникальных значений столбца 'user_id'"
   ]
  },
  {
   "cell_type": "code",
   "execution_count": 27,
   "metadata": {},
   "outputs": [
    {
     "data": {
      "text/plain": [
       "array(['1000_0', '1000_1', '1000_2', ..., '1499_217', '1499_218',\n",
       "       '1499_219'], dtype=object)"
      ]
     },
     "execution_count": 27,
     "metadata": {},
     "output_type": "execute_result"
    }
   ],
   "source": [
    "calls['id_call'].unique() # просмотр уникальных значений"
   ]
  },
  {
   "cell_type": "code",
   "execution_count": 28,
   "metadata": {},
   "outputs": [],
   "source": [
    "calls['call_date'] = pd.to_datetime(calls['call_date'], format='%Y-%m-%d') #  перевод значений из object в datetime64"
   ]
  },
  {
   "cell_type": "code",
   "execution_count": 29,
   "metadata": {},
   "outputs": [
    {
     "data": {
      "text/plain": [
       "<AxesSubplot:>"
      ]
     },
     "execution_count": 29,
     "metadata": {},
     "output_type": "execute_result"
    },
    {
     "data": {
      "image/png": "[encoded data removed]",
      "text/plain": [
       "<Figure size 432x288 with 1 Axes>"
      ]
     },
     "metadata": {
      "needs_background": "light"
     },
     "output_type": "display_data"
    }
   ],
   "source": [
    "calls['call_date'].hist(bins=12) # гистограмма для столбца 'call_date'"
   ]
  },
  {
   "cell_type": "markdown",
   "metadata": {},
   "source": [
    "Данные в таблице представлены за 2018 год. Т.е. с 01.01.2018г. по 31.12.2018г. Мы видим, что количество звонков постепенно увеличивалось в течение года."
   ]
  },
  {
   "cell_type": "code",
   "execution_count": 30,
   "metadata": {},
   "outputs": [
    {
     "data": {
      "text/plain": [
       "count    202607.000000\n",
       "mean          6.755887\n",
       "std           5.843365\n",
       "min           0.000000\n",
       "25%           1.300000\n",
       "50%           6.000000\n",
       "75%          10.700000\n",
       "max          38.000000\n",
       "Name: duration, dtype: float64"
      ]
     },
     "execution_count": 30,
     "metadata": {},
     "output_type": "execute_result"
    },
    {
     "data": {
      "image/png": "[encoded data removed]",
      "text/plain": [
       "<Figure size 432x288 with 1 Axes>"
      ]
     },
     "metadata": {
      "needs_background": "light"
     },
     "output_type": "display_data"
    }
   ],
   "source": [
    "calls['duration'].hist() # гистограмма для столбца 'duration'\n",
    "calls['duration'].describe() # получение списка характерных значений"
   ]
  },
  {
   "cell_type": "markdown",
   "metadata": {},
   "source": [
    "На гистограмме видны звонки с нулевой продолжительностью. Это не ошибка: нулями обозначены пропущенные звонки, поэтому их не нужно удалять."
   ]
  },
  {
   "cell_type": "code",
   "execution_count": 31,
   "metadata": {},
   "outputs": [
    {
     "data": {
      "text/plain": [
       "<AxesSubplot:>"
      ]
     },
     "execution_count": 31,
     "metadata": {},
     "output_type": "execute_result"
    },
    {
     "data": {
      "image/png": "[encoded data removed]",
      "text/plain": [
       "<Figure size 432x288 with 1 Axes>"
      ]
     },
     "metadata": {
      "needs_background": "light"
     },
     "output_type": "display_data"
    }
   ],
   "source": [
    "calls.boxplot('duration') # построение диаграммы размаха"
   ]
  },
  {
   "cell_type": "markdown",
   "metadata": {},
   "source": [
    "Звонки, продолжительностью более 25 мин. являются выбросами."
   ]
  },
  {
   "cell_type": "code",
   "execution_count": 32,
   "metadata": {},
   "outputs": [
    {
     "data": {
      "text/plain": [
       "0.3346379937514498"
      ]
     },
     "execution_count": 32,
     "metadata": {},
     "output_type": "execute_result"
    }
   ],
   "source": [
    "len(calls[calls['duration'] >25])/ len(calls)*100 # подсчет количества выбросов"
   ]
  },
  {
   "cell_type": "markdown",
   "metadata": {},
   "source": [
    "Строки с выбросами по длительности звонка составляют 0,33% датафрейма."
   ]
  },
  {
   "cell_type": "code",
   "execution_count": 33,
   "metadata": {},
   "outputs": [
    {
     "data": {
      "text/plain": [
       "count    201925.000000\n",
       "mean          6.687036\n",
       "std           5.730347\n",
       "min           0.000000\n",
       "25%           1.280000\n",
       "50%           5.970000\n",
       "75%          10.640000\n",
       "max          24.990000\n",
       "Name: duration, dtype: float64"
      ]
     },
     "execution_count": 33,
     "metadata": {},
     "output_type": "execute_result"
    },
    {
     "data": {
      "image/png": "[encoded data removed]",
      "text/plain": [
       "<Figure size 432x288 with 1 Axes>"
      ]
     },
     "metadata": {
      "needs_background": "light"
     },
     "output_type": "display_data"
    }
   ],
   "source": [
    "calls = calls.query('duration < 25') # построение среза и запись результата в переменную calls\n",
    "calls['duration'].hist() # построение гистограммы\n",
    "calls['duration'].describe() # получение списка характерных значений"
   ]
  },
  {
   "cell_type": "markdown",
   "metadata": {},
   "source": [
    "#### В таблице `messages`  <a id='step_2.4.2'></a>"
   ]
  },
  {
   "cell_type": "code",
   "execution_count": 34,
   "metadata": {},
   "outputs": [
    {
     "data": {
      "text/plain": [
       "array(['1000_0', '1000_1', '1000_2', ..., '1499_181', '1499_182',\n",
       "       '1499_183'], dtype=object)"
      ]
     },
     "execution_count": 34,
     "metadata": {},
     "output_type": "execute_result"
    }
   ],
   "source": [
    "messages['id_message'].unique() # просмотр уникальных значений столбца 'id_message'"
   ]
  },
  {
   "cell_type": "code",
   "execution_count": 35,
   "metadata": {},
   "outputs": [],
   "source": [
    "messages['message_date'] = pd.to_datetime(messages['message_date'], format='%Y-%m-%d')  # перевод значений из object в datetime64"
   ]
  },
  {
   "cell_type": "code",
   "execution_count": 36,
   "metadata": {},
   "outputs": [
    {
     "data": {
      "text/plain": [
       "<AxesSubplot:>"
      ]
     },
     "execution_count": 36,
     "metadata": {},
     "output_type": "execute_result"
    },
    {
     "data": {
      "image/png": "[encoded data removed]",
      "text/plain": [
       "<Figure size 432x288 with 1 Axes>"
      ]
     },
     "metadata": {
      "needs_background": "light"
     },
     "output_type": "display_data"
    }
   ],
   "source": [
    "messages['message_date'].hist() # гистограмма столбца 'message_date'"
   ]
  },
  {
   "cell_type": "code",
   "execution_count": 37,
   "metadata": {},
   "outputs": [
    {
     "data": {
      "text/plain": [
       "id_message              object\n",
       "message_date    datetime64[ns]\n",
       "user_id                  int64\n",
       "dtype: object"
      ]
     },
     "execution_count": 37,
     "metadata": {},
     "output_type": "execute_result"
    }
   ],
   "source": [
    "messages.dtypes # просмотр типов данных в столбцах"
   ]
  },
  {
   "cell_type": "code",
   "execution_count": 38,
   "metadata": {},
   "outputs": [
    {
     "data": {
      "text/plain": [
       "array([1000, 1002, 1003, 1004, 1005, 1007, 1008, 1009, 1011, 1012, 1013,\n",
       "       1014, 1015, 1016, 1018, 1019, 1020, 1021, 1022, 1023, 1025, 1026,\n",
       "       1027, 1028, 1029, 1030, 1031, 1032, 1033, 1034, 1035, 1036, 1037,\n",
       "       1038, 1039, 1041, 1042, 1043, 1044, 1045, 1046, 1047, 1048, 1050,\n",
       "       1051, 1052, 1054, 1055, 1056, 1057, 1058, 1059, 1060, 1061, 1062,\n",
       "       1064, 1065, 1066, 1067, 1068, 1069, 1070, 1071, 1072, 1073, 1074,\n",
       "       1075, 1076, 1077, 1079, 1080, 1081, 1082, 1083, 1084, 1086, 1087,\n",
       "       1088, 1089, 1090, 1091, 1092, 1093, 1094, 1096, 1097, 1098, 1099,\n",
       "       1100, 1102, 1103, 1104, 1105, 1106, 1108, 1109, 1110, 1111, 1112,\n",
       "       1113, 1115, 1119, 1121, 1122, 1123, 1124, 1125, 1126, 1127, 1130,\n",
       "       1131, 1133, 1134, 1135, 1136, 1137, 1138, 1139, 1140, 1141, 1142,\n",
       "       1144, 1145, 1146, 1147, 1148, 1149, 1150, 1151, 1154, 1155, 1156,\n",
       "       1158, 1159, 1160, 1161, 1163, 1164, 1165, 1166, 1167, 1168, 1169,\n",
       "       1170, 1171, 1172, 1173, 1174, 1176, 1178, 1180, 1181, 1182, 1183,\n",
       "       1184, 1186, 1187, 1188, 1189, 1190, 1191, 1192, 1193, 1194, 1196,\n",
       "       1197, 1198, 1199, 1200, 1202, 1203, 1205, 1206, 1207, 1209, 1211,\n",
       "       1212, 1213, 1214, 1215, 1216, 1217, 1218, 1219, 1221, 1222, 1223,\n",
       "       1226, 1227, 1229, 1230, 1231, 1232, 1233, 1234, 1235, 1236, 1237,\n",
       "       1238, 1239, 1241, 1243, 1244, 1245, 1246, 1247, 1249, 1250, 1251,\n",
       "       1252, 1253, 1256, 1257, 1258, 1259, 1261, 1262, 1263, 1264, 1265,\n",
       "       1266, 1267, 1268, 1269, 1270, 1271, 1272, 1273, 1274, 1275, 1276,\n",
       "       1277, 1278, 1279, 1280, 1281, 1282, 1283, 1284, 1285, 1286, 1287,\n",
       "       1288, 1289, 1293, 1294, 1295, 1296, 1298, 1299, 1300, 1302, 1303,\n",
       "       1304, 1307, 1308, 1309, 1310, 1311, 1312, 1313, 1314, 1315, 1316,\n",
       "       1317, 1318, 1319, 1320, 1321, 1323, 1324, 1325, 1326, 1327, 1328,\n",
       "       1329, 1330, 1331, 1332, 1333, 1335, 1336, 1337, 1338, 1340, 1341,\n",
       "       1342, 1343, 1344, 1345, 1346, 1347, 1348, 1349, 1350, 1351, 1352,\n",
       "       1353, 1354, 1355, 1356, 1357, 1358, 1359, 1361, 1362, 1364, 1365,\n",
       "       1366, 1368, 1369, 1372, 1373, 1374, 1375, 1377, 1378, 1379, 1380,\n",
       "       1381, 1382, 1383, 1384, 1385, 1386, 1387, 1389, 1390, 1391, 1392,\n",
       "       1393, 1394, 1395, 1396, 1398, 1399, 1400, 1401, 1402, 1403, 1404,\n",
       "       1405, 1406, 1407, 1408, 1409, 1410, 1411, 1412, 1413, 1414, 1415,\n",
       "       1416, 1417, 1418, 1419, 1420, 1421, 1422, 1423, 1424, 1425, 1426,\n",
       "       1427, 1430, 1431, 1432, 1433, 1434, 1436, 1437, 1438, 1439, 1440,\n",
       "       1441, 1443, 1444, 1445, 1446, 1447, 1448, 1449, 1450, 1451, 1452,\n",
       "       1453, 1454, 1455, 1457, 1458, 1459, 1460, 1461, 1463, 1464, 1465,\n",
       "       1467, 1468, 1470, 1471, 1472, 1473, 1474, 1475, 1476, 1477, 1478,\n",
       "       1480, 1481, 1482, 1483, 1484, 1485, 1486, 1487, 1488, 1489, 1490,\n",
       "       1491, 1492, 1493, 1495, 1496, 1497, 1498, 1499])"
      ]
     },
     "execution_count": 38,
     "metadata": {},
     "output_type": "execute_result"
    }
   ],
   "source": [
    "messages['user_id'].unique() # просмотр уникальных значений столбца 'user_id'"
   ]
  },
  {
   "cell_type": "markdown",
   "metadata": {},
   "source": [
    "#### В таблице `internet`  <a id='step_2.4.3'></a>"
   ]
  },
  {
   "cell_type": "code",
   "execution_count": 39,
   "metadata": {},
   "outputs": [
    {
     "data": {
      "text/plain": [
       "count    149396.000000\n",
       "mean        370.192426\n",
       "std         278.300951\n",
       "min           0.000000\n",
       "25%         138.187500\n",
       "50%         348.015000\n",
       "75%         559.552500\n",
       "max        1724.830000\n",
       "Name: mb_used, dtype: float64"
      ]
     },
     "execution_count": 39,
     "metadata": {},
     "output_type": "execute_result"
    },
    {
     "data": {
      "image/png": "[encoded data removed]",
      "text/plain": [
       "<Figure size 432x288 with 1 Axes>"
      ]
     },
     "metadata": {
      "needs_background": "light"
     },
     "output_type": "display_data"
    }
   ],
   "source": [
    "internet['mb_used'].hist() # гистограмма столбца 'mb_used'\n",
    "internet['mb_used'].describe() # получение списка характерных значений"
   ]
  },
  {
   "cell_type": "code",
   "execution_count": 40,
   "metadata": {},
   "outputs": [
    {
     "data": {
      "text/plain": [
       "<AxesSubplot:>"
      ]
     },
     "execution_count": 40,
     "metadata": {},
     "output_type": "execute_result"
    },
    {
     "data": {
      "image/png": "[encoded data removed]",
      "text/plain": [
       "<Figure size 432x288 with 1 Axes>"
      ]
     },
     "metadata": {
      "needs_background": "light"
     },
     "output_type": "display_data"
    }
   ],
   "source": [
    "internet.boxplot('mb_used') # построение диаграммы размаха"
   ]
  },
  {
   "cell_type": "markdown",
   "metadata": {},
   "source": [
    "С отметки в 1200 мб. начинаются выбросы. Избавимся от них."
   ]
  },
  {
   "cell_type": "code",
   "execution_count": 41,
   "metadata": {},
   "outputs": [],
   "source": [
    "internet = internet.query('mb_used < 1200 ') # построение среза и запись результата в переменную internet"
   ]
  },
  {
   "cell_type": "code",
   "execution_count": 42,
   "metadata": {},
   "outputs": [
    {
     "data": {
      "text/plain": [
       "count    148902.000000\n",
       "mean        367.103988\n",
       "std         273.484912\n",
       "min           0.000000\n",
       "25%         137.280000\n",
       "50%         346.775000\n",
       "75%         557.200000\n",
       "max        1199.870000\n",
       "Name: mb_used, dtype: float64"
      ]
     },
     "execution_count": 42,
     "metadata": {},
     "output_type": "execute_result"
    },
    {
     "data": {
      "image/png": "[encoded data removed]",
      "text/plain": [
       "<Figure size 432x288 with 1 Axes>"
      ]
     },
     "metadata": {
      "needs_background": "light"
     },
     "output_type": "display_data"
    }
   ],
   "source": [
    "internet['mb_used'].hist() # построение гистограммы\n",
    "internet['mb_used'].describe() # получение списка характерных значений"
   ]
  },
  {
   "cell_type": "code",
   "execution_count": 43,
   "metadata": {},
   "outputs": [
    {
     "data": {
      "text/plain": [
       "<AxesSubplot:>"
      ]
     },
     "execution_count": 43,
     "metadata": {},
     "output_type": "execute_result"
    },
    {
     "data": {
      "image/png": "[encoded data removed]",
      "text/plain": [
       "<Figure size 432x288 with 1 Axes>"
      ]
     },
     "metadata": {
      "needs_background": "light"
     },
     "output_type": "display_data"
    }
   ],
   "source": [
    "internet.boxplot('mb_used') # построение диаграммы размаха"
   ]
  },
  {
   "cell_type": "code",
   "execution_count": 44,
   "metadata": {},
   "outputs": [
    {
     "data": {
      "text/html": [
       "<div>\n",
       "<style scoped>\n",
       "    .dataframe tbody tr th:only-of-type {\n",
       "        vertical-align: middle;\n",
       "    }\n",
       "\n",
       "    .dataframe tbody tr th {\n",
       "        vertical-align: top;\n",
       "    }\n",
       "\n",
       "    .dataframe thead th {\n",
       "        text-align: right;\n",
       "    }\n",
       "</style>\n",
       "<table border=\"1\" class=\"dataframe\">\n",
       "  <thead>\n",
       "    <tr style=\"text-align: right;\">\n",
       "      <th></th>\n",
       "      <th>Unnamed: 0</th>\n",
       "      <th>id_internet</th>\n",
       "      <th>mb_used</th>\n",
       "      <th>session_date</th>\n",
       "      <th>user_id</th>\n",
       "    </tr>\n",
       "  </thead>\n",
       "  <tbody>\n",
       "    <tr>\n",
       "      <th>0</th>\n",
       "      <td>0</td>\n",
       "      <td>1000_0</td>\n",
       "      <td>112.95</td>\n",
       "      <td>2018-11-25</td>\n",
       "      <td>1000</td>\n",
       "    </tr>\n",
       "    <tr>\n",
       "      <th>1</th>\n",
       "      <td>1</td>\n",
       "      <td>1000_1</td>\n",
       "      <td>1052.81</td>\n",
       "      <td>2018-09-07</td>\n",
       "      <td>1000</td>\n",
       "    </tr>\n",
       "    <tr>\n",
       "      <th>2</th>\n",
       "      <td>2</td>\n",
       "      <td>1000_2</td>\n",
       "      <td>1197.26</td>\n",
       "      <td>2018-06-25</td>\n",
       "      <td>1000</td>\n",
       "    </tr>\n",
       "    <tr>\n",
       "      <th>3</th>\n",
       "      <td>3</td>\n",
       "      <td>1000_3</td>\n",
       "      <td>550.27</td>\n",
       "      <td>2018-08-22</td>\n",
       "      <td>1000</td>\n",
       "    </tr>\n",
       "    <tr>\n",
       "      <th>4</th>\n",
       "      <td>4</td>\n",
       "      <td>1000_4</td>\n",
       "      <td>302.56</td>\n",
       "      <td>2018-09-24</td>\n",
       "      <td>1000</td>\n",
       "    </tr>\n",
       "  </tbody>\n",
       "</table>\n",
       "</div>"
      ],
      "text/plain": [
       "   Unnamed: 0 id_internet  mb_used session_date  user_id\n",
       "0           0      1000_0   112.95   2018-11-25     1000\n",
       "1           1      1000_1  1052.81   2018-09-07     1000\n",
       "2           2      1000_2  1197.26   2018-06-25     1000\n",
       "3           3      1000_3   550.27   2018-08-22     1000\n",
       "4           4      1000_4   302.56   2018-09-24     1000"
      ]
     },
     "execution_count": 44,
     "metadata": {},
     "output_type": "execute_result"
    }
   ],
   "source": [
    "internet.head() # получение первых 5 строк таблицы"
   ]
  },
  {
   "cell_type": "code",
   "execution_count": 45,
   "metadata": {},
   "outputs": [],
   "source": [
    "#  перевод значений из object в datetime64\n",
    "internet['session_date'] = pd.to_datetime(internet['session_date'], format='%Y-%m-%d')"
   ]
  },
  {
   "cell_type": "code",
   "execution_count": 46,
   "metadata": {},
   "outputs": [
    {
     "data": {
      "text/plain": [
       "Unnamed: 0               int64\n",
       "id_internet             object\n",
       "mb_used                float64\n",
       "session_date    datetime64[ns]\n",
       "user_id                  int64\n",
       "dtype: object"
      ]
     },
     "execution_count": 46,
     "metadata": {},
     "output_type": "execute_result"
    }
   ],
   "source": [
    "internet.dtypes # просмотр типов данных в столбцах"
   ]
  },
  {
   "cell_type": "code",
   "execution_count": 47,
   "metadata": {},
   "outputs": [
    {
     "data": {
      "text/plain": [
       "<AxesSubplot:>"
      ]
     },
     "execution_count": 47,
     "metadata": {},
     "output_type": "execute_result"
    },
    {
     "data": {
      "image/png": "[encoded data removed]",
      "text/plain": [
       "<Figure size 432x288 with 1 Axes>"
      ]
     },
     "metadata": {
      "needs_background": "light"
     },
     "output_type": "display_data"
    }
   ],
   "source": [
    "internet['session_date'].hist() # построение гистограммы"
   ]
  },
  {
   "cell_type": "code",
   "execution_count": 48,
   "metadata": {},
   "outputs": [
    {
     "data": {
      "text/plain": [
       "array([1000, 1001, 1002, 1003, 1004, 1005, 1006, 1007, 1008, 1009, 1010,\n",
       "       1011, 1012, 1013, 1014, 1015, 1016, 1017, 1018, 1019, 1020, 1021,\n",
       "       1022, 1023, 1024, 1025, 1026, 1027, 1028, 1029, 1030, 1031, 1032,\n",
       "       1033, 1034, 1035, 1036, 1037, 1038, 1039, 1040, 1041, 1042, 1043,\n",
       "       1044, 1045, 1046, 1047, 1048, 1049, 1050, 1051, 1052, 1053, 1054,\n",
       "       1055, 1056, 1057, 1058, 1059, 1060, 1061, 1062, 1063, 1064, 1065,\n",
       "       1066, 1067, 1068, 1069, 1070, 1071, 1072, 1073, 1074, 1075, 1076,\n",
       "       1077, 1078, 1079, 1080, 1081, 1082, 1083, 1084, 1085, 1086, 1087,\n",
       "       1088, 1089, 1090, 1091, 1092, 1093, 1094, 1095, 1096, 1097, 1098,\n",
       "       1099, 1100, 1101, 1102, 1103, 1104, 1105, 1106, 1107, 1108, 1109,\n",
       "       1110, 1111, 1112, 1113, 1114, 1115, 1116, 1117, 1118, 1119, 1120,\n",
       "       1121, 1122, 1123, 1124, 1125, 1126, 1127, 1129, 1130, 1131, 1132,\n",
       "       1133, 1134, 1135, 1136, 1137, 1138, 1139, 1140, 1141, 1142, 1143,\n",
       "       1144, 1145, 1146, 1147, 1148, 1149, 1150, 1151, 1152, 1153, 1154,\n",
       "       1155, 1156, 1157, 1158, 1159, 1160, 1161, 1162, 1163, 1164, 1165,\n",
       "       1166, 1167, 1168, 1169, 1170, 1171, 1172, 1173, 1174, 1175, 1176,\n",
       "       1177, 1178, 1179, 1180, 1181, 1182, 1183, 1184, 1185, 1186, 1187,\n",
       "       1188, 1189, 1190, 1191, 1192, 1193, 1194, 1195, 1196, 1197, 1198,\n",
       "       1199, 1200, 1201, 1202, 1203, 1204, 1205, 1206, 1207, 1208, 1209,\n",
       "       1210, 1211, 1212, 1213, 1214, 1215, 1216, 1217, 1218, 1219, 1220,\n",
       "       1221, 1222, 1223, 1224, 1225, 1226, 1227, 1228, 1229, 1230, 1231,\n",
       "       1232, 1233, 1234, 1235, 1236, 1237, 1238, 1239, 1240, 1241, 1242,\n",
       "       1243, 1244, 1245, 1246, 1247, 1248, 1249, 1250, 1251, 1252, 1253,\n",
       "       1254, 1255, 1256, 1257, 1258, 1259, 1260, 1261, 1262, 1263, 1264,\n",
       "       1265, 1266, 1267, 1268, 1269, 1270, 1271, 1272, 1274, 1275, 1276,\n",
       "       1277, 1278, 1279, 1280, 1281, 1282, 1283, 1284, 1285, 1286, 1287,\n",
       "       1288, 1289, 1290, 1291, 1292, 1293, 1294, 1295, 1296, 1297, 1298,\n",
       "       1299, 1300, 1301, 1302, 1303, 1304, 1305, 1306, 1307, 1308, 1309,\n",
       "       1310, 1311, 1312, 1313, 1314, 1315, 1316, 1317, 1318, 1319, 1320,\n",
       "       1321, 1322, 1323, 1324, 1325, 1326, 1327, 1328, 1329, 1330, 1331,\n",
       "       1332, 1333, 1334, 1335, 1336, 1337, 1338, 1339, 1340, 1341, 1342,\n",
       "       1343, 1344, 1345, 1346, 1347, 1348, 1349, 1350, 1351, 1352, 1353,\n",
       "       1354, 1355, 1356, 1357, 1358, 1359, 1360, 1361, 1362, 1363, 1364,\n",
       "       1365, 1366, 1367, 1368, 1369, 1370, 1372, 1373, 1374, 1375, 1376,\n",
       "       1377, 1378, 1379, 1380, 1381, 1382, 1383, 1384, 1385, 1386, 1387,\n",
       "       1388, 1389, 1390, 1391, 1392, 1393, 1394, 1395, 1396, 1397, 1398,\n",
       "       1399, 1400, 1401, 1402, 1403, 1404, 1405, 1406, 1407, 1408, 1409,\n",
       "       1410, 1411, 1412, 1413, 1414, 1415, 1416, 1417, 1418, 1419, 1420,\n",
       "       1421, 1422, 1423, 1424, 1425, 1426, 1427, 1428, 1429, 1430, 1431,\n",
       "       1432, 1433, 1434, 1435, 1436, 1437, 1438, 1439, 1440, 1441, 1442,\n",
       "       1443, 1444, 1445, 1446, 1447, 1448, 1449, 1450, 1451, 1452, 1453,\n",
       "       1454, 1455, 1456, 1457, 1458, 1459, 1460, 1461, 1462, 1463, 1464,\n",
       "       1465, 1466, 1467, 1468, 1469, 1470, 1471, 1472, 1473, 1474, 1475,\n",
       "       1476, 1477, 1478, 1479, 1480, 1481, 1482, 1483, 1484, 1485, 1486,\n",
       "       1487, 1488, 1489, 1490, 1491, 1492, 1493, 1494, 1495, 1496, 1497,\n",
       "       1498, 1499])"
      ]
     },
     "execution_count": 48,
     "metadata": {},
     "output_type": "execute_result"
    }
   ],
   "source": [
    "internet['user_id'].unique()  # просмотр уникальных значений"
   ]
  },
  {
   "cell_type": "markdown",
   "metadata": {},
   "source": [
    "Таблица internet содержит столбец `Unnamed: 0`, который дублирует значения индекса. Никакой практической пользы данный столбец не несет, в описании к данным он отсутствует. Удалим его, что бы не перегружать таблицу ненужными данными."
   ]
  },
  {
   "cell_type": "code",
   "execution_count": 49,
   "metadata": {},
   "outputs": [
    {
     "data": {
      "text/html": [
       "<div>\n",
       "<style scoped>\n",
       "    .dataframe tbody tr th:only-of-type {\n",
       "        vertical-align: middle;\n",
       "    }\n",
       "\n",
       "    .dataframe tbody tr th {\n",
       "        vertical-align: top;\n",
       "    }\n",
       "\n",
       "    .dataframe thead th {\n",
       "        text-align: right;\n",
       "    }\n",
       "</style>\n",
       "<table border=\"1\" class=\"dataframe\">\n",
       "  <thead>\n",
       "    <tr style=\"text-align: right;\">\n",
       "      <th></th>\n",
       "      <th>Unnamed: 0</th>\n",
       "      <th>id_internet</th>\n",
       "      <th>mb_used</th>\n",
       "      <th>session_date</th>\n",
       "      <th>user_id</th>\n",
       "    </tr>\n",
       "  </thead>\n",
       "  <tbody>\n",
       "    <tr>\n",
       "      <th>149390</th>\n",
       "      <td>149390</td>\n",
       "      <td>1499_151</td>\n",
       "      <td>752.72</td>\n",
       "      <td>2018-10-11</td>\n",
       "      <td>1499</td>\n",
       "    </tr>\n",
       "    <tr>\n",
       "      <th>149391</th>\n",
       "      <td>149391</td>\n",
       "      <td>1499_152</td>\n",
       "      <td>318.90</td>\n",
       "      <td>2018-10-03</td>\n",
       "      <td>1499</td>\n",
       "    </tr>\n",
       "    <tr>\n",
       "      <th>149392</th>\n",
       "      <td>149392</td>\n",
       "      <td>1499_153</td>\n",
       "      <td>490.13</td>\n",
       "      <td>2018-12-14</td>\n",
       "      <td>1499</td>\n",
       "    </tr>\n",
       "    <tr>\n",
       "      <th>149393</th>\n",
       "      <td>149393</td>\n",
       "      <td>1499_154</td>\n",
       "      <td>0.00</td>\n",
       "      <td>2018-10-27</td>\n",
       "      <td>1499</td>\n",
       "    </tr>\n",
       "    <tr>\n",
       "      <th>149395</th>\n",
       "      <td>149395</td>\n",
       "      <td>1499_156</td>\n",
       "      <td>544.37</td>\n",
       "      <td>2018-10-26</td>\n",
       "      <td>1499</td>\n",
       "    </tr>\n",
       "  </tbody>\n",
       "</table>\n",
       "</div>"
      ],
      "text/plain": [
       "        Unnamed: 0 id_internet  mb_used session_date  user_id\n",
       "149390      149390    1499_151   752.72   2018-10-11     1499\n",
       "149391      149391    1499_152   318.90   2018-10-03     1499\n",
       "149392      149392    1499_153   490.13   2018-12-14     1499\n",
       "149393      149393    1499_154     0.00   2018-10-27     1499\n",
       "149395      149395    1499_156   544.37   2018-10-26     1499"
      ]
     },
     "execution_count": 49,
     "metadata": {},
     "output_type": "execute_result"
    }
   ],
   "source": [
    "internet.tail() # получение 5 последних строк датафрейма"
   ]
  },
  {
   "cell_type": "code",
   "execution_count": 50,
   "metadata": {},
   "outputs": [
    {
     "data": {
      "text/html": [
       "<div>\n",
       "<style scoped>\n",
       "    .dataframe tbody tr th:only-of-type {\n",
       "        vertical-align: middle;\n",
       "    }\n",
       "\n",
       "    .dataframe tbody tr th {\n",
       "        vertical-align: top;\n",
       "    }\n",
       "\n",
       "    .dataframe thead th {\n",
       "        text-align: right;\n",
       "    }\n",
       "</style>\n",
       "<table border=\"1\" class=\"dataframe\">\n",
       "  <thead>\n",
       "    <tr style=\"text-align: right;\">\n",
       "      <th></th>\n",
       "      <th>id_internet</th>\n",
       "      <th>mb_used</th>\n",
       "      <th>session_date</th>\n",
       "      <th>user_id</th>\n",
       "    </tr>\n",
       "  </thead>\n",
       "  <tbody>\n",
       "    <tr>\n",
       "      <th>0</th>\n",
       "      <td>1000_0</td>\n",
       "      <td>112.95</td>\n",
       "      <td>2018-11-25</td>\n",
       "      <td>1000</td>\n",
       "    </tr>\n",
       "    <tr>\n",
       "      <th>1</th>\n",
       "      <td>1000_1</td>\n",
       "      <td>1052.81</td>\n",
       "      <td>2018-09-07</td>\n",
       "      <td>1000</td>\n",
       "    </tr>\n",
       "    <tr>\n",
       "      <th>2</th>\n",
       "      <td>1000_2</td>\n",
       "      <td>1197.26</td>\n",
       "      <td>2018-06-25</td>\n",
       "      <td>1000</td>\n",
       "    </tr>\n",
       "    <tr>\n",
       "      <th>3</th>\n",
       "      <td>1000_3</td>\n",
       "      <td>550.27</td>\n",
       "      <td>2018-08-22</td>\n",
       "      <td>1000</td>\n",
       "    </tr>\n",
       "    <tr>\n",
       "      <th>4</th>\n",
       "      <td>1000_4</td>\n",
       "      <td>302.56</td>\n",
       "      <td>2018-09-24</td>\n",
       "      <td>1000</td>\n",
       "    </tr>\n",
       "  </tbody>\n",
       "</table>\n",
       "</div>"
      ],
      "text/plain": [
       "  id_internet  mb_used session_date  user_id\n",
       "0      1000_0   112.95   2018-11-25     1000\n",
       "1      1000_1  1052.81   2018-09-07     1000\n",
       "2      1000_2  1197.26   2018-06-25     1000\n",
       "3      1000_3   550.27   2018-08-22     1000\n",
       "4      1000_4   302.56   2018-09-24     1000"
      ]
     },
     "execution_count": 50,
     "metadata": {},
     "output_type": "execute_result"
    }
   ],
   "source": [
    "del internet['Unnamed: 0'] # удаление столбца 'Unnamed: 0'\n",
    "internet.head() # просмотр первых строк датафрейма"
   ]
  },
  {
   "cell_type": "markdown",
   "metadata": {},
   "source": [
    "#### В таблице `users`  <a id='step_2.4.5'></a>"
   ]
  },
  {
   "cell_type": "code",
   "execution_count": 51,
   "metadata": {},
   "outputs": [
    {
     "data": {
      "text/plain": [
       "array([1000, 1001, 1002, 1003, 1004, 1005, 1006, 1007, 1008, 1009, 1010,\n",
       "       1011, 1012, 1013, 1014, 1015, 1016, 1017, 1018, 1019, 1020, 1021,\n",
       "       1022, 1023, 1024, 1025, 1026, 1027, 1028, 1029, 1030, 1031, 1032,\n",
       "       1033, 1034, 1035, 1036, 1037, 1038, 1039, 1040, 1041, 1042, 1043,\n",
       "       1044, 1045, 1046, 1047, 1048, 1049, 1050, 1051, 1052, 1053, 1054,\n",
       "       1055, 1056, 1057, 1058, 1059, 1060, 1061, 1062, 1063, 1064, 1065,\n",
       "       1066, 1067, 1068, 1069, 1070, 1071, 1072, 1073, 1074, 1075, 1076,\n",
       "       1077, 1078, 1079, 1080, 1081, 1082, 1083, 1084, 1085, 1086, 1087,\n",
       "       1088, 1089, 1090, 1091, 1092, 1093, 1094, 1095, 1096, 1097, 1098,\n",
       "       1099, 1100, 1101, 1102, 1103, 1104, 1105, 1106, 1107, 1108, 1109,\n",
       "       1110, 1111, 1112, 1113, 1114, 1115, 1116, 1117, 1118, 1119, 1120,\n",
       "       1121, 1122, 1123, 1124, 1125, 1126, 1127, 1128, 1129, 1130, 1131,\n",
       "       1132, 1133, 1134, 1135, 1136, 1137, 1138, 1139, 1140, 1141, 1142,\n",
       "       1143, 1144, 1145, 1146, 1147, 1148, 1149, 1150, 1151, 1152, 1153,\n",
       "       1154, 1155, 1156, 1157, 1158, 1159, 1160, 1161, 1162, 1163, 1164,\n",
       "       1165, 1166, 1167, 1168, 1169, 1170, 1171, 1172, 1173, 1174, 1175,\n",
       "       1176, 1177, 1178, 1179, 1180, 1181, 1182, 1183, 1184, 1185, 1186,\n",
       "       1187, 1188, 1189, 1190, 1191, 1192, 1193, 1194, 1195, 1196, 1197,\n",
       "       1198, 1199, 1200, 1201, 1202, 1203, 1204, 1205, 1206, 1207, 1208,\n",
       "       1209, 1210, 1211, 1212, 1213, 1214, 1215, 1216, 1217, 1218, 1219,\n",
       "       1220, 1221, 1222, 1223, 1224, 1225, 1226, 1227, 1228, 1229, 1230,\n",
       "       1231, 1232, 1233, 1234, 1235, 1236, 1237, 1238, 1239, 1240, 1241,\n",
       "       1242, 1243, 1244, 1245, 1246, 1247, 1248, 1249, 1250, 1251, 1252,\n",
       "       1253, 1254, 1255, 1256, 1257, 1258, 1259, 1260, 1261, 1262, 1263,\n",
       "       1264, 1265, 1266, 1267, 1268, 1269, 1270, 1271, 1272, 1273, 1274,\n",
       "       1275, 1276, 1277, 1278, 1279, 1280, 1281, 1282, 1283, 1284, 1285,\n",
       "       1286, 1287, 1288, 1289, 1290, 1291, 1292, 1293, 1294, 1295, 1296,\n",
       "       1297, 1298, 1299, 1300, 1301, 1302, 1303, 1304, 1305, 1306, 1307,\n",
       "       1308, 1309, 1310, 1311, 1312, 1313, 1314, 1315, 1316, 1317, 1318,\n",
       "       1319, 1320, 1321, 1322, 1323, 1324, 1325, 1326, 1327, 1328, 1329,\n",
       "       1330, 1331, 1332, 1333, 1334, 1335, 1336, 1337, 1338, 1339, 1340,\n",
       "       1341, 1342, 1343, 1344, 1345, 1346, 1347, 1348, 1349, 1350, 1351,\n",
       "       1352, 1353, 1354, 1355, 1356, 1357, 1358, 1359, 1360, 1361, 1362,\n",
       "       1363, 1364, 1365, 1366, 1367, 1368, 1369, 1370, 1371, 1372, 1373,\n",
       "       1374, 1375, 1376, 1377, 1378, 1379, 1380, 1381, 1382, 1383, 1384,\n",
       "       1385, 1386, 1387, 1388, 1389, 1390, 1391, 1392, 1393, 1394, 1395,\n",
       "       1396, 1397, 1398, 1399, 1400, 1401, 1402, 1403, 1404, 1405, 1406,\n",
       "       1407, 1408, 1409, 1410, 1411, 1412, 1413, 1414, 1415, 1416, 1417,\n",
       "       1418, 1419, 1420, 1421, 1422, 1423, 1424, 1425, 1426, 1427, 1428,\n",
       "       1429, 1430, 1431, 1432, 1433, 1434, 1435, 1436, 1437, 1438, 1439,\n",
       "       1440, 1441, 1442, 1443, 1444, 1445, 1446, 1447, 1448, 1449, 1450,\n",
       "       1451, 1452, 1453, 1454, 1455, 1456, 1457, 1458, 1459, 1460, 1461,\n",
       "       1462, 1463, 1464, 1465, 1466, 1467, 1468, 1469, 1470, 1471, 1472,\n",
       "       1473, 1474, 1475, 1476, 1477, 1478, 1479, 1480, 1481, 1482, 1483,\n",
       "       1484, 1485, 1486, 1487, 1488, 1489, 1490, 1491, 1492, 1493, 1494,\n",
       "       1495, 1496, 1497, 1498, 1499])"
      ]
     },
     "execution_count": 51,
     "metadata": {},
     "output_type": "execute_result"
    }
   ],
   "source": [
    "users['user_id'].unique() # просмотр уникальных значений столбца"
   ]
  },
  {
   "cell_type": "code",
   "execution_count": 52,
   "metadata": {},
   "outputs": [
    {
     "data": {
      "text/plain": [
       "array(['Авксентий', 'Агата', 'Агафья', 'Агнесса', 'Адам', 'Аким', 'Аксён',\n",
       "       'Алан', 'Алевтина', 'Александр', 'Александра', 'Алексей', 'Алина',\n",
       "       'Алиса', 'Алла', 'Альберта', 'Альбин', 'Альфред', 'Алёна',\n",
       "       'Анатолий', 'Анвар', 'Ангелина', 'Андрей', 'Анжелика', 'Анита',\n",
       "       'Антонина', 'Анфиса', 'Арина', 'Арнольд', 'Арсен', 'Арсений',\n",
       "       'Артемий', 'Артём', 'Аурелия', 'Афанасий', 'Ахмет', 'Аюна',\n",
       "       'Белла', 'Берта', 'Борис', 'Вадим', 'Валентина', 'Валерий',\n",
       "       'Валерия', 'Варвара', 'Варлам', 'Василиса', 'Вениамин', 'Вера',\n",
       "       'Вероника', 'Веселина', 'Виктор', 'Виктория', 'Виолетта',\n",
       "       'Виталий', 'Владимир', 'Владислав', 'Владислава', 'Всеволод',\n",
       "       'Габриель', 'Габриэль', 'Гайдар', 'Галина', 'Гарри', 'Гектор',\n",
       "       'Гелена', 'Геннадий', 'Геодар', 'Георгий', 'Георгина', 'Геральд',\n",
       "       'Герасим', 'Глеб', 'Гордей', 'Григорий', 'Дайна', 'Дана', 'Даниил',\n",
       "       'Даниэла', 'Дебора', 'Демьян', 'Денис', 'Джемма', 'Джозефина',\n",
       "       'Джулия', 'Динара', 'Доминика', 'Ева', 'Евгений', 'Евгения',\n",
       "       'Евдокия', 'Евфросинья', 'Егор', 'Екатерина', 'Елена', 'Еремей',\n",
       "       'Ермолай', 'Ефим', 'Зинаида', 'Иван', 'Игнатий', 'Игорь',\n",
       "       'Изольда', 'Илзе', 'Илья', 'Инара', 'Инга', 'Инесса', 'Инна',\n",
       "       'Иннокентий', 'Ириней', 'Исаак', 'Исак', 'Иулиан', 'Камилла',\n",
       "       'Карина', 'Каролина', 'Касьян', 'Ким', 'Клавдия', 'Клара',\n",
       "       'Клариса', 'Константин', 'Кристина', 'Ксения', 'Кузьма',\n",
       "       'Лаврентий', 'Лариса', 'Лаура', 'Лев', 'Лейла', 'Леон', 'Леонид',\n",
       "       'Леонтий', 'Леся', 'Лидия', 'Лилия', 'Лия', 'Лола', 'Лолита',\n",
       "       'Луиза', 'Лукий', 'Людмила', 'Мадина', 'Майя', 'Максим',\n",
       "       'Мальвина', 'Мануэла', 'Маргарита', 'Марианна', 'Мариетта',\n",
       "       'Марина', 'Марица', 'Мария', 'Марта', 'Марьяна', 'Матвей',\n",
       "       'Милана', 'Милена', 'Милица', 'Мирослава', 'Михаил', 'Мстислав',\n",
       "       'Надежда', 'Наида', 'Наталья', 'Нателла', 'Нелли', 'Николай',\n",
       "       'Нина', 'Оксана', 'Олег', 'Олеся', 'Онисим', 'Павел', 'Пётр',\n",
       "       'Радим', 'Радислав', 'Радомир', 'Раиса', 'Рауль', 'Рафаил',\n",
       "       'Рафаэль', 'Рашид', 'Рем', 'Ренальд', 'Ренат', 'Рената', 'Ринат',\n",
       "       'Роберт', 'Роза', 'Розалия', 'Роксана', 'Ростислав', 'Рубен',\n",
       "       'Рудольф', 'Рузана', 'Руслан', 'Руслана', 'Рустам', 'Рустем',\n",
       "       'Рустэм', 'Рэм', 'Сабина', 'Саида', 'Сара', 'Светлана',\n",
       "       'Святослав', 'Семён', 'Серафима', 'Симона', 'Снежана', 'Софья',\n",
       "       'Станислав', 'Степан', 'Таира', 'Таисия', 'Тала', 'Тамара',\n",
       "       'Татьяна', 'Тимофей', 'Тихон', 'Трифон', 'Трофим', 'Фаддей',\n",
       "       'Фёдор', 'Харитон', 'Эдита', 'Эдуард', 'Элеонора', 'Элина', 'Элла',\n",
       "       'Эллада', 'Эльвира', 'Эльга', 'Эльза', 'Эльмира', 'Эмилия',\n",
       "       'Эсмеральда', 'Юзефа', 'Юлий', 'Юлия', 'Юна', 'Юрий', 'Яков',\n",
       "       'Яна'], dtype=object)"
      ]
     },
     "execution_count": 52,
     "metadata": {},
     "output_type": "execute_result"
    }
   ],
   "source": [
    "users['first_name'].sort_values().unique() # просмотр уникальных значений столбца `first_name`"
   ]
  },
  {
   "cell_type": "code",
   "execution_count": 53,
   "metadata": {},
   "outputs": [
    {
     "data": {
      "text/plain": [
       "array(['Ёлчина', 'Ёркин', 'Ёркина', 'Ёрохов', 'Ёрохова', 'Абаимов',\n",
       "       'Абакумов', 'Абакшина', 'Абалакова', 'Абалдуева', 'Абалкин',\n",
       "       'Абашкин', 'Абашкина', 'Абдулина', 'Абоимов', 'Абрамович',\n",
       "       'Абрамцев', 'Абрамычева', 'Абрашина', 'Абрикосова', 'Авдеев',\n",
       "       'Авдеенко', 'Авдонюшкин', 'Авдушева', 'Авдышев', 'Авдюков',\n",
       "       'Авраамова', 'Авраменко', 'Авринский', 'Аврорин', 'Авроров',\n",
       "       'Авросимова', 'Авросинова', 'Авсейкина', 'Авчинникова', 'Агаев',\n",
       "       'Агаева', 'Агапеева', 'Агеева', 'Адаменко', 'Адамов', 'Азаров',\n",
       "       'Азерников', 'Азимова', 'Акимов', 'Акимчин', 'Акимычева',\n",
       "       'Акиндинов', 'Акинин', 'Акинфьев', 'Аксёнов', 'Акуленко',\n",
       "       'Александрова', 'Александрович', 'Александрюк', 'Алексеева',\n",
       "       'Алексеенко', 'Алексеичев', 'Аленникова', 'Алесин', 'Алехина',\n",
       "       'Алешин', 'Алешина', 'Алешкова', 'Алиев', 'Алфеева', 'Алфимов',\n",
       "       'Алфимова', 'Алымова', 'Алютин', 'Алюшина', 'Алёшко', 'Алёшкова',\n",
       "       'Амелин', 'Амелишко', 'Амельченко', 'Ананьева', 'Андреенко',\n",
       "       'Андрейкин', 'Андрейчук', 'Андрианов', 'Андропов', 'Андропова',\n",
       "       'Андрющенко', 'Аникина', 'Аничкина', 'Анищенко', 'Антипов',\n",
       "       'Антоненко', 'Антонова', 'Антропов', 'Антропова', 'Аракина',\n",
       "       'Аракчеев', 'Аркадьев', 'Арсенкова', 'Артемчук', 'Артемьев',\n",
       "       'Артёменко', 'Артёмов', 'Артёшин', 'Архипова', 'Асафьева',\n",
       "       'Астапенко', 'Астапов', 'Астафьева', 'Афанасенко', 'Афанасова',\n",
       "       'Афинин', 'Афонасьева', 'Афонин', 'Афонина', 'Ахмадулин',\n",
       "       'Ахматов', 'Ахматулин', 'Ахматулина', 'Ахмедов', 'Бабушкина',\n",
       "       'Барсуков', 'Басова', 'Безруков', 'Беликова', 'Белова',\n",
       "       'Белозёров', 'Белоусова', 'Беляев', 'Беляева', 'Белякова',\n",
       "       'Березина', 'Блинова', 'Блохин', 'Блохина', 'Боброва', 'Бобылёв',\n",
       "       'Богданов', 'Богданова', 'Болдырев', 'Болдырева', 'Бондарев',\n",
       "       'Борисова', 'Бородин', 'Бородина', 'Булгаков', 'Бычкова',\n",
       "       'Васильева', 'Верещагин', 'Верещагина', 'Веселов', 'Вешнякова',\n",
       "       'Вишневский', 'Вишняков', 'Воронин', 'Воронина', 'Гаврилова',\n",
       "       'Галкин', 'Глушков', 'Голованова', 'Гончаров', 'Горбачева',\n",
       "       'Горбунов', 'Горлов', 'Григорьев', 'Григорьева', 'Гришина',\n",
       "       'Громова', 'Давыдов', 'Демидов', 'Демьянов', 'Демьянова',\n",
       "       'Денисова', 'Добрынин', 'Добрынина', 'Дорофеева', 'Дроздов',\n",
       "       'Дубинина', 'Дьячкова', 'Евсеев', 'Ежов', 'Елизаров', 'Емельянова',\n",
       "       'Еремин', 'Ермилов', 'Ермолаев', 'Ерофеев', 'Ерофеева', 'Ефремов',\n",
       "       'Жарова', 'Жданов', 'Жукова', 'Завьялова', 'Зайцев', 'Зеленина',\n",
       "       'Зимина', 'Золотов', 'Золотова', 'Зубков', 'Зубкова', 'Зуев',\n",
       "       'Зыков', 'Иванов', 'Иванова', 'Игнатова', 'Игнатьев', 'Игнатьева',\n",
       "       'Измайлова', 'Ильин', 'Ильина', 'Кабанова', 'Казакова', 'Казанцев',\n",
       "       'Калинина', 'Капустин', 'Карасев', 'Карасева', 'Карташова',\n",
       "       'Касьянова', 'Киреева', 'Кириллов', 'Киселёв', 'Климова',\n",
       "       'Ковалева', 'Козлов', 'Козлова', 'Козырева', 'Колесова', 'Колобов',\n",
       "       'Кольцова', 'Кондратов', 'Коновалова', 'Кононов', 'Константинова',\n",
       "       'Корнеева', 'Корнилов', 'Корнилова', 'Корольков', 'Королькова',\n",
       "       'Короткова', 'Коршунов', 'Костин', 'Костина', 'Кочергина',\n",
       "       'Кочетков', 'Кочетов', 'Кошелева', 'Кравцов', 'Красильников',\n",
       "       'Круглов', 'Крылова', 'Крюков', 'Крюкова', 'Крючков', 'Кузнецов',\n",
       "       'Кукушкин', 'Кулагина', 'Кулешова', 'Куприянов', 'Курочкин',\n",
       "       'Лазарева', 'Лапина', 'Лаптева', 'Ларин', 'Ларина', 'Ларионова',\n",
       "       'Латышева', 'Лебедев', 'Левин', 'Леонтьев', 'Литвинов', 'Лобанова',\n",
       "       'Логинов', 'Лосева', 'Лукин', 'Любимов', 'Макаров', 'Макарова',\n",
       "       'Макеев', 'Малахов', 'Малинин', 'Малинина', 'Малышев', 'Мальцев',\n",
       "       'Мамонтова', 'Марков', 'Масленникова', 'Матвеев', 'Медведев',\n",
       "       'Мельникова', 'Меркулова', 'Минаев', 'Минаева', 'Мишин',\n",
       "       'Молчанова', 'Моргунов', 'Морозов', 'Муравьева', 'Муравьёв',\n",
       "       'Мясникова', 'Наумов', 'Некрасов', 'Нестеров', 'Нестерова',\n",
       "       'Нечаева', 'Никонов', 'Никулин', 'Новикова', 'Носкова',\n",
       "       'Овчинников', 'Одинцов', 'Одинцова', 'Озерова', 'Орлов',\n",
       "       'Павловский', 'Панов', 'Пантелеева', 'Панфилов', 'Панфилова',\n",
       "       'Парфенов', 'Петухова', 'Пирогова', 'Платонова', 'Покровский',\n",
       "       'Поликарпова', 'Поляков', 'Пономарев', 'Пономарева', 'Пономарёв',\n",
       "       'Попов', 'Прокофьева', 'Пугачева', 'Ракова', 'Родина', 'Родионов',\n",
       "       'Родионова', 'Розанова', 'Рудаков', 'Румянцева', 'Русанова',\n",
       "       'Рыбакова', 'Рябов', 'Савельева', 'Сазонов', 'Сазонова',\n",
       "       'Сальников', 'Сафонова', 'Сахарова', 'Свиридов', 'Севастьянова',\n",
       "       'Седова', 'Селезнев', 'Селезнева', 'Селиванова', 'Семенова',\n",
       "       'Семин', 'Семина', 'Семёнов', 'Сергеева', 'Серебрякова', 'Серов',\n",
       "       'Силин', 'Симонова', 'Синицын', 'Ситникова', 'Соколов', 'Соловьев',\n",
       "       'Соловьёв', 'Сомова', 'Сорокин', 'Софронов', 'Спиридонова',\n",
       "       'Субботина', 'Суслов', 'Суслова', 'Сухарев', 'Сухарева', 'Сухова',\n",
       "       'Сысоев', 'Тарасов', 'Тарасова', 'Терехова', 'Тетерина',\n",
       "       'Тимофеев', 'Тимофеева', 'Тихомирова', 'Тихонов', 'Толкачев',\n",
       "       'Третьякова', 'Троицкий', 'Трофимов', 'Трофимова', 'Трошин',\n",
       "       'Уваров', 'Устинов', 'Устинова', 'Фадеева', 'Федосеев', 'Фетисова',\n",
       "       'Филатов', 'Фокин', 'Фокина', 'Фомин', 'Фролов', 'Фёдоров',\n",
       "       'Худяков', 'Чернов', 'Черный', 'Чернышев', 'Черняев', 'Чеснокова',\n",
       "       'Чижова', 'Чистякова', 'Чумаков', 'Шарапов', 'Шарапова', 'Шарова',\n",
       "       'Швецов', 'Шевцов', 'Шевцова', 'Щербакова', 'Яшина'], dtype=object)"
      ]
     },
     "execution_count": 53,
     "metadata": {},
     "output_type": "execute_result"
    }
   ],
   "source": [
    "users['last_name'].sort_values().unique() # просмотр уникальных значений столбца"
   ]
  },
  {
   "cell_type": "code",
   "execution_count": 54,
   "metadata": {},
   "outputs": [
    {
     "data": {
      "text/plain": [
       "count    500.0\n",
       "mean      47.0\n",
       "std       17.0\n",
       "min       18.0\n",
       "25%       32.0\n",
       "50%       46.0\n",
       "75%       62.0\n",
       "max       75.0\n",
       "Name: age, dtype: float64"
      ]
     },
     "execution_count": 54,
     "metadata": {},
     "output_type": "execute_result"
    },
    {
     "data": {
      "image/png": "[encoded data removed]",
      "text/plain": [
       "<Figure size 432x288 with 1 Axes>"
      ]
     },
     "metadata": {
      "needs_background": "light"
     },
     "output_type": "display_data"
    }
   ],
   "source": [
    "users['age'].hist() # просмотр гистограммы столбца 'age'\n",
    "users['age'].describe().round(0) # получение списка характерных значений"
   ]
  },
  {
   "cell_type": "markdown",
   "metadata": {},
   "source": [
    "Возраст абонентов от 18 до 75 лет. Среднее составляет 47 лет."
   ]
  },
  {
   "cell_type": "code",
   "execution_count": 55,
   "metadata": {},
   "outputs": [
    {
     "data": {
      "text/plain": [
       "<AxesSubplot:>"
      ]
     },
     "execution_count": 55,
     "metadata": {},
     "output_type": "execute_result"
    },
    {
     "data": {
      "image/png": "[encoded data removed]",
      "text/plain": [
       "<Figure size 432x288 with 1 Axes>"
      ]
     },
     "metadata": {
      "needs_background": "light"
     },
     "output_type": "display_data"
    }
   ],
   "source": [
    "users['reg_date'] = pd.to_datetime(users['reg_date'], format='%Y-%m-%d') # перевод значений из object в datetime64\n",
    "users['reg_date'].hist(bins=12) # построение гистограммы "
   ]
  },
  {
   "cell_type": "code",
   "execution_count": 56,
   "metadata": {},
   "outputs": [
    {
     "data": {
      "text/html": [
       "<div>\n",
       "<style scoped>\n",
       "    .dataframe tbody tr th:only-of-type {\n",
       "        vertical-align: middle;\n",
       "    }\n",
       "\n",
       "    .dataframe tbody tr th {\n",
       "        vertical-align: top;\n",
       "    }\n",
       "\n",
       "    .dataframe thead th {\n",
       "        text-align: right;\n",
       "    }\n",
       "</style>\n",
       "<table border=\"1\" class=\"dataframe\">\n",
       "  <thead>\n",
       "    <tr style=\"text-align: right;\">\n",
       "      <th></th>\n",
       "      <th>user_id</th>\n",
       "      <th>age</th>\n",
       "      <th>churn_date</th>\n",
       "      <th>city</th>\n",
       "      <th>first_name</th>\n",
       "      <th>last_name</th>\n",
       "      <th>reg_date</th>\n",
       "      <th>tariff</th>\n",
       "    </tr>\n",
       "  </thead>\n",
       "  <tbody>\n",
       "    <tr>\n",
       "      <th>19</th>\n",
       "      <td>1019</td>\n",
       "      <td>63</td>\n",
       "      <td>2018-10-05</td>\n",
       "      <td>Томск</td>\n",
       "      <td>Игнатий</td>\n",
       "      <td>Круглов</td>\n",
       "      <td>2018-05-16</td>\n",
       "      <td>ultra</td>\n",
       "    </tr>\n",
       "    <tr>\n",
       "      <th>20</th>\n",
       "      <td>1020</td>\n",
       "      <td>59</td>\n",
       "      <td>2018-12-18</td>\n",
       "      <td>Чита</td>\n",
       "      <td>Тала</td>\n",
       "      <td>Костина</td>\n",
       "      <td>2018-10-22</td>\n",
       "      <td>smart</td>\n",
       "    </tr>\n",
       "    <tr>\n",
       "      <th>34</th>\n",
       "      <td>1034</td>\n",
       "      <td>66</td>\n",
       "      <td>2018-11-21</td>\n",
       "      <td>Вологда</td>\n",
       "      <td>Святослав</td>\n",
       "      <td>Бондарев</td>\n",
       "      <td>2018-08-26</td>\n",
       "      <td>smart</td>\n",
       "    </tr>\n",
       "    <tr>\n",
       "      <th>50</th>\n",
       "      <td>1050</td>\n",
       "      <td>44</td>\n",
       "      <td>2018-10-03</td>\n",
       "      <td>Тюмень</td>\n",
       "      <td>Рузана</td>\n",
       "      <td>Аничкина</td>\n",
       "      <td>2018-06-16</td>\n",
       "      <td>ultra</td>\n",
       "    </tr>\n",
       "    <tr>\n",
       "      <th>51</th>\n",
       "      <td>1051</td>\n",
       "      <td>37</td>\n",
       "      <td>2018-10-14</td>\n",
       "      <td>Москва</td>\n",
       "      <td>Кристина</td>\n",
       "      <td>Сомова</td>\n",
       "      <td>2018-05-28</td>\n",
       "      <td>smart</td>\n",
       "    </tr>\n",
       "  </tbody>\n",
       "</table>\n",
       "</div>"
      ],
      "text/plain": [
       "    user_id  age  churn_date     city first_name last_name   reg_date tariff\n",
       "19     1019   63  2018-10-05    Томск    Игнатий   Круглов 2018-05-16  ultra\n",
       "20     1020   59  2018-12-18     Чита       Тала   Костина 2018-10-22  smart\n",
       "34     1034   66  2018-11-21  Вологда  Святослав  Бондарев 2018-08-26  smart\n",
       "50     1050   44  2018-10-03   Тюмень     Рузана  Аничкина 2018-06-16  ultra\n",
       "51     1051   37  2018-10-14   Москва   Кристина    Сомова 2018-05-28  smart"
      ]
     },
     "execution_count": 56,
     "metadata": {},
     "output_type": "execute_result"
    }
   ],
   "source": [
    "users.query('churn_date.notna()').head()"
   ]
  },
  {
   "cell_type": "code",
   "execution_count": 57,
   "metadata": {},
   "outputs": [],
   "source": [
    "users['churn_date'] = pd.to_datetime(users['churn_date'], format='%Y-%m-%d') # перевод значений из object в datetime64"
   ]
  },
  {
   "cell_type": "code",
   "execution_count": 58,
   "metadata": {},
   "outputs": [
    {
     "data": {
      "image/png": "[encoded data removed]",
      "text/plain": [
       "<Figure size 432x288 with 1 Axes>"
      ]
     },
     "metadata": {
      "needs_background": "light"
     },
     "output_type": "display_data"
    }
   ],
   "source": [
    "plt.hist(users.query('churn_date.notna()')['churn_date'])  # построение гистограммы ненулевых значений столбца churn_date\n",
    "plt.xticks(rotation=45)\n",
    "plt.show()"
   ]
  },
  {
   "cell_type": "code",
   "execution_count": 59,
   "metadata": {},
   "outputs": [
    {
     "data": {
      "text/plain": [
       "38"
      ]
     },
     "execution_count": 59,
     "metadata": {},
     "output_type": "execute_result"
    }
   ],
   "source": [
    "len(users.query('churn_date.notna()')) # подсчет ненулевых строк столбца churn_date"
   ]
  },
  {
   "cell_type": "code",
   "execution_count": 60,
   "metadata": {},
   "outputs": [
    {
     "data": {
      "text/plain": [
       "array(['Архангельск', 'Астрахань', 'Балашиха', 'Барнаул', 'Белгород',\n",
       "       'Брянск', 'Владивосток', 'Владикавказ', 'Владимир', 'Волгоград',\n",
       "       'Волжский', 'Вологда', 'Воронеж', 'Грозный', 'Екатеринбург',\n",
       "       'Иваново', 'Ижевск', 'Иркутск', 'Казань', 'Калининград', 'Калуга',\n",
       "       'Кемерово', 'Киров', 'Кострома', 'Краснодар', 'Красноярск',\n",
       "       'Курган', 'Курск', 'Липецк', 'Магнитогорск', 'Махачкала', 'Москва',\n",
       "       'Мурманск', 'Набережные Челны', 'Нижневартовск', 'Нижний Новгород',\n",
       "       'Нижний Тагил', 'Новокузнецк', 'Новороссийск', 'Новосибирск',\n",
       "       'Омск', 'Оренбург', 'Орёл', 'Пенза', 'Пермь', 'Петрозаводск',\n",
       "       'Подольск', 'Ростов-на-Дону', 'Рязань', 'Самара',\n",
       "       'Санкт-Петербург', 'Саранск', 'Саратов', 'Севастополь', 'Смоленск',\n",
       "       'Сочи', 'Ставрополь', 'Стерлитамак', 'Сургут', 'Тамбов', 'Тверь',\n",
       "       'Тольятти', 'Томск', 'Тула', 'Тюмень', 'Улан-Удэ', 'Ульяновск',\n",
       "       'Уфа', 'Хабаровск', 'Химки', 'Чебоксары', 'Челябинск', 'Череповец',\n",
       "       'Чита', 'Якутск', 'Ярославль'], dtype=object)"
      ]
     },
     "execution_count": 60,
     "metadata": {},
     "output_type": "execute_result"
    }
   ],
   "source": [
    "users['city'].sort_values().unique() # просмотр уникальных значений столбца city"
   ]
  },
  {
   "cell_type": "code",
   "execution_count": 61,
   "metadata": {},
   "outputs": [
    {
     "data": {
      "text/plain": [
       "array(['smart', 'ultra'], dtype=object)"
      ]
     },
     "execution_count": 61,
     "metadata": {},
     "output_type": "execute_result"
    }
   ],
   "source": [
    "users['tariff'].sort_values().unique() # просмотр уникальных значений столбца tariff"
   ]
  },
  {
   "cell_type": "markdown",
   "metadata": {},
   "source": [
    "<div class=\"alert alert-block alert-success\">\n",
    "<b>Комментарий ревьюера (всё отлично):</b>\n",
    "Каждый датафрейм рассмотрен под микроскопом. Всё классно сделала!"
   ]
  },
  {
   "cell_type": "markdown",
   "metadata": {},
   "source": [
    "### Расчёты и добавление результатов в таблицу"
   ]
  },
  {
   "cell_type": "markdown",
   "metadata": {},
   "source": [
    "#### Количество сделанных звонков и израсходованных минут разговора по месяцам"
   ]
  },
  {
   "cell_type": "code",
   "execution_count": 62,
   "metadata": {},
   "outputs": [
    {
     "data": {
      "text/html": [
       "<div>\n",
       "<style scoped>\n",
       "    .dataframe tbody tr th:only-of-type {\n",
       "        vertical-align: middle;\n",
       "    }\n",
       "\n",
       "    .dataframe tbody tr th {\n",
       "        vertical-align: top;\n",
       "    }\n",
       "\n",
       "    .dataframe thead th {\n",
       "        text-align: right;\n",
       "    }\n",
       "</style>\n",
       "<table border=\"1\" class=\"dataframe\">\n",
       "  <thead>\n",
       "    <tr style=\"text-align: right;\">\n",
       "      <th></th>\n",
       "      <th>id_call</th>\n",
       "      <th>call_date</th>\n",
       "      <th>duration</th>\n",
       "      <th>user_id</th>\n",
       "    </tr>\n",
       "  </thead>\n",
       "  <tbody>\n",
       "    <tr>\n",
       "      <th>0</th>\n",
       "      <td>1000_0</td>\n",
       "      <td>2018-07-25</td>\n",
       "      <td>0.00</td>\n",
       "      <td>1000</td>\n",
       "    </tr>\n",
       "    <tr>\n",
       "      <th>1</th>\n",
       "      <td>1000_1</td>\n",
       "      <td>2018-08-17</td>\n",
       "      <td>0.00</td>\n",
       "      <td>1000</td>\n",
       "    </tr>\n",
       "    <tr>\n",
       "      <th>2</th>\n",
       "      <td>1000_2</td>\n",
       "      <td>2018-06-11</td>\n",
       "      <td>2.85</td>\n",
       "      <td>1000</td>\n",
       "    </tr>\n",
       "    <tr>\n",
       "      <th>3</th>\n",
       "      <td>1000_3</td>\n",
       "      <td>2018-09-21</td>\n",
       "      <td>13.80</td>\n",
       "      <td>1000</td>\n",
       "    </tr>\n",
       "    <tr>\n",
       "      <th>4</th>\n",
       "      <td>1000_4</td>\n",
       "      <td>2018-12-15</td>\n",
       "      <td>5.18</td>\n",
       "      <td>1000</td>\n",
       "    </tr>\n",
       "  </tbody>\n",
       "</table>\n",
       "</div>"
      ],
      "text/plain": [
       "  id_call  call_date  duration  user_id\n",
       "0  1000_0 2018-07-25      0.00     1000\n",
       "1  1000_1 2018-08-17      0.00     1000\n",
       "2  1000_2 2018-06-11      2.85     1000\n",
       "3  1000_3 2018-09-21     13.80     1000\n",
       "4  1000_4 2018-12-15      5.18     1000"
      ]
     },
     "execution_count": 62,
     "metadata": {},
     "output_type": "execute_result"
    }
   ],
   "source": [
    "calls.head() # получение первых 5 строк датафрейма"
   ]
  },
  {
   "cell_type": "markdown",
   "metadata": {},
   "source": [
    "Добавим новый столбец `month`, выделив месяц совершения звонка из столбца `call_date` методом `month`."
   ]
  },
  {
   "cell_type": "code",
   "execution_count": 63,
   "metadata": {},
   "outputs": [
    {
     "data": {
      "text/html": [
       "<div>\n",
       "<style scoped>\n",
       "    .dataframe tbody tr th:only-of-type {\n",
       "        vertical-align: middle;\n",
       "    }\n",
       "\n",
       "    .dataframe tbody tr th {\n",
       "        vertical-align: top;\n",
       "    }\n",
       "\n",
       "    .dataframe thead th {\n",
       "        text-align: right;\n",
       "    }\n",
       "</style>\n",
       "<table border=\"1\" class=\"dataframe\">\n",
       "  <thead>\n",
       "    <tr style=\"text-align: right;\">\n",
       "      <th></th>\n",
       "      <th>id_call</th>\n",
       "      <th>call_date</th>\n",
       "      <th>duration</th>\n",
       "      <th>user_id</th>\n",
       "      <th>month</th>\n",
       "    </tr>\n",
       "  </thead>\n",
       "  <tbody>\n",
       "    <tr>\n",
       "      <th>0</th>\n",
       "      <td>1000_0</td>\n",
       "      <td>2018-07-25</td>\n",
       "      <td>0.00</td>\n",
       "      <td>1000</td>\n",
       "      <td>7</td>\n",
       "    </tr>\n",
       "    <tr>\n",
       "      <th>1</th>\n",
       "      <td>1000_1</td>\n",
       "      <td>2018-08-17</td>\n",
       "      <td>0.00</td>\n",
       "      <td>1000</td>\n",
       "      <td>8</td>\n",
       "    </tr>\n",
       "    <tr>\n",
       "      <th>2</th>\n",
       "      <td>1000_2</td>\n",
       "      <td>2018-06-11</td>\n",
       "      <td>2.85</td>\n",
       "      <td>1000</td>\n",
       "      <td>6</td>\n",
       "    </tr>\n",
       "    <tr>\n",
       "      <th>3</th>\n",
       "      <td>1000_3</td>\n",
       "      <td>2018-09-21</td>\n",
       "      <td>13.80</td>\n",
       "      <td>1000</td>\n",
       "      <td>9</td>\n",
       "    </tr>\n",
       "    <tr>\n",
       "      <th>4</th>\n",
       "      <td>1000_4</td>\n",
       "      <td>2018-12-15</td>\n",
       "      <td>5.18</td>\n",
       "      <td>1000</td>\n",
       "      <td>12</td>\n",
       "    </tr>\n",
       "    <tr>\n",
       "      <th>5</th>\n",
       "      <td>1000_5</td>\n",
       "      <td>2018-11-02</td>\n",
       "      <td>0.00</td>\n",
       "      <td>1000</td>\n",
       "      <td>11</td>\n",
       "    </tr>\n",
       "    <tr>\n",
       "      <th>6</th>\n",
       "      <td>1000_6</td>\n",
       "      <td>2018-10-18</td>\n",
       "      <td>0.00</td>\n",
       "      <td>1000</td>\n",
       "      <td>10</td>\n",
       "    </tr>\n",
       "    <tr>\n",
       "      <th>7</th>\n",
       "      <td>1000_7</td>\n",
       "      <td>2018-08-22</td>\n",
       "      <td>18.31</td>\n",
       "      <td>1000</td>\n",
       "      <td>8</td>\n",
       "    </tr>\n",
       "    <tr>\n",
       "      <th>8</th>\n",
       "      <td>1000_8</td>\n",
       "      <td>2018-09-15</td>\n",
       "      <td>18.44</td>\n",
       "      <td>1000</td>\n",
       "      <td>9</td>\n",
       "    </tr>\n",
       "    <tr>\n",
       "      <th>9</th>\n",
       "      <td>1000_9</td>\n",
       "      <td>2018-08-15</td>\n",
       "      <td>0.00</td>\n",
       "      <td>1000</td>\n",
       "      <td>8</td>\n",
       "    </tr>\n",
       "  </tbody>\n",
       "</table>\n",
       "</div>"
      ],
      "text/plain": [
       "  id_call  call_date  duration  user_id  month\n",
       "0  1000_0 2018-07-25      0.00     1000      7\n",
       "1  1000_1 2018-08-17      0.00     1000      8\n",
       "2  1000_2 2018-06-11      2.85     1000      6\n",
       "3  1000_3 2018-09-21     13.80     1000      9\n",
       "4  1000_4 2018-12-15      5.18     1000     12\n",
       "5  1000_5 2018-11-02      0.00     1000     11\n",
       "6  1000_6 2018-10-18      0.00     1000     10\n",
       "7  1000_7 2018-08-22     18.31     1000      8\n",
       "8  1000_8 2018-09-15     18.44     1000      9\n",
       "9  1000_9 2018-08-15      0.00     1000      8"
      ]
     },
     "execution_count": 63,
     "metadata": {},
     "output_type": "execute_result"
    }
   ],
   "source": [
    "calls['month'] = pd.DatetimeIndex(calls['call_date']).month # добавление нового столбца\n",
    "calls.head(10) # получение первых 10 строк датафрейма"
   ]
  },
  {
   "cell_type": "markdown",
   "metadata": {},
   "source": [
    "«Мегалайн» всегда округляет секунды до минут. Каждый звонок округляется отдельно: даже если он длился всего 1 секунду, будет засчитан как 1 минута."
   ]
  },
  {
   "cell_type": "markdown",
   "metadata": {},
   "source": [
    "Округлим значения столбца `duration` до ближайшего  большего числа."
   ]
  },
  {
   "cell_type": "code",
   "execution_count": 64,
   "metadata": {},
   "outputs": [
    {
     "data": {
      "text/html": [
       "<div>\n",
       "<style scoped>\n",
       "    .dataframe tbody tr th:only-of-type {\n",
       "        vertical-align: middle;\n",
       "    }\n",
       "\n",
       "    .dataframe tbody tr th {\n",
       "        vertical-align: top;\n",
       "    }\n",
       "\n",
       "    .dataframe thead th {\n",
       "        text-align: right;\n",
       "    }\n",
       "</style>\n",
       "<table border=\"1\" class=\"dataframe\">\n",
       "  <thead>\n",
       "    <tr style=\"text-align: right;\">\n",
       "      <th></th>\n",
       "      <th>id_call</th>\n",
       "      <th>call_date</th>\n",
       "      <th>duration</th>\n",
       "      <th>user_id</th>\n",
       "      <th>month</th>\n",
       "    </tr>\n",
       "  </thead>\n",
       "  <tbody>\n",
       "    <tr>\n",
       "      <th>0</th>\n",
       "      <td>1000_0</td>\n",
       "      <td>2018-07-25</td>\n",
       "      <td>0.0</td>\n",
       "      <td>1000</td>\n",
       "      <td>7</td>\n",
       "    </tr>\n",
       "    <tr>\n",
       "      <th>1</th>\n",
       "      <td>1000_1</td>\n",
       "      <td>2018-08-17</td>\n",
       "      <td>0.0</td>\n",
       "      <td>1000</td>\n",
       "      <td>8</td>\n",
       "    </tr>\n",
       "    <tr>\n",
       "      <th>2</th>\n",
       "      <td>1000_2</td>\n",
       "      <td>2018-06-11</td>\n",
       "      <td>3.0</td>\n",
       "      <td>1000</td>\n",
       "      <td>6</td>\n",
       "    </tr>\n",
       "    <tr>\n",
       "      <th>3</th>\n",
       "      <td>1000_3</td>\n",
       "      <td>2018-09-21</td>\n",
       "      <td>14.0</td>\n",
       "      <td>1000</td>\n",
       "      <td>9</td>\n",
       "    </tr>\n",
       "    <tr>\n",
       "      <th>4</th>\n",
       "      <td>1000_4</td>\n",
       "      <td>2018-12-15</td>\n",
       "      <td>6.0</td>\n",
       "      <td>1000</td>\n",
       "      <td>12</td>\n",
       "    </tr>\n",
       "    <tr>\n",
       "      <th>5</th>\n",
       "      <td>1000_5</td>\n",
       "      <td>2018-11-02</td>\n",
       "      <td>0.0</td>\n",
       "      <td>1000</td>\n",
       "      <td>11</td>\n",
       "    </tr>\n",
       "    <tr>\n",
       "      <th>6</th>\n",
       "      <td>1000_6</td>\n",
       "      <td>2018-10-18</td>\n",
       "      <td>0.0</td>\n",
       "      <td>1000</td>\n",
       "      <td>10</td>\n",
       "    </tr>\n",
       "    <tr>\n",
       "      <th>7</th>\n",
       "      <td>1000_7</td>\n",
       "      <td>2018-08-22</td>\n",
       "      <td>19.0</td>\n",
       "      <td>1000</td>\n",
       "      <td>8</td>\n",
       "    </tr>\n",
       "    <tr>\n",
       "      <th>8</th>\n",
       "      <td>1000_8</td>\n",
       "      <td>2018-09-15</td>\n",
       "      <td>19.0</td>\n",
       "      <td>1000</td>\n",
       "      <td>9</td>\n",
       "    </tr>\n",
       "    <tr>\n",
       "      <th>9</th>\n",
       "      <td>1000_9</td>\n",
       "      <td>2018-08-15</td>\n",
       "      <td>0.0</td>\n",
       "      <td>1000</td>\n",
       "      <td>8</td>\n",
       "    </tr>\n",
       "  </tbody>\n",
       "</table>\n",
       "</div>"
      ],
      "text/plain": [
       "  id_call  call_date  duration  user_id  month\n",
       "0  1000_0 2018-07-25       0.0     1000      7\n",
       "1  1000_1 2018-08-17       0.0     1000      8\n",
       "2  1000_2 2018-06-11       3.0     1000      6\n",
       "3  1000_3 2018-09-21      14.0     1000      9\n",
       "4  1000_4 2018-12-15       6.0     1000     12\n",
       "5  1000_5 2018-11-02       0.0     1000     11\n",
       "6  1000_6 2018-10-18       0.0     1000     10\n",
       "7  1000_7 2018-08-22      19.0     1000      8\n",
       "8  1000_8 2018-09-15      19.0     1000      9\n",
       "9  1000_9 2018-08-15       0.0     1000      8"
      ]
     },
     "execution_count": 64,
     "metadata": {},
     "output_type": "execute_result"
    }
   ],
   "source": [
    "calls['duration'] = np.ceil(calls['duration'])\n",
    "calls.head(10)"
   ]
  },
  {
   "cell_type": "markdown",
   "metadata": {},
   "source": [
    "<div class=\"alert alert-block alert-success\">\n",
    "<b>Комментарий ревьюера (всё отлично):</b>\n",
    "Для округления ты используешь np.ceil() - это оптимальный метод для решения задачи."
   ]
  },
  {
   "cell_type": "markdown",
   "metadata": {},
   "source": [
    "Сгруппируем таблицу `calls` по месяцу и id абонента, рассчитаем общую длительность и количество звонков за месяц. Результат поместим в переменную `calls_group`."
   ]
  },
  {
   "cell_type": "code",
   "execution_count": 65,
   "metadata": {},
   "outputs": [
    {
     "data": {
      "text/html": [
       "<div>\n",
       "<style scoped>\n",
       "    .dataframe tbody tr th:only-of-type {\n",
       "        vertical-align: middle;\n",
       "    }\n",
       "\n",
       "    .dataframe tbody tr th {\n",
       "        vertical-align: top;\n",
       "    }\n",
       "\n",
       "    .dataframe thead th {\n",
       "        text-align: right;\n",
       "    }\n",
       "</style>\n",
       "<table border=\"1\" class=\"dataframe\">\n",
       "  <thead>\n",
       "    <tr style=\"text-align: right;\">\n",
       "      <th></th>\n",
       "      <th></th>\n",
       "      <th>duration</th>\n",
       "      <th>call_date</th>\n",
       "    </tr>\n",
       "    <tr>\n",
       "      <th>user_id</th>\n",
       "      <th>month</th>\n",
       "      <th></th>\n",
       "      <th></th>\n",
       "    </tr>\n",
       "  </thead>\n",
       "  <tbody>\n",
       "    <tr>\n",
       "      <th rowspan=\"8\" valign=\"top\">1000</th>\n",
       "      <th>5</th>\n",
       "      <td>159.0</td>\n",
       "      <td>22</td>\n",
       "    </tr>\n",
       "    <tr>\n",
       "      <th>6</th>\n",
       "      <td>172.0</td>\n",
       "      <td>43</td>\n",
       "    </tr>\n",
       "    <tr>\n",
       "      <th>7</th>\n",
       "      <td>340.0</td>\n",
       "      <td>47</td>\n",
       "    </tr>\n",
       "    <tr>\n",
       "      <th>8</th>\n",
       "      <td>408.0</td>\n",
       "      <td>52</td>\n",
       "    </tr>\n",
       "    <tr>\n",
       "      <th>9</th>\n",
       "      <td>466.0</td>\n",
       "      <td>58</td>\n",
       "    </tr>\n",
       "    <tr>\n",
       "      <th>10</th>\n",
       "      <td>350.0</td>\n",
       "      <td>57</td>\n",
       "    </tr>\n",
       "    <tr>\n",
       "      <th>11</th>\n",
       "      <td>338.0</td>\n",
       "      <td>43</td>\n",
       "    </tr>\n",
       "    <tr>\n",
       "      <th>12</th>\n",
       "      <td>333.0</td>\n",
       "      <td>46</td>\n",
       "    </tr>\n",
       "    <tr>\n",
       "      <th rowspan=\"2\" valign=\"top\">1001</th>\n",
       "      <th>11</th>\n",
       "      <td>430.0</td>\n",
       "      <td>59</td>\n",
       "    </tr>\n",
       "    <tr>\n",
       "      <th>12</th>\n",
       "      <td>414.0</td>\n",
       "      <td>63</td>\n",
       "    </tr>\n",
       "    <tr>\n",
       "      <th rowspan=\"5\" valign=\"top\">1002</th>\n",
       "      <th>6</th>\n",
       "      <td>117.0</td>\n",
       "      <td>15</td>\n",
       "    </tr>\n",
       "    <tr>\n",
       "      <th>7</th>\n",
       "      <td>187.0</td>\n",
       "      <td>25</td>\n",
       "    </tr>\n",
       "    <tr>\n",
       "      <th>8</th>\n",
       "      <td>289.0</td>\n",
       "      <td>42</td>\n",
       "    </tr>\n",
       "    <tr>\n",
       "      <th>9</th>\n",
       "      <td>206.0</td>\n",
       "      <td>36</td>\n",
       "    </tr>\n",
       "    <tr>\n",
       "      <th>10</th>\n",
       "      <td>212.0</td>\n",
       "      <td>33</td>\n",
       "    </tr>\n",
       "  </tbody>\n",
       "</table>\n",
       "</div>"
      ],
      "text/plain": [
       "               duration  call_date\n",
       "user_id month                     \n",
       "1000    5         159.0         22\n",
       "        6         172.0         43\n",
       "        7         340.0         47\n",
       "        8         408.0         52\n",
       "        9         466.0         58\n",
       "        10        350.0         57\n",
       "        11        338.0         43\n",
       "        12        333.0         46\n",
       "1001    11        430.0         59\n",
       "        12        414.0         63\n",
       "1002    6         117.0         15\n",
       "        7         187.0         25\n",
       "        8         289.0         42\n",
       "        9         206.0         36\n",
       "        10        212.0         33"
      ]
     },
     "execution_count": 65,
     "metadata": {},
     "output_type": "execute_result"
    }
   ],
   "source": [
    "calls_group = calls.groupby(['user_id', 'month']).agg({'duration':'sum', 'call_date':'count'}) # создание сводной таблицы\n",
    "\n",
    "calls_group.head(15) # получение первых 15 строк таблицы"
   ]
  },
  {
   "cell_type": "markdown",
   "metadata": {},
   "source": [
    "#### Количество отправленных сообщений по месяцам"
   ]
  },
  {
   "cell_type": "markdown",
   "metadata": {},
   "source": [
    "Добавим новый столбец `month`, выделив месяц из столбца `message_date` методом `month`."
   ]
  },
  {
   "cell_type": "code",
   "execution_count": 66,
   "metadata": {},
   "outputs": [
    {
     "data": {
      "text/html": [
       "<div>\n",
       "<style scoped>\n",
       "    .dataframe tbody tr th:only-of-type {\n",
       "        vertical-align: middle;\n",
       "    }\n",
       "\n",
       "    .dataframe tbody tr th {\n",
       "        vertical-align: top;\n",
       "    }\n",
       "\n",
       "    .dataframe thead th {\n",
       "        text-align: right;\n",
       "    }\n",
       "</style>\n",
       "<table border=\"1\" class=\"dataframe\">\n",
       "  <thead>\n",
       "    <tr style=\"text-align: right;\">\n",
       "      <th></th>\n",
       "      <th>id_message</th>\n",
       "      <th>message_date</th>\n",
       "      <th>user_id</th>\n",
       "      <th>month</th>\n",
       "    </tr>\n",
       "  </thead>\n",
       "  <tbody>\n",
       "    <tr>\n",
       "      <th>0</th>\n",
       "      <td>1000_0</td>\n",
       "      <td>2018-06-27</td>\n",
       "      <td>1000</td>\n",
       "      <td>6</td>\n",
       "    </tr>\n",
       "    <tr>\n",
       "      <th>1</th>\n",
       "      <td>1000_1</td>\n",
       "      <td>2018-10-08</td>\n",
       "      <td>1000</td>\n",
       "      <td>10</td>\n",
       "    </tr>\n",
       "    <tr>\n",
       "      <th>2</th>\n",
       "      <td>1000_2</td>\n",
       "      <td>2018-08-04</td>\n",
       "      <td>1000</td>\n",
       "      <td>8</td>\n",
       "    </tr>\n",
       "    <tr>\n",
       "      <th>3</th>\n",
       "      <td>1000_3</td>\n",
       "      <td>2018-06-16</td>\n",
       "      <td>1000</td>\n",
       "      <td>6</td>\n",
       "    </tr>\n",
       "    <tr>\n",
       "      <th>4</th>\n",
       "      <td>1000_4</td>\n",
       "      <td>2018-12-05</td>\n",
       "      <td>1000</td>\n",
       "      <td>12</td>\n",
       "    </tr>\n",
       "    <tr>\n",
       "      <th>5</th>\n",
       "      <td>1000_5</td>\n",
       "      <td>2018-06-20</td>\n",
       "      <td>1000</td>\n",
       "      <td>6</td>\n",
       "    </tr>\n",
       "    <tr>\n",
       "      <th>6</th>\n",
       "      <td>1000_6</td>\n",
       "      <td>2018-11-19</td>\n",
       "      <td>1000</td>\n",
       "      <td>11</td>\n",
       "    </tr>\n",
       "    <tr>\n",
       "      <th>7</th>\n",
       "      <td>1000_7</td>\n",
       "      <td>2018-10-29</td>\n",
       "      <td>1000</td>\n",
       "      <td>10</td>\n",
       "    </tr>\n",
       "    <tr>\n",
       "      <th>8</th>\n",
       "      <td>1000_8</td>\n",
       "      <td>2018-06-25</td>\n",
       "      <td>1000</td>\n",
       "      <td>6</td>\n",
       "    </tr>\n",
       "    <tr>\n",
       "      <th>9</th>\n",
       "      <td>1000_9</td>\n",
       "      <td>2018-12-18</td>\n",
       "      <td>1000</td>\n",
       "      <td>12</td>\n",
       "    </tr>\n",
       "  </tbody>\n",
       "</table>\n",
       "</div>"
      ],
      "text/plain": [
       "  id_message message_date  user_id  month\n",
       "0     1000_0   2018-06-27     1000      6\n",
       "1     1000_1   2018-10-08     1000     10\n",
       "2     1000_2   2018-08-04     1000      8\n",
       "3     1000_3   2018-06-16     1000      6\n",
       "4     1000_4   2018-12-05     1000     12\n",
       "5     1000_5   2018-06-20     1000      6\n",
       "6     1000_6   2018-11-19     1000     11\n",
       "7     1000_7   2018-10-29     1000     10\n",
       "8     1000_8   2018-06-25     1000      6\n",
       "9     1000_9   2018-12-18     1000     12"
      ]
     },
     "execution_count": 66,
     "metadata": {},
     "output_type": "execute_result"
    }
   ],
   "source": [
    "messages['month'] = pd.DatetimeIndex(messages['message_date']).month # добавление нового столбца\n",
    "messages.head(10) # получение первых 10 строк таблицы"
   ]
  },
  {
   "cell_type": "markdown",
   "metadata": {},
   "source": [
    "Сгруппируем таблицу `messages` по месяцу и id абонента, рассчитаем количество отправленных сообщений в месяц. Результат поместим в переменную `calls_group`."
   ]
  },
  {
   "cell_type": "code",
   "execution_count": 67,
   "metadata": {},
   "outputs": [
    {
     "data": {
      "text/html": [
       "<div>\n",
       "<style scoped>\n",
       "    .dataframe tbody tr th:only-of-type {\n",
       "        vertical-align: middle;\n",
       "    }\n",
       "\n",
       "    .dataframe tbody tr th {\n",
       "        vertical-align: top;\n",
       "    }\n",
       "\n",
       "    .dataframe thead th {\n",
       "        text-align: right;\n",
       "    }\n",
       "</style>\n",
       "<table border=\"1\" class=\"dataframe\">\n",
       "  <thead>\n",
       "    <tr style=\"text-align: right;\">\n",
       "      <th></th>\n",
       "      <th></th>\n",
       "      <th>id_message</th>\n",
       "    </tr>\n",
       "    <tr>\n",
       "      <th>user_id</th>\n",
       "      <th>month</th>\n",
       "      <th></th>\n",
       "    </tr>\n",
       "  </thead>\n",
       "  <tbody>\n",
       "    <tr>\n",
       "      <th rowspan=\"8\" valign=\"top\">1000</th>\n",
       "      <th>5</th>\n",
       "      <td>22</td>\n",
       "    </tr>\n",
       "    <tr>\n",
       "      <th>6</th>\n",
       "      <td>60</td>\n",
       "    </tr>\n",
       "    <tr>\n",
       "      <th>7</th>\n",
       "      <td>75</td>\n",
       "    </tr>\n",
       "    <tr>\n",
       "      <th>8</th>\n",
       "      <td>81</td>\n",
       "    </tr>\n",
       "    <tr>\n",
       "      <th>9</th>\n",
       "      <td>57</td>\n",
       "    </tr>\n",
       "    <tr>\n",
       "      <th>10</th>\n",
       "      <td>73</td>\n",
       "    </tr>\n",
       "    <tr>\n",
       "      <th>11</th>\n",
       "      <td>58</td>\n",
       "    </tr>\n",
       "    <tr>\n",
       "      <th>12</th>\n",
       "      <td>70</td>\n",
       "    </tr>\n",
       "    <tr>\n",
       "      <th rowspan=\"2\" valign=\"top\">1002</th>\n",
       "      <th>6</th>\n",
       "      <td>4</td>\n",
       "    </tr>\n",
       "    <tr>\n",
       "      <th>7</th>\n",
       "      <td>11</td>\n",
       "    </tr>\n",
       "  </tbody>\n",
       "</table>\n",
       "</div>"
      ],
      "text/plain": [
       "               id_message\n",
       "user_id month            \n",
       "1000    5              22\n",
       "        6              60\n",
       "        7              75\n",
       "        8              81\n",
       "        9              57\n",
       "        10             73\n",
       "        11             58\n",
       "        12             70\n",
       "1002    6               4\n",
       "        7              11"
      ]
     },
     "execution_count": 67,
     "metadata": {},
     "output_type": "execute_result"
    }
   ],
   "source": [
    "messages_group = messages.groupby(['user_id', 'month']).agg({'id_message':'count'}) # создание сводной таблицы\n",
    "messages_group.head(10) # получение первых 10 строк таблицы"
   ]
  },
  {
   "cell_type": "markdown",
   "metadata": {},
   "source": [
    "#### Oбъем израсходованного интернет-трафика по месяцам;"
   ]
  },
  {
   "cell_type": "markdown",
   "metadata": {},
   "source": [
    "Добавим новый столбец `month`, выделив месяц из столбца `session_date` методом `month`."
   ]
  },
  {
   "cell_type": "code",
   "execution_count": 68,
   "metadata": {},
   "outputs": [
    {
     "data": {
      "text/html": [
       "<div>\n",
       "<style scoped>\n",
       "    .dataframe tbody tr th:only-of-type {\n",
       "        vertical-align: middle;\n",
       "    }\n",
       "\n",
       "    .dataframe tbody tr th {\n",
       "        vertical-align: top;\n",
       "    }\n",
       "\n",
       "    .dataframe thead th {\n",
       "        text-align: right;\n",
       "    }\n",
       "</style>\n",
       "<table border=\"1\" class=\"dataframe\">\n",
       "  <thead>\n",
       "    <tr style=\"text-align: right;\">\n",
       "      <th></th>\n",
       "      <th>id_internet</th>\n",
       "      <th>mb_used</th>\n",
       "      <th>session_date</th>\n",
       "      <th>user_id</th>\n",
       "      <th>month</th>\n",
       "    </tr>\n",
       "  </thead>\n",
       "  <tbody>\n",
       "    <tr>\n",
       "      <th>0</th>\n",
       "      <td>1000_0</td>\n",
       "      <td>112.95</td>\n",
       "      <td>2018-11-25</td>\n",
       "      <td>1000</td>\n",
       "      <td>11</td>\n",
       "    </tr>\n",
       "    <tr>\n",
       "      <th>1</th>\n",
       "      <td>1000_1</td>\n",
       "      <td>1052.81</td>\n",
       "      <td>2018-09-07</td>\n",
       "      <td>1000</td>\n",
       "      <td>9</td>\n",
       "    </tr>\n",
       "    <tr>\n",
       "      <th>2</th>\n",
       "      <td>1000_2</td>\n",
       "      <td>1197.26</td>\n",
       "      <td>2018-06-25</td>\n",
       "      <td>1000</td>\n",
       "      <td>6</td>\n",
       "    </tr>\n",
       "    <tr>\n",
       "      <th>3</th>\n",
       "      <td>1000_3</td>\n",
       "      <td>550.27</td>\n",
       "      <td>2018-08-22</td>\n",
       "      <td>1000</td>\n",
       "      <td>8</td>\n",
       "    </tr>\n",
       "    <tr>\n",
       "      <th>4</th>\n",
       "      <td>1000_4</td>\n",
       "      <td>302.56</td>\n",
       "      <td>2018-09-24</td>\n",
       "      <td>1000</td>\n",
       "      <td>9</td>\n",
       "    </tr>\n",
       "  </tbody>\n",
       "</table>\n",
       "</div>"
      ],
      "text/plain": [
       "  id_internet  mb_used session_date  user_id  month\n",
       "0      1000_0   112.95   2018-11-25     1000     11\n",
       "1      1000_1  1052.81   2018-09-07     1000      9\n",
       "2      1000_2  1197.26   2018-06-25     1000      6\n",
       "3      1000_3   550.27   2018-08-22     1000      8\n",
       "4      1000_4   302.56   2018-09-24     1000      9"
      ]
     },
     "execution_count": 68,
     "metadata": {},
     "output_type": "execute_result"
    }
   ],
   "source": [
    "internet['month'] = pd.DatetimeIndex(internet['session_date']).month # добавление нового столбца\n",
    "internet.head()"
   ]
  },
  {
   "cell_type": "code",
   "execution_count": 69,
   "metadata": {},
   "outputs": [
    {
     "data": {
      "text/html": [
       "<div>\n",
       "<style scoped>\n",
       "    .dataframe tbody tr th:only-of-type {\n",
       "        vertical-align: middle;\n",
       "    }\n",
       "\n",
       "    .dataframe tbody tr th {\n",
       "        vertical-align: top;\n",
       "    }\n",
       "\n",
       "    .dataframe thead th {\n",
       "        text-align: right;\n",
       "    }\n",
       "</style>\n",
       "<table border=\"1\" class=\"dataframe\">\n",
       "  <thead>\n",
       "    <tr style=\"text-align: right;\">\n",
       "      <th></th>\n",
       "      <th></th>\n",
       "      <th>mb_used</th>\n",
       "    </tr>\n",
       "    <tr>\n",
       "      <th>user_id</th>\n",
       "      <th>month</th>\n",
       "      <th></th>\n",
       "    </tr>\n",
       "  </thead>\n",
       "  <tbody>\n",
       "    <tr>\n",
       "      <th rowspan=\"8\" valign=\"top\">1000</th>\n",
       "      <th>5</th>\n",
       "      <td>2253.49</td>\n",
       "    </tr>\n",
       "    <tr>\n",
       "      <th>6</th>\n",
       "      <td>23233.77</td>\n",
       "    </tr>\n",
       "    <tr>\n",
       "      <th>7</th>\n",
       "      <td>14003.64</td>\n",
       "    </tr>\n",
       "    <tr>\n",
       "      <th>8</th>\n",
       "      <td>14055.93</td>\n",
       "    </tr>\n",
       "    <tr>\n",
       "      <th>9</th>\n",
       "      <td>14568.91</td>\n",
       "    </tr>\n",
       "    <tr>\n",
       "      <th>10</th>\n",
       "      <td>14702.49</td>\n",
       "    </tr>\n",
       "    <tr>\n",
       "      <th>11</th>\n",
       "      <td>12142.68</td>\n",
       "    </tr>\n",
       "    <tr>\n",
       "      <th>12</th>\n",
       "      <td>9817.61</td>\n",
       "    </tr>\n",
       "    <tr>\n",
       "      <th rowspan=\"2\" valign=\"top\">1001</th>\n",
       "      <th>11</th>\n",
       "      <td>18429.34</td>\n",
       "    </tr>\n",
       "    <tr>\n",
       "      <th>12</th>\n",
       "      <td>14036.66</td>\n",
       "    </tr>\n",
       "  </tbody>\n",
       "</table>\n",
       "</div>"
      ],
      "text/plain": [
       "                mb_used\n",
       "user_id month          \n",
       "1000    5       2253.49\n",
       "        6      23233.77\n",
       "        7      14003.64\n",
       "        8      14055.93\n",
       "        9      14568.91\n",
       "        10     14702.49\n",
       "        11     12142.68\n",
       "        12      9817.61\n",
       "1001    11     18429.34\n",
       "        12     14036.66"
      ]
     },
     "execution_count": 69,
     "metadata": {},
     "output_type": "execute_result"
    }
   ],
   "source": [
    "internet_group = internet.groupby(['user_id', 'month']).agg({'mb_used':'sum'}) # создание сводной таблицы\n",
    "internet_group.head(10) # получение первых 10 строк таблицы"
   ]
  },
  {
   "cell_type": "markdown",
   "metadata": {},
   "source": [
    "<div class=\"alert alert-block alert-success\">\n",
    "<b>Комментарий ревьюера (всё отлично):</b>\n",
    "Всё почитано верно."
   ]
  },
  {
   "cell_type": "markdown",
   "metadata": {},
   "source": [
    "#### Объединение таблиц"
   ]
  },
  {
   "cell_type": "markdown",
   "metadata": {},
   "source": [
    "Объединим таблицы `calls_group` и `messages_group` методом `merge` по совпадающим значениям столбца `user_id`. Используем тип слияния `outer`. Результат сохраним в переменную `data`."
   ]
  },
  {
   "cell_type": "code",
   "execution_count": 70,
   "metadata": {},
   "outputs": [
    {
     "data": {
      "text/html": [
       "<div>\n",
       "<style scoped>\n",
       "    .dataframe tbody tr th:only-of-type {\n",
       "        vertical-align: middle;\n",
       "    }\n",
       "\n",
       "    .dataframe tbody tr th {\n",
       "        vertical-align: top;\n",
       "    }\n",
       "\n",
       "    .dataframe thead th {\n",
       "        text-align: right;\n",
       "    }\n",
       "</style>\n",
       "<table border=\"1\" class=\"dataframe\">\n",
       "  <thead>\n",
       "    <tr style=\"text-align: right;\">\n",
       "      <th></th>\n",
       "      <th></th>\n",
       "      <th>duration</th>\n",
       "      <th>call_date</th>\n",
       "      <th>id_message</th>\n",
       "    </tr>\n",
       "    <tr>\n",
       "      <th>user_id</th>\n",
       "      <th>month</th>\n",
       "      <th></th>\n",
       "      <th></th>\n",
       "      <th></th>\n",
       "    </tr>\n",
       "  </thead>\n",
       "  <tbody>\n",
       "    <tr>\n",
       "      <th rowspan=\"5\" valign=\"top\">1000</th>\n",
       "      <th>5</th>\n",
       "      <td>159.0</td>\n",
       "      <td>22.0</td>\n",
       "      <td>22.0</td>\n",
       "    </tr>\n",
       "    <tr>\n",
       "      <th>6</th>\n",
       "      <td>172.0</td>\n",
       "      <td>43.0</td>\n",
       "      <td>60.0</td>\n",
       "    </tr>\n",
       "    <tr>\n",
       "      <th>7</th>\n",
       "      <td>340.0</td>\n",
       "      <td>47.0</td>\n",
       "      <td>75.0</td>\n",
       "    </tr>\n",
       "    <tr>\n",
       "      <th>8</th>\n",
       "      <td>408.0</td>\n",
       "      <td>52.0</td>\n",
       "      <td>81.0</td>\n",
       "    </tr>\n",
       "    <tr>\n",
       "      <th>9</th>\n",
       "      <td>466.0</td>\n",
       "      <td>58.0</td>\n",
       "      <td>57.0</td>\n",
       "    </tr>\n",
       "  </tbody>\n",
       "</table>\n",
       "</div>"
      ],
      "text/plain": [
       "               duration  call_date  id_message\n",
       "user_id month                                 \n",
       "1000    5         159.0       22.0        22.0\n",
       "        6         172.0       43.0        60.0\n",
       "        7         340.0       47.0        75.0\n",
       "        8         408.0       52.0        81.0\n",
       "        9         466.0       58.0        57.0"
      ]
     },
     "execution_count": 70,
     "metadata": {},
     "output_type": "execute_result"
    }
   ],
   "source": [
    "data = calls_group.merge(messages_group, on=['user_id', 'month'], how='outer') # объединение таблиц методом merge\n",
    "data.head() # получение первых 5 строк таблицы"
   ]
  },
  {
   "cell_type": "markdown",
   "metadata": {},
   "source": [
    "К новой таблице `data` присоединим таблицу `internet_group`."
   ]
  },
  {
   "cell_type": "code",
   "execution_count": 71,
   "metadata": {},
   "outputs": [
    {
     "data": {
      "text/html": [
       "<div>\n",
       "<style scoped>\n",
       "    .dataframe tbody tr th:only-of-type {\n",
       "        vertical-align: middle;\n",
       "    }\n",
       "\n",
       "    .dataframe tbody tr th {\n",
       "        vertical-align: top;\n",
       "    }\n",
       "\n",
       "    .dataframe thead th {\n",
       "        text-align: right;\n",
       "    }\n",
       "</style>\n",
       "<table border=\"1\" class=\"dataframe\">\n",
       "  <thead>\n",
       "    <tr style=\"text-align: right;\">\n",
       "      <th></th>\n",
       "      <th></th>\n",
       "      <th>duration</th>\n",
       "      <th>call_date</th>\n",
       "      <th>id_message</th>\n",
       "      <th>mb_used</th>\n",
       "    </tr>\n",
       "    <tr>\n",
       "      <th>user_id</th>\n",
       "      <th>month</th>\n",
       "      <th></th>\n",
       "      <th></th>\n",
       "      <th></th>\n",
       "      <th></th>\n",
       "    </tr>\n",
       "  </thead>\n",
       "  <tbody>\n",
       "    <tr>\n",
       "      <th rowspan=\"8\" valign=\"top\">1000</th>\n",
       "      <th>5</th>\n",
       "      <td>159.0</td>\n",
       "      <td>22.0</td>\n",
       "      <td>22.0</td>\n",
       "      <td>2253.49</td>\n",
       "    </tr>\n",
       "    <tr>\n",
       "      <th>6</th>\n",
       "      <td>172.0</td>\n",
       "      <td>43.0</td>\n",
       "      <td>60.0</td>\n",
       "      <td>23233.77</td>\n",
       "    </tr>\n",
       "    <tr>\n",
       "      <th>7</th>\n",
       "      <td>340.0</td>\n",
       "      <td>47.0</td>\n",
       "      <td>75.0</td>\n",
       "      <td>14003.64</td>\n",
       "    </tr>\n",
       "    <tr>\n",
       "      <th>8</th>\n",
       "      <td>408.0</td>\n",
       "      <td>52.0</td>\n",
       "      <td>81.0</td>\n",
       "      <td>14055.93</td>\n",
       "    </tr>\n",
       "    <tr>\n",
       "      <th>9</th>\n",
       "      <td>466.0</td>\n",
       "      <td>58.0</td>\n",
       "      <td>57.0</td>\n",
       "      <td>14568.91</td>\n",
       "    </tr>\n",
       "    <tr>\n",
       "      <th>10</th>\n",
       "      <td>350.0</td>\n",
       "      <td>57.0</td>\n",
       "      <td>73.0</td>\n",
       "      <td>14702.49</td>\n",
       "    </tr>\n",
       "    <tr>\n",
       "      <th>11</th>\n",
       "      <td>338.0</td>\n",
       "      <td>43.0</td>\n",
       "      <td>58.0</td>\n",
       "      <td>12142.68</td>\n",
       "    </tr>\n",
       "    <tr>\n",
       "      <th>12</th>\n",
       "      <td>333.0</td>\n",
       "      <td>46.0</td>\n",
       "      <td>70.0</td>\n",
       "      <td>9817.61</td>\n",
       "    </tr>\n",
       "    <tr>\n",
       "      <th rowspan=\"2\" valign=\"top\">1001</th>\n",
       "      <th>11</th>\n",
       "      <td>430.0</td>\n",
       "      <td>59.0</td>\n",
       "      <td>NaN</td>\n",
       "      <td>18429.34</td>\n",
       "    </tr>\n",
       "    <tr>\n",
       "      <th>12</th>\n",
       "      <td>414.0</td>\n",
       "      <td>63.0</td>\n",
       "      <td>NaN</td>\n",
       "      <td>14036.66</td>\n",
       "    </tr>\n",
       "  </tbody>\n",
       "</table>\n",
       "</div>"
      ],
      "text/plain": [
       "               duration  call_date  id_message   mb_used\n",
       "user_id month                                           \n",
       "1000    5         159.0       22.0        22.0   2253.49\n",
       "        6         172.0       43.0        60.0  23233.77\n",
       "        7         340.0       47.0        75.0  14003.64\n",
       "        8         408.0       52.0        81.0  14055.93\n",
       "        9         466.0       58.0        57.0  14568.91\n",
       "        10        350.0       57.0        73.0  14702.49\n",
       "        11        338.0       43.0        58.0  12142.68\n",
       "        12        333.0       46.0        70.0   9817.61\n",
       "1001    11        430.0       59.0         NaN  18429.34\n",
       "        12        414.0       63.0         NaN  14036.66"
      ]
     },
     "execution_count": 71,
     "metadata": {},
     "output_type": "execute_result"
    }
   ],
   "source": [
    "data = data.merge(internet_group, on=['user_id', 'month'], how='outer' ) # объединение таблиц методом merge\n",
    "data.head(10) # получение первых 10 строк таблицы"
   ]
  },
  {
   "cell_type": "markdown",
   "metadata": {},
   "source": [
    "Методом `reset_index` избавимся от мультииндекса."
   ]
  },
  {
   "cell_type": "code",
   "execution_count": 72,
   "metadata": {},
   "outputs": [
    {
     "data": {
      "text/html": [
       "<div>\n",
       "<style scoped>\n",
       "    .dataframe tbody tr th:only-of-type {\n",
       "        vertical-align: middle;\n",
       "    }\n",
       "\n",
       "    .dataframe tbody tr th {\n",
       "        vertical-align: top;\n",
       "    }\n",
       "\n",
       "    .dataframe thead th {\n",
       "        text-align: right;\n",
       "    }\n",
       "</style>\n",
       "<table border=\"1\" class=\"dataframe\">\n",
       "  <thead>\n",
       "    <tr style=\"text-align: right;\">\n",
       "      <th></th>\n",
       "      <th>user_id</th>\n",
       "      <th>month</th>\n",
       "      <th>duration</th>\n",
       "      <th>call_date</th>\n",
       "      <th>id_message</th>\n",
       "      <th>mb_used</th>\n",
       "    </tr>\n",
       "  </thead>\n",
       "  <tbody>\n",
       "    <tr>\n",
       "      <th>0</th>\n",
       "      <td>1000</td>\n",
       "      <td>5</td>\n",
       "      <td>159.0</td>\n",
       "      <td>22.0</td>\n",
       "      <td>22.0</td>\n",
       "      <td>2253.49</td>\n",
       "    </tr>\n",
       "    <tr>\n",
       "      <th>1</th>\n",
       "      <td>1000</td>\n",
       "      <td>6</td>\n",
       "      <td>172.0</td>\n",
       "      <td>43.0</td>\n",
       "      <td>60.0</td>\n",
       "      <td>23233.77</td>\n",
       "    </tr>\n",
       "    <tr>\n",
       "      <th>2</th>\n",
       "      <td>1000</td>\n",
       "      <td>7</td>\n",
       "      <td>340.0</td>\n",
       "      <td>47.0</td>\n",
       "      <td>75.0</td>\n",
       "      <td>14003.64</td>\n",
       "    </tr>\n",
       "    <tr>\n",
       "      <th>3</th>\n",
       "      <td>1000</td>\n",
       "      <td>8</td>\n",
       "      <td>408.0</td>\n",
       "      <td>52.0</td>\n",
       "      <td>81.0</td>\n",
       "      <td>14055.93</td>\n",
       "    </tr>\n",
       "    <tr>\n",
       "      <th>4</th>\n",
       "      <td>1000</td>\n",
       "      <td>9</td>\n",
       "      <td>466.0</td>\n",
       "      <td>58.0</td>\n",
       "      <td>57.0</td>\n",
       "      <td>14568.91</td>\n",
       "    </tr>\n",
       "  </tbody>\n",
       "</table>\n",
       "</div>"
      ],
      "text/plain": [
       "   user_id  month  duration  call_date  id_message   mb_used\n",
       "0     1000      5     159.0       22.0        22.0   2253.49\n",
       "1     1000      6     172.0       43.0        60.0  23233.77\n",
       "2     1000      7     340.0       47.0        75.0  14003.64\n",
       "3     1000      8     408.0       52.0        81.0  14055.93\n",
       "4     1000      9     466.0       58.0        57.0  14568.91"
      ]
     },
     "execution_count": 72,
     "metadata": {},
     "output_type": "execute_result"
    }
   ],
   "source": [
    "data = data.reset_index() # сброс индекса\n",
    "data.head() # получение первых 5 строк таблицы"
   ]
  },
  {
   "cell_type": "markdown",
   "metadata": {},
   "source": [
    "<div class=\"alert alert-info\"> <b>Комментарий студента:</b> Ниже добавила проверку таблиц после объединения.</div>"
   ]
  },
  {
   "cell_type": "markdown",
   "metadata": {},
   "source": [
    "Проверим что объединение таблиц прошло корректно. Для это сравним общее количество минут разговор, отправленных сообщений и израсходованных гигабайт трафика в исходных таблицах и в итоговой."
   ]
  },
  {
   "cell_type": "code",
   "execution_count": 73,
   "metadata": {},
   "outputs": [
    {
     "data": {
      "text/plain": [
       "1431433.0"
      ]
     },
     "execution_count": 73,
     "metadata": {},
     "output_type": "execute_result"
    }
   ],
   "source": [
    "calls_group['duration'].sum() # подсчет общей длительности звонков в таблице calls_group"
   ]
  },
  {
   "cell_type": "code",
   "execution_count": 74,
   "metadata": {},
   "outputs": [
    {
     "data": {
      "text/plain": [
       "1431433.0"
      ]
     },
     "execution_count": 74,
     "metadata": {},
     "output_type": "execute_result"
    }
   ],
   "source": [
    "data['duration'].sum() # подсчет общей длительности звонков в таблице data"
   ]
  },
  {
   "cell_type": "code",
   "execution_count": 75,
   "metadata": {},
   "outputs": [
    {
     "data": {
      "text/plain": [
       "123036"
      ]
     },
     "execution_count": 75,
     "metadata": {},
     "output_type": "execute_result"
    }
   ],
   "source": [
    "messages_group['id_message'].sum() # подсчет общего количества отправленных смс в таблице messages_group"
   ]
  },
  {
   "cell_type": "code",
   "execution_count": 76,
   "metadata": {},
   "outputs": [
    {
     "data": {
      "text/plain": [
       "123036.0"
      ]
     },
     "execution_count": 76,
     "metadata": {},
     "output_type": "execute_result"
    }
   ],
   "source": [
    "data['id_message'].sum() # подсчет общего количества отправленных смс в таблице data"
   ]
  },
  {
   "cell_type": "code",
   "execution_count": 77,
   "metadata": {},
   "outputs": [
    {
     "data": {
      "text/plain": [
       "54662518.09"
      ]
     },
     "execution_count": 77,
     "metadata": {},
     "output_type": "execute_result"
    }
   ],
   "source": [
    "internet_group['mb_used'].sum() # подсчет общего количества израсходованного интернет трафика в таблице internet_group"
   ]
  },
  {
   "cell_type": "code",
   "execution_count": 78,
   "metadata": {},
   "outputs": [
    {
     "data": {
      "text/plain": [
       "54662518.09"
      ]
     },
     "execution_count": 78,
     "metadata": {},
     "output_type": "execute_result"
    }
   ],
   "source": [
    "data['mb_used'].sum()  # подсчет общего количества израсходованного интернет трафика в таблице data"
   ]
  },
  {
   "cell_type": "markdown",
   "metadata": {},
   "source": [
    "Oбщее количество минут разговор, отправленных сообщений и израсходованных гигабайт трафика в исходных таблицах и итоговой таблице совпадают."
   ]
  },
  {
   "cell_type": "markdown",
   "metadata": {},
   "source": [
    "<div class=\"alert alert-block alert-success\">\n",
    "<b>Комментарий ревьюера V2(всё отлично):</b>\n",
    "Всё совпало, значит мы не потеряли никакие данные при объединении  👍"
   ]
  },
  {
   "cell_type": "markdown",
   "metadata": {},
   "source": [
    "Присоединим к таблице `data` таблицу `users` по совпадающим значениям столбца `user_id`. Режим объединения `left`."
   ]
  },
  {
   "cell_type": "code",
   "execution_count": 79,
   "metadata": {},
   "outputs": [
    {
     "data": {
      "text/html": [
       "<div>\n",
       "<style scoped>\n",
       "    .dataframe tbody tr th:only-of-type {\n",
       "        vertical-align: middle;\n",
       "    }\n",
       "\n",
       "    .dataframe tbody tr th {\n",
       "        vertical-align: top;\n",
       "    }\n",
       "\n",
       "    .dataframe thead th {\n",
       "        text-align: right;\n",
       "    }\n",
       "</style>\n",
       "<table border=\"1\" class=\"dataframe\">\n",
       "  <thead>\n",
       "    <tr style=\"text-align: right;\">\n",
       "      <th></th>\n",
       "      <th>user_id</th>\n",
       "      <th>month</th>\n",
       "      <th>duration</th>\n",
       "      <th>call_date</th>\n",
       "      <th>id_message</th>\n",
       "      <th>mb_used</th>\n",
       "      <th>age</th>\n",
       "      <th>churn_date</th>\n",
       "      <th>city</th>\n",
       "      <th>first_name</th>\n",
       "      <th>last_name</th>\n",
       "      <th>reg_date</th>\n",
       "      <th>tariff</th>\n",
       "    </tr>\n",
       "  </thead>\n",
       "  <tbody>\n",
       "    <tr>\n",
       "      <th>0</th>\n",
       "      <td>1000</td>\n",
       "      <td>5</td>\n",
       "      <td>159.0</td>\n",
       "      <td>22.0</td>\n",
       "      <td>22.0</td>\n",
       "      <td>2253.49</td>\n",
       "      <td>52</td>\n",
       "      <td>NaT</td>\n",
       "      <td>Краснодар</td>\n",
       "      <td>Рафаил</td>\n",
       "      <td>Верещагин</td>\n",
       "      <td>2018-05-25</td>\n",
       "      <td>ultra</td>\n",
       "    </tr>\n",
       "    <tr>\n",
       "      <th>1</th>\n",
       "      <td>1000</td>\n",
       "      <td>6</td>\n",
       "      <td>172.0</td>\n",
       "      <td>43.0</td>\n",
       "      <td>60.0</td>\n",
       "      <td>23233.77</td>\n",
       "      <td>52</td>\n",
       "      <td>NaT</td>\n",
       "      <td>Краснодар</td>\n",
       "      <td>Рафаил</td>\n",
       "      <td>Верещагин</td>\n",
       "      <td>2018-05-25</td>\n",
       "      <td>ultra</td>\n",
       "    </tr>\n",
       "    <tr>\n",
       "      <th>2</th>\n",
       "      <td>1000</td>\n",
       "      <td>7</td>\n",
       "      <td>340.0</td>\n",
       "      <td>47.0</td>\n",
       "      <td>75.0</td>\n",
       "      <td>14003.64</td>\n",
       "      <td>52</td>\n",
       "      <td>NaT</td>\n",
       "      <td>Краснодар</td>\n",
       "      <td>Рафаил</td>\n",
       "      <td>Верещагин</td>\n",
       "      <td>2018-05-25</td>\n",
       "      <td>ultra</td>\n",
       "    </tr>\n",
       "    <tr>\n",
       "      <th>3</th>\n",
       "      <td>1000</td>\n",
       "      <td>8</td>\n",
       "      <td>408.0</td>\n",
       "      <td>52.0</td>\n",
       "      <td>81.0</td>\n",
       "      <td>14055.93</td>\n",
       "      <td>52</td>\n",
       "      <td>NaT</td>\n",
       "      <td>Краснодар</td>\n",
       "      <td>Рафаил</td>\n",
       "      <td>Верещагин</td>\n",
       "      <td>2018-05-25</td>\n",
       "      <td>ultra</td>\n",
       "    </tr>\n",
       "    <tr>\n",
       "      <th>4</th>\n",
       "      <td>1000</td>\n",
       "      <td>9</td>\n",
       "      <td>466.0</td>\n",
       "      <td>58.0</td>\n",
       "      <td>57.0</td>\n",
       "      <td>14568.91</td>\n",
       "      <td>52</td>\n",
       "      <td>NaT</td>\n",
       "      <td>Краснодар</td>\n",
       "      <td>Рафаил</td>\n",
       "      <td>Верещагин</td>\n",
       "      <td>2018-05-25</td>\n",
       "      <td>ultra</td>\n",
       "    </tr>\n",
       "    <tr>\n",
       "      <th>5</th>\n",
       "      <td>1000</td>\n",
       "      <td>10</td>\n",
       "      <td>350.0</td>\n",
       "      <td>57.0</td>\n",
       "      <td>73.0</td>\n",
       "      <td>14702.49</td>\n",
       "      <td>52</td>\n",
       "      <td>NaT</td>\n",
       "      <td>Краснодар</td>\n",
       "      <td>Рафаил</td>\n",
       "      <td>Верещагин</td>\n",
       "      <td>2018-05-25</td>\n",
       "      <td>ultra</td>\n",
       "    </tr>\n",
       "    <tr>\n",
       "      <th>6</th>\n",
       "      <td>1000</td>\n",
       "      <td>11</td>\n",
       "      <td>338.0</td>\n",
       "      <td>43.0</td>\n",
       "      <td>58.0</td>\n",
       "      <td>12142.68</td>\n",
       "      <td>52</td>\n",
       "      <td>NaT</td>\n",
       "      <td>Краснодар</td>\n",
       "      <td>Рафаил</td>\n",
       "      <td>Верещагин</td>\n",
       "      <td>2018-05-25</td>\n",
       "      <td>ultra</td>\n",
       "    </tr>\n",
       "    <tr>\n",
       "      <th>7</th>\n",
       "      <td>1000</td>\n",
       "      <td>12</td>\n",
       "      <td>333.0</td>\n",
       "      <td>46.0</td>\n",
       "      <td>70.0</td>\n",
       "      <td>9817.61</td>\n",
       "      <td>52</td>\n",
       "      <td>NaT</td>\n",
       "      <td>Краснодар</td>\n",
       "      <td>Рафаил</td>\n",
       "      <td>Верещагин</td>\n",
       "      <td>2018-05-25</td>\n",
       "      <td>ultra</td>\n",
       "    </tr>\n",
       "    <tr>\n",
       "      <th>8</th>\n",
       "      <td>1001</td>\n",
       "      <td>11</td>\n",
       "      <td>430.0</td>\n",
       "      <td>59.0</td>\n",
       "      <td>NaN</td>\n",
       "      <td>18429.34</td>\n",
       "      <td>41</td>\n",
       "      <td>NaT</td>\n",
       "      <td>Москва</td>\n",
       "      <td>Иван</td>\n",
       "      <td>Ежов</td>\n",
       "      <td>2018-11-01</td>\n",
       "      <td>smart</td>\n",
       "    </tr>\n",
       "    <tr>\n",
       "      <th>9</th>\n",
       "      <td>1001</td>\n",
       "      <td>12</td>\n",
       "      <td>414.0</td>\n",
       "      <td>63.0</td>\n",
       "      <td>NaN</td>\n",
       "      <td>14036.66</td>\n",
       "      <td>41</td>\n",
       "      <td>NaT</td>\n",
       "      <td>Москва</td>\n",
       "      <td>Иван</td>\n",
       "      <td>Ежов</td>\n",
       "      <td>2018-11-01</td>\n",
       "      <td>smart</td>\n",
       "    </tr>\n",
       "  </tbody>\n",
       "</table>\n",
       "</div>"
      ],
      "text/plain": [
       "   user_id  month  duration  call_date  id_message   mb_used  age churn_date  \\\n",
       "0     1000      5     159.0       22.0        22.0   2253.49   52        NaT   \n",
       "1     1000      6     172.0       43.0        60.0  23233.77   52        NaT   \n",
       "2     1000      7     340.0       47.0        75.0  14003.64   52        NaT   \n",
       "3     1000      8     408.0       52.0        81.0  14055.93   52        NaT   \n",
       "4     1000      9     466.0       58.0        57.0  14568.91   52        NaT   \n",
       "5     1000     10     350.0       57.0        73.0  14702.49   52        NaT   \n",
       "6     1000     11     338.0       43.0        58.0  12142.68   52        NaT   \n",
       "7     1000     12     333.0       46.0        70.0   9817.61   52        NaT   \n",
       "8     1001     11     430.0       59.0         NaN  18429.34   41        NaT   \n",
       "9     1001     12     414.0       63.0         NaN  14036.66   41        NaT   \n",
       "\n",
       "        city first_name  last_name   reg_date tariff  \n",
       "0  Краснодар     Рафаил  Верещагин 2018-05-25  ultra  \n",
       "1  Краснодар     Рафаил  Верещагин 2018-05-25  ultra  \n",
       "2  Краснодар     Рафаил  Верещагин 2018-05-25  ultra  \n",
       "3  Краснодар     Рафаил  Верещагин 2018-05-25  ultra  \n",
       "4  Краснодар     Рафаил  Верещагин 2018-05-25  ultra  \n",
       "5  Краснодар     Рафаил  Верещагин 2018-05-25  ultra  \n",
       "6  Краснодар     Рафаил  Верещагин 2018-05-25  ultra  \n",
       "7  Краснодар     Рафаил  Верещагин 2018-05-25  ultra  \n",
       "8     Москва       Иван       Ежов 2018-11-01  smart  \n",
       "9     Москва       Иван       Ежов 2018-11-01  smart  "
      ]
     },
     "execution_count": 79,
     "metadata": {},
     "output_type": "execute_result"
    }
   ],
   "source": [
    "data = data.merge(users, on='user_id', how='left' ) # объединение таблиц методом merge\n",
    "data.head(10) # получение первых 10 строк таблицы"
   ]
  },
  {
   "cell_type": "markdown",
   "metadata": {},
   "source": [
    "«Мегалайн» округляет мегабайты — до гигабайт. Для веб-трафика отдельные сессии не считаются. Вместо этого общая сумма за месяц округляется в бо́льшую сторону. В таблице `data` cтолбец `mb_used` содержит информацию об объёме потраченного за месяц интернет-трафика в мегабайтах. Переведем значение столбца `mb_used` в гигабайты и округлим до ближайшего большего значения методом `p.ceil`. После этого изменим название столбца на `gb_used`.\n"
   ]
  },
  {
   "cell_type": "code",
   "execution_count": 80,
   "metadata": {},
   "outputs": [
    {
     "data": {
      "text/html": [
       "<div>\n",
       "<style scoped>\n",
       "    .dataframe tbody tr th:only-of-type {\n",
       "        vertical-align: middle;\n",
       "    }\n",
       "\n",
       "    .dataframe tbody tr th {\n",
       "        vertical-align: top;\n",
       "    }\n",
       "\n",
       "    .dataframe thead th {\n",
       "        text-align: right;\n",
       "    }\n",
       "</style>\n",
       "<table border=\"1\" class=\"dataframe\">\n",
       "  <thead>\n",
       "    <tr style=\"text-align: right;\">\n",
       "      <th></th>\n",
       "      <th>user_id</th>\n",
       "      <th>month</th>\n",
       "      <th>duration</th>\n",
       "      <th>call_date</th>\n",
       "      <th>id_message</th>\n",
       "      <th>mb_used</th>\n",
       "      <th>age</th>\n",
       "      <th>churn_date</th>\n",
       "      <th>city</th>\n",
       "      <th>first_name</th>\n",
       "      <th>last_name</th>\n",
       "      <th>reg_date</th>\n",
       "      <th>tariff</th>\n",
       "    </tr>\n",
       "  </thead>\n",
       "  <tbody>\n",
       "    <tr>\n",
       "      <th>0</th>\n",
       "      <td>1000</td>\n",
       "      <td>5</td>\n",
       "      <td>159.0</td>\n",
       "      <td>22.0</td>\n",
       "      <td>22.0</td>\n",
       "      <td>3.0</td>\n",
       "      <td>52</td>\n",
       "      <td>NaT</td>\n",
       "      <td>Краснодар</td>\n",
       "      <td>Рафаил</td>\n",
       "      <td>Верещагин</td>\n",
       "      <td>2018-05-25</td>\n",
       "      <td>ultra</td>\n",
       "    </tr>\n",
       "    <tr>\n",
       "      <th>1</th>\n",
       "      <td>1000</td>\n",
       "      <td>6</td>\n",
       "      <td>172.0</td>\n",
       "      <td>43.0</td>\n",
       "      <td>60.0</td>\n",
       "      <td>23.0</td>\n",
       "      <td>52</td>\n",
       "      <td>NaT</td>\n",
       "      <td>Краснодар</td>\n",
       "      <td>Рафаил</td>\n",
       "      <td>Верещагин</td>\n",
       "      <td>2018-05-25</td>\n",
       "      <td>ultra</td>\n",
       "    </tr>\n",
       "    <tr>\n",
       "      <th>2</th>\n",
       "      <td>1000</td>\n",
       "      <td>7</td>\n",
       "      <td>340.0</td>\n",
       "      <td>47.0</td>\n",
       "      <td>75.0</td>\n",
       "      <td>14.0</td>\n",
       "      <td>52</td>\n",
       "      <td>NaT</td>\n",
       "      <td>Краснодар</td>\n",
       "      <td>Рафаил</td>\n",
       "      <td>Верещагин</td>\n",
       "      <td>2018-05-25</td>\n",
       "      <td>ultra</td>\n",
       "    </tr>\n",
       "    <tr>\n",
       "      <th>3</th>\n",
       "      <td>1000</td>\n",
       "      <td>8</td>\n",
       "      <td>408.0</td>\n",
       "      <td>52.0</td>\n",
       "      <td>81.0</td>\n",
       "      <td>14.0</td>\n",
       "      <td>52</td>\n",
       "      <td>NaT</td>\n",
       "      <td>Краснодар</td>\n",
       "      <td>Рафаил</td>\n",
       "      <td>Верещагин</td>\n",
       "      <td>2018-05-25</td>\n",
       "      <td>ultra</td>\n",
       "    </tr>\n",
       "    <tr>\n",
       "      <th>4</th>\n",
       "      <td>1000</td>\n",
       "      <td>9</td>\n",
       "      <td>466.0</td>\n",
       "      <td>58.0</td>\n",
       "      <td>57.0</td>\n",
       "      <td>15.0</td>\n",
       "      <td>52</td>\n",
       "      <td>NaT</td>\n",
       "      <td>Краснодар</td>\n",
       "      <td>Рафаил</td>\n",
       "      <td>Верещагин</td>\n",
       "      <td>2018-05-25</td>\n",
       "      <td>ultra</td>\n",
       "    </tr>\n",
       "    <tr>\n",
       "      <th>5</th>\n",
       "      <td>1000</td>\n",
       "      <td>10</td>\n",
       "      <td>350.0</td>\n",
       "      <td>57.0</td>\n",
       "      <td>73.0</td>\n",
       "      <td>15.0</td>\n",
       "      <td>52</td>\n",
       "      <td>NaT</td>\n",
       "      <td>Краснодар</td>\n",
       "      <td>Рафаил</td>\n",
       "      <td>Верещагин</td>\n",
       "      <td>2018-05-25</td>\n",
       "      <td>ultra</td>\n",
       "    </tr>\n",
       "    <tr>\n",
       "      <th>6</th>\n",
       "      <td>1000</td>\n",
       "      <td>11</td>\n",
       "      <td>338.0</td>\n",
       "      <td>43.0</td>\n",
       "      <td>58.0</td>\n",
       "      <td>12.0</td>\n",
       "      <td>52</td>\n",
       "      <td>NaT</td>\n",
       "      <td>Краснодар</td>\n",
       "      <td>Рафаил</td>\n",
       "      <td>Верещагин</td>\n",
       "      <td>2018-05-25</td>\n",
       "      <td>ultra</td>\n",
       "    </tr>\n",
       "    <tr>\n",
       "      <th>7</th>\n",
       "      <td>1000</td>\n",
       "      <td>12</td>\n",
       "      <td>333.0</td>\n",
       "      <td>46.0</td>\n",
       "      <td>70.0</td>\n",
       "      <td>10.0</td>\n",
       "      <td>52</td>\n",
       "      <td>NaT</td>\n",
       "      <td>Краснодар</td>\n",
       "      <td>Рафаил</td>\n",
       "      <td>Верещагин</td>\n",
       "      <td>2018-05-25</td>\n",
       "      <td>ultra</td>\n",
       "    </tr>\n",
       "    <tr>\n",
       "      <th>8</th>\n",
       "      <td>1001</td>\n",
       "      <td>11</td>\n",
       "      <td>430.0</td>\n",
       "      <td>59.0</td>\n",
       "      <td>NaN</td>\n",
       "      <td>18.0</td>\n",
       "      <td>41</td>\n",
       "      <td>NaT</td>\n",
       "      <td>Москва</td>\n",
       "      <td>Иван</td>\n",
       "      <td>Ежов</td>\n",
       "      <td>2018-11-01</td>\n",
       "      <td>smart</td>\n",
       "    </tr>\n",
       "    <tr>\n",
       "      <th>9</th>\n",
       "      <td>1001</td>\n",
       "      <td>12</td>\n",
       "      <td>414.0</td>\n",
       "      <td>63.0</td>\n",
       "      <td>NaN</td>\n",
       "      <td>14.0</td>\n",
       "      <td>41</td>\n",
       "      <td>NaT</td>\n",
       "      <td>Москва</td>\n",
       "      <td>Иван</td>\n",
       "      <td>Ежов</td>\n",
       "      <td>2018-11-01</td>\n",
       "      <td>smart</td>\n",
       "    </tr>\n",
       "  </tbody>\n",
       "</table>\n",
       "</div>"
      ],
      "text/plain": [
       "   user_id  month  duration  call_date  id_message  mb_used  age churn_date  \\\n",
       "0     1000      5     159.0       22.0        22.0      3.0   52        NaT   \n",
       "1     1000      6     172.0       43.0        60.0     23.0   52        NaT   \n",
       "2     1000      7     340.0       47.0        75.0     14.0   52        NaT   \n",
       "3     1000      8     408.0       52.0        81.0     14.0   52        NaT   \n",
       "4     1000      9     466.0       58.0        57.0     15.0   52        NaT   \n",
       "5     1000     10     350.0       57.0        73.0     15.0   52        NaT   \n",
       "6     1000     11     338.0       43.0        58.0     12.0   52        NaT   \n",
       "7     1000     12     333.0       46.0        70.0     10.0   52        NaT   \n",
       "8     1001     11     430.0       59.0         NaN     18.0   41        NaT   \n",
       "9     1001     12     414.0       63.0         NaN     14.0   41        NaT   \n",
       "\n",
       "        city first_name  last_name   reg_date tariff  \n",
       "0  Краснодар     Рафаил  Верещагин 2018-05-25  ultra  \n",
       "1  Краснодар     Рафаил  Верещагин 2018-05-25  ultra  \n",
       "2  Краснодар     Рафаил  Верещагин 2018-05-25  ultra  \n",
       "3  Краснодар     Рафаил  Верещагин 2018-05-25  ultra  \n",
       "4  Краснодар     Рафаил  Верещагин 2018-05-25  ultra  \n",
       "5  Краснодар     Рафаил  Верещагин 2018-05-25  ultra  \n",
       "6  Краснодар     Рафаил  Верещагин 2018-05-25  ultra  \n",
       "7  Краснодар     Рафаил  Верещагин 2018-05-25  ultra  \n",
       "8     Москва       Иван       Ежов 2018-11-01  smart  \n",
       "9     Москва       Иван       Ежов 2018-11-01  smart  "
      ]
     },
     "execution_count": 80,
     "metadata": {},
     "output_type": "execute_result"
    }
   ],
   "source": [
    "data['mb_used'] = np.ceil(data['mb_used']/1024) # перевод значений столбца 'mb_used' из  мегабайтов в гигабайты\n",
    "data.head(10) # получение первых 10 строк таблицы"
   ]
  },
  {
   "cell_type": "markdown",
   "metadata": {},
   "source": [
    "<div class=\"alert alert-block alert-warning\">\n",
    "<s><b>Комментарий ревьюера (принимаем к размышлению):</b>\n",
    "В 1 Гб = 1024 Мб.</s>"
   ]
  },
  {
   "cell_type": "markdown",
   "metadata": {},
   "source": [
    "<div class=\"alert alert-info\"> <b>Комментарий студента:</b> Спасибо, глупая ошибка, причем я гуглила) Еще не могла понять почему у меня в таблице с тарифами не ровно 15 и 30 гб)) Исправила. </div>"
   ]
  },
  {
   "cell_type": "markdown",
   "metadata": {},
   "source": [
    "<div class=\"alert alert-block alert-success\">\n",
    "<b>Комментарий ревьюера V2(всё отлично):</b>\n",
    "Ну зачем же так категорично? :)"
   ]
  },
  {
   "cell_type": "markdown",
   "metadata": {},
   "source": [
    "Используя метод `rename` переименуем колонки следующим образом:\n",
    "* `duration` → `duration_call`,\n",
    "* `call_date` → `call`,\n",
    "* `id_message` → `message`,\n",
    "* `mb_used` → `gb_used`,\n",
    "* `tariff` → `tariff_name`."
   ]
  },
  {
   "cell_type": "code",
   "execution_count": 81,
   "metadata": {},
   "outputs": [],
   "source": [
    "data = data.rename(columns={          # переименование столбцов\n",
    "    'duration':'duration_call',                                 \n",
    "    'call_date':'call', \n",
    "    'id_message':'message',\n",
    "    'mb_used':'gb_used',\n",
    "    'tariff':'tariff_name'\n",
    "})    "
   ]
  },
  {
   "cell_type": "code",
   "execution_count": 82,
   "metadata": {},
   "outputs": [
    {
     "data": {
      "text/html": [
       "<div>\n",
       "<style scoped>\n",
       "    .dataframe tbody tr th:only-of-type {\n",
       "        vertical-align: middle;\n",
       "    }\n",
       "\n",
       "    .dataframe tbody tr th {\n",
       "        vertical-align: top;\n",
       "    }\n",
       "\n",
       "    .dataframe thead th {\n",
       "        text-align: right;\n",
       "    }\n",
       "</style>\n",
       "<table border=\"1\" class=\"dataframe\">\n",
       "  <thead>\n",
       "    <tr style=\"text-align: right;\">\n",
       "      <th></th>\n",
       "      <th>user_id</th>\n",
       "      <th>month</th>\n",
       "      <th>duration_call</th>\n",
       "      <th>call</th>\n",
       "      <th>message</th>\n",
       "      <th>gb_used</th>\n",
       "      <th>age</th>\n",
       "      <th>churn_date</th>\n",
       "      <th>city</th>\n",
       "      <th>first_name</th>\n",
       "      <th>last_name</th>\n",
       "      <th>reg_date</th>\n",
       "      <th>tariff_name</th>\n",
       "    </tr>\n",
       "  </thead>\n",
       "  <tbody>\n",
       "    <tr>\n",
       "      <th>0</th>\n",
       "      <td>1000</td>\n",
       "      <td>5</td>\n",
       "      <td>159.0</td>\n",
       "      <td>22.0</td>\n",
       "      <td>22.0</td>\n",
       "      <td>3.0</td>\n",
       "      <td>52</td>\n",
       "      <td>NaT</td>\n",
       "      <td>Краснодар</td>\n",
       "      <td>Рафаил</td>\n",
       "      <td>Верещагин</td>\n",
       "      <td>2018-05-25</td>\n",
       "      <td>ultra</td>\n",
       "    </tr>\n",
       "    <tr>\n",
       "      <th>1</th>\n",
       "      <td>1000</td>\n",
       "      <td>6</td>\n",
       "      <td>172.0</td>\n",
       "      <td>43.0</td>\n",
       "      <td>60.0</td>\n",
       "      <td>23.0</td>\n",
       "      <td>52</td>\n",
       "      <td>NaT</td>\n",
       "      <td>Краснодар</td>\n",
       "      <td>Рафаил</td>\n",
       "      <td>Верещагин</td>\n",
       "      <td>2018-05-25</td>\n",
       "      <td>ultra</td>\n",
       "    </tr>\n",
       "    <tr>\n",
       "      <th>2</th>\n",
       "      <td>1000</td>\n",
       "      <td>7</td>\n",
       "      <td>340.0</td>\n",
       "      <td>47.0</td>\n",
       "      <td>75.0</td>\n",
       "      <td>14.0</td>\n",
       "      <td>52</td>\n",
       "      <td>NaT</td>\n",
       "      <td>Краснодар</td>\n",
       "      <td>Рафаил</td>\n",
       "      <td>Верещагин</td>\n",
       "      <td>2018-05-25</td>\n",
       "      <td>ultra</td>\n",
       "    </tr>\n",
       "    <tr>\n",
       "      <th>3</th>\n",
       "      <td>1000</td>\n",
       "      <td>8</td>\n",
       "      <td>408.0</td>\n",
       "      <td>52.0</td>\n",
       "      <td>81.0</td>\n",
       "      <td>14.0</td>\n",
       "      <td>52</td>\n",
       "      <td>NaT</td>\n",
       "      <td>Краснодар</td>\n",
       "      <td>Рафаил</td>\n",
       "      <td>Верещагин</td>\n",
       "      <td>2018-05-25</td>\n",
       "      <td>ultra</td>\n",
       "    </tr>\n",
       "    <tr>\n",
       "      <th>4</th>\n",
       "      <td>1000</td>\n",
       "      <td>9</td>\n",
       "      <td>466.0</td>\n",
       "      <td>58.0</td>\n",
       "      <td>57.0</td>\n",
       "      <td>15.0</td>\n",
       "      <td>52</td>\n",
       "      <td>NaT</td>\n",
       "      <td>Краснодар</td>\n",
       "      <td>Рафаил</td>\n",
       "      <td>Верещагин</td>\n",
       "      <td>2018-05-25</td>\n",
       "      <td>ultra</td>\n",
       "    </tr>\n",
       "    <tr>\n",
       "      <th>5</th>\n",
       "      <td>1000</td>\n",
       "      <td>10</td>\n",
       "      <td>350.0</td>\n",
       "      <td>57.0</td>\n",
       "      <td>73.0</td>\n",
       "      <td>15.0</td>\n",
       "      <td>52</td>\n",
       "      <td>NaT</td>\n",
       "      <td>Краснодар</td>\n",
       "      <td>Рафаил</td>\n",
       "      <td>Верещагин</td>\n",
       "      <td>2018-05-25</td>\n",
       "      <td>ultra</td>\n",
       "    </tr>\n",
       "    <tr>\n",
       "      <th>6</th>\n",
       "      <td>1000</td>\n",
       "      <td>11</td>\n",
       "      <td>338.0</td>\n",
       "      <td>43.0</td>\n",
       "      <td>58.0</td>\n",
       "      <td>12.0</td>\n",
       "      <td>52</td>\n",
       "      <td>NaT</td>\n",
       "      <td>Краснодар</td>\n",
       "      <td>Рафаил</td>\n",
       "      <td>Верещагин</td>\n",
       "      <td>2018-05-25</td>\n",
       "      <td>ultra</td>\n",
       "    </tr>\n",
       "    <tr>\n",
       "      <th>7</th>\n",
       "      <td>1000</td>\n",
       "      <td>12</td>\n",
       "      <td>333.0</td>\n",
       "      <td>46.0</td>\n",
       "      <td>70.0</td>\n",
       "      <td>10.0</td>\n",
       "      <td>52</td>\n",
       "      <td>NaT</td>\n",
       "      <td>Краснодар</td>\n",
       "      <td>Рафаил</td>\n",
       "      <td>Верещагин</td>\n",
       "      <td>2018-05-25</td>\n",
       "      <td>ultra</td>\n",
       "    </tr>\n",
       "    <tr>\n",
       "      <th>8</th>\n",
       "      <td>1001</td>\n",
       "      <td>11</td>\n",
       "      <td>430.0</td>\n",
       "      <td>59.0</td>\n",
       "      <td>NaN</td>\n",
       "      <td>18.0</td>\n",
       "      <td>41</td>\n",
       "      <td>NaT</td>\n",
       "      <td>Москва</td>\n",
       "      <td>Иван</td>\n",
       "      <td>Ежов</td>\n",
       "      <td>2018-11-01</td>\n",
       "      <td>smart</td>\n",
       "    </tr>\n",
       "    <tr>\n",
       "      <th>9</th>\n",
       "      <td>1001</td>\n",
       "      <td>12</td>\n",
       "      <td>414.0</td>\n",
       "      <td>63.0</td>\n",
       "      <td>NaN</td>\n",
       "      <td>14.0</td>\n",
       "      <td>41</td>\n",
       "      <td>NaT</td>\n",
       "      <td>Москва</td>\n",
       "      <td>Иван</td>\n",
       "      <td>Ежов</td>\n",
       "      <td>2018-11-01</td>\n",
       "      <td>smart</td>\n",
       "    </tr>\n",
       "  </tbody>\n",
       "</table>\n",
       "</div>"
      ],
      "text/plain": [
       "   user_id  month  duration_call  call  message  gb_used  age churn_date  \\\n",
       "0     1000      5          159.0  22.0     22.0      3.0   52        NaT   \n",
       "1     1000      6          172.0  43.0     60.0     23.0   52        NaT   \n",
       "2     1000      7          340.0  47.0     75.0     14.0   52        NaT   \n",
       "3     1000      8          408.0  52.0     81.0     14.0   52        NaT   \n",
       "4     1000      9          466.0  58.0     57.0     15.0   52        NaT   \n",
       "5     1000     10          350.0  57.0     73.0     15.0   52        NaT   \n",
       "6     1000     11          338.0  43.0     58.0     12.0   52        NaT   \n",
       "7     1000     12          333.0  46.0     70.0     10.0   52        NaT   \n",
       "8     1001     11          430.0  59.0      NaN     18.0   41        NaT   \n",
       "9     1001     12          414.0  63.0      NaN     14.0   41        NaT   \n",
       "\n",
       "        city first_name  last_name   reg_date tariff_name  \n",
       "0  Краснодар     Рафаил  Верещагин 2018-05-25       ultra  \n",
       "1  Краснодар     Рафаил  Верещагин 2018-05-25       ultra  \n",
       "2  Краснодар     Рафаил  Верещагин 2018-05-25       ultra  \n",
       "3  Краснодар     Рафаил  Верещагин 2018-05-25       ultra  \n",
       "4  Краснодар     Рафаил  Верещагин 2018-05-25       ultra  \n",
       "5  Краснодар     Рафаил  Верещагин 2018-05-25       ultra  \n",
       "6  Краснодар     Рафаил  Верещагин 2018-05-25       ultra  \n",
       "7  Краснодар     Рафаил  Верещагин 2018-05-25       ultra  \n",
       "8     Москва       Иван       Ежов 2018-11-01       smart  \n",
       "9     Москва       Иван       Ежов 2018-11-01       smart  "
      ]
     },
     "execution_count": 82,
     "metadata": {},
     "output_type": "execute_result"
    }
   ],
   "source": [
    "data.head(10) # получение первых 10 строк таблицы"
   ]
  },
  {
   "cell_type": "markdown",
   "metadata": {},
   "source": [
    "Присоединим к таблице `data` таблицу `tariffs` по совпадающим значениям столбца `tariff_name`. Режим объединения `left`."
   ]
  },
  {
   "cell_type": "code",
   "execution_count": 83,
   "metadata": {},
   "outputs": [
    {
     "data": {
      "text/html": [
       "<div>\n",
       "<style scoped>\n",
       "    .dataframe tbody tr th:only-of-type {\n",
       "        vertical-align: middle;\n",
       "    }\n",
       "\n",
       "    .dataframe tbody tr th {\n",
       "        vertical-align: top;\n",
       "    }\n",
       "\n",
       "    .dataframe thead th {\n",
       "        text-align: right;\n",
       "    }\n",
       "</style>\n",
       "<table border=\"1\" class=\"dataframe\">\n",
       "  <thead>\n",
       "    <tr style=\"text-align: right;\">\n",
       "      <th></th>\n",
       "      <th>user_id</th>\n",
       "      <th>month</th>\n",
       "      <th>duration_call</th>\n",
       "      <th>call</th>\n",
       "      <th>message</th>\n",
       "      <th>gb_used</th>\n",
       "      <th>age</th>\n",
       "      <th>churn_date</th>\n",
       "      <th>city</th>\n",
       "      <th>first_name</th>\n",
       "      <th>last_name</th>\n",
       "      <th>reg_date</th>\n",
       "      <th>tariff_name</th>\n",
       "      <th>messages_included</th>\n",
       "      <th>mb_per_month_included</th>\n",
       "      <th>minutes_included</th>\n",
       "      <th>rub_monthly_fee</th>\n",
       "      <th>rub_per_gb</th>\n",
       "      <th>rub_per_message</th>\n",
       "      <th>rub_per_minute</th>\n",
       "    </tr>\n",
       "  </thead>\n",
       "  <tbody>\n",
       "    <tr>\n",
       "      <th>0</th>\n",
       "      <td>1000</td>\n",
       "      <td>5</td>\n",
       "      <td>159.0</td>\n",
       "      <td>22.0</td>\n",
       "      <td>22.0</td>\n",
       "      <td>3.0</td>\n",
       "      <td>52</td>\n",
       "      <td>NaT</td>\n",
       "      <td>Краснодар</td>\n",
       "      <td>Рафаил</td>\n",
       "      <td>Верещагин</td>\n",
       "      <td>2018-05-25</td>\n",
       "      <td>ultra</td>\n",
       "      <td>1000</td>\n",
       "      <td>30720</td>\n",
       "      <td>3000</td>\n",
       "      <td>1950</td>\n",
       "      <td>150</td>\n",
       "      <td>1</td>\n",
       "      <td>1</td>\n",
       "    </tr>\n",
       "    <tr>\n",
       "      <th>1</th>\n",
       "      <td>1000</td>\n",
       "      <td>6</td>\n",
       "      <td>172.0</td>\n",
       "      <td>43.0</td>\n",
       "      <td>60.0</td>\n",
       "      <td>23.0</td>\n",
       "      <td>52</td>\n",
       "      <td>NaT</td>\n",
       "      <td>Краснодар</td>\n",
       "      <td>Рафаил</td>\n",
       "      <td>Верещагин</td>\n",
       "      <td>2018-05-25</td>\n",
       "      <td>ultra</td>\n",
       "      <td>1000</td>\n",
       "      <td>30720</td>\n",
       "      <td>3000</td>\n",
       "      <td>1950</td>\n",
       "      <td>150</td>\n",
       "      <td>1</td>\n",
       "      <td>1</td>\n",
       "    </tr>\n",
       "    <tr>\n",
       "      <th>2</th>\n",
       "      <td>1000</td>\n",
       "      <td>7</td>\n",
       "      <td>340.0</td>\n",
       "      <td>47.0</td>\n",
       "      <td>75.0</td>\n",
       "      <td>14.0</td>\n",
       "      <td>52</td>\n",
       "      <td>NaT</td>\n",
       "      <td>Краснодар</td>\n",
       "      <td>Рафаил</td>\n",
       "      <td>Верещагин</td>\n",
       "      <td>2018-05-25</td>\n",
       "      <td>ultra</td>\n",
       "      <td>1000</td>\n",
       "      <td>30720</td>\n",
       "      <td>3000</td>\n",
       "      <td>1950</td>\n",
       "      <td>150</td>\n",
       "      <td>1</td>\n",
       "      <td>1</td>\n",
       "    </tr>\n",
       "    <tr>\n",
       "      <th>3</th>\n",
       "      <td>1000</td>\n",
       "      <td>8</td>\n",
       "      <td>408.0</td>\n",
       "      <td>52.0</td>\n",
       "      <td>81.0</td>\n",
       "      <td>14.0</td>\n",
       "      <td>52</td>\n",
       "      <td>NaT</td>\n",
       "      <td>Краснодар</td>\n",
       "      <td>Рафаил</td>\n",
       "      <td>Верещагин</td>\n",
       "      <td>2018-05-25</td>\n",
       "      <td>ultra</td>\n",
       "      <td>1000</td>\n",
       "      <td>30720</td>\n",
       "      <td>3000</td>\n",
       "      <td>1950</td>\n",
       "      <td>150</td>\n",
       "      <td>1</td>\n",
       "      <td>1</td>\n",
       "    </tr>\n",
       "    <tr>\n",
       "      <th>4</th>\n",
       "      <td>1000</td>\n",
       "      <td>9</td>\n",
       "      <td>466.0</td>\n",
       "      <td>58.0</td>\n",
       "      <td>57.0</td>\n",
       "      <td>15.0</td>\n",
       "      <td>52</td>\n",
       "      <td>NaT</td>\n",
       "      <td>Краснодар</td>\n",
       "      <td>Рафаил</td>\n",
       "      <td>Верещагин</td>\n",
       "      <td>2018-05-25</td>\n",
       "      <td>ultra</td>\n",
       "      <td>1000</td>\n",
       "      <td>30720</td>\n",
       "      <td>3000</td>\n",
       "      <td>1950</td>\n",
       "      <td>150</td>\n",
       "      <td>1</td>\n",
       "      <td>1</td>\n",
       "    </tr>\n",
       "  </tbody>\n",
       "</table>\n",
       "</div>"
      ],
      "text/plain": [
       "   user_id  month  duration_call  call  message  gb_used  age churn_date  \\\n",
       "0     1000      5          159.0  22.0     22.0      3.0   52        NaT   \n",
       "1     1000      6          172.0  43.0     60.0     23.0   52        NaT   \n",
       "2     1000      7          340.0  47.0     75.0     14.0   52        NaT   \n",
       "3     1000      8          408.0  52.0     81.0     14.0   52        NaT   \n",
       "4     1000      9          466.0  58.0     57.0     15.0   52        NaT   \n",
       "\n",
       "        city first_name  last_name   reg_date tariff_name  messages_included  \\\n",
       "0  Краснодар     Рафаил  Верещагин 2018-05-25       ultra               1000   \n",
       "1  Краснодар     Рафаил  Верещагин 2018-05-25       ultra               1000   \n",
       "2  Краснодар     Рафаил  Верещагин 2018-05-25       ultra               1000   \n",
       "3  Краснодар     Рафаил  Верещагин 2018-05-25       ultra               1000   \n",
       "4  Краснодар     Рафаил  Верещагин 2018-05-25       ultra               1000   \n",
       "\n",
       "   mb_per_month_included  minutes_included  rub_monthly_fee  rub_per_gb  \\\n",
       "0                  30720              3000             1950         150   \n",
       "1                  30720              3000             1950         150   \n",
       "2                  30720              3000             1950         150   \n",
       "3                  30720              3000             1950         150   \n",
       "4                  30720              3000             1950         150   \n",
       "\n",
       "   rub_per_message  rub_per_minute  \n",
       "0                1               1  \n",
       "1                1               1  \n",
       "2                1               1  \n",
       "3                1               1  \n",
       "4                1               1  "
      ]
     },
     "execution_count": 83,
     "metadata": {},
     "output_type": "execute_result"
    }
   ],
   "source": [
    "data = data.merge(tariffs, on='tariff_name', how='left' )  # объединение таблиц методом merge\n",
    "data.head() # получение первых 5 строк таблицы"
   ]
  },
  {
   "cell_type": "code",
   "execution_count": 84,
   "metadata": {},
   "outputs": [
    {
     "name": "stdout",
     "output_type": "stream",
     "text": [
      "<class 'pandas.core.frame.DataFrame'>\n",
      "Int64Index: 3214 entries, 0 to 3213\n",
      "Data columns (total 20 columns):\n",
      " #   Column                 Non-Null Count  Dtype         \n",
      "---  ------                 --------------  -----         \n",
      " 0   user_id                3214 non-null   int64         \n",
      " 1   month                  3214 non-null   int64         \n",
      " 2   duration_call          3174 non-null   float64       \n",
      " 3   call                   3174 non-null   float64       \n",
      " 4   message                2717 non-null   float64       \n",
      " 5   gb_used                3203 non-null   float64       \n",
      " 6   age                    3214 non-null   int64         \n",
      " 7   churn_date             187 non-null    datetime64[ns]\n",
      " 8   city                   3214 non-null   object        \n",
      " 9   first_name             3214 non-null   object        \n",
      " 10  last_name              3214 non-null   object        \n",
      " 11  reg_date               3214 non-null   datetime64[ns]\n",
      " 12  tariff_name            3214 non-null   object        \n",
      " 13  messages_included      3214 non-null   int64         \n",
      " 14  mb_per_month_included  3214 non-null   int64         \n",
      " 15  minutes_included       3214 non-null   int64         \n",
      " 16  rub_monthly_fee        3214 non-null   int64         \n",
      " 17  rub_per_gb             3214 non-null   int64         \n",
      " 18  rub_per_message        3214 non-null   int64         \n",
      " 19  rub_per_minute         3214 non-null   int64         \n",
      "dtypes: datetime64[ns](2), float64(4), int64(10), object(4)\n",
      "memory usage: 527.3+ KB\n"
     ]
    }
   ],
   "source": [
    "data.info() # получение общей информации о данных в таблице data"
   ]
  },
  {
   "cell_type": "markdown",
   "metadata": {},
   "source": [
    "<div class=\"alert alert-block alert-success\">\n",
    "<b>Комментарий ревьюера (всё отлично):</b>\n",
    "Объединение таблиц выполнено абсолютно верно.\n",
    "    \n",
    "Советую всегда проверять объединение таблиц. Например в нашем случае можно выяснить совпадают ли количество израсходованных минут/сообщений/гигабайт трафика в исходных таблицах и в итоговой."
   ]
  },
  {
   "cell_type": "markdown",
   "metadata": {},
   "source": [
    "<div class=\"alert alert-info\"> <b>Комментарий студента:</b> Спасибо, не догадалась сама. Там выше добавила проверку. </div>"
   ]
  },
  {
   "cell_type": "markdown",
   "metadata": {},
   "source": [
    "Новая таблица содержит пропуски. При объединении таблиц был использован режим объединения `outer`. Он объединяет данные из внешней общей области — такие, которые есть хотя бы в одном из датафреймов. Если в другом датафрейме не было информации, ячейка заполняется `NaN`. Заменим все пропуски в таблице `data` на 0, используя метод `fillna`."
   ]
  },
  {
   "cell_type": "code",
   "execution_count": 85,
   "metadata": {},
   "outputs": [
    {
     "name": "stdout",
     "output_type": "stream",
     "text": [
      "<class 'pandas.core.frame.DataFrame'>\n",
      "Int64Index: 3214 entries, 0 to 3213\n",
      "Data columns (total 20 columns):\n",
      " #   Column                 Non-Null Count  Dtype         \n",
      "---  ------                 --------------  -----         \n",
      " 0   user_id                3214 non-null   int64         \n",
      " 1   month                  3214 non-null   int64         \n",
      " 2   duration_call          3214 non-null   float64       \n",
      " 3   call                   3214 non-null   float64       \n",
      " 4   message                3214 non-null   float64       \n",
      " 5   gb_used                3214 non-null   float64       \n",
      " 6   age                    3214 non-null   int64         \n",
      " 7   churn_date             187 non-null    datetime64[ns]\n",
      " 8   city                   3214 non-null   object        \n",
      " 9   first_name             3214 non-null   object        \n",
      " 10  last_name              3214 non-null   object        \n",
      " 11  reg_date               3214 non-null   datetime64[ns]\n",
      " 12  tariff_name            3214 non-null   object        \n",
      " 13  messages_included      3214 non-null   int64         \n",
      " 14  mb_per_month_included  3214 non-null   int64         \n",
      " 15  minutes_included       3214 non-null   int64         \n",
      " 16  rub_monthly_fee        3214 non-null   int64         \n",
      " 17  rub_per_gb             3214 non-null   int64         \n",
      " 18  rub_per_message        3214 non-null   int64         \n",
      " 19  rub_per_minute         3214 non-null   int64         \n",
      "dtypes: datetime64[ns](2), float64(4), int64(10), object(4)\n",
      "memory usage: 527.3+ KB\n"
     ]
    }
   ],
   "source": [
    "data['message'] = data['message'].fillna(0) # замена пропусков \n",
    "data['duration_call'] = data['duration_call'].fillna(0) # замена пропусков \n",
    "data['call'] = data['call'].fillna(0) # замена пропусков \n",
    "data['gb_used'] = data['gb_used'].fillna(0) # замена пропусков \n",
    "data.info() # получение общей информации о данных в таблице data"
   ]
  },
  {
   "cell_type": "markdown",
   "metadata": {},
   "source": [
    "<div class=\"alert alert-block alert-success\">\n",
    "<b>Комментарий ревьюера (всё отлично):</b>\n",
    "И здесь все выполнено отлично."
   ]
  },
  {
   "cell_type": "markdown",
   "metadata": {},
   "source": [
    "#### Помесячная выручка с каждого пользователя"
   ]
  },
  {
   "cell_type": "markdown",
   "metadata": {},
   "source": [
    "Для расчета помесячной выручки с каждого пользователя используем собственную функцию `income`. Передадим ей условия тарифов.\n",
    "\n",
    "\n",
    "~~**Тариф «Смарт»**~~\n",
    "~~1. Ежемесячная плата: 550 рублей\n",
    "~~2. ~~Включено 500 минут разговора, 50 сообщений и 15 Гб интернет-трафика~~\n",
    "~~3.  Стоимость услуг сверх тарифного пакета:~~\n",
    "~~* минута разговора: 3 рубля~~\n",
    "~~* сообщение: 3 рубля~~\n",
    "~~* 1 Гб интернет-трафика: 200 рублей\n",
    "\n",
    "\n",
    "~~**Тариф «Ультра»**\n",
    "~~1. ~~Ежемесячная плата: 1950 рублей\n",
    "~~3. ~~Стоимость услуг сверх тарифного пакета:~~\n",
    "~~*минута разговора: 1 рубль~~\n",
    "~~*сообщение: 1 рубль~~\n",
    "~~*1 Гб интернет-трафика: 150 рублей~~"
   ]
  },
  {
   "cell_type": "markdown",
   "metadata": {},
   "source": [
    "<div class=\"alert alert-block alert-warning\">\n",
    "<s><b>Комментарий ревьюера (принимаем к размышлению):</b>\n",
    "Будет здОрово, если эта информация разместится в введении :)</s>"
   ]
  },
  {
   "cell_type": "markdown",
   "metadata": {},
   "source": [
    "<div class=\"alert alert-info\"> <b>Комментарий студента:</b> Перенесла. </div>"
   ]
  },
  {
   "cell_type": "markdown",
   "metadata": {},
   "source": [
    "<div class=\"alert alert-block alert-success\">\n",
    "<b>Комментарий ревьюера V2(всё отлично):</b>\n",
    "ЗдОрово!"
   ]
  },
  {
   "cell_type": "code",
   "execution_count": 86,
   "metadata": {},
   "outputs": [],
   "source": [
    "def income(row):  # функция для расчета ежемесячной выручки с каждого пользователя\n",
    "    total = 0\n",
    "    if row['tariff_name'] == 'smart':\n",
    "        total += row['rub_monthly_fee']\n",
    "        if row['duration_call'] <= row['minutes_included']:\n",
    "            total += 0\n",
    "        else:\n",
    "            total += (row['duration_call'] - row['minutes_included'])*(row['rub_per_minute'])\n",
    "        if row['message'] <= row['messages_included']:\n",
    "            total += 0\n",
    "        else:\n",
    "            total += (row['message'] - row['messages_included'])*(row['rub_per_message'])\n",
    "        if row['gb_used'] <= 15:\n",
    "            total +=0\n",
    "        else:\n",
    "            total += (row['gb_used'] - 15)*(row['rub_per_gb'])\n",
    "        return total\n",
    "    elif row['tariff_name'] == 'ultra':\n",
    "        total += row['rub_monthly_fee']\n",
    "        if row['duration_call'] <= row['minutes_included']:\n",
    "            total += 0\n",
    "        else:\n",
    "            total += (row['duration_call'] - row['minutes_included'])*(row['rub_per_minute'])\n",
    "        if row['message'] <= row['messages_included']:\n",
    "            total += 0\n",
    "        else:\n",
    "            total += (row['message'] - row['messages_included'])*(row['rub_per_message'])\n",
    "        if row['gb_used'] <= 30:\n",
    "            total +=0\n",
    "        else:\n",
    "            total += (row['gb_used'] - 30)*(row['rub_per_gb'])\n",
    "        return total\n",
    "        "
   ]
  },
  {
   "cell_type": "markdown",
   "metadata": {},
   "source": [
    "Применим функцию `income` к каждой строке таблицы `data`, результат сохраним в столбец `income`."
   ]
  },
  {
   "cell_type": "code",
   "execution_count": 87,
   "metadata": {},
   "outputs": [],
   "source": [
    "data['income'] = data.apply(income, axis=1) # применение функции к каждой строке таблицы data"
   ]
  },
  {
   "cell_type": "code",
   "execution_count": 88,
   "metadata": {},
   "outputs": [
    {
     "data": {
      "text/html": [
       "<div>\n",
       "<style scoped>\n",
       "    .dataframe tbody tr th:only-of-type {\n",
       "        vertical-align: middle;\n",
       "    }\n",
       "\n",
       "    .dataframe tbody tr th {\n",
       "        vertical-align: top;\n",
       "    }\n",
       "\n",
       "    .dataframe thead th {\n",
       "        text-align: right;\n",
       "    }\n",
       "</style>\n",
       "<table border=\"1\" class=\"dataframe\">\n",
       "  <thead>\n",
       "    <tr style=\"text-align: right;\">\n",
       "      <th></th>\n",
       "      <th>user_id</th>\n",
       "      <th>month</th>\n",
       "      <th>duration_call</th>\n",
       "      <th>call</th>\n",
       "      <th>message</th>\n",
       "      <th>gb_used</th>\n",
       "      <th>age</th>\n",
       "      <th>churn_date</th>\n",
       "      <th>city</th>\n",
       "      <th>first_name</th>\n",
       "      <th>...</th>\n",
       "      <th>reg_date</th>\n",
       "      <th>tariff_name</th>\n",
       "      <th>messages_included</th>\n",
       "      <th>mb_per_month_included</th>\n",
       "      <th>minutes_included</th>\n",
       "      <th>rub_monthly_fee</th>\n",
       "      <th>rub_per_gb</th>\n",
       "      <th>rub_per_message</th>\n",
       "      <th>rub_per_minute</th>\n",
       "      <th>income</th>\n",
       "    </tr>\n",
       "  </thead>\n",
       "  <tbody>\n",
       "    <tr>\n",
       "      <th>0</th>\n",
       "      <td>1000</td>\n",
       "      <td>5</td>\n",
       "      <td>159.0</td>\n",
       "      <td>22.0</td>\n",
       "      <td>22.0</td>\n",
       "      <td>3.0</td>\n",
       "      <td>52</td>\n",
       "      <td>NaT</td>\n",
       "      <td>Краснодар</td>\n",
       "      <td>Рафаил</td>\n",
       "      <td>...</td>\n",
       "      <td>2018-05-25</td>\n",
       "      <td>ultra</td>\n",
       "      <td>1000</td>\n",
       "      <td>30720</td>\n",
       "      <td>3000</td>\n",
       "      <td>1950</td>\n",
       "      <td>150</td>\n",
       "      <td>1</td>\n",
       "      <td>1</td>\n",
       "      <td>1950.0</td>\n",
       "    </tr>\n",
       "    <tr>\n",
       "      <th>1</th>\n",
       "      <td>1000</td>\n",
       "      <td>6</td>\n",
       "      <td>172.0</td>\n",
       "      <td>43.0</td>\n",
       "      <td>60.0</td>\n",
       "      <td>23.0</td>\n",
       "      <td>52</td>\n",
       "      <td>NaT</td>\n",
       "      <td>Краснодар</td>\n",
       "      <td>Рафаил</td>\n",
       "      <td>...</td>\n",
       "      <td>2018-05-25</td>\n",
       "      <td>ultra</td>\n",
       "      <td>1000</td>\n",
       "      <td>30720</td>\n",
       "      <td>3000</td>\n",
       "      <td>1950</td>\n",
       "      <td>150</td>\n",
       "      <td>1</td>\n",
       "      <td>1</td>\n",
       "      <td>1950.0</td>\n",
       "    </tr>\n",
       "    <tr>\n",
       "      <th>2</th>\n",
       "      <td>1000</td>\n",
       "      <td>7</td>\n",
       "      <td>340.0</td>\n",
       "      <td>47.0</td>\n",
       "      <td>75.0</td>\n",
       "      <td>14.0</td>\n",
       "      <td>52</td>\n",
       "      <td>NaT</td>\n",
       "      <td>Краснодар</td>\n",
       "      <td>Рафаил</td>\n",
       "      <td>...</td>\n",
       "      <td>2018-05-25</td>\n",
       "      <td>ultra</td>\n",
       "      <td>1000</td>\n",
       "      <td>30720</td>\n",
       "      <td>3000</td>\n",
       "      <td>1950</td>\n",
       "      <td>150</td>\n",
       "      <td>1</td>\n",
       "      <td>1</td>\n",
       "      <td>1950.0</td>\n",
       "    </tr>\n",
       "    <tr>\n",
       "      <th>3</th>\n",
       "      <td>1000</td>\n",
       "      <td>8</td>\n",
       "      <td>408.0</td>\n",
       "      <td>52.0</td>\n",
       "      <td>81.0</td>\n",
       "      <td>14.0</td>\n",
       "      <td>52</td>\n",
       "      <td>NaT</td>\n",
       "      <td>Краснодар</td>\n",
       "      <td>Рафаил</td>\n",
       "      <td>...</td>\n",
       "      <td>2018-05-25</td>\n",
       "      <td>ultra</td>\n",
       "      <td>1000</td>\n",
       "      <td>30720</td>\n",
       "      <td>3000</td>\n",
       "      <td>1950</td>\n",
       "      <td>150</td>\n",
       "      <td>1</td>\n",
       "      <td>1</td>\n",
       "      <td>1950.0</td>\n",
       "    </tr>\n",
       "    <tr>\n",
       "      <th>4</th>\n",
       "      <td>1000</td>\n",
       "      <td>9</td>\n",
       "      <td>466.0</td>\n",
       "      <td>58.0</td>\n",
       "      <td>57.0</td>\n",
       "      <td>15.0</td>\n",
       "      <td>52</td>\n",
       "      <td>NaT</td>\n",
       "      <td>Краснодар</td>\n",
       "      <td>Рафаил</td>\n",
       "      <td>...</td>\n",
       "      <td>2018-05-25</td>\n",
       "      <td>ultra</td>\n",
       "      <td>1000</td>\n",
       "      <td>30720</td>\n",
       "      <td>3000</td>\n",
       "      <td>1950</td>\n",
       "      <td>150</td>\n",
       "      <td>1</td>\n",
       "      <td>1</td>\n",
       "      <td>1950.0</td>\n",
       "    </tr>\n",
       "  </tbody>\n",
       "</table>\n",
       "<p>5 rows × 21 columns</p>\n",
       "</div>"
      ],
      "text/plain": [
       "   user_id  month  duration_call  call  message  gb_used  age churn_date  \\\n",
       "0     1000      5          159.0  22.0     22.0      3.0   52        NaT   \n",
       "1     1000      6          172.0  43.0     60.0     23.0   52        NaT   \n",
       "2     1000      7          340.0  47.0     75.0     14.0   52        NaT   \n",
       "3     1000      8          408.0  52.0     81.0     14.0   52        NaT   \n",
       "4     1000      9          466.0  58.0     57.0     15.0   52        NaT   \n",
       "\n",
       "        city first_name  ...   reg_date tariff_name messages_included  \\\n",
       "0  Краснодар     Рафаил  ... 2018-05-25       ultra              1000   \n",
       "1  Краснодар     Рафаил  ... 2018-05-25       ultra              1000   \n",
       "2  Краснодар     Рафаил  ... 2018-05-25       ultra              1000   \n",
       "3  Краснодар     Рафаил  ... 2018-05-25       ultra              1000   \n",
       "4  Краснодар     Рафаил  ... 2018-05-25       ultra              1000   \n",
       "\n",
       "   mb_per_month_included  minutes_included  rub_monthly_fee  rub_per_gb  \\\n",
       "0                  30720              3000             1950         150   \n",
       "1                  30720              3000             1950         150   \n",
       "2                  30720              3000             1950         150   \n",
       "3                  30720              3000             1950         150   \n",
       "4                  30720              3000             1950         150   \n",
       "\n",
       "   rub_per_message  rub_per_minute  income  \n",
       "0                1               1  1950.0  \n",
       "1                1               1  1950.0  \n",
       "2                1               1  1950.0  \n",
       "3                1               1  1950.0  \n",
       "4                1               1  1950.0  \n",
       "\n",
       "[5 rows x 21 columns]"
      ]
     },
     "execution_count": 88,
     "metadata": {},
     "output_type": "execute_result"
    }
   ],
   "source": [
    "data.head() # получение первых 5 строк таблицы"
   ]
  },
  {
   "cell_type": "markdown",
   "metadata": {},
   "source": [
    "<div class=\"alert alert-block alert-success\">\n",
    "<b>Комментарий ревьюера (всё отлично):</b>\n",
    "С помощью функции получаем верный результат."
   ]
  },
  {
   "cell_type": "markdown",
   "metadata": {},
   "source": [
    "## Исследовательский анализ данных"
   ]
  },
  {
   "cell_type": "markdown",
   "metadata": {},
   "source": [
    "*Опишите поведение клиентов оператора, исходя из выборки. Сколько минут разговора, сколько сообщений и какой объём интернет-трафика требуется пользователям каждого тарифа в месяц? Посчитайте среднее количество, дисперсию и стандартное отклонение. Постройте гистограммы. Опишите распределения.*"
   ]
  },
  {
   "cell_type": "markdown",
   "metadata": {},
   "source": [
    "### Выручка"
   ]
  },
  {
   "cell_type": "markdown",
   "metadata": {},
   "source": [
    "Посмотрим распределение выручки на каждом из тарифов. Для этого построим сводную таблицу по столбцу `tariff_name` и рассчитаем для столбца `income` среднее значение, дисперсию и стандартное отклонение."
   ]
  },
  {
   "cell_type": "code",
   "execution_count": 89,
   "metadata": {},
   "outputs": [
    {
     "data": {
      "text/html": [
       "<div>\n",
       "<style scoped>\n",
       "    .dataframe tbody tr th:only-of-type {\n",
       "        vertical-align: middle;\n",
       "    }\n",
       "\n",
       "    .dataframe tbody tr th {\n",
       "        vertical-align: top;\n",
       "    }\n",
       "\n",
       "    .dataframe thead tr th {\n",
       "        text-align: left;\n",
       "    }\n",
       "\n",
       "    .dataframe thead tr:last-of-type th {\n",
       "        text-align: right;\n",
       "    }\n",
       "</style>\n",
       "<table border=\"1\" class=\"dataframe\">\n",
       "  <thead>\n",
       "    <tr>\n",
       "      <th></th>\n",
       "      <th>mean</th>\n",
       "      <th>median</th>\n",
       "      <th>sum</th>\n",
       "      <th>var</th>\n",
       "      <th>std</th>\n",
       "    </tr>\n",
       "    <tr>\n",
       "      <th></th>\n",
       "      <th>income</th>\n",
       "      <th>income</th>\n",
       "      <th>income</th>\n",
       "      <th>income</th>\n",
       "      <th>income</th>\n",
       "    </tr>\n",
       "    <tr>\n",
       "      <th>tariff_name</th>\n",
       "      <th></th>\n",
       "      <th></th>\n",
       "      <th></th>\n",
       "      <th></th>\n",
       "      <th></th>\n",
       "    </tr>\n",
       "  </thead>\n",
       "  <tbody>\n",
       "    <tr>\n",
       "      <th>smart</th>\n",
       "      <td>1270.108569</td>\n",
       "      <td>993.0</td>\n",
       "      <td>2831072.0</td>\n",
       "      <td>651064.305981</td>\n",
       "      <td>806.885559</td>\n",
       "    </tr>\n",
       "    <tr>\n",
       "      <th>ultra</th>\n",
       "      <td>2051.116751</td>\n",
       "      <td>1950.0</td>\n",
       "      <td>2020350.0</td>\n",
       "      <td>110588.182493</td>\n",
       "      <td>332.548015</td>\n",
       "    </tr>\n",
       "  </tbody>\n",
       "</table>\n",
       "</div>"
      ],
      "text/plain": [
       "                    mean  median        sum            var         std\n",
       "                  income  income     income         income      income\n",
       "tariff_name                                                           \n",
       "smart        1270.108569   993.0  2831072.0  651064.305981  806.885559\n",
       "ultra        2051.116751  1950.0  2020350.0  110588.182493  332.548015"
      ]
     },
     "execution_count": 89,
     "metadata": {},
     "output_type": "execute_result"
    }
   ],
   "source": [
    "data.pivot_table(index='tariff_name', values='income', aggfunc=['mean','median', 'sum', 'var', 'std']) # построение сводной таблицы"
   ]
  },
  {
   "cell_type": "markdown",
   "metadata": {},
   "source": [
    "Несмотря на то, что абонетская плата на тарифе \"smart\" составляет 550 руб., среднее значение выручки для этого тарифа составляет ~~1325,74~~ 1270.11 руб., для тарифа \"ultra\" - ~~2067,56~~ 2051.12 руб. Стандартное отклониение на тарифе \"smart\" в два раза больше, чем на тарифе \"ultra\"."
   ]
  },
  {
   "cell_type": "markdown",
   "metadata": {},
   "source": [
    "<div class=\"alert alert-info\"> <b>Комментарий студента:</b>После того, как внесла изменения в перевод мб в гб, немного изменились расчеты. </div>"
   ]
  },
  {
   "cell_type": "markdown",
   "metadata": {},
   "source": [
    "<div class=\"alert alert-block alert-success\">\n",
    "<b>Комментарий ревьюера V2(всё отлично):</b>\n",
    "Да-да, это должно было произойти :)"
   ]
  },
  {
   "cell_type": "code",
   "execution_count": 90,
   "metadata": {},
   "outputs": [
    {
     "data": {
      "image/png": "[encoded data removed]",
      "text/plain": [
       "<Figure size 1080x288 with 2 Axes>"
      ]
     },
     "metadata": {
      "needs_background": "light"
     },
     "output_type": "display_data"
    }
   ],
   "source": [
    "fig, axes = plt.subplots(1,2,figsize=(15,4))\n",
    "data.query('tariff_name == \"smart\"')['income'].hist(bins=50, ax=axes[0]) # гистограмма столбца 'income' для тарифа \"smart\"\n",
    "data.query('tariff_name == \"ultra\"')['income'].hist(bins=50,ax=axes[1]) # гистограмма столбца 'income' для тарифа \"ultra\"\n",
    "axes[0].set_title('Распределение выручки в месяц на тарифе smart')\n",
    "axes[1].set_title('Распределение выручки в месяц на тарифе ultra')\n",
    "\n",
    "plt.show()"
   ]
  },
  {
   "cell_type": "code",
   "execution_count": 91,
   "metadata": {},
   "outputs": [
    {
     "data": {
      "image/png": "[encoded data removed]",
      "text/plain": [
       "<Figure size 1080x288 with 2 Axes>"
      ]
     },
     "metadata": {
      "needs_background": "light"
     },
     "output_type": "display_data"
    }
   ],
   "source": [
    "fig, axes = plt.subplots(1,2,figsize=(15,4))\n",
    "data.query('tariff_name == \"smart\"')['income'].hist(range=(550, 1500), ax=axes[0])# гистограмма столбца 'income' для тарифа \"smart\"\n",
    "data.query('tariff_name == \"ultra\"')['income'].hist(range=(1950, 2250), ax=axes[1])# гистограмма столбца 'income' для тарифа \"ultra\"\n",
    "axes[0].set_title('Распределение выручки в месяц на тарифе smart')\n",
    "axes[1].set_title('Распределение выручки в месяц на тарифе ultra')\n",
    "\n",
    "plt.show()"
   ]
  },
  {
   "cell_type": "markdown",
   "metadata": {},
   "source": [
    "По тарифу \"ультра\" гистограмма распределена таким образом, что основная масса значений сгруппирована на уровне ежемесячной платы по тарифу - 1950 руб. По тарифу \"смарт\" также заметен пик на уровне ежемесяной платы 550 руб., но кроме этого тянется длинный \"хвост\" из значений и достигает уровня 6000 руб. Вероятно пользователям этого тарифа бывает недостаточно входящих в тарифный план минут разговора, смс и гигабайт интернета."
   ]
  },
  {
   "cell_type": "markdown",
   "metadata": {},
   "source": [
    "<div class=\"alert alert-block alert-success\">\n",
    "<b>Комментарий ревьюера (всё отлично):</b>\n",
    "У меня заканчиваются комплименты для твоей работы :)"
   ]
  },
  {
   "cell_type": "markdown",
   "metadata": {},
   "source": [
    "<div class=\"alert alert-info\"> <b>Комментарий студента:</b> Еще  для общего вывода хотела посмотреть сколько всего пользователей каждого тарифа из этих 500 человек, но не получилось, потому что каждый пользователь занесен несколькими строками. Может направишь в каком направлении думать ? </div>"
   ]
  },
  {
   "cell_type": "markdown",
   "metadata": {},
   "source": [
    "<div class=\"alert alert-block alert-success\">\n",
    "<b>Комментарий ревьюера V2(всё отлично):</b>\n",
    "Конечно, код ниже :) Тебе нужно использовать метод nunique() в параметре aggfunc (он находит число уникальных элементов в множестве). Чуть позже ты с ней познакомишься в курсе Практикума, а если не терпится :), то можно почитать о ней здесь:\n",
    "    \n",
    "https://pandas.pydata.org/docs/reference/api/pandas.DataFrame.nunique.html"
   ]
  },
  {
   "cell_type": "code",
   "execution_count": 92,
   "metadata": {},
   "outputs": [
    {
     "data": {
      "text/html": [
       "<div>\n",
       "<style scoped>\n",
       "    .dataframe tbody tr th:only-of-type {\n",
       "        vertical-align: middle;\n",
       "    }\n",
       "\n",
       "    .dataframe tbody tr th {\n",
       "        vertical-align: top;\n",
       "    }\n",
       "\n",
       "    .dataframe thead th {\n",
       "        text-align: right;\n",
       "    }\n",
       "</style>\n",
       "<table border=\"1\" class=\"dataframe\">\n",
       "  <thead>\n",
       "    <tr style=\"text-align: right;\">\n",
       "      <th></th>\n",
       "      <th>user_id</th>\n",
       "    </tr>\n",
       "    <tr>\n",
       "      <th>tariff_name</th>\n",
       "      <th></th>\n",
       "    </tr>\n",
       "  </thead>\n",
       "  <tbody>\n",
       "    <tr>\n",
       "      <th>smart</th>\n",
       "      <td>350</td>\n",
       "    </tr>\n",
       "    <tr>\n",
       "      <th>ultra</th>\n",
       "      <td>148</td>\n",
       "    </tr>\n",
       "  </tbody>\n",
       "</table>\n",
       "</div>"
      ],
      "text/plain": [
       "             user_id\n",
       "tariff_name         \n",
       "smart            350\n",
       "ultra            148"
      ]
     },
     "execution_count": 92,
     "metadata": {},
     "output_type": "execute_result"
    }
   ],
   "source": [
    "# Код ревьюера\n",
    "data.pivot_table(index='tariff_name', values='user_id',  aggfunc='nunique')"
   ]
  },
  {
   "cell_type": "code",
   "execution_count": 93,
   "metadata": {},
   "outputs": [
    {
     "data": {
      "text/html": [
       "<div>\n",
       "<style scoped>\n",
       "    .dataframe tbody tr th:only-of-type {\n",
       "        vertical-align: middle;\n",
       "    }\n",
       "\n",
       "    .dataframe tbody tr th {\n",
       "        vertical-align: top;\n",
       "    }\n",
       "\n",
       "    .dataframe thead th {\n",
       "        text-align: right;\n",
       "    }\n",
       "</style>\n",
       "<table border=\"1\" class=\"dataframe\">\n",
       "  <thead>\n",
       "    <tr style=\"text-align: right;\">\n",
       "      <th></th>\n",
       "      <th>user_id</th>\n",
       "    </tr>\n",
       "    <tr>\n",
       "      <th>tariff_name</th>\n",
       "      <th></th>\n",
       "    </tr>\n",
       "  </thead>\n",
       "  <tbody>\n",
       "    <tr>\n",
       "      <th>smart</th>\n",
       "      <td>2229</td>\n",
       "    </tr>\n",
       "    <tr>\n",
       "      <th>ultra</th>\n",
       "      <td>985</td>\n",
       "    </tr>\n",
       "  </tbody>\n",
       "</table>\n",
       "</div>"
      ],
      "text/plain": [
       "             user_id\n",
       "tariff_name         \n",
       "smart           2229\n",
       "ultra            985"
      ]
     },
     "execution_count": 93,
     "metadata": {},
     "output_type": "execute_result"
    }
   ],
   "source": [
    "data.pivot_table(index='tariff_name', values='user_id',  aggfunc='count') # построение сводной таблицы"
   ]
  },
  {
   "cell_type": "code",
   "execution_count": 94,
   "metadata": {},
   "outputs": [
    {
     "data": {
      "text/plain": [
       "array([<AxesSubplot:ylabel='income'>], dtype=object)"
      ]
     },
     "execution_count": 94,
     "metadata": {},
     "output_type": "execute_result"
    },
    {
     "data": {
      "image/png": "[encoded data removed]",
      "text/plain": [
       "<Figure size 432x288 with 1 Axes>"
      ]
     },
     "metadata": {},
     "output_type": "display_data"
    }
   ],
   "source": [
    "data.pivot_table(index='tariff_name', values='income',  aggfunc='sum').plot(kind='pie',autopct='%1.1f%%', subplots=True) # "
   ]
  },
  {
   "cell_type": "markdown",
   "metadata": {},
   "source": [
    "### Минуты разговора"
   ]
  },
  {
   "cell_type": "markdown",
   "metadata": {},
   "source": [
    "Построим гистограммы распределения количества минут разговора на каждом из тарифов."
   ]
  },
  {
   "cell_type": "code",
   "execution_count": 95,
   "metadata": {},
   "outputs": [
    {
     "data": {
      "image/png": "[encoded data removed]",
      "text/plain": [
       "<Figure size 1080x288 with 2 Axes>"
      ]
     },
     "metadata": {
      "needs_background": "light"
     },
     "output_type": "display_data"
    }
   ],
   "source": [
    "fig, axes = plt.subplots(1,2,figsize=(15,4))\n",
    "data.query('tariff_name == \"smart\"')['duration_call'].hist(bins=30, ax=axes[0])# гистограмма столбца 'duration_call' для тарифа \"smart\"\n",
    "data.query('tariff_name == \"ultra\"')['duration_call'].hist(bins=30, ax=axes[1])# гистограмма столбца 'duration_call' для тарифа \"ultra\"\n",
    "axes[0].set_title('Распределение количества минут в месяц на тарифе smart')\n",
    "axes[1].set_title('Распределение количества минут в месяц на тарифе ultra')\n",
    "\n",
    "plt.show()"
   ]
  },
  {
   "cell_type": "markdown",
   "metadata": {},
   "source": [
    "Распределение на тарифе \"смарт\" напоминает нормальное. На тарифе \"ультра\" заметны выбивающиеся пики, особенно выделяется пик из нулевых значений. Датасет скошен вправо."
   ]
  },
  {
   "cell_type": "code",
   "execution_count": 96,
   "metadata": {},
   "outputs": [
    {
     "data": {
      "text/html": [
       "<div>\n",
       "<style scoped>\n",
       "    .dataframe tbody tr th:only-of-type {\n",
       "        vertical-align: middle;\n",
       "    }\n",
       "\n",
       "    .dataframe tbody tr th {\n",
       "        vertical-align: top;\n",
       "    }\n",
       "\n",
       "    .dataframe thead tr th {\n",
       "        text-align: left;\n",
       "    }\n",
       "\n",
       "    .dataframe thead tr:last-of-type th {\n",
       "        text-align: right;\n",
       "    }\n",
       "</style>\n",
       "<table border=\"1\" class=\"dataframe\">\n",
       "  <thead>\n",
       "    <tr>\n",
       "      <th></th>\n",
       "      <th>mean</th>\n",
       "      <th>var</th>\n",
       "      <th>std</th>\n",
       "    </tr>\n",
       "    <tr>\n",
       "      <th></th>\n",
       "      <th>duration_call</th>\n",
       "      <th>duration_call</th>\n",
       "      <th>duration_call</th>\n",
       "    </tr>\n",
       "    <tr>\n",
       "      <th>tariff_name</th>\n",
       "      <th></th>\n",
       "      <th></th>\n",
       "      <th></th>\n",
       "    </tr>\n",
       "  </thead>\n",
       "  <tbody>\n",
       "    <tr>\n",
       "      <th>smart</th>\n",
       "      <td>412.609242</td>\n",
       "      <td>35272.936557</td>\n",
       "      <td>187.810906</td>\n",
       "    </tr>\n",
       "    <tr>\n",
       "      <th>ultra</th>\n",
       "      <td>519.519797</td>\n",
       "      <td>98349.621813</td>\n",
       "      <td>313.607433</td>\n",
       "    </tr>\n",
       "  </tbody>\n",
       "</table>\n",
       "</div>"
      ],
      "text/plain": [
       "                     mean           var           std\n",
       "            duration_call duration_call duration_call\n",
       "tariff_name                                          \n",
       "smart          412.609242  35272.936557    187.810906\n",
       "ultra          519.519797  98349.621813    313.607433"
      ]
     },
     "execution_count": 96,
     "metadata": {},
     "output_type": "execute_result"
    }
   ],
   "source": [
    "data.pivot_table(index='tariff_name', values='duration_call', aggfunc=['mean', 'var', 'std']) # построение сводной таблицы"
   ]
  },
  {
   "cell_type": "markdown",
   "metadata": {},
   "source": [
    "Среднее количество минут разговора в месяц на тарифе \"смарт\" - ~~389,70~~ 412.61, на тарифе  \"ультра\" - ~~490,59~~ 519.52. Оба значения входят в ежемесяный лимит, предумотренный тарифным планом."
   ]
  },
  {
   "cell_type": "markdown",
   "metadata": {},
   "source": [
    "<div class=\"alert alert-block alert-warning\">\n",
    "<s><b>Комментарий ревьюера (принимаем к размышлению):</b>\n",
    "У меня показывает среднее на Смарте - 412,61, на Ультре - 519,52. Как так получилось?</s>"
   ]
  },
  {
   "cell_type": "markdown",
   "metadata": {},
   "source": [
    "<div class=\"alert alert-info\"> <b>Комментарий студента:</b> Похоже поторопилась, правила где-то выше и не вычитала перед отправкой.. </div>"
   ]
  },
  {
   "cell_type": "markdown",
   "metadata": {},
   "source": [
    "<div class=\"alert alert-block alert-success\">\n",
    "<b>Комментарий ревьюера (всё отлично):</b>\n",
    "Всё остальное сделано классно."
   ]
  },
  {
   "cell_type": "markdown",
   "metadata": {},
   "source": [
    "<div class=\"alert alert-block alert-success\">\n",
    "<b>Комментарий ревьюера V2(всё отлично):</b>\n",
    "Теперь всё совпадает :)"
   ]
  },
  {
   "cell_type": "markdown",
   "metadata": {},
   "source": [
    "### Сообщения"
   ]
  },
  {
   "cell_type": "code",
   "execution_count": 97,
   "metadata": {},
   "outputs": [
    {
     "data": {
      "image/png": "[encoded data removed]",
      "text/plain": [
       "<Figure size 1080x288 with 2 Axes>"
      ]
     },
     "metadata": {
      "needs_background": "light"
     },
     "output_type": "display_data"
    }
   ],
   "source": [
    "fig, axes = plt.subplots(1,2,figsize=(15,4))\n",
    "data.query('tariff_name == \"smart\"')['message'].hist(bins=30, ax=axes[0]) # гистограмма столбца 'message' для тарифа \"smart\"\n",
    "data.query('tariff_name == \"ultra\"')['message'].hist(bins=30, ax=axes[1]) # гистограмма столбца 'message' для тарифа \"ultra\"\n",
    "axes[0].set_title('Распределение количества sms в месяц на тарифе smart')\n",
    "axes[1].set_title('Распределение количества sms в месяц на тарифе ultra')\n",
    "\n",
    "plt.show()"
   ]
  },
  {
   "cell_type": "markdown",
   "metadata": {},
   "source": [
    "На каждом из тарифов мы видим выбивающийся пик из нулевых значений. Построим гистограммы, исключив нулевые значения."
   ]
  },
  {
   "cell_type": "code",
   "execution_count": 98,
   "metadata": {},
   "outputs": [
    {
     "data": {
      "image/png": "[encoded data removed]",
      "text/plain": [
       "<Figure size 1080x288 with 2 Axes>"
      ]
     },
     "metadata": {
      "needs_background": "light"
     },
     "output_type": "display_data"
    }
   ],
   "source": [
    "fig, axes = plt.subplots(1,2,figsize=(15,4))\n",
    "data.query('tariff_name == \"smart\"')['message'].hist(range=(1, 140), ax=axes[0]) # гистограмма столбца 'message' для тарифа \"smart\"\n",
    "data.query('tariff_name == \"ultra\"')['message'].hist(range=(1, 200), ax=axes[1]) # гистограмма столбца 'message' для тарифа \"ultra\"\n",
    "axes[0].set_title('Распределение количества sms в месяц на тарифе smart')\n",
    "axes[1].set_title('Распределение количества sms в месяц на тарифе ultra')\n",
    "\n",
    "plt.show()"
   ]
  },
  {
   "cell_type": "code",
   "execution_count": 99,
   "metadata": {},
   "outputs": [
    {
     "data": {
      "text/html": [
       "<div>\n",
       "<style scoped>\n",
       "    .dataframe tbody tr th:only-of-type {\n",
       "        vertical-align: middle;\n",
       "    }\n",
       "\n",
       "    .dataframe tbody tr th {\n",
       "        vertical-align: top;\n",
       "    }\n",
       "\n",
       "    .dataframe thead tr th {\n",
       "        text-align: left;\n",
       "    }\n",
       "\n",
       "    .dataframe thead tr:last-of-type th {\n",
       "        text-align: right;\n",
       "    }\n",
       "</style>\n",
       "<table border=\"1\" class=\"dataframe\">\n",
       "  <thead>\n",
       "    <tr>\n",
       "      <th></th>\n",
       "      <th>mean</th>\n",
       "      <th>var</th>\n",
       "      <th>std</th>\n",
       "    </tr>\n",
       "    <tr>\n",
       "      <th></th>\n",
       "      <th>message</th>\n",
       "      <th>message</th>\n",
       "      <th>message</th>\n",
       "    </tr>\n",
       "    <tr>\n",
       "      <th>tariff_name</th>\n",
       "      <th></th>\n",
       "      <th></th>\n",
       "      <th></th>\n",
       "    </tr>\n",
       "  </thead>\n",
       "  <tbody>\n",
       "    <tr>\n",
       "      <th>smart</th>\n",
       "      <td>33.384029</td>\n",
       "      <td>796.812958</td>\n",
       "      <td>28.227876</td>\n",
       "    </tr>\n",
       "    <tr>\n",
       "      <th>ultra</th>\n",
       "      <td>49.363452</td>\n",
       "      <td>2285.266143</td>\n",
       "      <td>47.804457</td>\n",
       "    </tr>\n",
       "  </tbody>\n",
       "</table>\n",
       "</div>"
      ],
      "text/plain": [
       "                  mean          var        std\n",
       "               message      message    message\n",
       "tariff_name                                   \n",
       "smart        33.384029   796.812958  28.227876\n",
       "ultra        49.363452  2285.266143  47.804457"
      ]
     },
     "execution_count": 99,
     "metadata": {},
     "output_type": "execute_result"
    }
   ],
   "source": [
    "data.pivot_table(index='tariff_name', values='message', aggfunc=['mean', 'var', 'std']) # построение сводной таблицы"
   ]
  },
  {
   "cell_type": "markdown",
   "metadata": {},
   "source": [
    "Пользователи тарифа \"смарт\" в среднем в месяц отправляют 33 сообщения, на тарифе \"ультра\" - 49."
   ]
  },
  {
   "cell_type": "markdown",
   "metadata": {},
   "source": [
    "<div class=\"alert alert-block alert-success\">\n",
    "<b>Комментарий ревьюера (всё отлично):</b>\n",
    "Отличная работа."
   ]
  },
  {
   "cell_type": "markdown",
   "metadata": {},
   "source": [
    "### Интернет"
   ]
  },
  {
   "cell_type": "code",
   "execution_count": 100,
   "metadata": {},
   "outputs": [
    {
     "data": {
      "image/png": "[encoded data removed]",
      "text/plain": [
       "<Figure size 1080x288 with 2 Axes>"
      ]
     },
     "metadata": {
      "needs_background": "light"
     },
     "output_type": "display_data"
    }
   ],
   "source": [
    "fig, axes = plt.subplots(1,2,figsize=(15,4))\n",
    "data.query('tariff_name == \"smart\"')['gb_used'].hist(ax=axes[0]) # гистограмма столбца 'gb_used' для тарифа \"smart\"\n",
    "data.query('tariff_name == \"ultra\"')['gb_used'].hist(ax=axes[1]) # гистограмма столбца 'gb_used' для тарифа \"ultra\"\n",
    "axes[0].set_title('Распределение объём интернет-трафика в месяц на тарифе smart')\n",
    "axes[1].set_title('Распределение объём интернет-трафика в месяц на тарифе ultra')\n",
    "\n",
    "plt.show()"
   ]
  },
  {
   "cell_type": "markdown",
   "metadata": {},
   "source": [
    "Распределение на тарифе \"смарт\" стремиться к нормальному."
   ]
  },
  {
   "cell_type": "code",
   "execution_count": 101,
   "metadata": {},
   "outputs": [
    {
     "data": {
      "text/html": [
       "<div>\n",
       "<style scoped>\n",
       "    .dataframe tbody tr th:only-of-type {\n",
       "        vertical-align: middle;\n",
       "    }\n",
       "\n",
       "    .dataframe tbody tr th {\n",
       "        vertical-align: top;\n",
       "    }\n",
       "\n",
       "    .dataframe thead tr th {\n",
       "        text-align: left;\n",
       "    }\n",
       "\n",
       "    .dataframe thead tr:last-of-type th {\n",
       "        text-align: right;\n",
       "    }\n",
       "</style>\n",
       "<table border=\"1\" class=\"dataframe\">\n",
       "  <thead>\n",
       "    <tr>\n",
       "      <th></th>\n",
       "      <th>mean</th>\n",
       "      <th>var</th>\n",
       "      <th>std</th>\n",
       "    </tr>\n",
       "    <tr>\n",
       "      <th></th>\n",
       "      <th>gb_used</th>\n",
       "      <th>gb_used</th>\n",
       "      <th>gb_used</th>\n",
       "    </tr>\n",
       "    <tr>\n",
       "      <th>tariff_name</th>\n",
       "      <th></th>\n",
       "      <th></th>\n",
       "      <th></th>\n",
       "    </tr>\n",
       "  </thead>\n",
       "  <tbody>\n",
       "    <tr>\n",
       "      <th>smart</th>\n",
       "      <td>16.247645</td>\n",
       "      <td>32.795916</td>\n",
       "      <td>5.726772</td>\n",
       "    </tr>\n",
       "    <tr>\n",
       "      <th>ultra</th>\n",
       "      <td>19.031472</td>\n",
       "      <td>92.207342</td>\n",
       "      <td>9.602465</td>\n",
       "    </tr>\n",
       "  </tbody>\n",
       "</table>\n",
       "</div>"
      ],
      "text/plain": [
       "                  mean        var       std\n",
       "               gb_used    gb_used   gb_used\n",
       "tariff_name                                \n",
       "smart        16.247645  32.795916  5.726772\n",
       "ultra        19.031472  92.207342  9.602465"
      ]
     },
     "execution_count": 101,
     "metadata": {},
     "output_type": "execute_result"
    }
   ],
   "source": [
    "data.pivot_table(index='tariff_name', values='gb_used', aggfunc=['mean', 'var', 'std']) # построение сводной таблицы"
   ]
  },
  {
   "cell_type": "markdown",
   "metadata": {},
   "source": [
    "На тарифе \"смарт\" в среднем абоненты используют ~~16,62~~ 16.25 гб. интернета в месяц. Таким образом пакета интернета недостаточно пользователям тарифа \"смарт\". На тарифе \"ультра\" - ~~19,50~~ 19.03 гб. Дисперсия на тарифе \"ультра\" почти в три раза больше, чем на тарифе \"смарт\", т.е. данные более разбросаны."
   ]
  },
  {
   "cell_type": "markdown",
   "metadata": {},
   "source": [
    "<div class=\"alert alert-block alert-success\">\n",
    "<b>Комментарий ревьюера (всё отлично):</b>\n",
    "И снова все отлично"
   ]
  },
  {
   "cell_type": "markdown",
   "metadata": {},
   "source": [
    "<a id='step_3.4'></a>"
   ]
  },
  {
   "cell_type": "markdown",
   "metadata": {},
   "source": [
    "<div class=\"alert alert-info\"> <b>Комментарий студента:</b> Еще небольшая корректировка. \n",
    "\n",
    "Ниже, хотела еще все средние собрать в одну красивую табличку, но почему-то колонки распределились не так, как я заказывала.. </div>"
   ]
  },
  {
   "cell_type": "code",
   "execution_count": 102,
   "metadata": {},
   "outputs": [
    {
     "data": {
      "text/html": [
       "<div>\n",
       "<style scoped>\n",
       "    .dataframe tbody tr th:only-of-type {\n",
       "        vertical-align: middle;\n",
       "    }\n",
       "\n",
       "    .dataframe tbody tr th {\n",
       "        vertical-align: top;\n",
       "    }\n",
       "\n",
       "    .dataframe thead th {\n",
       "        text-align: right;\n",
       "    }\n",
       "</style>\n",
       "<table border=\"1\" class=\"dataframe\">\n",
       "  <thead>\n",
       "    <tr style=\"text-align: right;\">\n",
       "      <th></th>\n",
       "      <th>duration_call</th>\n",
       "      <th>gb_used</th>\n",
       "      <th>income</th>\n",
       "      <th>mb_per_month_included</th>\n",
       "      <th>message</th>\n",
       "      <th>messages_included</th>\n",
       "      <th>minutes_included</th>\n",
       "      <th>rub_monthly_fee</th>\n",
       "    </tr>\n",
       "    <tr>\n",
       "      <th>tariff_name</th>\n",
       "      <th></th>\n",
       "      <th></th>\n",
       "      <th></th>\n",
       "      <th></th>\n",
       "      <th></th>\n",
       "      <th></th>\n",
       "      <th></th>\n",
       "      <th></th>\n",
       "    </tr>\n",
       "  </thead>\n",
       "  <tbody>\n",
       "    <tr>\n",
       "      <th>smart</th>\n",
       "      <td>412.609242</td>\n",
       "      <td>16.247645</td>\n",
       "      <td>1270.108569</td>\n",
       "      <td>15360</td>\n",
       "      <td>33.384029</td>\n",
       "      <td>50</td>\n",
       "      <td>500</td>\n",
       "      <td>550</td>\n",
       "    </tr>\n",
       "    <tr>\n",
       "      <th>ultra</th>\n",
       "      <td>519.519797</td>\n",
       "      <td>19.031472</td>\n",
       "      <td>2051.116751</td>\n",
       "      <td>30720</td>\n",
       "      <td>49.363452</td>\n",
       "      <td>1000</td>\n",
       "      <td>3000</td>\n",
       "      <td>1950</td>\n",
       "    </tr>\n",
       "  </tbody>\n",
       "</table>\n",
       "</div>"
      ],
      "text/plain": [
       "             duration_call    gb_used       income  mb_per_month_included  \\\n",
       "tariff_name                                                                 \n",
       "smart           412.609242  16.247645  1270.108569                  15360   \n",
       "ultra           519.519797  19.031472  2051.116751                  30720   \n",
       "\n",
       "               message  messages_included  minutes_included  rub_monthly_fee  \n",
       "tariff_name                                                                   \n",
       "smart        33.384029                 50               500              550  \n",
       "ultra        49.363452               1000              3000             1950  "
      ]
     },
     "execution_count": 102,
     "metadata": {},
     "output_type": "execute_result"
    }
   ],
   "source": [
    "data.pivot_table(index='tariff_name', values=['duration_call','minutes_included','gb_used','mb_per_month_included','message','messages_included', 'income','rub_monthly_fee'],aggfunc='mean') # построение сводной таблицы"
   ]
  },
  {
   "cell_type": "code",
   "execution_count": 110,
   "metadata": {},
   "outputs": [
    {
     "data": {
      "text/html": [
       "<div>\n",
       "<style scoped>\n",
       "    .dataframe tbody tr th:only-of-type {\n",
       "        vertical-align: middle;\n",
       "    }\n",
       "\n",
       "    .dataframe tbody tr th {\n",
       "        vertical-align: top;\n",
       "    }\n",
       "\n",
       "    .dataframe thead th {\n",
       "        text-align: right;\n",
       "    }\n",
       "</style>\n",
       "<table border=\"1\" class=\"dataframe\">\n",
       "  <thead>\n",
       "    <tr style=\"text-align: right;\">\n",
       "      <th></th>\n",
       "      <th>tariff_name</th>\n",
       "      <th>duration_call</th>\n",
       "      <th>gb_used</th>\n",
       "      <th>income</th>\n",
       "      <th>message</th>\n",
       "    </tr>\n",
       "  </thead>\n",
       "  <tbody>\n",
       "    <tr>\n",
       "      <th>0</th>\n",
       "      <td>smart</td>\n",
       "      <td>412.61</td>\n",
       "      <td>16.25</td>\n",
       "      <td>1270.11</td>\n",
       "      <td>33.38</td>\n",
       "    </tr>\n",
       "    <tr>\n",
       "      <th>1</th>\n",
       "      <td>ultra</td>\n",
       "      <td>519.52</td>\n",
       "      <td>19.03</td>\n",
       "      <td>2051.12</td>\n",
       "      <td>49.36</td>\n",
       "    </tr>\n",
       "  </tbody>\n",
       "</table>\n",
       "</div>"
      ],
      "text/plain": [
       "  tariff_name  duration_call  gb_used   income  message\n",
       "0       smart         412.61    16.25  1270.11    33.38\n",
       "1       ultra         519.52    19.03  2051.12    49.36"
      ]
     },
     "metadata": {},
     "output_type": "display_data"
    },
    {
     "data": {
      "text/html": [
       "<div>\n",
       "<style scoped>\n",
       "    .dataframe tbody tr th:only-of-type {\n",
       "        vertical-align: middle;\n",
       "    }\n",
       "\n",
       "    .dataframe tbody tr th {\n",
       "        vertical-align: top;\n",
       "    }\n",
       "\n",
       "    .dataframe thead th {\n",
       "        text-align: right;\n",
       "    }\n",
       "</style>\n",
       "<table border=\"1\" class=\"dataframe\">\n",
       "  <thead>\n",
       "    <tr style=\"text-align: right;\">\n",
       "      <th></th>\n",
       "      <th>0</th>\n",
       "      <th>1</th>\n",
       "    </tr>\n",
       "  </thead>\n",
       "  <tbody>\n",
       "    <tr>\n",
       "      <th>tariff_name</th>\n",
       "      <td>smart</td>\n",
       "      <td>ultra</td>\n",
       "    </tr>\n",
       "    <tr>\n",
       "      <th>duration_call</th>\n",
       "      <td>412.61</td>\n",
       "      <td>519.52</td>\n",
       "    </tr>\n",
       "    <tr>\n",
       "      <th>gb_used</th>\n",
       "      <td>16.25</td>\n",
       "      <td>19.03</td>\n",
       "    </tr>\n",
       "    <tr>\n",
       "      <th>income</th>\n",
       "      <td>1270.11</td>\n",
       "      <td>2051.12</td>\n",
       "    </tr>\n",
       "    <tr>\n",
       "      <th>message</th>\n",
       "      <td>33.38</td>\n",
       "      <td>49.36</td>\n",
       "    </tr>\n",
       "  </tbody>\n",
       "</table>\n",
       "</div>"
      ],
      "text/plain": [
       "                     0        1\n",
       "tariff_name      smart    ultra\n",
       "duration_call   412.61   519.52\n",
       "gb_used          16.25    19.03\n",
       "income         1270.11  2051.12\n",
       "message          33.38    49.36"
      ]
     },
     "metadata": {},
     "output_type": "display_data"
    }
   ],
   "source": [
    "# Код ревьюера\n",
    "mean_datas = data.pivot_table(index='tariff_name',\n",
    "                 values=['duration_call', 'gb_used', 'message', 'income',],\n",
    "                 aggfunc='mean').round(2).reset_index() # построение сводной таблицы\n",
    "# Горизонтальная\n",
    "display(mean_datas)\n",
    "\n",
    "# Вертикальная\n",
    "display(mean_datas.T)"
   ]
  },
  {
   "cell_type": "markdown",
   "metadata": {},
   "source": [
    "<div class=\"alert alert-block alert-success\">\n",
    "<b>Комментарий ревьюера V2(всё отлично):</b>\n",
    "Так пойдёт? Если ты все средние хотела собрать, то зачем тебе параметры тарифов? :) "
   ]
  },
  {
   "cell_type": "markdown",
   "metadata": {},
   "source": [
    "## Проверка гипотез"
   ]
  },
  {
   "cell_type": "markdown",
   "metadata": {},
   "source": [
    "### Гипотеза №1"
   ]
  },
  {
   "cell_type": "markdown",
   "metadata": {},
   "source": [
    "**Нулевая гипотеза**: средняя выручка пользователей тарифов «Ультра» и «Смарт» равна.  \n",
    "**Альтернативная гипотеза**: Средняя средняя выручка пользователей тарифов «Ультра» и «Смарт» не равна."
   ]
  },
  {
   "cell_type": "markdown",
   "metadata": {},
   "source": [
    "Используя метод `st.ttest_ind` сравним средние значения выручки пользователей на тарифе  «Ультра» и «Смарт». Критический уровень статистической значимости зададим значением 0,05."
   ]
  },
  {
   "cell_type": "code",
   "execution_count": 103,
   "metadata": {},
   "outputs": [
    {
     "name": "stdout",
     "output_type": "stream",
     "text": [
      "p-значение:  2.040676608085704e-167\n",
      "Отвергаем нулевую гипотезу\n"
     ]
    }
   ],
   "source": [
    "from scipy import stats as st\n",
    "import numpy as np\n",
    "alpha = .05\n",
    "results = st.ttest_ind(\n",
    "    data.query('tariff_name == \"smart\"')['income'], \n",
    "    data.query('tariff_name == \"ultra\"')['income'])\n",
    "print('p-значение: ', results.pvalue)\n",
    "\n",
    "if results.pvalue < alpha:\n",
    "    print(\"Отвергаем нулевую гипотезу\")\n",
    "else:\n",
    "    print(\"Не получилось отвергнуть нулевую гипотезу\") "
   ]
  },
  {
   "cell_type": "markdown",
   "metadata": {},
   "source": [
    "Средняя выручка пользователей тарифов «Ультра» и «Смарт» не равна."
   ]
  },
  {
   "cell_type": "markdown",
   "metadata": {},
   "source": [
    "### Гипотеза №2"
   ]
  },
  {
   "cell_type": "markdown",
   "metadata": {},
   "source": [
    "**Нулевая гипотеза**: средняя выручка пользователей из Москвы не отличается от выручки пользователей из других регионов.  \n",
    "**Альтернативная гипотеза**: средняя выручка пользователей из Москвы отличается от выручки пользователей из других регионов"
   ]
  },
  {
   "cell_type": "markdown",
   "metadata": {},
   "source": [
    "Используя метод `st.ttest_ind` сравним средние значения выручки пользователей из Москвы и из других регионов. Критический уровень статистической значимости зададим значением 0,05."
   ]
  },
  {
   "cell_type": "code",
   "execution_count": 104,
   "metadata": {},
   "outputs": [
    {
     "name": "stdout",
     "output_type": "stream",
     "text": [
      "p-значение:  0.5559333274187678\n",
      "Не получилось отвергнуть нулевую гипотезу\n"
     ]
    }
   ],
   "source": [
    "alpha = .05\n",
    "results = st.ttest_ind(\n",
    "    data.query('city == \"Москва\"')['income'], \n",
    "    data.query('city != \"Москва\"')['income'])\n",
    "print('p-значение: ', results.pvalue)\n",
    "\n",
    "if results.pvalue < alpha:\n",
    "    print(\"Отвергаем нулевую гипотезу\")\n",
    "else:\n",
    "    print(\"Не получилось отвергнуть нулевую гипотезу\") "
   ]
  },
  {
   "cell_type": "markdown",
   "metadata": {},
   "source": [
    "Гипотезу не удалось отвергнуть: средняя выручка пользователей из Москвы не отличается от выручки пользователей из других регионов."
   ]
  },
  {
   "cell_type": "markdown",
   "metadata": {},
   "source": [
    "<div class=\"alert alert-block alert-success\">\n",
    "<b>Комментарий ревьюера (всё отлично):</b>\n",
    "Добавить нечего. Идеальное исполнение."
   ]
  },
  {
   "cell_type": "markdown",
   "metadata": {},
   "source": [
    "## Вывод"
   ]
  },
  {
   "cell_type": "markdown",
   "metadata": {},
   "source": [
    "В ходе исследования, на основании данных компании «Мегалайн», был произведен предварительный анализ тарифов на небольшой выборке клиентов. \n",
    "\n",
    "Перед тем как приступить к исследованию была произведена предобработка данных:\n",
    "\n",
    "* убраны пропуски;  \n",
    "* устранены ошибки и аномалии в данных."
   ]
  },
  {
   "cell_type": "markdown",
   "metadata": {},
   "source": [
    "Для ответа на гипотезы были посчитаны и добавлены в таблицу следующие данные:\n",
    "\n",
    "* количество сделанных звонков и израсходованных минут разговора по месяцам;\n",
    "* количество отправленных сообщений по месяцам;\n",
    "* объем израсходованного интернет-трафика по месяцам;\n",
    "* помесячная выручка с каждого пользователя."
   ]
  },
  {
   "cell_type": "markdown",
   "metadata": {},
   "source": [
    "В ходе исследования было установлено:\n",
    "\n",
    "* Среднее значение выручки для тарифа \"smart\" составляет ~~1325,74~~ 1270.11 руб., для тарифа \"ultra\" - ~~2067,56~~ 2051.12 руб. \n",
    "* Среднее количество минут разговора в месяц на тарифе \"смарт\" - ~~389,70~~ 412.61, на тарифе \"ультра\" - ~~490,59~~ 519.52. Оба значения входят в ежемесяный лимит, предумотренный тарифным планом.\n",
    "* Пользователи тарифа \"смарт\" в среднем в месяц отправляют 33 сообщения, на тарифе \"ультра\" - 49\n",
    "* На тарифе \"смарт\" в среднем абоненты используют ~~16,62~~ 16.25 гб. интернета в месяц. Таким образом пакета интернета недостаточно пользователям тарифа \"смарт\". На тарифе \"ультра\" - ~~19,50~~ 19.03 гб. "
   ]
  },
  {
   "cell_type": "markdown",
   "metadata": {},
   "source": [
    "В ходе исследования были проверены 2 гипотезы:\n",
    "1. Средняя выручка пользователей тарифов «Ультра» и «Смарт» равна - гипотеза отвергнута.\n",
    "2. Средняя выручка пользователей из Москвы не отличается от выручки пользователей из других регионов - гипотезу не удалось отвергнуть."
   ]
  },
  {
   "cell_type": "markdown",
   "metadata": {},
   "source": [
    "**Наиболее прибыльным для компании является тариф \"Ультра\": в среднем он приносит на 781,01 руб. больше прибыли с одного клиента.** По представленной выборке за 2018 год общая выручка по тарифу \"Смарт\" превышает на 16,8% выручку по тарифу \"Ультра\". Это объясняется тем, что пользователей тарифа \"Смарт\" в выборке больше."
   ]
  },
  {
   "cell_type": "markdown",
   "metadata": {},
   "source": [
    "<div class=\"alert alert-block alert-danger\">\n",
    "<s><b>Комментарий ревьюера (критичная ошибка):</b>\n",
    "Все очень здорово, выводы верные, но есть 2 недочета, которые нужно обязательно устранить:\n",
    "    \n",
    "1) несоответствие числе в выводах по средним значениям;\n",
    "    \n",
    "2) В общем выводе к проекту не хватает самого главного пункта - рекомендаций заказчику исследования. Бизнес не интересует какие манипуляции мы проводили с данными, а инсайды, которые помогут увеличить доходы или принять какок либо важное решение.</s>"
   ]
  },
  {
   "cell_type": "markdown",
   "metadata": {},
   "source": [
    "<div class=\"alert alert-info\"> <b>Комментарий студента:</b> Почему-то вывод, который напрашивается, кажется не совсем однозначным. Прибыльнее ультра, пакет полностью не используется. Но ведь в долгосрочной перспективе пользователи могут не захотеть платить за то, что не используют.. Может тут нужен третий тариф. Где-то посередине. Но я ведь не маркетолог) </div>"
   ]
  },
  {
   "cell_type": "markdown",
   "metadata": {},
   "source": [
    "<div class=\"alert alert-block alert-success\">\n",
    "<b>Комментарий ревьюера V2(всё отлично):</b>\n",
    "Это тоже неплохая мысль! На данном отрезке времени Ультра приносит в среднем больше прибыли. А за 2019 и последующие года нужно проводить новые исследования. "
   ]
  },
  {
   "cell_type": "markdown",
   "metadata": {},
   "source": [
    "<div style=\"border:solid green 2px; padding: 20px\">\n",
    "\n",
    "## Общий вывод по проекту\n",
    "    \n",
    "Мирослава, спасибо, что прислала проект на проверку. Ты проделала восхитительную работу и справилась с большинством поставленных задач.\n",
    "    \n",
    "В работе есть несколько недочетов, исправив которые ты улучшишь проект и сможешь двигаться дальше. Найти их помогут цветные комментарии. \n",
    "    \n",
    "Жду твою работу на вторую итерацию ревью."
   ]
  },
  {
   "cell_type": "markdown",
   "metadata": {},
   "source": [
    "<div style=\"border:solid green 2px; padding: 20px\">\n",
    "\n",
    "## Вторая итерация ревью\n",
    "    \n",
    "Прекрасный проект, все комментарии отработаны. Мирослава, благодарю за проделанную работу и желаю удачи на следующих спринтах! 👍"
   ]
  },
  {
   "cell_type": "code",
   "execution_count": null,
   "metadata": {},
   "outputs": [],
   "source": []
  }
 ],
 "metadata": {
  "ExecuteTimeLog": [
   {
    "duration": 592,
    "start_time": "2022-03-11T07:34:38.122Z"
   },
   {
    "duration": 1678,
    "start_time": "2022-03-11T07:34:56.475Z"
   },
   {
    "duration": 1510,
    "start_time": "2022-03-11T07:36:00.556Z"
   },
   {
    "duration": 159,
    "start_time": "2022-03-11T07:37:13.539Z"
   },
   {
    "duration": 22,
    "start_time": "2022-03-11T07:37:31.152Z"
   },
   {
    "duration": 100,
    "start_time": "2022-03-11T07:38:14.686Z"
   },
   {
    "duration": 15,
    "start_time": "2022-03-11T07:38:34.954Z"
   },
   {
    "duration": 58,
    "start_time": "2022-03-11T07:38:44.565Z"
   },
   {
    "duration": 130,
    "start_time": "2022-03-11T07:39:44.758Z"
   },
   {
    "duration": 19,
    "start_time": "2022-03-11T07:40:57.414Z"
   },
   {
    "duration": 19,
    "start_time": "2022-03-11T07:41:15.308Z"
   },
   {
    "duration": 6,
    "start_time": "2022-03-11T07:41:31.952Z"
   },
   {
    "duration": 26,
    "start_time": "2022-03-11T07:43:28.155Z"
   },
   {
    "duration": 6,
    "start_time": "2022-03-11T07:43:35.832Z"
   },
   {
    "duration": 27,
    "start_time": "2022-03-11T08:24:53.569Z"
   },
   {
    "duration": 15,
    "start_time": "2022-03-11T08:25:06.894Z"
   },
   {
    "duration": 29,
    "start_time": "2022-03-11T08:25:15.387Z"
   },
   {
    "duration": 24,
    "start_time": "2022-03-11T08:25:41.615Z"
   },
   {
    "duration": 16,
    "start_time": "2022-03-11T08:25:51.136Z"
   },
   {
    "duration": 19,
    "start_time": "2022-03-11T08:26:00.638Z"
   },
   {
    "duration": 7,
    "start_time": "2022-03-11T08:26:08.423Z"
   },
   {
    "duration": 9,
    "start_time": "2022-03-11T08:27:09.595Z"
   },
   {
    "duration": 141,
    "start_time": "2022-03-11T08:28:22.516Z"
   },
   {
    "duration": 44,
    "start_time": "2022-03-11T08:28:31.168Z"
   },
   {
    "duration": 103,
    "start_time": "2022-03-11T08:28:33.837Z"
   },
   {
    "duration": 58,
    "start_time": "2022-03-11T08:28:42.173Z"
   },
   {
    "duration": 7,
    "start_time": "2022-03-11T08:28:50.218Z"
   },
   {
    "duration": 6,
    "start_time": "2022-03-11T08:28:58.256Z"
   },
   {
    "duration": 257,
    "start_time": "2022-03-11T08:30:52.442Z"
   },
   {
    "duration": 65,
    "start_time": "2022-03-11T08:31:06.247Z"
   },
   {
    "duration": 561,
    "start_time": "2022-03-11T08:36:07.278Z"
   },
   {
    "duration": 163,
    "start_time": "2022-03-11T08:36:07.842Z"
   },
   {
    "duration": 39,
    "start_time": "2022-03-11T08:36:08.007Z"
   },
   {
    "duration": 92,
    "start_time": "2022-03-11T08:36:08.049Z"
   },
   {
    "duration": 14,
    "start_time": "2022-03-11T08:36:08.143Z"
   },
   {
    "duration": 160,
    "start_time": "2022-03-11T08:36:08.159Z"
   },
   {
    "duration": 26,
    "start_time": "2022-03-11T08:36:08.321Z"
   },
   {
    "duration": 17,
    "start_time": "2022-03-11T08:36:08.350Z"
   },
   {
    "duration": 8,
    "start_time": "2022-03-11T08:36:08.370Z"
   },
   {
    "duration": 26,
    "start_time": "2022-03-11T08:36:08.380Z"
   },
   {
    "duration": 6,
    "start_time": "2022-03-11T08:36:08.408Z"
   },
   {
    "duration": 28,
    "start_time": "2022-03-11T08:36:08.437Z"
   },
   {
    "duration": 16,
    "start_time": "2022-03-11T08:36:08.466Z"
   },
   {
    "duration": 56,
    "start_time": "2022-03-11T08:36:08.483Z"
   },
   {
    "duration": 23,
    "start_time": "2022-03-11T08:36:08.540Z"
   },
   {
    "duration": 17,
    "start_time": "2022-03-11T08:36:08.566Z"
   },
   {
    "duration": 54,
    "start_time": "2022-03-11T08:36:08.585Z"
   },
   {
    "duration": 9,
    "start_time": "2022-03-11T08:36:08.641Z"
   },
   {
    "duration": 9,
    "start_time": "2022-03-11T08:36:08.652Z"
   },
   {
    "duration": 139,
    "start_time": "2022-03-11T08:36:08.663Z"
   },
   {
    "duration": 65,
    "start_time": "2022-03-11T08:36:08.804Z"
   },
   {
    "duration": 72,
    "start_time": "2022-03-11T08:36:08.871Z"
   },
   {
    "duration": 8,
    "start_time": "2022-03-11T08:36:08.947Z"
   },
   {
    "duration": 25,
    "start_time": "2022-03-11T08:36:08.958Z"
   },
   {
    "duration": 276,
    "start_time": "2022-03-11T08:36:08.985Z"
   },
   {
    "duration": 81,
    "start_time": "2022-03-11T08:36:09.263Z"
   },
   {
    "duration": 128594,
    "start_time": "2022-03-11T08:36:09.346Z"
   },
   {
    "duration": 523,
    "start_time": "2022-03-11T08:38:17.421Z"
   },
   {
    "duration": 29,
    "start_time": "2022-03-11T08:38:27.406Z"
   },
   {
    "duration": 325,
    "start_time": "2022-03-11T08:38:31.589Z"
   },
   {
    "duration": 3,
    "start_time": "2022-03-11T08:39:05.588Z"
   },
   {
    "duration": 161,
    "start_time": "2022-03-11T08:39:05.640Z"
   },
   {
    "duration": 35,
    "start_time": "2022-03-11T08:39:05.803Z"
   },
   {
    "duration": 101,
    "start_time": "2022-03-11T08:39:05.841Z"
   },
   {
    "duration": 15,
    "start_time": "2022-03-11T08:39:05.944Z"
   },
   {
    "duration": 141,
    "start_time": "2022-03-11T08:39:05.961Z"
   },
   {
    "duration": 17,
    "start_time": "2022-03-11T08:39:06.104Z"
   },
   {
    "duration": 17,
    "start_time": "2022-03-11T08:39:06.138Z"
   },
   {
    "duration": 29,
    "start_time": "2022-03-11T08:39:06.157Z"
   },
   {
    "duration": 63,
    "start_time": "2022-03-11T08:39:06.188Z"
   },
   {
    "duration": 40,
    "start_time": "2022-03-11T08:39:06.253Z"
   },
   {
    "duration": 45,
    "start_time": "2022-03-11T08:39:06.295Z"
   },
   {
    "duration": 12,
    "start_time": "2022-03-11T08:39:06.342Z"
   },
   {
    "duration": 34,
    "start_time": "2022-03-11T08:39:06.356Z"
   },
   {
    "duration": 21,
    "start_time": "2022-03-11T08:39:06.392Z"
   },
   {
    "duration": 33,
    "start_time": "2022-03-11T08:39:06.415Z"
   },
   {
    "duration": 27,
    "start_time": "2022-03-11T08:39:06.449Z"
   },
   {
    "duration": 6,
    "start_time": "2022-03-11T08:39:06.478Z"
   },
   {
    "duration": 14,
    "start_time": "2022-03-11T08:39:06.486Z"
   },
   {
    "duration": 129,
    "start_time": "2022-03-11T08:39:06.501Z"
   },
   {
    "duration": 38,
    "start_time": "2022-03-11T08:39:06.632Z"
   },
   {
    "duration": 71,
    "start_time": "2022-03-11T08:39:06.672Z"
   },
   {
    "duration": 7,
    "start_time": "2022-03-11T08:39:06.744Z"
   },
   {
    "duration": 25,
    "start_time": "2022-03-11T08:39:06.753Z"
   },
   {
    "duration": 191,
    "start_time": "2022-03-11T08:39:06.780Z"
   },
   {
    "duration": 72,
    "start_time": "2022-03-11T08:39:06.973Z"
   },
   {
    "duration": 28,
    "start_time": "2022-03-11T08:39:07.047Z"
   },
   {
    "duration": 339,
    "start_time": "2022-03-11T08:39:07.078Z"
   },
   {
    "duration": 216,
    "start_time": "2022-03-11T08:40:46.106Z"
   },
   {
    "duration": 169,
    "start_time": "2022-03-11T08:41:29.823Z"
   },
   {
    "duration": 7,
    "start_time": "2022-03-11T08:41:56.263Z"
   },
   {
    "duration": 220,
    "start_time": "2022-03-11T08:42:19.585Z"
   },
   {
    "duration": 6,
    "start_time": "2022-03-11T08:42:32.210Z"
   },
   {
    "duration": 28,
    "start_time": "2022-03-11T08:43:23.897Z"
   },
   {
    "duration": 18,
    "start_time": "2022-03-11T08:43:35.382Z"
   },
   {
    "duration": 192,
    "start_time": "2022-03-11T08:43:44.577Z"
   },
   {
    "duration": 6,
    "start_time": "2022-03-11T08:43:55.443Z"
   },
   {
    "duration": 6,
    "start_time": "2022-03-11T08:44:09.123Z"
   },
   {
    "duration": 3697,
    "start_time": "2022-03-11T08:45:39.264Z"
   },
   {
    "duration": 145,
    "start_time": "2022-03-11T08:45:52.027Z"
   },
   {
    "duration": 12,
    "start_time": "2022-03-11T08:46:28.343Z"
   },
   {
    "duration": 211,
    "start_time": "2022-03-11T08:46:43.838Z"
   },
   {
    "duration": 141,
    "start_time": "2022-03-11T08:46:58.523Z"
   },
   {
    "duration": 10,
    "start_time": "2022-03-11T08:47:08.044Z"
   },
   {
    "duration": 21,
    "start_time": "2022-03-11T08:47:20.846Z"
   },
   {
    "duration": 5,
    "start_time": "2022-03-11T08:47:31.801Z"
   },
   {
    "duration": 218,
    "start_time": "2022-03-11T09:10:21.508Z"
   },
   {
    "duration": 7,
    "start_time": "2022-03-11T09:10:32.408Z"
   },
   {
    "duration": 10,
    "start_time": "2022-03-11T09:11:17.173Z"
   },
   {
    "duration": 10,
    "start_time": "2022-03-11T09:11:31.498Z"
   },
   {
    "duration": 3,
    "start_time": "2022-03-11T09:11:45.114Z"
   },
   {
    "duration": 6,
    "start_time": "2022-03-11T09:11:55.508Z"
   },
   {
    "duration": 8,
    "start_time": "2022-03-11T09:12:14.759Z"
   },
   {
    "duration": 7,
    "start_time": "2022-03-11T09:12:35.555Z"
   },
   {
    "duration": 196,
    "start_time": "2022-03-11T09:12:48.823Z"
   },
   {
    "duration": 58,
    "start_time": "2022-03-11T09:12:58.293Z"
   },
   {
    "duration": 214,
    "start_time": "2022-03-11T09:13:07.333Z"
   },
   {
    "duration": 59,
    "start_time": "2022-03-11T09:13:20.416Z"
   },
   {
    "duration": 16,
    "start_time": "2022-03-11T09:14:02.588Z"
   },
   {
    "duration": 329,
    "start_time": "2022-03-12T13:52:53.663Z"
   },
   {
    "duration": 576,
    "start_time": "2022-03-12T13:52:58.384Z"
   },
   {
    "duration": 140,
    "start_time": "2022-03-12T13:52:58.961Z"
   },
   {
    "duration": 20,
    "start_time": "2022-03-12T13:52:59.103Z"
   },
   {
    "duration": 88,
    "start_time": "2022-03-12T13:52:59.125Z"
   },
   {
    "duration": 14,
    "start_time": "2022-03-12T13:52:59.215Z"
   },
   {
    "duration": 125,
    "start_time": "2022-03-12T13:52:59.231Z"
   },
   {
    "duration": 16,
    "start_time": "2022-03-12T13:52:59.358Z"
   },
   {
    "duration": 31,
    "start_time": "2022-03-12T13:52:59.377Z"
   },
   {
    "duration": 5,
    "start_time": "2022-03-12T13:52:59.410Z"
   },
   {
    "duration": 34,
    "start_time": "2022-03-12T13:52:59.417Z"
   },
   {
    "duration": 6,
    "start_time": "2022-03-12T13:52:59.452Z"
   },
   {
    "duration": 21,
    "start_time": "2022-03-12T13:52:59.460Z"
   },
   {
    "duration": 31,
    "start_time": "2022-03-12T13:52:59.483Z"
   },
   {
    "duration": 18,
    "start_time": "2022-03-12T13:52:59.516Z"
   },
   {
    "duration": 22,
    "start_time": "2022-03-12T13:52:59.536Z"
   },
   {
    "duration": 12,
    "start_time": "2022-03-12T13:52:59.560Z"
   },
   {
    "duration": 42,
    "start_time": "2022-03-12T13:52:59.574Z"
   },
   {
    "duration": 4,
    "start_time": "2022-03-12T13:52:59.617Z"
   },
   {
    "duration": 6,
    "start_time": "2022-03-12T13:52:59.623Z"
   },
   {
    "duration": 95,
    "start_time": "2022-03-12T13:52:59.631Z"
   },
   {
    "duration": 32,
    "start_time": "2022-03-12T13:52:59.727Z"
   },
   {
    "duration": 55,
    "start_time": "2022-03-12T13:52:59.760Z"
   },
   {
    "duration": 5,
    "start_time": "2022-03-12T13:52:59.818Z"
   },
   {
    "duration": 5,
    "start_time": "2022-03-12T13:52:59.825Z"
   },
   {
    "duration": 230,
    "start_time": "2022-03-12T13:52:59.831Z"
   },
   {
    "duration": 52,
    "start_time": "2022-03-12T13:53:00.062Z"
   },
   {
    "duration": 26,
    "start_time": "2022-03-12T13:53:00.115Z"
   },
   {
    "duration": 192,
    "start_time": "2022-03-12T13:53:00.142Z"
   },
   {
    "duration": 180,
    "start_time": "2022-03-12T13:53:00.335Z"
   },
   {
    "duration": 167,
    "start_time": "2022-03-12T13:53:00.516Z"
   },
   {
    "duration": 5,
    "start_time": "2022-03-12T13:53:00.684Z"
   },
   {
    "duration": 191,
    "start_time": "2022-03-12T13:53:00.691Z"
   },
   {
    "duration": 5,
    "start_time": "2022-03-12T13:53:00.883Z"
   },
   {
    "duration": 37,
    "start_time": "2022-03-12T13:53:00.890Z"
   },
   {
    "duration": 17,
    "start_time": "2022-03-12T13:53:00.928Z"
   },
   {
    "duration": 189,
    "start_time": "2022-03-12T13:53:00.947Z"
   },
   {
    "duration": 6,
    "start_time": "2022-03-12T13:53:01.138Z"
   },
   {
    "duration": 8,
    "start_time": "2022-03-12T13:53:01.145Z"
   },
   {
    "duration": 200,
    "start_time": "2022-03-12T13:53:01.155Z"
   },
   {
    "duration": 134,
    "start_time": "2022-03-12T13:53:01.357Z"
   },
   {
    "duration": 19,
    "start_time": "2022-03-12T13:53:01.492Z"
   },
   {
    "duration": 176,
    "start_time": "2022-03-12T13:53:01.512Z"
   },
   {
    "duration": 136,
    "start_time": "2022-03-12T13:53:01.690Z"
   },
   {
    "duration": 7,
    "start_time": "2022-03-12T13:53:01.827Z"
   },
   {
    "duration": 23,
    "start_time": "2022-03-12T13:53:01.836Z"
   },
   {
    "duration": 5,
    "start_time": "2022-03-12T13:53:01.860Z"
   },
   {
    "duration": 187,
    "start_time": "2022-03-12T13:53:01.866Z"
   },
   {
    "duration": 5,
    "start_time": "2022-03-12T13:53:02.054Z"
   },
   {
    "duration": 119,
    "start_time": "2022-03-12T13:53:02.060Z"
   },
   {
    "duration": 1217,
    "start_time": "2022-03-12T13:53:00.964Z"
   },
   {
    "duration": 1212,
    "start_time": "2022-03-12T13:53:00.970Z"
   },
   {
    "duration": 1207,
    "start_time": "2022-03-12T13:53:00.976Z"
   },
   {
    "duration": 1202,
    "start_time": "2022-03-12T13:53:00.982Z"
   },
   {
    "duration": 1197,
    "start_time": "2022-03-12T13:53:00.988Z"
   },
   {
    "duration": 1192,
    "start_time": "2022-03-12T13:53:00.994Z"
   },
   {
    "duration": 1187,
    "start_time": "2022-03-12T13:53:01.000Z"
   },
   {
    "duration": 1162,
    "start_time": "2022-03-12T13:53:01.026Z"
   },
   {
    "duration": 1152,
    "start_time": "2022-03-12T13:53:01.037Z"
   },
   {
    "duration": 1146,
    "start_time": "2022-03-12T13:53:01.044Z"
   },
   {
    "duration": 1140,
    "start_time": "2022-03-12T13:53:01.051Z"
   },
   {
    "duration": 3,
    "start_time": "2022-03-12T13:53:47.988Z"
   },
   {
    "duration": 139,
    "start_time": "2022-03-12T13:53:47.995Z"
   },
   {
    "duration": 17,
    "start_time": "2022-03-12T13:53:48.136Z"
   },
   {
    "duration": 87,
    "start_time": "2022-03-12T13:53:48.155Z"
   },
   {
    "duration": 12,
    "start_time": "2022-03-12T13:53:48.244Z"
   },
   {
    "duration": 122,
    "start_time": "2022-03-12T13:53:48.257Z"
   },
   {
    "duration": 25,
    "start_time": "2022-03-12T13:53:48.380Z"
   },
   {
    "duration": 20,
    "start_time": "2022-03-12T13:53:48.407Z"
   },
   {
    "duration": 6,
    "start_time": "2022-03-12T13:53:48.429Z"
   },
   {
    "duration": 34,
    "start_time": "2022-03-12T13:53:48.436Z"
   },
   {
    "duration": 7,
    "start_time": "2022-03-12T13:53:48.472Z"
   },
   {
    "duration": 26,
    "start_time": "2022-03-12T13:53:48.480Z"
   },
   {
    "duration": 11,
    "start_time": "2022-03-12T13:53:48.508Z"
   },
   {
    "duration": 18,
    "start_time": "2022-03-12T13:53:48.521Z"
   },
   {
    "duration": 19,
    "start_time": "2022-03-12T13:53:48.541Z"
   },
   {
    "duration": 51,
    "start_time": "2022-03-12T13:53:48.562Z"
   },
   {
    "duration": 15,
    "start_time": "2022-03-12T13:53:48.614Z"
   },
   {
    "duration": 6,
    "start_time": "2022-03-12T13:53:48.630Z"
   },
   {
    "duration": 6,
    "start_time": "2022-03-12T13:53:48.637Z"
   },
   {
    "duration": 109,
    "start_time": "2022-03-12T13:53:48.644Z"
   },
   {
    "duration": 31,
    "start_time": "2022-03-12T13:53:48.755Z"
   },
   {
    "duration": 60,
    "start_time": "2022-03-12T13:53:48.787Z"
   },
   {
    "duration": 5,
    "start_time": "2022-03-12T13:53:48.849Z"
   },
   {
    "duration": 4,
    "start_time": "2022-03-12T13:53:48.858Z"
   },
   {
    "duration": 178,
    "start_time": "2022-03-12T13:53:48.864Z"
   },
   {
    "duration": 41,
    "start_time": "2022-03-12T13:53:49.044Z"
   },
   {
    "duration": 45,
    "start_time": "2022-03-12T13:53:49.086Z"
   },
   {
    "duration": 187,
    "start_time": "2022-03-12T13:53:49.133Z"
   },
   {
    "duration": 185,
    "start_time": "2022-03-12T13:53:49.322Z"
   },
   {
    "duration": 179,
    "start_time": "2022-03-12T13:53:49.508Z"
   },
   {
    "duration": 5,
    "start_time": "2022-03-12T13:53:49.689Z"
   },
   {
    "duration": 194,
    "start_time": "2022-03-12T13:53:49.695Z"
   },
   {
    "duration": 16,
    "start_time": "2022-03-12T13:53:49.890Z"
   },
   {
    "duration": 20,
    "start_time": "2022-03-12T13:53:49.907Z"
   },
   {
    "duration": 14,
    "start_time": "2022-03-12T13:53:49.928Z"
   },
   {
    "duration": 180,
    "start_time": "2022-03-12T13:53:49.944Z"
   },
   {
    "duration": 4,
    "start_time": "2022-03-12T13:53:50.126Z"
   },
   {
    "duration": 6,
    "start_time": "2022-03-12T13:53:50.132Z"
   },
   {
    "duration": 194,
    "start_time": "2022-03-12T13:53:50.139Z"
   },
   {
    "duration": 134,
    "start_time": "2022-03-12T13:53:50.334Z"
   },
   {
    "duration": 11,
    "start_time": "2022-03-12T13:53:50.470Z"
   },
   {
    "duration": 185,
    "start_time": "2022-03-12T13:53:50.483Z"
   },
   {
    "duration": 136,
    "start_time": "2022-03-12T13:53:50.669Z"
   },
   {
    "duration": 8,
    "start_time": "2022-03-12T13:53:50.806Z"
   },
   {
    "duration": 23,
    "start_time": "2022-03-12T13:53:50.815Z"
   },
   {
    "duration": 4,
    "start_time": "2022-03-12T13:53:50.839Z"
   },
   {
    "duration": 184,
    "start_time": "2022-03-12T13:53:50.845Z"
   },
   {
    "duration": 7,
    "start_time": "2022-03-12T13:53:51.031Z"
   },
   {
    "duration": 9,
    "start_time": "2022-03-12T13:53:51.039Z"
   },
   {
    "duration": 8,
    "start_time": "2022-03-12T13:53:51.050Z"
   },
   {
    "duration": 2,
    "start_time": "2022-03-12T13:53:51.059Z"
   },
   {
    "duration": 42,
    "start_time": "2022-03-12T13:53:51.063Z"
   },
   {
    "duration": 5,
    "start_time": "2022-03-12T13:53:51.107Z"
   },
   {
    "duration": 10,
    "start_time": "2022-03-12T13:53:51.114Z"
   },
   {
    "duration": 168,
    "start_time": "2022-03-12T13:53:51.125Z"
   },
   {
    "duration": 104,
    "start_time": "2022-03-12T13:53:51.295Z"
   },
   {
    "duration": 1047,
    "start_time": "2022-03-12T13:53:50.353Z"
   },
   {
    "duration": 1040,
    "start_time": "2022-03-12T13:53:50.361Z"
   },
   {
    "duration": 1032,
    "start_time": "2022-03-12T13:53:50.370Z"
   },
   {
    "duration": 156,
    "start_time": "2022-03-12T14:02:37.749Z"
   },
   {
    "duration": 130,
    "start_time": "2022-03-12T14:02:41.124Z"
   },
   {
    "duration": 15,
    "start_time": "2022-03-12T14:02:57.919Z"
   },
   {
    "duration": 695,
    "start_time": "2022-03-12T14:04:20.979Z"
   },
   {
    "duration": 291,
    "start_time": "2022-03-12T14:04:45.847Z"
   },
   {
    "duration": 2977,
    "start_time": "2022-03-12T14:07:37.632Z"
   },
   {
    "duration": 11,
    "start_time": "2022-03-12T14:08:23.144Z"
   },
   {
    "duration": 12,
    "start_time": "2022-03-12T14:08:41.062Z"
   },
   {
    "duration": 4,
    "start_time": "2022-03-12T14:09:11.989Z"
   },
   {
    "duration": 279,
    "start_time": "2022-03-12T14:09:13.422Z"
   },
   {
    "duration": 6,
    "start_time": "2022-03-12T14:46:02.597Z"
   },
   {
    "duration": 5,
    "start_time": "2022-03-12T14:50:41.224Z"
   },
   {
    "duration": 5,
    "start_time": "2022-03-12T14:51:30.715Z"
   },
   {
    "duration": 7,
    "start_time": "2022-03-12T15:54:22.600Z"
   },
   {
    "duration": 6,
    "start_time": "2022-03-12T16:19:29.330Z"
   },
   {
    "duration": 674,
    "start_time": "2022-03-12T16:27:16.197Z"
   },
   {
    "duration": 334,
    "start_time": "2022-03-12T16:29:44.752Z"
   },
   {
    "duration": 3,
    "start_time": "2022-03-12T16:30:41.571Z"
   },
   {
    "duration": 279,
    "start_time": "2022-03-12T16:30:48.632Z"
   },
   {
    "duration": 485,
    "start_time": "2022-03-12T16:31:57.099Z"
   },
   {
    "duration": 579,
    "start_time": "2022-03-12T16:32:10.092Z"
   },
   {
    "duration": 8,
    "start_time": "2022-03-12T16:36:39.208Z"
   },
   {
    "duration": 6,
    "start_time": "2022-03-12T16:36:42.526Z"
   },
   {
    "duration": 249,
    "start_time": "2022-03-12T16:36:44.916Z"
   },
   {
    "duration": 6,
    "start_time": "2022-03-12T16:37:25.530Z"
   },
   {
    "duration": 480,
    "start_time": "2022-03-12T16:46:11.809Z"
   },
   {
    "duration": 166,
    "start_time": "2022-03-12T16:52:15.831Z"
   },
   {
    "duration": 4,
    "start_time": "2022-03-12T16:52:15.998Z"
   },
   {
    "duration": 171,
    "start_time": "2022-03-12T16:54:37.259Z"
   },
   {
    "duration": 210,
    "start_time": "2022-03-12T16:54:43.995Z"
   },
   {
    "duration": 320,
    "start_time": "2022-03-12T17:15:50.480Z"
   },
   {
    "duration": 619,
    "start_time": "2022-03-12T17:15:58.141Z"
   },
   {
    "duration": 967,
    "start_time": "2022-03-12T17:15:58.762Z"
   },
   {
    "duration": 18,
    "start_time": "2022-03-12T17:15:59.730Z"
   },
   {
    "duration": 384,
    "start_time": "2022-03-12T17:15:59.749Z"
   },
   {
    "duration": 12,
    "start_time": "2022-03-12T17:16:00.135Z"
   },
   {
    "duration": 2703,
    "start_time": "2022-03-12T17:16:00.148Z"
   },
   {
    "duration": 15,
    "start_time": "2022-03-12T17:16:02.852Z"
   },
   {
    "duration": 53,
    "start_time": "2022-03-12T17:16:02.869Z"
   },
   {
    "duration": 5,
    "start_time": "2022-03-12T17:16:02.924Z"
   },
   {
    "duration": 64,
    "start_time": "2022-03-12T17:16:02.931Z"
   },
   {
    "duration": 5,
    "start_time": "2022-03-12T17:16:02.997Z"
   },
   {
    "duration": 26,
    "start_time": "2022-03-12T17:16:03.003Z"
   },
   {
    "duration": 12,
    "start_time": "2022-03-12T17:16:03.031Z"
   },
   {
    "duration": 19,
    "start_time": "2022-03-12T17:16:03.044Z"
   },
   {
    "duration": 20,
    "start_time": "2022-03-12T17:16:03.065Z"
   },
   {
    "duration": 12,
    "start_time": "2022-03-12T17:16:03.105Z"
   },
   {
    "duration": 17,
    "start_time": "2022-03-12T17:16:03.118Z"
   },
   {
    "duration": 5,
    "start_time": "2022-03-12T17:16:03.136Z"
   },
   {
    "duration": 6,
    "start_time": "2022-03-12T17:16:03.142Z"
   },
   {
    "duration": 109,
    "start_time": "2022-03-12T17:16:03.150Z"
   },
   {
    "duration": 32,
    "start_time": "2022-03-12T17:16:03.261Z"
   },
   {
    "duration": 45,
    "start_time": "2022-03-12T17:16:03.305Z"
   },
   {
    "duration": 5,
    "start_time": "2022-03-12T17:16:03.354Z"
   },
   {
    "duration": 5,
    "start_time": "2022-03-12T17:16:03.361Z"
   },
   {
    "duration": 189,
    "start_time": "2022-03-12T17:16:03.367Z"
   },
   {
    "duration": 5,
    "start_time": "2022-03-12T17:16:03.557Z"
   },
   {
    "duration": 56,
    "start_time": "2022-03-12T17:16:03.564Z"
   },
   {
    "duration": 26,
    "start_time": "2022-03-12T17:16:03.622Z"
   },
   {
    "duration": 191,
    "start_time": "2022-03-12T17:16:03.649Z"
   },
   {
    "duration": 190,
    "start_time": "2022-03-12T17:16:03.841Z"
   },
   {
    "duration": 163,
    "start_time": "2022-03-12T17:16:04.032Z"
   },
   {
    "duration": 12,
    "start_time": "2022-03-12T17:16:04.196Z"
   },
   {
    "duration": 183,
    "start_time": "2022-03-12T17:16:04.209Z"
   },
   {
    "duration": 28,
    "start_time": "2022-03-12T17:16:04.394Z"
   },
   {
    "duration": 15,
    "start_time": "2022-03-12T17:16:04.423Z"
   },
   {
    "duration": 182,
    "start_time": "2022-03-12T17:16:04.439Z"
   },
   {
    "duration": 4,
    "start_time": "2022-03-12T17:16:04.622Z"
   },
   {
    "duration": 8,
    "start_time": "2022-03-12T17:16:04.627Z"
   },
   {
    "duration": 215,
    "start_time": "2022-03-12T17:16:04.637Z"
   },
   {
    "duration": 155,
    "start_time": "2022-03-12T17:16:04.854Z"
   },
   {
    "duration": 12,
    "start_time": "2022-03-12T17:16:05.011Z"
   },
   {
    "duration": 199,
    "start_time": "2022-03-12T17:16:05.024Z"
   },
   {
    "duration": 137,
    "start_time": "2022-03-12T17:16:05.225Z"
   },
   {
    "duration": 7,
    "start_time": "2022-03-12T17:16:05.363Z"
   },
   {
    "duration": 34,
    "start_time": "2022-03-12T17:16:05.371Z"
   },
   {
    "duration": 4,
    "start_time": "2022-03-12T17:16:05.406Z"
   },
   {
    "duration": 179,
    "start_time": "2022-03-12T17:16:05.412Z"
   },
   {
    "duration": 12,
    "start_time": "2022-03-12T17:16:05.593Z"
   },
   {
    "duration": 7,
    "start_time": "2022-03-12T17:16:05.606Z"
   },
   {
    "duration": 8,
    "start_time": "2022-03-12T17:16:05.615Z"
   },
   {
    "duration": 4,
    "start_time": "2022-03-12T17:16:05.624Z"
   },
   {
    "duration": 8,
    "start_time": "2022-03-12T17:16:05.629Z"
   },
   {
    "duration": 6,
    "start_time": "2022-03-12T17:16:05.638Z"
   },
   {
    "duration": 197,
    "start_time": "2022-03-12T17:16:05.645Z"
   },
   {
    "duration": 191,
    "start_time": "2022-03-12T17:16:05.844Z"
   },
   {
    "duration": 13,
    "start_time": "2022-03-12T17:16:06.036Z"
   },
   {
    "duration": 7,
    "start_time": "2022-03-12T17:16:06.051Z"
   },
   {
    "duration": 209,
    "start_time": "2022-03-12T17:16:06.059Z"
   },
   {
    "duration": 7,
    "start_time": "2022-03-12T17:16:06.270Z"
   },
   {
    "duration": 7,
    "start_time": "2022-03-12T17:16:06.278Z"
   },
   {
    "duration": 21,
    "start_time": "2022-03-12T17:16:06.287Z"
   },
   {
    "duration": 7,
    "start_time": "2022-03-12T17:16:06.309Z"
   },
   {
    "duration": 7,
    "start_time": "2022-03-12T17:20:29.090Z"
   },
   {
    "duration": 28,
    "start_time": "2022-03-12T17:37:50.089Z"
   },
   {
    "duration": 29,
    "start_time": "2022-03-12T17:37:58.806Z"
   },
   {
    "duration": 26,
    "start_time": "2022-03-12T17:38:25.958Z"
   },
   {
    "duration": 616,
    "start_time": "2022-03-12T17:40:15.804Z"
   },
   {
    "duration": 653,
    "start_time": "2022-03-12T17:40:20.951Z"
   },
   {
    "duration": 766,
    "start_time": "2022-03-12T17:40:21.606Z"
   },
   {
    "duration": 19,
    "start_time": "2022-03-12T17:40:22.374Z"
   },
   {
    "duration": 389,
    "start_time": "2022-03-12T17:40:22.394Z"
   },
   {
    "duration": 12,
    "start_time": "2022-03-12T17:40:22.785Z"
   },
   {
    "duration": 975,
    "start_time": "2022-03-12T17:40:22.799Z"
   },
   {
    "duration": 14,
    "start_time": "2022-03-12T17:40:23.776Z"
   },
   {
    "duration": 55,
    "start_time": "2022-03-12T17:40:23.791Z"
   },
   {
    "duration": 5,
    "start_time": "2022-03-12T17:40:23.848Z"
   },
   {
    "duration": 65,
    "start_time": "2022-03-12T17:40:23.855Z"
   },
   {
    "duration": 6,
    "start_time": "2022-03-12T17:40:23.921Z"
   },
   {
    "duration": 26,
    "start_time": "2022-03-12T17:40:23.929Z"
   },
   {
    "duration": 13,
    "start_time": "2022-03-12T17:40:23.957Z"
   },
   {
    "duration": 40,
    "start_time": "2022-03-12T17:40:23.972Z"
   },
   {
    "duration": 21,
    "start_time": "2022-03-12T17:40:24.014Z"
   },
   {
    "duration": 13,
    "start_time": "2022-03-12T17:40:24.037Z"
   },
   {
    "duration": 16,
    "start_time": "2022-03-12T17:40:24.052Z"
   },
   {
    "duration": 5,
    "start_time": "2022-03-12T17:40:24.070Z"
   },
   {
    "duration": 5,
    "start_time": "2022-03-12T17:40:24.106Z"
   },
   {
    "duration": 102,
    "start_time": "2022-03-12T17:40:24.113Z"
   },
   {
    "duration": 33,
    "start_time": "2022-03-12T17:40:24.217Z"
   },
   {
    "duration": 62,
    "start_time": "2022-03-12T17:40:24.252Z"
   },
   {
    "duration": 6,
    "start_time": "2022-03-12T17:40:24.316Z"
   },
   {
    "duration": 5,
    "start_time": "2022-03-12T17:40:24.323Z"
   },
   {
    "duration": 177,
    "start_time": "2022-03-12T17:40:24.329Z"
   },
   {
    "duration": 5,
    "start_time": "2022-03-12T17:40:24.508Z"
   },
   {
    "duration": 50,
    "start_time": "2022-03-12T17:40:24.516Z"
   },
   {
    "duration": 46,
    "start_time": "2022-03-12T17:40:24.568Z"
   },
   {
    "duration": 190,
    "start_time": "2022-03-12T17:40:24.615Z"
   },
   {
    "duration": 180,
    "start_time": "2022-03-12T17:40:24.807Z"
   },
   {
    "duration": 179,
    "start_time": "2022-03-12T17:40:24.988Z"
   },
   {
    "duration": 6,
    "start_time": "2022-03-12T17:40:25.169Z"
   },
   {
    "duration": 187,
    "start_time": "2022-03-12T17:40:25.176Z"
   },
   {
    "duration": 22,
    "start_time": "2022-03-12T17:40:25.365Z"
   },
   {
    "duration": 28,
    "start_time": "2022-03-12T17:40:25.389Z"
   },
   {
    "duration": 168,
    "start_time": "2022-03-12T17:40:25.419Z"
   },
   {
    "duration": 4,
    "start_time": "2022-03-12T17:40:25.589Z"
   },
   {
    "duration": 12,
    "start_time": "2022-03-12T17:40:25.594Z"
   },
   {
    "duration": 187,
    "start_time": "2022-03-12T17:40:25.607Z"
   },
   {
    "duration": 133,
    "start_time": "2022-03-12T17:40:25.796Z"
   },
   {
    "duration": 11,
    "start_time": "2022-03-12T17:40:25.931Z"
   },
   {
    "duration": 185,
    "start_time": "2022-03-12T17:40:25.943Z"
   },
   {
    "duration": 127,
    "start_time": "2022-03-12T17:40:26.130Z"
   },
   {
    "duration": 9,
    "start_time": "2022-03-12T17:40:26.259Z"
   },
   {
    "duration": 37,
    "start_time": "2022-03-12T17:40:26.269Z"
   },
   {
    "duration": 4,
    "start_time": "2022-03-12T17:40:26.307Z"
   },
   {
    "duration": 179,
    "start_time": "2022-03-12T17:40:26.312Z"
   },
   {
    "duration": 14,
    "start_time": "2022-03-12T17:40:26.493Z"
   },
   {
    "duration": 8,
    "start_time": "2022-03-12T17:40:26.509Z"
   },
   {
    "duration": 10,
    "start_time": "2022-03-12T17:40:26.518Z"
   },
   {
    "duration": 5,
    "start_time": "2022-03-12T17:40:26.529Z"
   },
   {
    "duration": 8,
    "start_time": "2022-03-12T17:40:26.536Z"
   },
   {
    "duration": 6,
    "start_time": "2022-03-12T17:40:26.545Z"
   },
   {
    "duration": 198,
    "start_time": "2022-03-12T17:40:26.552Z"
   },
   {
    "duration": 165,
    "start_time": "2022-03-12T17:40:26.751Z"
   },
   {
    "duration": 11,
    "start_time": "2022-03-12T17:40:26.918Z"
   },
   {
    "duration": 3,
    "start_time": "2022-03-12T17:40:26.931Z"
   },
   {
    "duration": 192,
    "start_time": "2022-03-12T17:40:26.936Z"
   },
   {
    "duration": 7,
    "start_time": "2022-03-12T17:40:27.130Z"
   },
   {
    "duration": 9,
    "start_time": "2022-03-12T17:40:27.138Z"
   },
   {
    "duration": 14,
    "start_time": "2022-03-12T17:40:27.149Z"
   },
   {
    "duration": 13,
    "start_time": "2022-03-12T17:40:27.164Z"
   },
   {
    "duration": 48,
    "start_time": "2022-03-12T17:40:27.179Z"
   },
   {
    "duration": 314,
    "start_time": "2022-03-12T17:42:21.961Z"
   },
   {
    "duration": 273,
    "start_time": "2022-03-12T17:43:26.122Z"
   },
   {
    "duration": 748,
    "start_time": "2022-03-12T17:43:29.895Z"
   },
   {
    "duration": 874,
    "start_time": "2022-03-12T17:43:30.645Z"
   },
   {
    "duration": 20,
    "start_time": "2022-03-12T17:43:31.521Z"
   },
   {
    "duration": 390,
    "start_time": "2022-03-12T17:43:31.543Z"
   },
   {
    "duration": 16,
    "start_time": "2022-03-12T17:43:31.934Z"
   },
   {
    "duration": 131,
    "start_time": "2022-03-12T17:43:31.952Z"
   },
   {
    "duration": 21,
    "start_time": "2022-03-12T17:43:32.084Z"
   },
   {
    "duration": 56,
    "start_time": "2022-03-12T17:43:32.107Z"
   },
   {
    "duration": 5,
    "start_time": "2022-03-12T17:43:32.165Z"
   },
   {
    "duration": 74,
    "start_time": "2022-03-12T17:43:32.171Z"
   },
   {
    "duration": 6,
    "start_time": "2022-03-12T17:43:32.247Z"
   },
   {
    "duration": 34,
    "start_time": "2022-03-12T17:43:32.255Z"
   },
   {
    "duration": 14,
    "start_time": "2022-03-12T17:43:32.291Z"
   },
   {
    "duration": 20,
    "start_time": "2022-03-12T17:43:32.307Z"
   },
   {
    "duration": 22,
    "start_time": "2022-03-12T17:43:32.329Z"
   },
   {
    "duration": 14,
    "start_time": "2022-03-12T17:43:32.353Z"
   },
   {
    "duration": 46,
    "start_time": "2022-03-12T17:43:32.369Z"
   },
   {
    "duration": 10,
    "start_time": "2022-03-12T17:43:32.417Z"
   },
   {
    "duration": 22,
    "start_time": "2022-03-12T17:43:32.429Z"
   },
   {
    "duration": 94,
    "start_time": "2022-03-12T17:43:32.452Z"
   },
   {
    "duration": 34,
    "start_time": "2022-03-12T17:43:32.548Z"
   },
   {
    "duration": 54,
    "start_time": "2022-03-12T17:43:32.584Z"
   },
   {
    "duration": 6,
    "start_time": "2022-03-12T17:43:32.642Z"
   },
   {
    "duration": 21,
    "start_time": "2022-03-12T17:43:32.650Z"
   },
   {
    "duration": 183,
    "start_time": "2022-03-12T17:43:32.673Z"
   },
   {
    "duration": 5,
    "start_time": "2022-03-12T17:43:32.858Z"
   },
   {
    "duration": 65,
    "start_time": "2022-03-12T17:43:32.864Z"
   },
   {
    "duration": 26,
    "start_time": "2022-03-12T17:43:32.931Z"
   },
   {
    "duration": 200,
    "start_time": "2022-03-12T17:43:32.959Z"
   },
   {
    "duration": 196,
    "start_time": "2022-03-12T17:43:33.161Z"
   },
   {
    "duration": 173,
    "start_time": "2022-03-12T17:43:33.359Z"
   },
   {
    "duration": 5,
    "start_time": "2022-03-12T17:43:33.534Z"
   },
   {
    "duration": 198,
    "start_time": "2022-03-12T17:43:33.541Z"
   },
   {
    "duration": 23,
    "start_time": "2022-03-12T17:43:33.740Z"
   },
   {
    "duration": 14,
    "start_time": "2022-03-12T17:43:33.765Z"
   },
   {
    "duration": 194,
    "start_time": "2022-03-12T17:43:33.780Z"
   },
   {
    "duration": 4,
    "start_time": "2022-03-12T17:43:33.976Z"
   },
   {
    "duration": 6,
    "start_time": "2022-03-12T17:43:33.981Z"
   },
   {
    "duration": 199,
    "start_time": "2022-03-12T17:43:33.989Z"
   },
   {
    "duration": 143,
    "start_time": "2022-03-12T17:43:34.190Z"
   },
   {
    "duration": 11,
    "start_time": "2022-03-12T17:43:34.335Z"
   },
   {
    "duration": 188,
    "start_time": "2022-03-12T17:43:34.348Z"
   },
   {
    "duration": 134,
    "start_time": "2022-03-12T17:43:34.537Z"
   },
   {
    "duration": 8,
    "start_time": "2022-03-12T17:43:34.673Z"
   },
   {
    "duration": 37,
    "start_time": "2022-03-12T17:43:34.683Z"
   },
   {
    "duration": 5,
    "start_time": "2022-03-12T17:43:34.721Z"
   },
   {
    "duration": 171,
    "start_time": "2022-03-12T17:43:34.727Z"
   },
   {
    "duration": 9,
    "start_time": "2022-03-12T17:43:34.899Z"
   },
   {
    "duration": 9,
    "start_time": "2022-03-12T17:43:34.910Z"
   },
   {
    "duration": 15,
    "start_time": "2022-03-12T17:43:34.920Z"
   },
   {
    "duration": 5,
    "start_time": "2022-03-12T17:43:34.936Z"
   },
   {
    "duration": 7,
    "start_time": "2022-03-12T17:43:34.942Z"
   },
   {
    "duration": 5,
    "start_time": "2022-03-12T17:43:34.951Z"
   },
   {
    "duration": 190,
    "start_time": "2022-03-12T17:43:34.957Z"
   },
   {
    "duration": 178,
    "start_time": "2022-03-12T17:43:35.149Z"
   },
   {
    "duration": 12,
    "start_time": "2022-03-12T17:43:35.328Z"
   },
   {
    "duration": 4,
    "start_time": "2022-03-12T17:43:35.341Z"
   },
   {
    "duration": 195,
    "start_time": "2022-03-12T17:43:35.346Z"
   },
   {
    "duration": 6,
    "start_time": "2022-03-12T17:43:35.542Z"
   },
   {
    "duration": 7,
    "start_time": "2022-03-12T17:43:35.550Z"
   },
   {
    "duration": 5,
    "start_time": "2022-03-12T17:43:35.559Z"
   },
   {
    "duration": 10,
    "start_time": "2022-03-12T17:43:35.566Z"
   },
   {
    "duration": 52,
    "start_time": "2022-03-12T17:43:35.577Z"
   },
   {
    "duration": 105,
    "start_time": "2022-03-12T17:43:35.631Z"
   },
   {
    "duration": 20,
    "start_time": "2022-03-12T17:47:19.890Z"
   },
   {
    "duration": 18,
    "start_time": "2022-03-12T17:47:27.729Z"
   },
   {
    "duration": 7293,
    "start_time": "2022-03-12T17:50:50.496Z"
   },
   {
    "duration": 7,
    "start_time": "2022-03-12T17:51:16.011Z"
   },
   {
    "duration": 18,
    "start_time": "2022-03-12T17:51:26.856Z"
   },
   {
    "duration": 21,
    "start_time": "2022-03-12T17:52:45.167Z"
   },
   {
    "duration": 8,
    "start_time": "2022-03-12T17:53:51.844Z"
   },
   {
    "duration": 22,
    "start_time": "2022-03-12T17:54:42.952Z"
   },
   {
    "duration": 21,
    "start_time": "2022-03-12T17:54:54.516Z"
   },
   {
    "duration": 20,
    "start_time": "2022-03-12T17:56:04.950Z"
   },
   {
    "duration": 14,
    "start_time": "2022-03-12T17:56:13.174Z"
   },
   {
    "duration": 16,
    "start_time": "2022-03-12T17:56:27.916Z"
   },
   {
    "duration": 20,
    "start_time": "2022-03-12T18:05:25.303Z"
   },
   {
    "duration": 287,
    "start_time": "2022-03-12T18:10:24.907Z"
   },
   {
    "duration": 17,
    "start_time": "2022-03-12T18:13:35.632Z"
   },
   {
    "duration": 21,
    "start_time": "2022-03-12T18:15:26.174Z"
   },
   {
    "duration": 18,
    "start_time": "2022-03-12T18:16:27.619Z"
   },
   {
    "duration": 23,
    "start_time": "2022-03-12T18:20:28.296Z"
   },
   {
    "duration": 304,
    "start_time": "2022-03-12T18:20:33.505Z"
   },
   {
    "duration": 2,
    "start_time": "2022-03-12T18:22:42.697Z"
   },
   {
    "duration": 138,
    "start_time": "2022-03-12T18:22:42.701Z"
   },
   {
    "duration": 17,
    "start_time": "2022-03-12T18:22:42.841Z"
   },
   {
    "duration": 86,
    "start_time": "2022-03-12T18:22:42.860Z"
   },
   {
    "duration": 13,
    "start_time": "2022-03-12T18:22:42.947Z"
   },
   {
    "duration": 130,
    "start_time": "2022-03-12T18:22:42.961Z"
   },
   {
    "duration": 22,
    "start_time": "2022-03-12T18:22:43.093Z"
   },
   {
    "duration": 20,
    "start_time": "2022-03-12T18:22:43.118Z"
   },
   {
    "duration": 5,
    "start_time": "2022-03-12T18:22:43.140Z"
   },
   {
    "duration": 35,
    "start_time": "2022-03-12T18:22:43.147Z"
   },
   {
    "duration": 5,
    "start_time": "2022-03-12T18:22:43.183Z"
   },
   {
    "duration": 26,
    "start_time": "2022-03-12T18:22:43.189Z"
   },
   {
    "duration": 10,
    "start_time": "2022-03-12T18:22:43.216Z"
   },
   {
    "duration": 16,
    "start_time": "2022-03-12T18:22:43.228Z"
   },
   {
    "duration": 17,
    "start_time": "2022-03-12T18:22:43.245Z"
   },
   {
    "duration": 41,
    "start_time": "2022-03-12T18:22:43.264Z"
   },
   {
    "duration": 14,
    "start_time": "2022-03-12T18:22:43.307Z"
   },
   {
    "duration": 4,
    "start_time": "2022-03-12T18:22:43.323Z"
   },
   {
    "duration": 7,
    "start_time": "2022-03-12T18:22:43.329Z"
   },
   {
    "duration": 111,
    "start_time": "2022-03-12T18:22:43.337Z"
   },
   {
    "duration": 32,
    "start_time": "2022-03-12T18:22:43.450Z"
   },
   {
    "duration": 60,
    "start_time": "2022-03-12T18:22:43.484Z"
   },
   {
    "duration": 5,
    "start_time": "2022-03-12T18:22:43.547Z"
   },
   {
    "duration": 4,
    "start_time": "2022-03-12T18:22:43.555Z"
   },
   {
    "duration": 172,
    "start_time": "2022-03-12T18:22:43.561Z"
   },
   {
    "duration": 5,
    "start_time": "2022-03-12T18:22:43.735Z"
   },
   {
    "duration": 41,
    "start_time": "2022-03-12T18:22:43.741Z"
   },
   {
    "duration": 42,
    "start_time": "2022-03-12T18:22:43.783Z"
   },
   {
    "duration": 188,
    "start_time": "2022-03-12T18:22:43.827Z"
   },
   {
    "duration": 188,
    "start_time": "2022-03-12T18:22:44.017Z"
   },
   {
    "duration": 147,
    "start_time": "2022-03-12T18:22:44.206Z"
   },
   {
    "duration": 6,
    "start_time": "2022-03-12T18:22:44.355Z"
   },
   {
    "duration": 201,
    "start_time": "2022-03-12T18:22:44.363Z"
   },
   {
    "duration": 24,
    "start_time": "2022-03-12T18:22:44.565Z"
   },
   {
    "duration": 30,
    "start_time": "2022-03-12T18:22:44.591Z"
   },
   {
    "duration": 185,
    "start_time": "2022-03-12T18:22:44.622Z"
   },
   {
    "duration": 5,
    "start_time": "2022-03-12T18:22:44.809Z"
   },
   {
    "duration": 8,
    "start_time": "2022-03-12T18:22:44.816Z"
   },
   {
    "duration": 211,
    "start_time": "2022-03-12T18:22:44.826Z"
   },
   {
    "duration": 137,
    "start_time": "2022-03-12T18:22:45.039Z"
   },
   {
    "duration": 10,
    "start_time": "2022-03-12T18:22:45.177Z"
   },
   {
    "duration": 188,
    "start_time": "2022-03-12T18:22:45.188Z"
   },
   {
    "duration": 139,
    "start_time": "2022-03-12T18:22:45.378Z"
   },
   {
    "duration": 7,
    "start_time": "2022-03-12T18:22:45.519Z"
   },
   {
    "duration": 18,
    "start_time": "2022-03-12T18:22:45.528Z"
   },
   {
    "duration": 3,
    "start_time": "2022-03-12T18:22:45.548Z"
   },
   {
    "duration": 194,
    "start_time": "2022-03-12T18:22:45.553Z"
   },
   {
    "duration": 4,
    "start_time": "2022-03-12T18:22:45.749Z"
   },
   {
    "duration": 7,
    "start_time": "2022-03-12T18:22:45.755Z"
   },
   {
    "duration": 9,
    "start_time": "2022-03-12T18:22:45.763Z"
   },
   {
    "duration": 32,
    "start_time": "2022-03-12T18:22:45.773Z"
   },
   {
    "duration": 7,
    "start_time": "2022-03-12T18:22:45.807Z"
   },
   {
    "duration": 7,
    "start_time": "2022-03-12T18:22:45.816Z"
   },
   {
    "duration": 247,
    "start_time": "2022-03-12T18:22:45.825Z"
   },
   {
    "duration": 174,
    "start_time": "2022-03-12T18:22:46.074Z"
   },
   {
    "duration": 11,
    "start_time": "2022-03-12T18:22:46.250Z"
   },
   {
    "duration": 13,
    "start_time": "2022-03-12T18:22:46.262Z"
   },
   {
    "duration": 179,
    "start_time": "2022-03-12T18:22:46.276Z"
   },
   {
    "duration": 6,
    "start_time": "2022-03-12T18:22:46.457Z"
   },
   {
    "duration": 6,
    "start_time": "2022-03-12T18:22:46.465Z"
   },
   {
    "duration": 33,
    "start_time": "2022-03-12T18:22:46.473Z"
   },
   {
    "duration": 8,
    "start_time": "2022-03-12T18:22:46.508Z"
   },
   {
    "duration": 26,
    "start_time": "2022-03-12T18:22:46.517Z"
   },
   {
    "duration": 23,
    "start_time": "2022-03-12T18:22:46.545Z"
   },
   {
    "duration": 36,
    "start_time": "2022-03-12T18:22:46.570Z"
   },
   {
    "duration": 18,
    "start_time": "2022-03-12T18:22:46.608Z"
   },
   {
    "duration": 16,
    "start_time": "2022-03-12T18:22:46.628Z"
   },
   {
    "duration": 6,
    "start_time": "2022-03-12T18:22:46.649Z"
   },
   {
    "duration": 55,
    "start_time": "2022-03-12T18:22:46.657Z"
   },
   {
    "duration": 17,
    "start_time": "2022-03-12T18:22:46.714Z"
   },
   {
    "duration": 15,
    "start_time": "2022-03-12T18:22:46.733Z"
   },
   {
    "duration": 17,
    "start_time": "2022-03-12T18:22:46.750Z"
   },
   {
    "duration": 37,
    "start_time": "2022-03-12T18:22:46.768Z"
   },
   {
    "duration": 18,
    "start_time": "2022-03-12T18:22:46.807Z"
   },
   {
    "duration": 93,
    "start_time": "2022-03-12T18:22:46.827Z"
   },
   {
    "duration": 14,
    "start_time": "2022-03-12T18:23:15.873Z"
   },
   {
    "duration": 5,
    "start_time": "2022-03-12T18:25:30.942Z"
   },
   {
    "duration": 15,
    "start_time": "2022-03-12T18:25:40.745Z"
   },
   {
    "duration": 107,
    "start_time": "2022-03-12T18:26:34.987Z"
   },
   {
    "duration": 4,
    "start_time": "2022-03-12T18:26:42.454Z"
   },
   {
    "duration": 14,
    "start_time": "2022-03-12T18:26:43.870Z"
   },
   {
    "duration": 3,
    "start_time": "2022-03-12T18:27:09.606Z"
   },
   {
    "duration": 209,
    "start_time": "2022-03-12T18:27:09.614Z"
   },
   {
    "duration": 18,
    "start_time": "2022-03-12T18:27:09.825Z"
   },
   {
    "duration": 92,
    "start_time": "2022-03-12T18:27:09.845Z"
   },
   {
    "duration": 12,
    "start_time": "2022-03-12T18:27:09.939Z"
   },
   {
    "duration": 137,
    "start_time": "2022-03-12T18:27:09.953Z"
   },
   {
    "duration": 29,
    "start_time": "2022-03-12T18:27:10.091Z"
   },
   {
    "duration": 24,
    "start_time": "2022-03-12T18:27:10.121Z"
   },
   {
    "duration": 10,
    "start_time": "2022-03-12T18:27:10.147Z"
   },
   {
    "duration": 39,
    "start_time": "2022-03-12T18:27:10.159Z"
   },
   {
    "duration": 7,
    "start_time": "2022-03-12T18:27:10.199Z"
   },
   {
    "duration": 34,
    "start_time": "2022-03-12T18:27:10.209Z"
   },
   {
    "duration": 10,
    "start_time": "2022-03-12T18:27:10.245Z"
   },
   {
    "duration": 17,
    "start_time": "2022-03-12T18:27:10.257Z"
   },
   {
    "duration": 17,
    "start_time": "2022-03-12T18:27:10.276Z"
   },
   {
    "duration": 22,
    "start_time": "2022-03-12T18:27:10.307Z"
   },
   {
    "duration": 17,
    "start_time": "2022-03-12T18:27:10.331Z"
   },
   {
    "duration": 7,
    "start_time": "2022-03-12T18:27:10.350Z"
   },
   {
    "duration": 8,
    "start_time": "2022-03-12T18:27:10.358Z"
   },
   {
    "duration": 126,
    "start_time": "2022-03-12T18:27:10.368Z"
   },
   {
    "duration": 43,
    "start_time": "2022-03-12T18:27:10.496Z"
   },
   {
    "duration": 47,
    "start_time": "2022-03-12T18:27:10.540Z"
   },
   {
    "duration": 22,
    "start_time": "2022-03-12T18:27:10.588Z"
   },
   {
    "duration": 14,
    "start_time": "2022-03-12T18:27:10.614Z"
   },
   {
    "duration": 172,
    "start_time": "2022-03-12T18:27:10.630Z"
   },
   {
    "duration": 6,
    "start_time": "2022-03-12T18:27:10.809Z"
   },
   {
    "duration": 70,
    "start_time": "2022-03-12T18:27:10.817Z"
   },
   {
    "duration": 54,
    "start_time": "2022-03-12T18:27:10.888Z"
   },
   {
    "duration": 271,
    "start_time": "2022-03-12T18:27:10.944Z"
   },
   {
    "duration": 194,
    "start_time": "2022-03-12T18:27:11.217Z"
   },
   {
    "duration": 148,
    "start_time": "2022-03-12T18:27:11.415Z"
   },
   {
    "duration": 5,
    "start_time": "2022-03-12T18:27:11.565Z"
   },
   {
    "duration": 198,
    "start_time": "2022-03-12T18:27:11.572Z"
   },
   {
    "duration": 35,
    "start_time": "2022-03-12T18:27:11.772Z"
   },
   {
    "duration": 20,
    "start_time": "2022-03-12T18:27:11.809Z"
   },
   {
    "duration": 184,
    "start_time": "2022-03-12T18:27:11.830Z"
   },
   {
    "duration": 4,
    "start_time": "2022-03-12T18:27:12.016Z"
   },
   {
    "duration": 9,
    "start_time": "2022-03-12T18:27:12.022Z"
   },
   {
    "duration": 220,
    "start_time": "2022-03-12T18:27:12.033Z"
   },
   {
    "duration": 179,
    "start_time": "2022-03-12T18:27:12.255Z"
   },
   {
    "duration": 12,
    "start_time": "2022-03-12T18:27:12.436Z"
   },
   {
    "duration": 277,
    "start_time": "2022-03-12T18:27:12.450Z"
   },
   {
    "duration": 134,
    "start_time": "2022-03-12T18:27:12.729Z"
   },
   {
    "duration": 8,
    "start_time": "2022-03-12T18:27:12.864Z"
   },
   {
    "duration": 39,
    "start_time": "2022-03-12T18:27:12.873Z"
   },
   {
    "duration": 4,
    "start_time": "2022-03-12T18:27:12.913Z"
   },
   {
    "duration": 185,
    "start_time": "2022-03-12T18:27:12.925Z"
   },
   {
    "duration": 6,
    "start_time": "2022-03-12T18:27:13.112Z"
   },
   {
    "duration": 14,
    "start_time": "2022-03-12T18:27:13.120Z"
   },
   {
    "duration": 11,
    "start_time": "2022-03-12T18:27:13.136Z"
   },
   {
    "duration": 5,
    "start_time": "2022-03-12T18:27:13.149Z"
   },
   {
    "duration": 7,
    "start_time": "2022-03-12T18:27:13.156Z"
   },
   {
    "duration": 49,
    "start_time": "2022-03-12T18:27:13.164Z"
   },
   {
    "duration": 160,
    "start_time": "2022-03-12T18:27:13.214Z"
   },
   {
    "duration": 177,
    "start_time": "2022-03-12T18:27:13.376Z"
   },
   {
    "duration": 14,
    "start_time": "2022-03-12T18:27:13.555Z"
   },
   {
    "duration": 6,
    "start_time": "2022-03-12T18:27:13.571Z"
   },
   {
    "duration": 205,
    "start_time": "2022-03-12T18:27:13.578Z"
   },
   {
    "duration": 6,
    "start_time": "2022-03-12T18:27:13.785Z"
   },
   {
    "duration": 16,
    "start_time": "2022-03-12T18:27:13.792Z"
   },
   {
    "duration": 4,
    "start_time": "2022-03-12T18:27:13.810Z"
   },
   {
    "duration": 14,
    "start_time": "2022-03-12T18:27:13.816Z"
   },
   {
    "duration": 34,
    "start_time": "2022-03-12T18:27:13.831Z"
   },
   {
    "duration": 68,
    "start_time": "2022-03-12T18:27:13.866Z"
   },
   {
    "duration": 8,
    "start_time": "2022-03-12T18:27:13.936Z"
   },
   {
    "duration": 20,
    "start_time": "2022-03-12T18:27:13.945Z"
   },
   {
    "duration": 19,
    "start_time": "2022-03-12T18:27:13.966Z"
   },
   {
    "duration": 7,
    "start_time": "2022-03-12T18:27:13.987Z"
   },
   {
    "duration": 24,
    "start_time": "2022-03-12T18:27:14.012Z"
   },
   {
    "duration": 15,
    "start_time": "2022-03-12T18:27:14.037Z"
   },
   {
    "duration": 13,
    "start_time": "2022-03-12T18:27:14.053Z"
   },
   {
    "duration": 45,
    "start_time": "2022-03-12T18:27:14.068Z"
   },
   {
    "duration": 15,
    "start_time": "2022-03-12T18:27:14.115Z"
   },
   {
    "duration": 17,
    "start_time": "2022-03-12T18:27:14.131Z"
   },
   {
    "duration": 4,
    "start_time": "2022-03-12T18:27:14.150Z"
   },
   {
    "duration": 12,
    "start_time": "2022-03-12T18:27:14.155Z"
   },
   {
    "duration": 8,
    "start_time": "2022-03-12T18:42:48.281Z"
   },
   {
    "duration": 13,
    "start_time": "2022-03-12T18:59:40.488Z"
   },
   {
    "duration": 3,
    "start_time": "2022-03-12T19:17:42.346Z"
   },
   {
    "duration": 366,
    "start_time": "2022-03-13T07:29:52.483Z"
   },
   {
    "duration": 682,
    "start_time": "2022-03-13T07:29:59.698Z"
   },
   {
    "duration": 176,
    "start_time": "2022-03-13T07:30:00.382Z"
   },
   {
    "duration": 45,
    "start_time": "2022-03-13T07:30:00.560Z"
   },
   {
    "duration": 90,
    "start_time": "2022-03-13T07:30:00.607Z"
   },
   {
    "duration": 14,
    "start_time": "2022-03-13T07:30:00.698Z"
   },
   {
    "duration": 150,
    "start_time": "2022-03-13T07:30:00.713Z"
   },
   {
    "duration": 16,
    "start_time": "2022-03-13T07:30:00.865Z"
   },
   {
    "duration": 23,
    "start_time": "2022-03-13T07:30:00.882Z"
   },
   {
    "duration": 16,
    "start_time": "2022-03-13T07:30:00.908Z"
   },
   {
    "duration": 76,
    "start_time": "2022-03-13T07:30:00.926Z"
   },
   {
    "duration": 25,
    "start_time": "2022-03-13T07:30:01.003Z"
   },
   {
    "duration": 37,
    "start_time": "2022-03-13T07:30:01.029Z"
   },
   {
    "duration": 14,
    "start_time": "2022-03-13T07:30:01.067Z"
   },
   {
    "duration": 26,
    "start_time": "2022-03-13T07:30:01.082Z"
   },
   {
    "duration": 31,
    "start_time": "2022-03-13T07:30:01.110Z"
   },
   {
    "duration": 14,
    "start_time": "2022-03-13T07:30:01.143Z"
   },
   {
    "duration": 16,
    "start_time": "2022-03-13T07:30:01.158Z"
   },
   {
    "duration": 6,
    "start_time": "2022-03-13T07:30:01.176Z"
   },
   {
    "duration": 29,
    "start_time": "2022-03-13T07:30:01.183Z"
   },
   {
    "duration": 93,
    "start_time": "2022-03-13T07:30:01.213Z"
   },
   {
    "duration": 35,
    "start_time": "2022-03-13T07:30:01.308Z"
   },
   {
    "duration": 70,
    "start_time": "2022-03-13T07:30:01.344Z"
   },
   {
    "duration": 7,
    "start_time": "2022-03-13T07:30:01.416Z"
   },
   {
    "duration": 9,
    "start_time": "2022-03-13T07:30:01.425Z"
   },
   {
    "duration": 187,
    "start_time": "2022-03-13T07:30:01.436Z"
   },
   {
    "duration": 5,
    "start_time": "2022-03-13T07:30:01.624Z"
   },
   {
    "duration": 73,
    "start_time": "2022-03-13T07:30:01.633Z"
   },
   {
    "duration": 29,
    "start_time": "2022-03-13T07:30:01.708Z"
   },
   {
    "duration": 201,
    "start_time": "2022-03-13T07:30:01.738Z"
   },
   {
    "duration": 196,
    "start_time": "2022-03-13T07:30:01.940Z"
   },
   {
    "duration": 182,
    "start_time": "2022-03-13T07:30:02.137Z"
   },
   {
    "duration": 6,
    "start_time": "2022-03-13T07:30:02.321Z"
   },
   {
    "duration": 195,
    "start_time": "2022-03-13T07:30:02.328Z"
   },
   {
    "duration": 24,
    "start_time": "2022-03-13T07:30:02.524Z"
   },
   {
    "duration": 17,
    "start_time": "2022-03-13T07:30:02.549Z"
   },
   {
    "duration": 192,
    "start_time": "2022-03-13T07:30:02.568Z"
   },
   {
    "duration": 4,
    "start_time": "2022-03-13T07:30:02.762Z"
   },
   {
    "duration": 11,
    "start_time": "2022-03-13T07:30:02.767Z"
   },
   {
    "duration": 203,
    "start_time": "2022-03-13T07:30:02.779Z"
   },
   {
    "duration": 144,
    "start_time": "2022-03-13T07:30:02.983Z"
   },
   {
    "duration": 12,
    "start_time": "2022-03-13T07:30:03.128Z"
   },
   {
    "duration": 190,
    "start_time": "2022-03-13T07:30:03.141Z"
   },
   {
    "duration": 131,
    "start_time": "2022-03-13T07:30:03.333Z"
   },
   {
    "duration": 7,
    "start_time": "2022-03-13T07:30:03.466Z"
   },
   {
    "duration": 36,
    "start_time": "2022-03-13T07:30:03.475Z"
   },
   {
    "duration": 4,
    "start_time": "2022-03-13T07:30:03.512Z"
   },
   {
    "duration": 173,
    "start_time": "2022-03-13T07:30:03.517Z"
   },
   {
    "duration": 11,
    "start_time": "2022-03-13T07:30:03.691Z"
   },
   {
    "duration": 8,
    "start_time": "2022-03-13T07:30:03.703Z"
   },
   {
    "duration": 11,
    "start_time": "2022-03-13T07:30:03.712Z"
   },
   {
    "duration": 4,
    "start_time": "2022-03-13T07:30:03.724Z"
   },
   {
    "duration": 6,
    "start_time": "2022-03-13T07:30:03.730Z"
   },
   {
    "duration": 12,
    "start_time": "2022-03-13T07:30:03.738Z"
   },
   {
    "duration": 188,
    "start_time": "2022-03-13T07:30:03.751Z"
   },
   {
    "duration": 189,
    "start_time": "2022-03-13T07:30:03.941Z"
   },
   {
    "duration": 12,
    "start_time": "2022-03-13T07:30:04.131Z"
   },
   {
    "duration": 11,
    "start_time": "2022-03-13T07:30:04.145Z"
   },
   {
    "duration": 190,
    "start_time": "2022-03-13T07:30:04.157Z"
   },
   {
    "duration": 6,
    "start_time": "2022-03-13T07:30:04.349Z"
   },
   {
    "duration": 14,
    "start_time": "2022-03-13T07:30:04.356Z"
   },
   {
    "duration": 5,
    "start_time": "2022-03-13T07:30:04.372Z"
   },
   {
    "duration": 24,
    "start_time": "2022-03-13T07:30:04.378Z"
   },
   {
    "duration": 27,
    "start_time": "2022-03-13T07:30:04.403Z"
   },
   {
    "duration": 95,
    "start_time": "2022-03-13T07:30:04.432Z"
   },
   {
    "duration": 6,
    "start_time": "2022-03-13T07:30:04.529Z"
   },
   {
    "duration": 44,
    "start_time": "2022-03-13T07:30:04.536Z"
   },
   {
    "duration": 28,
    "start_time": "2022-03-13T07:30:04.581Z"
   },
   {
    "duration": 7,
    "start_time": "2022-03-13T07:30:04.610Z"
   },
   {
    "duration": 42,
    "start_time": "2022-03-13T07:30:04.619Z"
   },
   {
    "duration": 17,
    "start_time": "2022-03-13T07:30:04.662Z"
   },
   {
    "duration": 23,
    "start_time": "2022-03-13T07:30:04.681Z"
   },
   {
    "duration": 16,
    "start_time": "2022-03-13T07:30:04.705Z"
   },
   {
    "duration": 32,
    "start_time": "2022-03-13T07:30:04.722Z"
   },
   {
    "duration": 28,
    "start_time": "2022-03-13T07:30:04.755Z"
   },
   {
    "duration": 369,
    "start_time": "2022-03-13T07:30:04.785Z"
   },
   {
    "duration": 556,
    "start_time": "2022-03-13T07:30:04.600Z"
   },
   {
    "duration": 544,
    "start_time": "2022-03-13T07:30:04.613Z"
   },
   {
    "duration": 534,
    "start_time": "2022-03-13T07:30:04.624Z"
   },
   {
    "duration": 526,
    "start_time": "2022-03-13T07:30:04.633Z"
   },
   {
    "duration": 240,
    "start_time": "2022-03-13T07:35:28.284Z"
   },
   {
    "duration": 14,
    "start_time": "2022-03-13T07:35:32.298Z"
   },
   {
    "duration": 2,
    "start_time": "2022-03-13T07:35:54.175Z"
   },
   {
    "duration": 132,
    "start_time": "2022-03-13T07:35:54.182Z"
   },
   {
    "duration": 19,
    "start_time": "2022-03-13T07:35:54.315Z"
   },
   {
    "duration": 94,
    "start_time": "2022-03-13T07:35:54.336Z"
   },
   {
    "duration": 12,
    "start_time": "2022-03-13T07:35:54.432Z"
   },
   {
    "duration": 128,
    "start_time": "2022-03-13T07:35:54.446Z"
   },
   {
    "duration": 35,
    "start_time": "2022-03-13T07:35:54.576Z"
   },
   {
    "duration": 20,
    "start_time": "2022-03-13T07:35:54.613Z"
   },
   {
    "duration": 5,
    "start_time": "2022-03-13T07:35:54.636Z"
   },
   {
    "duration": 50,
    "start_time": "2022-03-13T07:35:54.642Z"
   },
   {
    "duration": 6,
    "start_time": "2022-03-13T07:35:54.693Z"
   },
   {
    "duration": 20,
    "start_time": "2022-03-13T07:35:54.700Z"
   },
   {
    "duration": 11,
    "start_time": "2022-03-13T07:35:54.722Z"
   },
   {
    "duration": 19,
    "start_time": "2022-03-13T07:35:54.735Z"
   },
   {
    "duration": 61,
    "start_time": "2022-03-13T07:35:54.756Z"
   },
   {
    "duration": 15,
    "start_time": "2022-03-13T07:35:54.818Z"
   },
   {
    "duration": 16,
    "start_time": "2022-03-13T07:35:54.835Z"
   },
   {
    "duration": 7,
    "start_time": "2022-03-13T07:35:54.853Z"
   },
   {
    "duration": 44,
    "start_time": "2022-03-13T07:35:54.861Z"
   },
   {
    "duration": 95,
    "start_time": "2022-03-13T07:35:54.907Z"
   },
   {
    "duration": 35,
    "start_time": "2022-03-13T07:35:55.004Z"
   },
   {
    "duration": 66,
    "start_time": "2022-03-13T07:35:55.040Z"
   },
   {
    "duration": 8,
    "start_time": "2022-03-13T07:35:55.108Z"
   },
   {
    "duration": 4,
    "start_time": "2022-03-13T07:35:55.121Z"
   },
   {
    "duration": 185,
    "start_time": "2022-03-13T07:35:55.129Z"
   },
   {
    "duration": 7,
    "start_time": "2022-03-13T07:35:55.315Z"
   },
   {
    "duration": 44,
    "start_time": "2022-03-13T07:35:55.324Z"
   },
   {
    "duration": 56,
    "start_time": "2022-03-13T07:35:55.370Z"
   },
   {
    "duration": 196,
    "start_time": "2022-03-13T07:35:55.427Z"
   },
   {
    "duration": 196,
    "start_time": "2022-03-13T07:35:55.624Z"
   },
   {
    "duration": 146,
    "start_time": "2022-03-13T07:35:55.822Z"
   },
   {
    "duration": 7,
    "start_time": "2022-03-13T07:35:55.970Z"
   },
   {
    "duration": 198,
    "start_time": "2022-03-13T07:35:55.979Z"
   },
   {
    "duration": 29,
    "start_time": "2022-03-13T07:35:56.179Z"
   },
   {
    "duration": 16,
    "start_time": "2022-03-13T07:35:56.209Z"
   },
   {
    "duration": 181,
    "start_time": "2022-03-13T07:35:56.226Z"
   },
   {
    "duration": 4,
    "start_time": "2022-03-13T07:35:56.408Z"
   },
   {
    "duration": 6,
    "start_time": "2022-03-13T07:35:56.414Z"
   },
   {
    "duration": 203,
    "start_time": "2022-03-13T07:35:56.422Z"
   },
   {
    "duration": 137,
    "start_time": "2022-03-13T07:35:56.626Z"
   },
   {
    "duration": 11,
    "start_time": "2022-03-13T07:35:56.764Z"
   },
   {
    "duration": 195,
    "start_time": "2022-03-13T07:35:56.776Z"
   },
   {
    "duration": 137,
    "start_time": "2022-03-13T07:35:56.973Z"
   },
   {
    "duration": 8,
    "start_time": "2022-03-13T07:35:57.111Z"
   },
   {
    "duration": 21,
    "start_time": "2022-03-13T07:35:57.120Z"
   },
   {
    "duration": 4,
    "start_time": "2022-03-13T07:35:57.142Z"
   },
   {
    "duration": 188,
    "start_time": "2022-03-13T07:35:57.147Z"
   },
   {
    "duration": 5,
    "start_time": "2022-03-13T07:35:57.336Z"
   },
   {
    "duration": 8,
    "start_time": "2022-03-13T07:35:57.342Z"
   },
   {
    "duration": 8,
    "start_time": "2022-03-13T07:35:57.352Z"
   },
   {
    "duration": 40,
    "start_time": "2022-03-13T07:35:57.361Z"
   },
   {
    "duration": 5,
    "start_time": "2022-03-13T07:35:57.402Z"
   },
   {
    "duration": 6,
    "start_time": "2022-03-13T07:35:57.409Z"
   },
   {
    "duration": 232,
    "start_time": "2022-03-13T07:35:57.417Z"
   },
   {
    "duration": 170,
    "start_time": "2022-03-13T07:35:57.650Z"
   },
   {
    "duration": 12,
    "start_time": "2022-03-13T07:35:57.821Z"
   },
   {
    "duration": 6,
    "start_time": "2022-03-13T07:35:57.835Z"
   },
   {
    "duration": 197,
    "start_time": "2022-03-13T07:35:57.843Z"
   },
   {
    "duration": 7,
    "start_time": "2022-03-13T07:35:58.042Z"
   },
   {
    "duration": 7,
    "start_time": "2022-03-13T07:35:58.051Z"
   },
   {
    "duration": 5,
    "start_time": "2022-03-13T07:35:58.060Z"
   },
   {
    "duration": 35,
    "start_time": "2022-03-13T07:35:58.067Z"
   },
   {
    "duration": 28,
    "start_time": "2022-03-13T07:35:58.104Z"
   },
   {
    "duration": 24,
    "start_time": "2022-03-13T07:35:58.134Z"
   },
   {
    "duration": 45,
    "start_time": "2022-03-13T07:35:58.160Z"
   },
   {
    "duration": 21,
    "start_time": "2022-03-13T07:35:58.207Z"
   },
   {
    "duration": 19,
    "start_time": "2022-03-13T07:35:58.230Z"
   },
   {
    "duration": 7,
    "start_time": "2022-03-13T07:35:58.250Z"
   },
   {
    "duration": 57,
    "start_time": "2022-03-13T07:35:58.262Z"
   },
   {
    "duration": 15,
    "start_time": "2022-03-13T07:35:58.321Z"
   },
   {
    "duration": 13,
    "start_time": "2022-03-13T07:35:58.338Z"
   },
   {
    "duration": 14,
    "start_time": "2022-03-13T07:35:58.353Z"
   },
   {
    "duration": 41,
    "start_time": "2022-03-13T07:35:58.368Z"
   },
   {
    "duration": 17,
    "start_time": "2022-03-13T07:35:58.410Z"
   },
   {
    "duration": 13,
    "start_time": "2022-03-13T07:35:58.428Z"
   },
   {
    "duration": 8,
    "start_time": "2022-03-13T07:35:58.443Z"
   },
   {
    "duration": 11,
    "start_time": "2022-03-13T07:35:58.453Z"
   },
   {
    "duration": 40,
    "start_time": "2022-03-13T07:35:58.466Z"
   },
   {
    "duration": 169,
    "start_time": "2022-03-13T07:35:58.508Z"
   },
   {
    "duration": 15,
    "start_time": "2022-03-13T07:36:33.542Z"
   },
   {
    "duration": 3,
    "start_time": "2022-03-13T07:36:39.964Z"
   },
   {
    "duration": 174,
    "start_time": "2022-03-13T07:36:39.972Z"
   },
   {
    "duration": 20,
    "start_time": "2022-03-13T07:36:40.148Z"
   },
   {
    "duration": 102,
    "start_time": "2022-03-13T07:36:40.170Z"
   },
   {
    "duration": 27,
    "start_time": "2022-03-13T07:36:40.274Z"
   },
   {
    "duration": 138,
    "start_time": "2022-03-13T07:36:40.303Z"
   },
   {
    "duration": 15,
    "start_time": "2022-03-13T07:36:40.442Z"
   },
   {
    "duration": 25,
    "start_time": "2022-03-13T07:36:40.459Z"
   },
   {
    "duration": 20,
    "start_time": "2022-03-13T07:36:40.487Z"
   },
   {
    "duration": 52,
    "start_time": "2022-03-13T07:36:40.509Z"
   },
   {
    "duration": 9,
    "start_time": "2022-03-13T07:36:40.563Z"
   },
   {
    "duration": 38,
    "start_time": "2022-03-13T07:36:40.573Z"
   },
   {
    "duration": 11,
    "start_time": "2022-03-13T07:36:40.613Z"
   },
   {
    "duration": 41,
    "start_time": "2022-03-13T07:36:40.626Z"
   },
   {
    "duration": 29,
    "start_time": "2022-03-13T07:36:40.669Z"
   },
   {
    "duration": 30,
    "start_time": "2022-03-13T07:36:40.701Z"
   },
   {
    "duration": 37,
    "start_time": "2022-03-13T07:36:40.732Z"
   },
   {
    "duration": 14,
    "start_time": "2022-03-13T07:36:40.771Z"
   },
   {
    "duration": 36,
    "start_time": "2022-03-13T07:36:40.787Z"
   },
   {
    "duration": 114,
    "start_time": "2022-03-13T07:36:40.824Z"
   },
   {
    "duration": 37,
    "start_time": "2022-03-13T07:36:40.939Z"
   },
   {
    "duration": 65,
    "start_time": "2022-03-13T07:36:40.978Z"
   },
   {
    "duration": 7,
    "start_time": "2022-03-13T07:36:41.044Z"
   },
   {
    "duration": 11,
    "start_time": "2022-03-13T07:36:41.055Z"
   },
   {
    "duration": 183,
    "start_time": "2022-03-13T07:36:41.068Z"
   },
   {
    "duration": 5,
    "start_time": "2022-03-13T07:36:41.253Z"
   },
   {
    "duration": 67,
    "start_time": "2022-03-13T07:36:41.259Z"
   },
   {
    "duration": 28,
    "start_time": "2022-03-13T07:36:41.327Z"
   },
   {
    "duration": 246,
    "start_time": "2022-03-13T07:36:41.357Z"
   },
   {
    "duration": 211,
    "start_time": "2022-03-13T07:36:41.605Z"
   },
   {
    "duration": 150,
    "start_time": "2022-03-13T07:36:41.818Z"
   },
   {
    "duration": 5,
    "start_time": "2022-03-13T07:36:41.970Z"
   },
   {
    "duration": 298,
    "start_time": "2022-03-13T07:36:41.976Z"
   },
   {
    "duration": 43,
    "start_time": "2022-03-13T07:36:42.276Z"
   },
   {
    "duration": 23,
    "start_time": "2022-03-13T07:36:42.321Z"
   },
   {
    "duration": 194,
    "start_time": "2022-03-13T07:36:42.346Z"
   },
   {
    "duration": 6,
    "start_time": "2022-03-13T07:36:42.541Z"
   },
   {
    "duration": 20,
    "start_time": "2022-03-13T07:36:42.549Z"
   },
   {
    "duration": 199,
    "start_time": "2022-03-13T07:36:42.571Z"
   },
   {
    "duration": 160,
    "start_time": "2022-03-13T07:36:42.771Z"
   },
   {
    "duration": 11,
    "start_time": "2022-03-13T07:36:42.932Z"
   },
   {
    "duration": 266,
    "start_time": "2022-03-13T07:36:42.945Z"
   },
   {
    "duration": 173,
    "start_time": "2022-03-13T07:36:43.213Z"
   },
   {
    "duration": 15,
    "start_time": "2022-03-13T07:36:43.388Z"
   },
   {
    "duration": 39,
    "start_time": "2022-03-13T07:36:43.405Z"
   },
   {
    "duration": 5,
    "start_time": "2022-03-13T07:36:43.446Z"
   },
   {
    "duration": 280,
    "start_time": "2022-03-13T07:36:43.452Z"
   },
   {
    "duration": 6,
    "start_time": "2022-03-13T07:36:43.735Z"
   },
   {
    "duration": 30,
    "start_time": "2022-03-13T07:36:43.742Z"
   },
   {
    "duration": 11,
    "start_time": "2022-03-13T07:36:43.774Z"
   },
   {
    "duration": 13,
    "start_time": "2022-03-13T07:36:43.787Z"
   },
   {
    "duration": 7,
    "start_time": "2022-03-13T07:36:43.802Z"
   },
   {
    "duration": 9,
    "start_time": "2022-03-13T07:36:43.810Z"
   },
   {
    "duration": 183,
    "start_time": "2022-03-13T07:36:43.820Z"
   },
   {
    "duration": 170,
    "start_time": "2022-03-13T07:36:44.005Z"
   },
   {
    "duration": 12,
    "start_time": "2022-03-13T07:36:44.176Z"
   },
   {
    "duration": 4,
    "start_time": "2022-03-13T07:36:44.202Z"
   },
   {
    "duration": 280,
    "start_time": "2022-03-13T07:36:44.208Z"
   },
   {
    "duration": 15,
    "start_time": "2022-03-13T07:36:44.490Z"
   },
   {
    "duration": 6,
    "start_time": "2022-03-13T07:36:44.506Z"
   },
   {
    "duration": 5,
    "start_time": "2022-03-13T07:36:44.514Z"
   },
   {
    "duration": 9,
    "start_time": "2022-03-13T07:36:44.520Z"
   },
   {
    "duration": 27,
    "start_time": "2022-03-13T07:36:44.530Z"
   },
   {
    "duration": 25,
    "start_time": "2022-03-13T07:36:44.602Z"
   },
   {
    "duration": 9,
    "start_time": "2022-03-13T07:36:44.629Z"
   },
   {
    "duration": 24,
    "start_time": "2022-03-13T07:36:44.639Z"
   },
   {
    "duration": 47,
    "start_time": "2022-03-13T07:36:44.664Z"
   },
   {
    "duration": 8,
    "start_time": "2022-03-13T07:36:44.712Z"
   },
   {
    "duration": 23,
    "start_time": "2022-03-13T07:36:44.726Z"
   },
   {
    "duration": 58,
    "start_time": "2022-03-13T07:36:44.751Z"
   },
   {
    "duration": 15,
    "start_time": "2022-03-13T07:36:44.811Z"
   },
   {
    "duration": 15,
    "start_time": "2022-03-13T07:36:44.827Z"
   },
   {
    "duration": 9,
    "start_time": "2022-03-13T07:36:44.844Z"
   },
   {
    "duration": 49,
    "start_time": "2022-03-13T07:36:44.854Z"
   },
   {
    "duration": 14,
    "start_time": "2022-03-13T07:36:44.904Z"
   },
   {
    "duration": 6,
    "start_time": "2022-03-13T07:36:44.919Z"
   },
   {
    "duration": 16,
    "start_time": "2022-03-13T07:36:44.927Z"
   },
   {
    "duration": 11,
    "start_time": "2022-03-13T07:36:44.945Z"
   },
   {
    "duration": 185,
    "start_time": "2022-03-13T07:36:44.957Z"
   },
   {
    "duration": 365,
    "start_time": "2022-03-13T07:40:34.611Z"
   },
   {
    "duration": 326,
    "start_time": "2022-03-13T07:50:31.833Z"
   },
   {
    "duration": 2,
    "start_time": "2022-03-13T07:50:39.764Z"
   },
   {
    "duration": 13,
    "start_time": "2022-03-13T07:50:54.102Z"
   },
   {
    "duration": 3,
    "start_time": "2022-03-13T07:51:19.266Z"
   },
   {
    "duration": 172,
    "start_time": "2022-03-13T07:51:19.271Z"
   },
   {
    "duration": 19,
    "start_time": "2022-03-13T07:51:19.445Z"
   },
   {
    "duration": 94,
    "start_time": "2022-03-13T07:51:19.465Z"
   },
   {
    "duration": 12,
    "start_time": "2022-03-13T07:51:19.561Z"
   },
   {
    "duration": 140,
    "start_time": "2022-03-13T07:51:19.575Z"
   },
   {
    "duration": 15,
    "start_time": "2022-03-13T07:51:19.717Z"
   },
   {
    "duration": 30,
    "start_time": "2022-03-13T07:51:19.734Z"
   },
   {
    "duration": 23,
    "start_time": "2022-03-13T07:51:19.765Z"
   },
   {
    "duration": 59,
    "start_time": "2022-03-13T07:51:19.790Z"
   },
   {
    "duration": 19,
    "start_time": "2022-03-13T07:51:19.851Z"
   },
   {
    "duration": 31,
    "start_time": "2022-03-13T07:51:19.872Z"
   },
   {
    "duration": 16,
    "start_time": "2022-03-13T07:51:19.904Z"
   },
   {
    "duration": 22,
    "start_time": "2022-03-13T07:51:19.921Z"
   },
   {
    "duration": 20,
    "start_time": "2022-03-13T07:51:19.944Z"
   },
   {
    "duration": 12,
    "start_time": "2022-03-13T07:51:19.966Z"
   },
   {
    "duration": 31,
    "start_time": "2022-03-13T07:51:19.979Z"
   },
   {
    "duration": 6,
    "start_time": "2022-03-13T07:51:20.011Z"
   },
   {
    "duration": 21,
    "start_time": "2022-03-13T07:51:20.019Z"
   },
   {
    "duration": 104,
    "start_time": "2022-03-13T07:51:20.042Z"
   },
   {
    "duration": 33,
    "start_time": "2022-03-13T07:51:20.148Z"
   },
   {
    "duration": 56,
    "start_time": "2022-03-13T07:51:20.182Z"
   },
   {
    "duration": 6,
    "start_time": "2022-03-13T07:51:20.243Z"
   },
   {
    "duration": 15,
    "start_time": "2022-03-13T07:51:20.252Z"
   },
   {
    "duration": 178,
    "start_time": "2022-03-13T07:51:20.269Z"
   },
   {
    "duration": 6,
    "start_time": "2022-03-13T07:51:20.449Z"
   },
   {
    "duration": 62,
    "start_time": "2022-03-13T07:51:20.457Z"
   },
   {
    "duration": 27,
    "start_time": "2022-03-13T07:51:20.521Z"
   },
   {
    "duration": 193,
    "start_time": "2022-03-13T07:51:20.550Z"
   },
   {
    "duration": 192,
    "start_time": "2022-03-13T07:51:20.745Z"
   },
   {
    "duration": 143,
    "start_time": "2022-03-13T07:51:20.939Z"
   },
   {
    "duration": 7,
    "start_time": "2022-03-13T07:51:21.084Z"
   },
   {
    "duration": 202,
    "start_time": "2022-03-13T07:51:21.101Z"
   },
   {
    "duration": 26,
    "start_time": "2022-03-13T07:51:21.305Z"
   },
   {
    "duration": 18,
    "start_time": "2022-03-13T07:51:21.333Z"
   },
   {
    "duration": 193,
    "start_time": "2022-03-13T07:51:21.352Z"
   },
   {
    "duration": 5,
    "start_time": "2022-03-13T07:51:21.547Z"
   },
   {
    "duration": 7,
    "start_time": "2022-03-13T07:51:21.553Z"
   },
   {
    "duration": 297,
    "start_time": "2022-03-13T07:51:21.562Z"
   },
   {
    "duration": 143,
    "start_time": "2022-03-13T07:51:21.861Z"
   },
   {
    "duration": 12,
    "start_time": "2022-03-13T07:51:22.006Z"
   },
   {
    "duration": 195,
    "start_time": "2022-03-13T07:51:22.019Z"
   },
   {
    "duration": 131,
    "start_time": "2022-03-13T07:51:22.216Z"
   },
   {
    "duration": 8,
    "start_time": "2022-03-13T07:51:22.349Z"
   },
   {
    "duration": 20,
    "start_time": "2022-03-13T07:51:22.358Z"
   },
   {
    "duration": 4,
    "start_time": "2022-03-13T07:51:22.379Z"
   },
   {
    "duration": 191,
    "start_time": "2022-03-13T07:51:22.385Z"
   },
   {
    "duration": 6,
    "start_time": "2022-03-13T07:51:22.577Z"
   },
   {
    "duration": 21,
    "start_time": "2022-03-13T07:51:22.584Z"
   },
   {
    "duration": 9,
    "start_time": "2022-03-13T07:51:22.606Z"
   },
   {
    "duration": 12,
    "start_time": "2022-03-13T07:51:22.617Z"
   },
   {
    "duration": 7,
    "start_time": "2022-03-13T07:51:22.630Z"
   },
   {
    "duration": 6,
    "start_time": "2022-03-13T07:51:22.638Z"
   },
   {
    "duration": 175,
    "start_time": "2022-03-13T07:51:22.645Z"
   },
   {
    "duration": 174,
    "start_time": "2022-03-13T07:51:22.822Z"
   },
   {
    "duration": 12,
    "start_time": "2022-03-13T07:51:22.998Z"
   },
   {
    "duration": 5,
    "start_time": "2022-03-13T07:51:23.012Z"
   },
   {
    "duration": 187,
    "start_time": "2022-03-13T07:51:23.018Z"
   },
   {
    "duration": 7,
    "start_time": "2022-03-13T07:51:23.206Z"
   },
   {
    "duration": 5,
    "start_time": "2022-03-13T07:51:23.215Z"
   },
   {
    "duration": 6,
    "start_time": "2022-03-13T07:51:23.222Z"
   },
   {
    "duration": 8,
    "start_time": "2022-03-13T07:51:23.229Z"
   },
   {
    "duration": 26,
    "start_time": "2022-03-13T07:51:23.239Z"
   },
   {
    "duration": 54,
    "start_time": "2022-03-13T07:51:23.266Z"
   },
   {
    "duration": 8,
    "start_time": "2022-03-13T07:51:23.321Z"
   },
   {
    "duration": 19,
    "start_time": "2022-03-13T07:51:23.330Z"
   },
   {
    "duration": 17,
    "start_time": "2022-03-13T07:51:23.351Z"
   },
   {
    "duration": 34,
    "start_time": "2022-03-13T07:51:23.373Z"
   },
   {
    "duration": 20,
    "start_time": "2022-03-13T07:51:23.409Z"
   },
   {
    "duration": 17,
    "start_time": "2022-03-13T07:51:23.431Z"
   },
   {
    "duration": 14,
    "start_time": "2022-03-13T07:51:23.450Z"
   },
   {
    "duration": 45,
    "start_time": "2022-03-13T07:51:23.466Z"
   },
   {
    "duration": 10,
    "start_time": "2022-03-13T07:51:23.513Z"
   },
   {
    "duration": 19,
    "start_time": "2022-03-13T07:51:23.524Z"
   },
   {
    "duration": 15,
    "start_time": "2022-03-13T07:51:23.545Z"
   },
   {
    "duration": 39,
    "start_time": "2022-03-13T07:51:23.562Z"
   },
   {
    "duration": 12,
    "start_time": "2022-03-13T07:51:23.603Z"
   },
   {
    "duration": 7,
    "start_time": "2022-03-13T07:51:23.616Z"
   },
   {
    "duration": 129,
    "start_time": "2022-03-13T07:51:23.624Z"
   },
   {
    "duration": 16,
    "start_time": "2022-03-13T07:51:49.714Z"
   },
   {
    "duration": 3,
    "start_time": "2022-03-13T07:51:57.018Z"
   },
   {
    "duration": 143,
    "start_time": "2022-03-13T07:51:57.026Z"
   },
   {
    "duration": 17,
    "start_time": "2022-03-13T07:51:57.170Z"
   },
   {
    "duration": 154,
    "start_time": "2022-03-13T07:51:57.189Z"
   },
   {
    "duration": 13,
    "start_time": "2022-03-13T07:51:57.345Z"
   },
   {
    "duration": 122,
    "start_time": "2022-03-13T07:51:57.360Z"
   },
   {
    "duration": 27,
    "start_time": "2022-03-13T07:51:57.483Z"
   },
   {
    "duration": 20,
    "start_time": "2022-03-13T07:51:57.512Z"
   },
   {
    "duration": 5,
    "start_time": "2022-03-13T07:51:57.535Z"
   },
   {
    "duration": 40,
    "start_time": "2022-03-13T07:51:57.542Z"
   },
   {
    "duration": 5,
    "start_time": "2022-03-13T07:51:57.584Z"
   },
   {
    "duration": 17,
    "start_time": "2022-03-13T07:51:57.590Z"
   },
   {
    "duration": 10,
    "start_time": "2022-03-13T07:51:57.608Z"
   },
   {
    "duration": 19,
    "start_time": "2022-03-13T07:51:57.620Z"
   },
   {
    "duration": 19,
    "start_time": "2022-03-13T07:51:57.640Z"
   },
   {
    "duration": 12,
    "start_time": "2022-03-13T07:51:57.661Z"
   },
   {
    "duration": 41,
    "start_time": "2022-03-13T07:51:57.675Z"
   },
   {
    "duration": 5,
    "start_time": "2022-03-13T07:51:57.718Z"
   },
   {
    "duration": 6,
    "start_time": "2022-03-13T07:51:57.725Z"
   },
   {
    "duration": 101,
    "start_time": "2022-03-13T07:51:57.732Z"
   },
   {
    "duration": 32,
    "start_time": "2022-03-13T07:51:57.834Z"
   },
   {
    "duration": 64,
    "start_time": "2022-03-13T07:51:57.868Z"
   },
   {
    "duration": 7,
    "start_time": "2022-03-13T07:51:57.934Z"
   },
   {
    "duration": 5,
    "start_time": "2022-03-13T07:51:57.945Z"
   },
   {
    "duration": 172,
    "start_time": "2022-03-13T07:51:57.953Z"
   },
   {
    "duration": 6,
    "start_time": "2022-03-13T07:51:58.127Z"
   },
   {
    "duration": 45,
    "start_time": "2022-03-13T07:51:58.135Z"
   },
   {
    "duration": 44,
    "start_time": "2022-03-13T07:51:58.182Z"
   },
   {
    "duration": 196,
    "start_time": "2022-03-13T07:51:58.228Z"
   },
   {
    "duration": 186,
    "start_time": "2022-03-13T07:51:58.426Z"
   },
   {
    "duration": 138,
    "start_time": "2022-03-13T07:51:58.614Z"
   },
   {
    "duration": 5,
    "start_time": "2022-03-13T07:51:58.753Z"
   },
   {
    "duration": 190,
    "start_time": "2022-03-13T07:51:58.759Z"
   },
   {
    "duration": 23,
    "start_time": "2022-03-13T07:51:58.951Z"
   },
   {
    "duration": 29,
    "start_time": "2022-03-13T07:51:58.975Z"
   },
   {
    "duration": 176,
    "start_time": "2022-03-13T07:51:59.005Z"
   },
   {
    "duration": 4,
    "start_time": "2022-03-13T07:51:59.182Z"
   },
   {
    "duration": 15,
    "start_time": "2022-03-13T07:51:59.187Z"
   },
   {
    "duration": 285,
    "start_time": "2022-03-13T07:51:59.203Z"
   },
   {
    "duration": 141,
    "start_time": "2022-03-13T07:51:59.490Z"
   },
   {
    "duration": 13,
    "start_time": "2022-03-13T07:51:59.633Z"
   },
   {
    "duration": 191,
    "start_time": "2022-03-13T07:51:59.647Z"
   },
   {
    "duration": 134,
    "start_time": "2022-03-13T07:51:59.840Z"
   },
   {
    "duration": 7,
    "start_time": "2022-03-13T07:51:59.976Z"
   },
   {
    "duration": 29,
    "start_time": "2022-03-13T07:51:59.985Z"
   },
   {
    "duration": 4,
    "start_time": "2022-03-13T07:52:00.015Z"
   },
   {
    "duration": 186,
    "start_time": "2022-03-13T07:52:00.021Z"
   },
   {
    "duration": 4,
    "start_time": "2022-03-13T07:52:00.209Z"
   },
   {
    "duration": 8,
    "start_time": "2022-03-13T07:52:00.215Z"
   },
   {
    "duration": 7,
    "start_time": "2022-03-13T07:52:00.225Z"
   },
   {
    "duration": 5,
    "start_time": "2022-03-13T07:52:00.233Z"
   },
   {
    "duration": 9,
    "start_time": "2022-03-13T07:52:00.239Z"
   },
   {
    "duration": 6,
    "start_time": "2022-03-13T07:52:00.250Z"
   },
   {
    "duration": 186,
    "start_time": "2022-03-13T07:52:00.257Z"
   },
   {
    "duration": 189,
    "start_time": "2022-03-13T07:52:00.444Z"
   },
   {
    "duration": 12,
    "start_time": "2022-03-13T07:52:00.635Z"
   },
   {
    "duration": 8,
    "start_time": "2022-03-13T07:52:00.649Z"
   },
   {
    "duration": 197,
    "start_time": "2022-03-13T07:52:00.659Z"
   },
   {
    "duration": 7,
    "start_time": "2022-03-13T07:52:00.857Z"
   },
   {
    "duration": 7,
    "start_time": "2022-03-13T07:52:00.866Z"
   },
   {
    "duration": 10,
    "start_time": "2022-03-13T07:52:00.875Z"
   },
   {
    "duration": 9,
    "start_time": "2022-03-13T07:52:00.901Z"
   },
   {
    "duration": 40,
    "start_time": "2022-03-13T07:52:00.912Z"
   },
   {
    "duration": 29,
    "start_time": "2022-03-13T07:52:00.953Z"
   },
   {
    "duration": 7,
    "start_time": "2022-03-13T07:52:00.983Z"
   },
   {
    "duration": 21,
    "start_time": "2022-03-13T07:52:01.002Z"
   },
   {
    "duration": 18,
    "start_time": "2022-03-13T07:52:01.024Z"
   },
   {
    "duration": 7,
    "start_time": "2022-03-13T07:52:01.044Z"
   },
   {
    "duration": 47,
    "start_time": "2022-03-13T07:52:01.056Z"
   },
   {
    "duration": 17,
    "start_time": "2022-03-13T07:52:01.105Z"
   },
   {
    "duration": 14,
    "start_time": "2022-03-13T07:52:01.123Z"
   },
   {
    "duration": 15,
    "start_time": "2022-03-13T07:52:01.138Z"
   },
   {
    "duration": 10,
    "start_time": "2022-03-13T07:52:01.154Z"
   },
   {
    "duration": 46,
    "start_time": "2022-03-13T07:52:01.166Z"
   },
   {
    "duration": 14,
    "start_time": "2022-03-13T07:52:01.214Z"
   },
   {
    "duration": 8,
    "start_time": "2022-03-13T07:52:01.229Z"
   },
   {
    "duration": 14,
    "start_time": "2022-03-13T07:52:01.239Z"
   },
   {
    "duration": 8,
    "start_time": "2022-03-13T07:52:01.254Z"
   },
   {
    "duration": 107,
    "start_time": "2022-03-13T07:52:01.263Z"
   },
   {
    "duration": 5,
    "start_time": "2022-03-13T07:53:01.652Z"
   },
   {
    "duration": 14,
    "start_time": "2022-03-13T07:53:05.916Z"
   },
   {
    "duration": 15,
    "start_time": "2022-03-13T07:55:55.911Z"
   },
   {
    "duration": 14,
    "start_time": "2022-03-13T07:56:10.932Z"
   },
   {
    "duration": 334,
    "start_time": "2022-03-13T08:12:15.675Z"
   },
   {
    "duration": 5,
    "start_time": "2022-03-13T08:14:01.518Z"
   },
   {
    "duration": 13,
    "start_time": "2022-03-13T08:14:02.979Z"
   },
   {
    "duration": 20,
    "start_time": "2022-03-13T08:14:20.027Z"
   },
   {
    "duration": 25,
    "start_time": "2022-03-13T08:15:06.172Z"
   },
   {
    "duration": 3,
    "start_time": "2022-03-13T08:15:58.202Z"
   },
   {
    "duration": 141,
    "start_time": "2022-03-13T08:15:58.210Z"
   },
   {
    "duration": 18,
    "start_time": "2022-03-13T08:15:58.353Z"
   },
   {
    "duration": 86,
    "start_time": "2022-03-13T08:15:58.372Z"
   },
   {
    "duration": 42,
    "start_time": "2022-03-13T08:15:58.460Z"
   },
   {
    "duration": 117,
    "start_time": "2022-03-13T08:15:58.504Z"
   },
   {
    "duration": 14,
    "start_time": "2022-03-13T08:15:58.623Z"
   },
   {
    "duration": 21,
    "start_time": "2022-03-13T08:15:58.639Z"
   },
   {
    "duration": 7,
    "start_time": "2022-03-13T08:15:58.662Z"
   },
   {
    "duration": 39,
    "start_time": "2022-03-13T08:15:58.671Z"
   },
   {
    "duration": 7,
    "start_time": "2022-03-13T08:15:58.711Z"
   },
   {
    "duration": 17,
    "start_time": "2022-03-13T08:15:58.720Z"
   },
   {
    "duration": 10,
    "start_time": "2022-03-13T08:15:58.739Z"
   },
   {
    "duration": 15,
    "start_time": "2022-03-13T08:15:58.751Z"
   },
   {
    "duration": 49,
    "start_time": "2022-03-13T08:15:58.767Z"
   },
   {
    "duration": 12,
    "start_time": "2022-03-13T08:15:58.818Z"
   },
   {
    "duration": 15,
    "start_time": "2022-03-13T08:15:58.832Z"
   },
   {
    "duration": 5,
    "start_time": "2022-03-13T08:15:58.848Z"
   },
   {
    "duration": 46,
    "start_time": "2022-03-13T08:15:58.855Z"
   },
   {
    "duration": 79,
    "start_time": "2022-03-13T08:15:58.902Z"
   },
   {
    "duration": 48,
    "start_time": "2022-03-13T08:15:58.982Z"
   },
   {
    "duration": 40,
    "start_time": "2022-03-13T08:15:59.031Z"
   },
   {
    "duration": 29,
    "start_time": "2022-03-13T08:15:59.072Z"
   },
   {
    "duration": 5,
    "start_time": "2022-03-13T08:15:59.105Z"
   },
   {
    "duration": 164,
    "start_time": "2022-03-13T08:15:59.112Z"
   },
   {
    "duration": 4,
    "start_time": "2022-03-13T08:15:59.278Z"
   },
   {
    "duration": 57,
    "start_time": "2022-03-13T08:15:59.284Z"
   },
   {
    "duration": 27,
    "start_time": "2022-03-13T08:15:59.342Z"
   },
   {
    "duration": 248,
    "start_time": "2022-03-13T08:15:59.370Z"
   },
   {
    "duration": 196,
    "start_time": "2022-03-13T08:15:59.619Z"
   },
   {
    "duration": 138,
    "start_time": "2022-03-13T08:15:59.816Z"
   },
   {
    "duration": 5,
    "start_time": "2022-03-13T08:15:59.955Z"
   },
   {
    "duration": 203,
    "start_time": "2022-03-13T08:15:59.962Z"
   },
   {
    "duration": 22,
    "start_time": "2022-03-13T08:16:00.166Z"
   },
   {
    "duration": 25,
    "start_time": "2022-03-13T08:16:00.189Z"
   },
   {
    "duration": 186,
    "start_time": "2022-03-13T08:16:00.215Z"
   },
   {
    "duration": 5,
    "start_time": "2022-03-13T08:16:00.403Z"
   },
   {
    "duration": 10,
    "start_time": "2022-03-13T08:16:00.409Z"
   },
   {
    "duration": 205,
    "start_time": "2022-03-13T08:16:00.421Z"
   },
   {
    "duration": 264,
    "start_time": "2022-03-13T08:16:00.628Z"
   },
   {
    "duration": 18,
    "start_time": "2022-03-13T08:16:00.894Z"
   },
   {
    "duration": 232,
    "start_time": "2022-03-13T08:16:00.914Z"
   },
   {
    "duration": 134,
    "start_time": "2022-03-13T08:16:01.148Z"
   },
   {
    "duration": 7,
    "start_time": "2022-03-13T08:16:01.284Z"
   },
   {
    "duration": 27,
    "start_time": "2022-03-13T08:16:01.293Z"
   },
   {
    "duration": 5,
    "start_time": "2022-03-13T08:16:01.322Z"
   },
   {
    "duration": 214,
    "start_time": "2022-03-13T08:16:01.329Z"
   },
   {
    "duration": 5,
    "start_time": "2022-03-13T08:16:01.545Z"
   },
   {
    "duration": 10,
    "start_time": "2022-03-13T08:16:01.551Z"
   },
   {
    "duration": 12,
    "start_time": "2022-03-13T08:16:01.563Z"
   },
   {
    "duration": 27,
    "start_time": "2022-03-13T08:16:01.577Z"
   },
   {
    "duration": 6,
    "start_time": "2022-03-13T08:16:01.606Z"
   },
   {
    "duration": 5,
    "start_time": "2022-03-13T08:16:01.614Z"
   },
   {
    "duration": 187,
    "start_time": "2022-03-13T08:16:01.620Z"
   },
   {
    "duration": 194,
    "start_time": "2022-03-13T08:16:01.809Z"
   },
   {
    "duration": 13,
    "start_time": "2022-03-13T08:16:02.005Z"
   },
   {
    "duration": 7,
    "start_time": "2022-03-13T08:16:02.020Z"
   },
   {
    "duration": 199,
    "start_time": "2022-03-13T08:16:02.029Z"
   },
   {
    "duration": 7,
    "start_time": "2022-03-13T08:16:02.229Z"
   },
   {
    "duration": 8,
    "start_time": "2022-03-13T08:16:02.237Z"
   },
   {
    "duration": 5,
    "start_time": "2022-03-13T08:16:02.247Z"
   },
   {
    "duration": 9,
    "start_time": "2022-03-13T08:16:02.253Z"
   },
   {
    "duration": 56,
    "start_time": "2022-03-13T08:16:02.263Z"
   },
   {
    "duration": 23,
    "start_time": "2022-03-13T08:16:02.321Z"
   },
   {
    "duration": 7,
    "start_time": "2022-03-13T08:16:02.345Z"
   },
   {
    "duration": 21,
    "start_time": "2022-03-13T08:16:02.353Z"
   },
   {
    "duration": 41,
    "start_time": "2022-03-13T08:16:02.375Z"
   },
   {
    "duration": 7,
    "start_time": "2022-03-13T08:16:02.417Z"
   },
   {
    "duration": 20,
    "start_time": "2022-03-13T08:16:02.429Z"
   },
   {
    "duration": 53,
    "start_time": "2022-03-13T08:16:02.451Z"
   },
   {
    "duration": 14,
    "start_time": "2022-03-13T08:16:02.506Z"
   },
   {
    "duration": 14,
    "start_time": "2022-03-13T08:16:02.521Z"
   },
   {
    "duration": 8,
    "start_time": "2022-03-13T08:16:02.537Z"
   },
   {
    "duration": 17,
    "start_time": "2022-03-13T08:16:02.547Z"
   },
   {
    "duration": 48,
    "start_time": "2022-03-13T08:16:02.565Z"
   },
   {
    "duration": 8181,
    "start_time": "2022-03-13T08:16:02.614Z"
   },
   {
    "duration": 1768,
    "start_time": "2022-03-13T08:16:09.028Z"
   },
   {
    "duration": 1752,
    "start_time": "2022-03-13T08:16:09.045Z"
   },
   {
    "duration": 1744,
    "start_time": "2022-03-13T08:16:09.054Z"
   },
   {
    "duration": 1737,
    "start_time": "2022-03-13T08:16:09.062Z"
   },
   {
    "duration": 1729,
    "start_time": "2022-03-13T08:16:09.071Z"
   },
   {
    "duration": 4,
    "start_time": "2022-03-13T08:16:53.048Z"
   },
   {
    "duration": 13,
    "start_time": "2022-03-13T08:16:58.934Z"
   },
   {
    "duration": 20,
    "start_time": "2022-03-13T08:17:03.266Z"
   },
   {
    "duration": 925,
    "start_time": "2022-03-14T07:10:12.058Z"
   },
   {
    "duration": 242,
    "start_time": "2022-03-14T07:10:12.986Z"
   },
   {
    "duration": 31,
    "start_time": "2022-03-14T07:10:13.232Z"
   },
   {
    "duration": 147,
    "start_time": "2022-03-14T07:10:13.267Z"
   },
   {
    "duration": 28,
    "start_time": "2022-03-14T07:10:13.416Z"
   },
   {
    "duration": 206,
    "start_time": "2022-03-14T07:10:13.447Z"
   },
   {
    "duration": 23,
    "start_time": "2022-03-14T07:10:13.655Z"
   },
   {
    "duration": 55,
    "start_time": "2022-03-14T07:10:13.682Z"
   },
   {
    "duration": 9,
    "start_time": "2022-03-14T07:10:13.740Z"
   },
   {
    "duration": 44,
    "start_time": "2022-03-14T07:10:13.751Z"
   },
   {
    "duration": 34,
    "start_time": "2022-03-14T07:10:13.798Z"
   },
   {
    "duration": 41,
    "start_time": "2022-03-14T07:10:13.836Z"
   },
   {
    "duration": 63,
    "start_time": "2022-03-14T07:10:13.880Z"
   },
   {
    "duration": 33,
    "start_time": "2022-03-14T07:10:13.946Z"
   },
   {
    "duration": 80,
    "start_time": "2022-03-14T07:10:13.982Z"
   },
   {
    "duration": 30,
    "start_time": "2022-03-14T07:10:14.065Z"
   },
   {
    "duration": 50,
    "start_time": "2022-03-14T07:10:14.097Z"
   },
   {
    "duration": 8,
    "start_time": "2022-03-14T07:10:14.150Z"
   },
   {
    "duration": 11,
    "start_time": "2022-03-14T07:10:14.160Z"
   },
   {
    "duration": 185,
    "start_time": "2022-03-14T07:10:14.173Z"
   },
   {
    "duration": 77,
    "start_time": "2022-03-14T07:10:14.360Z"
   },
   {
    "duration": 124,
    "start_time": "2022-03-14T07:10:14.439Z"
   },
   {
    "duration": 10,
    "start_time": "2022-03-14T07:10:14.569Z"
   },
   {
    "duration": 9,
    "start_time": "2022-03-14T07:10:14.585Z"
   },
   {
    "duration": 345,
    "start_time": "2022-03-14T07:10:14.597Z"
   },
   {
    "duration": 7,
    "start_time": "2022-03-14T07:10:14.945Z"
   },
   {
    "duration": 115,
    "start_time": "2022-03-14T07:10:14.955Z"
   },
   {
    "duration": 41,
    "start_time": "2022-03-14T07:10:15.072Z"
   },
   {
    "duration": 371,
    "start_time": "2022-03-14T07:10:15.134Z"
   },
   {
    "duration": 359,
    "start_time": "2022-03-14T07:10:15.508Z"
   },
   {
    "duration": 326,
    "start_time": "2022-03-14T07:10:15.871Z"
   },
   {
    "duration": 11,
    "start_time": "2022-03-14T07:10:16.200Z"
   },
   {
    "duration": 346,
    "start_time": "2022-03-14T07:10:16.234Z"
   },
   {
    "duration": 53,
    "start_time": "2022-03-14T07:10:16.583Z"
   },
   {
    "duration": 24,
    "start_time": "2022-03-14T07:10:16.638Z"
   },
   {
    "duration": 354,
    "start_time": "2022-03-14T07:10:16.665Z"
   },
   {
    "duration": 13,
    "start_time": "2022-03-14T07:10:17.021Z"
   },
   {
    "duration": 8,
    "start_time": "2022-03-14T07:10:17.037Z"
   },
   {
    "duration": 381,
    "start_time": "2022-03-14T07:10:17.048Z"
   },
   {
    "duration": 244,
    "start_time": "2022-03-14T07:10:17.432Z"
   },
   {
    "duration": 17,
    "start_time": "2022-03-14T07:10:17.678Z"
   },
   {
    "duration": 354,
    "start_time": "2022-03-14T07:10:17.697Z"
   },
   {
    "duration": 253,
    "start_time": "2022-03-14T07:10:18.053Z"
   },
   {
    "duration": 26,
    "start_time": "2022-03-14T07:10:18.310Z"
   },
   {
    "duration": 51,
    "start_time": "2022-03-14T07:10:18.339Z"
   },
   {
    "duration": 7,
    "start_time": "2022-03-14T07:10:18.393Z"
   },
   {
    "duration": 326,
    "start_time": "2022-03-14T07:10:18.434Z"
   },
   {
    "duration": 8,
    "start_time": "2022-03-14T07:10:18.762Z"
   },
   {
    "duration": 14,
    "start_time": "2022-03-14T07:10:18.773Z"
   },
   {
    "duration": 54,
    "start_time": "2022-03-14T07:10:18.789Z"
   },
   {
    "duration": 7,
    "start_time": "2022-03-14T07:10:18.846Z"
   },
   {
    "duration": 12,
    "start_time": "2022-03-14T07:10:18.856Z"
   },
   {
    "duration": 62,
    "start_time": "2022-03-14T07:10:18.871Z"
   },
   {
    "duration": 315,
    "start_time": "2022-03-14T07:10:18.936Z"
   },
   {
    "duration": 329,
    "start_time": "2022-03-14T07:10:19.253Z"
   },
   {
    "duration": 20,
    "start_time": "2022-03-14T07:10:19.585Z"
   },
   {
    "duration": 30,
    "start_time": "2022-03-14T07:10:19.608Z"
   },
   {
    "duration": 360,
    "start_time": "2022-03-14T07:10:19.641Z"
   },
   {
    "duration": 12,
    "start_time": "2022-03-14T07:10:20.003Z"
   },
   {
    "duration": 9,
    "start_time": "2022-03-14T07:10:20.034Z"
   },
   {
    "duration": 10,
    "start_time": "2022-03-14T07:10:20.046Z"
   },
   {
    "duration": 17,
    "start_time": "2022-03-14T07:10:20.059Z"
   },
   {
    "duration": 54,
    "start_time": "2022-03-14T07:10:20.140Z"
   },
   {
    "duration": 130,
    "start_time": "2022-03-14T07:10:20.197Z"
   },
   {
    "duration": 11,
    "start_time": "2022-03-14T07:10:20.328Z"
   },
   {
    "duration": 34,
    "start_time": "2022-03-14T07:10:20.342Z"
   },
   {
    "duration": 74,
    "start_time": "2022-03-14T07:10:20.379Z"
   },
   {
    "duration": 17,
    "start_time": "2022-03-14T07:10:20.466Z"
   },
   {
    "duration": 69,
    "start_time": "2022-03-14T07:10:20.487Z"
   },
   {
    "duration": 30,
    "start_time": "2022-03-14T07:10:20.559Z"
   },
   {
    "duration": 61,
    "start_time": "2022-03-14T07:10:20.592Z"
   },
   {
    "duration": 31,
    "start_time": "2022-03-14T07:10:20.657Z"
   },
   {
    "duration": 52,
    "start_time": "2022-03-14T07:10:20.691Z"
   },
   {
    "duration": 31,
    "start_time": "2022-03-14T07:10:20.745Z"
   },
   {
    "duration": 69,
    "start_time": "2022-03-14T07:10:20.779Z"
   },
   {
    "duration": 8,
    "start_time": "2022-03-14T07:10:20.851Z"
   },
   {
    "duration": 24,
    "start_time": "2022-03-14T07:10:20.861Z"
   },
   {
    "duration": 65,
    "start_time": "2022-03-14T07:10:20.887Z"
   },
   {
    "duration": 37,
    "start_time": "2022-03-14T07:10:20.954Z"
   },
   {
    "duration": 44,
    "start_time": "2022-03-14T07:10:20.993Z"
   },
   {
    "duration": 104,
    "start_time": "2022-03-14T07:10:21.040Z"
   },
   {
    "duration": 36,
    "start_time": "2022-03-14T07:13:01.375Z"
   },
   {
    "duration": 4,
    "start_time": "2022-03-14T07:14:03.262Z"
   },
   {
    "duration": 239,
    "start_time": "2022-03-14T07:14:03.273Z"
   },
   {
    "duration": 46,
    "start_time": "2022-03-14T07:14:03.514Z"
   },
   {
    "duration": 147,
    "start_time": "2022-03-14T07:14:03.563Z"
   },
   {
    "duration": 19,
    "start_time": "2022-03-14T07:14:03.733Z"
   },
   {
    "duration": 205,
    "start_time": "2022-03-14T07:14:03.755Z"
   },
   {
    "duration": 23,
    "start_time": "2022-03-14T07:14:03.962Z"
   },
   {
    "duration": 47,
    "start_time": "2022-03-14T07:14:03.987Z"
   },
   {
    "duration": 9,
    "start_time": "2022-03-14T07:14:04.039Z"
   },
   {
    "duration": 45,
    "start_time": "2022-03-14T07:14:04.051Z"
   },
   {
    "duration": 8,
    "start_time": "2022-03-14T07:14:04.099Z"
   },
   {
    "duration": 42,
    "start_time": "2022-03-14T07:14:04.109Z"
   },
   {
    "duration": 16,
    "start_time": "2022-03-14T07:14:04.153Z"
   },
   {
    "duration": 69,
    "start_time": "2022-03-14T07:14:04.171Z"
   },
   {
    "duration": 29,
    "start_time": "2022-03-14T07:14:04.242Z"
   },
   {
    "duration": 20,
    "start_time": "2022-03-14T07:14:04.274Z"
   },
   {
    "duration": 62,
    "start_time": "2022-03-14T07:14:04.296Z"
   },
   {
    "duration": 9,
    "start_time": "2022-03-14T07:14:04.361Z"
   },
   {
    "duration": 13,
    "start_time": "2022-03-14T07:14:04.373Z"
   },
   {
    "duration": 200,
    "start_time": "2022-03-14T07:14:04.388Z"
   },
   {
    "duration": 68,
    "start_time": "2022-03-14T07:14:04.591Z"
   },
   {
    "duration": 113,
    "start_time": "2022-03-14T07:14:04.661Z"
   },
   {
    "duration": 10,
    "start_time": "2022-03-14T07:14:04.776Z"
   },
   {
    "duration": 14,
    "start_time": "2022-03-14T07:14:04.792Z"
   },
   {
    "duration": 332,
    "start_time": "2022-03-14T07:14:04.810Z"
   },
   {
    "duration": 8,
    "start_time": "2022-03-14T07:14:05.144Z"
   },
   {
    "duration": 96,
    "start_time": "2022-03-14T07:14:05.155Z"
   },
   {
    "duration": 40,
    "start_time": "2022-03-14T07:14:05.254Z"
   },
   {
    "duration": 378,
    "start_time": "2022-03-14T07:14:05.296Z"
   },
   {
    "duration": 361,
    "start_time": "2022-03-14T07:14:05.676Z"
   },
   {
    "duration": 260,
    "start_time": "2022-03-14T07:14:06.040Z"
   },
   {
    "duration": 8,
    "start_time": "2022-03-14T07:14:06.303Z"
   },
   {
    "duration": 361,
    "start_time": "2022-03-14T07:14:06.313Z"
   },
   {
    "duration": 35,
    "start_time": "2022-03-14T07:14:06.676Z"
   },
   {
    "duration": 41,
    "start_time": "2022-03-14T07:14:06.713Z"
   },
   {
    "duration": 332,
    "start_time": "2022-03-14T07:14:06.756Z"
   },
   {
    "duration": 6,
    "start_time": "2022-03-14T07:14:07.090Z"
   },
   {
    "duration": 8,
    "start_time": "2022-03-14T07:14:07.099Z"
   },
   {
    "duration": 364,
    "start_time": "2022-03-14T07:14:07.109Z"
   },
   {
    "duration": 252,
    "start_time": "2022-03-14T07:14:07.476Z"
   },
   {
    "duration": 16,
    "start_time": "2022-03-14T07:14:07.732Z"
   },
   {
    "duration": 336,
    "start_time": "2022-03-14T07:14:07.751Z"
   },
   {
    "duration": 326,
    "start_time": "2022-03-14T07:14:08.090Z"
   },
   {
    "duration": 20,
    "start_time": "2022-03-14T07:14:08.418Z"
   },
   {
    "duration": 43,
    "start_time": "2022-03-14T07:14:08.441Z"
   },
   {
    "duration": 8,
    "start_time": "2022-03-14T07:14:08.487Z"
   },
   {
    "duration": 455,
    "start_time": "2022-03-14T07:14:08.533Z"
   },
   {
    "duration": 17,
    "start_time": "2022-03-14T07:14:08.991Z"
   },
   {
    "duration": 29,
    "start_time": "2022-03-14T07:14:09.011Z"
   },
   {
    "duration": 17,
    "start_time": "2022-03-14T07:14:09.043Z"
   },
   {
    "duration": 11,
    "start_time": "2022-03-14T07:14:09.062Z"
   },
   {
    "duration": 8,
    "start_time": "2022-03-14T07:14:09.075Z"
   },
   {
    "duration": 10,
    "start_time": "2022-03-14T07:14:09.134Z"
   },
   {
    "duration": 395,
    "start_time": "2022-03-14T07:14:09.146Z"
   },
   {
    "duration": 320,
    "start_time": "2022-03-14T07:14:09.543Z"
   },
   {
    "duration": 20,
    "start_time": "2022-03-14T07:14:09.865Z"
   },
   {
    "duration": 6,
    "start_time": "2022-03-14T07:14:09.888Z"
   },
   {
    "duration": 366,
    "start_time": "2022-03-14T07:14:09.897Z"
   },
   {
    "duration": 10,
    "start_time": "2022-03-14T07:14:10.266Z"
   },
   {
    "duration": 9,
    "start_time": "2022-03-14T07:14:10.278Z"
   },
   {
    "duration": 45,
    "start_time": "2022-03-14T07:14:10.290Z"
   },
   {
    "duration": 15,
    "start_time": "2022-03-14T07:14:10.338Z"
   },
   {
    "duration": 80,
    "start_time": "2022-03-14T07:14:10.356Z"
   },
   {
    "duration": 40,
    "start_time": "2022-03-14T07:14:10.440Z"
   },
   {
    "duration": 12,
    "start_time": "2022-03-14T07:14:10.483Z"
   },
   {
    "duration": 33,
    "start_time": "2022-03-14T07:14:10.533Z"
   },
   {
    "duration": 70,
    "start_time": "2022-03-14T07:14:10.569Z"
   },
   {
    "duration": 14,
    "start_time": "2022-03-14T07:14:10.642Z"
   },
   {
    "duration": 71,
    "start_time": "2022-03-14T07:14:10.668Z"
   },
   {
    "duration": 29,
    "start_time": "2022-03-14T07:14:10.743Z"
   },
   {
    "duration": 70,
    "start_time": "2022-03-14T07:14:10.775Z"
   },
   {
    "duration": 30,
    "start_time": "2022-03-14T07:14:10.848Z"
   },
   {
    "duration": 54,
    "start_time": "2022-03-14T07:14:10.880Z"
   },
   {
    "duration": 41,
    "start_time": "2022-03-14T07:14:10.937Z"
   },
   {
    "duration": 60,
    "start_time": "2022-03-14T07:14:10.982Z"
   },
   {
    "duration": 8,
    "start_time": "2022-03-14T07:14:11.045Z"
   },
   {
    "duration": 34,
    "start_time": "2022-03-14T07:14:11.056Z"
   },
   {
    "duration": 60,
    "start_time": "2022-03-14T07:14:11.093Z"
   },
   {
    "duration": 34,
    "start_time": "2022-03-14T07:14:11.155Z"
   },
   {
    "duration": 109,
    "start_time": "2022-03-14T07:14:11.192Z"
   },
   {
    "duration": 12,
    "start_time": "2022-03-14T07:25:52.616Z"
   },
   {
    "duration": 10682,
    "start_time": "2022-03-14T07:25:55.241Z"
   },
   {
    "duration": 15,
    "start_time": "2022-03-14T07:32:00.517Z"
   },
   {
    "duration": 9798,
    "start_time": "2022-03-14T07:32:04.491Z"
   },
   {
    "duration": 10,
    "start_time": "2022-03-14T07:32:37.161Z"
   },
   {
    "duration": 695,
    "start_time": "2022-03-14T07:32:38.462Z"
   },
   {
    "duration": 10,
    "start_time": "2022-03-14T07:33:34.706Z"
   },
   {
    "duration": 867,
    "start_time": "2022-03-14T07:33:35.248Z"
   },
   {
    "duration": 12,
    "start_time": "2022-03-14T07:35:44.040Z"
   },
   {
    "duration": 344,
    "start_time": "2022-03-14T07:35:45.067Z"
   },
   {
    "duration": 34,
    "start_time": "2022-03-14T07:35:52.788Z"
   },
   {
    "duration": 34,
    "start_time": "2022-03-14T07:36:08.845Z"
   },
   {
    "duration": 11,
    "start_time": "2022-03-14T07:37:26.442Z"
   },
   {
    "duration": 390,
    "start_time": "2022-03-14T07:37:29.001Z"
   },
   {
    "duration": 33,
    "start_time": "2022-03-14T07:37:30.157Z"
   },
   {
    "duration": 38,
    "start_time": "2022-03-14T07:38:03.735Z"
   },
   {
    "duration": 37,
    "start_time": "2022-03-14T07:38:33.675Z"
   },
   {
    "duration": 127,
    "start_time": "2022-03-14T07:42:21.659Z"
   },
   {
    "duration": 10,
    "start_time": "2022-03-14T07:44:43.716Z"
   },
   {
    "duration": 334,
    "start_time": "2022-03-14T07:44:46.174Z"
   },
   {
    "duration": 39,
    "start_time": "2022-03-14T07:44:47.095Z"
   },
   {
    "duration": 9,
    "start_time": "2022-03-14T07:46:37.144Z"
   },
   {
    "duration": 650,
    "start_time": "2022-03-14T07:46:38.376Z"
   },
   {
    "duration": 42,
    "start_time": "2022-03-14T07:46:39.342Z"
   },
   {
    "duration": 10,
    "start_time": "2022-03-14T07:51:34.616Z"
   },
   {
    "duration": 633,
    "start_time": "2022-03-14T07:51:35.486Z"
   },
   {
    "duration": 51,
    "start_time": "2022-03-14T07:51:36.574Z"
   },
   {
    "duration": 19,
    "start_time": "2022-03-14T07:52:29.975Z"
   },
   {
    "duration": 322,
    "start_time": "2022-03-14T07:56:21.345Z"
   },
   {
    "duration": 12,
    "start_time": "2022-03-14T07:56:33.729Z"
   },
   {
    "duration": 17,
    "start_time": "2022-03-14T07:58:33.228Z"
   },
   {
    "duration": 23,
    "start_time": "2022-03-14T07:59:11.427Z"
   },
   {
    "duration": 17,
    "start_time": "2022-03-14T07:59:45.882Z"
   },
   {
    "duration": 19,
    "start_time": "2022-03-14T07:59:51.401Z"
   },
   {
    "duration": 24,
    "start_time": "2022-03-14T08:00:03.755Z"
   },
   {
    "duration": 16,
    "start_time": "2022-03-14T08:00:11.331Z"
   },
   {
    "duration": 20,
    "start_time": "2022-03-14T08:00:14.413Z"
   },
   {
    "duration": 27,
    "start_time": "2022-03-14T08:00:18.842Z"
   },
   {
    "duration": 4,
    "start_time": "2022-03-14T08:07:21.038Z"
   },
   {
    "duration": 239,
    "start_time": "2022-03-14T08:07:21.051Z"
   },
   {
    "duration": 48,
    "start_time": "2022-03-14T08:07:21.293Z"
   },
   {
    "duration": 159,
    "start_time": "2022-03-14T08:07:21.344Z"
   },
   {
    "duration": 41,
    "start_time": "2022-03-14T08:07:21.505Z"
   },
   {
    "duration": 216,
    "start_time": "2022-03-14T08:07:21.549Z"
   },
   {
    "duration": 64,
    "start_time": "2022-03-14T08:07:21.769Z"
   },
   {
    "duration": 33,
    "start_time": "2022-03-14T08:07:21.836Z"
   },
   {
    "duration": 11,
    "start_time": "2022-03-14T08:07:21.875Z"
   },
   {
    "duration": 54,
    "start_time": "2022-03-14T08:07:21.890Z"
   },
   {
    "duration": 11,
    "start_time": "2022-03-14T08:07:21.947Z"
   },
   {
    "duration": 31,
    "start_time": "2022-03-14T08:07:21.961Z"
   },
   {
    "duration": 21,
    "start_time": "2022-03-14T08:07:22.032Z"
   },
   {
    "duration": 38,
    "start_time": "2022-03-14T08:07:22.056Z"
   },
   {
    "duration": 45,
    "start_time": "2022-03-14T08:07:22.133Z"
   },
   {
    "duration": 56,
    "start_time": "2022-03-14T08:07:22.181Z"
   },
   {
    "duration": 27,
    "start_time": "2022-03-14T08:07:22.240Z"
   },
   {
    "duration": 12,
    "start_time": "2022-03-14T08:07:22.271Z"
   },
   {
    "duration": 12,
    "start_time": "2022-03-14T08:07:22.334Z"
   },
   {
    "duration": 225,
    "start_time": "2022-03-14T08:07:22.349Z"
   },
   {
    "duration": 73,
    "start_time": "2022-03-14T08:07:22.576Z"
   },
   {
    "duration": 144,
    "start_time": "2022-03-14T08:07:22.652Z"
   },
   {
    "duration": 12,
    "start_time": "2022-03-14T08:07:22.799Z"
   },
   {
    "duration": 11,
    "start_time": "2022-03-14T08:07:22.837Z"
   },
   {
    "duration": 337,
    "start_time": "2022-03-14T08:07:22.853Z"
   },
   {
    "duration": 8,
    "start_time": "2022-03-14T08:07:23.193Z"
   },
   {
    "duration": 96,
    "start_time": "2022-03-14T08:07:23.204Z"
   },
   {
    "duration": 61,
    "start_time": "2022-03-14T08:07:23.302Z"
   },
   {
    "duration": 379,
    "start_time": "2022-03-14T08:07:23.366Z"
   },
   {
    "duration": 409,
    "start_time": "2022-03-14T08:07:23.748Z"
   },
   {
    "duration": 301,
    "start_time": "2022-03-14T08:07:24.160Z"
   },
   {
    "duration": 8,
    "start_time": "2022-03-14T08:07:24.463Z"
   },
   {
    "duration": 435,
    "start_time": "2022-03-14T08:07:24.474Z"
   },
   {
    "duration": 46,
    "start_time": "2022-03-14T08:07:24.911Z"
   },
   {
    "duration": 24,
    "start_time": "2022-03-14T08:07:24.959Z"
   },
   {
    "duration": 363,
    "start_time": "2022-03-14T08:07:24.986Z"
   },
   {
    "duration": 7,
    "start_time": "2022-03-14T08:07:25.351Z"
   },
   {
    "duration": 16,
    "start_time": "2022-03-14T08:07:25.361Z"
   },
   {
    "duration": 371,
    "start_time": "2022-03-14T08:07:25.380Z"
   },
   {
    "duration": 256,
    "start_time": "2022-03-14T08:07:25.754Z"
   },
   {
    "duration": 28,
    "start_time": "2022-03-14T08:07:26.013Z"
   },
   {
    "duration": 335,
    "start_time": "2022-03-14T08:07:26.044Z"
   },
   {
    "duration": 246,
    "start_time": "2022-03-14T08:07:26.381Z"
   },
   {
    "duration": 13,
    "start_time": "2022-03-14T08:07:26.632Z"
   },
   {
    "duration": 37,
    "start_time": "2022-03-14T08:07:26.647Z"
   },
   {
    "duration": 7,
    "start_time": "2022-03-14T08:07:26.687Z"
   },
   {
    "duration": 363,
    "start_time": "2022-03-14T08:07:26.697Z"
   },
   {
    "duration": 8,
    "start_time": "2022-03-14T08:07:27.063Z"
   },
   {
    "duration": 16,
    "start_time": "2022-03-14T08:07:27.073Z"
   },
   {
    "duration": 53,
    "start_time": "2022-03-14T08:07:27.092Z"
   },
   {
    "duration": 7,
    "start_time": "2022-03-14T08:07:27.148Z"
   },
   {
    "duration": 9,
    "start_time": "2022-03-14T08:07:27.158Z"
   },
   {
    "duration": 13,
    "start_time": "2022-03-14T08:07:27.170Z"
   },
   {
    "duration": 315,
    "start_time": "2022-03-14T08:07:27.233Z"
   },
   {
    "duration": 459,
    "start_time": "2022-03-14T08:07:27.551Z"
   },
   {
    "duration": 34,
    "start_time": "2022-03-14T08:07:28.013Z"
   },
   {
    "duration": 6,
    "start_time": "2022-03-14T08:07:28.050Z"
   },
   {
    "duration": 493,
    "start_time": "2022-03-14T08:07:28.059Z"
   },
   {
    "duration": 12,
    "start_time": "2022-03-14T08:07:28.555Z"
   },
   {
    "duration": 9,
    "start_time": "2022-03-14T08:07:28.570Z"
   },
   {
    "duration": 52,
    "start_time": "2022-03-14T08:07:28.582Z"
   },
   {
    "duration": 14,
    "start_time": "2022-03-14T08:07:28.637Z"
   },
   {
    "duration": 81,
    "start_time": "2022-03-14T08:07:28.654Z"
   },
   {
    "duration": 54,
    "start_time": "2022-03-14T08:07:28.738Z"
   },
   {
    "duration": 39,
    "start_time": "2022-03-14T08:07:28.795Z"
   },
   {
    "duration": 33,
    "start_time": "2022-03-14T08:07:28.838Z"
   },
   {
    "duration": 71,
    "start_time": "2022-03-14T08:07:28.874Z"
   },
   {
    "duration": 13,
    "start_time": "2022-03-14T08:07:28.948Z"
   },
   {
    "duration": 70,
    "start_time": "2022-03-14T08:07:28.974Z"
   },
   {
    "duration": 30,
    "start_time": "2022-03-14T08:07:29.048Z"
   },
   {
    "duration": 53,
    "start_time": "2022-03-14T08:07:29.081Z"
   },
   {
    "duration": 28,
    "start_time": "2022-03-14T08:07:29.136Z"
   },
   {
    "duration": 22,
    "start_time": "2022-03-14T08:07:29.166Z"
   },
   {
    "duration": 77,
    "start_time": "2022-03-14T08:07:29.191Z"
   },
   {
    "duration": 34,
    "start_time": "2022-03-14T08:07:29.271Z"
   },
   {
    "duration": 25,
    "start_time": "2022-03-14T08:07:29.308Z"
   },
   {
    "duration": 40,
    "start_time": "2022-03-14T08:07:29.337Z"
   },
   {
    "duration": 66,
    "start_time": "2022-03-14T08:07:29.380Z"
   },
   {
    "duration": 34,
    "start_time": "2022-03-14T08:07:29.449Z"
   },
   {
    "duration": 12,
    "start_time": "2022-03-14T08:07:29.485Z"
   },
   {
    "duration": 16,
    "start_time": "2022-03-14T08:07:29.534Z"
   },
   {
    "duration": 11,
    "start_time": "2022-03-14T08:07:29.553Z"
   },
   {
    "duration": 443,
    "start_time": "2022-03-14T08:07:29.566Z"
   },
   {
    "duration": 46,
    "start_time": "2022-03-14T08:07:30.011Z"
   },
   {
    "duration": 24,
    "start_time": "2022-03-14T08:07:30.060Z"
   },
   {
    "duration": 19,
    "start_time": "2022-03-14T08:07:30.087Z"
   },
   {
    "duration": 39,
    "start_time": "2022-03-14T08:09:18.253Z"
   },
   {
    "duration": 10,
    "start_time": "2022-03-14T08:18:56.589Z"
   },
   {
    "duration": 405,
    "start_time": "2022-03-14T08:18:58.235Z"
   },
   {
    "duration": 40,
    "start_time": "2022-03-14T08:18:59.237Z"
   },
   {
    "duration": 32,
    "start_time": "2022-03-14T08:20:13.803Z"
   },
   {
    "duration": 41,
    "start_time": "2022-03-14T08:28:40.392Z"
   },
   {
    "duration": 366,
    "start_time": "2022-03-14T08:38:46.123Z"
   },
   {
    "duration": 372,
    "start_time": "2022-03-14T08:39:13.509Z"
   },
   {
    "duration": 665,
    "start_time": "2022-03-14T08:39:22.760Z"
   },
   {
    "duration": 325,
    "start_time": "2022-03-14T08:40:13.016Z"
   },
   {
    "duration": 421,
    "start_time": "2022-03-14T08:41:11.121Z"
   },
   {
    "duration": 35,
    "start_time": "2022-03-14T08:43:21.485Z"
   },
   {
    "duration": 747,
    "start_time": "2022-03-14T09:09:40.347Z"
   },
   {
    "duration": 126,
    "start_time": "2022-03-14T09:13:47.148Z"
   },
   {
    "duration": 778,
    "start_time": "2022-03-14T09:14:09.640Z"
   },
   {
    "duration": 693,
    "start_time": "2022-03-14T09:15:12.189Z"
   },
   {
    "duration": 728,
    "start_time": "2022-03-14T09:15:21.317Z"
   },
   {
    "duration": 808,
    "start_time": "2022-03-14T09:15:26.328Z"
   },
   {
    "duration": 697,
    "start_time": "2022-03-14T09:16:37.138Z"
   },
   {
    "duration": 706,
    "start_time": "2022-03-14T09:18:18.492Z"
   },
   {
    "duration": 707,
    "start_time": "2022-03-14T09:18:36.509Z"
   },
   {
    "duration": 693,
    "start_time": "2022-03-14T09:19:52.452Z"
   },
   {
    "duration": 706,
    "start_time": "2022-03-14T09:20:03.512Z"
   },
   {
    "duration": 696,
    "start_time": "2022-03-14T09:21:24.068Z"
   },
   {
    "duration": 584,
    "start_time": "2022-03-14T09:21:43.364Z"
   },
   {
    "duration": 820,
    "start_time": "2022-03-14T09:25:24.573Z"
   },
   {
    "duration": 110,
    "start_time": "2022-03-14T10:57:38.415Z"
   },
   {
    "duration": 489,
    "start_time": "2022-03-14T10:58:04.381Z"
   },
   {
    "duration": 15,
    "start_time": "2022-03-14T11:08:24.429Z"
   },
   {
    "duration": 17,
    "start_time": "2022-03-14T11:09:13.568Z"
   },
   {
    "duration": 16,
    "start_time": "2022-03-14T11:09:21.757Z"
   },
   {
    "duration": 15,
    "start_time": "2022-03-14T11:11:46.188Z"
   },
   {
    "duration": 59,
    "start_time": "2022-03-14T11:28:35.034Z"
   },
   {
    "duration": 1348,
    "start_time": "2022-03-14T11:30:07.601Z"
   },
   {
    "duration": 1014,
    "start_time": "2022-03-14T11:30:55.834Z"
   },
   {
    "duration": 18,
    "start_time": "2022-03-14T11:31:05.801Z"
   },
   {
    "duration": 16,
    "start_time": "2022-03-14T11:31:29.058Z"
   },
   {
    "duration": 832,
    "start_time": "2022-03-14T11:36:23.000Z"
   },
   {
    "duration": 632,
    "start_time": "2022-03-14T11:36:29.392Z"
   },
   {
    "duration": 40,
    "start_time": "2022-03-14T11:36:57.862Z"
   },
   {
    "duration": 41,
    "start_time": "2022-03-14T11:37:33.579Z"
   },
   {
    "duration": 45,
    "start_time": "2022-03-14T12:06:30.535Z"
   },
   {
    "duration": 17,
    "start_time": "2022-03-15T07:31:04.314Z"
   },
   {
    "duration": 1176,
    "start_time": "2022-03-15T09:31:56.487Z"
   },
   {
    "duration": 1199,
    "start_time": "2022-03-15T09:32:11.848Z"
   },
   {
    "duration": 1233,
    "start_time": "2022-03-15T09:32:19.733Z"
   },
   {
    "duration": 1071,
    "start_time": "2022-03-15T09:32:28.581Z"
   },
   {
    "duration": 684,
    "start_time": "2022-03-15T09:32:39.016Z"
   },
   {
    "duration": 64,
    "start_time": "2022-03-15T10:35:28.357Z"
   },
   {
    "duration": 370,
    "start_time": "2022-03-15T10:39:44.487Z"
   },
   {
    "duration": 59,
    "start_time": "2022-03-15T10:39:48.064Z"
   },
   {
    "duration": 4,
    "start_time": "2022-03-15T10:52:41.488Z"
   },
   {
    "duration": 222,
    "start_time": "2022-03-15T10:52:41.559Z"
   },
   {
    "duration": 61,
    "start_time": "2022-03-15T10:52:41.784Z"
   },
   {
    "duration": 140,
    "start_time": "2022-03-15T10:52:41.850Z"
   },
   {
    "duration": 20,
    "start_time": "2022-03-15T10:52:41.993Z"
   },
   {
    "duration": 233,
    "start_time": "2022-03-15T10:52:42.016Z"
   },
   {
    "duration": 23,
    "start_time": "2022-03-15T10:52:42.251Z"
   },
   {
    "duration": 30,
    "start_time": "2022-03-15T10:52:42.276Z"
   },
   {
    "duration": 37,
    "start_time": "2022-03-15T10:52:42.308Z"
   },
   {
    "duration": 58,
    "start_time": "2022-03-15T10:52:42.350Z"
   },
   {
    "duration": 9,
    "start_time": "2022-03-15T10:52:42.411Z"
   },
   {
    "duration": 39,
    "start_time": "2022-03-15T10:52:42.422Z"
   },
   {
    "duration": 19,
    "start_time": "2022-03-15T10:52:42.464Z"
   },
   {
    "duration": 59,
    "start_time": "2022-03-15T10:52:42.485Z"
   },
   {
    "duration": 28,
    "start_time": "2022-03-15T10:52:42.547Z"
   },
   {
    "duration": 19,
    "start_time": "2022-03-15T10:52:42.577Z"
   },
   {
    "duration": 59,
    "start_time": "2022-03-15T10:52:42.598Z"
   },
   {
    "duration": 9,
    "start_time": "2022-03-15T10:52:42.659Z"
   },
   {
    "duration": 12,
    "start_time": "2022-03-15T10:52:42.670Z"
   },
   {
    "duration": 177,
    "start_time": "2022-03-15T10:52:42.684Z"
   },
   {
    "duration": 55,
    "start_time": "2022-03-15T10:52:42.863Z"
   },
   {
    "duration": 124,
    "start_time": "2022-03-15T10:52:42.921Z"
   },
   {
    "duration": 8,
    "start_time": "2022-03-15T10:52:43.048Z"
   },
   {
    "duration": 7,
    "start_time": "2022-03-15T10:52:43.059Z"
   },
   {
    "duration": 334,
    "start_time": "2022-03-15T10:52:43.069Z"
   },
   {
    "duration": 8,
    "start_time": "2022-03-15T10:52:43.405Z"
   },
   {
    "duration": 87,
    "start_time": "2022-03-15T10:52:43.415Z"
   },
   {
    "duration": 62,
    "start_time": "2022-03-15T10:52:43.508Z"
   },
   {
    "duration": 342,
    "start_time": "2022-03-15T10:52:43.574Z"
   },
   {
    "duration": 352,
    "start_time": "2022-03-15T10:52:43.918Z"
   },
   {
    "duration": 264,
    "start_time": "2022-03-15T10:52:44.272Z"
   },
   {
    "duration": 9,
    "start_time": "2022-03-15T10:52:44.538Z"
   },
   {
    "duration": 344,
    "start_time": "2022-03-15T10:52:44.549Z"
   },
   {
    "duration": 61,
    "start_time": "2022-03-15T10:52:44.896Z"
   },
   {
    "duration": 29,
    "start_time": "2022-03-15T10:52:44.960Z"
   },
   {
    "duration": 347,
    "start_time": "2022-03-15T10:52:44.991Z"
   },
   {
    "duration": 8,
    "start_time": "2022-03-15T10:52:45.344Z"
   },
   {
    "duration": 11,
    "start_time": "2022-03-15T10:52:45.355Z"
   },
   {
    "duration": 553,
    "start_time": "2022-03-15T10:52:45.369Z"
   },
   {
    "duration": 264,
    "start_time": "2022-03-15T10:52:45.926Z"
   },
   {
    "duration": 17,
    "start_time": "2022-03-15T10:52:46.193Z"
   },
   {
    "duration": 337,
    "start_time": "2022-03-15T10:52:46.212Z"
   },
   {
    "duration": 252,
    "start_time": "2022-03-15T10:52:46.552Z"
   },
   {
    "duration": 15,
    "start_time": "2022-03-15T10:52:46.807Z"
   },
   {
    "duration": 30,
    "start_time": "2022-03-15T10:52:46.843Z"
   },
   {
    "duration": 7,
    "start_time": "2022-03-15T10:52:46.875Z"
   },
   {
    "duration": 351,
    "start_time": "2022-03-15T10:52:46.884Z"
   },
   {
    "duration": 13,
    "start_time": "2022-03-15T10:52:47.237Z"
   },
   {
    "duration": 12,
    "start_time": "2022-03-15T10:52:47.252Z"
   },
   {
    "duration": 14,
    "start_time": "2022-03-15T10:52:47.267Z"
   },
   {
    "duration": 7,
    "start_time": "2022-03-15T10:52:47.283Z"
   },
   {
    "duration": 15,
    "start_time": "2022-03-15T10:52:47.344Z"
   },
   {
    "duration": 9,
    "start_time": "2022-03-15T10:52:47.361Z"
   },
   {
    "duration": 321,
    "start_time": "2022-03-15T10:52:47.372Z"
   },
   {
    "duration": 338,
    "start_time": "2022-03-15T10:52:47.695Z"
   },
   {
    "duration": 21,
    "start_time": "2022-03-15T10:52:48.043Z"
   },
   {
    "duration": 10,
    "start_time": "2022-03-15T10:52:48.066Z"
   },
   {
    "duration": 371,
    "start_time": "2022-03-15T10:52:48.078Z"
   },
   {
    "duration": 10,
    "start_time": "2022-03-15T10:52:48.452Z"
   },
   {
    "duration": 10,
    "start_time": "2022-03-15T10:52:48.464Z"
   },
   {
    "duration": 7,
    "start_time": "2022-03-15T10:52:48.476Z"
   },
   {
    "duration": 59,
    "start_time": "2022-03-15T10:52:48.486Z"
   },
   {
    "duration": 42,
    "start_time": "2022-03-15T10:52:48.548Z"
   },
   {
    "duration": 15,
    "start_time": "2022-03-15T10:52:48.592Z"
   },
   {
    "duration": 37,
    "start_time": "2022-03-15T10:52:48.644Z"
   },
   {
    "duration": 30,
    "start_time": "2022-03-15T10:52:48.683Z"
   },
   {
    "duration": 52,
    "start_time": "2022-03-15T10:52:48.715Z"
   },
   {
    "duration": 34,
    "start_time": "2022-03-15T10:52:48.769Z"
   },
   {
    "duration": 62,
    "start_time": "2022-03-15T10:52:48.806Z"
   },
   {
    "duration": 29,
    "start_time": "2022-03-15T10:52:48.871Z"
   },
   {
    "duration": 32,
    "start_time": "2022-03-15T10:52:48.942Z"
   },
   {
    "duration": 21,
    "start_time": "2022-03-15T10:52:48.977Z"
   },
   {
    "duration": 74,
    "start_time": "2022-03-15T10:52:49.001Z"
   },
   {
    "duration": 64,
    "start_time": "2022-03-15T10:52:49.078Z"
   },
   {
    "duration": 11,
    "start_time": "2022-03-15T10:52:49.146Z"
   },
   {
    "duration": 24,
    "start_time": "2022-03-15T10:52:49.160Z"
   },
   {
    "duration": 74,
    "start_time": "2022-03-15T10:52:49.186Z"
   },
   {
    "duration": 12,
    "start_time": "2022-03-15T10:52:49.262Z"
   },
   {
    "duration": 16,
    "start_time": "2022-03-15T10:52:49.276Z"
   },
   {
    "duration": 57,
    "start_time": "2022-03-15T10:52:49.295Z"
   },
   {
    "duration": 375,
    "start_time": "2022-03-15T10:52:49.355Z"
   },
   {
    "duration": 33,
    "start_time": "2022-03-15T10:52:49.741Z"
   },
   {
    "duration": 90,
    "start_time": "2022-03-15T10:52:49.778Z"
   },
   {
    "duration": 860,
    "start_time": "2022-03-15T10:52:49.871Z"
   },
   {
    "duration": 650,
    "start_time": "2022-03-15T10:52:50.733Z"
   },
   {
    "duration": 778,
    "start_time": "2022-03-15T10:52:51.386Z"
   },
   {
    "duration": 42,
    "start_time": "2022-03-15T10:52:52.168Z"
   },
   {
    "duration": 1142,
    "start_time": "2022-03-15T10:52:52.212Z"
   },
   {
    "duration": 675,
    "start_time": "2022-03-15T10:52:53.356Z"
   },
   {
    "duration": 46,
    "start_time": "2022-03-15T10:52:54.034Z"
   },
   {
    "duration": 649,
    "start_time": "2022-03-15T10:52:54.082Z"
   },
   {
    "duration": 44,
    "start_time": "2022-03-15T10:52:54.734Z"
   },
   {
    "duration": 15,
    "start_time": "2022-03-15T10:52:54.780Z"
   },
   {
    "duration": 51,
    "start_time": "2022-03-15T10:52:54.797Z"
   },
   {
    "duration": 55,
    "start_time": "2022-03-28T06:44:24.604Z"
   },
   {
    "duration": 1135,
    "start_time": "2022-03-28T06:44:32.311Z"
   },
   {
    "duration": 190,
    "start_time": "2022-03-28T06:44:33.450Z"
   },
   {
    "duration": 62,
    "start_time": "2022-03-28T06:44:33.642Z"
   },
   {
    "duration": 154,
    "start_time": "2022-03-28T06:44:33.708Z"
   },
   {
    "duration": 50,
    "start_time": "2022-03-28T06:44:33.865Z"
   },
   {
    "duration": 271,
    "start_time": "2022-03-28T06:44:33.918Z"
   },
   {
    "duration": 42,
    "start_time": "2022-03-28T06:44:34.193Z"
   },
   {
    "duration": 32,
    "start_time": "2022-03-28T06:44:34.238Z"
   },
   {
    "duration": 34,
    "start_time": "2022-03-28T06:44:34.273Z"
   },
   {
    "duration": 37,
    "start_time": "2022-03-28T06:44:34.312Z"
   },
   {
    "duration": 31,
    "start_time": "2022-03-28T06:44:34.351Z"
   },
   {
    "duration": 18,
    "start_time": "2022-03-28T06:44:34.401Z"
   },
   {
    "duration": 15,
    "start_time": "2022-03-28T06:44:34.421Z"
   },
   {
    "duration": 65,
    "start_time": "2022-03-28T06:44:34.438Z"
   },
   {
    "duration": 33,
    "start_time": "2022-03-28T06:44:34.505Z"
   },
   {
    "duration": 26,
    "start_time": "2022-03-28T06:44:34.541Z"
   },
   {
    "duration": 31,
    "start_time": "2022-03-28T06:44:34.602Z"
   },
   {
    "duration": 11,
    "start_time": "2022-03-28T06:44:34.636Z"
   },
   {
    "duration": 23,
    "start_time": "2022-03-28T06:44:34.650Z"
   },
   {
    "duration": 131,
    "start_time": "2022-03-28T06:44:34.700Z"
   },
   {
    "duration": 76,
    "start_time": "2022-03-28T06:44:34.833Z"
   },
   {
    "duration": 92,
    "start_time": "2022-03-28T06:44:34.911Z"
   },
   {
    "duration": 8,
    "start_time": "2022-03-28T06:44:35.005Z"
   },
   {
    "duration": 44,
    "start_time": "2022-03-28T06:44:35.014Z"
   },
   {
    "duration": 167,
    "start_time": "2022-03-28T06:44:35.060Z"
   },
   {
    "duration": 8,
    "start_time": "2022-03-28T06:44:35.229Z"
   },
   {
    "duration": 100,
    "start_time": "2022-03-28T06:44:35.239Z"
   },
   {
    "duration": 40,
    "start_time": "2022-03-28T06:44:35.345Z"
   },
   {
    "duration": 286,
    "start_time": "2022-03-28T06:44:35.400Z"
   },
   {
    "duration": 256,
    "start_time": "2022-03-28T06:44:35.690Z"
   },
   {
    "duration": 320,
    "start_time": "2022-03-28T06:44:35.949Z"
   },
   {
    "duration": 8,
    "start_time": "2022-03-28T06:44:36.272Z"
   },
   {
    "duration": 301,
    "start_time": "2022-03-28T06:44:36.282Z"
   },
   {
    "duration": 68,
    "start_time": "2022-03-28T06:44:36.586Z"
   },
   {
    "duration": 61,
    "start_time": "2022-03-28T06:44:36.658Z"
   },
   {
    "duration": 338,
    "start_time": "2022-03-28T06:44:36.722Z"
   },
   {
    "duration": 9,
    "start_time": "2022-03-28T06:44:37.063Z"
   },
   {
    "duration": 31,
    "start_time": "2022-03-28T06:44:37.075Z"
   },
   {
    "duration": 192,
    "start_time": "2022-03-28T06:44:37.109Z"
   },
   {
    "duration": 336,
    "start_time": "2022-03-28T06:44:37.305Z"
   },
   {
    "duration": 18,
    "start_time": "2022-03-28T06:44:37.644Z"
   },
   {
    "duration": 186,
    "start_time": "2022-03-28T06:44:37.664Z"
   },
   {
    "duration": 256,
    "start_time": "2022-03-28T06:44:37.852Z"
   },
   {
    "duration": 12,
    "start_time": "2022-03-28T06:44:38.110Z"
   },
   {
    "duration": 29,
    "start_time": "2022-03-28T06:44:38.126Z"
   },
   {
    "duration": 7,
    "start_time": "2022-03-28T06:44:38.157Z"
   },
   {
    "duration": 222,
    "start_time": "2022-03-28T06:44:38.166Z"
   },
   {
    "duration": 12,
    "start_time": "2022-03-28T06:44:38.391Z"
   },
   {
    "duration": 25,
    "start_time": "2022-03-28T06:44:38.407Z"
   },
   {
    "duration": 27,
    "start_time": "2022-03-28T06:44:38.435Z"
   },
   {
    "duration": 41,
    "start_time": "2022-03-28T06:44:38.466Z"
   },
   {
    "duration": 13,
    "start_time": "2022-03-28T06:44:38.511Z"
   },
   {
    "duration": 13,
    "start_time": "2022-03-28T06:44:38.528Z"
   },
   {
    "duration": 191,
    "start_time": "2022-03-28T06:44:38.545Z"
   },
   {
    "duration": 327,
    "start_time": "2022-03-28T06:44:38.740Z"
   },
   {
    "duration": 35,
    "start_time": "2022-03-28T06:44:39.070Z"
   },
   {
    "duration": 12,
    "start_time": "2022-03-28T06:44:39.109Z"
   },
   {
    "duration": 554,
    "start_time": "2022-03-28T06:44:39.126Z"
   },
   {
    "duration": 21,
    "start_time": "2022-03-28T06:44:39.683Z"
   },
   {
    "duration": 20,
    "start_time": "2022-03-28T06:44:39.707Z"
   },
   {
    "duration": 49,
    "start_time": "2022-03-28T06:44:39.730Z"
   },
   {
    "duration": 19,
    "start_time": "2022-03-28T06:44:39.782Z"
   },
   {
    "duration": 43,
    "start_time": "2022-03-28T06:44:39.803Z"
   },
   {
    "duration": 31,
    "start_time": "2022-03-28T06:44:39.849Z"
   },
   {
    "duration": 71,
    "start_time": "2022-03-28T06:44:39.901Z"
   },
   {
    "duration": 50,
    "start_time": "2022-03-28T06:44:39.976Z"
   },
   {
    "duration": 53,
    "start_time": "2022-03-28T06:44:40.030Z"
   },
   {
    "duration": 27,
    "start_time": "2022-03-28T06:44:40.104Z"
   },
   {
    "duration": 25,
    "start_time": "2022-03-28T06:44:40.133Z"
   },
   {
    "duration": 50,
    "start_time": "2022-03-28T06:44:40.160Z"
   },
   {
    "duration": 23,
    "start_time": "2022-03-28T06:44:40.212Z"
   },
   {
    "duration": 16,
    "start_time": "2022-03-28T06:44:40.238Z"
   },
   {
    "duration": 62,
    "start_time": "2022-03-28T06:44:40.257Z"
   },
   {
    "duration": 21,
    "start_time": "2022-03-28T06:44:40.322Z"
   },
   {
    "duration": 9,
    "start_time": "2022-03-28T06:44:40.345Z"
   },
   {
    "duration": 50,
    "start_time": "2022-03-28T06:44:40.357Z"
   },
   {
    "duration": 33,
    "start_time": "2022-03-28T06:44:40.410Z"
   },
   {
    "duration": 17,
    "start_time": "2022-03-28T06:44:40.445Z"
   },
   {
    "duration": 53,
    "start_time": "2022-03-28T06:44:40.464Z"
   },
   {
    "duration": 8,
    "start_time": "2022-03-28T06:44:40.520Z"
   },
   {
    "duration": 145,
    "start_time": "2022-03-28T06:44:40.531Z"
   },
   {
    "duration": 33,
    "start_time": "2022-03-28T06:44:40.684Z"
   },
   {
    "duration": 45,
    "start_time": "2022-03-28T06:44:40.719Z"
   },
   {
    "duration": 512,
    "start_time": "2022-03-28T06:44:40.768Z"
   },
   {
    "duration": 573,
    "start_time": "2022-03-28T06:44:41.285Z"
   },
   {
    "duration": 763,
    "start_time": "2022-03-28T06:44:41.862Z"
   },
   {
    "duration": 86,
    "start_time": "2022-03-28T06:44:42.629Z"
   },
   {
    "duration": 721,
    "start_time": "2022-03-28T06:44:42.719Z"
   },
   {
    "duration": 795,
    "start_time": "2022-03-28T06:44:43.442Z"
   },
   {
    "duration": 73,
    "start_time": "2022-03-28T06:44:44.241Z"
   },
   {
    "duration": 608,
    "start_time": "2022-03-28T06:44:44.317Z"
   },
   {
    "duration": 56,
    "start_time": "2022-03-28T06:44:44.929Z"
   },
   {
    "duration": 737,
    "start_time": "2022-03-28T06:44:45.003Z"
   },
   {
    "duration": 21,
    "start_time": "2022-03-28T06:44:45.745Z"
   },
   {
    "duration": 4,
    "start_time": "2022-03-28T07:24:44.358Z"
   },
   {
    "duration": 2661,
    "start_time": "2022-03-28T07:25:12.984Z"
   },
   {
    "duration": 4,
    "start_time": "2022-03-28T07:25:40.769Z"
   },
   {
    "duration": 187,
    "start_time": "2022-03-28T07:25:40.778Z"
   },
   {
    "duration": 41,
    "start_time": "2022-03-28T07:25:40.967Z"
   },
   {
    "duration": 123,
    "start_time": "2022-03-28T07:25:41.010Z"
   },
   {
    "duration": 40,
    "start_time": "2022-03-28T07:25:41.139Z"
   },
   {
    "duration": 266,
    "start_time": "2022-03-28T07:25:41.200Z"
   },
   {
    "duration": 57,
    "start_time": "2022-03-28T07:25:41.469Z"
   },
   {
    "duration": 24,
    "start_time": "2022-03-28T07:25:41.529Z"
   },
   {
    "duration": 20,
    "start_time": "2022-03-28T07:25:41.555Z"
   },
   {
    "duration": 55,
    "start_time": "2022-03-28T07:25:41.577Z"
   },
   {
    "duration": 20,
    "start_time": "2022-03-28T07:25:41.637Z"
   },
   {
    "duration": 46,
    "start_time": "2022-03-28T07:25:41.659Z"
   },
   {
    "duration": 28,
    "start_time": "2022-03-28T07:25:41.709Z"
   },
   {
    "duration": 64,
    "start_time": "2022-03-28T07:25:41.741Z"
   },
   {
    "duration": 26,
    "start_time": "2022-03-28T07:25:41.807Z"
   },
   {
    "duration": 19,
    "start_time": "2022-03-28T07:25:41.835Z"
   },
   {
    "duration": 59,
    "start_time": "2022-03-28T07:25:41.857Z"
   },
   {
    "duration": 8,
    "start_time": "2022-03-28T07:25:41.918Z"
   },
   {
    "duration": 13,
    "start_time": "2022-03-28T07:25:41.929Z"
   },
   {
    "duration": 169,
    "start_time": "2022-03-28T07:25:41.944Z"
   },
   {
    "duration": 59,
    "start_time": "2022-03-28T07:25:42.116Z"
   },
   {
    "duration": 102,
    "start_time": "2022-03-28T07:25:42.177Z"
   },
   {
    "duration": 25,
    "start_time": "2022-03-28T07:25:42.281Z"
   },
   {
    "duration": 12,
    "start_time": "2022-03-28T07:25:42.308Z"
   },
   {
    "duration": 156,
    "start_time": "2022-03-28T07:25:42.322Z"
   },
   {
    "duration": 6,
    "start_time": "2022-03-28T07:25:42.480Z"
   },
   {
    "duration": 84,
    "start_time": "2022-03-28T07:25:42.488Z"
   },
   {
    "duration": 49,
    "start_time": "2022-03-28T07:25:42.574Z"
   },
   {
    "duration": 204,
    "start_time": "2022-03-28T07:25:42.628Z"
   },
   {
    "duration": 277,
    "start_time": "2022-03-28T07:25:42.833Z"
   },
   {
    "duration": 315,
    "start_time": "2022-03-28T07:25:43.112Z"
   },
   {
    "duration": 8,
    "start_time": "2022-03-28T07:25:43.430Z"
   },
   {
    "duration": 182,
    "start_time": "2022-03-28T07:25:43.439Z"
   },
   {
    "duration": 37,
    "start_time": "2022-03-28T07:25:43.623Z"
   },
   {
    "duration": 52,
    "start_time": "2022-03-28T07:25:43.662Z"
   },
   {
    "duration": 185,
    "start_time": "2022-03-28T07:25:43.716Z"
   },
   {
    "duration": 6,
    "start_time": "2022-03-28T07:25:43.903Z"
   },
   {
    "duration": 11,
    "start_time": "2022-03-28T07:25:43.911Z"
   },
   {
    "duration": 192,
    "start_time": "2022-03-28T07:25:43.924Z"
   },
   {
    "duration": 254,
    "start_time": "2022-03-28T07:25:44.119Z"
   },
   {
    "duration": 31,
    "start_time": "2022-03-28T07:25:44.376Z"
   },
   {
    "duration": 174,
    "start_time": "2022-03-28T07:25:44.409Z"
   },
   {
    "duration": 253,
    "start_time": "2022-03-28T07:25:44.585Z"
   },
   {
    "duration": 11,
    "start_time": "2022-03-28T07:25:44.840Z"
   },
   {
    "duration": 57,
    "start_time": "2022-03-28T07:25:44.852Z"
   },
   {
    "duration": 6,
    "start_time": "2022-03-28T07:25:44.911Z"
   },
   {
    "duration": 206,
    "start_time": "2022-03-28T07:25:44.919Z"
   },
   {
    "duration": 7,
    "start_time": "2022-03-28T07:25:45.127Z"
   },
   {
    "duration": 11,
    "start_time": "2022-03-28T07:25:45.136Z"
   },
   {
    "duration": 14,
    "start_time": "2022-03-28T07:25:45.149Z"
   },
   {
    "duration": 38,
    "start_time": "2022-03-28T07:25:45.165Z"
   },
   {
    "duration": 10,
    "start_time": "2022-03-28T07:25:45.206Z"
   },
   {
    "duration": 12,
    "start_time": "2022-03-28T07:25:45.218Z"
   },
   {
    "duration": 150,
    "start_time": "2022-03-28T07:25:45.232Z"
   },
   {
    "duration": 165,
    "start_time": "2022-03-28T07:25:45.384Z"
   },
   {
    "duration": 17,
    "start_time": "2022-03-28T07:25:45.552Z"
   },
   {
    "duration": 11,
    "start_time": "2022-03-28T07:25:45.571Z"
   },
   {
    "duration": 375,
    "start_time": "2022-03-28T07:25:45.602Z"
   },
   {
    "duration": 23,
    "start_time": "2022-03-28T07:25:45.980Z"
   },
   {
    "duration": 7,
    "start_time": "2022-03-28T07:25:46.005Z"
   },
   {
    "duration": 13,
    "start_time": "2022-03-28T07:25:46.014Z"
   },
   {
    "duration": 13,
    "start_time": "2022-03-28T07:25:46.029Z"
   },
   {
    "duration": 67,
    "start_time": "2022-03-28T07:25:46.044Z"
   },
   {
    "duration": 16,
    "start_time": "2022-03-28T07:25:46.114Z"
   },
   {
    "duration": 32,
    "start_time": "2022-03-28T07:25:46.133Z"
   },
   {
    "duration": 51,
    "start_time": "2022-03-28T07:25:46.168Z"
   },
   {
    "duration": 24,
    "start_time": "2022-03-28T07:25:46.221Z"
   },
   {
    "duration": 59,
    "start_time": "2022-03-28T07:25:46.247Z"
   },
   {
    "duration": 23,
    "start_time": "2022-03-28T07:25:46.308Z"
   },
   {
    "duration": 17,
    "start_time": "2022-03-28T07:25:46.332Z"
   },
   {
    "duration": 19,
    "start_time": "2022-03-28T07:25:46.351Z"
   },
   {
    "duration": 14,
    "start_time": "2022-03-28T07:25:46.401Z"
   },
   {
    "duration": 4,
    "start_time": "2022-03-28T07:25:46.417Z"
   },
   {
    "duration": 7,
    "start_time": "2022-03-28T07:25:46.423Z"
   },
   {
    "duration": 24,
    "start_time": "2022-03-28T07:25:46.431Z"
   },
   {
    "duration": 21,
    "start_time": "2022-03-28T07:25:46.500Z"
   },
   {
    "duration": 5,
    "start_time": "2022-03-28T07:25:46.523Z"
   },
   {
    "duration": 23,
    "start_time": "2022-03-28T07:25:46.529Z"
   },
   {
    "duration": 50,
    "start_time": "2022-03-28T07:25:46.554Z"
   },
   {
    "duration": 14,
    "start_time": "2022-03-28T07:25:46.606Z"
   },
   {
    "duration": 18,
    "start_time": "2022-03-28T07:25:46.621Z"
   },
   {
    "duration": 7,
    "start_time": "2022-03-28T07:25:46.641Z"
   },
   {
    "duration": 149,
    "start_time": "2022-03-28T07:25:46.654Z"
   },
   {
    "duration": 24,
    "start_time": "2022-03-28T07:25:46.805Z"
   },
   {
    "duration": 40,
    "start_time": "2022-03-28T07:25:46.831Z"
   },
   {
    "duration": 476,
    "start_time": "2022-03-28T07:25:46.873Z"
   },
   {
    "duration": 273,
    "start_time": "2022-03-28T07:25:47.351Z"
   },
   {
    "duration": 706,
    "start_time": "2022-03-28T07:25:47.626Z"
   },
   {
    "duration": 68,
    "start_time": "2022-03-28T07:25:48.335Z"
   },
   {
    "duration": 701,
    "start_time": "2022-03-28T07:25:48.406Z"
   },
   {
    "duration": 642,
    "start_time": "2022-03-28T07:25:49.111Z"
   },
   {
    "duration": 44,
    "start_time": "2022-03-28T07:25:49.757Z"
   },
   {
    "duration": 278,
    "start_time": "2022-03-28T07:25:49.803Z"
   },
   {
    "duration": 39,
    "start_time": "2022-03-28T07:25:50.083Z"
   },
   {
    "duration": 13,
    "start_time": "2022-03-28T07:25:50.124Z"
   },
   {
    "duration": 13,
    "start_time": "2022-03-28T07:25:50.139Z"
   },
   {
    "duration": 7,
    "start_time": "2022-03-28T07:31:41.286Z"
   },
   {
    "duration": 3,
    "start_time": "2022-03-28T07:32:59.879Z"
   },
   {
    "duration": 178,
    "start_time": "2022-03-28T07:32:59.885Z"
   },
   {
    "duration": 43,
    "start_time": "2022-03-28T07:33:00.065Z"
   },
   {
    "duration": 106,
    "start_time": "2022-03-28T07:33:00.110Z"
   },
   {
    "duration": 22,
    "start_time": "2022-03-28T07:33:00.218Z"
   },
   {
    "duration": 158,
    "start_time": "2022-03-28T07:33:00.243Z"
   },
   {
    "duration": 24,
    "start_time": "2022-03-28T07:33:00.403Z"
   },
   {
    "duration": 30,
    "start_time": "2022-03-28T07:33:00.429Z"
   },
   {
    "duration": 13,
    "start_time": "2022-03-28T07:33:00.460Z"
   },
   {
    "duration": 34,
    "start_time": "2022-03-28T07:33:00.475Z"
   },
   {
    "duration": 151,
    "start_time": "2022-03-28T07:33:00.511Z"
   },
   {
    "duration": 20,
    "start_time": "2022-03-28T07:33:00.665Z"
   },
   {
    "duration": 12,
    "start_time": "2022-03-28T07:33:00.702Z"
   },
   {
    "duration": 29,
    "start_time": "2022-03-28T07:33:00.720Z"
   },
   {
    "duration": 59,
    "start_time": "2022-03-28T07:33:00.752Z"
   },
   {
    "duration": 28,
    "start_time": "2022-03-28T07:33:00.814Z"
   },
   {
    "duration": 31,
    "start_time": "2022-03-28T07:33:00.845Z"
   },
   {
    "duration": 11,
    "start_time": "2022-03-28T07:33:00.902Z"
   },
   {
    "duration": 11,
    "start_time": "2022-03-28T07:33:00.915Z"
   },
   {
    "duration": 197,
    "start_time": "2022-03-28T07:33:00.929Z"
   },
   {
    "duration": 79,
    "start_time": "2022-03-28T07:33:01.129Z"
   },
   {
    "duration": 98,
    "start_time": "2022-03-28T07:33:01.210Z"
   },
   {
    "duration": 8,
    "start_time": "2022-03-28T07:33:01.310Z"
   },
   {
    "duration": 22,
    "start_time": "2022-03-28T07:33:01.321Z"
   },
   {
    "duration": 162,
    "start_time": "2022-03-28T07:33:01.345Z"
   },
   {
    "duration": 7,
    "start_time": "2022-03-28T07:33:01.509Z"
   },
   {
    "duration": 92,
    "start_time": "2022-03-28T07:33:01.518Z"
   },
   {
    "duration": 38,
    "start_time": "2022-03-28T07:33:01.612Z"
   },
   {
    "duration": 224,
    "start_time": "2022-03-28T07:33:01.652Z"
   },
   {
    "duration": 199,
    "start_time": "2022-03-28T07:33:01.878Z"
   },
   {
    "duration": 324,
    "start_time": "2022-03-28T07:33:02.079Z"
   },
   {
    "duration": 9,
    "start_time": "2022-03-28T07:33:02.405Z"
   },
   {
    "duration": 184,
    "start_time": "2022-03-28T07:33:02.416Z"
   },
   {
    "duration": 37,
    "start_time": "2022-03-28T07:33:02.603Z"
   },
   {
    "duration": 22,
    "start_time": "2022-03-28T07:33:02.641Z"
   },
   {
    "duration": 208,
    "start_time": "2022-03-28T07:33:02.665Z"
   },
   {
    "duration": 7,
    "start_time": "2022-03-28T07:33:02.875Z"
   },
   {
    "duration": 21,
    "start_time": "2022-03-28T07:33:02.884Z"
   },
   {
    "duration": 192,
    "start_time": "2022-03-28T07:33:02.908Z"
   },
   {
    "duration": 264,
    "start_time": "2022-03-28T07:33:03.103Z"
   },
   {
    "duration": 28,
    "start_time": "2022-03-28T07:33:03.373Z"
   },
   {
    "duration": 255,
    "start_time": "2022-03-28T07:33:03.404Z"
   },
   {
    "duration": 241,
    "start_time": "2022-03-28T07:33:03.662Z"
   },
   {
    "duration": 11,
    "start_time": "2022-03-28T07:33:03.905Z"
   },
   {
    "duration": 30,
    "start_time": "2022-03-28T07:33:03.917Z"
   },
   {
    "duration": 6,
    "start_time": "2022-03-28T07:33:03.949Z"
   },
   {
    "duration": 202,
    "start_time": "2022-03-28T07:33:03.957Z"
   },
   {
    "duration": 6,
    "start_time": "2022-03-28T07:33:04.161Z"
   },
   {
    "duration": 33,
    "start_time": "2022-03-28T07:33:04.169Z"
   },
   {
    "duration": 15,
    "start_time": "2022-03-28T07:33:04.205Z"
   },
   {
    "duration": 10,
    "start_time": "2022-03-28T07:33:04.222Z"
   },
   {
    "duration": 13,
    "start_time": "2022-03-28T07:33:04.234Z"
   },
   {
    "duration": 21,
    "start_time": "2022-03-28T07:33:04.249Z"
   },
   {
    "duration": 159,
    "start_time": "2022-03-28T07:33:04.272Z"
   },
   {
    "duration": 177,
    "start_time": "2022-03-28T07:33:04.432Z"
   },
   {
    "duration": 16,
    "start_time": "2022-03-28T07:33:04.610Z"
   },
   {
    "duration": 16,
    "start_time": "2022-03-28T07:33:04.628Z"
   },
   {
    "duration": 318,
    "start_time": "2022-03-28T07:33:04.646Z"
   },
   {
    "duration": 10,
    "start_time": "2022-03-28T07:33:04.966Z"
   },
   {
    "duration": 24,
    "start_time": "2022-03-28T07:33:04.978Z"
   },
   {
    "duration": 6,
    "start_time": "2022-03-28T07:33:05.004Z"
   },
   {
    "duration": 13,
    "start_time": "2022-03-28T07:33:05.012Z"
   },
   {
    "duration": 38,
    "start_time": "2022-03-28T07:33:05.027Z"
   },
   {
    "duration": 42,
    "start_time": "2022-03-28T07:33:05.067Z"
   },
   {
    "duration": 31,
    "start_time": "2022-03-28T07:33:05.111Z"
   },
   {
    "duration": 23,
    "start_time": "2022-03-28T07:33:05.144Z"
   },
   {
    "duration": 49,
    "start_time": "2022-03-28T07:33:05.169Z"
   },
   {
    "duration": 26,
    "start_time": "2022-03-28T07:33:05.220Z"
   },
   {
    "duration": 54,
    "start_time": "2022-03-28T07:33:05.248Z"
   },
   {
    "duration": 18,
    "start_time": "2022-03-28T07:33:05.304Z"
   },
   {
    "duration": 19,
    "start_time": "2022-03-28T07:33:05.325Z"
   },
   {
    "duration": 14,
    "start_time": "2022-03-28T07:33:05.346Z"
   },
   {
    "duration": 41,
    "start_time": "2022-03-28T07:33:05.361Z"
   },
   {
    "duration": 10,
    "start_time": "2022-03-28T07:33:05.404Z"
   },
   {
    "duration": 8,
    "start_time": "2022-03-28T07:33:05.416Z"
   },
   {
    "duration": 14,
    "start_time": "2022-03-28T07:33:05.425Z"
   },
   {
    "duration": 11,
    "start_time": "2022-03-28T07:33:05.441Z"
   },
   {
    "duration": 9,
    "start_time": "2022-03-28T07:33:05.455Z"
   },
   {
    "duration": 44,
    "start_time": "2022-03-28T07:33:05.466Z"
   },
   {
    "duration": 21,
    "start_time": "2022-03-28T07:33:05.512Z"
   },
   {
    "duration": 5,
    "start_time": "2022-03-28T07:33:05.535Z"
   },
   {
    "duration": 30,
    "start_time": "2022-03-28T07:33:05.542Z"
   },
   {
    "duration": 47,
    "start_time": "2022-03-28T07:33:05.574Z"
   },
   {
    "duration": 16,
    "start_time": "2022-03-28T07:33:05.623Z"
   },
   {
    "duration": 16,
    "start_time": "2022-03-28T07:33:05.641Z"
   },
   {
    "duration": 41,
    "start_time": "2022-03-28T07:33:05.660Z"
   },
   {
    "duration": 125,
    "start_time": "2022-03-28T07:33:05.703Z"
   },
   {
    "duration": 24,
    "start_time": "2022-03-28T07:33:05.830Z"
   },
   {
    "duration": 59,
    "start_time": "2022-03-28T07:33:05.856Z"
   },
   {
    "duration": 353,
    "start_time": "2022-03-28T07:33:05.917Z"
   },
   {
    "duration": 432,
    "start_time": "2022-03-28T07:33:06.272Z"
   },
   {
    "duration": 554,
    "start_time": "2022-03-28T07:33:06.707Z"
   },
   {
    "duration": 43,
    "start_time": "2022-03-28T07:33:07.263Z"
   },
   {
    "duration": 330,
    "start_time": "2022-03-28T07:33:07.309Z"
   },
   {
    "duration": 450,
    "start_time": "2022-03-28T07:33:07.641Z"
   },
   {
    "duration": 34,
    "start_time": "2022-03-28T07:33:08.094Z"
   },
   {
    "duration": 286,
    "start_time": "2022-03-28T07:33:08.130Z"
   },
   {
    "duration": 27,
    "start_time": "2022-03-28T07:33:08.418Z"
   },
   {
    "duration": 14,
    "start_time": "2022-03-28T07:33:08.446Z"
   },
   {
    "duration": 39,
    "start_time": "2022-03-28T07:33:08.462Z"
   },
   {
    "duration": 24,
    "start_time": "2022-03-28T08:08:21.577Z"
   },
   {
    "duration": 10,
    "start_time": "2022-03-28T08:09:33.358Z"
   },
   {
    "duration": 16,
    "start_time": "2022-03-28T08:09:45.953Z"
   },
   {
    "duration": 21,
    "start_time": "2022-03-28T08:11:32.217Z"
   },
   {
    "duration": 134,
    "start_time": "2022-03-28T08:12:49.129Z"
   },
   {
    "duration": 16,
    "start_time": "2022-03-28T08:12:55.694Z"
   },
   {
    "duration": 282,
    "start_time": "2022-03-28T08:22:22.368Z"
   },
   {
    "duration": 262,
    "start_time": "2022-03-28T08:22:48.855Z"
   },
   {
    "duration": 25,
    "start_time": "2022-03-28T08:50:58.104Z"
   },
   {
    "duration": 20,
    "start_time": "2022-03-28T08:52:30.574Z"
   },
   {
    "duration": 22,
    "start_time": "2022-03-28T08:54:31.079Z"
   },
   {
    "duration": 994,
    "start_time": "2022-03-28T09:45:08.504Z"
   },
   {
    "duration": 174,
    "start_time": "2022-03-28T09:45:09.501Z"
   },
   {
    "duration": 30,
    "start_time": "2022-03-28T09:45:09.677Z"
   },
   {
    "duration": 106,
    "start_time": "2022-03-28T09:45:09.710Z"
   },
   {
    "duration": 32,
    "start_time": "2022-03-28T09:45:09.818Z"
   },
   {
    "duration": 157,
    "start_time": "2022-03-28T09:45:09.852Z"
   },
   {
    "duration": 33,
    "start_time": "2022-03-28T09:45:10.011Z"
   },
   {
    "duration": 22,
    "start_time": "2022-03-28T09:45:10.046Z"
   },
   {
    "duration": 12,
    "start_time": "2022-03-28T09:45:10.069Z"
   },
   {
    "duration": 76,
    "start_time": "2022-03-28T09:45:10.084Z"
   },
   {
    "duration": 14,
    "start_time": "2022-03-28T09:45:10.162Z"
   },
   {
    "duration": 20,
    "start_time": "2022-03-28T09:45:10.177Z"
   },
   {
    "duration": 13,
    "start_time": "2022-03-28T09:45:10.199Z"
   },
   {
    "duration": 26,
    "start_time": "2022-03-28T09:45:10.214Z"
   },
   {
    "duration": 26,
    "start_time": "2022-03-28T09:45:10.243Z"
   },
   {
    "duration": 18,
    "start_time": "2022-03-28T09:45:10.271Z"
   },
   {
    "duration": 50,
    "start_time": "2022-03-28T09:45:10.291Z"
   },
   {
    "duration": 8,
    "start_time": "2022-03-28T09:45:10.343Z"
   },
   {
    "duration": 12,
    "start_time": "2022-03-28T09:45:10.353Z"
   },
   {
    "duration": 166,
    "start_time": "2022-03-28T09:45:10.367Z"
   },
   {
    "duration": 61,
    "start_time": "2022-03-28T09:45:10.534Z"
   },
   {
    "duration": 100,
    "start_time": "2022-03-28T09:45:10.596Z"
   },
   {
    "duration": 6,
    "start_time": "2022-03-28T09:45:10.698Z"
   },
   {
    "duration": 26,
    "start_time": "2022-03-28T09:45:10.706Z"
   },
   {
    "duration": 165,
    "start_time": "2022-03-28T09:45:10.734Z"
   },
   {
    "duration": 6,
    "start_time": "2022-03-28T09:45:10.901Z"
   },
   {
    "duration": 87,
    "start_time": "2022-03-28T09:45:10.909Z"
   },
   {
    "duration": 45,
    "start_time": "2022-03-28T09:45:11.000Z"
   },
   {
    "duration": 285,
    "start_time": "2022-03-28T09:45:11.047Z"
   },
   {
    "duration": 198,
    "start_time": "2022-03-28T09:45:11.333Z"
   },
   {
    "duration": 344,
    "start_time": "2022-03-28T09:45:11.533Z"
   },
   {
    "duration": 6,
    "start_time": "2022-03-28T09:45:11.879Z"
   },
   {
    "duration": 188,
    "start_time": "2022-03-28T09:45:11.887Z"
   },
   {
    "duration": 35,
    "start_time": "2022-03-28T09:45:12.077Z"
   },
   {
    "duration": 35,
    "start_time": "2022-03-28T09:45:12.114Z"
   },
   {
    "duration": 198,
    "start_time": "2022-03-28T09:45:12.151Z"
   },
   {
    "duration": 5,
    "start_time": "2022-03-28T09:45:12.351Z"
   },
   {
    "duration": 15,
    "start_time": "2022-03-28T09:45:12.358Z"
   },
   {
    "duration": 193,
    "start_time": "2022-03-28T09:45:12.375Z"
   },
   {
    "duration": 231,
    "start_time": "2022-03-28T09:45:12.570Z"
   },
   {
    "duration": 29,
    "start_time": "2022-03-28T09:45:12.803Z"
   },
   {
    "duration": 173,
    "start_time": "2022-03-28T09:45:12.833Z"
   },
   {
    "duration": 276,
    "start_time": "2022-03-28T09:45:13.007Z"
   },
   {
    "duration": 9,
    "start_time": "2022-03-28T09:45:13.285Z"
   },
   {
    "duration": 45,
    "start_time": "2022-03-28T09:45:13.296Z"
   },
   {
    "duration": 5,
    "start_time": "2022-03-28T09:45:13.343Z"
   },
   {
    "duration": 202,
    "start_time": "2022-03-28T09:45:13.350Z"
   },
   {
    "duration": 6,
    "start_time": "2022-03-28T09:45:13.554Z"
   },
   {
    "duration": 10,
    "start_time": "2022-03-28T09:45:13.562Z"
   },
   {
    "duration": 12,
    "start_time": "2022-03-28T09:45:13.574Z"
   },
   {
    "duration": 8,
    "start_time": "2022-03-28T09:45:13.588Z"
   },
   {
    "duration": 6,
    "start_time": "2022-03-28T09:45:13.631Z"
   },
   {
    "duration": 8,
    "start_time": "2022-03-28T09:45:13.639Z"
   },
   {
    "duration": 168,
    "start_time": "2022-03-28T09:45:13.649Z"
   },
   {
    "duration": 187,
    "start_time": "2022-03-28T09:45:13.819Z"
   },
   {
    "duration": 25,
    "start_time": "2022-03-28T09:45:14.008Z"
   },
   {
    "duration": 15,
    "start_time": "2022-03-28T09:45:14.035Z"
   },
   {
    "duration": 202,
    "start_time": "2022-03-28T09:45:14.052Z"
   },
   {
    "duration": 9,
    "start_time": "2022-03-28T09:45:14.255Z"
   },
   {
    "duration": 9,
    "start_time": "2022-03-28T09:45:14.266Z"
   },
   {
    "duration": 13,
    "start_time": "2022-03-28T09:45:14.277Z"
   },
   {
    "duration": 40,
    "start_time": "2022-03-28T09:45:14.292Z"
   },
   {
    "duration": 33,
    "start_time": "2022-03-28T09:45:14.333Z"
   },
   {
    "duration": 12,
    "start_time": "2022-03-28T09:45:14.368Z"
   },
   {
    "duration": 137,
    "start_time": "2022-03-28T09:45:14.382Z"
   },
   {
    "duration": 26,
    "start_time": "2022-03-28T09:45:14.522Z"
   },
   {
    "duration": 24,
    "start_time": "2022-03-28T09:45:14.550Z"
   },
   {
    "duration": 25,
    "start_time": "2022-03-28T09:45:14.575Z"
   },
   {
    "duration": 22,
    "start_time": "2022-03-28T09:45:14.632Z"
   },
   {
    "duration": 18,
    "start_time": "2022-03-28T09:45:14.656Z"
   },
   {
    "duration": 56,
    "start_time": "2022-03-28T09:45:14.676Z"
   },
   {
    "duration": 12,
    "start_time": "2022-03-28T09:45:14.734Z"
   },
   {
    "duration": 7,
    "start_time": "2022-03-28T09:45:14.748Z"
   },
   {
    "duration": 8,
    "start_time": "2022-03-28T09:45:14.757Z"
   },
   {
    "duration": 10,
    "start_time": "2022-03-28T09:45:14.767Z"
   },
   {
    "duration": 7,
    "start_time": "2022-03-28T09:45:14.778Z"
   },
   {
    "duration": 45,
    "start_time": "2022-03-28T09:45:14.787Z"
   },
   {
    "duration": 5,
    "start_time": "2022-03-28T09:45:14.834Z"
   },
   {
    "duration": 27,
    "start_time": "2022-03-28T09:45:14.840Z"
   },
   {
    "duration": 19,
    "start_time": "2022-03-28T09:45:14.869Z"
   },
   {
    "duration": 8,
    "start_time": "2022-03-28T09:45:14.890Z"
   },
   {
    "duration": 18,
    "start_time": "2022-03-28T09:45:14.931Z"
   },
   {
    "duration": 28,
    "start_time": "2022-03-28T09:45:14.951Z"
   },
   {
    "duration": 16,
    "start_time": "2022-03-28T09:45:14.980Z"
   },
   {
    "duration": 44,
    "start_time": "2022-03-28T09:45:14.998Z"
   },
   {
    "duration": 8,
    "start_time": "2022-03-28T09:45:15.044Z"
   },
   {
    "duration": 129,
    "start_time": "2022-03-28T09:45:15.054Z"
   },
   {
    "duration": 22,
    "start_time": "2022-03-28T09:45:15.185Z"
   },
   {
    "duration": 56,
    "start_time": "2022-03-28T09:45:15.209Z"
   },
   {
    "duration": 389,
    "start_time": "2022-03-28T09:45:15.267Z"
   },
   {
    "duration": 296,
    "start_time": "2022-03-28T09:45:15.659Z"
   },
   {
    "duration": 12,
    "start_time": "2022-03-28T09:45:15.958Z"
   },
   {
    "duration": 166,
    "start_time": "2022-03-28T09:45:15.972Z"
   },
   {
    "duration": 382,
    "start_time": "2022-03-28T09:45:16.140Z"
   },
   {
    "duration": 33,
    "start_time": "2022-03-28T09:45:16.525Z"
   },
   {
    "duration": 361,
    "start_time": "2022-03-28T09:45:16.560Z"
   },
   {
    "duration": 429,
    "start_time": "2022-03-28T09:45:16.923Z"
   },
   {
    "duration": 30,
    "start_time": "2022-03-28T09:45:17.354Z"
   },
   {
    "duration": 313,
    "start_time": "2022-03-28T09:45:17.386Z"
   },
   {
    "duration": 41,
    "start_time": "2022-03-28T09:45:17.702Z"
   },
   {
    "duration": 20,
    "start_time": "2022-03-28T09:45:17.746Z"
   },
   {
    "duration": 461,
    "start_time": "2022-03-28T09:45:17.769Z"
   },
   {
    "duration": 13,
    "start_time": "2022-03-28T09:45:18.232Z"
   },
   {
    "duration": 659,
    "start_time": "2022-03-28T16:31:29.138Z"
   },
   {
    "duration": 135,
    "start_time": "2022-03-28T16:31:29.798Z"
   },
   {
    "duration": 23,
    "start_time": "2022-03-28T16:31:29.934Z"
   },
   {
    "duration": 93,
    "start_time": "2022-03-28T16:31:29.959Z"
   },
   {
    "duration": 29,
    "start_time": "2022-03-28T16:31:30.054Z"
   },
   {
    "duration": 120,
    "start_time": "2022-03-28T16:31:30.084Z"
   },
   {
    "duration": 19,
    "start_time": "2022-03-28T16:31:30.205Z"
   },
   {
    "duration": 19,
    "start_time": "2022-03-28T16:31:30.226Z"
   },
   {
    "duration": 9,
    "start_time": "2022-03-28T16:31:30.246Z"
   },
   {
    "duration": 38,
    "start_time": "2022-03-28T16:31:30.257Z"
   },
   {
    "duration": 9,
    "start_time": "2022-03-28T16:31:30.296Z"
   },
   {
    "duration": 25,
    "start_time": "2022-03-28T16:31:30.306Z"
   },
   {
    "duration": 17,
    "start_time": "2022-03-28T16:31:30.332Z"
   },
   {
    "duration": 19,
    "start_time": "2022-03-28T16:31:30.350Z"
   },
   {
    "duration": 23,
    "start_time": "2022-03-28T16:31:30.370Z"
   },
   {
    "duration": 21,
    "start_time": "2022-03-28T16:31:30.394Z"
   },
   {
    "duration": 19,
    "start_time": "2022-03-28T16:31:30.416Z"
   },
   {
    "duration": 6,
    "start_time": "2022-03-28T16:31:30.436Z"
   },
   {
    "duration": 11,
    "start_time": "2022-03-28T16:31:30.444Z"
   },
   {
    "duration": 98,
    "start_time": "2022-03-28T16:31:30.457Z"
   },
   {
    "duration": 50,
    "start_time": "2022-03-28T16:31:30.556Z"
   },
   {
    "duration": 54,
    "start_time": "2022-03-28T16:31:30.607Z"
   },
   {
    "duration": 19,
    "start_time": "2022-03-28T16:31:30.662Z"
   },
   {
    "duration": 10,
    "start_time": "2022-03-28T16:31:30.683Z"
   },
   {
    "duration": 122,
    "start_time": "2022-03-28T16:31:30.695Z"
   },
   {
    "duration": 6,
    "start_time": "2022-03-28T16:31:30.819Z"
   },
   {
    "duration": 69,
    "start_time": "2022-03-28T16:31:30.826Z"
   },
   {
    "duration": 31,
    "start_time": "2022-03-28T16:31:30.899Z"
   },
   {
    "duration": 224,
    "start_time": "2022-03-28T16:31:30.932Z"
   },
   {
    "duration": 146,
    "start_time": "2022-03-28T16:31:31.158Z"
   },
   {
    "duration": 262,
    "start_time": "2022-03-28T16:31:31.306Z"
   },
   {
    "duration": 12,
    "start_time": "2022-03-28T16:31:31.569Z"
   },
   {
    "duration": 128,
    "start_time": "2022-03-28T16:31:31.583Z"
   },
   {
    "duration": 23,
    "start_time": "2022-03-28T16:31:31.713Z"
   },
   {
    "duration": 16,
    "start_time": "2022-03-28T16:31:31.738Z"
   },
   {
    "duration": 150,
    "start_time": "2022-03-28T16:31:31.755Z"
   },
   {
    "duration": 4,
    "start_time": "2022-03-28T16:31:31.907Z"
   },
   {
    "duration": 8,
    "start_time": "2022-03-28T16:31:31.913Z"
   },
   {
    "duration": 169,
    "start_time": "2022-03-28T16:31:31.922Z"
   },
   {
    "duration": 183,
    "start_time": "2022-03-28T16:31:32.092Z"
   },
   {
    "duration": 10,
    "start_time": "2022-03-28T16:31:32.280Z"
   },
   {
    "duration": 130,
    "start_time": "2022-03-28T16:31:32.291Z"
   },
   {
    "duration": 181,
    "start_time": "2022-03-28T16:31:32.422Z"
   },
   {
    "duration": 9,
    "start_time": "2022-03-28T16:31:32.605Z"
   },
   {
    "duration": 26,
    "start_time": "2022-03-28T16:31:32.615Z"
   },
   {
    "duration": 4,
    "start_time": "2022-03-28T16:31:32.642Z"
   },
   {
    "duration": 151,
    "start_time": "2022-03-28T16:31:32.647Z"
   },
   {
    "duration": 5,
    "start_time": "2022-03-28T16:31:32.800Z"
   },
   {
    "duration": 7,
    "start_time": "2022-03-28T16:31:32.806Z"
   },
   {
    "duration": 8,
    "start_time": "2022-03-28T16:31:32.815Z"
   },
   {
    "duration": 4,
    "start_time": "2022-03-28T16:31:32.825Z"
   },
   {
    "duration": 6,
    "start_time": "2022-03-28T16:31:32.831Z"
   },
   {
    "duration": 8,
    "start_time": "2022-03-28T16:31:32.838Z"
   },
   {
    "duration": 127,
    "start_time": "2022-03-28T16:31:32.847Z"
   },
   {
    "duration": 132,
    "start_time": "2022-03-28T16:31:32.981Z"
   },
   {
    "duration": 12,
    "start_time": "2022-03-28T16:31:33.115Z"
   },
   {
    "duration": 7,
    "start_time": "2022-03-28T16:31:33.129Z"
   },
   {
    "duration": 164,
    "start_time": "2022-03-28T16:31:33.137Z"
   },
   {
    "duration": 8,
    "start_time": "2022-03-28T16:31:33.302Z"
   },
   {
    "duration": 10,
    "start_time": "2022-03-28T16:31:33.311Z"
   },
   {
    "duration": 4,
    "start_time": "2022-03-28T16:31:33.322Z"
   },
   {
    "duration": 8,
    "start_time": "2022-03-28T16:31:33.328Z"
   },
   {
    "duration": 52,
    "start_time": "2022-03-28T16:31:33.338Z"
   },
   {
    "duration": 10,
    "start_time": "2022-03-28T16:31:33.392Z"
   },
   {
    "duration": 96,
    "start_time": "2022-03-28T16:31:33.403Z"
   },
   {
    "duration": 18,
    "start_time": "2022-03-28T16:31:33.501Z"
   },
   {
    "duration": 19,
    "start_time": "2022-03-28T16:31:33.521Z"
   },
   {
    "duration": 45,
    "start_time": "2022-03-28T16:31:33.542Z"
   },
   {
    "duration": 17,
    "start_time": "2022-03-28T16:31:33.589Z"
   },
   {
    "duration": 14,
    "start_time": "2022-03-28T16:31:33.607Z"
   },
   {
    "duration": 14,
    "start_time": "2022-03-28T16:31:33.623Z"
   },
   {
    "duration": 9,
    "start_time": "2022-03-28T16:31:33.639Z"
   },
   {
    "duration": 31,
    "start_time": "2022-03-28T16:31:33.650Z"
   },
   {
    "duration": 4,
    "start_time": "2022-03-28T16:31:33.682Z"
   },
   {
    "duration": 6,
    "start_time": "2022-03-28T16:31:33.688Z"
   },
   {
    "duration": 6,
    "start_time": "2022-03-28T16:31:33.695Z"
   },
   {
    "duration": 7,
    "start_time": "2022-03-28T16:31:33.702Z"
   },
   {
    "duration": 7,
    "start_time": "2022-03-28T16:31:33.710Z"
   },
   {
    "duration": 21,
    "start_time": "2022-03-28T16:31:33.718Z"
   },
   {
    "duration": 43,
    "start_time": "2022-03-28T16:31:33.741Z"
   },
   {
    "duration": 3,
    "start_time": "2022-03-28T16:31:33.786Z"
   },
   {
    "duration": 13,
    "start_time": "2022-03-28T16:31:33.795Z"
   },
   {
    "duration": 26,
    "start_time": "2022-03-28T16:31:33.810Z"
   },
   {
    "duration": 11,
    "start_time": "2022-03-28T16:31:33.837Z"
   },
   {
    "duration": 38,
    "start_time": "2022-03-28T16:31:33.849Z"
   },
   {
    "duration": 8,
    "start_time": "2022-03-28T16:31:33.889Z"
   },
   {
    "duration": 105,
    "start_time": "2022-03-28T16:31:33.898Z"
   },
   {
    "duration": 18,
    "start_time": "2022-03-28T16:31:34.005Z"
   },
   {
    "duration": 30,
    "start_time": "2022-03-28T16:31:34.024Z"
   },
   {
    "duration": 293,
    "start_time": "2022-03-28T16:31:34.055Z"
   },
   {
    "duration": 228,
    "start_time": "2022-03-28T16:31:34.349Z"
   },
   {
    "duration": 11,
    "start_time": "2022-03-28T16:31:34.580Z"
   },
   {
    "duration": 12,
    "start_time": "2022-03-28T16:31:34.593Z"
   },
   {
    "duration": 126,
    "start_time": "2022-03-28T16:31:34.606Z"
   },
   {
    "duration": 274,
    "start_time": "2022-03-28T16:31:34.733Z"
   },
   {
    "duration": 22,
    "start_time": "2022-03-28T16:31:35.009Z"
   },
   {
    "duration": 284,
    "start_time": "2022-03-28T16:31:35.032Z"
   },
   {
    "duration": 337,
    "start_time": "2022-03-28T16:31:35.317Z"
   },
   {
    "duration": 35,
    "start_time": "2022-03-28T16:31:35.656Z"
   },
   {
    "duration": 283,
    "start_time": "2022-03-28T16:31:35.692Z"
   },
   {
    "duration": 26,
    "start_time": "2022-03-28T16:31:35.981Z"
   },
   {
    "duration": 17,
    "start_time": "2022-03-28T16:31:36.009Z"
   },
   {
    "duration": 407,
    "start_time": "2022-03-28T16:31:36.028Z"
   },
   {
    "duration": 9,
    "start_time": "2022-03-28T16:31:36.437Z"
   },
   {
    "duration": 90,
    "start_time": "2022-03-28T16:46:27.395Z"
   },
   {
    "duration": 16,
    "start_time": "2022-03-28T16:46:38.577Z"
   },
   {
    "duration": 15,
    "start_time": "2022-03-28T16:49:04.794Z"
   },
   {
    "duration": 15,
    "start_time": "2022-03-28T16:49:26.333Z"
   },
   {
    "duration": 20,
    "start_time": "2022-03-28T16:49:43.372Z"
   },
   {
    "duration": 21,
    "start_time": "2022-03-28T16:50:20.234Z"
   }
  ],
  "kernelspec": {
   "display_name": "Python 3 (ipykernel)",
   "language": "python",
   "name": "python3"
  },
  "language_info": {
   "codemirror_mode": {
    "name": "ipython",
    "version": 3
   },
   "file_extension": ".py",
   "mimetype": "text/x-python",
   "name": "python",
   "nbconvert_exporter": "python",
   "pygments_lexer": "ipython3",
   "version": "3.9.5"
  },
  "toc": {
   "base_numbering": 1,
   "nav_menu": {
    "height": "323px",
    "width": "458px"
   },
   "number_sections": true,
   "sideBar": true,
   "skip_h1_title": true,
   "title_cell": "Содержание",
   "title_sidebar": "Contents",
   "toc_cell": true,
   "toc_position": {
    "height": "calc(100% - 180px)",
    "left": "10px",
    "top": "150px",
    "width": "302.391px"
   },
   "toc_section_display": true,
   "toc_window_display": true
  }
 },
 "nbformat": 4,
 "nbformat_minor": 2
}
