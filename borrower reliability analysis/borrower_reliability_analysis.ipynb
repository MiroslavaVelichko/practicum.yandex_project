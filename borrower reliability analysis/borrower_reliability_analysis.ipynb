{
  "cells": [
    {
      "cell_type": "markdown",
      "id": "1788365f",
      "metadata": {
        "id": "1788365f"
      },
      "source": [
        "# Исследование надежности заемщиков <a id='intro'></a>"
      ]
    },
    {
      "cell_type": "markdown",
      "id": "fff3a65b",
      "metadata": {
        "id": "fff3a65b"
      },
      "source": [
        "\n",
        "По заданию кредитного отдела банка необходимо определить, какие факторы оказывают влияют на своевременное закрытие кредита. Результаты исследования будут учтены при построении модели кредитного скоринга — специальной системы, которая оценивает способность потенциального заёмщика вернуть кредит банку.\n",
        "\n",
        "\n",
        "**Цель исследования** - ответить на вопросы:\n",
        "* Есть ли зависимость между количеством детей и возвратом кредита в срок?\n",
        "* Есть ли зависимость между семейным положением и возвратом кредита в срок?\n",
        "* Есть ли зависимость между уровнем дохода и возвратом кредита в срок?\n",
        "* Как разные цели кредита влияют на его возврат в срок? \n",
        "\n",
        "\n",
        "**Ход исследования** \n",
        "\n",
        "Входные данные от банка — статистика о платёжеспособности клиентов, размещены по адресу `/datasets/data.csv`.\n",
        "Перед проверкой гипотез понадобится обзор данных.   \n",
        "Проверим данные на ошибки и оценим их влияние на исследование. На этапе предобработки постараемся исправить самые критичные ошибки данных.\n",
        " \n",
        "Таким образом, исследование пройдёт в три этапа:\n",
        " 1. Обзор данных.\n",
        " 2. Предобработка данных.\n",
        " 3. Проверка гипотез.\n"
      ]
    },
    {
      "cell_type": "markdown",
      "id": "7a06240e",
      "metadata": {
        "id": "7a06240e"
      },
      "source": [
        "### Шаг 1. Обзор данных  <a id='step_1'></a>"
      ]
    },
    {
      "cell_type": "markdown",
      "id": "5df25600",
      "metadata": {
        "id": "5df25600"
      },
      "source": [
        "Для первого знакомства с данными импортируем библиотеку  `pandas` и сохраним предоставленный файл в переменной `df`."
      ]
    },
    {
      "cell_type": "code",
      "execution_count": 1,
      "id": "9f7e2e87",
      "metadata": {
        "id": "9f7e2e87"
      },
      "outputs": [],
      "source": [
        "import pandas as pd # импорт библиотеки pandas"
      ]
    },
    {
      "cell_type": "code",
      "execution_count": 2,
      "id": "dd413d30",
      "metadata": {
        "colab": {
          "base_uri": "https://localhost:8080/",
          "height": 363
        },
        "id": "dd413d30",
        "outputId": "7a215138-e1f6-4f7a-e124-9422471ed43d"
      },
      "outputs": [
        {
          "output_type": "execute_result",
          "data": {
            "text/plain": [
              "   children  days_employed  dob_years education  education_id  \\\n",
              "0         1   -8437.673028         42    высшее             0   \n",
              "1         1   -4024.803754         36   среднее             1   \n",
              "2         0   -5623.422610         33   Среднее             1   \n",
              "3         3   -4124.747207         32   среднее             1   \n",
              "4         0  340266.072047         53   среднее             1   \n",
              "5         0    -926.185831         27    высшее             0   \n",
              "6         0   -2879.202052         43    высшее             0   \n",
              "7         0    -152.779569         50   СРЕДНЕЕ             1   \n",
              "8         2   -6929.865299         35    ВЫСШЕЕ             0   \n",
              "9         0   -2188.756445         41   среднее             1   \n",
              "\n",
              "      family_status  family_status_id gender income_type  debt   total_income  \\\n",
              "0   женат / замужем                 0      F   сотрудник     0  253875.639453   \n",
              "1   женат / замужем                 0      F   сотрудник     0  112080.014102   \n",
              "2   женат / замужем                 0      M   сотрудник     0  145885.952297   \n",
              "3   женат / замужем                 0      M   сотрудник     0  267628.550329   \n",
              "4  гражданский брак                 1      F   пенсионер     0  158616.077870   \n",
              "5  гражданский брак                 1      M   компаньон     0  255763.565419   \n",
              "6   женат / замужем                 0      F   компаньон     0  240525.971920   \n",
              "7   женат / замужем                 0      M   сотрудник     0  135823.934197   \n",
              "8  гражданский брак                 1      F   сотрудник     0   95856.832424   \n",
              "9   женат / замужем                 0      M   сотрудник     0  144425.938277   \n",
              "\n",
              "                      purpose  \n",
              "0               покупка жилья  \n",
              "1     приобретение автомобиля  \n",
              "2               покупка жилья  \n",
              "3  дополнительное образование  \n",
              "4             сыграть свадьбу  \n",
              "5               покупка жилья  \n",
              "6           операции с жильем  \n",
              "7                 образование  \n",
              "8       на проведение свадьбы  \n",
              "9     покупка жилья для семьи  "
            ],
            "text/html": [
              "\n",
              "  <div id=\"df-371af009-639f-4f1c-81fd-071413cef41d\">\n",
              "    <div class=\"colab-df-container\">\n",
              "      <div>\n",
              "<style scoped>\n",
              "    .dataframe tbody tr th:only-of-type {\n",
              "        vertical-align: middle;\n",
              "    }\n",
              "\n",
              "    .dataframe tbody tr th {\n",
              "        vertical-align: top;\n",
              "    }\n",
              "\n",
              "    .dataframe thead th {\n",
              "        text-align: right;\n",
              "    }\n",
              "</style>\n",
              "<table border=\"1\" class=\"dataframe\">\n",
              "  <thead>\n",
              "    <tr style=\"text-align: right;\">\n",
              "      <th></th>\n",
              "      <th>children</th>\n",
              "      <th>days_employed</th>\n",
              "      <th>dob_years</th>\n",
              "      <th>education</th>\n",
              "      <th>education_id</th>\n",
              "      <th>family_status</th>\n",
              "      <th>family_status_id</th>\n",
              "      <th>gender</th>\n",
              "      <th>income_type</th>\n",
              "      <th>debt</th>\n",
              "      <th>total_income</th>\n",
              "      <th>purpose</th>\n",
              "    </tr>\n",
              "  </thead>\n",
              "  <tbody>\n",
              "    <tr>\n",
              "      <th>0</th>\n",
              "      <td>1</td>\n",
              "      <td>-8437.673028</td>\n",
              "      <td>42</td>\n",
              "      <td>высшее</td>\n",
              "      <td>0</td>\n",
              "      <td>женат / замужем</td>\n",
              "      <td>0</td>\n",
              "      <td>F</td>\n",
              "      <td>сотрудник</td>\n",
              "      <td>0</td>\n",
              "      <td>253875.639453</td>\n",
              "      <td>покупка жилья</td>\n",
              "    </tr>\n",
              "    <tr>\n",
              "      <th>1</th>\n",
              "      <td>1</td>\n",
              "      <td>-4024.803754</td>\n",
              "      <td>36</td>\n",
              "      <td>среднее</td>\n",
              "      <td>1</td>\n",
              "      <td>женат / замужем</td>\n",
              "      <td>0</td>\n",
              "      <td>F</td>\n",
              "      <td>сотрудник</td>\n",
              "      <td>0</td>\n",
              "      <td>112080.014102</td>\n",
              "      <td>приобретение автомобиля</td>\n",
              "    </tr>\n",
              "    <tr>\n",
              "      <th>2</th>\n",
              "      <td>0</td>\n",
              "      <td>-5623.422610</td>\n",
              "      <td>33</td>\n",
              "      <td>Среднее</td>\n",
              "      <td>1</td>\n",
              "      <td>женат / замужем</td>\n",
              "      <td>0</td>\n",
              "      <td>M</td>\n",
              "      <td>сотрудник</td>\n",
              "      <td>0</td>\n",
              "      <td>145885.952297</td>\n",
              "      <td>покупка жилья</td>\n",
              "    </tr>\n",
              "    <tr>\n",
              "      <th>3</th>\n",
              "      <td>3</td>\n",
              "      <td>-4124.747207</td>\n",
              "      <td>32</td>\n",
              "      <td>среднее</td>\n",
              "      <td>1</td>\n",
              "      <td>женат / замужем</td>\n",
              "      <td>0</td>\n",
              "      <td>M</td>\n",
              "      <td>сотрудник</td>\n",
              "      <td>0</td>\n",
              "      <td>267628.550329</td>\n",
              "      <td>дополнительное образование</td>\n",
              "    </tr>\n",
              "    <tr>\n",
              "      <th>4</th>\n",
              "      <td>0</td>\n",
              "      <td>340266.072047</td>\n",
              "      <td>53</td>\n",
              "      <td>среднее</td>\n",
              "      <td>1</td>\n",
              "      <td>гражданский брак</td>\n",
              "      <td>1</td>\n",
              "      <td>F</td>\n",
              "      <td>пенсионер</td>\n",
              "      <td>0</td>\n",
              "      <td>158616.077870</td>\n",
              "      <td>сыграть свадьбу</td>\n",
              "    </tr>\n",
              "    <tr>\n",
              "      <th>5</th>\n",
              "      <td>0</td>\n",
              "      <td>-926.185831</td>\n",
              "      <td>27</td>\n",
              "      <td>высшее</td>\n",
              "      <td>0</td>\n",
              "      <td>гражданский брак</td>\n",
              "      <td>1</td>\n",
              "      <td>M</td>\n",
              "      <td>компаньон</td>\n",
              "      <td>0</td>\n",
              "      <td>255763.565419</td>\n",
              "      <td>покупка жилья</td>\n",
              "    </tr>\n",
              "    <tr>\n",
              "      <th>6</th>\n",
              "      <td>0</td>\n",
              "      <td>-2879.202052</td>\n",
              "      <td>43</td>\n",
              "      <td>высшее</td>\n",
              "      <td>0</td>\n",
              "      <td>женат / замужем</td>\n",
              "      <td>0</td>\n",
              "      <td>F</td>\n",
              "      <td>компаньон</td>\n",
              "      <td>0</td>\n",
              "      <td>240525.971920</td>\n",
              "      <td>операции с жильем</td>\n",
              "    </tr>\n",
              "    <tr>\n",
              "      <th>7</th>\n",
              "      <td>0</td>\n",
              "      <td>-152.779569</td>\n",
              "      <td>50</td>\n",
              "      <td>СРЕДНЕЕ</td>\n",
              "      <td>1</td>\n",
              "      <td>женат / замужем</td>\n",
              "      <td>0</td>\n",
              "      <td>M</td>\n",
              "      <td>сотрудник</td>\n",
              "      <td>0</td>\n",
              "      <td>135823.934197</td>\n",
              "      <td>образование</td>\n",
              "    </tr>\n",
              "    <tr>\n",
              "      <th>8</th>\n",
              "      <td>2</td>\n",
              "      <td>-6929.865299</td>\n",
              "      <td>35</td>\n",
              "      <td>ВЫСШЕЕ</td>\n",
              "      <td>0</td>\n",
              "      <td>гражданский брак</td>\n",
              "      <td>1</td>\n",
              "      <td>F</td>\n",
              "      <td>сотрудник</td>\n",
              "      <td>0</td>\n",
              "      <td>95856.832424</td>\n",
              "      <td>на проведение свадьбы</td>\n",
              "    </tr>\n",
              "    <tr>\n",
              "      <th>9</th>\n",
              "      <td>0</td>\n",
              "      <td>-2188.756445</td>\n",
              "      <td>41</td>\n",
              "      <td>среднее</td>\n",
              "      <td>1</td>\n",
              "      <td>женат / замужем</td>\n",
              "      <td>0</td>\n",
              "      <td>M</td>\n",
              "      <td>сотрудник</td>\n",
              "      <td>0</td>\n",
              "      <td>144425.938277</td>\n",
              "      <td>покупка жилья для семьи</td>\n",
              "    </tr>\n",
              "  </tbody>\n",
              "</table>\n",
              "</div>\n",
              "      <button class=\"colab-df-convert\" onclick=\"convertToInteractive('df-371af009-639f-4f1c-81fd-071413cef41d')\"\n",
              "              title=\"Convert this dataframe to an interactive table.\"\n",
              "              style=\"display:none;\">\n",
              "        \n",
              "  <svg xmlns=\"http://www.w3.org/2000/svg\" height=\"24px\"viewBox=\"0 0 24 24\"\n",
              "       width=\"24px\">\n",
              "    <path d=\"M0 0h24v24H0V0z\" fill=\"none\"/>\n",
              "    <path d=\"M18.56 5.44l.94 2.06.94-2.06 2.06-.94-2.06-.94-.94-2.06-.94 2.06-2.06.94zm-11 1L8.5 8.5l.94-2.06 2.06-.94-2.06-.94L8.5 2.5l-.94 2.06-2.06.94zm10 10l.94 2.06.94-2.06 2.06-.94-2.06-.94-.94-2.06-.94 2.06-2.06.94z\"/><path d=\"M17.41 7.96l-1.37-1.37c-.4-.4-.92-.59-1.43-.59-.52 0-1.04.2-1.43.59L10.3 9.45l-7.72 7.72c-.78.78-.78 2.05 0 2.83L4 21.41c.39.39.9.59 1.41.59.51 0 1.02-.2 1.41-.59l7.78-7.78 2.81-2.81c.8-.78.8-2.07 0-2.86zM5.41 20L4 18.59l7.72-7.72 1.47 1.35L5.41 20z\"/>\n",
              "  </svg>\n",
              "      </button>\n",
              "      \n",
              "  <style>\n",
              "    .colab-df-container {\n",
              "      display:flex;\n",
              "      flex-wrap:wrap;\n",
              "      gap: 12px;\n",
              "    }\n",
              "\n",
              "    .colab-df-convert {\n",
              "      background-color: #E8F0FE;\n",
              "      border: none;\n",
              "      border-radius: 50%;\n",
              "      cursor: pointer;\n",
              "      display: none;\n",
              "      fill: #1967D2;\n",
              "      height: 32px;\n",
              "      padding: 0 0 0 0;\n",
              "      width: 32px;\n",
              "    }\n",
              "\n",
              "    .colab-df-convert:hover {\n",
              "      background-color: #E2EBFA;\n",
              "      box-shadow: 0px 1px 2px rgba(60, 64, 67, 0.3), 0px 1px 3px 1px rgba(60, 64, 67, 0.15);\n",
              "      fill: #174EA6;\n",
              "    }\n",
              "\n",
              "    [theme=dark] .colab-df-convert {\n",
              "      background-color: #3B4455;\n",
              "      fill: #D2E3FC;\n",
              "    }\n",
              "\n",
              "    [theme=dark] .colab-df-convert:hover {\n",
              "      background-color: #434B5C;\n",
              "      box-shadow: 0px 1px 3px 1px rgba(0, 0, 0, 0.15);\n",
              "      filter: drop-shadow(0px 1px 2px rgba(0, 0, 0, 0.3));\n",
              "      fill: #FFFFFF;\n",
              "    }\n",
              "  </style>\n",
              "\n",
              "      <script>\n",
              "        const buttonEl =\n",
              "          document.querySelector('#df-371af009-639f-4f1c-81fd-071413cef41d button.colab-df-convert');\n",
              "        buttonEl.style.display =\n",
              "          google.colab.kernel.accessAllowed ? 'block' : 'none';\n",
              "\n",
              "        async function convertToInteractive(key) {\n",
              "          const element = document.querySelector('#df-371af009-639f-4f1c-81fd-071413cef41d');\n",
              "          const dataTable =\n",
              "            await google.colab.kernel.invokeFunction('convertToInteractive',\n",
              "                                                     [key], {});\n",
              "          if (!dataTable) return;\n",
              "\n",
              "          const docLinkHtml = 'Like what you see? Visit the ' +\n",
              "            '<a target=\"_blank\" href=https://colab.research.google.com/notebooks/data_table.ipynb>data table notebook</a>'\n",
              "            + ' to learn more about interactive tables.';\n",
              "          element.innerHTML = '';\n",
              "          dataTable['output_type'] = 'display_data';\n",
              "          await google.colab.output.renderOutput(dataTable, element);\n",
              "          const docLink = document.createElement('div');\n",
              "          docLink.innerHTML = docLinkHtml;\n",
              "          element.appendChild(docLink);\n",
              "        }\n",
              "      </script>\n",
              "    </div>\n",
              "  </div>\n",
              "  "
            ]
          },
          "metadata": {},
          "execution_count": 2
        }
      ],
      "source": [
        "df = pd.read_csv('/datasets/data.csv') # чтение файла с данными и сохранение в df\n",
        "df.head(10) # получение первых 10 строк таблицы df"
      ]
    },
    {
      "cell_type": "markdown",
      "id": "d8e3f679",
      "metadata": {
        "id": "d8e3f679"
      },
      "source": [
        "Получим общую информацию о таблице методом `info()`."
      ]
    },
    {
      "cell_type": "code",
      "execution_count": 3,
      "id": "95476224",
      "metadata": {
        "colab": {
          "base_uri": "https://localhost:8080/"
        },
        "id": "95476224",
        "outputId": "e117168f-8087-4d45-b48a-4b36f883a23e"
      },
      "outputs": [
        {
          "output_type": "stream",
          "name": "stdout",
          "text": [
            "<class 'pandas.core.frame.DataFrame'>\n",
            "RangeIndex: 21525 entries, 0 to 21524\n",
            "Data columns (total 12 columns):\n",
            " #   Column            Non-Null Count  Dtype  \n",
            "---  ------            --------------  -----  \n",
            " 0   children          21525 non-null  int64  \n",
            " 1   days_employed     19351 non-null  float64\n",
            " 2   dob_years         21525 non-null  int64  \n",
            " 3   education         21525 non-null  object \n",
            " 4   education_id      21525 non-null  int64  \n",
            " 5   family_status     21525 non-null  object \n",
            " 6   family_status_id  21525 non-null  int64  \n",
            " 7   gender            21525 non-null  object \n",
            " 8   income_type       21525 non-null  object \n",
            " 9   debt              21525 non-null  int64  \n",
            " 10  total_income      19351 non-null  float64\n",
            " 11  purpose           21525 non-null  object \n",
            "dtypes: float64(2), int64(5), object(5)\n",
            "memory usage: 2.0+ MB\n"
          ]
        }
      ],
      "source": [
        "df.info()  # получение общей информации о данных в таблице df"
      ]
    },
    {
      "cell_type": "markdown",
      "id": "b8d6af94",
      "metadata": {
        "id": "b8d6af94"
      },
      "source": [
        "В таблице 21525 строк, 12 столбцов. Встречаются разные типы данных: `float64`,`int64`,`object`.  \n",
        "\n",
        "Количество значений в столбцах различается. Значит, в данных есть пропущенные значения."
      ]
    },
    {
      "cell_type": "markdown",
      "id": "3c410408",
      "metadata": {
        "id": "3c410408"
      },
      "source": [
        "Согласно документации к данным:\n",
        "* `children` — количество детей в семье\n",
        "* `days_employed` — общий трудовой стаж в днях\n",
        "* `dob_years` — возраст клиента в годах\n",
        "* `education` — уровень образования клиента\n",
        "* `education_id` — идентификатор уровня образования\n",
        "* `family_status` — семейное положение\n",
        "* `family_status_id` — идентификатор семейного положения\n",
        "* `gender` — пол клиента\n",
        "* `income_type` — тип занятости\n",
        "* `debt` — имел ли задолженность по возврату кредитов\n",
        "* `total_income` — ежемесячный доход\n",
        "* `purpose` — цель получения кредита"
      ]
    },
    {
      "cell_type": "markdown",
      "id": "4735967a",
      "metadata": {
        "id": "4735967a"
      },
      "source": [
        " ### Шаг 2.1 Заполнение пропусков  <a id='step_2.1'></a>"
      ]
    },
    {
      "cell_type": "markdown",
      "id": "e6819006",
      "metadata": {
        "id": "e6819006"
      },
      "source": [
        "Посчитаем сколько в таблице пропущенных значений. Для этого воспользуемся методами `isna()` и `sum()`."
      ]
    },
    {
      "cell_type": "code",
      "execution_count": 4,
      "id": "de7a34cb",
      "metadata": {
        "colab": {
          "base_uri": "https://localhost:8080/"
        },
        "id": "de7a34cb",
        "outputId": "bf0810af-000a-46ff-b992-39f74d7363ac"
      },
      "outputs": [
        {
          "output_type": "execute_result",
          "data": {
            "text/plain": [
              "children             0.0\n",
              "days_employed       10.1\n",
              "dob_years            0.0\n",
              "education            0.0\n",
              "education_id         0.0\n",
              "family_status        0.0\n",
              "family_status_id     0.0\n",
              "gender               0.0\n",
              "income_type          0.0\n",
              "debt                 0.0\n",
              "total_income        10.1\n",
              "purpose              0.0\n",
              "dtype: float64"
            ]
          },
          "metadata": {},
          "execution_count": 4
        }
      ],
      "source": [
        "(df.isna().mean()*100).round(1) # подсчёт пропусков"
      ]
    },
    {
      "cell_type": "markdown",
      "id": "edf8d2a8",
      "metadata": {
        "id": "edf8d2a8"
      },
      "source": [
        "Пропущено одинаковое количество значений в ячейках `'days_employed'`и `'total_income'` - 2174. Доля пропущенных значений составляет 10% датафрейма."
      ]
    },
    {
      "cell_type": "markdown",
      "id": "b7fb95a6",
      "metadata": {
        "id": "b7fb95a6"
      },
      "source": [
        "Ознакомимся со строками, содержащими пропусками, используя методы `isna()` и `head()`."
      ]
    },
    {
      "cell_type": "code",
      "execution_count": 5,
      "id": "e6988b59",
      "metadata": {
        "colab": {
          "base_uri": "https://localhost:8080/",
          "height": 206
        },
        "id": "e6988b59",
        "outputId": "c625f997-3209-4413-d3d0-814877c94f8b"
      },
      "outputs": [
        {
          "output_type": "execute_result",
          "data": {
            "text/plain": [
              "    children  days_employed  dob_years education  education_id  \\\n",
              "12         0            NaN         65   среднее             1   \n",
              "26         0            NaN         41   среднее             1   \n",
              "29         0            NaN         63   среднее             1   \n",
              "41         0            NaN         50   среднее             1   \n",
              "55         0            NaN         54   среднее             1   \n",
              "\n",
              "            family_status  family_status_id gender  income_type  debt  \\\n",
              "12       гражданский брак                 1      M    пенсионер     0   \n",
              "26        женат / замужем                 0      M  госслужащий     0   \n",
              "29  Не женат / не замужем                 4      F    пенсионер     0   \n",
              "41        женат / замужем                 0      F  госслужащий     0   \n",
              "55       гражданский брак                 1      F    пенсионер     1   \n",
              "\n",
              "    total_income                           purpose  \n",
              "12           NaN                   сыграть свадьбу  \n",
              "26           NaN                       образование  \n",
              "29           NaN  строительство жилой недвижимости  \n",
              "41           NaN  сделка с подержанным автомобилем  \n",
              "55           NaN                   сыграть свадьбу  "
            ],
            "text/html": [
              "\n",
              "  <div id=\"df-e4d7823c-ee13-468a-8271-59a7a331a855\">\n",
              "    <div class=\"colab-df-container\">\n",
              "      <div>\n",
              "<style scoped>\n",
              "    .dataframe tbody tr th:only-of-type {\n",
              "        vertical-align: middle;\n",
              "    }\n",
              "\n",
              "    .dataframe tbody tr th {\n",
              "        vertical-align: top;\n",
              "    }\n",
              "\n",
              "    .dataframe thead th {\n",
              "        text-align: right;\n",
              "    }\n",
              "</style>\n",
              "<table border=\"1\" class=\"dataframe\">\n",
              "  <thead>\n",
              "    <tr style=\"text-align: right;\">\n",
              "      <th></th>\n",
              "      <th>children</th>\n",
              "      <th>days_employed</th>\n",
              "      <th>dob_years</th>\n",
              "      <th>education</th>\n",
              "      <th>education_id</th>\n",
              "      <th>family_status</th>\n",
              "      <th>family_status_id</th>\n",
              "      <th>gender</th>\n",
              "      <th>income_type</th>\n",
              "      <th>debt</th>\n",
              "      <th>total_income</th>\n",
              "      <th>purpose</th>\n",
              "    </tr>\n",
              "  </thead>\n",
              "  <tbody>\n",
              "    <tr>\n",
              "      <th>12</th>\n",
              "      <td>0</td>\n",
              "      <td>NaN</td>\n",
              "      <td>65</td>\n",
              "      <td>среднее</td>\n",
              "      <td>1</td>\n",
              "      <td>гражданский брак</td>\n",
              "      <td>1</td>\n",
              "      <td>M</td>\n",
              "      <td>пенсионер</td>\n",
              "      <td>0</td>\n",
              "      <td>NaN</td>\n",
              "      <td>сыграть свадьбу</td>\n",
              "    </tr>\n",
              "    <tr>\n",
              "      <th>26</th>\n",
              "      <td>0</td>\n",
              "      <td>NaN</td>\n",
              "      <td>41</td>\n",
              "      <td>среднее</td>\n",
              "      <td>1</td>\n",
              "      <td>женат / замужем</td>\n",
              "      <td>0</td>\n",
              "      <td>M</td>\n",
              "      <td>госслужащий</td>\n",
              "      <td>0</td>\n",
              "      <td>NaN</td>\n",
              "      <td>образование</td>\n",
              "    </tr>\n",
              "    <tr>\n",
              "      <th>29</th>\n",
              "      <td>0</td>\n",
              "      <td>NaN</td>\n",
              "      <td>63</td>\n",
              "      <td>среднее</td>\n",
              "      <td>1</td>\n",
              "      <td>Не женат / не замужем</td>\n",
              "      <td>4</td>\n",
              "      <td>F</td>\n",
              "      <td>пенсионер</td>\n",
              "      <td>0</td>\n",
              "      <td>NaN</td>\n",
              "      <td>строительство жилой недвижимости</td>\n",
              "    </tr>\n",
              "    <tr>\n",
              "      <th>41</th>\n",
              "      <td>0</td>\n",
              "      <td>NaN</td>\n",
              "      <td>50</td>\n",
              "      <td>среднее</td>\n",
              "      <td>1</td>\n",
              "      <td>женат / замужем</td>\n",
              "      <td>0</td>\n",
              "      <td>F</td>\n",
              "      <td>госслужащий</td>\n",
              "      <td>0</td>\n",
              "      <td>NaN</td>\n",
              "      <td>сделка с подержанным автомобилем</td>\n",
              "    </tr>\n",
              "    <tr>\n",
              "      <th>55</th>\n",
              "      <td>0</td>\n",
              "      <td>NaN</td>\n",
              "      <td>54</td>\n",
              "      <td>среднее</td>\n",
              "      <td>1</td>\n",
              "      <td>гражданский брак</td>\n",
              "      <td>1</td>\n",
              "      <td>F</td>\n",
              "      <td>пенсионер</td>\n",
              "      <td>1</td>\n",
              "      <td>NaN</td>\n",
              "      <td>сыграть свадьбу</td>\n",
              "    </tr>\n",
              "  </tbody>\n",
              "</table>\n",
              "</div>\n",
              "      <button class=\"colab-df-convert\" onclick=\"convertToInteractive('df-e4d7823c-ee13-468a-8271-59a7a331a855')\"\n",
              "              title=\"Convert this dataframe to an interactive table.\"\n",
              "              style=\"display:none;\">\n",
              "        \n",
              "  <svg xmlns=\"http://www.w3.org/2000/svg\" height=\"24px\"viewBox=\"0 0 24 24\"\n",
              "       width=\"24px\">\n",
              "    <path d=\"M0 0h24v24H0V0z\" fill=\"none\"/>\n",
              "    <path d=\"M18.56 5.44l.94 2.06.94-2.06 2.06-.94-2.06-.94-.94-2.06-.94 2.06-2.06.94zm-11 1L8.5 8.5l.94-2.06 2.06-.94-2.06-.94L8.5 2.5l-.94 2.06-2.06.94zm10 10l.94 2.06.94-2.06 2.06-.94-2.06-.94-.94-2.06-.94 2.06-2.06.94z\"/><path d=\"M17.41 7.96l-1.37-1.37c-.4-.4-.92-.59-1.43-.59-.52 0-1.04.2-1.43.59L10.3 9.45l-7.72 7.72c-.78.78-.78 2.05 0 2.83L4 21.41c.39.39.9.59 1.41.59.51 0 1.02-.2 1.41-.59l7.78-7.78 2.81-2.81c.8-.78.8-2.07 0-2.86zM5.41 20L4 18.59l7.72-7.72 1.47 1.35L5.41 20z\"/>\n",
              "  </svg>\n",
              "      </button>\n",
              "      \n",
              "  <style>\n",
              "    .colab-df-container {\n",
              "      display:flex;\n",
              "      flex-wrap:wrap;\n",
              "      gap: 12px;\n",
              "    }\n",
              "\n",
              "    .colab-df-convert {\n",
              "      background-color: #E8F0FE;\n",
              "      border: none;\n",
              "      border-radius: 50%;\n",
              "      cursor: pointer;\n",
              "      display: none;\n",
              "      fill: #1967D2;\n",
              "      height: 32px;\n",
              "      padding: 0 0 0 0;\n",
              "      width: 32px;\n",
              "    }\n",
              "\n",
              "    .colab-df-convert:hover {\n",
              "      background-color: #E2EBFA;\n",
              "      box-shadow: 0px 1px 2px rgba(60, 64, 67, 0.3), 0px 1px 3px 1px rgba(60, 64, 67, 0.15);\n",
              "      fill: #174EA6;\n",
              "    }\n",
              "\n",
              "    [theme=dark] .colab-df-convert {\n",
              "      background-color: #3B4455;\n",
              "      fill: #D2E3FC;\n",
              "    }\n",
              "\n",
              "    [theme=dark] .colab-df-convert:hover {\n",
              "      background-color: #434B5C;\n",
              "      box-shadow: 0px 1px 3px 1px rgba(0, 0, 0, 0.15);\n",
              "      filter: drop-shadow(0px 1px 2px rgba(0, 0, 0, 0.3));\n",
              "      fill: #FFFFFF;\n",
              "    }\n",
              "  </style>\n",
              "\n",
              "      <script>\n",
              "        const buttonEl =\n",
              "          document.querySelector('#df-e4d7823c-ee13-468a-8271-59a7a331a855 button.colab-df-convert');\n",
              "        buttonEl.style.display =\n",
              "          google.colab.kernel.accessAllowed ? 'block' : 'none';\n",
              "\n",
              "        async function convertToInteractive(key) {\n",
              "          const element = document.querySelector('#df-e4d7823c-ee13-468a-8271-59a7a331a855');\n",
              "          const dataTable =\n",
              "            await google.colab.kernel.invokeFunction('convertToInteractive',\n",
              "                                                     [key], {});\n",
              "          if (!dataTable) return;\n",
              "\n",
              "          const docLinkHtml = 'Like what you see? Visit the ' +\n",
              "            '<a target=\"_blank\" href=https://colab.research.google.com/notebooks/data_table.ipynb>data table notebook</a>'\n",
              "            + ' to learn more about interactive tables.';\n",
              "          element.innerHTML = '';\n",
              "          dataTable['output_type'] = 'display_data';\n",
              "          await google.colab.output.renderOutput(dataTable, element);\n",
              "          const docLink = document.createElement('div');\n",
              "          docLink.innerHTML = docLinkHtml;\n",
              "          element.appendChild(docLink);\n",
              "        }\n",
              "      </script>\n",
              "    </div>\n",
              "  </div>\n",
              "  "
            ]
          },
          "metadata": {},
          "execution_count": 5
        }
      ],
      "source": [
        "(df[df['days_employed'].isna()].head()) # получение первых 10 строк, содержащих пропуски"
      ]
    },
    {
      "cell_type": "markdown",
      "id": "a71e387f",
      "metadata": {
        "id": "a71e387f"
      },
      "source": [
        "Пропуски встречаются в категории `\"пенсионеры\"`, `\"госслужащие\"`. Можно предположить, что в строки с пропусками попадают  неработающие пенсионеры, которые не имеют дохода кроме пенсии, и выдача кредита производится без подтверждения дохода и трудового стажа.\n",
        " Также возможно, не требуется подтверждение дохода при выдаче небольших сумм кредита.\n",
        "\n",
        "10% таблицы - большое значение. Удаление этих строк может исказить результаты исследования. Данные, необходимые для проверки трех гипотех из четырех, в строках с пропусками есть: заполнена информация о целях кредита, семейном положении и количестве детей.   \n",
        "\n",
        "Пропуски в количественных переменных заполняют характерными\n",
        "значениями. Это значения, характеризующие состояние выборки. Рассчитаем медиану для столбцов `'days_employed'`и `'total_income'` методом `median()`, и сохраним результаты в переменные `days_employed_avg` и `total_income_avg`."
      ]
    },
    {
      "cell_type": "code",
      "execution_count": 6,
      "id": "1d34e048",
      "metadata": {
        "colab": {
          "base_uri": "https://localhost:8080/"
        },
        "id": "1d34e048",
        "outputId": "aff4f165-6aeb-455e-8324-8f04c1d72eba"
      },
      "outputs": [
        {
          "output_type": "execute_result",
          "data": {
            "text/plain": [
              "-1203.369528770489"
            ]
          },
          "metadata": {},
          "execution_count": 6
        }
      ],
      "source": [
        "days_employed_avg = df['days_employed'].median() # расчет медианы для столбца 'days_employed' \n",
        "                                                 # и сохранение результата в переменную days_employed_avg\n",
        "days_employed_avg # вывод значения переменной на экран"
      ]
    },
    {
      "cell_type": "markdown",
      "id": "7a06044d",
      "metadata": {
        "id": "7a06044d"
      },
      "source": [
        "Значение медианы получилось отрицательным. Это связано с ошибками в данных. В столбце встречаются отрицательные значения стажа. Заменим пропуски медианным значением в столбце `'days_employed'` после устранения ошибок в [шаге 2.2](#step_2.2_days_employed)"
      ]
    },
    {
      "cell_type": "code",
      "execution_count": 7,
      "id": "a9461400",
      "metadata": {
        "colab": {
          "base_uri": "https://localhost:8080/"
        },
        "id": "a9461400",
        "outputId": "5907bb4a-2d95-4d2b-bbe5-e4a56100651a"
      },
      "outputs": [
        {
          "output_type": "execute_result",
          "data": {
            "text/plain": [
              "145017.93753253992"
            ]
          },
          "metadata": {},
          "execution_count": 7
        }
      ],
      "source": [
        "total_income_avg = df['total_income'].median() # расчет медианы для столбца 'total_income'\n",
        "                                               # и сохранение результата в переменную total_income_avg\n",
        "total_income_avg # вывод значения переменной на экран"
      ]
    },
    {
      "cell_type": "markdown",
      "id": "92287804",
      "metadata": {
        "id": "92287804"
      },
      "source": [
        "Медианное значение ежемесячного дохода заемщиков в выборке составило 145017,94, заменим этим значением пропуски в столбце `'total_income'`, используя метод `fillna()`."
      ]
    },
    {
      "cell_type": "code",
      "execution_count": 8,
      "id": "353a63f7",
      "metadata": {
        "colab": {
          "base_uri": "https://localhost:8080/"
        },
        "id": "353a63f7",
        "outputId": "94b4131a-9a12-4c79-c382-3beb54216ff5"
      },
      "outputs": [
        {
          "output_type": "execute_result",
          "data": {
            "text/plain": [
              "children               0\n",
              "days_employed       2174\n",
              "dob_years              0\n",
              "education              0\n",
              "education_id           0\n",
              "family_status          0\n",
              "family_status_id       0\n",
              "gender                 0\n",
              "income_type            0\n",
              "debt                   0\n",
              "total_income           0\n",
              "purpose                0\n",
              "dtype: int64"
            ]
          },
          "metadata": {},
          "execution_count": 8
        }
      ],
      "source": [
        "df['total_income'] = df['total_income'].fillna(total_income_avg) # замена пропусков в столбце 'total_income' \n",
        "                                                                 # на медианное значение\n",
        "df.isna().sum() # подсчёт пропусков после замены"
      ]
    },
    {
      "cell_type": "markdown",
      "id": "33865bba",
      "metadata": {
        "id": "33865bba"
      },
      "source": [
        "В столбце `'total_income'` не осталось пропущенных значений."
      ]
    },
    {
      "cell_type": "markdown",
      "id": "832ffe7e",
      "metadata": {
        "id": "832ffe7e"
      },
      "source": [
        "### Шаг 2.2 Проверка данных на аномалии и исправления.  <a id='step_2.2'></a>"
      ]
    },
    {
      "cell_type": "markdown",
      "id": "2e0b91cd",
      "metadata": {
        "id": "2e0b91cd"
      },
      "source": [
        "#### Проверка данных в столбце 'children'  <a id='step_2.2_children'></a>"
      ]
    },
    {
      "cell_type": "markdown",
      "id": "8aeeeb37",
      "metadata": {
        "id": "8aeeeb37"
      },
      "source": [
        "Используя метод `value_counts()` ознакомимся с уникальными значениями в столбце `'children'`."
      ]
    },
    {
      "cell_type": "code",
      "execution_count": 9,
      "id": "b8686460",
      "metadata": {
        "scrolled": true,
        "colab": {
          "base_uri": "https://localhost:8080/"
        },
        "id": "b8686460",
        "outputId": "32aa91a0-11ff-46ed-e45b-df99fbc6f92b"
      },
      "outputs": [
        {
          "output_type": "execute_result",
          "data": {
            "text/plain": [
              " 0     14149\n",
              " 1      4818\n",
              " 2      2055\n",
              " 3       330\n",
              " 20       76\n",
              "-1        47\n",
              " 4        41\n",
              " 5         9\n",
              "Name: children, dtype: int64"
            ]
          },
          "metadata": {},
          "execution_count": 9
        }
      ],
      "source": [
        "df['children'].value_counts() #просмотр уникальных значений в столбце 'children'"
      ]
    },
    {
      "cell_type": "markdown",
      "id": "fa414379",
      "metadata": {
        "id": "fa414379"
      },
      "source": [
        "Строки, в которых указано количество детей -1 и 20 похоже содержат ошибку. Вероятнее всего, причина таких ошибок - человеческий фактор. Предполагаем, что значение `-1` - это 1 ребенок, а `20` - 2 ребенка. Удельный вес строк с ошибочными значениями в графе `'children'` не велик (менее 1%)."
      ]
    },
    {
      "cell_type": "markdown",
      "id": "9a1d6242",
      "metadata": {
        "id": "9a1d6242"
      },
      "source": [
        "Тем не менее, чтобы не терять строки с данными, изменим значения `-1` в столбце `'children'` на `1`, для этого используем цикл, который отберет значения в столбце равные `-1` и применит к ним метод  `abs()`. После чего, для проверки выведем на экран список уникальных значений столбца `'children'`."
      ]
    },
    {
      "cell_type": "code",
      "execution_count": 10,
      "id": "e0e13030",
      "metadata": {
        "colab": {
          "base_uri": "https://localhost:8080/"
        },
        "id": "e0e13030",
        "outputId": "d2a1c391-d180-465e-8a9a-372809bbd18a"
      },
      "outputs": [
        {
          "output_type": "execute_result",
          "data": {
            "text/plain": [
              "array([ 1,  0,  3,  2,  4, 20,  5])"
            ]
          },
          "metadata": {},
          "execution_count": 10
        }
      ],
      "source": [
        "for value in df['children']: # цикл, отбирающий значения -1 в столбце 'children' \n",
        "    if value == -1:\n",
        "        df['children'] = df['children'].abs() # функции abs() возвращает абсолютные значения\n",
        "        \n",
        "df['children'].unique() # вывод уникальных значений в столбце 'children'"
      ]
    },
    {
      "cell_type": "markdown",
      "id": "e97e2559",
      "metadata": {
        "id": "e97e2559"
      },
      "source": [
        "Благодаря методу `unique()` убедились, что в столбце не осталось отрицательных значений."
      ]
    },
    {
      "cell_type": "markdown",
      "id": "afc6c733",
      "metadata": {
        "id": "afc6c733"
      },
      "source": [
        "Теперь заменим значение `20` в столбце `'children'` на `2` используя функцию `replace()`. А затем проверим работу фунции просмотрев уникальные значения в столбце. "
      ]
    },
    {
      "cell_type": "code",
      "execution_count": 11,
      "id": "1918a08c",
      "metadata": {
        "colab": {
          "base_uri": "https://localhost:8080/"
        },
        "id": "1918a08c",
        "outputId": "9b6e0318-b307-4ec1-9b2c-0876dab4b265"
      },
      "outputs": [
        {
          "output_type": "execute_result",
          "data": {
            "text/plain": [
              "0    14149\n",
              "1     4865\n",
              "2     2131\n",
              "3      330\n",
              "4       41\n",
              "5        9\n",
              "Name: children, dtype: int64"
            ]
          },
          "metadata": {},
          "execution_count": 11
        }
      ],
      "source": [
        "df['children'] = df['children'].replace(20, 2) # замена значения '20' в столбце 'children' на '2' с помощью функции replace()\n",
        "  \n",
        "df['children'].value_counts() # вывод уникальных значений в столбце 'children'"
      ]
    },
    {
      "cell_type": "markdown",
      "id": "7cc3f526",
      "metadata": {
        "id": "7cc3f526"
      },
      "source": [
        "В столбце `'children'` не осталось аномальных значений."
      ]
    },
    {
      "cell_type": "markdown",
      "id": "7fc2cf68",
      "metadata": {
        "id": "7fc2cf68"
      },
      "source": [
        "#### Проверка данных в столбце 'days_employed'  <a id='step_2.2_days_employed'></a>"
      ]
    },
    {
      "cell_type": "markdown",
      "id": "80676a46",
      "metadata": {
        "id": "80676a46"
      },
      "source": [
        "C помощью гистрограммы рассмотрим уникульные значения для столбца `'days_employed'`."
      ]
    },
    {
      "cell_type": "code",
      "execution_count": 12,
      "id": "d8c0a316",
      "metadata": {
        "colab": {
          "base_uri": "https://localhost:8080/",
          "height": 447
        },
        "id": "d8c0a316",
        "outputId": "c045f5d1-74f3-48c1-802d-eb6db47bff3e"
      },
      "outputs": [
        {
          "output_type": "execute_result",
          "data": {
            "text/plain": [
              "<Axes: >"
            ]
          },
          "metadata": {},
          "execution_count": 12
        },
        {
          "output_type": "display_data",
          "data": {
            "text/plain": [
              "<Figure size 640x480 with 1 Axes>"
            ],
            "image/png": "[encoded data removed]"
          },
          "metadata": {}
        }
      ],
      "source": [
        "df['days_employed'].hist() # построение гистограммы для столбца 'days_employed'"
      ]
    },
    {
      "cell_type": "markdown",
      "id": "642dc03b",
      "metadata": {
        "id": "642dc03b"
      },
      "source": [
        "Гистограмма показала две проблемы в данном столбце:\n",
        "- **отрицательные значения;**\n",
        "- **группа аномальных значений, в которых стаж составляет свыше 300000 дней, или 865 лет**.\n",
        "\n",
        "Но кроме этого, из шага [2.1](#step_2.1) мы помним, что у нас осталась еще одна проблема в столбце `'days_employed'`  - **пропуски в данных**."
      ]
    },
    {
      "cell_type": "markdown",
      "id": "e087b9c5",
      "metadata": {
        "id": "e087b9c5"
      },
      "source": [
        "Трудовой стаж не может быть исчислен в отрицательных величинах. Предположим, что ошибка только в минусе перед значением стажа, в остальном значения занесены корректно. Эта ошибка может быть вызвана человеческим фактором, при ручном вводе данных. В этом случае нам необходимо отрицательные значения стажа сделать положительными.  "
      ]
    },
    {
      "cell_type": "markdown",
      "id": "7b6b0b47",
      "metadata": {
        "id": "7b6b0b47"
      },
      "source": [
        "С помощью цикла и функции `abs()` заменим отрицательные значения в столбце `'days_employed'` на их абсолютные значения. "
      ]
    },
    {
      "cell_type": "code",
      "execution_count": 13,
      "id": "e5094ec9",
      "metadata": {
        "id": "e5094ec9"
      },
      "outputs": [],
      "source": [
        " df['days_employed'] = df['days_employed'].abs()  # применение функции abs() "
      ]
    },
    {
      "cell_type": "markdown",
      "id": "4965ba3a",
      "metadata": {
        "id": "4965ba3a"
      },
      "source": [
        "Для проверки выведем на экран последние строки таблицы методом `tail()`."
      ]
    },
    {
      "cell_type": "code",
      "execution_count": 14,
      "id": "53474a96",
      "metadata": {
        "colab": {
          "base_uri": "https://localhost:8080/",
          "height": 206
        },
        "id": "53474a96",
        "outputId": "4f0316bc-8926-4323-c971-c50b88f98ee2"
      },
      "outputs": [
        {
          "output_type": "execute_result",
          "data": {
            "text/plain": [
              "       children  days_employed  dob_years education  education_id  \\\n",
              "21520         1    4529.316663         43   среднее             1   \n",
              "21521         0  343937.404131         67   среднее             1   \n",
              "21522         1    2113.346888         38   среднее             1   \n",
              "21523         3    3112.481705         38   среднее             1   \n",
              "21524         2    1984.507589         40   среднее             1   \n",
              "\n",
              "          family_status  family_status_id gender income_type  debt  \\\n",
              "21520  гражданский брак                 1      F   компаньон     0   \n",
              "21521   женат / замужем                 0      F   пенсионер     0   \n",
              "21522  гражданский брак                 1      M   сотрудник     1   \n",
              "21523   женат / замужем                 0      M   сотрудник     1   \n",
              "21524   женат / замужем                 0      F   сотрудник     0   \n",
              "\n",
              "        total_income                       purpose  \n",
              "21520  224791.862382             операции с жильем  \n",
              "21521  155999.806512          сделка с автомобилем  \n",
              "21522   89672.561153                  недвижимость  \n",
              "21523  244093.050500  на покупку своего автомобиля  \n",
              "21524   82047.418899         на покупку автомобиля  "
            ],
            "text/html": [
              "\n",
              "  <div id=\"df-5130d56c-e960-408b-9379-62997dfe59fd\">\n",
              "    <div class=\"colab-df-container\">\n",
              "      <div>\n",
              "<style scoped>\n",
              "    .dataframe tbody tr th:only-of-type {\n",
              "        vertical-align: middle;\n",
              "    }\n",
              "\n",
              "    .dataframe tbody tr th {\n",
              "        vertical-align: top;\n",
              "    }\n",
              "\n",
              "    .dataframe thead th {\n",
              "        text-align: right;\n",
              "    }\n",
              "</style>\n",
              "<table border=\"1\" class=\"dataframe\">\n",
              "  <thead>\n",
              "    <tr style=\"text-align: right;\">\n",
              "      <th></th>\n",
              "      <th>children</th>\n",
              "      <th>days_employed</th>\n",
              "      <th>dob_years</th>\n",
              "      <th>education</th>\n",
              "      <th>education_id</th>\n",
              "      <th>family_status</th>\n",
              "      <th>family_status_id</th>\n",
              "      <th>gender</th>\n",
              "      <th>income_type</th>\n",
              "      <th>debt</th>\n",
              "      <th>total_income</th>\n",
              "      <th>purpose</th>\n",
              "    </tr>\n",
              "  </thead>\n",
              "  <tbody>\n",
              "    <tr>\n",
              "      <th>21520</th>\n",
              "      <td>1</td>\n",
              "      <td>4529.316663</td>\n",
              "      <td>43</td>\n",
              "      <td>среднее</td>\n",
              "      <td>1</td>\n",
              "      <td>гражданский брак</td>\n",
              "      <td>1</td>\n",
              "      <td>F</td>\n",
              "      <td>компаньон</td>\n",
              "      <td>0</td>\n",
              "      <td>224791.862382</td>\n",
              "      <td>операции с жильем</td>\n",
              "    </tr>\n",
              "    <tr>\n",
              "      <th>21521</th>\n",
              "      <td>0</td>\n",
              "      <td>343937.404131</td>\n",
              "      <td>67</td>\n",
              "      <td>среднее</td>\n",
              "      <td>1</td>\n",
              "      <td>женат / замужем</td>\n",
              "      <td>0</td>\n",
              "      <td>F</td>\n",
              "      <td>пенсионер</td>\n",
              "      <td>0</td>\n",
              "      <td>155999.806512</td>\n",
              "      <td>сделка с автомобилем</td>\n",
              "    </tr>\n",
              "    <tr>\n",
              "      <th>21522</th>\n",
              "      <td>1</td>\n",
              "      <td>2113.346888</td>\n",
              "      <td>38</td>\n",
              "      <td>среднее</td>\n",
              "      <td>1</td>\n",
              "      <td>гражданский брак</td>\n",
              "      <td>1</td>\n",
              "      <td>M</td>\n",
              "      <td>сотрудник</td>\n",
              "      <td>1</td>\n",
              "      <td>89672.561153</td>\n",
              "      <td>недвижимость</td>\n",
              "    </tr>\n",
              "    <tr>\n",
              "      <th>21523</th>\n",
              "      <td>3</td>\n",
              "      <td>3112.481705</td>\n",
              "      <td>38</td>\n",
              "      <td>среднее</td>\n",
              "      <td>1</td>\n",
              "      <td>женат / замужем</td>\n",
              "      <td>0</td>\n",
              "      <td>M</td>\n",
              "      <td>сотрудник</td>\n",
              "      <td>1</td>\n",
              "      <td>244093.050500</td>\n",
              "      <td>на покупку своего автомобиля</td>\n",
              "    </tr>\n",
              "    <tr>\n",
              "      <th>21524</th>\n",
              "      <td>2</td>\n",
              "      <td>1984.507589</td>\n",
              "      <td>40</td>\n",
              "      <td>среднее</td>\n",
              "      <td>1</td>\n",
              "      <td>женат / замужем</td>\n",
              "      <td>0</td>\n",
              "      <td>F</td>\n",
              "      <td>сотрудник</td>\n",
              "      <td>0</td>\n",
              "      <td>82047.418899</td>\n",
              "      <td>на покупку автомобиля</td>\n",
              "    </tr>\n",
              "  </tbody>\n",
              "</table>\n",
              "</div>\n",
              "      <button class=\"colab-df-convert\" onclick=\"convertToInteractive('df-5130d56c-e960-408b-9379-62997dfe59fd')\"\n",
              "              title=\"Convert this dataframe to an interactive table.\"\n",
              "              style=\"display:none;\">\n",
              "        \n",
              "  <svg xmlns=\"http://www.w3.org/2000/svg\" height=\"24px\"viewBox=\"0 0 24 24\"\n",
              "       width=\"24px\">\n",
              "    <path d=\"M0 0h24v24H0V0z\" fill=\"none\"/>\n",
              "    <path d=\"M18.56 5.44l.94 2.06.94-2.06 2.06-.94-2.06-.94-.94-2.06-.94 2.06-2.06.94zm-11 1L8.5 8.5l.94-2.06 2.06-.94-2.06-.94L8.5 2.5l-.94 2.06-2.06.94zm10 10l.94 2.06.94-2.06 2.06-.94-2.06-.94-.94-2.06-.94 2.06-2.06.94z\"/><path d=\"M17.41 7.96l-1.37-1.37c-.4-.4-.92-.59-1.43-.59-.52 0-1.04.2-1.43.59L10.3 9.45l-7.72 7.72c-.78.78-.78 2.05 0 2.83L4 21.41c.39.39.9.59 1.41.59.51 0 1.02-.2 1.41-.59l7.78-7.78 2.81-2.81c.8-.78.8-2.07 0-2.86zM5.41 20L4 18.59l7.72-7.72 1.47 1.35L5.41 20z\"/>\n",
              "  </svg>\n",
              "      </button>\n",
              "      \n",
              "  <style>\n",
              "    .colab-df-container {\n",
              "      display:flex;\n",
              "      flex-wrap:wrap;\n",
              "      gap: 12px;\n",
              "    }\n",
              "\n",
              "    .colab-df-convert {\n",
              "      background-color: #E8F0FE;\n",
              "      border: none;\n",
              "      border-radius: 50%;\n",
              "      cursor: pointer;\n",
              "      display: none;\n",
              "      fill: #1967D2;\n",
              "      height: 32px;\n",
              "      padding: 0 0 0 0;\n",
              "      width: 32px;\n",
              "    }\n",
              "\n",
              "    .colab-df-convert:hover {\n",
              "      background-color: #E2EBFA;\n",
              "      box-shadow: 0px 1px 2px rgba(60, 64, 67, 0.3), 0px 1px 3px 1px rgba(60, 64, 67, 0.15);\n",
              "      fill: #174EA6;\n",
              "    }\n",
              "\n",
              "    [theme=dark] .colab-df-convert {\n",
              "      background-color: #3B4455;\n",
              "      fill: #D2E3FC;\n",
              "    }\n",
              "\n",
              "    [theme=dark] .colab-df-convert:hover {\n",
              "      background-color: #434B5C;\n",
              "      box-shadow: 0px 1px 3px 1px rgba(0, 0, 0, 0.15);\n",
              "      filter: drop-shadow(0px 1px 2px rgba(0, 0, 0, 0.3));\n",
              "      fill: #FFFFFF;\n",
              "    }\n",
              "  </style>\n",
              "\n",
              "      <script>\n",
              "        const buttonEl =\n",
              "          document.querySelector('#df-5130d56c-e960-408b-9379-62997dfe59fd button.colab-df-convert');\n",
              "        buttonEl.style.display =\n",
              "          google.colab.kernel.accessAllowed ? 'block' : 'none';\n",
              "\n",
              "        async function convertToInteractive(key) {\n",
              "          const element = document.querySelector('#df-5130d56c-e960-408b-9379-62997dfe59fd');\n",
              "          const dataTable =\n",
              "            await google.colab.kernel.invokeFunction('convertToInteractive',\n",
              "                                                     [key], {});\n",
              "          if (!dataTable) return;\n",
              "\n",
              "          const docLinkHtml = 'Like what you see? Visit the ' +\n",
              "            '<a target=\"_blank\" href=https://colab.research.google.com/notebooks/data_table.ipynb>data table notebook</a>'\n",
              "            + ' to learn more about interactive tables.';\n",
              "          element.innerHTML = '';\n",
              "          dataTable['output_type'] = 'display_data';\n",
              "          await google.colab.output.renderOutput(dataTable, element);\n",
              "          const docLink = document.createElement('div');\n",
              "          docLink.innerHTML = docLinkHtml;\n",
              "          element.appendChild(docLink);\n",
              "        }\n",
              "      </script>\n",
              "    </div>\n",
              "  </div>\n",
              "  "
            ]
          },
          "metadata": {},
          "execution_count": 14
        }
      ],
      "source": [
        "df.tail() # получение последних строк df"
      ]
    },
    {
      "cell_type": "markdown",
      "id": "f5144612",
      "metadata": {
        "id": "f5144612"
      },
      "source": [
        "Построив гистограмму, убедимся, что в столбце не осталось отрицательных значений."
      ]
    },
    {
      "cell_type": "code",
      "execution_count": 15,
      "id": "50a8dd4f",
      "metadata": {
        "colab": {
          "base_uri": "https://localhost:8080/",
          "height": 447
        },
        "id": "50a8dd4f",
        "outputId": "875cf38d-7ebf-44d3-d396-57eb698fe394"
      },
      "outputs": [
        {
          "output_type": "execute_result",
          "data": {
            "text/plain": [
              "<Axes: >"
            ]
          },
          "metadata": {},
          "execution_count": 15
        },
        {
          "output_type": "display_data",
          "data": {
            "text/plain": [
              "<Figure size 640x480 with 1 Axes>"
            ],
            "image/png": "[encoded data removed]"
          },
          "metadata": {}
        }
      ],
      "source": [
        "df['days_employed'].hist() # построение гистограммы столбца 'days_employed'"
      ]
    },
    {
      "cell_type": "markdown",
      "id": "b6449cb1",
      "metadata": {
        "id": "b6449cb1"
      },
      "source": [
        "Метод сработал верно. Теперь, когда в столбце не осталось отрицательных значений, рассчитаем медиану и заменим ею пропуски в данном столбце. "
      ]
    },
    {
      "cell_type": "code",
      "execution_count": 16,
      "id": "65371023",
      "metadata": {
        "colab": {
          "base_uri": "https://localhost:8080/"
        },
        "id": "65371023",
        "outputId": "d9d16510-fecd-4c54-82ee-be54af9d9488"
      },
      "outputs": [
        {
          "output_type": "execute_result",
          "data": {
            "text/plain": [
              "2194.220566878695"
            ]
          },
          "metadata": {},
          "execution_count": 16
        }
      ],
      "source": [
        "days_employed_avg = df['days_employed'].median() # расчет медианы для столбца 'days_employed' после исправления ошибок\n",
        "                                                 # в данных, и сохранение результата в переменную days_employed_avg\n",
        "days_employed_avg # вывод значения переменной на экран "
      ]
    },
    {
      "cell_type": "markdown",
      "id": "02a608ea",
      "metadata": {
        "id": "02a608ea"
      },
      "source": [
        "На этот раз медиана составила 2194,0, что соответсвтует 6 годам трудового стажа. Используя метод `fillna()` передадим это значение вместо пропусков `NaN`."
      ]
    },
    {
      "cell_type": "code",
      "execution_count": 17,
      "id": "23e8df3f",
      "metadata": {
        "colab": {
          "base_uri": "https://localhost:8080/"
        },
        "id": "23e8df3f",
        "outputId": "099cc947-d846-476f-bbfe-ab94051d1ae6"
      },
      "outputs": [
        {
          "output_type": "execute_result",
          "data": {
            "text/plain": [
              "children            0\n",
              "days_employed       0\n",
              "dob_years           0\n",
              "education           0\n",
              "education_id        0\n",
              "family_status       0\n",
              "family_status_id    0\n",
              "gender              0\n",
              "income_type         0\n",
              "debt                0\n",
              "total_income        0\n",
              "purpose             0\n",
              "dtype: int64"
            ]
          },
          "metadata": {},
          "execution_count": 17
        }
      ],
      "source": [
        "df['days_employed'] = df['days_employed'].fillna(days_employed_avg) # замена пропусков медианным значением\n",
        "df.isna().sum() # подсчет пропусков "
      ]
    },
    {
      "cell_type": "markdown",
      "id": "5b3be8d8",
      "metadata": {
        "id": "5b3be8d8"
      },
      "source": [
        "Сочетание методов `isna()`и `sum()` помогает убедиться, что пропуски в таблице отработаны полностью."
      ]
    },
    {
      "cell_type": "markdown",
      "id": "d6527a8b",
      "metadata": {
        "id": "d6527a8b"
      },
      "source": [
        "Теперь перейдем к аномально большим значениям стажа. Отфильтруем таблицу по столбцу `'days_employed'` и рассмотрим строки, в которых стаж составляет более 300000 дней."
      ]
    },
    {
      "cell_type": "code",
      "execution_count": 18,
      "id": "35a85b10",
      "metadata": {
        "colab": {
          "base_uri": "https://localhost:8080/",
          "height": 206
        },
        "id": "35a85b10",
        "outputId": "3a494574-6b74-4547-d0e2-6b86d59f6efa"
      },
      "outputs": [
        {
          "output_type": "execute_result",
          "data": {
            "text/plain": [
              "    children  days_employed  dob_years education  education_id  \\\n",
              "4          0  340266.072047         53   среднее             1   \n",
              "18         0  400281.136913         53   среднее             1   \n",
              "24         1  338551.952911         57   среднее             1   \n",
              "25         0  363548.489348         67   среднее             1   \n",
              "30         1  335581.668515         62   среднее             1   \n",
              "\n",
              "            family_status  family_status_id gender income_type  debt  \\\n",
              "4        гражданский брак                 1      F   пенсионер     0   \n",
              "18         вдовец / вдова                 2      F   пенсионер     0   \n",
              "24  Не женат / не замужем                 4      F   пенсионер     0   \n",
              "25        женат / замужем                 0      M   пенсионер     0   \n",
              "30        женат / замужем                 0      F   пенсионер     0   \n",
              "\n",
              "     total_income                                purpose  \n",
              "4   158616.077870                        сыграть свадьбу  \n",
              "18   56823.777243     на покупку подержанного автомобиля  \n",
              "24  290547.235997  операции с коммерческой недвижимостью  \n",
              "25   55112.757732                   покупка недвижимости  \n",
              "30  171456.067993  операции с коммерческой недвижимостью  "
            ],
            "text/html": [
              "\n",
              "  <div id=\"df-60c80bc2-894b-478f-be54-fc686c307a94\">\n",
              "    <div class=\"colab-df-container\">\n",
              "      <div>\n",
              "<style scoped>\n",
              "    .dataframe tbody tr th:only-of-type {\n",
              "        vertical-align: middle;\n",
              "    }\n",
              "\n",
              "    .dataframe tbody tr th {\n",
              "        vertical-align: top;\n",
              "    }\n",
              "\n",
              "    .dataframe thead th {\n",
              "        text-align: right;\n",
              "    }\n",
              "</style>\n",
              "<table border=\"1\" class=\"dataframe\">\n",
              "  <thead>\n",
              "    <tr style=\"text-align: right;\">\n",
              "      <th></th>\n",
              "      <th>children</th>\n",
              "      <th>days_employed</th>\n",
              "      <th>dob_years</th>\n",
              "      <th>education</th>\n",
              "      <th>education_id</th>\n",
              "      <th>family_status</th>\n",
              "      <th>family_status_id</th>\n",
              "      <th>gender</th>\n",
              "      <th>income_type</th>\n",
              "      <th>debt</th>\n",
              "      <th>total_income</th>\n",
              "      <th>purpose</th>\n",
              "    </tr>\n",
              "  </thead>\n",
              "  <tbody>\n",
              "    <tr>\n",
              "      <th>4</th>\n",
              "      <td>0</td>\n",
              "      <td>340266.072047</td>\n",
              "      <td>53</td>\n",
              "      <td>среднее</td>\n",
              "      <td>1</td>\n",
              "      <td>гражданский брак</td>\n",
              "      <td>1</td>\n",
              "      <td>F</td>\n",
              "      <td>пенсионер</td>\n",
              "      <td>0</td>\n",
              "      <td>158616.077870</td>\n",
              "      <td>сыграть свадьбу</td>\n",
              "    </tr>\n",
              "    <tr>\n",
              "      <th>18</th>\n",
              "      <td>0</td>\n",
              "      <td>400281.136913</td>\n",
              "      <td>53</td>\n",
              "      <td>среднее</td>\n",
              "      <td>1</td>\n",
              "      <td>вдовец / вдова</td>\n",
              "      <td>2</td>\n",
              "      <td>F</td>\n",
              "      <td>пенсионер</td>\n",
              "      <td>0</td>\n",
              "      <td>56823.777243</td>\n",
              "      <td>на покупку подержанного автомобиля</td>\n",
              "    </tr>\n",
              "    <tr>\n",
              "      <th>24</th>\n",
              "      <td>1</td>\n",
              "      <td>338551.952911</td>\n",
              "      <td>57</td>\n",
              "      <td>среднее</td>\n",
              "      <td>1</td>\n",
              "      <td>Не женат / не замужем</td>\n",
              "      <td>4</td>\n",
              "      <td>F</td>\n",
              "      <td>пенсионер</td>\n",
              "      <td>0</td>\n",
              "      <td>290547.235997</td>\n",
              "      <td>операции с коммерческой недвижимостью</td>\n",
              "    </tr>\n",
              "    <tr>\n",
              "      <th>25</th>\n",
              "      <td>0</td>\n",
              "      <td>363548.489348</td>\n",
              "      <td>67</td>\n",
              "      <td>среднее</td>\n",
              "      <td>1</td>\n",
              "      <td>женат / замужем</td>\n",
              "      <td>0</td>\n",
              "      <td>M</td>\n",
              "      <td>пенсионер</td>\n",
              "      <td>0</td>\n",
              "      <td>55112.757732</td>\n",
              "      <td>покупка недвижимости</td>\n",
              "    </tr>\n",
              "    <tr>\n",
              "      <th>30</th>\n",
              "      <td>1</td>\n",
              "      <td>335581.668515</td>\n",
              "      <td>62</td>\n",
              "      <td>среднее</td>\n",
              "      <td>1</td>\n",
              "      <td>женат / замужем</td>\n",
              "      <td>0</td>\n",
              "      <td>F</td>\n",
              "      <td>пенсионер</td>\n",
              "      <td>0</td>\n",
              "      <td>171456.067993</td>\n",
              "      <td>операции с коммерческой недвижимостью</td>\n",
              "    </tr>\n",
              "  </tbody>\n",
              "</table>\n",
              "</div>\n",
              "      <button class=\"colab-df-convert\" onclick=\"convertToInteractive('df-60c80bc2-894b-478f-be54-fc686c307a94')\"\n",
              "              title=\"Convert this dataframe to an interactive table.\"\n",
              "              style=\"display:none;\">\n",
              "        \n",
              "  <svg xmlns=\"http://www.w3.org/2000/svg\" height=\"24px\"viewBox=\"0 0 24 24\"\n",
              "       width=\"24px\">\n",
              "    <path d=\"M0 0h24v24H0V0z\" fill=\"none\"/>\n",
              "    <path d=\"M18.56 5.44l.94 2.06.94-2.06 2.06-.94-2.06-.94-.94-2.06-.94 2.06-2.06.94zm-11 1L8.5 8.5l.94-2.06 2.06-.94-2.06-.94L8.5 2.5l-.94 2.06-2.06.94zm10 10l.94 2.06.94-2.06 2.06-.94-2.06-.94-.94-2.06-.94 2.06-2.06.94z\"/><path d=\"M17.41 7.96l-1.37-1.37c-.4-.4-.92-.59-1.43-.59-.52 0-1.04.2-1.43.59L10.3 9.45l-7.72 7.72c-.78.78-.78 2.05 0 2.83L4 21.41c.39.39.9.59 1.41.59.51 0 1.02-.2 1.41-.59l7.78-7.78 2.81-2.81c.8-.78.8-2.07 0-2.86zM5.41 20L4 18.59l7.72-7.72 1.47 1.35L5.41 20z\"/>\n",
              "  </svg>\n",
              "      </button>\n",
              "      \n",
              "  <style>\n",
              "    .colab-df-container {\n",
              "      display:flex;\n",
              "      flex-wrap:wrap;\n",
              "      gap: 12px;\n",
              "    }\n",
              "\n",
              "    .colab-df-convert {\n",
              "      background-color: #E8F0FE;\n",
              "      border: none;\n",
              "      border-radius: 50%;\n",
              "      cursor: pointer;\n",
              "      display: none;\n",
              "      fill: #1967D2;\n",
              "      height: 32px;\n",
              "      padding: 0 0 0 0;\n",
              "      width: 32px;\n",
              "    }\n",
              "\n",
              "    .colab-df-convert:hover {\n",
              "      background-color: #E2EBFA;\n",
              "      box-shadow: 0px 1px 2px rgba(60, 64, 67, 0.3), 0px 1px 3px 1px rgba(60, 64, 67, 0.15);\n",
              "      fill: #174EA6;\n",
              "    }\n",
              "\n",
              "    [theme=dark] .colab-df-convert {\n",
              "      background-color: #3B4455;\n",
              "      fill: #D2E3FC;\n",
              "    }\n",
              "\n",
              "    [theme=dark] .colab-df-convert:hover {\n",
              "      background-color: #434B5C;\n",
              "      box-shadow: 0px 1px 3px 1px rgba(0, 0, 0, 0.15);\n",
              "      filter: drop-shadow(0px 1px 2px rgba(0, 0, 0, 0.3));\n",
              "      fill: #FFFFFF;\n",
              "    }\n",
              "  </style>\n",
              "\n",
              "      <script>\n",
              "        const buttonEl =\n",
              "          document.querySelector('#df-60c80bc2-894b-478f-be54-fc686c307a94 button.colab-df-convert');\n",
              "        buttonEl.style.display =\n",
              "          google.colab.kernel.accessAllowed ? 'block' : 'none';\n",
              "\n",
              "        async function convertToInteractive(key) {\n",
              "          const element = document.querySelector('#df-60c80bc2-894b-478f-be54-fc686c307a94');\n",
              "          const dataTable =\n",
              "            await google.colab.kernel.invokeFunction('convertToInteractive',\n",
              "                                                     [key], {});\n",
              "          if (!dataTable) return;\n",
              "\n",
              "          const docLinkHtml = 'Like what you see? Visit the ' +\n",
              "            '<a target=\"_blank\" href=https://colab.research.google.com/notebooks/data_table.ipynb>data table notebook</a>'\n",
              "            + ' to learn more about interactive tables.';\n",
              "          element.innerHTML = '';\n",
              "          dataTable['output_type'] = 'display_data';\n",
              "          await google.colab.output.renderOutput(dataTable, element);\n",
              "          const docLink = document.createElement('div');\n",
              "          docLink.innerHTML = docLinkHtml;\n",
              "          element.appendChild(docLink);\n",
              "        }\n",
              "      </script>\n",
              "    </div>\n",
              "  </div>\n",
              "  "
            ]
          },
          "metadata": {},
          "execution_count": 18
        }
      ],
      "source": [
        "df[df['days_employed'] > 300000].head() # получение первых строк с аномальными значениями "
      ]
    },
    {
      "cell_type": "markdown",
      "id": "6e9df207",
      "metadata": {
        "id": "6e9df207"
      },
      "source": [
        "Аномальные значения в графе `'days_employed'` пренадлежат пенсионерам.  \n",
        "\n",
        "Можем предположить, что данные по стажу в этих строках записаны не в днях, а в часах. Так как информация о стаже не влияет на результаты исследования, можем заменить ошибочные значения рассчитанной ранее медианой. Для замены спользуем собственную функцию `day_empl_avg`, которая вернет медианное значение для строк со стажем больше 300000 дней."
      ]
    },
    {
      "cell_type": "code",
      "execution_count": 19,
      "id": "7b8880cd",
      "metadata": {
        "id": "7b8880cd"
      },
      "outputs": [],
      "source": [
        "def day_empl_avg(day): # функция для замены аномальных значений медианными\n",
        "    if day > 300000:\n",
        "        return days_employed_avg\n",
        "    return day"
      ]
    },
    {
      "cell_type": "markdown",
      "id": "498bb1cf",
      "metadata": {
        "id": "498bb1cf"
      },
      "source": [
        "Применим функцию к столбцу `'days_employed'`."
      ]
    },
    {
      "cell_type": "code",
      "execution_count": 20,
      "id": "7a21ddd9",
      "metadata": {
        "id": "7a21ddd9"
      },
      "outputs": [],
      "source": [
        "df['days_employed'] = df['days_employed'].apply(day_empl_avg) # применение функции days_employed"
      ]
    },
    {
      "cell_type": "markdown",
      "id": "235b8464",
      "metadata": {
        "id": "235b8464"
      },
      "source": [
        "Построим гистрограмму и убедимся, что функция сработала верно."
      ]
    },
    {
      "cell_type": "code",
      "execution_count": 21,
      "id": "d18feadf",
      "metadata": {
        "colab": {
          "base_uri": "https://localhost:8080/",
          "height": 447
        },
        "id": "d18feadf",
        "outputId": "dbad0bf8-fae1-4725-d1ee-ee19cfd618c1"
      },
      "outputs": [
        {
          "output_type": "execute_result",
          "data": {
            "text/plain": [
              "<Axes: >"
            ]
          },
          "metadata": {},
          "execution_count": 21
        },
        {
          "output_type": "display_data",
          "data": {
            "text/plain": [
              "<Figure size 640x480 with 1 Axes>"
            ],
            "image/png": "[encoded data removed]"
          },
          "metadata": {}
        }
      ],
      "source": [
        "df['days_employed'].hist() # построение гистограммы для столбца 'days_employed'"
      ]
    },
    {
      "cell_type": "markdown",
      "id": "6b02f899",
      "metadata": {
        "id": "6b02f899"
      },
      "source": [
        "Самое большое значение стажа на шкале гистограммы - 17500 дней, в столбце не осталось аномальных значений."
      ]
    },
    {
      "cell_type": "markdown",
      "id": "5e597cab",
      "metadata": {
        "id": "5e597cab"
      },
      "source": [
        "#### Проверка данных в столбце 'dob_years'  <a id='step_2.2_dob_years'></a>"
      ]
    },
    {
      "cell_type": "markdown",
      "id": "41d2785e",
      "metadata": {
        "id": "41d2785e"
      },
      "source": [
        "Выберем уникальные значения столбца `'dob_years'` используя метод `unique()` и отсортируем их в порядуе возрастания с помощью `sort_values()`."
      ]
    },
    {
      "cell_type": "code",
      "execution_count": 22,
      "id": "89be7016",
      "metadata": {
        "colab": {
          "base_uri": "https://localhost:8080/"
        },
        "id": "89be7016",
        "outputId": "f1a925be-f598-4ad0-e6ae-d31a462e401f"
      },
      "outputs": [
        {
          "output_type": "execute_result",
          "data": {
            "text/plain": [
              "array([ 0, 19, 20, 21, 22, 23, 24, 25, 26, 27, 28, 29, 30, 31, 32, 33, 34,\n",
              "       35, 36, 37, 38, 39, 40, 41, 42, 43, 44, 45, 46, 47, 48, 49, 50, 51,\n",
              "       52, 53, 54, 55, 56, 57, 58, 59, 60, 61, 62, 63, 64, 65, 66, 67, 68,\n",
              "       69, 70, 71, 72, 73, 74, 75])"
            ]
          },
          "metadata": {},
          "execution_count": 22
        }
      ],
      "source": [
        " df['dob_years'].sort_values().unique() # проверка уникальных значений в столбце 'dob_years'"
      ]
    },
    {
      "cell_type": "markdown",
      "id": "3e265922",
      "metadata": {
        "id": "3e265922"
      },
      "source": [
        "В таблице у некоторых клиентов указан возраст 0 лет. "
      ]
    },
    {
      "cell_type": "markdown",
      "id": "0bc5dffb",
      "metadata": {
        "id": "0bc5dffb"
      },
      "source": [
        "Выведем на экран строки с ошибкой."
      ]
    },
    {
      "cell_type": "code",
      "execution_count": 23,
      "id": "6562e9ed",
      "metadata": {
        "colab": {
          "base_uri": "https://localhost:8080/",
          "height": 424
        },
        "id": "6562e9ed",
        "outputId": "5850a703-dc0e-4dd1-c251-d388244a8613"
      },
      "outputs": [
        {
          "output_type": "execute_result",
          "data": {
            "text/plain": [
              "       children  days_employed  dob_years education  education_id  \\\n",
              "99            0    2194.220567          0   Среднее             1   \n",
              "149           0    2664.273168          0   среднее             1   \n",
              "270           3    1872.663186          0   среднее             1   \n",
              "578           0    2194.220567          0   среднее             1   \n",
              "1040          0    1158.029561          0    высшее             0   \n",
              "...         ...            ...        ...       ...           ...   \n",
              "19829         0    2194.220567          0   среднее             1   \n",
              "20462         0    2194.220567          0   среднее             1   \n",
              "20577         0    2194.220567          0   среднее             1   \n",
              "21179         2     108.967042          0    высшее             0   \n",
              "21313         0    1268.487728          0   среднее             1   \n",
              "\n",
              "               family_status  family_status_id gender income_type  debt  \\\n",
              "99           женат / замужем                 0      F   пенсионер     0   \n",
              "149                в разводе                 3      F   сотрудник     0   \n",
              "270          женат / замужем                 0      F   сотрудник     0   \n",
              "578          женат / замужем                 0      F   пенсионер     0   \n",
              "1040               в разводе                 3      F   компаньон     0   \n",
              "...                      ...               ...    ...         ...   ...   \n",
              "19829        женат / замужем                 0      F   сотрудник     0   \n",
              "20462        женат / замужем                 0      F   пенсионер     0   \n",
              "20577  Не женат / не замужем                 4      F   пенсионер     0   \n",
              "21179        женат / замужем                 0      M   компаньон     0   \n",
              "21313  Не женат / не замужем                 4      M   сотрудник     0   \n",
              "\n",
              "        total_income                                 purpose  \n",
              "99      71291.522491                              автомобиль  \n",
              "149     70176.435951                       операции с жильем  \n",
              "270    102166.458894                            ремонт жилью  \n",
              "578     97620.687042  строительство собственной недвижимости  \n",
              "1040   303994.134987                         свой автомобиль  \n",
              "...              ...                                     ...  \n",
              "19829  145017.937533                                   жилье  \n",
              "20462  259193.920299                    покупка своего жилья  \n",
              "20577  129788.762899                            недвижимость  \n",
              "21179  240702.007382        строительство жилой недвижимости  \n",
              "21313  152419.184851                       операции с жильем  \n",
              "\n",
              "[101 rows x 12 columns]"
            ],
            "text/html": [
              "\n",
              "  <div id=\"df-5f0cba36-85a8-4e20-b751-14ea09426b05\">\n",
              "    <div class=\"colab-df-container\">\n",
              "      <div>\n",
              "<style scoped>\n",
              "    .dataframe tbody tr th:only-of-type {\n",
              "        vertical-align: middle;\n",
              "    }\n",
              "\n",
              "    .dataframe tbody tr th {\n",
              "        vertical-align: top;\n",
              "    }\n",
              "\n",
              "    .dataframe thead th {\n",
              "        text-align: right;\n",
              "    }\n",
              "</style>\n",
              "<table border=\"1\" class=\"dataframe\">\n",
              "  <thead>\n",
              "    <tr style=\"text-align: right;\">\n",
              "      <th></th>\n",
              "      <th>children</th>\n",
              "      <th>days_employed</th>\n",
              "      <th>dob_years</th>\n",
              "      <th>education</th>\n",
              "      <th>education_id</th>\n",
              "      <th>family_status</th>\n",
              "      <th>family_status_id</th>\n",
              "      <th>gender</th>\n",
              "      <th>income_type</th>\n",
              "      <th>debt</th>\n",
              "      <th>total_income</th>\n",
              "      <th>purpose</th>\n",
              "    </tr>\n",
              "  </thead>\n",
              "  <tbody>\n",
              "    <tr>\n",
              "      <th>99</th>\n",
              "      <td>0</td>\n",
              "      <td>2194.220567</td>\n",
              "      <td>0</td>\n",
              "      <td>Среднее</td>\n",
              "      <td>1</td>\n",
              "      <td>женат / замужем</td>\n",
              "      <td>0</td>\n",
              "      <td>F</td>\n",
              "      <td>пенсионер</td>\n",
              "      <td>0</td>\n",
              "      <td>71291.522491</td>\n",
              "      <td>автомобиль</td>\n",
              "    </tr>\n",
              "    <tr>\n",
              "      <th>149</th>\n",
              "      <td>0</td>\n",
              "      <td>2664.273168</td>\n",
              "      <td>0</td>\n",
              "      <td>среднее</td>\n",
              "      <td>1</td>\n",
              "      <td>в разводе</td>\n",
              "      <td>3</td>\n",
              "      <td>F</td>\n",
              "      <td>сотрудник</td>\n",
              "      <td>0</td>\n",
              "      <td>70176.435951</td>\n",
              "      <td>операции с жильем</td>\n",
              "    </tr>\n",
              "    <tr>\n",
              "      <th>270</th>\n",
              "      <td>3</td>\n",
              "      <td>1872.663186</td>\n",
              "      <td>0</td>\n",
              "      <td>среднее</td>\n",
              "      <td>1</td>\n",
              "      <td>женат / замужем</td>\n",
              "      <td>0</td>\n",
              "      <td>F</td>\n",
              "      <td>сотрудник</td>\n",
              "      <td>0</td>\n",
              "      <td>102166.458894</td>\n",
              "      <td>ремонт жилью</td>\n",
              "    </tr>\n",
              "    <tr>\n",
              "      <th>578</th>\n",
              "      <td>0</td>\n",
              "      <td>2194.220567</td>\n",
              "      <td>0</td>\n",
              "      <td>среднее</td>\n",
              "      <td>1</td>\n",
              "      <td>женат / замужем</td>\n",
              "      <td>0</td>\n",
              "      <td>F</td>\n",
              "      <td>пенсионер</td>\n",
              "      <td>0</td>\n",
              "      <td>97620.687042</td>\n",
              "      <td>строительство собственной недвижимости</td>\n",
              "    </tr>\n",
              "    <tr>\n",
              "      <th>1040</th>\n",
              "      <td>0</td>\n",
              "      <td>1158.029561</td>\n",
              "      <td>0</td>\n",
              "      <td>высшее</td>\n",
              "      <td>0</td>\n",
              "      <td>в разводе</td>\n",
              "      <td>3</td>\n",
              "      <td>F</td>\n",
              "      <td>компаньон</td>\n",
              "      <td>0</td>\n",
              "      <td>303994.134987</td>\n",
              "      <td>свой автомобиль</td>\n",
              "    </tr>\n",
              "    <tr>\n",
              "      <th>...</th>\n",
              "      <td>...</td>\n",
              "      <td>...</td>\n",
              "      <td>...</td>\n",
              "      <td>...</td>\n",
              "      <td>...</td>\n",
              "      <td>...</td>\n",
              "      <td>...</td>\n",
              "      <td>...</td>\n",
              "      <td>...</td>\n",
              "      <td>...</td>\n",
              "      <td>...</td>\n",
              "      <td>...</td>\n",
              "    </tr>\n",
              "    <tr>\n",
              "      <th>19829</th>\n",
              "      <td>0</td>\n",
              "      <td>2194.220567</td>\n",
              "      <td>0</td>\n",
              "      <td>среднее</td>\n",
              "      <td>1</td>\n",
              "      <td>женат / замужем</td>\n",
              "      <td>0</td>\n",
              "      <td>F</td>\n",
              "      <td>сотрудник</td>\n",
              "      <td>0</td>\n",
              "      <td>145017.937533</td>\n",
              "      <td>жилье</td>\n",
              "    </tr>\n",
              "    <tr>\n",
              "      <th>20462</th>\n",
              "      <td>0</td>\n",
              "      <td>2194.220567</td>\n",
              "      <td>0</td>\n",
              "      <td>среднее</td>\n",
              "      <td>1</td>\n",
              "      <td>женат / замужем</td>\n",
              "      <td>0</td>\n",
              "      <td>F</td>\n",
              "      <td>пенсионер</td>\n",
              "      <td>0</td>\n",
              "      <td>259193.920299</td>\n",
              "      <td>покупка своего жилья</td>\n",
              "    </tr>\n",
              "    <tr>\n",
              "      <th>20577</th>\n",
              "      <td>0</td>\n",
              "      <td>2194.220567</td>\n",
              "      <td>0</td>\n",
              "      <td>среднее</td>\n",
              "      <td>1</td>\n",
              "      <td>Не женат / не замужем</td>\n",
              "      <td>4</td>\n",
              "      <td>F</td>\n",
              "      <td>пенсионер</td>\n",
              "      <td>0</td>\n",
              "      <td>129788.762899</td>\n",
              "      <td>недвижимость</td>\n",
              "    </tr>\n",
              "    <tr>\n",
              "      <th>21179</th>\n",
              "      <td>2</td>\n",
              "      <td>108.967042</td>\n",
              "      <td>0</td>\n",
              "      <td>высшее</td>\n",
              "      <td>0</td>\n",
              "      <td>женат / замужем</td>\n",
              "      <td>0</td>\n",
              "      <td>M</td>\n",
              "      <td>компаньон</td>\n",
              "      <td>0</td>\n",
              "      <td>240702.007382</td>\n",
              "      <td>строительство жилой недвижимости</td>\n",
              "    </tr>\n",
              "    <tr>\n",
              "      <th>21313</th>\n",
              "      <td>0</td>\n",
              "      <td>1268.487728</td>\n",
              "      <td>0</td>\n",
              "      <td>среднее</td>\n",
              "      <td>1</td>\n",
              "      <td>Не женат / не замужем</td>\n",
              "      <td>4</td>\n",
              "      <td>M</td>\n",
              "      <td>сотрудник</td>\n",
              "      <td>0</td>\n",
              "      <td>152419.184851</td>\n",
              "      <td>операции с жильем</td>\n",
              "    </tr>\n",
              "  </tbody>\n",
              "</table>\n",
              "<p>101 rows × 12 columns</p>\n",
              "</div>\n",
              "      <button class=\"colab-df-convert\" onclick=\"convertToInteractive('df-5f0cba36-85a8-4e20-b751-14ea09426b05')\"\n",
              "              title=\"Convert this dataframe to an interactive table.\"\n",
              "              style=\"display:none;\">\n",
              "        \n",
              "  <svg xmlns=\"http://www.w3.org/2000/svg\" height=\"24px\"viewBox=\"0 0 24 24\"\n",
              "       width=\"24px\">\n",
              "    <path d=\"M0 0h24v24H0V0z\" fill=\"none\"/>\n",
              "    <path d=\"M18.56 5.44l.94 2.06.94-2.06 2.06-.94-2.06-.94-.94-2.06-.94 2.06-2.06.94zm-11 1L8.5 8.5l.94-2.06 2.06-.94-2.06-.94L8.5 2.5l-.94 2.06-2.06.94zm10 10l.94 2.06.94-2.06 2.06-.94-2.06-.94-.94-2.06-.94 2.06-2.06.94z\"/><path d=\"M17.41 7.96l-1.37-1.37c-.4-.4-.92-.59-1.43-.59-.52 0-1.04.2-1.43.59L10.3 9.45l-7.72 7.72c-.78.78-.78 2.05 0 2.83L4 21.41c.39.39.9.59 1.41.59.51 0 1.02-.2 1.41-.59l7.78-7.78 2.81-2.81c.8-.78.8-2.07 0-2.86zM5.41 20L4 18.59l7.72-7.72 1.47 1.35L5.41 20z\"/>\n",
              "  </svg>\n",
              "      </button>\n",
              "      \n",
              "  <style>\n",
              "    .colab-df-container {\n",
              "      display:flex;\n",
              "      flex-wrap:wrap;\n",
              "      gap: 12px;\n",
              "    }\n",
              "\n",
              "    .colab-df-convert {\n",
              "      background-color: #E8F0FE;\n",
              "      border: none;\n",
              "      border-radius: 50%;\n",
              "      cursor: pointer;\n",
              "      display: none;\n",
              "      fill: #1967D2;\n",
              "      height: 32px;\n",
              "      padding: 0 0 0 0;\n",
              "      width: 32px;\n",
              "    }\n",
              "\n",
              "    .colab-df-convert:hover {\n",
              "      background-color: #E2EBFA;\n",
              "      box-shadow: 0px 1px 2px rgba(60, 64, 67, 0.3), 0px 1px 3px 1px rgba(60, 64, 67, 0.15);\n",
              "      fill: #174EA6;\n",
              "    }\n",
              "\n",
              "    [theme=dark] .colab-df-convert {\n",
              "      background-color: #3B4455;\n",
              "      fill: #D2E3FC;\n",
              "    }\n",
              "\n",
              "    [theme=dark] .colab-df-convert:hover {\n",
              "      background-color: #434B5C;\n",
              "      box-shadow: 0px 1px 3px 1px rgba(0, 0, 0, 0.15);\n",
              "      filter: drop-shadow(0px 1px 2px rgba(0, 0, 0, 0.3));\n",
              "      fill: #FFFFFF;\n",
              "    }\n",
              "  </style>\n",
              "\n",
              "      <script>\n",
              "        const buttonEl =\n",
              "          document.querySelector('#df-5f0cba36-85a8-4e20-b751-14ea09426b05 button.colab-df-convert');\n",
              "        buttonEl.style.display =\n",
              "          google.colab.kernel.accessAllowed ? 'block' : 'none';\n",
              "\n",
              "        async function convertToInteractive(key) {\n",
              "          const element = document.querySelector('#df-5f0cba36-85a8-4e20-b751-14ea09426b05');\n",
              "          const dataTable =\n",
              "            await google.colab.kernel.invokeFunction('convertToInteractive',\n",
              "                                                     [key], {});\n",
              "          if (!dataTable) return;\n",
              "\n",
              "          const docLinkHtml = 'Like what you see? Visit the ' +\n",
              "            '<a target=\"_blank\" href=https://colab.research.google.com/notebooks/data_table.ipynb>data table notebook</a>'\n",
              "            + ' to learn more about interactive tables.';\n",
              "          element.innerHTML = '';\n",
              "          dataTable['output_type'] = 'display_data';\n",
              "          await google.colab.output.renderOutput(dataTable, element);\n",
              "          const docLink = document.createElement('div');\n",
              "          docLink.innerHTML = docLinkHtml;\n",
              "          element.appendChild(docLink);\n",
              "        }\n",
              "      </script>\n",
              "    </div>\n",
              "  </div>\n",
              "  "
            ]
          },
          "metadata": {},
          "execution_count": 23
        }
      ],
      "source": [
        "df[df['dob_years']<18] # просмотр строк в которых вместо возраста клиента указан 0"
      ]
    },
    {
      "cell_type": "markdown",
      "id": "3dda8021",
      "metadata": {
        "id": "3dda8021"
      },
      "source": [
        "В 101 строке вместо возраста клиента указан 0. Чтобы не терять эти строки, заменим ошибочные значения медианой."
      ]
    },
    {
      "cell_type": "markdown",
      "id": "2c3808aa",
      "metadata": {
        "id": "2c3808aa"
      },
      "source": [
        "Методом `median()` рассчитаем медиану для столбца `'dob_years'` и сохраним ее значение в переменную `dob_years_avg`. Для замены используем собственную функцию `dob_year_avg`."
      ]
    },
    {
      "cell_type": "code",
      "execution_count": 24,
      "id": "2fd7e3bc",
      "metadata": {
        "colab": {
          "base_uri": "https://localhost:8080/"
        },
        "id": "2fd7e3bc",
        "outputId": "9747bfc7-800e-410f-980c-8945c2b65987"
      },
      "outputs": [
        {
          "output_type": "execute_result",
          "data": {
            "text/plain": [
              "42.0"
            ]
          },
          "metadata": {},
          "execution_count": 24
        }
      ],
      "source": [
        "dob_years_avg = df['dob_years'].median() # расчет медианы столбца 'dob_years' и сохранение ее в переменную dob_years_avg\n",
        "dob_years_avg # вывод значения переменной dob_years_avg на экран"
      ]
    },
    {
      "cell_type": "code",
      "execution_count": 25,
      "id": "0c890eaf",
      "metadata": {
        "id": "0c890eaf"
      },
      "outputs": [],
      "source": [
        "def dob_year_avg(age): # функция для замены аномальных значений медианными. \n",
        "    if age < 18:\n",
        "        return dob_years_avg\n",
        "    return age"
      ]
    },
    {
      "cell_type": "markdown",
      "id": "28a86191",
      "metadata": {
        "id": "28a86191"
      },
      "source": [
        "Применим функцию `dob_year_avg` к столбцу `'dob_years'`."
      ]
    },
    {
      "cell_type": "code",
      "execution_count": 26,
      "id": "26ec5bc8",
      "metadata": {
        "id": "26ec5bc8"
      },
      "outputs": [],
      "source": [
        "df['dob_years'] = df['dob_years'].apply(dob_year_avg) # применение функции к столбцу 'dob_years' методом apply()"
      ]
    },
    {
      "cell_type": "markdown",
      "id": "a403af4e",
      "metadata": {
        "id": "a403af4e"
      },
      "source": [
        "Для проверки выведем уникальные значения столбца `'dob_years'`."
      ]
    },
    {
      "cell_type": "code",
      "execution_count": 27,
      "id": "d070cf56",
      "metadata": {
        "colab": {
          "base_uri": "https://localhost:8080/"
        },
        "id": "d070cf56",
        "outputId": "fa896853-0273-47bf-ba2b-eb2d4a2878f9"
      },
      "outputs": [
        {
          "output_type": "execute_result",
          "data": {
            "text/plain": [
              "array([19., 20., 21., 22., 23., 24., 25., 26., 27., 28., 29., 30., 31.,\n",
              "       32., 33., 34., 35., 36., 37., 38., 39., 40., 41., 42., 43., 44.,\n",
              "       45., 46., 47., 48., 49., 50., 51., 52., 53., 54., 55., 56., 57.,\n",
              "       58., 59., 60., 61., 62., 63., 64., 65., 66., 67., 68., 69., 70.,\n",
              "       71., 72., 73., 74., 75.])"
            ]
          },
          "metadata": {},
          "execution_count": 27
        }
      ],
      "source": [
        "df['dob_years'].sort_values().unique() # просмотр уникальных значений в столбце 'dob_years' и сортировка их по возрастанию"
      ]
    },
    {
      "cell_type": "markdown",
      "id": "fdce1202",
      "metadata": {
        "id": "fdce1202"
      },
      "source": [
        "В столбце `'dob_years'` не осталось нетипичных значений."
      ]
    },
    {
      "cell_type": "code",
      "execution_count": 28,
      "id": "67c5d155",
      "metadata": {
        "colab": {
          "base_uri": "https://localhost:8080/",
          "height": 447
        },
        "id": "67c5d155",
        "outputId": "1977da5c-53dd-43cf-c598-078a6b5c9a9c"
      },
      "outputs": [
        {
          "output_type": "execute_result",
          "data": {
            "text/plain": [
              "<Axes: >"
            ]
          },
          "metadata": {},
          "execution_count": 28
        },
        {
          "output_type": "display_data",
          "data": {
            "text/plain": [
              "<Figure size 640x480 with 1 Axes>"
            ],
            "image/png": "[encoded data removed]"
          },
          "metadata": {}
        }
      ],
      "source": [
        "df['dob_years'].hist() # построение гистограммы"
      ]
    },
    {
      "cell_type": "markdown",
      "id": "4257a712",
      "metadata": {
        "id": "4257a712"
      },
      "source": [
        "#### Проверка данных в столбце 'education' <a id='step_2.2_education'></a>"
      ]
    },
    {
      "cell_type": "markdown",
      "id": "061ec518",
      "metadata": {
        "id": "061ec518"
      },
      "source": [
        "Ознакомимся с уникальными значениями столбца `'education'` при помощи метода `value_counts()`."
      ]
    },
    {
      "cell_type": "code",
      "execution_count": 29,
      "id": "7556e0df",
      "metadata": {
        "direction": "rtl",
        "colab": {
          "base_uri": "https://localhost:8080/"
        },
        "id": "7556e0df",
        "outputId": "955f06a4-5fd0-432d-a58b-c5a0b3317558"
      },
      "outputs": [
        {
          "output_type": "execute_result",
          "data": {
            "text/plain": [
              "среднее                13750\n",
              "высшее                  4718\n",
              "СРЕДНЕЕ                  772\n",
              "Среднее                  711\n",
              "неоконченное высшее      668\n",
              "ВЫСШЕЕ                   274\n",
              "Высшее                   268\n",
              "начальное                250\n",
              "Неоконченное высшее       47\n",
              "НЕОКОНЧЕННОЕ ВЫСШЕЕ       29\n",
              "НАЧАЛЬНОЕ                 17\n",
              "Начальное                 15\n",
              "ученая степень             4\n",
              "Ученая степень             1\n",
              "УЧЕНАЯ СТЕПЕНЬ             1\n",
              "Name: education, dtype: int64"
            ]
          },
          "metadata": {},
          "execution_count": 29
        }
      ],
      "source": [
        "df['education'].value_counts() # просмотр уникальных значений в столбце 'education' "
      ]
    },
    {
      "cell_type": "markdown",
      "id": "06245274",
      "metadata": {
        "id": "06245274"
      },
      "source": [
        "В данном столбце присутствуют дубликаты - одни и те же значения записанны разным регистром. Подобные ошибки возникают когда данные вносятся вручную, а не выбираются из предлагаемого списка значений. Создание справочника с выбором категории образования помогло бы улучшить качество данных."
      ]
    },
    {
      "cell_type": "markdown",
      "id": "84b9b1e4",
      "metadata": {
        "id": "84b9b1e4"
      },
      "source": [
        "Чтобы привести все значения к одноу регистру и избавиться от дубликатов, воспользуемся методом `str.lower()`."
      ]
    },
    {
      "cell_type": "code",
      "execution_count": 30,
      "id": "97b49379",
      "metadata": {
        "id": "97b49379"
      },
      "outputs": [],
      "source": [
        "df['education'] = df['education'].str.lower() # перевод значений в столбце в нижний регистр методом str.lower()"
      ]
    },
    {
      "cell_type": "code",
      "execution_count": 31,
      "id": "510dc06a",
      "metadata": {
        "colab": {
          "base_uri": "https://localhost:8080/"
        },
        "id": "510dc06a",
        "outputId": "7b0aebae-5cf6-45ab-fcca-c4f96462e5d4"
      },
      "outputs": [
        {
          "output_type": "execute_result",
          "data": {
            "text/plain": [
              "среднее                15233\n",
              "высшее                  5260\n",
              "неоконченное высшее      744\n",
              "начальное                282\n",
              "ученая степень             6\n",
              "Name: education, dtype: int64"
            ]
          },
          "metadata": {},
          "execution_count": 31
        }
      ],
      "source": [
        "df['education'].value_counts() # проверка уникальных значений"
      ]
    },
    {
      "cell_type": "markdown",
      "id": "03550914",
      "metadata": {
        "id": "03550914"
      },
      "source": [
        "В результате мы получили пять категорий образования и никаких дубликатов."
      ]
    },
    {
      "cell_type": "markdown",
      "id": "9b962132",
      "metadata": {
        "id": "9b962132"
      },
      "source": [
        "#### Проверка данных в столбце 'education_id' <a id='step_2.2_education_id'></a>"
      ]
    },
    {
      "cell_type": "markdown",
      "id": "c6443220",
      "metadata": {
        "id": "c6443220"
      },
      "source": [
        "Просмотрим значения в столбце  `'education_id'`. "
      ]
    },
    {
      "cell_type": "code",
      "execution_count": 32,
      "id": "a2cc96d0",
      "metadata": {
        "colab": {
          "base_uri": "https://localhost:8080/"
        },
        "id": "a2cc96d0",
        "outputId": "845e468b-52a3-45d3-a7f9-1de0822271e9"
      },
      "outputs": [
        {
          "output_type": "execute_result",
          "data": {
            "text/plain": [
              "1    15233\n",
              "0     5260\n",
              "2      744\n",
              "3      282\n",
              "4        6\n",
              "Name: education_id, dtype: int64"
            ]
          },
          "metadata": {},
          "execution_count": 32
        }
      ],
      "source": [
        "df['education_id'].value_counts()  # проверка уникальных значений"
      ]
    },
    {
      "cell_type": "markdown",
      "id": "19f86f47",
      "metadata": {
        "id": "19f86f47"
      },
      "source": [
        "Пять значений id, что соответствует пяти категориям образования."
      ]
    },
    {
      "cell_type": "markdown",
      "id": "8917254d",
      "metadata": {
        "id": "8917254d"
      },
      "source": [
        "#### Проверка данных в столбце 'family_status' <a id='step_2.2_family_status'></a>"
      ]
    },
    {
      "cell_type": "markdown",
      "id": "7836df07",
      "metadata": {
        "id": "7836df07"
      },
      "source": [
        "Ознакомимся с уникальными значениями в столбце `'family_status' `."
      ]
    },
    {
      "cell_type": "code",
      "execution_count": 33,
      "id": "0444141c",
      "metadata": {
        "colab": {
          "base_uri": "https://localhost:8080/"
        },
        "id": "0444141c",
        "outputId": "c6e5086c-2429-47ad-c8f1-68f8c451589c"
      },
      "outputs": [
        {
          "output_type": "execute_result",
          "data": {
            "text/plain": [
              "женат / замужем          12380\n",
              "гражданский брак          4177\n",
              "Не женат / не замужем     2813\n",
              "в разводе                 1195\n",
              "вдовец / вдова             960\n",
              "Name: family_status, dtype: int64"
            ]
          },
          "metadata": {},
          "execution_count": 33
        }
      ],
      "source": [
        " df['family_status'].value_counts()  # проверка уникальных значений"
      ]
    },
    {
      "cell_type": "markdown",
      "id": "206a420a",
      "metadata": {
        "id": "206a420a"
      },
      "source": [
        "Пять категорий семейного статуса заемщика. Ошибок не обнаружено."
      ]
    },
    {
      "cell_type": "markdown",
      "id": "a4957c28",
      "metadata": {
        "id": "a4957c28"
      },
      "source": [
        "#### Проверка данных в столбце 'family_status_id' <a id='step_2.2_family_status_id'></a>"
      ]
    },
    {
      "cell_type": "markdown",
      "id": "10eb78ca",
      "metadata": {
        "id": "10eb78ca"
      },
      "source": [
        "Ознакомимся с уникальными значениями в столбце `'family_status_id' `."
      ]
    },
    {
      "cell_type": "code",
      "execution_count": 34,
      "id": "6175dc69",
      "metadata": {
        "colab": {
          "base_uri": "https://localhost:8080/"
        },
        "id": "6175dc69",
        "outputId": "98e343a2-3eef-4b99-8ec2-a6e8cac39489"
      },
      "outputs": [
        {
          "output_type": "execute_result",
          "data": {
            "text/plain": [
              "0    12380\n",
              "1     4177\n",
              "4     2813\n",
              "3     1195\n",
              "2      960\n",
              "Name: family_status_id, dtype: int64"
            ]
          },
          "metadata": {},
          "execution_count": 34
        }
      ],
      "source": [
        "df['family_status_id'].value_counts()  # проверка уникальных значений"
      ]
    },
    {
      "cell_type": "markdown",
      "id": "912ca071",
      "metadata": {
        "id": "912ca071"
      },
      "source": [
        "Пять категорий id, что соответствует данным в столбце `'family_status' `. Ошибок не обнаружено."
      ]
    },
    {
      "cell_type": "markdown",
      "id": "ddd48484",
      "metadata": {
        "id": "ddd48484"
      },
      "source": [
        "#### Проверка данных в столбце 'gender' <a id='step_2.2_gender'></a>"
      ]
    },
    {
      "cell_type": "markdown",
      "id": "f4554e89",
      "metadata": {
        "id": "f4554e89"
      },
      "source": [
        "Выведем уникальные значения столбца `'gender'`."
      ]
    },
    {
      "cell_type": "code",
      "execution_count": 35,
      "id": "fd466f87",
      "metadata": {
        "colab": {
          "base_uri": "https://localhost:8080/"
        },
        "id": "fd466f87",
        "outputId": "5054d29e-f03f-4c9f-fd12-08a7988b5ac6"
      },
      "outputs": [
        {
          "output_type": "execute_result",
          "data": {
            "text/plain": [
              "F      14236\n",
              "M       7288\n",
              "XNA        1\n",
              "Name: gender, dtype: int64"
            ]
          },
          "metadata": {},
          "execution_count": 35
        }
      ],
      "source": [
        "df['gender'].value_counts() # просмотр уникальных значений в столбце 'gender'"
      ]
    },
    {
      "cell_type": "markdown",
      "id": "5883c044",
      "metadata": {
        "id": "5883c044"
      },
      "source": [
        "В одной строке встречается значение пола \"XNA\". Вероятнее всего это ошибка при ручном вводе данных. Заменим пол \"XNA\" на \"М\" используя метод `replace()`.\n"
      ]
    },
    {
      "cell_type": "code",
      "execution_count": 36,
      "id": "5fb24bcd",
      "metadata": {
        "id": "5fb24bcd"
      },
      "outputs": [],
      "source": [
        "df['gender'] = df['gender'].replace('XNA', 'M') # замена ошибочного значения методом replace()"
      ]
    },
    {
      "cell_type": "code",
      "execution_count": 37,
      "id": "515d75a7",
      "metadata": {
        "colab": {
          "base_uri": "https://localhost:8080/"
        },
        "id": "515d75a7",
        "outputId": "f7e4a441-588c-4896-de24-994159a16d4f"
      },
      "outputs": [
        {
          "output_type": "execute_result",
          "data": {
            "text/plain": [
              "F    14236\n",
              "M     7289\n",
              "Name: gender, dtype: int64"
            ]
          },
          "metadata": {},
          "execution_count": 37
        }
      ],
      "source": [
        "df['gender'].value_counts() # просмотр уникальных значений"
      ]
    },
    {
      "cell_type": "markdown",
      "id": "857aeff3",
      "metadata": {
        "id": "857aeff3"
      },
      "source": [
        "В столбце `'gender'` не осталось ошибочных значений."
      ]
    },
    {
      "cell_type": "markdown",
      "id": "b8735865",
      "metadata": {
        "id": "b8735865"
      },
      "source": [
        "#### Проверка данных в столбце 'income_type' <a id='step_2.2_income_type'></a>"
      ]
    },
    {
      "cell_type": "markdown",
      "id": "c50e1388",
      "metadata": {
        "id": "c50e1388"
      },
      "source": [
        "Ознакомимся с уникальными значениями столбца `'income_type'`."
      ]
    },
    {
      "cell_type": "code",
      "execution_count": 38,
      "id": "a15effea",
      "metadata": {
        "colab": {
          "base_uri": "https://localhost:8080/"
        },
        "id": "a15effea",
        "outputId": "9c570af2-f0be-43fd-bf3b-c6c351916c9d"
      },
      "outputs": [
        {
          "output_type": "execute_result",
          "data": {
            "text/plain": [
              "сотрудник          11119\n",
              "компаньон           5085\n",
              "пенсионер           3856\n",
              "госслужащий         1459\n",
              "безработный            2\n",
              "предприниматель        2\n",
              "студент                1\n",
              "в декрете              1\n",
              "Name: income_type, dtype: int64"
            ]
          },
          "metadata": {},
          "execution_count": 38
        }
      ],
      "source": [
        "df['income_type'].value_counts() # просмотр уникальных значений в столбце 'income_type'"
      ]
    },
    {
      "cell_type": "markdown",
      "id": "045dd9ab",
      "metadata": {
        "id": "045dd9ab"
      },
      "source": [
        "Заемщики разбиты на 8 категорий в зависимости от типа занятости. Ошибок в данных не обнаружено."
      ]
    },
    {
      "cell_type": "markdown",
      "id": "e5ecc3c7",
      "metadata": {
        "id": "e5ecc3c7"
      },
      "source": [
        "#### Проверка данных в столбце 'debt' <a id='step_2.2_debt'></a>"
      ]
    },
    {
      "cell_type": "markdown",
      "id": "99071480",
      "metadata": {
        "id": "99071480"
      },
      "source": [
        "Посмотрим какие значения содержит столбец `'debt'`."
      ]
    },
    {
      "cell_type": "code",
      "execution_count": 39,
      "id": "e6c8cd0f",
      "metadata": {
        "colab": {
          "base_uri": "https://localhost:8080/"
        },
        "id": "e6c8cd0f",
        "outputId": "a63544b4-601d-412d-ad10-eb3b454b3d27"
      },
      "outputs": [
        {
          "output_type": "execute_result",
          "data": {
            "text/plain": [
              "0    19784\n",
              "1     1741\n",
              "Name: debt, dtype: int64"
            ]
          },
          "metadata": {},
          "execution_count": 39
        }
      ],
      "source": [
        "df['debt'].value_counts() # просмотр уникальных значений в столбце 'debt'"
      ]
    },
    {
      "cell_type": "markdown",
      "id": "31fff6b2",
      "metadata": {
        "id": "31fff6b2"
      },
      "source": [
        "В столбце всего 2 значения: 0 - нет нарушения срока кредита, 1 - просрочка.  \n",
        "Ошибок не обнаружено."
      ]
    },
    {
      "cell_type": "markdown",
      "id": "b9647bfc",
      "metadata": {
        "id": "b9647bfc"
      },
      "source": [
        "#### Проверка данных в столбце 'total_income'  <a id='step_2.2_total_income'></a>"
      ]
    },
    {
      "cell_type": "markdown",
      "id": "f946ece0",
      "metadata": {
        "id": "f946ece0"
      },
      "source": [
        "Используя гистограмму посмотрим как распределились значения ежемесячного дохода заемщиков."
      ]
    },
    {
      "cell_type": "code",
      "execution_count": 40,
      "id": "77d08e8f",
      "metadata": {
        "colab": {
          "base_uri": "https://localhost:8080/",
          "height": 465
        },
        "id": "77d08e8f",
        "outputId": "0880a495-4fc7-49ac-cf97-04da6ebef224"
      },
      "outputs": [
        {
          "output_type": "execute_result",
          "data": {
            "text/plain": [
              "<Axes: >"
            ]
          },
          "metadata": {},
          "execution_count": 40
        },
        {
          "output_type": "display_data",
          "data": {
            "text/plain": [
              "<Figure size 640x480 with 1 Axes>"
            ],
            "image/png": "[encoded data removed]"
          },
          "metadata": {}
        }
      ],
      "source": [
        " df['total_income'].hist() # построение гистограммы для столбца 'total_income'"
      ]
    },
    {
      "cell_type": "markdown",
      "id": "eab9f2eb",
      "metadata": {
        "id": "eab9f2eb"
      },
      "source": [
        "Максимальное значение графы достигает 2 млн. руб. Из за чего шкала имеет большие деления и основная масса заемщиков сгруппирована в диапазоне заработка до 200 000руб. "
      ]
    },
    {
      "cell_type": "markdown",
      "id": "5cd4742d",
      "metadata": {
        "id": "5cd4742d"
      },
      "source": [
        "#### Проверка значений в столбце 'purpose' <a id='step_2.2_purpose'></a>"
      ]
    },
    {
      "cell_type": "markdown",
      "id": "92fd84f8",
      "metadata": {
        "id": "92fd84f8"
      },
      "source": [
        "Посмотрим на какие цели берут кредит заемщики, применив метод `value_counts()` к столбцу `'purpose'`."
      ]
    },
    {
      "cell_type": "code",
      "execution_count": 41,
      "id": "e7f38a93",
      "metadata": {
        "colab": {
          "base_uri": "https://localhost:8080/"
        },
        "id": "e7f38a93",
        "outputId": "1ef83c8e-d524-42ab-fe12-db9be6538faf"
      },
      "outputs": [
        {
          "output_type": "execute_result",
          "data": {
            "text/plain": [
              "свадьба                                   797\n",
              "на проведение свадьбы                     777\n",
              "сыграть свадьбу                           774\n",
              "операции с недвижимостью                  676\n",
              "покупка коммерческой недвижимости         664\n",
              "покупка жилья для сдачи                   653\n",
              "операции с жильем                         653\n",
              "операции с коммерческой недвижимостью     651\n",
              "покупка жилья                             647\n",
              "жилье                                     647\n",
              "покупка жилья для семьи                   641\n",
              "строительство собственной недвижимости    635\n",
              "недвижимость                              634\n",
              "операции со своей недвижимостью           630\n",
              "строительство жилой недвижимости          626\n",
              "покупка недвижимости                      624\n",
              "строительство недвижимости                620\n",
              "покупка своего жилья                      620\n",
              "ремонт жилью                              612\n",
              "покупка жилой недвижимости                607\n",
              "на покупку своего автомобиля              505\n",
              "заняться высшим образованием              496\n",
              "автомобиль                                495\n",
              "сделка с подержанным автомобилем          489\n",
              "свой автомобиль                           480\n",
              "на покупку подержанного автомобиля        479\n",
              "автомобили                                478\n",
              "на покупку автомобиля                     472\n",
              "дополнительное образование                462\n",
              "приобретение автомобиля                   462\n",
              "сделка с автомобилем                      455\n",
              "высшее образование                        453\n",
              "образование                               447\n",
              "получение дополнительного образования     447\n",
              "получение образования                     443\n",
              "профильное образование                    436\n",
              "получение высшего образования             426\n",
              "заняться образованием                     412\n",
              "Name: purpose, dtype: int64"
            ]
          },
          "metadata": {},
          "execution_count": 41
        }
      ],
      "source": [
        "df['purpose'].value_counts() # просмотр уникальных значений в столбце 'purpose'"
      ]
    },
    {
      "cell_type": "markdown",
      "id": "30aaa0c9",
      "metadata": {
        "id": "30aaa0c9"
      },
      "source": [
        "Вероятно в данном столбце значения заносились вручную, поэтому кредит на одну и ту же цель может иметь несколько вариантов написания. Выбор цели кредита из справочника сделал бы данные более \"чистыми\". Для ответа на впорос о влиянии целей кредита на закрытие в срок, понадобится дополнительная категоризация, которая структурирует этот разрозненный набор данных."
      ]
    },
    {
      "cell_type": "markdown",
      "id": "9efd3796",
      "metadata": {
        "id": "9efd3796"
      },
      "source": [
        "### Шаг 2.3. Изменение типов данных <a id='step_2.3'></a>"
      ]
    },
    {
      "cell_type": "markdown",
      "id": "78271ef0",
      "metadata": {
        "id": "78271ef0"
      },
      "source": [
        "В предыдущих шагах мы вносили измения в данные. Вызовем еще раз метод `info()`, чтобы посмотреть какие типы данных содержатся в таблице сейчас."
      ]
    },
    {
      "cell_type": "code",
      "execution_count": 42,
      "id": "a92b02b6",
      "metadata": {
        "colab": {
          "base_uri": "https://localhost:8080/"
        },
        "id": "a92b02b6",
        "outputId": "41002bd3-452b-4569-d3b5-eeabfb42df5f"
      },
      "outputs": [
        {
          "output_type": "stream",
          "name": "stdout",
          "text": [
            "<class 'pandas.core.frame.DataFrame'>\n",
            "RangeIndex: 21525 entries, 0 to 21524\n",
            "Data columns (total 12 columns):\n",
            " #   Column            Non-Null Count  Dtype  \n",
            "---  ------            --------------  -----  \n",
            " 0   children          21525 non-null  int64  \n",
            " 1   days_employed     21525 non-null  float64\n",
            " 2   dob_years         21525 non-null  float64\n",
            " 3   education         21525 non-null  object \n",
            " 4   education_id      21525 non-null  int64  \n",
            " 5   family_status     21525 non-null  object \n",
            " 6   family_status_id  21525 non-null  int64  \n",
            " 7   gender            21525 non-null  object \n",
            " 8   income_type       21525 non-null  object \n",
            " 9   debt              21525 non-null  int64  \n",
            " 10  total_income      21525 non-null  float64\n",
            " 11  purpose           21525 non-null  object \n",
            "dtypes: float64(3), int64(4), object(5)\n",
            "memory usage: 2.0+ MB\n"
          ]
        }
      ],
      "source": [
        " df.info() # получение общей информации о данных в таблице df"
      ]
    },
    {
      "cell_type": "markdown",
      "id": "390f5560",
      "metadata": {
        "id": "390f5560"
      },
      "source": [
        "Столбцы `'days_employed'`, `'dob_years'` и `'total_income'`содержат тип данных `float64`. Для удобства расчетов изменим  тип данных в этих столбцах на `int64`."
      ]
    },
    {
      "cell_type": "code",
      "execution_count": 43,
      "id": "0038cc63",
      "metadata": {
        "id": "0038cc63"
      },
      "outputs": [],
      "source": [
        "df['total_income'] = df['total_income'].astype('int') # изменение типа данных в столбце 'total_income'"
      ]
    },
    {
      "cell_type": "code",
      "execution_count": 44,
      "id": "fd7abf09",
      "metadata": {
        "id": "fd7abf09"
      },
      "outputs": [],
      "source": [
        "df['days_employed'] = df['days_employed'].astype('int')  # изменение типа данных в столбце 'days_employed'"
      ]
    },
    {
      "cell_type": "code",
      "execution_count": 45,
      "id": "e53f3864",
      "metadata": {
        "id": "e53f3864"
      },
      "outputs": [],
      "source": [
        "df['dob_years'] = df['dob_years'].astype('int')  # изменение типа данных в столбце 'dob_years'"
      ]
    },
    {
      "cell_type": "code",
      "execution_count": 46,
      "id": "348c1940",
      "metadata": {
        "colab": {
          "base_uri": "https://localhost:8080/"
        },
        "id": "348c1940",
        "outputId": "33533693-1aa1-46b2-e9fe-d6a09e138ec6"
      },
      "outputs": [
        {
          "output_type": "stream",
          "name": "stdout",
          "text": [
            "<class 'pandas.core.frame.DataFrame'>\n",
            "RangeIndex: 21525 entries, 0 to 21524\n",
            "Data columns (total 12 columns):\n",
            " #   Column            Non-Null Count  Dtype \n",
            "---  ------            --------------  ----- \n",
            " 0   children          21525 non-null  int64 \n",
            " 1   days_employed     21525 non-null  int64 \n",
            " 2   dob_years         21525 non-null  int64 \n",
            " 3   education         21525 non-null  object\n",
            " 4   education_id      21525 non-null  int64 \n",
            " 5   family_status     21525 non-null  object\n",
            " 6   family_status_id  21525 non-null  int64 \n",
            " 7   gender            21525 non-null  object\n",
            " 8   income_type       21525 non-null  object\n",
            " 9   debt              21525 non-null  int64 \n",
            " 10  total_income      21525 non-null  int64 \n",
            " 11  purpose           21525 non-null  object\n",
            "dtypes: int64(7), object(5)\n",
            "memory usage: 2.0+ MB\n"
          ]
        }
      ],
      "source": [
        "df.info() # получение общей информации о данных в таблице df для проверки внесенных изменений"
      ]
    },
    {
      "cell_type": "markdown",
      "id": "c657b126",
      "metadata": {
        "id": "c657b126"
      },
      "source": [
        "В таблице не осталось данных типа `float64`."
      ]
    },
    {
      "cell_type": "markdown",
      "id": "fdc5f060",
      "metadata": {
        "id": "fdc5f060"
      },
      "source": [
        "### Шаг 2.4. Удаление дубликатов <a id='step_2.4'></a>"
      ]
    },
    {
      "cell_type": "markdown",
      "id": "fb695d6b",
      "metadata": {
        "id": "fb695d6b"
      },
      "source": [
        "Вычислим сколько явных дубликатов содержит таблица, используя методы `duplicated()` и `sum()`."
      ]
    },
    {
      "cell_type": "code",
      "execution_count": 47,
      "id": "049c900f",
      "metadata": {
        "colab": {
          "base_uri": "https://localhost:8080/"
        },
        "id": "049c900f",
        "outputId": "53a095ef-9ec7-4edc-e629-de61fac8641b"
      },
      "outputs": [
        {
          "output_type": "execute_result",
          "data": {
            "text/plain": [
              "72"
            ]
          },
          "metadata": {},
          "execution_count": 47
        }
      ],
      "source": [
        "df.duplicated().sum() # проверка на отсутствие явных дубликатов"
      ]
    },
    {
      "cell_type": "markdown",
      "id": "8df5cf99",
      "metadata": {
        "id": "8df5cf99"
      },
      "source": [
        "Вызовем метод `drop_duplicates()`, который удалит явные дубликаты, а метод `reset_index()` со значением `drop=True` удалит старые индексы и сформирует новые."
      ]
    },
    {
      "cell_type": "code",
      "execution_count": 48,
      "id": "6c489731",
      "metadata": {
        "id": "6c489731"
      },
      "outputs": [],
      "source": [
        "df = df.drop_duplicates().reset_index(drop=True) # удаление явных дубликатов (с удалением старых индексов и формированием новых)"
      ]
    },
    {
      "cell_type": "markdown",
      "id": "392ea03c",
      "metadata": {
        "id": "392ea03c"
      },
      "source": [
        "Еще раз посчитаем явные дубликаты, чтобы убедиться, что в таблице их не осталось."
      ]
    },
    {
      "cell_type": "code",
      "execution_count": 49,
      "id": "64fe3b7d",
      "metadata": {
        "colab": {
          "base_uri": "https://localhost:8080/"
        },
        "id": "64fe3b7d",
        "outputId": "c63c7577-63d2-4697-908b-a064d3475151"
      },
      "outputs": [
        {
          "output_type": "execute_result",
          "data": {
            "text/plain": [
              "0"
            ]
          },
          "metadata": {},
          "execution_count": 49
        }
      ],
      "source": [
        "df.duplicated().sum() # проверка на отсутствие дубликатов"
      ]
    },
    {
      "cell_type": "markdown",
      "id": "a00c1bb9",
      "metadata": {
        "id": "a00c1bb9"
      },
      "source": [
        "### Шаг 2.5. Формирование дополнительных датафреймов словарей, декомпозиция исходного датафрейма <a id='step_2.5'></a>"
      ]
    },
    {
      "cell_type": "markdown",
      "id": "3daa282d",
      "metadata": {
        "id": "3daa282d"
      },
      "source": [
        "#### Создание нового датафрейма education_dict  "
      ]
    },
    {
      "cell_type": "markdown",
      "id": "6ebe6bcd",
      "metadata": {
        "id": "6ebe6bcd"
      },
      "source": [
        "Создадим датафрейм `education_dict` и передадим ему столбцы `'education_id'` и `'education'` из основной таблицы `df`. Методом `drop_duplicates()` удалим дубликаты и выведем полученную таблицу на экран."
      ]
    },
    {
      "cell_type": "code",
      "execution_count": 50,
      "id": "7da74c8d",
      "metadata": {
        "colab": {
          "base_uri": "https://localhost:8080/",
          "height": 206
        },
        "id": "7da74c8d",
        "outputId": "6a3b2a2a-ff47-4790-fe35-a4345f3dfb77"
      },
      "outputs": [
        {
          "output_type": "execute_result",
          "data": {
            "text/plain": [
              "   education_id            education\n",
              "0             0               высшее\n",
              "1             1              среднее\n",
              "2             2  неоконченное высшее\n",
              "3             3            начальное\n",
              "4             4       ученая степень"
            ],
            "text/html": [
              "\n",
              "  <div id=\"df-d82ff27a-dd1b-4f63-8230-979ffa7789f6\">\n",
              "    <div class=\"colab-df-container\">\n",
              "      <div>\n",
              "<style scoped>\n",
              "    .dataframe tbody tr th:only-of-type {\n",
              "        vertical-align: middle;\n",
              "    }\n",
              "\n",
              "    .dataframe tbody tr th {\n",
              "        vertical-align: top;\n",
              "    }\n",
              "\n",
              "    .dataframe thead th {\n",
              "        text-align: right;\n",
              "    }\n",
              "</style>\n",
              "<table border=\"1\" class=\"dataframe\">\n",
              "  <thead>\n",
              "    <tr style=\"text-align: right;\">\n",
              "      <th></th>\n",
              "      <th>education_id</th>\n",
              "      <th>education</th>\n",
              "    </tr>\n",
              "  </thead>\n",
              "  <tbody>\n",
              "    <tr>\n",
              "      <th>0</th>\n",
              "      <td>0</td>\n",
              "      <td>высшее</td>\n",
              "    </tr>\n",
              "    <tr>\n",
              "      <th>1</th>\n",
              "      <td>1</td>\n",
              "      <td>среднее</td>\n",
              "    </tr>\n",
              "    <tr>\n",
              "      <th>2</th>\n",
              "      <td>2</td>\n",
              "      <td>неоконченное высшее</td>\n",
              "    </tr>\n",
              "    <tr>\n",
              "      <th>3</th>\n",
              "      <td>3</td>\n",
              "      <td>начальное</td>\n",
              "    </tr>\n",
              "    <tr>\n",
              "      <th>4</th>\n",
              "      <td>4</td>\n",
              "      <td>ученая степень</td>\n",
              "    </tr>\n",
              "  </tbody>\n",
              "</table>\n",
              "</div>\n",
              "      <button class=\"colab-df-convert\" onclick=\"convertToInteractive('df-d82ff27a-dd1b-4f63-8230-979ffa7789f6')\"\n",
              "              title=\"Convert this dataframe to an interactive table.\"\n",
              "              style=\"display:none;\">\n",
              "        \n",
              "  <svg xmlns=\"http://www.w3.org/2000/svg\" height=\"24px\"viewBox=\"0 0 24 24\"\n",
              "       width=\"24px\">\n",
              "    <path d=\"M0 0h24v24H0V0z\" fill=\"none\"/>\n",
              "    <path d=\"M18.56 5.44l.94 2.06.94-2.06 2.06-.94-2.06-.94-.94-2.06-.94 2.06-2.06.94zm-11 1L8.5 8.5l.94-2.06 2.06-.94-2.06-.94L8.5 2.5l-.94 2.06-2.06.94zm10 10l.94 2.06.94-2.06 2.06-.94-2.06-.94-.94-2.06-.94 2.06-2.06.94z\"/><path d=\"M17.41 7.96l-1.37-1.37c-.4-.4-.92-.59-1.43-.59-.52 0-1.04.2-1.43.59L10.3 9.45l-7.72 7.72c-.78.78-.78 2.05 0 2.83L4 21.41c.39.39.9.59 1.41.59.51 0 1.02-.2 1.41-.59l7.78-7.78 2.81-2.81c.8-.78.8-2.07 0-2.86zM5.41 20L4 18.59l7.72-7.72 1.47 1.35L5.41 20z\"/>\n",
              "  </svg>\n",
              "      </button>\n",
              "      \n",
              "  <style>\n",
              "    .colab-df-container {\n",
              "      display:flex;\n",
              "      flex-wrap:wrap;\n",
              "      gap: 12px;\n",
              "    }\n",
              "\n",
              "    .colab-df-convert {\n",
              "      background-color: #E8F0FE;\n",
              "      border: none;\n",
              "      border-radius: 50%;\n",
              "      cursor: pointer;\n",
              "      display: none;\n",
              "      fill: #1967D2;\n",
              "      height: 32px;\n",
              "      padding: 0 0 0 0;\n",
              "      width: 32px;\n",
              "    }\n",
              "\n",
              "    .colab-df-convert:hover {\n",
              "      background-color: #E2EBFA;\n",
              "      box-shadow: 0px 1px 2px rgba(60, 64, 67, 0.3), 0px 1px 3px 1px rgba(60, 64, 67, 0.15);\n",
              "      fill: #174EA6;\n",
              "    }\n",
              "\n",
              "    [theme=dark] .colab-df-convert {\n",
              "      background-color: #3B4455;\n",
              "      fill: #D2E3FC;\n",
              "    }\n",
              "\n",
              "    [theme=dark] .colab-df-convert:hover {\n",
              "      background-color: #434B5C;\n",
              "      box-shadow: 0px 1px 3px 1px rgba(0, 0, 0, 0.15);\n",
              "      filter: drop-shadow(0px 1px 2px rgba(0, 0, 0, 0.3));\n",
              "      fill: #FFFFFF;\n",
              "    }\n",
              "  </style>\n",
              "\n",
              "      <script>\n",
              "        const buttonEl =\n",
              "          document.querySelector('#df-d82ff27a-dd1b-4f63-8230-979ffa7789f6 button.colab-df-convert');\n",
              "        buttonEl.style.display =\n",
              "          google.colab.kernel.accessAllowed ? 'block' : 'none';\n",
              "\n",
              "        async function convertToInteractive(key) {\n",
              "          const element = document.querySelector('#df-d82ff27a-dd1b-4f63-8230-979ffa7789f6');\n",
              "          const dataTable =\n",
              "            await google.colab.kernel.invokeFunction('convertToInteractive',\n",
              "                                                     [key], {});\n",
              "          if (!dataTable) return;\n",
              "\n",
              "          const docLinkHtml = 'Like what you see? Visit the ' +\n",
              "            '<a target=\"_blank\" href=https://colab.research.google.com/notebooks/data_table.ipynb>data table notebook</a>'\n",
              "            + ' to learn more about interactive tables.';\n",
              "          element.innerHTML = '';\n",
              "          dataTable['output_type'] = 'display_data';\n",
              "          await google.colab.output.renderOutput(dataTable, element);\n",
              "          const docLink = document.createElement('div');\n",
              "          docLink.innerHTML = docLinkHtml;\n",
              "          element.appendChild(docLink);\n",
              "        }\n",
              "      </script>\n",
              "    </div>\n",
              "  </div>\n",
              "  "
            ]
          },
          "metadata": {},
          "execution_count": 50
        }
      ],
      "source": [
        "education_dict = df[['education_id', 'education']] # создание нового датафрейма education_dict \n",
        "education_dict = education_dict.drop_duplicates().reset_index(drop=True) # удаление дубликатов  (с удалением старых \n",
        "                                                                         # индексов и формированием новых)\n",
        "education_dict # вывод на экран"
      ]
    },
    {
      "cell_type": "markdown",
      "id": "2bd00d2f",
      "metadata": {
        "id": "2bd00d2f"
      },
      "source": [
        "#### Создание нового датафрейма family_status_dict"
      ]
    },
    {
      "cell_type": "markdown",
      "id": "ea22f80a",
      "metadata": {
        "id": "ea22f80a"
      },
      "source": [
        "По аналогии с предыдущим, создадим датафрейм `family_status_dict`."
      ]
    },
    {
      "cell_type": "code",
      "execution_count": 51,
      "id": "0b54be5f",
      "metadata": {
        "colab": {
          "base_uri": "https://localhost:8080/",
          "height": 206
        },
        "id": "0b54be5f",
        "outputId": "3f1ef1ca-26c2-4c59-f08e-2721bbdbae3d"
      },
      "outputs": [
        {
          "output_type": "execute_result",
          "data": {
            "text/plain": [
              "   family_status_id          family_status\n",
              "0                 0        женат / замужем\n",
              "1                 1       гражданский брак\n",
              "2                 2         вдовец / вдова\n",
              "3                 3              в разводе\n",
              "4                 4  Не женат / не замужем"
            ],
            "text/html": [
              "\n",
              "  <div id=\"df-7551e59a-e9bc-42c1-843e-d6fe46157b16\">\n",
              "    <div class=\"colab-df-container\">\n",
              "      <div>\n",
              "<style scoped>\n",
              "    .dataframe tbody tr th:only-of-type {\n",
              "        vertical-align: middle;\n",
              "    }\n",
              "\n",
              "    .dataframe tbody tr th {\n",
              "        vertical-align: top;\n",
              "    }\n",
              "\n",
              "    .dataframe thead th {\n",
              "        text-align: right;\n",
              "    }\n",
              "</style>\n",
              "<table border=\"1\" class=\"dataframe\">\n",
              "  <thead>\n",
              "    <tr style=\"text-align: right;\">\n",
              "      <th></th>\n",
              "      <th>family_status_id</th>\n",
              "      <th>family_status</th>\n",
              "    </tr>\n",
              "  </thead>\n",
              "  <tbody>\n",
              "    <tr>\n",
              "      <th>0</th>\n",
              "      <td>0</td>\n",
              "      <td>женат / замужем</td>\n",
              "    </tr>\n",
              "    <tr>\n",
              "      <th>1</th>\n",
              "      <td>1</td>\n",
              "      <td>гражданский брак</td>\n",
              "    </tr>\n",
              "    <tr>\n",
              "      <th>2</th>\n",
              "      <td>2</td>\n",
              "      <td>вдовец / вдова</td>\n",
              "    </tr>\n",
              "    <tr>\n",
              "      <th>3</th>\n",
              "      <td>3</td>\n",
              "      <td>в разводе</td>\n",
              "    </tr>\n",
              "    <tr>\n",
              "      <th>4</th>\n",
              "      <td>4</td>\n",
              "      <td>Не женат / не замужем</td>\n",
              "    </tr>\n",
              "  </tbody>\n",
              "</table>\n",
              "</div>\n",
              "      <button class=\"colab-df-convert\" onclick=\"convertToInteractive('df-7551e59a-e9bc-42c1-843e-d6fe46157b16')\"\n",
              "              title=\"Convert this dataframe to an interactive table.\"\n",
              "              style=\"display:none;\">\n",
              "        \n",
              "  <svg xmlns=\"http://www.w3.org/2000/svg\" height=\"24px\"viewBox=\"0 0 24 24\"\n",
              "       width=\"24px\">\n",
              "    <path d=\"M0 0h24v24H0V0z\" fill=\"none\"/>\n",
              "    <path d=\"M18.56 5.44l.94 2.06.94-2.06 2.06-.94-2.06-.94-.94-2.06-.94 2.06-2.06.94zm-11 1L8.5 8.5l.94-2.06 2.06-.94-2.06-.94L8.5 2.5l-.94 2.06-2.06.94zm10 10l.94 2.06.94-2.06 2.06-.94-2.06-.94-.94-2.06-.94 2.06-2.06.94z\"/><path d=\"M17.41 7.96l-1.37-1.37c-.4-.4-.92-.59-1.43-.59-.52 0-1.04.2-1.43.59L10.3 9.45l-7.72 7.72c-.78.78-.78 2.05 0 2.83L4 21.41c.39.39.9.59 1.41.59.51 0 1.02-.2 1.41-.59l7.78-7.78 2.81-2.81c.8-.78.8-2.07 0-2.86zM5.41 20L4 18.59l7.72-7.72 1.47 1.35L5.41 20z\"/>\n",
              "  </svg>\n",
              "      </button>\n",
              "      \n",
              "  <style>\n",
              "    .colab-df-container {\n",
              "      display:flex;\n",
              "      flex-wrap:wrap;\n",
              "      gap: 12px;\n",
              "    }\n",
              "\n",
              "    .colab-df-convert {\n",
              "      background-color: #E8F0FE;\n",
              "      border: none;\n",
              "      border-radius: 50%;\n",
              "      cursor: pointer;\n",
              "      display: none;\n",
              "      fill: #1967D2;\n",
              "      height: 32px;\n",
              "      padding: 0 0 0 0;\n",
              "      width: 32px;\n",
              "    }\n",
              "\n",
              "    .colab-df-convert:hover {\n",
              "      background-color: #E2EBFA;\n",
              "      box-shadow: 0px 1px 2px rgba(60, 64, 67, 0.3), 0px 1px 3px 1px rgba(60, 64, 67, 0.15);\n",
              "      fill: #174EA6;\n",
              "    }\n",
              "\n",
              "    [theme=dark] .colab-df-convert {\n",
              "      background-color: #3B4455;\n",
              "      fill: #D2E3FC;\n",
              "    }\n",
              "\n",
              "    [theme=dark] .colab-df-convert:hover {\n",
              "      background-color: #434B5C;\n",
              "      box-shadow: 0px 1px 3px 1px rgba(0, 0, 0, 0.15);\n",
              "      filter: drop-shadow(0px 1px 2px rgba(0, 0, 0, 0.3));\n",
              "      fill: #FFFFFF;\n",
              "    }\n",
              "  </style>\n",
              "\n",
              "      <script>\n",
              "        const buttonEl =\n",
              "          document.querySelector('#df-7551e59a-e9bc-42c1-843e-d6fe46157b16 button.colab-df-convert');\n",
              "        buttonEl.style.display =\n",
              "          google.colab.kernel.accessAllowed ? 'block' : 'none';\n",
              "\n",
              "        async function convertToInteractive(key) {\n",
              "          const element = document.querySelector('#df-7551e59a-e9bc-42c1-843e-d6fe46157b16');\n",
              "          const dataTable =\n",
              "            await google.colab.kernel.invokeFunction('convertToInteractive',\n",
              "                                                     [key], {});\n",
              "          if (!dataTable) return;\n",
              "\n",
              "          const docLinkHtml = 'Like what you see? Visit the ' +\n",
              "            '<a target=\"_blank\" href=https://colab.research.google.com/notebooks/data_table.ipynb>data table notebook</a>'\n",
              "            + ' to learn more about interactive tables.';\n",
              "          element.innerHTML = '';\n",
              "          dataTable['output_type'] = 'display_data';\n",
              "          await google.colab.output.renderOutput(dataTable, element);\n",
              "          const docLink = document.createElement('div');\n",
              "          docLink.innerHTML = docLinkHtml;\n",
              "          element.appendChild(docLink);\n",
              "        }\n",
              "      </script>\n",
              "    </div>\n",
              "  </div>\n",
              "  "
            ]
          },
          "metadata": {},
          "execution_count": 51
        }
      ],
      "source": [
        "family_status_dict = df[['family_status_id', 'family_status']] # создание нового датафрейма family_status_dict\n",
        "family_status_dict = family_status_dict.drop_duplicates().reset_index(drop=True) # удаление дубликатов  (с удалением старых\n",
        "                                                                                 # индексов и формированием новых)\n",
        "family_status_dict # вывод на экран"
      ]
    },
    {
      "cell_type": "markdown",
      "id": "5bdc9053",
      "metadata": {
        "id": "5bdc9053"
      },
      "source": [
        "#### Декомпозиция исходного датафрейма. ¶"
      ]
    },
    {
      "cell_type": "markdown",
      "id": "3003b5c9",
      "metadata": {
        "id": "3003b5c9"
      },
      "source": [
        "Теперь удалим столбцы `'education'` и `'family_status'` из основной таблицы, используя ключевое слово `del`."
      ]
    },
    {
      "cell_type": "code",
      "execution_count": 52,
      "id": "a7467a68",
      "metadata": {
        "id": "a7467a68"
      },
      "outputs": [],
      "source": [
        "del df['education'] # удаление столбца 'education'"
      ]
    },
    {
      "cell_type": "code",
      "execution_count": 53,
      "id": "507d9428",
      "metadata": {
        "id": "507d9428"
      },
      "outputs": [],
      "source": [
        "del df['family_status'] # удаление столбца 'family_status'"
      ]
    },
    {
      "cell_type": "markdown",
      "id": "f5a12faa",
      "metadata": {
        "id": "f5a12faa"
      },
      "source": [
        "Выведем на экран первые строки таблицы, чтобы проверить результат удаления столбцов."
      ]
    },
    {
      "cell_type": "code",
      "execution_count": 54,
      "id": "0c3913e8",
      "metadata": {
        "colab": {
          "base_uri": "https://localhost:8080/",
          "height": 206
        },
        "id": "0c3913e8",
        "outputId": "ca660e86-f666-4975-ae1b-51f8f671b927"
      },
      "outputs": [
        {
          "output_type": "execute_result",
          "data": {
            "text/plain": [
              "   children  days_employed  dob_years  education_id  family_status_id gender  \\\n",
              "0         1           8437         42             0                 0      F   \n",
              "1         1           4024         36             1                 0      F   \n",
              "2         0           5623         33             1                 0      M   \n",
              "3         3           4124         32             1                 0      M   \n",
              "4         0           2194         53             1                 1      F   \n",
              "\n",
              "  income_type  debt  total_income                     purpose  \n",
              "0   сотрудник     0        253875               покупка жилья  \n",
              "1   сотрудник     0        112080     приобретение автомобиля  \n",
              "2   сотрудник     0        145885               покупка жилья  \n",
              "3   сотрудник     0        267628  дополнительное образование  \n",
              "4   пенсионер     0        158616             сыграть свадьбу  "
            ],
            "text/html": [
              "\n",
              "  <div id=\"df-12dfe2e5-322f-411c-95b9-412dfe5108db\">\n",
              "    <div class=\"colab-df-container\">\n",
              "      <div>\n",
              "<style scoped>\n",
              "    .dataframe tbody tr th:only-of-type {\n",
              "        vertical-align: middle;\n",
              "    }\n",
              "\n",
              "    .dataframe tbody tr th {\n",
              "        vertical-align: top;\n",
              "    }\n",
              "\n",
              "    .dataframe thead th {\n",
              "        text-align: right;\n",
              "    }\n",
              "</style>\n",
              "<table border=\"1\" class=\"dataframe\">\n",
              "  <thead>\n",
              "    <tr style=\"text-align: right;\">\n",
              "      <th></th>\n",
              "      <th>children</th>\n",
              "      <th>days_employed</th>\n",
              "      <th>dob_years</th>\n",
              "      <th>education_id</th>\n",
              "      <th>family_status_id</th>\n",
              "      <th>gender</th>\n",
              "      <th>income_type</th>\n",
              "      <th>debt</th>\n",
              "      <th>total_income</th>\n",
              "      <th>purpose</th>\n",
              "    </tr>\n",
              "  </thead>\n",
              "  <tbody>\n",
              "    <tr>\n",
              "      <th>0</th>\n",
              "      <td>1</td>\n",
              "      <td>8437</td>\n",
              "      <td>42</td>\n",
              "      <td>0</td>\n",
              "      <td>0</td>\n",
              "      <td>F</td>\n",
              "      <td>сотрудник</td>\n",
              "      <td>0</td>\n",
              "      <td>253875</td>\n",
              "      <td>покупка жилья</td>\n",
              "    </tr>\n",
              "    <tr>\n",
              "      <th>1</th>\n",
              "      <td>1</td>\n",
              "      <td>4024</td>\n",
              "      <td>36</td>\n",
              "      <td>1</td>\n",
              "      <td>0</td>\n",
              "      <td>F</td>\n",
              "      <td>сотрудник</td>\n",
              "      <td>0</td>\n",
              "      <td>112080</td>\n",
              "      <td>приобретение автомобиля</td>\n",
              "    </tr>\n",
              "    <tr>\n",
              "      <th>2</th>\n",
              "      <td>0</td>\n",
              "      <td>5623</td>\n",
              "      <td>33</td>\n",
              "      <td>1</td>\n",
              "      <td>0</td>\n",
              "      <td>M</td>\n",
              "      <td>сотрудник</td>\n",
              "      <td>0</td>\n",
              "      <td>145885</td>\n",
              "      <td>покупка жилья</td>\n",
              "    </tr>\n",
              "    <tr>\n",
              "      <th>3</th>\n",
              "      <td>3</td>\n",
              "      <td>4124</td>\n",
              "      <td>32</td>\n",
              "      <td>1</td>\n",
              "      <td>0</td>\n",
              "      <td>M</td>\n",
              "      <td>сотрудник</td>\n",
              "      <td>0</td>\n",
              "      <td>267628</td>\n",
              "      <td>дополнительное образование</td>\n",
              "    </tr>\n",
              "    <tr>\n",
              "      <th>4</th>\n",
              "      <td>0</td>\n",
              "      <td>2194</td>\n",
              "      <td>53</td>\n",
              "      <td>1</td>\n",
              "      <td>1</td>\n",
              "      <td>F</td>\n",
              "      <td>пенсионер</td>\n",
              "      <td>0</td>\n",
              "      <td>158616</td>\n",
              "      <td>сыграть свадьбу</td>\n",
              "    </tr>\n",
              "  </tbody>\n",
              "</table>\n",
              "</div>\n",
              "      <button class=\"colab-df-convert\" onclick=\"convertToInteractive('df-12dfe2e5-322f-411c-95b9-412dfe5108db')\"\n",
              "              title=\"Convert this dataframe to an interactive table.\"\n",
              "              style=\"display:none;\">\n",
              "        \n",
              "  <svg xmlns=\"http://www.w3.org/2000/svg\" height=\"24px\"viewBox=\"0 0 24 24\"\n",
              "       width=\"24px\">\n",
              "    <path d=\"M0 0h24v24H0V0z\" fill=\"none\"/>\n",
              "    <path d=\"M18.56 5.44l.94 2.06.94-2.06 2.06-.94-2.06-.94-.94-2.06-.94 2.06-2.06.94zm-11 1L8.5 8.5l.94-2.06 2.06-.94-2.06-.94L8.5 2.5l-.94 2.06-2.06.94zm10 10l.94 2.06.94-2.06 2.06-.94-2.06-.94-.94-2.06-.94 2.06-2.06.94z\"/><path d=\"M17.41 7.96l-1.37-1.37c-.4-.4-.92-.59-1.43-.59-.52 0-1.04.2-1.43.59L10.3 9.45l-7.72 7.72c-.78.78-.78 2.05 0 2.83L4 21.41c.39.39.9.59 1.41.59.51 0 1.02-.2 1.41-.59l7.78-7.78 2.81-2.81c.8-.78.8-2.07 0-2.86zM5.41 20L4 18.59l7.72-7.72 1.47 1.35L5.41 20z\"/>\n",
              "  </svg>\n",
              "      </button>\n",
              "      \n",
              "  <style>\n",
              "    .colab-df-container {\n",
              "      display:flex;\n",
              "      flex-wrap:wrap;\n",
              "      gap: 12px;\n",
              "    }\n",
              "\n",
              "    .colab-df-convert {\n",
              "      background-color: #E8F0FE;\n",
              "      border: none;\n",
              "      border-radius: 50%;\n",
              "      cursor: pointer;\n",
              "      display: none;\n",
              "      fill: #1967D2;\n",
              "      height: 32px;\n",
              "      padding: 0 0 0 0;\n",
              "      width: 32px;\n",
              "    }\n",
              "\n",
              "    .colab-df-convert:hover {\n",
              "      background-color: #E2EBFA;\n",
              "      box-shadow: 0px 1px 2px rgba(60, 64, 67, 0.3), 0px 1px 3px 1px rgba(60, 64, 67, 0.15);\n",
              "      fill: #174EA6;\n",
              "    }\n",
              "\n",
              "    [theme=dark] .colab-df-convert {\n",
              "      background-color: #3B4455;\n",
              "      fill: #D2E3FC;\n",
              "    }\n",
              "\n",
              "    [theme=dark] .colab-df-convert:hover {\n",
              "      background-color: #434B5C;\n",
              "      box-shadow: 0px 1px 3px 1px rgba(0, 0, 0, 0.15);\n",
              "      filter: drop-shadow(0px 1px 2px rgba(0, 0, 0, 0.3));\n",
              "      fill: #FFFFFF;\n",
              "    }\n",
              "  </style>\n",
              "\n",
              "      <script>\n",
              "        const buttonEl =\n",
              "          document.querySelector('#df-12dfe2e5-322f-411c-95b9-412dfe5108db button.colab-df-convert');\n",
              "        buttonEl.style.display =\n",
              "          google.colab.kernel.accessAllowed ? 'block' : 'none';\n",
              "\n",
              "        async function convertToInteractive(key) {\n",
              "          const element = document.querySelector('#df-12dfe2e5-322f-411c-95b9-412dfe5108db');\n",
              "          const dataTable =\n",
              "            await google.colab.kernel.invokeFunction('convertToInteractive',\n",
              "                                                     [key], {});\n",
              "          if (!dataTable) return;\n",
              "\n",
              "          const docLinkHtml = 'Like what you see? Visit the ' +\n",
              "            '<a target=\"_blank\" href=https://colab.research.google.com/notebooks/data_table.ipynb>data table notebook</a>'\n",
              "            + ' to learn more about interactive tables.';\n",
              "          element.innerHTML = '';\n",
              "          dataTable['output_type'] = 'display_data';\n",
              "          await google.colab.output.renderOutput(dataTable, element);\n",
              "          const docLink = document.createElement('div');\n",
              "          docLink.innerHTML = docLinkHtml;\n",
              "          element.appendChild(docLink);\n",
              "        }\n",
              "      </script>\n",
              "    </div>\n",
              "  </div>\n",
              "  "
            ]
          },
          "metadata": {},
          "execution_count": 54
        }
      ],
      "source": [
        "df.head() # вывод первых строк df"
      ]
    },
    {
      "cell_type": "markdown",
      "id": "67bc1564",
      "metadata": {
        "id": "67bc1564"
      },
      "source": [
        "### Шаг 2.6. Категоризация дохода <a id='step_2.6'></a>"
      ]
    },
    {
      "cell_type": "markdown",
      "id": "62aab040",
      "metadata": {
        "id": "62aab040"
      },
      "source": [
        "Создадим функцию, которая позволит распределить заемщиков на категории в зависимости от размера ежемесяного догода. Передадим функции `total_income_category` следующие категории:\n",
        "* 0 - 100000 - 'C';\n",
        "* 100001 - 200000 - 'B';\n",
        "* 200001 и выше - 'A'.\n",
        "\n",
        "(*В условиях проекта предлагается разделить заемщиков на пять категорий. Однако, при таком делении, в категории A, D и E попадает намного меньше клиентов, чем в категории B и C.*)\n"
      ]
    },
    {
      "cell_type": "code",
      "execution_count": 55,
      "id": "1c800e64",
      "metadata": {
        "id": "1c800e64"
      },
      "outputs": [],
      "source": [
        " def total_income_category(income): # функция для категоризации дохода, присваивает категорию в зависимости от размера дохода\n",
        "        if income <= 100000:\n",
        "            return 'C'\n",
        "        if income <= 200000:\n",
        "            return 'B'\n",
        "        return 'A'"
      ]
    },
    {
      "cell_type": "markdown",
      "id": "088c0c0f",
      "metadata": {
        "id": "088c0c0f"
      },
      "source": [
        "Сроздадим столбец `'total_income_category'` и сохраним в него результат примения функции `total_income_category`."
      ]
    },
    {
      "cell_type": "code",
      "execution_count": 56,
      "id": "12a20f10",
      "metadata": {
        "id": "12a20f10"
      },
      "outputs": [],
      "source": [
        "df['total_income_category'] = df['total_income'].apply(total_income_category) # применение функции и сохранение результата \n",
        "                                                                              # в столбец 'total_income_category' "
      ]
    },
    {
      "cell_type": "markdown",
      "id": "1c5fb3ca",
      "metadata": {
        "id": "1c5fb3ca"
      },
      "source": [
        "Проверим результат работы функции. Для этого выведем на экран последние пять строк таблицы. "
      ]
    },
    {
      "cell_type": "code",
      "execution_count": 57,
      "id": "c31585b8",
      "metadata": {
        "colab": {
          "base_uri": "https://localhost:8080/",
          "height": 206
        },
        "id": "c31585b8",
        "outputId": "ba1d63b9-6b76-4351-ed38-b345d9bff96f"
      },
      "outputs": [
        {
          "output_type": "execute_result",
          "data": {
            "text/plain": [
              "       children  days_employed  dob_years  education_id  family_status_id  \\\n",
              "21448         1           4529         43             1                 1   \n",
              "21449         0           2194         67             1                 0   \n",
              "21450         1           2113         38             1                 1   \n",
              "21451         3           3112         38             1                 0   \n",
              "21452         2           1984         40             1                 0   \n",
              "\n",
              "      gender income_type  debt  total_income                       purpose  \\\n",
              "21448      F   компаньон     0        224791             операции с жильем   \n",
              "21449      F   пенсионер     0        155999          сделка с автомобилем   \n",
              "21450      M   сотрудник     1         89672                  недвижимость   \n",
              "21451      M   сотрудник     1        244093  на покупку своего автомобиля   \n",
              "21452      F   сотрудник     0         82047         на покупку автомобиля   \n",
              "\n",
              "      total_income_category  \n",
              "21448                     A  \n",
              "21449                     B  \n",
              "21450                     C  \n",
              "21451                     A  \n",
              "21452                     C  "
            ],
            "text/html": [
              "\n",
              "  <div id=\"df-56e4e20c-706b-4fd4-940b-64b4be047adb\">\n",
              "    <div class=\"colab-df-container\">\n",
              "      <div>\n",
              "<style scoped>\n",
              "    .dataframe tbody tr th:only-of-type {\n",
              "        vertical-align: middle;\n",
              "    }\n",
              "\n",
              "    .dataframe tbody tr th {\n",
              "        vertical-align: top;\n",
              "    }\n",
              "\n",
              "    .dataframe thead th {\n",
              "        text-align: right;\n",
              "    }\n",
              "</style>\n",
              "<table border=\"1\" class=\"dataframe\">\n",
              "  <thead>\n",
              "    <tr style=\"text-align: right;\">\n",
              "      <th></th>\n",
              "      <th>children</th>\n",
              "      <th>days_employed</th>\n",
              "      <th>dob_years</th>\n",
              "      <th>education_id</th>\n",
              "      <th>family_status_id</th>\n",
              "      <th>gender</th>\n",
              "      <th>income_type</th>\n",
              "      <th>debt</th>\n",
              "      <th>total_income</th>\n",
              "      <th>purpose</th>\n",
              "      <th>total_income_category</th>\n",
              "    </tr>\n",
              "  </thead>\n",
              "  <tbody>\n",
              "    <tr>\n",
              "      <th>21448</th>\n",
              "      <td>1</td>\n",
              "      <td>4529</td>\n",
              "      <td>43</td>\n",
              "      <td>1</td>\n",
              "      <td>1</td>\n",
              "      <td>F</td>\n",
              "      <td>компаньон</td>\n",
              "      <td>0</td>\n",
              "      <td>224791</td>\n",
              "      <td>операции с жильем</td>\n",
              "      <td>A</td>\n",
              "    </tr>\n",
              "    <tr>\n",
              "      <th>21449</th>\n",
              "      <td>0</td>\n",
              "      <td>2194</td>\n",
              "      <td>67</td>\n",
              "      <td>1</td>\n",
              "      <td>0</td>\n",
              "      <td>F</td>\n",
              "      <td>пенсионер</td>\n",
              "      <td>0</td>\n",
              "      <td>155999</td>\n",
              "      <td>сделка с автомобилем</td>\n",
              "      <td>B</td>\n",
              "    </tr>\n",
              "    <tr>\n",
              "      <th>21450</th>\n",
              "      <td>1</td>\n",
              "      <td>2113</td>\n",
              "      <td>38</td>\n",
              "      <td>1</td>\n",
              "      <td>1</td>\n",
              "      <td>M</td>\n",
              "      <td>сотрудник</td>\n",
              "      <td>1</td>\n",
              "      <td>89672</td>\n",
              "      <td>недвижимость</td>\n",
              "      <td>C</td>\n",
              "    </tr>\n",
              "    <tr>\n",
              "      <th>21451</th>\n",
              "      <td>3</td>\n",
              "      <td>3112</td>\n",
              "      <td>38</td>\n",
              "      <td>1</td>\n",
              "      <td>0</td>\n",
              "      <td>M</td>\n",
              "      <td>сотрудник</td>\n",
              "      <td>1</td>\n",
              "      <td>244093</td>\n",
              "      <td>на покупку своего автомобиля</td>\n",
              "      <td>A</td>\n",
              "    </tr>\n",
              "    <tr>\n",
              "      <th>21452</th>\n",
              "      <td>2</td>\n",
              "      <td>1984</td>\n",
              "      <td>40</td>\n",
              "      <td>1</td>\n",
              "      <td>0</td>\n",
              "      <td>F</td>\n",
              "      <td>сотрудник</td>\n",
              "      <td>0</td>\n",
              "      <td>82047</td>\n",
              "      <td>на покупку автомобиля</td>\n",
              "      <td>C</td>\n",
              "    </tr>\n",
              "  </tbody>\n",
              "</table>\n",
              "</div>\n",
              "      <button class=\"colab-df-convert\" onclick=\"convertToInteractive('df-56e4e20c-706b-4fd4-940b-64b4be047adb')\"\n",
              "              title=\"Convert this dataframe to an interactive table.\"\n",
              "              style=\"display:none;\">\n",
              "        \n",
              "  <svg xmlns=\"http://www.w3.org/2000/svg\" height=\"24px\"viewBox=\"0 0 24 24\"\n",
              "       width=\"24px\">\n",
              "    <path d=\"M0 0h24v24H0V0z\" fill=\"none\"/>\n",
              "    <path d=\"M18.56 5.44l.94 2.06.94-2.06 2.06-.94-2.06-.94-.94-2.06-.94 2.06-2.06.94zm-11 1L8.5 8.5l.94-2.06 2.06-.94-2.06-.94L8.5 2.5l-.94 2.06-2.06.94zm10 10l.94 2.06.94-2.06 2.06-.94-2.06-.94-.94-2.06-.94 2.06-2.06.94z\"/><path d=\"M17.41 7.96l-1.37-1.37c-.4-.4-.92-.59-1.43-.59-.52 0-1.04.2-1.43.59L10.3 9.45l-7.72 7.72c-.78.78-.78 2.05 0 2.83L4 21.41c.39.39.9.59 1.41.59.51 0 1.02-.2 1.41-.59l7.78-7.78 2.81-2.81c.8-.78.8-2.07 0-2.86zM5.41 20L4 18.59l7.72-7.72 1.47 1.35L5.41 20z\"/>\n",
              "  </svg>\n",
              "      </button>\n",
              "      \n",
              "  <style>\n",
              "    .colab-df-container {\n",
              "      display:flex;\n",
              "      flex-wrap:wrap;\n",
              "      gap: 12px;\n",
              "    }\n",
              "\n",
              "    .colab-df-convert {\n",
              "      background-color: #E8F0FE;\n",
              "      border: none;\n",
              "      border-radius: 50%;\n",
              "      cursor: pointer;\n",
              "      display: none;\n",
              "      fill: #1967D2;\n",
              "      height: 32px;\n",
              "      padding: 0 0 0 0;\n",
              "      width: 32px;\n",
              "    }\n",
              "\n",
              "    .colab-df-convert:hover {\n",
              "      background-color: #E2EBFA;\n",
              "      box-shadow: 0px 1px 2px rgba(60, 64, 67, 0.3), 0px 1px 3px 1px rgba(60, 64, 67, 0.15);\n",
              "      fill: #174EA6;\n",
              "    }\n",
              "\n",
              "    [theme=dark] .colab-df-convert {\n",
              "      background-color: #3B4455;\n",
              "      fill: #D2E3FC;\n",
              "    }\n",
              "\n",
              "    [theme=dark] .colab-df-convert:hover {\n",
              "      background-color: #434B5C;\n",
              "      box-shadow: 0px 1px 3px 1px rgba(0, 0, 0, 0.15);\n",
              "      filter: drop-shadow(0px 1px 2px rgba(0, 0, 0, 0.3));\n",
              "      fill: #FFFFFF;\n",
              "    }\n",
              "  </style>\n",
              "\n",
              "      <script>\n",
              "        const buttonEl =\n",
              "          document.querySelector('#df-56e4e20c-706b-4fd4-940b-64b4be047adb button.colab-df-convert');\n",
              "        buttonEl.style.display =\n",
              "          google.colab.kernel.accessAllowed ? 'block' : 'none';\n",
              "\n",
              "        async function convertToInteractive(key) {\n",
              "          const element = document.querySelector('#df-56e4e20c-706b-4fd4-940b-64b4be047adb');\n",
              "          const dataTable =\n",
              "            await google.colab.kernel.invokeFunction('convertToInteractive',\n",
              "                                                     [key], {});\n",
              "          if (!dataTable) return;\n",
              "\n",
              "          const docLinkHtml = 'Like what you see? Visit the ' +\n",
              "            '<a target=\"_blank\" href=https://colab.research.google.com/notebooks/data_table.ipynb>data table notebook</a>'\n",
              "            + ' to learn more about interactive tables.';\n",
              "          element.innerHTML = '';\n",
              "          dataTable['output_type'] = 'display_data';\n",
              "          await google.colab.output.renderOutput(dataTable, element);\n",
              "          const docLink = document.createElement('div');\n",
              "          docLink.innerHTML = docLinkHtml;\n",
              "          element.appendChild(docLink);\n",
              "        }\n",
              "      </script>\n",
              "    </div>\n",
              "  </div>\n",
              "  "
            ]
          },
          "metadata": {},
          "execution_count": 57
        }
      ],
      "source": [
        "df.tail() # просмотр последних строк df"
      ]
    },
    {
      "cell_type": "markdown",
      "id": "bd26ed6b",
      "metadata": {
        "id": "bd26ed6b"
      },
      "source": [
        "### Шаг 2.7. Категоризация целей кредита <a id='step_2.7'></a>"
      ]
    },
    {
      "cell_type": "markdown",
      "id": "119aec33",
      "metadata": {
        "id": "119aec33"
      },
      "source": [
        "Создадим функцию, которая на основании данных из столбца `purpose` сформирует новый столбец `purpose_category`, в который войдут следующие категории:\n",
        "* 'операции с автомобилем';\n",
        "* 'операции с недвижимостью';\n",
        "* 'проведение свадьбы';\n",
        "* 'получение образования'."
      ]
    },
    {
      "cell_type": "code",
      "execution_count": 58,
      "id": "9420684f",
      "metadata": {
        "id": "9420684f"
      },
      "outputs": [],
      "source": [
        "def purpose_category(purpose): # создание функции для категоризации целей кредита\n",
        "    if 'автомоб'in purpose:\n",
        "        return 'операции с автомобилем'\n",
        "    if 'недвиж' in purpose:\n",
        "        return 'операции с недвижимостью'\n",
        "    if  'жиль' in purpose:\n",
        "        return 'операции с недвижимостью'\n",
        "    if 'свадьб' in purpose:\n",
        "        return 'проведение свадьбы'\n",
        "    if 'образован' in purpose:\n",
        "        return 'получение образования'"
      ]
    },
    {
      "cell_type": "markdown",
      "id": "cf4e2c69",
      "metadata": {
        "id": "cf4e2c69"
      },
      "source": [
        "Создадим столбец `'purpose_category'` и сохраним в него результат применения функции `'purpose_category'`."
      ]
    },
    {
      "cell_type": "code",
      "execution_count": 59,
      "id": "09788a89",
      "metadata": {
        "id": "09788a89"
      },
      "outputs": [],
      "source": [
        "df['purpose_category'] = df['purpose'].apply(purpose_category) # применение функции purpose_category и сохранение результата \n",
        "                                                               # в столбец 'purpose_category'"
      ]
    },
    {
      "cell_type": "markdown",
      "id": "81a572cf",
      "metadata": {
        "id": "81a572cf"
      },
      "source": [
        "Убедимся, что функция сработала верно, выведем список уникальных значений столбца `'purpose_category'`."
      ]
    },
    {
      "cell_type": "code",
      "execution_count": 60,
      "id": "7a475a9c",
      "metadata": {
        "colab": {
          "base_uri": "https://localhost:8080/"
        },
        "id": "7a475a9c",
        "outputId": "f42e241c-95f2-4975-ebd8-2f1281246806"
      },
      "outputs": [
        {
          "output_type": "execute_result",
          "data": {
            "text/plain": [
              "операции с недвижимостью    10811\n",
              "операции с автомобилем       4306\n",
              "получение образования        4013\n",
              "проведение свадьбы           2323\n",
              "Name: purpose_category, dtype: int64"
            ]
          },
          "metadata": {},
          "execution_count": 60
        }
      ],
      "source": [
        "df['purpose_category'].value_counts() # просмотр значений столбца 'purpose_category'"
      ]
    },
    {
      "cell_type": "code",
      "execution_count": 61,
      "id": "ef1a4382",
      "metadata": {
        "colab": {
          "base_uri": "https://localhost:8080/",
          "height": 250
        },
        "id": "ef1a4382",
        "outputId": "358665fa-8fac-470f-8ff9-67b1820ff44f"
      },
      "outputs": [
        {
          "output_type": "execute_result",
          "data": {
            "text/plain": [
              "       children  days_employed  dob_years  education_id  family_status_id  \\\n",
              "21448         1           4529         43             1                 1   \n",
              "21449         0           2194         67             1                 0   \n",
              "21450         1           2113         38             1                 1   \n",
              "21451         3           3112         38             1                 0   \n",
              "21452         2           1984         40             1                 0   \n",
              "\n",
              "      gender income_type  debt  total_income                       purpose  \\\n",
              "21448      F   компаньон     0        224791             операции с жильем   \n",
              "21449      F   пенсионер     0        155999          сделка с автомобилем   \n",
              "21450      M   сотрудник     1         89672                  недвижимость   \n",
              "21451      M   сотрудник     1        244093  на покупку своего автомобиля   \n",
              "21452      F   сотрудник     0         82047         на покупку автомобиля   \n",
              "\n",
              "      total_income_category          purpose_category  \n",
              "21448                     A  операции с недвижимостью  \n",
              "21449                     B    операции с автомобилем  \n",
              "21450                     C  операции с недвижимостью  \n",
              "21451                     A    операции с автомобилем  \n",
              "21452                     C    операции с автомобилем  "
            ],
            "text/html": [
              "\n",
              "  <div id=\"df-27dd97a3-8e34-4d65-8332-618bf8568870\">\n",
              "    <div class=\"colab-df-container\">\n",
              "      <div>\n",
              "<style scoped>\n",
              "    .dataframe tbody tr th:only-of-type {\n",
              "        vertical-align: middle;\n",
              "    }\n",
              "\n",
              "    .dataframe tbody tr th {\n",
              "        vertical-align: top;\n",
              "    }\n",
              "\n",
              "    .dataframe thead th {\n",
              "        text-align: right;\n",
              "    }\n",
              "</style>\n",
              "<table border=\"1\" class=\"dataframe\">\n",
              "  <thead>\n",
              "    <tr style=\"text-align: right;\">\n",
              "      <th></th>\n",
              "      <th>children</th>\n",
              "      <th>days_employed</th>\n",
              "      <th>dob_years</th>\n",
              "      <th>education_id</th>\n",
              "      <th>family_status_id</th>\n",
              "      <th>gender</th>\n",
              "      <th>income_type</th>\n",
              "      <th>debt</th>\n",
              "      <th>total_income</th>\n",
              "      <th>purpose</th>\n",
              "      <th>total_income_category</th>\n",
              "      <th>purpose_category</th>\n",
              "    </tr>\n",
              "  </thead>\n",
              "  <tbody>\n",
              "    <tr>\n",
              "      <th>21448</th>\n",
              "      <td>1</td>\n",
              "      <td>4529</td>\n",
              "      <td>43</td>\n",
              "      <td>1</td>\n",
              "      <td>1</td>\n",
              "      <td>F</td>\n",
              "      <td>компаньон</td>\n",
              "      <td>0</td>\n",
              "      <td>224791</td>\n",
              "      <td>операции с жильем</td>\n",
              "      <td>A</td>\n",
              "      <td>операции с недвижимостью</td>\n",
              "    </tr>\n",
              "    <tr>\n",
              "      <th>21449</th>\n",
              "      <td>0</td>\n",
              "      <td>2194</td>\n",
              "      <td>67</td>\n",
              "      <td>1</td>\n",
              "      <td>0</td>\n",
              "      <td>F</td>\n",
              "      <td>пенсионер</td>\n",
              "      <td>0</td>\n",
              "      <td>155999</td>\n",
              "      <td>сделка с автомобилем</td>\n",
              "      <td>B</td>\n",
              "      <td>операции с автомобилем</td>\n",
              "    </tr>\n",
              "    <tr>\n",
              "      <th>21450</th>\n",
              "      <td>1</td>\n",
              "      <td>2113</td>\n",
              "      <td>38</td>\n",
              "      <td>1</td>\n",
              "      <td>1</td>\n",
              "      <td>M</td>\n",
              "      <td>сотрудник</td>\n",
              "      <td>1</td>\n",
              "      <td>89672</td>\n",
              "      <td>недвижимость</td>\n",
              "      <td>C</td>\n",
              "      <td>операции с недвижимостью</td>\n",
              "    </tr>\n",
              "    <tr>\n",
              "      <th>21451</th>\n",
              "      <td>3</td>\n",
              "      <td>3112</td>\n",
              "      <td>38</td>\n",
              "      <td>1</td>\n",
              "      <td>0</td>\n",
              "      <td>M</td>\n",
              "      <td>сотрудник</td>\n",
              "      <td>1</td>\n",
              "      <td>244093</td>\n",
              "      <td>на покупку своего автомобиля</td>\n",
              "      <td>A</td>\n",
              "      <td>операции с автомобилем</td>\n",
              "    </tr>\n",
              "    <tr>\n",
              "      <th>21452</th>\n",
              "      <td>2</td>\n",
              "      <td>1984</td>\n",
              "      <td>40</td>\n",
              "      <td>1</td>\n",
              "      <td>0</td>\n",
              "      <td>F</td>\n",
              "      <td>сотрудник</td>\n",
              "      <td>0</td>\n",
              "      <td>82047</td>\n",
              "      <td>на покупку автомобиля</td>\n",
              "      <td>C</td>\n",
              "      <td>операции с автомобилем</td>\n",
              "    </tr>\n",
              "  </tbody>\n",
              "</table>\n",
              "</div>\n",
              "      <button class=\"colab-df-convert\" onclick=\"convertToInteractive('df-27dd97a3-8e34-4d65-8332-618bf8568870')\"\n",
              "              title=\"Convert this dataframe to an interactive table.\"\n",
              "              style=\"display:none;\">\n",
              "        \n",
              "  <svg xmlns=\"http://www.w3.org/2000/svg\" height=\"24px\"viewBox=\"0 0 24 24\"\n",
              "       width=\"24px\">\n",
              "    <path d=\"M0 0h24v24H0V0z\" fill=\"none\"/>\n",
              "    <path d=\"M18.56 5.44l.94 2.06.94-2.06 2.06-.94-2.06-.94-.94-2.06-.94 2.06-2.06.94zm-11 1L8.5 8.5l.94-2.06 2.06-.94-2.06-.94L8.5 2.5l-.94 2.06-2.06.94zm10 10l.94 2.06.94-2.06 2.06-.94-2.06-.94-.94-2.06-.94 2.06-2.06.94z\"/><path d=\"M17.41 7.96l-1.37-1.37c-.4-.4-.92-.59-1.43-.59-.52 0-1.04.2-1.43.59L10.3 9.45l-7.72 7.72c-.78.78-.78 2.05 0 2.83L4 21.41c.39.39.9.59 1.41.59.51 0 1.02-.2 1.41-.59l7.78-7.78 2.81-2.81c.8-.78.8-2.07 0-2.86zM5.41 20L4 18.59l7.72-7.72 1.47 1.35L5.41 20z\"/>\n",
              "  </svg>\n",
              "      </button>\n",
              "      \n",
              "  <style>\n",
              "    .colab-df-container {\n",
              "      display:flex;\n",
              "      flex-wrap:wrap;\n",
              "      gap: 12px;\n",
              "    }\n",
              "\n",
              "    .colab-df-convert {\n",
              "      background-color: #E8F0FE;\n",
              "      border: none;\n",
              "      border-radius: 50%;\n",
              "      cursor: pointer;\n",
              "      display: none;\n",
              "      fill: #1967D2;\n",
              "      height: 32px;\n",
              "      padding: 0 0 0 0;\n",
              "      width: 32px;\n",
              "    }\n",
              "\n",
              "    .colab-df-convert:hover {\n",
              "      background-color: #E2EBFA;\n",
              "      box-shadow: 0px 1px 2px rgba(60, 64, 67, 0.3), 0px 1px 3px 1px rgba(60, 64, 67, 0.15);\n",
              "      fill: #174EA6;\n",
              "    }\n",
              "\n",
              "    [theme=dark] .colab-df-convert {\n",
              "      background-color: #3B4455;\n",
              "      fill: #D2E3FC;\n",
              "    }\n",
              "\n",
              "    [theme=dark] .colab-df-convert:hover {\n",
              "      background-color: #434B5C;\n",
              "      box-shadow: 0px 1px 3px 1px rgba(0, 0, 0, 0.15);\n",
              "      filter: drop-shadow(0px 1px 2px rgba(0, 0, 0, 0.3));\n",
              "      fill: #FFFFFF;\n",
              "    }\n",
              "  </style>\n",
              "\n",
              "      <script>\n",
              "        const buttonEl =\n",
              "          document.querySelector('#df-27dd97a3-8e34-4d65-8332-618bf8568870 button.colab-df-convert');\n",
              "        buttonEl.style.display =\n",
              "          google.colab.kernel.accessAllowed ? 'block' : 'none';\n",
              "\n",
              "        async function convertToInteractive(key) {\n",
              "          const element = document.querySelector('#df-27dd97a3-8e34-4d65-8332-618bf8568870');\n",
              "          const dataTable =\n",
              "            await google.colab.kernel.invokeFunction('convertToInteractive',\n",
              "                                                     [key], {});\n",
              "          if (!dataTable) return;\n",
              "\n",
              "          const docLinkHtml = 'Like what you see? Visit the ' +\n",
              "            '<a target=\"_blank\" href=https://colab.research.google.com/notebooks/data_table.ipynb>data table notebook</a>'\n",
              "            + ' to learn more about interactive tables.';\n",
              "          element.innerHTML = '';\n",
              "          dataTable['output_type'] = 'display_data';\n",
              "          await google.colab.output.renderOutput(dataTable, element);\n",
              "          const docLink = document.createElement('div');\n",
              "          docLink.innerHTML = docLinkHtml;\n",
              "          element.appendChild(docLink);\n",
              "        }\n",
              "      </script>\n",
              "    </div>\n",
              "  </div>\n",
              "  "
            ]
          },
          "metadata": {},
          "execution_count": 61
        }
      ],
      "source": [
        "df.tail() # просмотр последних строк df"
      ]
    },
    {
      "cell_type": "markdown",
      "id": "cbcb5b09",
      "metadata": {
        "id": "cbcb5b09"
      },
      "source": [
        "### Шаг 2.8 Категоризация в зависимости от количества детей <a id='step_2.8'></a>"
      ]
    },
    {
      "cell_type": "markdown",
      "id": "79dd6123",
      "metadata": {
        "id": "79dd6123"
      },
      "source": [
        "Для ответа на первый вопрос, о влиянии количества детей на своевременное закрытие кредита, создадим функцию `children_category`, которая разделит заемщиков на три категории в зависимости от количества детей в семье:\n",
        "* нет детей - категория 'без детей';\n",
        "* от 1 до 3х детей - 'с детьми';\n",
        "* более трех детей - 'многодетные'."
      ]
    },
    {
      "cell_type": "code",
      "execution_count": 62,
      "id": "b3a38ec6",
      "metadata": {
        "id": "b3a38ec6"
      },
      "outputs": [],
      "source": [
        "def children_category(children): # функция для категоризации заемщиков в зависимости от количества детей\n",
        "    if children == 0:\n",
        "        return 'без детей'\n",
        "    if children >=3:\n",
        "        return 'многодетные'\n",
        "    return 'с детьми'"
      ]
    },
    {
      "cell_type": "markdown",
      "id": "701fa71b",
      "metadata": {
        "id": "701fa71b"
      },
      "source": [
        "Применим функцию `children_category` к столбцу `'children'` и сохраним результат в столбце `'children_category'`."
      ]
    },
    {
      "cell_type": "code",
      "execution_count": 63,
      "id": "2026a315",
      "metadata": {
        "id": "2026a315"
      },
      "outputs": [],
      "source": [
        "df['children_category'] = df['children'].apply(children_category) # создание нового столбца для категоризации \n",
        "                                                                  # по кол-ву детей у заемщика"
      ]
    },
    {
      "cell_type": "markdown",
      "id": "d9d526f4",
      "metadata": {
        "id": "d9d526f4"
      },
      "source": [
        "Проверим результат работы функции."
      ]
    },
    {
      "cell_type": "code",
      "execution_count": 64,
      "id": "2539b22b",
      "metadata": {
        "colab": {
          "base_uri": "https://localhost:8080/",
          "height": 320
        },
        "id": "2539b22b",
        "outputId": "a3f06600-d6c0-4be1-88ba-1a1f733b57b7"
      },
      "outputs": [
        {
          "output_type": "execute_result",
          "data": {
            "text/plain": [
              "   children  days_employed  dob_years  education_id  family_status_id gender  \\\n",
              "0         1           8437         42             0                 0      F   \n",
              "1         1           4024         36             1                 0      F   \n",
              "2         0           5623         33             1                 0      M   \n",
              "3         3           4124         32             1                 0      M   \n",
              "4         0           2194         53             1                 1      F   \n",
              "\n",
              "  income_type  debt  total_income                     purpose  \\\n",
              "0   сотрудник     0        253875               покупка жилья   \n",
              "1   сотрудник     0        112080     приобретение автомобиля   \n",
              "2   сотрудник     0        145885               покупка жилья   \n",
              "3   сотрудник     0        267628  дополнительное образование   \n",
              "4   пенсионер     0        158616             сыграть свадьбу   \n",
              "\n",
              "  total_income_category          purpose_category children_category  \n",
              "0                     A  операции с недвижимостью          с детьми  \n",
              "1                     B    операции с автомобилем          с детьми  \n",
              "2                     B  операции с недвижимостью         без детей  \n",
              "3                     A     получение образования       многодетные  \n",
              "4                     B        проведение свадьбы         без детей  "
            ],
            "text/html": [
              "\n",
              "  <div id=\"df-79dd6d54-55ff-49b5-ab76-e5403f08a936\">\n",
              "    <div class=\"colab-df-container\">\n",
              "      <div>\n",
              "<style scoped>\n",
              "    .dataframe tbody tr th:only-of-type {\n",
              "        vertical-align: middle;\n",
              "    }\n",
              "\n",
              "    .dataframe tbody tr th {\n",
              "        vertical-align: top;\n",
              "    }\n",
              "\n",
              "    .dataframe thead th {\n",
              "        text-align: right;\n",
              "    }\n",
              "</style>\n",
              "<table border=\"1\" class=\"dataframe\">\n",
              "  <thead>\n",
              "    <tr style=\"text-align: right;\">\n",
              "      <th></th>\n",
              "      <th>children</th>\n",
              "      <th>days_employed</th>\n",
              "      <th>dob_years</th>\n",
              "      <th>education_id</th>\n",
              "      <th>family_status_id</th>\n",
              "      <th>gender</th>\n",
              "      <th>income_type</th>\n",
              "      <th>debt</th>\n",
              "      <th>total_income</th>\n",
              "      <th>purpose</th>\n",
              "      <th>total_income_category</th>\n",
              "      <th>purpose_category</th>\n",
              "      <th>children_category</th>\n",
              "    </tr>\n",
              "  </thead>\n",
              "  <tbody>\n",
              "    <tr>\n",
              "      <th>0</th>\n",
              "      <td>1</td>\n",
              "      <td>8437</td>\n",
              "      <td>42</td>\n",
              "      <td>0</td>\n",
              "      <td>0</td>\n",
              "      <td>F</td>\n",
              "      <td>сотрудник</td>\n",
              "      <td>0</td>\n",
              "      <td>253875</td>\n",
              "      <td>покупка жилья</td>\n",
              "      <td>A</td>\n",
              "      <td>операции с недвижимостью</td>\n",
              "      <td>с детьми</td>\n",
              "    </tr>\n",
              "    <tr>\n",
              "      <th>1</th>\n",
              "      <td>1</td>\n",
              "      <td>4024</td>\n",
              "      <td>36</td>\n",
              "      <td>1</td>\n",
              "      <td>0</td>\n",
              "      <td>F</td>\n",
              "      <td>сотрудник</td>\n",
              "      <td>0</td>\n",
              "      <td>112080</td>\n",
              "      <td>приобретение автомобиля</td>\n",
              "      <td>B</td>\n",
              "      <td>операции с автомобилем</td>\n",
              "      <td>с детьми</td>\n",
              "    </tr>\n",
              "    <tr>\n",
              "      <th>2</th>\n",
              "      <td>0</td>\n",
              "      <td>5623</td>\n",
              "      <td>33</td>\n",
              "      <td>1</td>\n",
              "      <td>0</td>\n",
              "      <td>M</td>\n",
              "      <td>сотрудник</td>\n",
              "      <td>0</td>\n",
              "      <td>145885</td>\n",
              "      <td>покупка жилья</td>\n",
              "      <td>B</td>\n",
              "      <td>операции с недвижимостью</td>\n",
              "      <td>без детей</td>\n",
              "    </tr>\n",
              "    <tr>\n",
              "      <th>3</th>\n",
              "      <td>3</td>\n",
              "      <td>4124</td>\n",
              "      <td>32</td>\n",
              "      <td>1</td>\n",
              "      <td>0</td>\n",
              "      <td>M</td>\n",
              "      <td>сотрудник</td>\n",
              "      <td>0</td>\n",
              "      <td>267628</td>\n",
              "      <td>дополнительное образование</td>\n",
              "      <td>A</td>\n",
              "      <td>получение образования</td>\n",
              "      <td>многодетные</td>\n",
              "    </tr>\n",
              "    <tr>\n",
              "      <th>4</th>\n",
              "      <td>0</td>\n",
              "      <td>2194</td>\n",
              "      <td>53</td>\n",
              "      <td>1</td>\n",
              "      <td>1</td>\n",
              "      <td>F</td>\n",
              "      <td>пенсионер</td>\n",
              "      <td>0</td>\n",
              "      <td>158616</td>\n",
              "      <td>сыграть свадьбу</td>\n",
              "      <td>B</td>\n",
              "      <td>проведение свадьбы</td>\n",
              "      <td>без детей</td>\n",
              "    </tr>\n",
              "  </tbody>\n",
              "</table>\n",
              "</div>\n",
              "      <button class=\"colab-df-convert\" onclick=\"convertToInteractive('df-79dd6d54-55ff-49b5-ab76-e5403f08a936')\"\n",
              "              title=\"Convert this dataframe to an interactive table.\"\n",
              "              style=\"display:none;\">\n",
              "        \n",
              "  <svg xmlns=\"http://www.w3.org/2000/svg\" height=\"24px\"viewBox=\"0 0 24 24\"\n",
              "       width=\"24px\">\n",
              "    <path d=\"M0 0h24v24H0V0z\" fill=\"none\"/>\n",
              "    <path d=\"M18.56 5.44l.94 2.06.94-2.06 2.06-.94-2.06-.94-.94-2.06-.94 2.06-2.06.94zm-11 1L8.5 8.5l.94-2.06 2.06-.94-2.06-.94L8.5 2.5l-.94 2.06-2.06.94zm10 10l.94 2.06.94-2.06 2.06-.94-2.06-.94-.94-2.06-.94 2.06-2.06.94z\"/><path d=\"M17.41 7.96l-1.37-1.37c-.4-.4-.92-.59-1.43-.59-.52 0-1.04.2-1.43.59L10.3 9.45l-7.72 7.72c-.78.78-.78 2.05 0 2.83L4 21.41c.39.39.9.59 1.41.59.51 0 1.02-.2 1.41-.59l7.78-7.78 2.81-2.81c.8-.78.8-2.07 0-2.86zM5.41 20L4 18.59l7.72-7.72 1.47 1.35L5.41 20z\"/>\n",
              "  </svg>\n",
              "      </button>\n",
              "      \n",
              "  <style>\n",
              "    .colab-df-container {\n",
              "      display:flex;\n",
              "      flex-wrap:wrap;\n",
              "      gap: 12px;\n",
              "    }\n",
              "\n",
              "    .colab-df-convert {\n",
              "      background-color: #E8F0FE;\n",
              "      border: none;\n",
              "      border-radius: 50%;\n",
              "      cursor: pointer;\n",
              "      display: none;\n",
              "      fill: #1967D2;\n",
              "      height: 32px;\n",
              "      padding: 0 0 0 0;\n",
              "      width: 32px;\n",
              "    }\n",
              "\n",
              "    .colab-df-convert:hover {\n",
              "      background-color: #E2EBFA;\n",
              "      box-shadow: 0px 1px 2px rgba(60, 64, 67, 0.3), 0px 1px 3px 1px rgba(60, 64, 67, 0.15);\n",
              "      fill: #174EA6;\n",
              "    }\n",
              "\n",
              "    [theme=dark] .colab-df-convert {\n",
              "      background-color: #3B4455;\n",
              "      fill: #D2E3FC;\n",
              "    }\n",
              "\n",
              "    [theme=dark] .colab-df-convert:hover {\n",
              "      background-color: #434B5C;\n",
              "      box-shadow: 0px 1px 3px 1px rgba(0, 0, 0, 0.15);\n",
              "      filter: drop-shadow(0px 1px 2px rgba(0, 0, 0, 0.3));\n",
              "      fill: #FFFFFF;\n",
              "    }\n",
              "  </style>\n",
              "\n",
              "      <script>\n",
              "        const buttonEl =\n",
              "          document.querySelector('#df-79dd6d54-55ff-49b5-ab76-e5403f08a936 button.colab-df-convert');\n",
              "        buttonEl.style.display =\n",
              "          google.colab.kernel.accessAllowed ? 'block' : 'none';\n",
              "\n",
              "        async function convertToInteractive(key) {\n",
              "          const element = document.querySelector('#df-79dd6d54-55ff-49b5-ab76-e5403f08a936');\n",
              "          const dataTable =\n",
              "            await google.colab.kernel.invokeFunction('convertToInteractive',\n",
              "                                                     [key], {});\n",
              "          if (!dataTable) return;\n",
              "\n",
              "          const docLinkHtml = 'Like what you see? Visit the ' +\n",
              "            '<a target=\"_blank\" href=https://colab.research.google.com/notebooks/data_table.ipynb>data table notebook</a>'\n",
              "            + ' to learn more about interactive tables.';\n",
              "          element.innerHTML = '';\n",
              "          dataTable['output_type'] = 'display_data';\n",
              "          await google.colab.output.renderOutput(dataTable, element);\n",
              "          const docLink = document.createElement('div');\n",
              "          docLink.innerHTML = docLinkHtml;\n",
              "          element.appendChild(docLink);\n",
              "        }\n",
              "      </script>\n",
              "    </div>\n",
              "  </div>\n",
              "  "
            ]
          },
          "metadata": {},
          "execution_count": 64
        }
      ],
      "source": [
        "df.head() # просмотр первых строк датафрейма"
      ]
    },
    {
      "cell_type": "code",
      "execution_count": 65,
      "id": "4da935cc",
      "metadata": {
        "colab": {
          "base_uri": "https://localhost:8080/"
        },
        "id": "4da935cc",
        "outputId": "a513eecc-a41c-40fe-b0ec-a4247f967d76"
      },
      "outputs": [
        {
          "output_type": "execute_result",
          "data": {
            "text/plain": [
              "без детей      14090\n",
              "с детьми        6983\n",
              "многодетные      380\n",
              "Name: children_category, dtype: int64"
            ]
          },
          "metadata": {},
          "execution_count": 65
        }
      ],
      "source": [
        "df['children_category'].value_counts() # просмотр уникальных значений столбца 'children_category'"
      ]
    },
    {
      "cell_type": "markdown",
      "id": "ba3e2d70",
      "metadata": {
        "id": "ba3e2d70"
      },
      "source": [
        "###  Шаг 2.9 Категоризация в зависимости от семейного положения <a id='step_2.9'></a>"
      ]
    },
    {
      "cell_type": "markdown",
      "id": "eb109e6b",
      "metadata": {
        "id": "eb109e6b"
      },
      "source": [
        "В таблице заемщики разбиты на пять категорий в зависимости от семейного статуса. Однако, некоторые категории содержат слишком мало значений. Создадим новые категории: заемщики состоящие в официальном браке попадут в категорию `\"состоит в браке\"`, все остальные в категорию `\"не состоит в браке\"`. Создадим функция `family_status_categ`, которая разделит заемщиков на эти категории."
      ]
    },
    {
      "cell_type": "code",
      "execution_count": 66,
      "id": "3501f5b2",
      "metadata": {
        "id": "3501f5b2"
      },
      "outputs": [],
      "source": [
        "def family_status_categ(family_status_id): # функция для категоризации заемщиков в зависимости от количества детей\n",
        "    if family_status_id == 0:\n",
        "        return 'состоит в браке'\n",
        "    return 'не состоит в браке'"
      ]
    },
    {
      "cell_type": "markdown",
      "id": "e4a4b0cc",
      "metadata": {
        "id": "e4a4b0cc"
      },
      "source": [
        "Применим функцию `family_status_categ` к столбцу `'family_status_id'`, результат применения функции сохраним в новый столбец  `'family_status_categ'`. Убедимся что функция сработала верно: выведем на экран последние строки таблицы, а также промотрим уникальные значения столбца, используя метод `value_counts()`."
      ]
    },
    {
      "cell_type": "code",
      "execution_count": 67,
      "id": "82fa62e2",
      "metadata": {
        "colab": {
          "base_uri": "https://localhost:8080/",
          "height": 374
        },
        "id": "82fa62e2",
        "outputId": "34bff25c-9965-4803-e9ed-fc5347e1a755"
      },
      "outputs": [
        {
          "output_type": "execute_result",
          "data": {
            "text/plain": [
              "       children  days_employed  dob_years  education_id  family_status_id  \\\n",
              "21448         1           4529         43             1                 1   \n",
              "21449         0           2194         67             1                 0   \n",
              "21450         1           2113         38             1                 1   \n",
              "21451         3           3112         38             1                 0   \n",
              "21452         2           1984         40             1                 0   \n",
              "\n",
              "      gender income_type  debt  total_income                       purpose  \\\n",
              "21448      F   компаньон     0        224791             операции с жильем   \n",
              "21449      F   пенсионер     0        155999          сделка с автомобилем   \n",
              "21450      M   сотрудник     1         89672                  недвижимость   \n",
              "21451      M   сотрудник     1        244093  на покупку своего автомобиля   \n",
              "21452      F   сотрудник     0         82047         на покупку автомобиля   \n",
              "\n",
              "      total_income_category          purpose_category children_category  \\\n",
              "21448                     A  операции с недвижимостью          с детьми   \n",
              "21449                     B    операции с автомобилем         без детей   \n",
              "21450                     C  операции с недвижимостью          с детьми   \n",
              "21451                     A    операции с автомобилем       многодетные   \n",
              "21452                     C    операции с автомобилем          с детьми   \n",
              "\n",
              "      family_status_categ  \n",
              "21448  не состоит в браке  \n",
              "21449     состоит в браке  \n",
              "21450  не состоит в браке  \n",
              "21451     состоит в браке  \n",
              "21452     состоит в браке  "
            ],
            "text/html": [
              "\n",
              "  <div id=\"df-95f2712e-1409-4e82-ba9d-0b17c7144575\">\n",
              "    <div class=\"colab-df-container\">\n",
              "      <div>\n",
              "<style scoped>\n",
              "    .dataframe tbody tr th:only-of-type {\n",
              "        vertical-align: middle;\n",
              "    }\n",
              "\n",
              "    .dataframe tbody tr th {\n",
              "        vertical-align: top;\n",
              "    }\n",
              "\n",
              "    .dataframe thead th {\n",
              "        text-align: right;\n",
              "    }\n",
              "</style>\n",
              "<table border=\"1\" class=\"dataframe\">\n",
              "  <thead>\n",
              "    <tr style=\"text-align: right;\">\n",
              "      <th></th>\n",
              "      <th>children</th>\n",
              "      <th>days_employed</th>\n",
              "      <th>dob_years</th>\n",
              "      <th>education_id</th>\n",
              "      <th>family_status_id</th>\n",
              "      <th>gender</th>\n",
              "      <th>income_type</th>\n",
              "      <th>debt</th>\n",
              "      <th>total_income</th>\n",
              "      <th>purpose</th>\n",
              "      <th>total_income_category</th>\n",
              "      <th>purpose_category</th>\n",
              "      <th>children_category</th>\n",
              "      <th>family_status_categ</th>\n",
              "    </tr>\n",
              "  </thead>\n",
              "  <tbody>\n",
              "    <tr>\n",
              "      <th>21448</th>\n",
              "      <td>1</td>\n",
              "      <td>4529</td>\n",
              "      <td>43</td>\n",
              "      <td>1</td>\n",
              "      <td>1</td>\n",
              "      <td>F</td>\n",
              "      <td>компаньон</td>\n",
              "      <td>0</td>\n",
              "      <td>224791</td>\n",
              "      <td>операции с жильем</td>\n",
              "      <td>A</td>\n",
              "      <td>операции с недвижимостью</td>\n",
              "      <td>с детьми</td>\n",
              "      <td>не состоит в браке</td>\n",
              "    </tr>\n",
              "    <tr>\n",
              "      <th>21449</th>\n",
              "      <td>0</td>\n",
              "      <td>2194</td>\n",
              "      <td>67</td>\n",
              "      <td>1</td>\n",
              "      <td>0</td>\n",
              "      <td>F</td>\n",
              "      <td>пенсионер</td>\n",
              "      <td>0</td>\n",
              "      <td>155999</td>\n",
              "      <td>сделка с автомобилем</td>\n",
              "      <td>B</td>\n",
              "      <td>операции с автомобилем</td>\n",
              "      <td>без детей</td>\n",
              "      <td>состоит в браке</td>\n",
              "    </tr>\n",
              "    <tr>\n",
              "      <th>21450</th>\n",
              "      <td>1</td>\n",
              "      <td>2113</td>\n",
              "      <td>38</td>\n",
              "      <td>1</td>\n",
              "      <td>1</td>\n",
              "      <td>M</td>\n",
              "      <td>сотрудник</td>\n",
              "      <td>1</td>\n",
              "      <td>89672</td>\n",
              "      <td>недвижимость</td>\n",
              "      <td>C</td>\n",
              "      <td>операции с недвижимостью</td>\n",
              "      <td>с детьми</td>\n",
              "      <td>не состоит в браке</td>\n",
              "    </tr>\n",
              "    <tr>\n",
              "      <th>21451</th>\n",
              "      <td>3</td>\n",
              "      <td>3112</td>\n",
              "      <td>38</td>\n",
              "      <td>1</td>\n",
              "      <td>0</td>\n",
              "      <td>M</td>\n",
              "      <td>сотрудник</td>\n",
              "      <td>1</td>\n",
              "      <td>244093</td>\n",
              "      <td>на покупку своего автомобиля</td>\n",
              "      <td>A</td>\n",
              "      <td>операции с автомобилем</td>\n",
              "      <td>многодетные</td>\n",
              "      <td>состоит в браке</td>\n",
              "    </tr>\n",
              "    <tr>\n",
              "      <th>21452</th>\n",
              "      <td>2</td>\n",
              "      <td>1984</td>\n",
              "      <td>40</td>\n",
              "      <td>1</td>\n",
              "      <td>0</td>\n",
              "      <td>F</td>\n",
              "      <td>сотрудник</td>\n",
              "      <td>0</td>\n",
              "      <td>82047</td>\n",
              "      <td>на покупку автомобиля</td>\n",
              "      <td>C</td>\n",
              "      <td>операции с автомобилем</td>\n",
              "      <td>с детьми</td>\n",
              "      <td>состоит в браке</td>\n",
              "    </tr>\n",
              "  </tbody>\n",
              "</table>\n",
              "</div>\n",
              "      <button class=\"colab-df-convert\" onclick=\"convertToInteractive('df-95f2712e-1409-4e82-ba9d-0b17c7144575')\"\n",
              "              title=\"Convert this dataframe to an interactive table.\"\n",
              "              style=\"display:none;\">\n",
              "        \n",
              "  <svg xmlns=\"http://www.w3.org/2000/svg\" height=\"24px\"viewBox=\"0 0 24 24\"\n",
              "       width=\"24px\">\n",
              "    <path d=\"M0 0h24v24H0V0z\" fill=\"none\"/>\n",
              "    <path d=\"M18.56 5.44l.94 2.06.94-2.06 2.06-.94-2.06-.94-.94-2.06-.94 2.06-2.06.94zm-11 1L8.5 8.5l.94-2.06 2.06-.94-2.06-.94L8.5 2.5l-.94 2.06-2.06.94zm10 10l.94 2.06.94-2.06 2.06-.94-2.06-.94-.94-2.06-.94 2.06-2.06.94z\"/><path d=\"M17.41 7.96l-1.37-1.37c-.4-.4-.92-.59-1.43-.59-.52 0-1.04.2-1.43.59L10.3 9.45l-7.72 7.72c-.78.78-.78 2.05 0 2.83L4 21.41c.39.39.9.59 1.41.59.51 0 1.02-.2 1.41-.59l7.78-7.78 2.81-2.81c.8-.78.8-2.07 0-2.86zM5.41 20L4 18.59l7.72-7.72 1.47 1.35L5.41 20z\"/>\n",
              "  </svg>\n",
              "      </button>\n",
              "      \n",
              "  <style>\n",
              "    .colab-df-container {\n",
              "      display:flex;\n",
              "      flex-wrap:wrap;\n",
              "      gap: 12px;\n",
              "    }\n",
              "\n",
              "    .colab-df-convert {\n",
              "      background-color: #E8F0FE;\n",
              "      border: none;\n",
              "      border-radius: 50%;\n",
              "      cursor: pointer;\n",
              "      display: none;\n",
              "      fill: #1967D2;\n",
              "      height: 32px;\n",
              "      padding: 0 0 0 0;\n",
              "      width: 32px;\n",
              "    }\n",
              "\n",
              "    .colab-df-convert:hover {\n",
              "      background-color: #E2EBFA;\n",
              "      box-shadow: 0px 1px 2px rgba(60, 64, 67, 0.3), 0px 1px 3px 1px rgba(60, 64, 67, 0.15);\n",
              "      fill: #174EA6;\n",
              "    }\n",
              "\n",
              "    [theme=dark] .colab-df-convert {\n",
              "      background-color: #3B4455;\n",
              "      fill: #D2E3FC;\n",
              "    }\n",
              "\n",
              "    [theme=dark] .colab-df-convert:hover {\n",
              "      background-color: #434B5C;\n",
              "      box-shadow: 0px 1px 3px 1px rgba(0, 0, 0, 0.15);\n",
              "      filter: drop-shadow(0px 1px 2px rgba(0, 0, 0, 0.3));\n",
              "      fill: #FFFFFF;\n",
              "    }\n",
              "  </style>\n",
              "\n",
              "      <script>\n",
              "        const buttonEl =\n",
              "          document.querySelector('#df-95f2712e-1409-4e82-ba9d-0b17c7144575 button.colab-df-convert');\n",
              "        buttonEl.style.display =\n",
              "          google.colab.kernel.accessAllowed ? 'block' : 'none';\n",
              "\n",
              "        async function convertToInteractive(key) {\n",
              "          const element = document.querySelector('#df-95f2712e-1409-4e82-ba9d-0b17c7144575');\n",
              "          const dataTable =\n",
              "            await google.colab.kernel.invokeFunction('convertToInteractive',\n",
              "                                                     [key], {});\n",
              "          if (!dataTable) return;\n",
              "\n",
              "          const docLinkHtml = 'Like what you see? Visit the ' +\n",
              "            '<a target=\"_blank\" href=https://colab.research.google.com/notebooks/data_table.ipynb>data table notebook</a>'\n",
              "            + ' to learn more about interactive tables.';\n",
              "          element.innerHTML = '';\n",
              "          dataTable['output_type'] = 'display_data';\n",
              "          await google.colab.output.renderOutput(dataTable, element);\n",
              "          const docLink = document.createElement('div');\n",
              "          docLink.innerHTML = docLinkHtml;\n",
              "          element.appendChild(docLink);\n",
              "        }\n",
              "      </script>\n",
              "    </div>\n",
              "  </div>\n",
              "  "
            ]
          },
          "metadata": {},
          "execution_count": 67
        }
      ],
      "source": [
        "df['family_status_categ'] = df['family_status_id'].apply(family_status_categ) # применение функции и сохранение\n",
        "                                                                              # результата в столбец 'family_status_categ'\n",
        "df.tail() # вывод последних строк таблицы"
      ]
    },
    {
      "cell_type": "code",
      "execution_count": 68,
      "id": "df6f0e54",
      "metadata": {
        "colab": {
          "base_uri": "https://localhost:8080/"
        },
        "id": "df6f0e54",
        "outputId": "422cf9ba-a3ae-4f26-faa3-cd0f73e531ef"
      },
      "outputs": [
        {
          "output_type": "execute_result",
          "data": {
            "text/plain": [
              "состоит в браке       12339\n",
              "не состоит в браке     9114\n",
              "Name: family_status_categ, dtype: int64"
            ]
          },
          "metadata": {},
          "execution_count": 68
        }
      ],
      "source": [
        "df['family_status_categ'].value_counts() # просмотр уникальных значений столбца 'family_status_categ'"
      ]
    },
    {
      "cell_type": "markdown",
      "id": "d9e9a3b2",
      "metadata": {
        "id": "d9e9a3b2"
      },
      "source": [
        "### Ответы на вопросы. <a id='answers'></a>"
      ]
    },
    {
      "cell_type": "markdown",
      "id": "d4d556a9",
      "metadata": {
        "id": "d4d556a9"
      },
      "source": [
        "##### Вопрос 1: <a id='question_1'></a>"
      ]
    },
    {
      "cell_type": "markdown",
      "id": "0dde6174",
      "metadata": {
        "id": "0dde6174"
      },
      "source": [
        "**Есть ли зависимость между количеством детей и возвратом кредита в срок?**"
      ]
    },
    {
      "cell_type": "markdown",
      "id": "9bf53942",
      "metadata": {
        "id": "9bf53942"
      },
      "source": [
        "Для ответа на этот вопрос построим сводную таблицу методом `pivot_table()`.\n",
        "В таблице данные будут сгруппированы по количеству детей, для каждой группы подсчитаем количество случаев просрочки и своевременного закрытия кредита."
      ]
    },
    {
      "cell_type": "markdown",
      "id": "d682366d",
      "metadata": {
        "id": "d682366d"
      },
      "source": [
        "В новом столбце `'ratio'` рассчитаем какой процент от общего числа кредитов занимают просроченные кредиты. "
      ]
    },
    {
      "cell_type": "code",
      "execution_count": 69,
      "id": "c1b5d8ed",
      "metadata": {
        "colab": {
          "base_uri": "https://localhost:8080/",
          "height": 269
        },
        "id": "c1b5d8ed",
        "outputId": "cf3e7a25-bdec-490f-9e25-49460cfd56f5"
      },
      "outputs": [
        {
          "output_type": "execute_result",
          "data": {
            "text/plain": [
              "debt            0       1     ratio\n",
              "children                           \n",
              "5             9.0     0.0  0.000000\n",
              "0         13027.0  1063.0  7.544358\n",
              "3           303.0    27.0  8.181818\n",
              "1          4410.0   445.0  9.165808\n",
              "2          1926.0   202.0  9.492481\n",
              "4            37.0     4.0  9.756098"
            ],
            "text/html": [
              "\n",
              "  <div id=\"df-2e4d8ca8-462a-48fe-89b8-0cd3bff7775d\">\n",
              "    <div class=\"colab-df-container\">\n",
              "      <div>\n",
              "<style scoped>\n",
              "    .dataframe tbody tr th:only-of-type {\n",
              "        vertical-align: middle;\n",
              "    }\n",
              "\n",
              "    .dataframe tbody tr th {\n",
              "        vertical-align: top;\n",
              "    }\n",
              "\n",
              "    .dataframe thead th {\n",
              "        text-align: right;\n",
              "    }\n",
              "</style>\n",
              "<table border=\"1\" class=\"dataframe\">\n",
              "  <thead>\n",
              "    <tr style=\"text-align: right;\">\n",
              "      <th>debt</th>\n",
              "      <th>0</th>\n",
              "      <th>1</th>\n",
              "      <th>ratio</th>\n",
              "    </tr>\n",
              "    <tr>\n",
              "      <th>children</th>\n",
              "      <th></th>\n",
              "      <th></th>\n",
              "      <th></th>\n",
              "    </tr>\n",
              "  </thead>\n",
              "  <tbody>\n",
              "    <tr>\n",
              "      <th>5</th>\n",
              "      <td>9.0</td>\n",
              "      <td>0.0</td>\n",
              "      <td>0.000000</td>\n",
              "    </tr>\n",
              "    <tr>\n",
              "      <th>0</th>\n",
              "      <td>13027.0</td>\n",
              "      <td>1063.0</td>\n",
              "      <td>7.544358</td>\n",
              "    </tr>\n",
              "    <tr>\n",
              "      <th>3</th>\n",
              "      <td>303.0</td>\n",
              "      <td>27.0</td>\n",
              "      <td>8.181818</td>\n",
              "    </tr>\n",
              "    <tr>\n",
              "      <th>1</th>\n",
              "      <td>4410.0</td>\n",
              "      <td>445.0</td>\n",
              "      <td>9.165808</td>\n",
              "    </tr>\n",
              "    <tr>\n",
              "      <th>2</th>\n",
              "      <td>1926.0</td>\n",
              "      <td>202.0</td>\n",
              "      <td>9.492481</td>\n",
              "    </tr>\n",
              "    <tr>\n",
              "      <th>4</th>\n",
              "      <td>37.0</td>\n",
              "      <td>4.0</td>\n",
              "      <td>9.756098</td>\n",
              "    </tr>\n",
              "  </tbody>\n",
              "</table>\n",
              "</div>\n",
              "      <button class=\"colab-df-convert\" onclick=\"convertToInteractive('df-2e4d8ca8-462a-48fe-89b8-0cd3bff7775d')\"\n",
              "              title=\"Convert this dataframe to an interactive table.\"\n",
              "              style=\"display:none;\">\n",
              "        \n",
              "  <svg xmlns=\"http://www.w3.org/2000/svg\" height=\"24px\"viewBox=\"0 0 24 24\"\n",
              "       width=\"24px\">\n",
              "    <path d=\"M0 0h24v24H0V0z\" fill=\"none\"/>\n",
              "    <path d=\"M18.56 5.44l.94 2.06.94-2.06 2.06-.94-2.06-.94-.94-2.06-.94 2.06-2.06.94zm-11 1L8.5 8.5l.94-2.06 2.06-.94-2.06-.94L8.5 2.5l-.94 2.06-2.06.94zm10 10l.94 2.06.94-2.06 2.06-.94-2.06-.94-.94-2.06-.94 2.06-2.06.94z\"/><path d=\"M17.41 7.96l-1.37-1.37c-.4-.4-.92-.59-1.43-.59-.52 0-1.04.2-1.43.59L10.3 9.45l-7.72 7.72c-.78.78-.78 2.05 0 2.83L4 21.41c.39.39.9.59 1.41.59.51 0 1.02-.2 1.41-.59l7.78-7.78 2.81-2.81c.8-.78.8-2.07 0-2.86zM5.41 20L4 18.59l7.72-7.72 1.47 1.35L5.41 20z\"/>\n",
              "  </svg>\n",
              "      </button>\n",
              "      \n",
              "  <style>\n",
              "    .colab-df-container {\n",
              "      display:flex;\n",
              "      flex-wrap:wrap;\n",
              "      gap: 12px;\n",
              "    }\n",
              "\n",
              "    .colab-df-convert {\n",
              "      background-color: #E8F0FE;\n",
              "      border: none;\n",
              "      border-radius: 50%;\n",
              "      cursor: pointer;\n",
              "      display: none;\n",
              "      fill: #1967D2;\n",
              "      height: 32px;\n",
              "      padding: 0 0 0 0;\n",
              "      width: 32px;\n",
              "    }\n",
              "\n",
              "    .colab-df-convert:hover {\n",
              "      background-color: #E2EBFA;\n",
              "      box-shadow: 0px 1px 2px rgba(60, 64, 67, 0.3), 0px 1px 3px 1px rgba(60, 64, 67, 0.15);\n",
              "      fill: #174EA6;\n",
              "    }\n",
              "\n",
              "    [theme=dark] .colab-df-convert {\n",
              "      background-color: #3B4455;\n",
              "      fill: #D2E3FC;\n",
              "    }\n",
              "\n",
              "    [theme=dark] .colab-df-convert:hover {\n",
              "      background-color: #434B5C;\n",
              "      box-shadow: 0px 1px 3px 1px rgba(0, 0, 0, 0.15);\n",
              "      filter: drop-shadow(0px 1px 2px rgba(0, 0, 0, 0.3));\n",
              "      fill: #FFFFFF;\n",
              "    }\n",
              "  </style>\n",
              "\n",
              "      <script>\n",
              "        const buttonEl =\n",
              "          document.querySelector('#df-2e4d8ca8-462a-48fe-89b8-0cd3bff7775d button.colab-df-convert');\n",
              "        buttonEl.style.display =\n",
              "          google.colab.kernel.accessAllowed ? 'block' : 'none';\n",
              "\n",
              "        async function convertToInteractive(key) {\n",
              "          const element = document.querySelector('#df-2e4d8ca8-462a-48fe-89b8-0cd3bff7775d');\n",
              "          const dataTable =\n",
              "            await google.colab.kernel.invokeFunction('convertToInteractive',\n",
              "                                                     [key], {});\n",
              "          if (!dataTable) return;\n",
              "\n",
              "          const docLinkHtml = 'Like what you see? Visit the ' +\n",
              "            '<a target=\"_blank\" href=https://colab.research.google.com/notebooks/data_table.ipynb>data table notebook</a>'\n",
              "            + ' to learn more about interactive tables.';\n",
              "          element.innerHTML = '';\n",
              "          dataTable['output_type'] = 'display_data';\n",
              "          await google.colab.output.renderOutput(dataTable, element);\n",
              "          const docLink = document.createElement('div');\n",
              "          docLink.innerHTML = docLinkHtml;\n",
              "          element.appendChild(docLink);\n",
              "        }\n",
              "      </script>\n",
              "    </div>\n",
              "  </div>\n",
              "  "
            ]
          },
          "metadata": {},
          "execution_count": 69
        }
      ],
      "source": [
        "data_pivot_ch = df.pivot_table(index='children', columns='debt', values='income_type', aggfunc='count') # создание сводной таблицы\n",
        "\n",
        "data_pivot_ch['ratio'] = data_pivot_ch[1] / (data_pivot_ch[1] + data_pivot_ch[0]) * 100 # добавление нового столбца 'ratio'\n",
        "\n",
        "data_pivot_ch = data_pivot_ch.fillna(0) # избавление от пропусков\n",
        "data_pivot_ch.sort_values(by='ratio') #вывод на экран сводной таблицы отсортированной по столбцу 'ratio' в порядке возрастания"
      ]
    },
    {
      "cell_type": "markdown",
      "id": "2b668f6c",
      "metadata": {
        "id": "2b668f6c"
      },
      "source": [
        " Исследование показало, что среди заемщиков, имеющих по 5 детей нет просрочек по кредитам. Однако, это самая малочисленная группа - всего 9 человек. У клиентов, не имеющих детей, процент просрочки - 7,54%. Это на 2,22% меньше, чем у группы с самым высоким процентом просрочки (4 ребенка в семье). "
      ]
    },
    {
      "cell_type": "markdown",
      "id": "5ba2fdf9",
      "metadata": {
        "id": "5ba2fdf9"
      },
      "source": [
        "В [шаге 2.8](#step_2.8) мы разделили заемщиков на новые три категории, в зависимости от количества детей, теперь проследим зависимость на укрупненных данных."
      ]
    },
    {
      "cell_type": "markdown",
      "id": "4ba40052",
      "metadata": {
        "id": "4ba40052"
      },
      "source": [
        "Сгруппируем таблицу `df` по столбцу `'children_category'`, после чего посчитаем среднее арифметическое столбца `'debt'`."
      ]
    },
    {
      "cell_type": "code",
      "execution_count": 70,
      "id": "6fd5e912",
      "metadata": {
        "colab": {
          "base_uri": "https://localhost:8080/"
        },
        "id": "6fd5e912",
        "outputId": "9563801a-66ac-40eb-806e-ddf60c7ae35d"
      },
      "outputs": [
        {
          "output_type": "execute_result",
          "data": {
            "text/plain": [
              "children_category\n",
              "без детей      0.075444\n",
              "многодетные    0.081579\n",
              "с детьми       0.092654\n",
              "Name: debt, dtype: float64"
            ]
          },
          "metadata": {},
          "execution_count": 70
        }
      ],
      "source": [
        "df.groupby(['children_category'])['debt'].mean() # группировка в зависимости от количества детей и подсчет \n",
        "                                                 # средего арифметического по столбцу  'debt'"
      ]
    },
    {
      "cell_type": "markdown",
      "id": "8c77b538",
      "metadata": {
        "id": "8c77b538"
      },
      "source": [
        "Исследование показало, что клиенты не имеющие детей, а также многодетные клиенты, просрочки по кредитам допускают реже. "
      ]
    },
    {
      "cell_type": "code",
      "execution_count": 71,
      "id": "d618d6b5",
      "metadata": {
        "colab": {
          "base_uri": "https://localhost:8080/",
          "height": 175
        },
        "id": "d618d6b5",
        "outputId": "f2aa0705-3747-4c01-e1fe-26337b58f332"
      },
      "outputs": [
        {
          "output_type": "execute_result",
          "data": {
            "text/plain": [
              "debt                   0     1     ratio\n",
              "children_category                       \n",
              "без детей          13027  1063  7.544358\n",
              "многодетные          349    31  8.157895\n",
              "с детьми            6336   647  9.265359"
            ],
            "text/html": [
              "\n",
              "  <div id=\"df-a5307f23-2f3b-402b-b0b4-dbf06ae8a9de\">\n",
              "    <div class=\"colab-df-container\">\n",
              "      <div>\n",
              "<style scoped>\n",
              "    .dataframe tbody tr th:only-of-type {\n",
              "        vertical-align: middle;\n",
              "    }\n",
              "\n",
              "    .dataframe tbody tr th {\n",
              "        vertical-align: top;\n",
              "    }\n",
              "\n",
              "    .dataframe thead th {\n",
              "        text-align: right;\n",
              "    }\n",
              "</style>\n",
              "<table border=\"1\" class=\"dataframe\">\n",
              "  <thead>\n",
              "    <tr style=\"text-align: right;\">\n",
              "      <th>debt</th>\n",
              "      <th>0</th>\n",
              "      <th>1</th>\n",
              "      <th>ratio</th>\n",
              "    </tr>\n",
              "    <tr>\n",
              "      <th>children_category</th>\n",
              "      <th></th>\n",
              "      <th></th>\n",
              "      <th></th>\n",
              "    </tr>\n",
              "  </thead>\n",
              "  <tbody>\n",
              "    <tr>\n",
              "      <th>без детей</th>\n",
              "      <td>13027</td>\n",
              "      <td>1063</td>\n",
              "      <td>7.544358</td>\n",
              "    </tr>\n",
              "    <tr>\n",
              "      <th>многодетные</th>\n",
              "      <td>349</td>\n",
              "      <td>31</td>\n",
              "      <td>8.157895</td>\n",
              "    </tr>\n",
              "    <tr>\n",
              "      <th>с детьми</th>\n",
              "      <td>6336</td>\n",
              "      <td>647</td>\n",
              "      <td>9.265359</td>\n",
              "    </tr>\n",
              "  </tbody>\n",
              "</table>\n",
              "</div>\n",
              "      <button class=\"colab-df-convert\" onclick=\"convertToInteractive('df-a5307f23-2f3b-402b-b0b4-dbf06ae8a9de')\"\n",
              "              title=\"Convert this dataframe to an interactive table.\"\n",
              "              style=\"display:none;\">\n",
              "        \n",
              "  <svg xmlns=\"http://www.w3.org/2000/svg\" height=\"24px\"viewBox=\"0 0 24 24\"\n",
              "       width=\"24px\">\n",
              "    <path d=\"M0 0h24v24H0V0z\" fill=\"none\"/>\n",
              "    <path d=\"M18.56 5.44l.94 2.06.94-2.06 2.06-.94-2.06-.94-.94-2.06-.94 2.06-2.06.94zm-11 1L8.5 8.5l.94-2.06 2.06-.94-2.06-.94L8.5 2.5l-.94 2.06-2.06.94zm10 10l.94 2.06.94-2.06 2.06-.94-2.06-.94-.94-2.06-.94 2.06-2.06.94z\"/><path d=\"M17.41 7.96l-1.37-1.37c-.4-.4-.92-.59-1.43-.59-.52 0-1.04.2-1.43.59L10.3 9.45l-7.72 7.72c-.78.78-.78 2.05 0 2.83L4 21.41c.39.39.9.59 1.41.59.51 0 1.02-.2 1.41-.59l7.78-7.78 2.81-2.81c.8-.78.8-2.07 0-2.86zM5.41 20L4 18.59l7.72-7.72 1.47 1.35L5.41 20z\"/>\n",
              "  </svg>\n",
              "      </button>\n",
              "      \n",
              "  <style>\n",
              "    .colab-df-container {\n",
              "      display:flex;\n",
              "      flex-wrap:wrap;\n",
              "      gap: 12px;\n",
              "    }\n",
              "\n",
              "    .colab-df-convert {\n",
              "      background-color: #E8F0FE;\n",
              "      border: none;\n",
              "      border-radius: 50%;\n",
              "      cursor: pointer;\n",
              "      display: none;\n",
              "      fill: #1967D2;\n",
              "      height: 32px;\n",
              "      padding: 0 0 0 0;\n",
              "      width: 32px;\n",
              "    }\n",
              "\n",
              "    .colab-df-convert:hover {\n",
              "      background-color: #E2EBFA;\n",
              "      box-shadow: 0px 1px 2px rgba(60, 64, 67, 0.3), 0px 1px 3px 1px rgba(60, 64, 67, 0.15);\n",
              "      fill: #174EA6;\n",
              "    }\n",
              "\n",
              "    [theme=dark] .colab-df-convert {\n",
              "      background-color: #3B4455;\n",
              "      fill: #D2E3FC;\n",
              "    }\n",
              "\n",
              "    [theme=dark] .colab-df-convert:hover {\n",
              "      background-color: #434B5C;\n",
              "      box-shadow: 0px 1px 3px 1px rgba(0, 0, 0, 0.15);\n",
              "      filter: drop-shadow(0px 1px 2px rgba(0, 0, 0, 0.3));\n",
              "      fill: #FFFFFF;\n",
              "    }\n",
              "  </style>\n",
              "\n",
              "      <script>\n",
              "        const buttonEl =\n",
              "          document.querySelector('#df-a5307f23-2f3b-402b-b0b4-dbf06ae8a9de button.colab-df-convert');\n",
              "        buttonEl.style.display =\n",
              "          google.colab.kernel.accessAllowed ? 'block' : 'none';\n",
              "\n",
              "        async function convertToInteractive(key) {\n",
              "          const element = document.querySelector('#df-a5307f23-2f3b-402b-b0b4-dbf06ae8a9de');\n",
              "          const dataTable =\n",
              "            await google.colab.kernel.invokeFunction('convertToInteractive',\n",
              "                                                     [key], {});\n",
              "          if (!dataTable) return;\n",
              "\n",
              "          const docLinkHtml = 'Like what you see? Visit the ' +\n",
              "            '<a target=\"_blank\" href=https://colab.research.google.com/notebooks/data_table.ipynb>data table notebook</a>'\n",
              "            + ' to learn more about interactive tables.';\n",
              "          element.innerHTML = '';\n",
              "          dataTable['output_type'] = 'display_data';\n",
              "          await google.colab.output.renderOutput(dataTable, element);\n",
              "          const docLink = document.createElement('div');\n",
              "          docLink.innerHTML = docLinkHtml;\n",
              "          element.appendChild(docLink);\n",
              "        }\n",
              "      </script>\n",
              "    </div>\n",
              "  </div>\n",
              "  "
            ]
          },
          "metadata": {},
          "execution_count": 71
        }
      ],
      "source": [
        "# создание сводной таблицы\n",
        "data_pivot_ch = df.pivot_table(index='children_category', columns='debt', values='income_type', aggfunc='count')\n",
        "\n",
        "data_pivot_ch['ratio'] = data_pivot_ch[1] / (data_pivot_ch[1] + data_pivot_ch[0]) * 100 # добавление нового столбца 'ratio'\n",
        "\n",
        "data_pivot_ch.sort_values(by='ratio') #вывод на экран сводной таблицы отсортированной по столбцу 'ratio' в порядке возрастания"
      ]
    },
    {
      "cell_type": "markdown",
      "id": "2ec2f149",
      "metadata": {
        "id": "2ec2f149"
      },
      "source": [
        "##### Вывод 1:   <a id='conclusion_1'></a>"
      ]
    },
    {
      "cell_type": "markdown",
      "id": "262d9ecf",
      "metadata": {
        "id": "262d9ecf"
      },
      "source": [
        "Количество детей влияет на возврат кредита в срок. Клиенты не имеющие детей на `0,62%` реже допускают просрочки по кредитам чем многодетные клиенты, а также на `1,73 %` реже, чем клиенты имеющие 1-2 ребенка. Среди клиентов, имеющих по 5 детей нет случаев просрочки кредита."
      ]
    },
    {
      "cell_type": "markdown",
      "id": "8a16e6bb",
      "metadata": {
        "id": "8a16e6bb"
      },
      "source": [
        "##### Вопрос 2:  <a id='question_2'></a>"
      ]
    },
    {
      "cell_type": "markdown",
      "id": "d39edabb",
      "metadata": {
        "id": "d39edabb"
      },
      "source": [
        "**Есть ли зависимость между семейным положением и возвратом кредита в срок?**"
      ]
    },
    {
      "cell_type": "markdown",
      "id": "42d124bf",
      "metadata": {
        "id": "42d124bf"
      },
      "source": [
        "Создадим сводную таблицу `'family_st'` методом `pivot_table`. Сгруппируем данные по столбцу `'family_status_id'` и рассчитаем количество случаев просрочки и своевременного закрытия кредита методом `'count'`."
      ]
    },
    {
      "cell_type": "code",
      "execution_count": 72,
      "id": "5316254b",
      "metadata": {
        "colab": {
          "base_uri": "https://localhost:8080/",
          "height": 238
        },
        "id": "5316254b",
        "outputId": "f3c9abc9-bc30-425a-e636-9696ac30a786"
      },
      "outputs": [
        {
          "output_type": "execute_result",
          "data": {
            "text/plain": [
              "debt                  0    1\n",
              "family_status_id            \n",
              "0                 11408  931\n",
              "1                  3762  388\n",
              "2                   896   63\n",
              "3                  1110   85\n",
              "4                  2536  274"
            ],
            "text/html": [
              "\n",
              "  <div id=\"df-aafa598c-97ad-4abb-9c1d-b0029971a86d\">\n",
              "    <div class=\"colab-df-container\">\n",
              "      <div>\n",
              "<style scoped>\n",
              "    .dataframe tbody tr th:only-of-type {\n",
              "        vertical-align: middle;\n",
              "    }\n",
              "\n",
              "    .dataframe tbody tr th {\n",
              "        vertical-align: top;\n",
              "    }\n",
              "\n",
              "    .dataframe thead th {\n",
              "        text-align: right;\n",
              "    }\n",
              "</style>\n",
              "<table border=\"1\" class=\"dataframe\">\n",
              "  <thead>\n",
              "    <tr style=\"text-align: right;\">\n",
              "      <th>debt</th>\n",
              "      <th>0</th>\n",
              "      <th>1</th>\n",
              "    </tr>\n",
              "    <tr>\n",
              "      <th>family_status_id</th>\n",
              "      <th></th>\n",
              "      <th></th>\n",
              "    </tr>\n",
              "  </thead>\n",
              "  <tbody>\n",
              "    <tr>\n",
              "      <th>0</th>\n",
              "      <td>11408</td>\n",
              "      <td>931</td>\n",
              "    </tr>\n",
              "    <tr>\n",
              "      <th>1</th>\n",
              "      <td>3762</td>\n",
              "      <td>388</td>\n",
              "    </tr>\n",
              "    <tr>\n",
              "      <th>2</th>\n",
              "      <td>896</td>\n",
              "      <td>63</td>\n",
              "    </tr>\n",
              "    <tr>\n",
              "      <th>3</th>\n",
              "      <td>1110</td>\n",
              "      <td>85</td>\n",
              "    </tr>\n",
              "    <tr>\n",
              "      <th>4</th>\n",
              "      <td>2536</td>\n",
              "      <td>274</td>\n",
              "    </tr>\n",
              "  </tbody>\n",
              "</table>\n",
              "</div>\n",
              "      <button class=\"colab-df-convert\" onclick=\"convertToInteractive('df-aafa598c-97ad-4abb-9c1d-b0029971a86d')\"\n",
              "              title=\"Convert this dataframe to an interactive table.\"\n",
              "              style=\"display:none;\">\n",
              "        \n",
              "  <svg xmlns=\"http://www.w3.org/2000/svg\" height=\"24px\"viewBox=\"0 0 24 24\"\n",
              "       width=\"24px\">\n",
              "    <path d=\"M0 0h24v24H0V0z\" fill=\"none\"/>\n",
              "    <path d=\"M18.56 5.44l.94 2.06.94-2.06 2.06-.94-2.06-.94-.94-2.06-.94 2.06-2.06.94zm-11 1L8.5 8.5l.94-2.06 2.06-.94-2.06-.94L8.5 2.5l-.94 2.06-2.06.94zm10 10l.94 2.06.94-2.06 2.06-.94-2.06-.94-.94-2.06-.94 2.06-2.06.94z\"/><path d=\"M17.41 7.96l-1.37-1.37c-.4-.4-.92-.59-1.43-.59-.52 0-1.04.2-1.43.59L10.3 9.45l-7.72 7.72c-.78.78-.78 2.05 0 2.83L4 21.41c.39.39.9.59 1.41.59.51 0 1.02-.2 1.41-.59l7.78-7.78 2.81-2.81c.8-.78.8-2.07 0-2.86zM5.41 20L4 18.59l7.72-7.72 1.47 1.35L5.41 20z\"/>\n",
              "  </svg>\n",
              "      </button>\n",
              "      \n",
              "  <style>\n",
              "    .colab-df-container {\n",
              "      display:flex;\n",
              "      flex-wrap:wrap;\n",
              "      gap: 12px;\n",
              "    }\n",
              "\n",
              "    .colab-df-convert {\n",
              "      background-color: #E8F0FE;\n",
              "      border: none;\n",
              "      border-radius: 50%;\n",
              "      cursor: pointer;\n",
              "      display: none;\n",
              "      fill: #1967D2;\n",
              "      height: 32px;\n",
              "      padding: 0 0 0 0;\n",
              "      width: 32px;\n",
              "    }\n",
              "\n",
              "    .colab-df-convert:hover {\n",
              "      background-color: #E2EBFA;\n",
              "      box-shadow: 0px 1px 2px rgba(60, 64, 67, 0.3), 0px 1px 3px 1px rgba(60, 64, 67, 0.15);\n",
              "      fill: #174EA6;\n",
              "    }\n",
              "\n",
              "    [theme=dark] .colab-df-convert {\n",
              "      background-color: #3B4455;\n",
              "      fill: #D2E3FC;\n",
              "    }\n",
              "\n",
              "    [theme=dark] .colab-df-convert:hover {\n",
              "      background-color: #434B5C;\n",
              "      box-shadow: 0px 1px 3px 1px rgba(0, 0, 0, 0.15);\n",
              "      filter: drop-shadow(0px 1px 2px rgba(0, 0, 0, 0.3));\n",
              "      fill: #FFFFFF;\n",
              "    }\n",
              "  </style>\n",
              "\n",
              "      <script>\n",
              "        const buttonEl =\n",
              "          document.querySelector('#df-aafa598c-97ad-4abb-9c1d-b0029971a86d button.colab-df-convert');\n",
              "        buttonEl.style.display =\n",
              "          google.colab.kernel.accessAllowed ? 'block' : 'none';\n",
              "\n",
              "        async function convertToInteractive(key) {\n",
              "          const element = document.querySelector('#df-aafa598c-97ad-4abb-9c1d-b0029971a86d');\n",
              "          const dataTable =\n",
              "            await google.colab.kernel.invokeFunction('convertToInteractive',\n",
              "                                                     [key], {});\n",
              "          if (!dataTable) return;\n",
              "\n",
              "          const docLinkHtml = 'Like what you see? Visit the ' +\n",
              "            '<a target=\"_blank\" href=https://colab.research.google.com/notebooks/data_table.ipynb>data table notebook</a>'\n",
              "            + ' to learn more about interactive tables.';\n",
              "          element.innerHTML = '';\n",
              "          dataTable['output_type'] = 'display_data';\n",
              "          await google.colab.output.renderOutput(dataTable, element);\n",
              "          const docLink = document.createElement('div');\n",
              "          docLink.innerHTML = docLinkHtml;\n",
              "          element.appendChild(docLink);\n",
              "        }\n",
              "      </script>\n",
              "    </div>\n",
              "  </div>\n",
              "  "
            ]
          },
          "metadata": {},
          "execution_count": 72
        }
      ],
      "source": [
        "# создание сводной таблицы по столбцу 'family_status_id'\n",
        "data_pivot_family_st = df.pivot_table(index='family_status_id', columns='debt', values='income_type', aggfunc='count')\n",
        "data_pivot_family_st"
      ]
    },
    {
      "cell_type": "markdown",
      "id": "2ec27ef1",
      "metadata": {
        "id": "2ec27ef1"
      },
      "source": [
        "Добавам столбец `'ratio'` и рассчитаем процент просрочки по кредитам для каждой группы `'family_status_id'`. Методом `merge()` добавим столбец `family_status` из словаря `family_status_dict`. После чего выведем таблицу на экран и отсортируем по столбцу `'ratio'` в порядке возрастания."
      ]
    },
    {
      "cell_type": "code",
      "execution_count": 73,
      "id": "25d206bb",
      "metadata": {
        "colab": {
          "base_uri": "https://localhost:8080/",
          "height": 206
        },
        "id": "25d206bb",
        "outputId": "a1c7fabf-4ec5-4a7a-a3cc-897906fd39aa"
      },
      "outputs": [
        {
          "output_type": "execute_result",
          "data": {
            "text/plain": [
              "   family_status_id      0    1     ratio          family_status\n",
              "2                 2    896   63  6.569343         вдовец / вдова\n",
              "3                 3   1110   85  7.112971              в разводе\n",
              "0                 0  11408  931  7.545182        женат / замужем\n",
              "1                 1   3762  388  9.349398       гражданский брак\n",
              "4                 4   2536  274  9.750890  Не женат / не замужем"
            ],
            "text/html": [
              "\n",
              "  <div id=\"df-b9935aa0-b5da-41b3-84dd-10fef308a8ff\">\n",
              "    <div class=\"colab-df-container\">\n",
              "      <div>\n",
              "<style scoped>\n",
              "    .dataframe tbody tr th:only-of-type {\n",
              "        vertical-align: middle;\n",
              "    }\n",
              "\n",
              "    .dataframe tbody tr th {\n",
              "        vertical-align: top;\n",
              "    }\n",
              "\n",
              "    .dataframe thead th {\n",
              "        text-align: right;\n",
              "    }\n",
              "</style>\n",
              "<table border=\"1\" class=\"dataframe\">\n",
              "  <thead>\n",
              "    <tr style=\"text-align: right;\">\n",
              "      <th></th>\n",
              "      <th>family_status_id</th>\n",
              "      <th>0</th>\n",
              "      <th>1</th>\n",
              "      <th>ratio</th>\n",
              "      <th>family_status</th>\n",
              "    </tr>\n",
              "  </thead>\n",
              "  <tbody>\n",
              "    <tr>\n",
              "      <th>2</th>\n",
              "      <td>2</td>\n",
              "      <td>896</td>\n",
              "      <td>63</td>\n",
              "      <td>6.569343</td>\n",
              "      <td>вдовец / вдова</td>\n",
              "    </tr>\n",
              "    <tr>\n",
              "      <th>3</th>\n",
              "      <td>3</td>\n",
              "      <td>1110</td>\n",
              "      <td>85</td>\n",
              "      <td>7.112971</td>\n",
              "      <td>в разводе</td>\n",
              "    </tr>\n",
              "    <tr>\n",
              "      <th>0</th>\n",
              "      <td>0</td>\n",
              "      <td>11408</td>\n",
              "      <td>931</td>\n",
              "      <td>7.545182</td>\n",
              "      <td>женат / замужем</td>\n",
              "    </tr>\n",
              "    <tr>\n",
              "      <th>1</th>\n",
              "      <td>1</td>\n",
              "      <td>3762</td>\n",
              "      <td>388</td>\n",
              "      <td>9.349398</td>\n",
              "      <td>гражданский брак</td>\n",
              "    </tr>\n",
              "    <tr>\n",
              "      <th>4</th>\n",
              "      <td>4</td>\n",
              "      <td>2536</td>\n",
              "      <td>274</td>\n",
              "      <td>9.750890</td>\n",
              "      <td>Не женат / не замужем</td>\n",
              "    </tr>\n",
              "  </tbody>\n",
              "</table>\n",
              "</div>\n",
              "      <button class=\"colab-df-convert\" onclick=\"convertToInteractive('df-b9935aa0-b5da-41b3-84dd-10fef308a8ff')\"\n",
              "              title=\"Convert this dataframe to an interactive table.\"\n",
              "              style=\"display:none;\">\n",
              "        \n",
              "  <svg xmlns=\"http://www.w3.org/2000/svg\" height=\"24px\"viewBox=\"0 0 24 24\"\n",
              "       width=\"24px\">\n",
              "    <path d=\"M0 0h24v24H0V0z\" fill=\"none\"/>\n",
              "    <path d=\"M18.56 5.44l.94 2.06.94-2.06 2.06-.94-2.06-.94-.94-2.06-.94 2.06-2.06.94zm-11 1L8.5 8.5l.94-2.06 2.06-.94-2.06-.94L8.5 2.5l-.94 2.06-2.06.94zm10 10l.94 2.06.94-2.06 2.06-.94-2.06-.94-.94-2.06-.94 2.06-2.06.94z\"/><path d=\"M17.41 7.96l-1.37-1.37c-.4-.4-.92-.59-1.43-.59-.52 0-1.04.2-1.43.59L10.3 9.45l-7.72 7.72c-.78.78-.78 2.05 0 2.83L4 21.41c.39.39.9.59 1.41.59.51 0 1.02-.2 1.41-.59l7.78-7.78 2.81-2.81c.8-.78.8-2.07 0-2.86zM5.41 20L4 18.59l7.72-7.72 1.47 1.35L5.41 20z\"/>\n",
              "  </svg>\n",
              "      </button>\n",
              "      \n",
              "  <style>\n",
              "    .colab-df-container {\n",
              "      display:flex;\n",
              "      flex-wrap:wrap;\n",
              "      gap: 12px;\n",
              "    }\n",
              "\n",
              "    .colab-df-convert {\n",
              "      background-color: #E8F0FE;\n",
              "      border: none;\n",
              "      border-radius: 50%;\n",
              "      cursor: pointer;\n",
              "      display: none;\n",
              "      fill: #1967D2;\n",
              "      height: 32px;\n",
              "      padding: 0 0 0 0;\n",
              "      width: 32px;\n",
              "    }\n",
              "\n",
              "    .colab-df-convert:hover {\n",
              "      background-color: #E2EBFA;\n",
              "      box-shadow: 0px 1px 2px rgba(60, 64, 67, 0.3), 0px 1px 3px 1px rgba(60, 64, 67, 0.15);\n",
              "      fill: #174EA6;\n",
              "    }\n",
              "\n",
              "    [theme=dark] .colab-df-convert {\n",
              "      background-color: #3B4455;\n",
              "      fill: #D2E3FC;\n",
              "    }\n",
              "\n",
              "    [theme=dark] .colab-df-convert:hover {\n",
              "      background-color: #434B5C;\n",
              "      box-shadow: 0px 1px 3px 1px rgba(0, 0, 0, 0.15);\n",
              "      filter: drop-shadow(0px 1px 2px rgba(0, 0, 0, 0.3));\n",
              "      fill: #FFFFFF;\n",
              "    }\n",
              "  </style>\n",
              "\n",
              "      <script>\n",
              "        const buttonEl =\n",
              "          document.querySelector('#df-b9935aa0-b5da-41b3-84dd-10fef308a8ff button.colab-df-convert');\n",
              "        buttonEl.style.display =\n",
              "          google.colab.kernel.accessAllowed ? 'block' : 'none';\n",
              "\n",
              "        async function convertToInteractive(key) {\n",
              "          const element = document.querySelector('#df-b9935aa0-b5da-41b3-84dd-10fef308a8ff');\n",
              "          const dataTable =\n",
              "            await google.colab.kernel.invokeFunction('convertToInteractive',\n",
              "                                                     [key], {});\n",
              "          if (!dataTable) return;\n",
              "\n",
              "          const docLinkHtml = 'Like what you see? Visit the ' +\n",
              "            '<a target=\"_blank\" href=https://colab.research.google.com/notebooks/data_table.ipynb>data table notebook</a>'\n",
              "            + ' to learn more about interactive tables.';\n",
              "          element.innerHTML = '';\n",
              "          dataTable['output_type'] = 'display_data';\n",
              "          await google.colab.output.renderOutput(dataTable, element);\n",
              "          const docLink = document.createElement('div');\n",
              "          docLink.innerHTML = docLinkHtml;\n",
              "          element.appendChild(docLink);\n",
              "        }\n",
              "      </script>\n",
              "    </div>\n",
              "  </div>\n",
              "  "
            ]
          },
          "metadata": {},
          "execution_count": 73
        }
      ],
      "source": [
        "# добавление нового столбца 'ratio'\n",
        "data_pivot_family_st['ratio'] = data_pivot_family_st[1] / (data_pivot_family_st[1] + data_pivot_family_st[0]) * 100\n",
        "\n",
        "# добавление столбца 'family_status' из таблицы family_status_dict методом merge()\n",
        "data_pivot_family_st = data_pivot_family_st.merge(family_status_dict, on='family_status_id', how='right')\n",
        "\n",
        "data_pivot_family_st.sort_values(by='ratio') #вывод таблицы на экран и сортировка по столбцу 'ratio'\n"
      ]
    },
    {
      "cell_type": "markdown",
      "id": "568d00a2",
      "metadata": {
        "id": "568d00a2"
      },
      "source": [
        "Меньше всего просрочек по кредиту допускают клиенты из категорий `'вдовы/вдовцы'` и клиенты '`в разводе'`, доля просроченных кредитов в этих категориях составляет `6,57%` и `7.11%` соответственно.\n",
        "На `3,18%` просрочка больше у заемщиков из группы не `'женат/не замужем'`, и составляет `9.75%`."
      ]
    },
    {
      "cell_type": "markdown",
      "id": "9dbe01a5",
      "metadata": {
        "id": "9dbe01a5"
      },
      "source": [
        "В [шаге 2.9](#step_2.9) мы разбили клиентов на две категории, в зависимости от того, состоит ли клиент в официальном браке или нет. Построим сводную таблицу на основе столбца `'family_status_categ'`  и рассчитаем процент просрочки для этих двух категорий."
      ]
    },
    {
      "cell_type": "code",
      "execution_count": 74,
      "id": "d91baae1",
      "metadata": {
        "colab": {
          "base_uri": "https://localhost:8080/",
          "height": 143
        },
        "id": "d91baae1",
        "outputId": "84e91ad4-8f4b-40e6-8afb-b5e351d99794"
      },
      "outputs": [
        {
          "output_type": "execute_result",
          "data": {
            "text/plain": [
              "debt                     0    1     ratio\n",
              "family_status_categ                      \n",
              "состоит в браке      11408  931  7.545182\n",
              "не состоит в браке    8304  810  8.887426"
            ],
            "text/html": [
              "\n",
              "  <div id=\"df-38f98e46-7010-489e-82bf-cb8c4bcf8556\">\n",
              "    <div class=\"colab-df-container\">\n",
              "      <div>\n",
              "<style scoped>\n",
              "    .dataframe tbody tr th:only-of-type {\n",
              "        vertical-align: middle;\n",
              "    }\n",
              "\n",
              "    .dataframe tbody tr th {\n",
              "        vertical-align: top;\n",
              "    }\n",
              "\n",
              "    .dataframe thead th {\n",
              "        text-align: right;\n",
              "    }\n",
              "</style>\n",
              "<table border=\"1\" class=\"dataframe\">\n",
              "  <thead>\n",
              "    <tr style=\"text-align: right;\">\n",
              "      <th>debt</th>\n",
              "      <th>0</th>\n",
              "      <th>1</th>\n",
              "      <th>ratio</th>\n",
              "    </tr>\n",
              "    <tr>\n",
              "      <th>family_status_categ</th>\n",
              "      <th></th>\n",
              "      <th></th>\n",
              "      <th></th>\n",
              "    </tr>\n",
              "  </thead>\n",
              "  <tbody>\n",
              "    <tr>\n",
              "      <th>состоит в браке</th>\n",
              "      <td>11408</td>\n",
              "      <td>931</td>\n",
              "      <td>7.545182</td>\n",
              "    </tr>\n",
              "    <tr>\n",
              "      <th>не состоит в браке</th>\n",
              "      <td>8304</td>\n",
              "      <td>810</td>\n",
              "      <td>8.887426</td>\n",
              "    </tr>\n",
              "  </tbody>\n",
              "</table>\n",
              "</div>\n",
              "      <button class=\"colab-df-convert\" onclick=\"convertToInteractive('df-38f98e46-7010-489e-82bf-cb8c4bcf8556')\"\n",
              "              title=\"Convert this dataframe to an interactive table.\"\n",
              "              style=\"display:none;\">\n",
              "        \n",
              "  <svg xmlns=\"http://www.w3.org/2000/svg\" height=\"24px\"viewBox=\"0 0 24 24\"\n",
              "       width=\"24px\">\n",
              "    <path d=\"M0 0h24v24H0V0z\" fill=\"none\"/>\n",
              "    <path d=\"M18.56 5.44l.94 2.06.94-2.06 2.06-.94-2.06-.94-.94-2.06-.94 2.06-2.06.94zm-11 1L8.5 8.5l.94-2.06 2.06-.94-2.06-.94L8.5 2.5l-.94 2.06-2.06.94zm10 10l.94 2.06.94-2.06 2.06-.94-2.06-.94-.94-2.06-.94 2.06-2.06.94z\"/><path d=\"M17.41 7.96l-1.37-1.37c-.4-.4-.92-.59-1.43-.59-.52 0-1.04.2-1.43.59L10.3 9.45l-7.72 7.72c-.78.78-.78 2.05 0 2.83L4 21.41c.39.39.9.59 1.41.59.51 0 1.02-.2 1.41-.59l7.78-7.78 2.81-2.81c.8-.78.8-2.07 0-2.86zM5.41 20L4 18.59l7.72-7.72 1.47 1.35L5.41 20z\"/>\n",
              "  </svg>\n",
              "      </button>\n",
              "      \n",
              "  <style>\n",
              "    .colab-df-container {\n",
              "      display:flex;\n",
              "      flex-wrap:wrap;\n",
              "      gap: 12px;\n",
              "    }\n",
              "\n",
              "    .colab-df-convert {\n",
              "      background-color: #E8F0FE;\n",
              "      border: none;\n",
              "      border-radius: 50%;\n",
              "      cursor: pointer;\n",
              "      display: none;\n",
              "      fill: #1967D2;\n",
              "      height: 32px;\n",
              "      padding: 0 0 0 0;\n",
              "      width: 32px;\n",
              "    }\n",
              "\n",
              "    .colab-df-convert:hover {\n",
              "      background-color: #E2EBFA;\n",
              "      box-shadow: 0px 1px 2px rgba(60, 64, 67, 0.3), 0px 1px 3px 1px rgba(60, 64, 67, 0.15);\n",
              "      fill: #174EA6;\n",
              "    }\n",
              "\n",
              "    [theme=dark] .colab-df-convert {\n",
              "      background-color: #3B4455;\n",
              "      fill: #D2E3FC;\n",
              "    }\n",
              "\n",
              "    [theme=dark] .colab-df-convert:hover {\n",
              "      background-color: #434B5C;\n",
              "      box-shadow: 0px 1px 3px 1px rgba(0, 0, 0, 0.15);\n",
              "      filter: drop-shadow(0px 1px 2px rgba(0, 0, 0, 0.3));\n",
              "      fill: #FFFFFF;\n",
              "    }\n",
              "  </style>\n",
              "\n",
              "      <script>\n",
              "        const buttonEl =\n",
              "          document.querySelector('#df-38f98e46-7010-489e-82bf-cb8c4bcf8556 button.colab-df-convert');\n",
              "        buttonEl.style.display =\n",
              "          google.colab.kernel.accessAllowed ? 'block' : 'none';\n",
              "\n",
              "        async function convertToInteractive(key) {\n",
              "          const element = document.querySelector('#df-38f98e46-7010-489e-82bf-cb8c4bcf8556');\n",
              "          const dataTable =\n",
              "            await google.colab.kernel.invokeFunction('convertToInteractive',\n",
              "                                                     [key], {});\n",
              "          if (!dataTable) return;\n",
              "\n",
              "          const docLinkHtml = 'Like what you see? Visit the ' +\n",
              "            '<a target=\"_blank\" href=https://colab.research.google.com/notebooks/data_table.ipynb>data table notebook</a>'\n",
              "            + ' to learn more about interactive tables.';\n",
              "          element.innerHTML = '';\n",
              "          dataTable['output_type'] = 'display_data';\n",
              "          await google.colab.output.renderOutput(dataTable, element);\n",
              "          const docLink = document.createElement('div');\n",
              "          docLink.innerHTML = docLinkHtml;\n",
              "          element.appendChild(docLink);\n",
              "        }\n",
              "      </script>\n",
              "    </div>\n",
              "  </div>\n",
              "  "
            ]
          },
          "metadata": {},
          "execution_count": 74
        }
      ],
      "source": [
        "# создание сводной таблицы по столбцу 'family_status_categ'\n",
        "data_pivot_family_ctg = df.pivot_table(index='family_status_categ', columns='debt', values='income_type', aggfunc='count')\n",
        "\n",
        "# добавление нового столбца 'ratio'\n",
        "data_pivot_family_ctg['ratio'] = data_pivot_family_ctg[1] / (data_pivot_family_ctg[1] + data_pivot_family_ctg[0]) * 100\n",
        "\n",
        "data_pivot_family_ctg.sort_values(by='ratio') #вывод таблицы на экран и сортировка по столбцу 'ratio'"
      ]
    },
    {
      "cell_type": "markdown",
      "id": "12797887",
      "metadata": {
        "id": "12797887"
      },
      "source": [
        "После группировки стало очевидно, что разница в просрочке кредита между клиентами состоящими в браке, и не состоящими в браке незначительна и составляет `1.34%`."
      ]
    },
    {
      "cell_type": "markdown",
      "id": "1bda8b75",
      "metadata": {
        "id": "1bda8b75"
      },
      "source": [
        "##### Вывод 2:  <a id='conclusion_2'></a>"
      ]
    },
    {
      "cell_type": "markdown",
      "id": "859bb7f6",
      "metadata": {
        "id": "859bb7f6"
      },
      "source": [
        "Семейный статус влияет на возврат кредита в срок: клиенты из категории `'не женат/ не замужем'` на `3,18%` чаще совершают просрочки, чем клиенты из категории `'вдовец/вдова'`. Однако, если рассматривать клиентов с точки зрения того, состоят ли они в официальном браке или нет, то разница становится не такой существенной - всего `1,34%`. "
      ]
    },
    {
      "cell_type": "markdown",
      "id": "9ab53d88",
      "metadata": {
        "id": "9ab53d88"
      },
      "source": [
        "##### Вопрос 3:  <a id='question_3'></a>"
      ]
    },
    {
      "cell_type": "markdown",
      "id": "ae931e76",
      "metadata": {
        "id": "ae931e76"
      },
      "source": [
        "**Есть ли зависимость между уровнем дохода и возвратом кредита в срок?**"
      ]
    },
    {
      "cell_type": "markdown",
      "id": "5d024450",
      "metadata": {
        "id": "5d024450"
      },
      "source": [
        "Построим сводную таблицу по столбцу `'total_income_category'`, как и в прошлых шагах добавим столбец `'ratio'` и рассчитаем процент просрочки. После чего выведем таблицу на экран и отсортируем по возрастанию столбца `'ratio'`."
      ]
    },
    {
      "cell_type": "code",
      "execution_count": 75,
      "id": "07c46534",
      "metadata": {
        "colab": {
          "base_uri": "https://localhost:8080/",
          "height": 175
        },
        "id": "07c46534",
        "outputId": "090cacc1-4c79-4b3b-a06f-f5e14ee1a88b"
      },
      "outputs": [
        {
          "output_type": "execute_result",
          "data": {
            "text/plain": [
              "debt                       0     1     ratio\n",
              "total_income_category                       \n",
              "A                       4708   358  7.066719\n",
              "C                       4109   354  7.931884\n",
              "B                      10895  1029  8.629654"
            ],
            "text/html": [
              "\n",
              "  <div id=\"df-7dc28149-f22b-43e6-a486-b53a0e083c6c\">\n",
              "    <div class=\"colab-df-container\">\n",
              "      <div>\n",
              "<style scoped>\n",
              "    .dataframe tbody tr th:only-of-type {\n",
              "        vertical-align: middle;\n",
              "    }\n",
              "\n",
              "    .dataframe tbody tr th {\n",
              "        vertical-align: top;\n",
              "    }\n",
              "\n",
              "    .dataframe thead th {\n",
              "        text-align: right;\n",
              "    }\n",
              "</style>\n",
              "<table border=\"1\" class=\"dataframe\">\n",
              "  <thead>\n",
              "    <tr style=\"text-align: right;\">\n",
              "      <th>debt</th>\n",
              "      <th>0</th>\n",
              "      <th>1</th>\n",
              "      <th>ratio</th>\n",
              "    </tr>\n",
              "    <tr>\n",
              "      <th>total_income_category</th>\n",
              "      <th></th>\n",
              "      <th></th>\n",
              "      <th></th>\n",
              "    </tr>\n",
              "  </thead>\n",
              "  <tbody>\n",
              "    <tr>\n",
              "      <th>A</th>\n",
              "      <td>4708</td>\n",
              "      <td>358</td>\n",
              "      <td>7.066719</td>\n",
              "    </tr>\n",
              "    <tr>\n",
              "      <th>C</th>\n",
              "      <td>4109</td>\n",
              "      <td>354</td>\n",
              "      <td>7.931884</td>\n",
              "    </tr>\n",
              "    <tr>\n",
              "      <th>B</th>\n",
              "      <td>10895</td>\n",
              "      <td>1029</td>\n",
              "      <td>8.629654</td>\n",
              "    </tr>\n",
              "  </tbody>\n",
              "</table>\n",
              "</div>\n",
              "      <button class=\"colab-df-convert\" onclick=\"convertToInteractive('df-7dc28149-f22b-43e6-a486-b53a0e083c6c')\"\n",
              "              title=\"Convert this dataframe to an interactive table.\"\n",
              "              style=\"display:none;\">\n",
              "        \n",
              "  <svg xmlns=\"http://www.w3.org/2000/svg\" height=\"24px\"viewBox=\"0 0 24 24\"\n",
              "       width=\"24px\">\n",
              "    <path d=\"M0 0h24v24H0V0z\" fill=\"none\"/>\n",
              "    <path d=\"M18.56 5.44l.94 2.06.94-2.06 2.06-.94-2.06-.94-.94-2.06-.94 2.06-2.06.94zm-11 1L8.5 8.5l.94-2.06 2.06-.94-2.06-.94L8.5 2.5l-.94 2.06-2.06.94zm10 10l.94 2.06.94-2.06 2.06-.94-2.06-.94-.94-2.06-.94 2.06-2.06.94z\"/><path d=\"M17.41 7.96l-1.37-1.37c-.4-.4-.92-.59-1.43-.59-.52 0-1.04.2-1.43.59L10.3 9.45l-7.72 7.72c-.78.78-.78 2.05 0 2.83L4 21.41c.39.39.9.59 1.41.59.51 0 1.02-.2 1.41-.59l7.78-7.78 2.81-2.81c.8-.78.8-2.07 0-2.86zM5.41 20L4 18.59l7.72-7.72 1.47 1.35L5.41 20z\"/>\n",
              "  </svg>\n",
              "      </button>\n",
              "      \n",
              "  <style>\n",
              "    .colab-df-container {\n",
              "      display:flex;\n",
              "      flex-wrap:wrap;\n",
              "      gap: 12px;\n",
              "    }\n",
              "\n",
              "    .colab-df-convert {\n",
              "      background-color: #E8F0FE;\n",
              "      border: none;\n",
              "      border-radius: 50%;\n",
              "      cursor: pointer;\n",
              "      display: none;\n",
              "      fill: #1967D2;\n",
              "      height: 32px;\n",
              "      padding: 0 0 0 0;\n",
              "      width: 32px;\n",
              "    }\n",
              "\n",
              "    .colab-df-convert:hover {\n",
              "      background-color: #E2EBFA;\n",
              "      box-shadow: 0px 1px 2px rgba(60, 64, 67, 0.3), 0px 1px 3px 1px rgba(60, 64, 67, 0.15);\n",
              "      fill: #174EA6;\n",
              "    }\n",
              "\n",
              "    [theme=dark] .colab-df-convert {\n",
              "      background-color: #3B4455;\n",
              "      fill: #D2E3FC;\n",
              "    }\n",
              "\n",
              "    [theme=dark] .colab-df-convert:hover {\n",
              "      background-color: #434B5C;\n",
              "      box-shadow: 0px 1px 3px 1px rgba(0, 0, 0, 0.15);\n",
              "      filter: drop-shadow(0px 1px 2px rgba(0, 0, 0, 0.3));\n",
              "      fill: #FFFFFF;\n",
              "    }\n",
              "  </style>\n",
              "\n",
              "      <script>\n",
              "        const buttonEl =\n",
              "          document.querySelector('#df-7dc28149-f22b-43e6-a486-b53a0e083c6c button.colab-df-convert');\n",
              "        buttonEl.style.display =\n",
              "          google.colab.kernel.accessAllowed ? 'block' : 'none';\n",
              "\n",
              "        async function convertToInteractive(key) {\n",
              "          const element = document.querySelector('#df-7dc28149-f22b-43e6-a486-b53a0e083c6c');\n",
              "          const dataTable =\n",
              "            await google.colab.kernel.invokeFunction('convertToInteractive',\n",
              "                                                     [key], {});\n",
              "          if (!dataTable) return;\n",
              "\n",
              "          const docLinkHtml = 'Like what you see? Visit the ' +\n",
              "            '<a target=\"_blank\" href=https://colab.research.google.com/notebooks/data_table.ipynb>data table notebook</a>'\n",
              "            + ' to learn more about interactive tables.';\n",
              "          element.innerHTML = '';\n",
              "          dataTable['output_type'] = 'display_data';\n",
              "          await google.colab.output.renderOutput(dataTable, element);\n",
              "          const docLink = document.createElement('div');\n",
              "          docLink.innerHTML = docLinkHtml;\n",
              "          element.appendChild(docLink);\n",
              "        }\n",
              "      </script>\n",
              "    </div>\n",
              "  </div>\n",
              "  "
            ]
          },
          "metadata": {},
          "execution_count": 75
        }
      ],
      "source": [
        "# создание сводной таблицы по столбцу 'family_status_categ'\n",
        "data_pivot_incom = df.pivot_table(index='total_income_category', columns='debt', values='income_type', aggfunc='count')\n",
        "\n",
        "# добавление нового столбца 'ratio'\n",
        "data_pivot_incom['ratio'] = data_pivot_incom[1] / (data_pivot_incom[1] + data_pivot_incom[0]) * 100 \n",
        "\n",
        "data_pivot_incom.sort_values(by='ratio') #вывод таблицы на экран и сортировка по столбцу 'ratio'"
      ]
    },
    {
      "cell_type": "markdown",
      "id": "f3dc835b",
      "metadata": {
        "id": "f3dc835b"
      },
      "source": [
        "Исследование показало, что меньше всего просрочек допускают клиенты с самым высоким уровнем дохода - более 200тр. (категория `А`), процент просрочек в этой группе составляет `7.07%`. На `0,86%` больше просрочек допускают клиенты с доходом менее 100тр.(категория `С`) и на `1.56%` - клиенты с доходом от 101тр. до 200тр. (категория `В`)."
      ]
    },
    {
      "cell_type": "markdown",
      "id": "333e4ba8",
      "metadata": {
        "id": "333e4ba8"
      },
      "source": [
        "##### Вывод 3:  <a id='conclusion_3'></a>"
      ]
    },
    {
      "cell_type": "markdown",
      "id": "7d67a848",
      "metadata": {
        "id": "7d67a848"
      },
      "source": [
        "Результаты исследования не позволяют однозначно ответить на вопрос о том, как уровень дохода влияет на наличие просрочек по кредиту. Клиенты с самым высоким уровнем дохода допускают меньше всего просрочек - `7.07%`. Можно было бы предположить, что чем выше уровень дохода, тем меньше клиенты допускают просрочки. Однако, больше всего просрочек допустили клиенты из средней группы по уровню дохода - `8.63%`."
      ]
    },
    {
      "cell_type": "markdown",
      "id": "bcd93efb",
      "metadata": {
        "id": "bcd93efb"
      },
      "source": [
        "##### Вопрос 4:  <a id='question_4'></a>"
      ]
    },
    {
      "cell_type": "markdown",
      "id": "434d9d12",
      "metadata": {
        "id": "434d9d12"
      },
      "source": [
        "**Как разные цели кредита влияют на его возврат в срок?**"
      ]
    },
    {
      "cell_type": "markdown",
      "id": "3875f68b",
      "metadata": {
        "id": "3875f68b"
      },
      "source": [
        "Рассчитаем процент просрочки в зависимости от целей кредита. Построим сводную таблицу по столбцу `'purpose_category'`."
      ]
    },
    {
      "cell_type": "code",
      "execution_count": 76,
      "id": "467046d8",
      "metadata": {
        "colab": {
          "base_uri": "https://localhost:8080/",
          "height": 206
        },
        "id": "467046d8",
        "outputId": "d7f57ec4-dc94-4e41-ea0e-6e07e676111a"
      },
      "outputs": [
        {
          "output_type": "execute_result",
          "data": {
            "text/plain": [
              "debt                          0    1     ratio\n",
              "purpose_category                              \n",
              "операции с недвижимостью  10029  782  7.233373\n",
              "проведение свадьбы         2137  186  8.006888\n",
              "получение образования      3643  370  9.220035\n",
              "операции с автомобилем     3903  403  9.359034"
            ],
            "text/html": [
              "\n",
              "  <div id=\"df-4da5afcb-5fef-4a54-b5e6-667aadaeee06\">\n",
              "    <div class=\"colab-df-container\">\n",
              "      <div>\n",
              "<style scoped>\n",
              "    .dataframe tbody tr th:only-of-type {\n",
              "        vertical-align: middle;\n",
              "    }\n",
              "\n",
              "    .dataframe tbody tr th {\n",
              "        vertical-align: top;\n",
              "    }\n",
              "\n",
              "    .dataframe thead th {\n",
              "        text-align: right;\n",
              "    }\n",
              "</style>\n",
              "<table border=\"1\" class=\"dataframe\">\n",
              "  <thead>\n",
              "    <tr style=\"text-align: right;\">\n",
              "      <th>debt</th>\n",
              "      <th>0</th>\n",
              "      <th>1</th>\n",
              "      <th>ratio</th>\n",
              "    </tr>\n",
              "    <tr>\n",
              "      <th>purpose_category</th>\n",
              "      <th></th>\n",
              "      <th></th>\n",
              "      <th></th>\n",
              "    </tr>\n",
              "  </thead>\n",
              "  <tbody>\n",
              "    <tr>\n",
              "      <th>операции с недвижимостью</th>\n",
              "      <td>10029</td>\n",
              "      <td>782</td>\n",
              "      <td>7.233373</td>\n",
              "    </tr>\n",
              "    <tr>\n",
              "      <th>проведение свадьбы</th>\n",
              "      <td>2137</td>\n",
              "      <td>186</td>\n",
              "      <td>8.006888</td>\n",
              "    </tr>\n",
              "    <tr>\n",
              "      <th>получение образования</th>\n",
              "      <td>3643</td>\n",
              "      <td>370</td>\n",
              "      <td>9.220035</td>\n",
              "    </tr>\n",
              "    <tr>\n",
              "      <th>операции с автомобилем</th>\n",
              "      <td>3903</td>\n",
              "      <td>403</td>\n",
              "      <td>9.359034</td>\n",
              "    </tr>\n",
              "  </tbody>\n",
              "</table>\n",
              "</div>\n",
              "      <button class=\"colab-df-convert\" onclick=\"convertToInteractive('df-4da5afcb-5fef-4a54-b5e6-667aadaeee06')\"\n",
              "              title=\"Convert this dataframe to an interactive table.\"\n",
              "              style=\"display:none;\">\n",
              "        \n",
              "  <svg xmlns=\"http://www.w3.org/2000/svg\" height=\"24px\"viewBox=\"0 0 24 24\"\n",
              "       width=\"24px\">\n",
              "    <path d=\"M0 0h24v24H0V0z\" fill=\"none\"/>\n",
              "    <path d=\"M18.56 5.44l.94 2.06.94-2.06 2.06-.94-2.06-.94-.94-2.06-.94 2.06-2.06.94zm-11 1L8.5 8.5l.94-2.06 2.06-.94-2.06-.94L8.5 2.5l-.94 2.06-2.06.94zm10 10l.94 2.06.94-2.06 2.06-.94-2.06-.94-.94-2.06-.94 2.06-2.06.94z\"/><path d=\"M17.41 7.96l-1.37-1.37c-.4-.4-.92-.59-1.43-.59-.52 0-1.04.2-1.43.59L10.3 9.45l-7.72 7.72c-.78.78-.78 2.05 0 2.83L4 21.41c.39.39.9.59 1.41.59.51 0 1.02-.2 1.41-.59l7.78-7.78 2.81-2.81c.8-.78.8-2.07 0-2.86zM5.41 20L4 18.59l7.72-7.72 1.47 1.35L5.41 20z\"/>\n",
              "  </svg>\n",
              "      </button>\n",
              "      \n",
              "  <style>\n",
              "    .colab-df-container {\n",
              "      display:flex;\n",
              "      flex-wrap:wrap;\n",
              "      gap: 12px;\n",
              "    }\n",
              "\n",
              "    .colab-df-convert {\n",
              "      background-color: #E8F0FE;\n",
              "      border: none;\n",
              "      border-radius: 50%;\n",
              "      cursor: pointer;\n",
              "      display: none;\n",
              "      fill: #1967D2;\n",
              "      height: 32px;\n",
              "      padding: 0 0 0 0;\n",
              "      width: 32px;\n",
              "    }\n",
              "\n",
              "    .colab-df-convert:hover {\n",
              "      background-color: #E2EBFA;\n",
              "      box-shadow: 0px 1px 2px rgba(60, 64, 67, 0.3), 0px 1px 3px 1px rgba(60, 64, 67, 0.15);\n",
              "      fill: #174EA6;\n",
              "    }\n",
              "\n",
              "    [theme=dark] .colab-df-convert {\n",
              "      background-color: #3B4455;\n",
              "      fill: #D2E3FC;\n",
              "    }\n",
              "\n",
              "    [theme=dark] .colab-df-convert:hover {\n",
              "      background-color: #434B5C;\n",
              "      box-shadow: 0px 1px 3px 1px rgba(0, 0, 0, 0.15);\n",
              "      filter: drop-shadow(0px 1px 2px rgba(0, 0, 0, 0.3));\n",
              "      fill: #FFFFFF;\n",
              "    }\n",
              "  </style>\n",
              "\n",
              "      <script>\n",
              "        const buttonEl =\n",
              "          document.querySelector('#df-4da5afcb-5fef-4a54-b5e6-667aadaeee06 button.colab-df-convert');\n",
              "        buttonEl.style.display =\n",
              "          google.colab.kernel.accessAllowed ? 'block' : 'none';\n",
              "\n",
              "        async function convertToInteractive(key) {\n",
              "          const element = document.querySelector('#df-4da5afcb-5fef-4a54-b5e6-667aadaeee06');\n",
              "          const dataTable =\n",
              "            await google.colab.kernel.invokeFunction('convertToInteractive',\n",
              "                                                     [key], {});\n",
              "          if (!dataTable) return;\n",
              "\n",
              "          const docLinkHtml = 'Like what you see? Visit the ' +\n",
              "            '<a target=\"_blank\" href=https://colab.research.google.com/notebooks/data_table.ipynb>data table notebook</a>'\n",
              "            + ' to learn more about interactive tables.';\n",
              "          element.innerHTML = '';\n",
              "          dataTable['output_type'] = 'display_data';\n",
              "          await google.colab.output.renderOutput(dataTable, element);\n",
              "          const docLink = document.createElement('div');\n",
              "          docLink.innerHTML = docLinkHtml;\n",
              "          element.appendChild(docLink);\n",
              "        }\n",
              "      </script>\n",
              "    </div>\n",
              "  </div>\n",
              "  "
            ]
          },
          "metadata": {},
          "execution_count": 76
        }
      ],
      "source": [
        "# создание сводной таблицы по столбцу 'purpose_category'\n",
        "data_pivot_purpose = df.pivot_table(index='purpose_category', columns='debt', values='income_type', aggfunc='count')\n",
        "\n",
        "# добавление нового столбца 'ratio'\n",
        "data_pivot_purpose['ratio'] = data_pivot_purpose[1]/(data_pivot_purpose[1]+data_pivot_purpose[0])*100 \n",
        "\n",
        "data_pivot_purpose.sort_values(by='ratio') # вывод таблицы на экран и сортировка по столбцу 'ratio'"
      ]
    },
    {
      "cell_type": "markdown",
      "id": "35b1af6e",
      "metadata": {
        "id": "35b1af6e"
      },
      "source": [
        "Больше всего просрочек клиенты докпускают по автокредитам - `9.36%`, и по кредитам на образование - `9.22%`. По кредитам на покупку недвижимости просрочка составляет `7.23%` от общего числа кредитов."
      ]
    },
    {
      "cell_type": "markdown",
      "id": "528d2736",
      "metadata": {
        "id": "528d2736"
      },
      "source": [
        "##### Вывод 4:   <a id='conclusion_4'></a>"
      ]
    },
    {
      "cell_type": "markdown",
      "id": "d47e2682",
      "metadata": {
        "id": "d47e2682"
      },
      "source": [
        "Реже всего клиенты допускают просрочку по кредитам на недвижимость: на `2.13%` реже, чем при покупке автомобиля."
      ]
    },
    {
      "cell_type": "markdown",
      "id": "c192975e",
      "metadata": {
        "id": "c192975e"
      },
      "source": [
        "## Общий вывод:  <a id='conclusion'></a>"
      ]
    },
    {
      "cell_type": "markdown",
      "id": "9ab6f6f7",
      "metadata": {
        "id": "9ab6f6f7"
      },
      "source": [
        "В ходе исследования, на основе статистике о платёжеспособности клиентов, мы проверяли влияние разных факторов на факт погашения кредита в срок.\n",
        "Перед тем как приступить к исследованию была произведена предобработка данных:\n",
        "* убраны пропуски;\n",
        "* убраны/заменены дубликаты;\n",
        "* устранены ошибки и аномалии в данных.  \n",
        "\n",
        "Для ответа на гипотезы данные были дополнительно категоризированны по разным признакам. \n",
        "\n",
        "В ходе исследования мы искали ответы на четыре вопроса и установили:\n",
        "1. Количество детей влияет на возврат кредита в срок. Клиенты, не имеющие детей на 1,73 % реже допускают просрочки по кредитам, чем клиенты имеющие 1-2 ребенка. Среди заемщиков в выборке, имеющих по 5 детей не зафиксировано ни одного  случая просрочки кредита.\n",
        "2. Семейный статус влияет на возврат кредита в срок: клиенты из категории 'не женат/ не замужем' на 3,18% чаще совершают просрочки, чем клиенты из категории 'вдовец/вдова'. Однако, если рассматривать клиентов с точки зрения того, состоят ли они в официальном браке или нет, то разница становится не такой существенной - всего 1,34%.\n",
        "3. Результаты исследования не позволяют однозначно ответить на вопрос о том, как уровень дохода влияет на наличие просрочек по кредиту. Больше всего просрочек допустили клиенты из средней группы по уровню дохода.\n",
        "4. Цели кредита влияют на закрытие кредита в срок. Реже всего заемщики допускают просрочку по  кредитам на покупку недвижимости. По автокредитам случаев просрочки на 2.13% больше."
      ]
    }
  ],
  "metadata": {
    "ExecuteTimeLog": [
      {
        "duration": 761,
        "start_time": "2022-02-07T06:16:06.781Z"
      },
      {
        "duration": 83,
        "start_time": "2022-02-07T06:20:08.057Z"
      },
      {
        "duration": 15,
        "start_time": "2022-02-07T06:23:01.746Z"
      },
      {
        "duration": 3,
        "start_time": "2022-02-07T06:43:15.035Z"
      },
      {
        "duration": 80,
        "start_time": "2022-02-07T06:43:15.044Z"
      },
      {
        "duration": 14,
        "start_time": "2022-02-07T06:43:15.127Z"
      },
      {
        "duration": 13,
        "start_time": "2022-02-07T06:43:53.553Z"
      },
      {
        "duration": 10,
        "start_time": "2022-02-07T06:48:15.479Z"
      },
      {
        "duration": 10,
        "start_time": "2022-02-07T06:49:48.159Z"
      },
      {
        "duration": 8,
        "start_time": "2022-02-07T06:57:18.644Z"
      },
      {
        "duration": 21,
        "start_time": "2022-02-07T06:57:23.887Z"
      },
      {
        "duration": 23,
        "start_time": "2022-02-07T06:57:31.982Z"
      },
      {
        "duration": 24,
        "start_time": "2022-02-07T06:58:02.643Z"
      },
      {
        "duration": 28,
        "start_time": "2022-02-07T06:58:37.541Z"
      },
      {
        "duration": 20,
        "start_time": "2022-02-07T06:59:12.437Z"
      },
      {
        "duration": 22,
        "start_time": "2022-02-07T07:02:09.905Z"
      },
      {
        "duration": 19,
        "start_time": "2022-02-07T07:07:06.919Z"
      },
      {
        "duration": 5,
        "start_time": "2022-02-07T13:08:55.626Z"
      },
      {
        "duration": 6,
        "start_time": "2022-02-07T13:09:13.763Z"
      },
      {
        "duration": 22,
        "start_time": "2022-02-07T13:27:06.628Z"
      },
      {
        "duration": 20,
        "start_time": "2022-02-07T13:27:11.658Z"
      },
      {
        "duration": 6,
        "start_time": "2022-02-07T13:29:13.665Z"
      },
      {
        "duration": 6,
        "start_time": "2022-02-07T13:30:00.351Z"
      },
      {
        "duration": 406,
        "start_time": "2022-02-07T13:32:17.190Z"
      },
      {
        "duration": 8,
        "start_time": "2022-02-07T13:32:54.980Z"
      },
      {
        "duration": 30,
        "start_time": "2022-02-07T13:32:56.460Z"
      },
      {
        "duration": 20,
        "start_time": "2022-02-07T13:33:13.815Z"
      },
      {
        "duration": 13,
        "start_time": "2022-02-07T13:33:39.417Z"
      },
      {
        "duration": 6,
        "start_time": "2022-02-07T13:55:34.020Z"
      },
      {
        "duration": 8,
        "start_time": "2022-02-07T13:58:12.761Z"
      },
      {
        "duration": 723,
        "start_time": "2022-02-07T14:05:20.359Z"
      },
      {
        "duration": 283,
        "start_time": "2022-02-07T14:05:25.991Z"
      },
      {
        "duration": 287,
        "start_time": "2022-02-07T14:13:07.356Z"
      },
      {
        "duration": 35,
        "start_time": "2022-02-07T14:14:06.225Z"
      },
      {
        "duration": 9,
        "start_time": "2022-02-07T14:18:34.029Z"
      },
      {
        "duration": 11,
        "start_time": "2022-02-07T14:19:15.408Z"
      },
      {
        "duration": 7,
        "start_time": "2022-02-07T14:19:27.810Z"
      },
      {
        "duration": 10,
        "start_time": "2022-02-07T14:20:14.665Z"
      },
      {
        "duration": 9280,
        "start_time": "2022-02-07T14:20:58.336Z"
      },
      {
        "duration": 7,
        "start_time": "2022-02-07T14:21:09.035Z"
      },
      {
        "duration": 11,
        "start_time": "2022-02-07T14:21:41.417Z"
      },
      {
        "duration": 18,
        "start_time": "2022-02-07T14:22:24.006Z"
      },
      {
        "duration": 11,
        "start_time": "2022-02-07T14:23:20.468Z"
      },
      {
        "duration": 9,
        "start_time": "2022-02-07T14:24:00.339Z"
      },
      {
        "duration": 284,
        "start_time": "2022-02-07T14:24:44.366Z"
      },
      {
        "duration": 12,
        "start_time": "2022-02-07T14:25:36.464Z"
      },
      {
        "duration": 297,
        "start_time": "2022-02-07T14:30:14.284Z"
      },
      {
        "duration": 7,
        "start_time": "2022-02-07T14:30:37.260Z"
      },
      {
        "duration": 6,
        "start_time": "2022-02-07T14:30:44.477Z"
      },
      {
        "duration": 130,
        "start_time": "2022-02-07T14:43:59.491Z"
      },
      {
        "duration": 14,
        "start_time": "2022-02-07T14:44:08.000Z"
      },
      {
        "duration": 316,
        "start_time": "2022-02-07T14:44:26.904Z"
      },
      {
        "duration": 24,
        "start_time": "2022-02-07T15:01:18.980Z"
      },
      {
        "duration": 24,
        "start_time": "2022-02-07T15:01:22.992Z"
      },
      {
        "duration": 22,
        "start_time": "2022-02-07T15:19:42.319Z"
      },
      {
        "duration": 301,
        "start_time": "2022-02-07T15:22:17.133Z"
      },
      {
        "duration": 13,
        "start_time": "2022-02-07T15:22:48.075Z"
      },
      {
        "duration": 12,
        "start_time": "2022-02-07T15:22:51.721Z"
      },
      {
        "duration": 785,
        "start_time": "2022-02-07T15:23:25.122Z"
      },
      {
        "duration": 15,
        "start_time": "2022-02-07T15:23:30.441Z"
      },
      {
        "duration": 14,
        "start_time": "2022-02-07T15:29:48.986Z"
      },
      {
        "duration": 10,
        "start_time": "2022-02-07T16:10:58.486Z"
      },
      {
        "duration": 10,
        "start_time": "2022-02-07T16:13:41.760Z"
      },
      {
        "duration": 9,
        "start_time": "2022-02-07T16:13:46.524Z"
      },
      {
        "duration": 10,
        "start_time": "2022-02-07T16:28:27.313Z"
      },
      {
        "duration": 296,
        "start_time": "2022-02-07T16:28:52.946Z"
      },
      {
        "duration": 6,
        "start_time": "2022-02-07T16:29:04.812Z"
      },
      {
        "duration": 311,
        "start_time": "2022-02-07T16:29:07.978Z"
      },
      {
        "duration": 338,
        "start_time": "2022-02-07T16:31:12.597Z"
      },
      {
        "duration": 25,
        "start_time": "2022-02-07T16:31:28.952Z"
      },
      {
        "duration": 32,
        "start_time": "2022-02-07T16:38:31.244Z"
      },
      {
        "duration": 21,
        "start_time": "2022-02-07T16:38:52.064Z"
      },
      {
        "duration": 36,
        "start_time": "2022-02-07T16:59:03.848Z"
      },
      {
        "duration": 21,
        "start_time": "2022-02-07T16:59:29.971Z"
      },
      {
        "duration": 313,
        "start_time": "2022-02-07T17:16:03.154Z"
      },
      {
        "duration": 503,
        "start_time": "2022-02-08T06:15:52.609Z"
      },
      {
        "duration": 462,
        "start_time": "2022-02-08T06:18:44.785Z"
      },
      {
        "duration": 270,
        "start_time": "2022-02-08T06:20:08.468Z"
      },
      {
        "duration": 99,
        "start_time": "2022-02-08T06:20:36.024Z"
      },
      {
        "duration": 1289,
        "start_time": "2022-02-08T06:20:40.513Z"
      },
      {
        "duration": 306,
        "start_time": "2022-02-08T06:21:17.642Z"
      },
      {
        "duration": 1414,
        "start_time": "2022-02-08T06:21:36.442Z"
      },
      {
        "duration": 2610,
        "start_time": "2022-02-08T06:25:31.680Z"
      },
      {
        "duration": 2590,
        "start_time": "2022-02-08T06:25:31.701Z"
      },
      {
        "duration": 2584,
        "start_time": "2022-02-08T06:25:31.709Z"
      },
      {
        "duration": 2577,
        "start_time": "2022-02-08T06:25:31.717Z"
      },
      {
        "duration": 2561,
        "start_time": "2022-02-08T06:25:31.735Z"
      },
      {
        "duration": 2554,
        "start_time": "2022-02-08T06:25:31.743Z"
      },
      {
        "duration": 2548,
        "start_time": "2022-02-08T06:25:31.751Z"
      },
      {
        "duration": 2541,
        "start_time": "2022-02-08T06:25:31.759Z"
      },
      {
        "duration": 2536,
        "start_time": "2022-02-08T06:25:31.766Z"
      },
      {
        "duration": 2528,
        "start_time": "2022-02-08T06:25:31.776Z"
      },
      {
        "duration": 2524,
        "start_time": "2022-02-08T06:25:31.781Z"
      },
      {
        "duration": 2518,
        "start_time": "2022-02-08T06:25:31.789Z"
      },
      {
        "duration": 2514,
        "start_time": "2022-02-08T06:25:31.795Z"
      },
      {
        "duration": 2510,
        "start_time": "2022-02-08T06:25:31.800Z"
      },
      {
        "duration": 2514,
        "start_time": "2022-02-08T06:25:31.809Z"
      },
      {
        "duration": 2510,
        "start_time": "2022-02-08T06:25:31.814Z"
      },
      {
        "duration": 2506,
        "start_time": "2022-02-08T06:25:31.820Z"
      },
      {
        "duration": 2499,
        "start_time": "2022-02-08T06:25:31.829Z"
      },
      {
        "duration": 2481,
        "start_time": "2022-02-08T06:25:31.848Z"
      },
      {
        "duration": 2477,
        "start_time": "2022-02-08T06:25:31.854Z"
      },
      {
        "duration": 2472,
        "start_time": "2022-02-08T06:25:31.861Z"
      },
      {
        "duration": 2465,
        "start_time": "2022-02-08T06:25:31.869Z"
      },
      {
        "duration": 2459,
        "start_time": "2022-02-08T06:25:31.877Z"
      },
      {
        "duration": 2452,
        "start_time": "2022-02-08T06:25:31.885Z"
      },
      {
        "duration": 2291,
        "start_time": "2022-02-08T06:25:32.048Z"
      },
      {
        "duration": 2277,
        "start_time": "2022-02-08T06:25:32.063Z"
      },
      {
        "duration": 2274,
        "start_time": "2022-02-08T06:25:32.068Z"
      },
      {
        "duration": 2271,
        "start_time": "2022-02-08T06:25:32.074Z"
      },
      {
        "duration": 2268,
        "start_time": "2022-02-08T06:25:32.080Z"
      },
      {
        "duration": 87,
        "start_time": "2022-02-08T06:25:38.471Z"
      },
      {
        "duration": 4,
        "start_time": "2022-02-08T06:25:43.380Z"
      },
      {
        "duration": 77,
        "start_time": "2022-02-08T06:25:46.952Z"
      },
      {
        "duration": 3,
        "start_time": "2022-02-08T06:25:53.354Z"
      },
      {
        "duration": 79,
        "start_time": "2022-02-08T06:25:53.362Z"
      },
      {
        "duration": 14,
        "start_time": "2022-02-08T06:25:53.444Z"
      },
      {
        "duration": 12,
        "start_time": "2022-02-08T06:25:53.461Z"
      },
      {
        "duration": 57,
        "start_time": "2022-02-08T06:25:53.476Z"
      },
      {
        "duration": 6,
        "start_time": "2022-02-08T06:25:53.536Z"
      },
      {
        "duration": 9,
        "start_time": "2022-02-08T06:25:53.545Z"
      },
      {
        "duration": 13,
        "start_time": "2022-02-08T06:25:53.556Z"
      },
      {
        "duration": 50,
        "start_time": "2022-02-08T06:25:53.573Z"
      },
      {
        "duration": 15,
        "start_time": "2022-02-08T06:25:53.627Z"
      },
      {
        "duration": 11,
        "start_time": "2022-02-08T06:25:53.644Z"
      },
      {
        "duration": 345,
        "start_time": "2022-02-08T06:25:53.658Z"
      },
      {
        "duration": 5,
        "start_time": "2022-02-08T06:25:54.006Z"
      },
      {
        "duration": 325,
        "start_time": "2022-02-08T06:25:54.023Z"
      },
      {
        "duration": 20,
        "start_time": "2022-02-08T06:25:54.351Z"
      },
      {
        "duration": 4143,
        "start_time": "2022-02-08T06:25:54.374Z"
      },
      {
        "duration": 317,
        "start_time": "2022-02-08T06:27:58.555Z"
      },
      {
        "duration": 59,
        "start_time": "2022-02-08T06:27:58.874Z"
      },
      {
        "duration": 11,
        "start_time": "2022-02-08T06:27:58.935Z"
      },
      {
        "duration": 12,
        "start_time": "2022-02-08T06:27:58.948Z"
      },
      {
        "duration": 12,
        "start_time": "2022-02-08T06:27:58.962Z"
      },
      {
        "duration": 8,
        "start_time": "2022-02-08T06:27:58.977Z"
      },
      {
        "duration": 9,
        "start_time": "2022-02-08T06:27:59.025Z"
      },
      {
        "duration": 20,
        "start_time": "2022-02-08T06:27:59.036Z"
      },
      {
        "duration": 10,
        "start_time": "2022-02-08T06:27:59.059Z"
      },
      {
        "duration": 12,
        "start_time": "2022-02-08T06:27:59.071Z"
      },
      {
        "duration": 445,
        "start_time": "2022-02-08T06:27:59.085Z"
      },
      {
        "duration": 11,
        "start_time": "2022-02-08T06:27:59.532Z"
      },
      {
        "duration": 121542,
        "start_time": "2022-02-08T06:27:59.545Z"
      },
      {
        "duration": 2613,
        "start_time": "2022-02-08T06:30:00.476Z"
      },
      {
        "duration": 421,
        "start_time": "2022-02-08T06:30:51.141Z"
      },
      {
        "duration": 420,
        "start_time": "2022-02-08T06:35:40.834Z"
      },
      {
        "duration": 20,
        "start_time": "2022-02-08T06:37:52.216Z"
      },
      {
        "duration": 278,
        "start_time": "2022-02-08T06:58:08.957Z"
      },
      {
        "duration": 407,
        "start_time": "2022-02-08T06:58:17.072Z"
      },
      {
        "duration": 1407,
        "start_time": "2022-02-08T07:58:19.273Z"
      },
      {
        "duration": 85,
        "start_time": "2022-02-08T07:58:26.264Z"
      },
      {
        "duration": 15,
        "start_time": "2022-02-08T07:58:37.935Z"
      },
      {
        "duration": 14,
        "start_time": "2022-02-08T08:03:01.908Z"
      },
      {
        "duration": 20,
        "start_time": "2022-02-08T08:03:06.177Z"
      },
      {
        "duration": 6,
        "start_time": "2022-02-08T08:03:08.654Z"
      },
      {
        "duration": 7,
        "start_time": "2022-02-08T08:03:09.973Z"
      },
      {
        "duration": 13,
        "start_time": "2022-02-08T08:03:11.084Z"
      },
      {
        "duration": 8,
        "start_time": "2022-02-08T08:10:10.840Z"
      },
      {
        "duration": 13,
        "start_time": "2022-02-08T08:10:25.251Z"
      },
      {
        "duration": 11,
        "start_time": "2022-02-08T08:10:31.491Z"
      },
      {
        "duration": 11,
        "start_time": "2022-02-08T08:10:42.223Z"
      },
      {
        "duration": 316,
        "start_time": "2022-02-08T08:10:46.362Z"
      },
      {
        "duration": 13,
        "start_time": "2022-02-08T08:10:52.717Z"
      },
      {
        "duration": 406,
        "start_time": "2022-02-08T08:11:16.509Z"
      },
      {
        "duration": 298,
        "start_time": "2022-02-08T08:11:21.201Z"
      },
      {
        "duration": 362,
        "start_time": "2022-02-08T08:11:28.044Z"
      },
      {
        "duration": 11,
        "start_time": "2022-02-08T08:12:31.725Z"
      },
      {
        "duration": 17,
        "start_time": "2022-02-08T08:12:34.899Z"
      },
      {
        "duration": 77,
        "start_time": "2022-02-08T08:12:57.505Z"
      },
      {
        "duration": 293,
        "start_time": "2022-02-08T08:13:11.511Z"
      },
      {
        "duration": 5,
        "start_time": "2022-02-08T08:13:57.268Z"
      },
      {
        "duration": 7,
        "start_time": "2022-02-08T08:14:09.074Z"
      },
      {
        "duration": 376,
        "start_time": "2022-02-08T08:14:37.967Z"
      },
      {
        "duration": 20,
        "start_time": "2022-02-08T08:14:47.087Z"
      },
      {
        "duration": 89,
        "start_time": "2022-02-08T08:15:16.765Z"
      },
      {
        "duration": 28,
        "start_time": "2022-02-08T08:15:20.878Z"
      },
      {
        "duration": 9,
        "start_time": "2022-02-08T08:15:35.049Z"
      },
      {
        "duration": 28,
        "start_time": "2022-02-08T08:15:38.226Z"
      },
      {
        "duration": 344,
        "start_time": "2022-02-08T08:15:44.664Z"
      },
      {
        "duration": 18,
        "start_time": "2022-02-08T08:16:00.233Z"
      },
      {
        "duration": 7,
        "start_time": "2022-02-08T08:16:05.778Z"
      },
      {
        "duration": 6,
        "start_time": "2022-02-08T08:16:57.783Z"
      },
      {
        "duration": 8,
        "start_time": "2022-02-08T08:17:26.119Z"
      },
      {
        "duration": 23,
        "start_time": "2022-02-08T08:19:50.668Z"
      },
      {
        "duration": 34,
        "start_time": "2022-02-08T08:19:50.694Z"
      },
      {
        "duration": 10,
        "start_time": "2022-02-08T08:22:19.774Z"
      },
      {
        "duration": 12,
        "start_time": "2022-02-08T08:23:32.424Z"
      },
      {
        "duration": 13,
        "start_time": "2022-02-08T08:23:54.645Z"
      },
      {
        "duration": 7,
        "start_time": "2022-02-08T08:24:52.399Z"
      },
      {
        "duration": 14,
        "start_time": "2022-02-08T08:25:46.006Z"
      },
      {
        "duration": 3,
        "start_time": "2022-02-08T08:26:01.059Z"
      },
      {
        "duration": 79,
        "start_time": "2022-02-08T08:26:01.077Z"
      },
      {
        "duration": 15,
        "start_time": "2022-02-08T08:26:01.159Z"
      },
      {
        "duration": 15,
        "start_time": "2022-02-08T08:26:01.177Z"
      },
      {
        "duration": 44,
        "start_time": "2022-02-08T08:26:01.195Z"
      },
      {
        "duration": 24,
        "start_time": "2022-02-08T08:26:01.242Z"
      },
      {
        "duration": 36,
        "start_time": "2022-02-08T08:26:01.269Z"
      },
      {
        "duration": 31,
        "start_time": "2022-02-08T08:26:01.308Z"
      },
      {
        "duration": 23,
        "start_time": "2022-02-08T08:26:01.342Z"
      },
      {
        "duration": 56,
        "start_time": "2022-02-08T08:26:01.369Z"
      },
      {
        "duration": 28,
        "start_time": "2022-02-08T08:26:01.428Z"
      },
      {
        "duration": 326,
        "start_time": "2022-02-08T08:26:01.459Z"
      },
      {
        "duration": 11,
        "start_time": "2022-02-08T08:26:01.788Z"
      },
      {
        "duration": 36,
        "start_time": "2022-02-08T08:26:01.802Z"
      },
      {
        "duration": 359,
        "start_time": "2022-02-08T08:26:01.840Z"
      },
      {
        "duration": 27,
        "start_time": "2022-02-08T08:26:02.202Z"
      },
      {
        "duration": 12,
        "start_time": "2022-02-08T08:26:02.231Z"
      },
      {
        "duration": 14,
        "start_time": "2022-02-08T08:26:02.245Z"
      },
      {
        "duration": 20,
        "start_time": "2022-02-08T08:26:02.261Z"
      },
      {
        "duration": 357,
        "start_time": "2022-02-08T08:26:02.284Z"
      },
      {
        "duration": 382,
        "start_time": "2022-02-08T08:26:02.644Z"
      },
      {
        "duration": 39,
        "start_time": "2022-02-08T08:26:03.029Z"
      },
      {
        "duration": 14,
        "start_time": "2022-02-08T08:26:03.070Z"
      },
      {
        "duration": 40,
        "start_time": "2022-02-08T08:26:03.087Z"
      },
      {
        "duration": 11,
        "start_time": "2022-02-08T08:26:03.130Z"
      },
      {
        "duration": 10,
        "start_time": "2022-02-08T08:26:03.144Z"
      },
      {
        "duration": 10,
        "start_time": "2022-02-08T08:26:03.156Z"
      },
      {
        "duration": 68,
        "start_time": "2022-02-08T08:26:03.173Z"
      },
      {
        "duration": 12,
        "start_time": "2022-02-08T08:26:03.244Z"
      },
      {
        "duration": 13,
        "start_time": "2022-02-08T08:26:03.259Z"
      },
      {
        "duration": 334,
        "start_time": "2022-02-08T08:26:03.274Z"
      },
      {
        "duration": 18,
        "start_time": "2022-02-08T08:26:03.610Z"
      },
      {
        "duration": 9,
        "start_time": "2022-02-08T08:27:59.450Z"
      },
      {
        "duration": 328,
        "start_time": "2022-02-08T08:28:00.886Z"
      },
      {
        "duration": 10,
        "start_time": "2022-02-08T08:28:21.202Z"
      },
      {
        "duration": 382,
        "start_time": "2022-02-08T08:28:22.491Z"
      },
      {
        "duration": 7,
        "start_time": "2022-02-08T08:30:04.899Z"
      },
      {
        "duration": 272,
        "start_time": "2022-02-08T08:30:06.031Z"
      },
      {
        "duration": 17,
        "start_time": "2022-02-08T08:30:31.815Z"
      },
      {
        "duration": 14,
        "start_time": "2022-02-08T08:31:02.019Z"
      },
      {
        "duration": 5,
        "start_time": "2022-02-08T08:31:08.226Z"
      },
      {
        "duration": 115,
        "start_time": "2022-02-08T08:31:08.234Z"
      },
      {
        "duration": 23,
        "start_time": "2022-02-08T08:31:08.352Z"
      },
      {
        "duration": 48,
        "start_time": "2022-02-08T08:31:08.378Z"
      },
      {
        "duration": 30,
        "start_time": "2022-02-08T08:31:08.429Z"
      },
      {
        "duration": 6,
        "start_time": "2022-02-08T08:31:08.462Z"
      },
      {
        "duration": 7,
        "start_time": "2022-02-08T08:31:08.471Z"
      },
      {
        "duration": 56,
        "start_time": "2022-02-08T08:31:08.481Z"
      },
      {
        "duration": 8,
        "start_time": "2022-02-08T08:31:08.539Z"
      },
      {
        "duration": 14,
        "start_time": "2022-02-08T08:31:08.550Z"
      },
      {
        "duration": 10,
        "start_time": "2022-02-08T08:31:08.566Z"
      },
      {
        "duration": 326,
        "start_time": "2022-02-08T08:31:08.624Z"
      },
      {
        "duration": 9,
        "start_time": "2022-02-08T08:31:08.952Z"
      },
      {
        "duration": 23,
        "start_time": "2022-02-08T08:31:08.968Z"
      },
      {
        "duration": 372,
        "start_time": "2022-02-08T08:31:08.995Z"
      },
      {
        "duration": 20,
        "start_time": "2022-02-08T08:31:09.370Z"
      },
      {
        "duration": 33,
        "start_time": "2022-02-08T08:31:09.393Z"
      },
      {
        "duration": 16,
        "start_time": "2022-02-08T08:31:09.429Z"
      },
      {
        "duration": 21,
        "start_time": "2022-02-08T08:31:09.447Z"
      },
      {
        "duration": 9,
        "start_time": "2022-02-08T08:31:09.470Z"
      },
      {
        "duration": 388,
        "start_time": "2022-02-08T08:31:09.481Z"
      },
      {
        "duration": 18,
        "start_time": "2022-02-08T08:31:09.873Z"
      },
      {
        "duration": 321,
        "start_time": "2022-02-08T08:31:09.894Z"
      },
      {
        "duration": 36,
        "start_time": "2022-02-08T08:31:10.223Z"
      },
      {
        "duration": 11,
        "start_time": "2022-02-08T08:31:10.261Z"
      },
      {
        "duration": 8,
        "start_time": "2022-02-08T08:31:10.274Z"
      },
      {
        "duration": 43,
        "start_time": "2022-02-08T08:31:10.285Z"
      },
      {
        "duration": 10,
        "start_time": "2022-02-08T08:31:10.330Z"
      },
      {
        "duration": 10,
        "start_time": "2022-02-08T08:31:10.342Z"
      },
      {
        "duration": 31,
        "start_time": "2022-02-08T08:31:10.355Z"
      },
      {
        "duration": 15,
        "start_time": "2022-02-08T08:31:10.425Z"
      },
      {
        "duration": 11,
        "start_time": "2022-02-08T08:31:10.443Z"
      },
      {
        "duration": 489,
        "start_time": "2022-02-08T08:31:10.457Z"
      },
      {
        "duration": 16,
        "start_time": "2022-02-08T08:31:10.949Z"
      },
      {
        "duration": 10,
        "start_time": "2022-02-08T09:32:33.241Z"
      },
      {
        "duration": 324,
        "start_time": "2022-02-08T09:32:34.934Z"
      },
      {
        "duration": 9,
        "start_time": "2022-02-08T09:47:16.236Z"
      },
      {
        "duration": 365,
        "start_time": "2022-02-08T09:47:18.344Z"
      },
      {
        "duration": 318,
        "start_time": "2022-02-08T10:20:04.264Z"
      },
      {
        "duration": 9,
        "start_time": "2022-02-08T10:20:38.042Z"
      },
      {
        "duration": 271,
        "start_time": "2022-02-08T10:20:39.883Z"
      },
      {
        "duration": 9,
        "start_time": "2022-02-08T10:21:07.605Z"
      },
      {
        "duration": 271,
        "start_time": "2022-02-08T10:21:08.846Z"
      },
      {
        "duration": 3,
        "start_time": "2022-02-08T10:21:14.339Z"
      },
      {
        "duration": 80,
        "start_time": "2022-02-08T10:21:14.349Z"
      },
      {
        "duration": 14,
        "start_time": "2022-02-08T10:21:14.432Z"
      },
      {
        "duration": 19,
        "start_time": "2022-02-08T10:21:14.449Z"
      },
      {
        "duration": 52,
        "start_time": "2022-02-08T10:21:14.471Z"
      },
      {
        "duration": 6,
        "start_time": "2022-02-08T10:21:14.525Z"
      },
      {
        "duration": 7,
        "start_time": "2022-02-08T10:21:14.534Z"
      },
      {
        "duration": 21,
        "start_time": "2022-02-08T10:21:14.544Z"
      },
      {
        "duration": 56,
        "start_time": "2022-02-08T10:21:14.571Z"
      },
      {
        "duration": 21,
        "start_time": "2022-02-08T10:21:14.631Z"
      },
      {
        "duration": 10,
        "start_time": "2022-02-08T10:21:14.655Z"
      },
      {
        "duration": 342,
        "start_time": "2022-02-08T10:21:14.668Z"
      },
      {
        "duration": 16,
        "start_time": "2022-02-08T10:21:15.013Z"
      },
      {
        "duration": 25,
        "start_time": "2022-02-08T10:21:15.031Z"
      },
      {
        "duration": 342,
        "start_time": "2022-02-08T10:21:15.059Z"
      },
      {
        "duration": 26,
        "start_time": "2022-02-08T10:21:15.403Z"
      },
      {
        "duration": 8,
        "start_time": "2022-02-08T10:21:15.431Z"
      },
      {
        "duration": 13,
        "start_time": "2022-02-08T10:21:15.441Z"
      },
      {
        "duration": 20,
        "start_time": "2022-02-08T10:21:15.457Z"
      },
      {
        "duration": 44,
        "start_time": "2022-02-08T10:21:15.480Z"
      },
      {
        "duration": 380,
        "start_time": "2022-02-08T10:21:15.527Z"
      },
      {
        "duration": 21,
        "start_time": "2022-02-08T10:21:15.910Z"
      },
      {
        "duration": 308,
        "start_time": "2022-02-08T10:21:15.933Z"
      },
      {
        "duration": 52,
        "start_time": "2022-02-08T10:21:16.248Z"
      },
      {
        "duration": 11,
        "start_time": "2022-02-08T10:21:16.324Z"
      },
      {
        "duration": 11,
        "start_time": "2022-02-08T10:21:16.337Z"
      },
      {
        "duration": 12,
        "start_time": "2022-02-08T10:21:16.351Z"
      },
      {
        "duration": 10,
        "start_time": "2022-02-08T10:21:16.366Z"
      },
      {
        "duration": 12,
        "start_time": "2022-02-08T10:21:16.424Z"
      },
      {
        "duration": 23,
        "start_time": "2022-02-08T10:21:16.438Z"
      },
      {
        "duration": 10,
        "start_time": "2022-02-08T10:21:16.463Z"
      },
      {
        "duration": 9,
        "start_time": "2022-02-08T10:21:16.475Z"
      },
      {
        "duration": 481,
        "start_time": "2022-02-08T10:21:16.487Z"
      },
      {
        "duration": 16,
        "start_time": "2022-02-08T10:21:16.971Z"
      },
      {
        "duration": 8,
        "start_time": "2022-02-08T10:50:07.087Z"
      },
      {
        "duration": 308,
        "start_time": "2022-02-08T10:50:08.070Z"
      },
      {
        "duration": 651,
        "start_time": "2022-02-08T10:51:31.621Z"
      },
      {
        "duration": 8,
        "start_time": "2022-02-08T10:52:27.619Z"
      },
      {
        "duration": 561,
        "start_time": "2022-02-08T10:52:38.394Z"
      },
      {
        "duration": 585,
        "start_time": "2022-02-08T10:52:55.443Z"
      },
      {
        "duration": 316,
        "start_time": "2022-02-08T10:52:59.095Z"
      },
      {
        "duration": 18,
        "start_time": "2022-02-08T10:53:06.314Z"
      },
      {
        "duration": 8872,
        "start_time": "2022-02-08T10:54:21.587Z"
      },
      {
        "duration": 1841,
        "start_time": "2022-02-08T10:54:41.412Z"
      },
      {
        "duration": 283,
        "start_time": "2022-02-08T10:54:47.119Z"
      },
      {
        "duration": 18,
        "start_time": "2022-02-08T10:54:53.568Z"
      },
      {
        "duration": 96,
        "start_time": "2022-02-08T10:59:10.053Z"
      },
      {
        "duration": 4,
        "start_time": "2022-02-08T10:59:27.089Z"
      },
      {
        "duration": 4,
        "start_time": "2022-02-08T10:59:32.695Z"
      },
      {
        "duration": 13,
        "start_time": "2022-02-08T11:00:12.271Z"
      },
      {
        "duration": 284,
        "start_time": "2022-02-08T11:00:14.163Z"
      },
      {
        "duration": 19,
        "start_time": "2022-02-08T11:00:30.009Z"
      },
      {
        "duration": 1995,
        "start_time": "2022-02-08T11:01:08.880Z"
      },
      {
        "duration": 2768,
        "start_time": "2022-02-08T11:01:08.110Z"
      },
      {
        "duration": 4,
        "start_time": "2022-02-08T11:01:23.086Z"
      },
      {
        "duration": 75,
        "start_time": "2022-02-08T11:01:23.096Z"
      },
      {
        "duration": 14,
        "start_time": "2022-02-08T11:01:23.174Z"
      },
      {
        "duration": 33,
        "start_time": "2022-02-08T11:01:23.192Z"
      },
      {
        "duration": 19,
        "start_time": "2022-02-08T11:01:23.229Z"
      },
      {
        "duration": 7,
        "start_time": "2022-02-08T11:01:23.251Z"
      },
      {
        "duration": 10,
        "start_time": "2022-02-08T11:01:23.261Z"
      },
      {
        "duration": 62,
        "start_time": "2022-02-08T11:01:23.273Z"
      },
      {
        "duration": 7,
        "start_time": "2022-02-08T11:01:23.338Z"
      },
      {
        "duration": 13,
        "start_time": "2022-02-08T11:01:23.349Z"
      },
      {
        "duration": 13,
        "start_time": "2022-02-08T11:01:23.365Z"
      },
      {
        "duration": 332,
        "start_time": "2022-02-08T11:01:23.381Z"
      },
      {
        "duration": 14,
        "start_time": "2022-02-08T11:01:23.715Z"
      },
      {
        "duration": 19,
        "start_time": "2022-02-08T11:01:23.731Z"
      },
      {
        "duration": 457,
        "start_time": "2022-02-08T11:01:23.753Z"
      },
      {
        "duration": 22,
        "start_time": "2022-02-08T11:01:24.213Z"
      },
      {
        "duration": 9,
        "start_time": "2022-02-08T11:01:24.237Z"
      },
      {
        "duration": 14,
        "start_time": "2022-02-08T11:01:24.249Z"
      },
      {
        "duration": 60,
        "start_time": "2022-02-08T11:01:24.265Z"
      },
      {
        "duration": 4,
        "start_time": "2022-02-08T11:01:24.327Z"
      },
      {
        "duration": 14,
        "start_time": "2022-02-08T11:01:24.334Z"
      },
      {
        "duration": 333,
        "start_time": "2022-02-08T11:01:24.350Z"
      },
      {
        "duration": 19,
        "start_time": "2022-02-08T11:01:24.686Z"
      },
      {
        "duration": 305,
        "start_time": "2022-02-08T11:01:24.723Z"
      },
      {
        "duration": 36,
        "start_time": "2022-02-08T11:01:25.031Z"
      },
      {
        "duration": 14,
        "start_time": "2022-02-08T11:01:25.070Z"
      },
      {
        "duration": 42,
        "start_time": "2022-02-08T11:01:25.087Z"
      },
      {
        "duration": 10,
        "start_time": "2022-02-08T11:01:25.136Z"
      },
      {
        "duration": 9,
        "start_time": "2022-02-08T11:01:25.149Z"
      },
      {
        "duration": 10,
        "start_time": "2022-02-08T11:01:25.160Z"
      },
      {
        "duration": 64,
        "start_time": "2022-02-08T11:01:25.173Z"
      },
      {
        "duration": 11,
        "start_time": "2022-02-08T11:01:25.239Z"
      },
      {
        "duration": 9,
        "start_time": "2022-02-08T11:01:25.253Z"
      },
      {
        "duration": 331,
        "start_time": "2022-02-08T11:01:25.266Z"
      },
      {
        "duration": 12,
        "start_time": "2022-02-08T11:01:25.600Z"
      },
      {
        "duration": 18,
        "start_time": "2022-02-08T11:02:11.413Z"
      },
      {
        "duration": 17,
        "start_time": "2022-02-08T11:02:22.175Z"
      },
      {
        "duration": 8,
        "start_time": "2022-02-08T16:49:54.061Z"
      },
      {
        "duration": 36,
        "start_time": "2022-02-08T17:09:44.883Z"
      },
      {
        "duration": 283,
        "start_time": "2022-02-08T17:12:05.549Z"
      },
      {
        "duration": 34,
        "start_time": "2022-02-08T17:12:18.851Z"
      },
      {
        "duration": 5,
        "start_time": "2022-02-08T17:13:42.486Z"
      },
      {
        "duration": 7,
        "start_time": "2022-02-08T17:24:27.321Z"
      },
      {
        "duration": 7,
        "start_time": "2022-02-08T17:28:29.454Z"
      },
      {
        "duration": 9,
        "start_time": "2022-02-08T17:28:33.573Z"
      },
      {
        "duration": 4,
        "start_time": "2022-02-08T17:30:27.365Z"
      },
      {
        "duration": 3,
        "start_time": "2022-02-08T17:30:42.352Z"
      },
      {
        "duration": 14,
        "start_time": "2022-02-08T17:31:05.748Z"
      },
      {
        "duration": 14,
        "start_time": "2022-02-08T17:31:32.416Z"
      },
      {
        "duration": 12,
        "start_time": "2022-02-08T17:31:35.628Z"
      },
      {
        "duration": 292,
        "start_time": "2022-02-08T17:31:45.174Z"
      },
      {
        "duration": 7,
        "start_time": "2022-02-08T17:32:18.406Z"
      },
      {
        "duration": 40,
        "start_time": "2022-02-08T17:33:43.901Z"
      },
      {
        "duration": 27,
        "start_time": "2022-02-08T17:33:59.391Z"
      },
      {
        "duration": 21,
        "start_time": "2022-02-08T17:34:47.021Z"
      },
      {
        "duration": 17,
        "start_time": "2022-02-08T17:35:23.378Z"
      },
      {
        "duration": 7,
        "start_time": "2022-02-08T17:36:16.005Z"
      },
      {
        "duration": 9,
        "start_time": "2022-02-08T17:39:05.220Z"
      },
      {
        "duration": 10,
        "start_time": "2022-02-08T17:40:09.670Z"
      },
      {
        "duration": 4,
        "start_time": "2022-02-08T17:40:16.391Z"
      },
      {
        "duration": 72,
        "start_time": "2022-02-08T17:40:16.400Z"
      },
      {
        "duration": 15,
        "start_time": "2022-02-08T17:40:16.475Z"
      },
      {
        "duration": 36,
        "start_time": "2022-02-08T17:40:16.493Z"
      },
      {
        "duration": 23,
        "start_time": "2022-02-08T17:40:16.532Z"
      },
      {
        "duration": 7,
        "start_time": "2022-02-08T17:40:16.558Z"
      },
      {
        "duration": 58,
        "start_time": "2022-02-08T17:40:16.568Z"
      },
      {
        "duration": 15,
        "start_time": "2022-02-08T17:40:16.629Z"
      },
      {
        "duration": 9,
        "start_time": "2022-02-08T17:40:16.648Z"
      },
      {
        "duration": 20,
        "start_time": "2022-02-08T17:40:16.660Z"
      },
      {
        "duration": 51,
        "start_time": "2022-02-08T17:40:16.683Z"
      },
      {
        "duration": 342,
        "start_time": "2022-02-08T17:40:16.737Z"
      },
      {
        "duration": 10,
        "start_time": "2022-02-08T17:40:17.082Z"
      },
      {
        "duration": 34,
        "start_time": "2022-02-08T17:40:17.094Z"
      },
      {
        "duration": 353,
        "start_time": "2022-02-08T17:40:17.131Z"
      },
      {
        "duration": 19,
        "start_time": "2022-02-08T17:40:17.487Z"
      },
      {
        "duration": 6,
        "start_time": "2022-02-08T17:40:17.523Z"
      },
      {
        "duration": 13,
        "start_time": "2022-02-08T17:40:17.531Z"
      },
      {
        "duration": 20,
        "start_time": "2022-02-08T17:40:17.547Z"
      },
      {
        "duration": 3,
        "start_time": "2022-02-08T17:40:17.569Z"
      },
      {
        "duration": 58,
        "start_time": "2022-02-08T17:40:17.575Z"
      },
      {
        "duration": 319,
        "start_time": "2022-02-08T17:40:17.636Z"
      },
      {
        "duration": 18,
        "start_time": "2022-02-08T17:40:17.957Z"
      },
      {
        "duration": 8,
        "start_time": "2022-02-08T17:40:17.980Z"
      },
      {
        "duration": 64,
        "start_time": "2022-02-08T17:40:17.991Z"
      },
      {
        "duration": 8,
        "start_time": "2022-02-08T17:40:18.058Z"
      },
      {
        "duration": 3,
        "start_time": "2022-02-08T17:40:18.068Z"
      },
      {
        "duration": 17,
        "start_time": "2022-02-08T17:40:18.073Z"
      },
      {
        "duration": 39,
        "start_time": "2022-02-08T17:40:18.092Z"
      },
      {
        "duration": 8,
        "start_time": "2022-02-08T17:40:18.134Z"
      },
      {
        "duration": 9,
        "start_time": "2022-02-08T17:40:18.144Z"
      },
      {
        "duration": 11,
        "start_time": "2022-02-08T17:40:18.156Z"
      },
      {
        "duration": 9,
        "start_time": "2022-02-08T17:40:18.170Z"
      },
      {
        "duration": 13,
        "start_time": "2022-02-08T17:40:18.224Z"
      },
      {
        "duration": 27,
        "start_time": "2022-02-08T17:40:18.240Z"
      },
      {
        "duration": 12,
        "start_time": "2022-02-08T17:40:18.270Z"
      },
      {
        "duration": 45,
        "start_time": "2022-02-08T17:40:18.285Z"
      },
      {
        "duration": 312,
        "start_time": "2022-02-08T17:40:18.332Z"
      },
      {
        "duration": 11,
        "start_time": "2022-02-08T17:40:18.646Z"
      },
      {
        "duration": 39,
        "start_time": "2022-02-08T17:44:20.448Z"
      },
      {
        "duration": 10,
        "start_time": "2022-02-08T17:45:03.183Z"
      },
      {
        "duration": 9,
        "start_time": "2022-02-08T17:45:55.782Z"
      },
      {
        "duration": 11,
        "start_time": "2022-02-08T17:46:08.462Z"
      },
      {
        "duration": 9,
        "start_time": "2022-02-08T17:46:10.851Z"
      },
      {
        "duration": 3,
        "start_time": "2022-02-08T17:46:24.009Z"
      },
      {
        "duration": 69,
        "start_time": "2022-02-08T17:46:24.017Z"
      },
      {
        "duration": 14,
        "start_time": "2022-02-08T17:46:24.089Z"
      },
      {
        "duration": 12,
        "start_time": "2022-02-08T17:46:24.124Z"
      },
      {
        "duration": 20,
        "start_time": "2022-02-08T17:46:24.139Z"
      },
      {
        "duration": 6,
        "start_time": "2022-02-08T17:46:24.161Z"
      },
      {
        "duration": 9,
        "start_time": "2022-02-08T17:46:24.169Z"
      },
      {
        "duration": 16,
        "start_time": "2022-02-08T17:46:24.224Z"
      },
      {
        "duration": 8,
        "start_time": "2022-02-08T17:46:24.244Z"
      },
      {
        "duration": 19,
        "start_time": "2022-02-08T17:46:24.254Z"
      },
      {
        "duration": 10,
        "start_time": "2022-02-08T17:46:24.276Z"
      },
      {
        "duration": 356,
        "start_time": "2022-02-08T17:46:24.324Z"
      },
      {
        "duration": 13,
        "start_time": "2022-02-08T17:46:24.682Z"
      },
      {
        "duration": 38,
        "start_time": "2022-02-08T17:46:24.698Z"
      },
      {
        "duration": 379,
        "start_time": "2022-02-08T17:46:24.738Z"
      },
      {
        "duration": 21,
        "start_time": "2022-02-08T17:46:25.120Z"
      },
      {
        "duration": 9,
        "start_time": "2022-02-08T17:46:25.145Z"
      },
      {
        "duration": 16,
        "start_time": "2022-02-08T17:46:25.157Z"
      },
      {
        "duration": 66,
        "start_time": "2022-02-08T17:46:25.176Z"
      },
      {
        "duration": 4,
        "start_time": "2022-02-08T17:46:25.244Z"
      },
      {
        "duration": 14,
        "start_time": "2022-02-08T17:46:25.250Z"
      },
      {
        "duration": 336,
        "start_time": "2022-02-08T17:46:25.267Z"
      },
      {
        "duration": 31,
        "start_time": "2022-02-08T17:46:25.605Z"
      },
      {
        "duration": 9,
        "start_time": "2022-02-08T17:46:25.641Z"
      },
      {
        "duration": 15,
        "start_time": "2022-02-08T17:46:25.653Z"
      },
      {
        "duration": 7,
        "start_time": "2022-02-08T17:46:25.670Z"
      },
      {
        "duration": 44,
        "start_time": "2022-02-08T17:46:25.679Z"
      },
      {
        "duration": 14,
        "start_time": "2022-02-08T17:46:25.725Z"
      },
      {
        "duration": 12,
        "start_time": "2022-02-08T17:46:25.741Z"
      },
      {
        "duration": 10,
        "start_time": "2022-02-08T17:46:25.755Z"
      },
      {
        "duration": 9,
        "start_time": "2022-02-08T17:46:25.767Z"
      },
      {
        "duration": 52,
        "start_time": "2022-02-08T17:46:25.779Z"
      },
      {
        "duration": 11,
        "start_time": "2022-02-08T17:46:25.835Z"
      },
      {
        "duration": 9,
        "start_time": "2022-02-08T17:46:25.848Z"
      },
      {
        "duration": 21,
        "start_time": "2022-02-08T17:46:25.859Z"
      },
      {
        "duration": 45,
        "start_time": "2022-02-08T17:46:25.882Z"
      },
      {
        "duration": 10,
        "start_time": "2022-02-08T17:46:25.930Z"
      },
      {
        "duration": 325,
        "start_time": "2022-02-08T17:46:25.943Z"
      },
      {
        "duration": 11,
        "start_time": "2022-02-08T17:46:26.270Z"
      },
      {
        "duration": 19,
        "start_time": "2022-02-08T17:47:16.998Z"
      },
      {
        "duration": 3,
        "start_time": "2022-02-08T17:47:23.002Z"
      },
      {
        "duration": 78,
        "start_time": "2022-02-08T17:47:23.010Z"
      },
      {
        "duration": 35,
        "start_time": "2022-02-08T17:47:23.091Z"
      },
      {
        "duration": 13,
        "start_time": "2022-02-08T17:47:23.129Z"
      },
      {
        "duration": 22,
        "start_time": "2022-02-08T17:47:23.145Z"
      },
      {
        "duration": 8,
        "start_time": "2022-02-08T17:47:23.170Z"
      },
      {
        "duration": 7,
        "start_time": "2022-02-08T17:47:23.224Z"
      },
      {
        "duration": 18,
        "start_time": "2022-02-08T17:47:23.233Z"
      },
      {
        "duration": 9,
        "start_time": "2022-02-08T17:47:23.256Z"
      },
      {
        "duration": 64,
        "start_time": "2022-02-08T17:47:23.269Z"
      },
      {
        "duration": 11,
        "start_time": "2022-02-08T17:47:23.335Z"
      },
      {
        "duration": 347,
        "start_time": "2022-02-08T17:47:23.348Z"
      },
      {
        "duration": 13,
        "start_time": "2022-02-08T17:47:23.699Z"
      },
      {
        "duration": 19,
        "start_time": "2022-02-08T17:47:23.724Z"
      },
      {
        "duration": 338,
        "start_time": "2022-02-08T17:47:23.746Z"
      },
      {
        "duration": 18,
        "start_time": "2022-02-08T17:47:24.087Z"
      },
      {
        "duration": 21,
        "start_time": "2022-02-08T17:47:24.107Z"
      },
      {
        "duration": 15,
        "start_time": "2022-02-08T17:47:24.131Z"
      },
      {
        "duration": 21,
        "start_time": "2022-02-08T17:47:24.149Z"
      },
      {
        "duration": 14,
        "start_time": "2022-02-08T17:47:24.172Z"
      },
      {
        "duration": 46,
        "start_time": "2022-02-08T17:47:24.188Z"
      },
      {
        "duration": 476,
        "start_time": "2022-02-08T17:47:24.237Z"
      },
      {
        "duration": 23,
        "start_time": "2022-02-08T17:47:24.715Z"
      },
      {
        "duration": 16,
        "start_time": "2022-02-08T17:47:24.743Z"
      },
      {
        "duration": 63,
        "start_time": "2022-02-08T17:47:24.762Z"
      },
      {
        "duration": 15,
        "start_time": "2022-02-08T17:47:24.827Z"
      },
      {
        "duration": 14,
        "start_time": "2022-02-08T17:47:24.845Z"
      },
      {
        "duration": 25,
        "start_time": "2022-02-08T17:47:24.862Z"
      },
      {
        "duration": 19,
        "start_time": "2022-02-08T17:47:24.890Z"
      },
      {
        "duration": 14,
        "start_time": "2022-02-08T17:47:24.911Z"
      },
      {
        "duration": 9,
        "start_time": "2022-02-08T17:47:24.928Z"
      },
      {
        "duration": 13,
        "start_time": "2022-02-08T17:47:24.939Z"
      },
      {
        "duration": 16,
        "start_time": "2022-02-08T17:47:24.955Z"
      },
      {
        "duration": 19,
        "start_time": "2022-02-08T17:47:24.973Z"
      },
      {
        "duration": 21,
        "start_time": "2022-02-08T17:47:25.024Z"
      },
      {
        "duration": 16,
        "start_time": "2022-02-08T17:47:25.047Z"
      },
      {
        "duration": 21,
        "start_time": "2022-02-08T17:47:25.066Z"
      },
      {
        "duration": 328,
        "start_time": "2022-02-08T17:47:25.090Z"
      },
      {
        "duration": 14,
        "start_time": "2022-02-08T17:47:25.424Z"
      },
      {
        "duration": 293,
        "start_time": "2022-02-08T17:49:52.135Z"
      },
      {
        "duration": 10,
        "start_time": "2022-02-08T17:53:26.553Z"
      },
      {
        "duration": 286,
        "start_time": "2022-02-08T17:57:57.344Z"
      },
      {
        "duration": 17,
        "start_time": "2022-02-08T18:00:48.712Z"
      },
      {
        "duration": 17,
        "start_time": "2022-02-08T18:00:58.897Z"
      },
      {
        "duration": 18,
        "start_time": "2022-02-08T18:01:09.507Z"
      },
      {
        "duration": 11,
        "start_time": "2022-02-08T18:03:35.165Z"
      },
      {
        "duration": 12,
        "start_time": "2022-02-08T18:07:29.278Z"
      },
      {
        "duration": 13,
        "start_time": "2022-02-08T18:14:51.051Z"
      },
      {
        "duration": 27,
        "start_time": "2022-02-08T18:15:02.447Z"
      },
      {
        "duration": 6,
        "start_time": "2022-02-09T05:48:31.313Z"
      },
      {
        "duration": 10,
        "start_time": "2022-02-09T05:48:41.481Z"
      },
      {
        "duration": 25,
        "start_time": "2022-02-09T05:55:46.929Z"
      },
      {
        "duration": 25,
        "start_time": "2022-02-09T05:55:49.413Z"
      },
      {
        "duration": 27,
        "start_time": "2022-02-09T05:59:22.372Z"
      },
      {
        "duration": 24,
        "start_time": "2022-02-09T05:59:33.790Z"
      },
      {
        "duration": 4,
        "start_time": "2022-02-09T06:13:50.402Z"
      },
      {
        "duration": 5,
        "start_time": "2022-02-09T06:14:14.669Z"
      },
      {
        "duration": 20,
        "start_time": "2022-02-09T06:14:26.933Z"
      },
      {
        "duration": 16,
        "start_time": "2022-02-09T06:14:52.188Z"
      },
      {
        "duration": 282,
        "start_time": "2022-02-09T06:16:04.709Z"
      },
      {
        "duration": 17,
        "start_time": "2022-02-09T06:16:12.416Z"
      },
      {
        "duration": 5,
        "start_time": "2022-02-09T06:16:41.800Z"
      },
      {
        "duration": 4,
        "start_time": "2022-02-09T06:16:47.975Z"
      },
      {
        "duration": 15,
        "start_time": "2022-02-09T06:17:00.258Z"
      },
      {
        "duration": 3,
        "start_time": "2022-02-09T06:17:46.059Z"
      },
      {
        "duration": 70,
        "start_time": "2022-02-09T06:17:46.068Z"
      },
      {
        "duration": 15,
        "start_time": "2022-02-09T06:17:46.141Z"
      },
      {
        "duration": 12,
        "start_time": "2022-02-09T06:17:46.159Z"
      },
      {
        "duration": 61,
        "start_time": "2022-02-09T06:17:46.173Z"
      },
      {
        "duration": 6,
        "start_time": "2022-02-09T06:17:46.236Z"
      },
      {
        "duration": 7,
        "start_time": "2022-02-09T06:17:46.244Z"
      },
      {
        "duration": 15,
        "start_time": "2022-02-09T06:17:46.253Z"
      },
      {
        "duration": 56,
        "start_time": "2022-02-09T06:17:46.272Z"
      },
      {
        "duration": 13,
        "start_time": "2022-02-09T06:17:46.332Z"
      },
      {
        "duration": 11,
        "start_time": "2022-02-09T06:17:46.348Z"
      },
      {
        "duration": 386,
        "start_time": "2022-02-09T06:17:46.361Z"
      },
      {
        "duration": 10,
        "start_time": "2022-02-09T06:17:46.749Z"
      },
      {
        "duration": 21,
        "start_time": "2022-02-09T06:17:46.761Z"
      },
      {
        "duration": 355,
        "start_time": "2022-02-09T06:17:46.784Z"
      },
      {
        "duration": 19,
        "start_time": "2022-02-09T06:17:47.141Z"
      },
      {
        "duration": 9,
        "start_time": "2022-02-09T06:17:47.163Z"
      },
      {
        "duration": 49,
        "start_time": "2022-02-09T06:17:47.175Z"
      },
      {
        "duration": 21,
        "start_time": "2022-02-09T06:17:47.226Z"
      },
      {
        "duration": 4,
        "start_time": "2022-02-09T06:17:47.250Z"
      },
      {
        "duration": 15,
        "start_time": "2022-02-09T06:17:47.257Z"
      },
      {
        "duration": 331,
        "start_time": "2022-02-09T06:17:47.274Z"
      },
      {
        "duration": 21,
        "start_time": "2022-02-09T06:17:47.608Z"
      },
      {
        "duration": 8,
        "start_time": "2022-02-09T06:17:47.635Z"
      },
      {
        "duration": 36,
        "start_time": "2022-02-09T06:17:47.647Z"
      },
      {
        "duration": 41,
        "start_time": "2022-02-09T06:17:47.685Z"
      },
      {
        "duration": 7,
        "start_time": "2022-02-09T06:17:47.729Z"
      },
      {
        "duration": 17,
        "start_time": "2022-02-09T06:17:47.738Z"
      },
      {
        "duration": 9,
        "start_time": "2022-02-09T06:17:47.757Z"
      },
      {
        "duration": 343,
        "start_time": "2022-02-09T06:17:47.768Z"
      },
      {
        "duration": 14,
        "start_time": "2022-02-09T06:17:48.113Z"
      },
      {
        "duration": 15,
        "start_time": "2022-02-09T06:17:48.130Z"
      },
      {
        "duration": 12,
        "start_time": "2022-02-09T06:17:48.148Z"
      },
      {
        "duration": 9,
        "start_time": "2022-02-09T06:17:48.163Z"
      },
      {
        "duration": 50,
        "start_time": "2022-02-09T06:17:48.175Z"
      },
      {
        "duration": 10,
        "start_time": "2022-02-09T06:17:48.229Z"
      },
      {
        "duration": 12,
        "start_time": "2022-02-09T06:17:48.241Z"
      },
      {
        "duration": 22,
        "start_time": "2022-02-09T06:17:48.255Z"
      },
      {
        "duration": 45,
        "start_time": "2022-02-09T06:17:48.279Z"
      },
      {
        "duration": 14,
        "start_time": "2022-02-09T06:17:48.327Z"
      },
      {
        "duration": 14,
        "start_time": "2022-02-09T06:17:48.343Z"
      },
      {
        "duration": 10,
        "start_time": "2022-02-09T06:17:48.360Z"
      },
      {
        "duration": 340,
        "start_time": "2022-02-09T06:17:48.372Z"
      },
      {
        "duration": 16,
        "start_time": "2022-02-09T06:17:48.715Z"
      },
      {
        "duration": 6,
        "start_time": "2022-02-09T06:17:48.733Z"
      },
      {
        "duration": 5,
        "start_time": "2022-02-09T06:17:48.742Z"
      },
      {
        "duration": 9,
        "start_time": "2022-02-09T06:17:48.750Z"
      },
      {
        "duration": 22,
        "start_time": "2022-02-09T06:17:48.762Z"
      },
      {
        "duration": 29,
        "start_time": "2022-02-09T06:17:48.823Z"
      },
      {
        "duration": 27,
        "start_time": "2022-02-09T06:17:48.855Z"
      },
      {
        "duration": 61,
        "start_time": "2022-02-09T06:17:48.885Z"
      },
      {
        "duration": 6,
        "start_time": "2022-02-09T06:24:22.256Z"
      },
      {
        "duration": 14,
        "start_time": "2022-02-09T06:24:31.628Z"
      },
      {
        "duration": 105,
        "start_time": "2022-02-09T06:25:43.049Z"
      },
      {
        "duration": 17,
        "start_time": "2022-02-09T06:25:50.360Z"
      },
      {
        "duration": 16,
        "start_time": "2022-02-09T06:27:23.403Z"
      },
      {
        "duration": 18,
        "start_time": "2022-02-09T06:33:08.237Z"
      },
      {
        "duration": 17,
        "start_time": "2022-02-09T06:33:17.816Z"
      },
      {
        "duration": 5,
        "start_time": "2022-02-09T06:50:49.415Z"
      },
      {
        "duration": 17,
        "start_time": "2022-02-09T06:50:51.331Z"
      },
      {
        "duration": 8522,
        "start_time": "2022-02-09T06:50:58.081Z"
      },
      {
        "duration": 6,
        "start_time": "2022-02-09T06:51:42.401Z"
      },
      {
        "duration": 168,
        "start_time": "2022-02-09T06:51:42.412Z"
      },
      {
        "duration": 46,
        "start_time": "2022-02-09T06:51:42.586Z"
      },
      {
        "duration": 14,
        "start_time": "2022-02-09T06:51:42.635Z"
      },
      {
        "duration": 19,
        "start_time": "2022-02-09T06:51:42.652Z"
      },
      {
        "duration": 8,
        "start_time": "2022-02-09T06:51:42.674Z"
      },
      {
        "duration": 7,
        "start_time": "2022-02-09T06:51:42.726Z"
      },
      {
        "duration": 16,
        "start_time": "2022-02-09T06:51:42.736Z"
      },
      {
        "duration": 10,
        "start_time": "2022-02-09T06:51:42.755Z"
      },
      {
        "duration": 69,
        "start_time": "2022-02-09T06:51:42.768Z"
      },
      {
        "duration": 13,
        "start_time": "2022-02-09T06:51:42.840Z"
      },
      {
        "duration": 397,
        "start_time": "2022-02-09T06:51:42.856Z"
      },
      {
        "duration": 13,
        "start_time": "2022-02-09T06:51:43.257Z"
      },
      {
        "duration": 51,
        "start_time": "2022-02-09T06:51:43.273Z"
      },
      {
        "duration": 352,
        "start_time": "2022-02-09T06:51:43.328Z"
      },
      {
        "duration": 19,
        "start_time": "2022-02-09T06:51:43.683Z"
      },
      {
        "duration": 9,
        "start_time": "2022-02-09T06:51:43.725Z"
      },
      {
        "duration": 18,
        "start_time": "2022-02-09T06:51:43.737Z"
      },
      {
        "duration": 62,
        "start_time": "2022-02-09T06:51:43.763Z"
      },
      {
        "duration": 4,
        "start_time": "2022-02-09T06:51:43.831Z"
      },
      {
        "duration": 15,
        "start_time": "2022-02-09T06:51:43.838Z"
      },
      {
        "duration": 358,
        "start_time": "2022-02-09T06:51:43.856Z"
      },
      {
        "duration": 21,
        "start_time": "2022-02-09T06:51:44.224Z"
      },
      {
        "duration": 13,
        "start_time": "2022-02-09T06:51:44.249Z"
      },
      {
        "duration": 79,
        "start_time": "2022-02-09T06:51:44.265Z"
      },
      {
        "duration": 9,
        "start_time": "2022-02-09T06:51:44.347Z"
      },
      {
        "duration": 5,
        "start_time": "2022-02-09T06:51:44.359Z"
      },
      {
        "duration": 59,
        "start_time": "2022-02-09T06:51:44.368Z"
      },
      {
        "duration": 14,
        "start_time": "2022-02-09T06:51:44.430Z"
      },
      {
        "duration": 340,
        "start_time": "2022-02-09T06:51:44.447Z"
      },
      {
        "duration": 11,
        "start_time": "2022-02-09T06:51:44.789Z"
      },
      {
        "duration": 32,
        "start_time": "2022-02-09T06:51:44.803Z"
      },
      {
        "duration": 22,
        "start_time": "2022-02-09T06:51:44.838Z"
      },
      {
        "duration": 16,
        "start_time": "2022-02-09T06:51:44.862Z"
      },
      {
        "duration": 12,
        "start_time": "2022-02-09T06:51:44.880Z"
      },
      {
        "duration": 34,
        "start_time": "2022-02-09T06:51:44.894Z"
      },
      {
        "duration": 12,
        "start_time": "2022-02-09T06:51:44.931Z"
      },
      {
        "duration": 23,
        "start_time": "2022-02-09T06:51:44.945Z"
      },
      {
        "duration": 6,
        "start_time": "2022-02-09T06:51:44.970Z"
      },
      {
        "duration": 49,
        "start_time": "2022-02-09T06:51:44.979Z"
      },
      {
        "duration": 13,
        "start_time": "2022-02-09T06:51:45.030Z"
      },
      {
        "duration": 9,
        "start_time": "2022-02-09T06:51:45.046Z"
      },
      {
        "duration": 335,
        "start_time": "2022-02-09T06:51:45.058Z"
      },
      {
        "duration": 29,
        "start_time": "2022-02-09T06:51:45.395Z"
      },
      {
        "duration": 6,
        "start_time": "2022-02-09T06:51:45.427Z"
      },
      {
        "duration": 10,
        "start_time": "2022-02-09T06:51:45.435Z"
      },
      {
        "duration": 8,
        "start_time": "2022-02-09T06:51:45.447Z"
      },
      {
        "duration": 19,
        "start_time": "2022-02-09T06:51:45.458Z"
      },
      {
        "duration": 67,
        "start_time": "2022-02-09T06:51:45.481Z"
      },
      {
        "duration": 27,
        "start_time": "2022-02-09T06:51:45.551Z"
      },
      {
        "duration": 55,
        "start_time": "2022-02-09T06:51:45.580Z"
      },
      {
        "duration": 19,
        "start_time": "2022-02-09T06:51:45.639Z"
      },
      {
        "duration": 19,
        "start_time": "2022-02-09T06:51:45.661Z"
      },
      {
        "duration": 5,
        "start_time": "2022-02-09T06:51:45.723Z"
      },
      {
        "duration": 5,
        "start_time": "2022-02-09T06:51:45.736Z"
      },
      {
        "duration": 17,
        "start_time": "2022-02-09T06:51:45.744Z"
      },
      {
        "duration": 4,
        "start_time": "2022-02-09T07:02:42.384Z"
      },
      {
        "duration": 14,
        "start_time": "2022-02-09T07:04:33.740Z"
      },
      {
        "duration": 17,
        "start_time": "2022-02-09T07:05:17.004Z"
      },
      {
        "duration": 16,
        "start_time": "2022-02-09T07:05:59.627Z"
      },
      {
        "duration": 5,
        "start_time": "2022-02-09T07:19:31.183Z"
      },
      {
        "duration": 13,
        "start_time": "2022-02-09T07:20:15.354Z"
      },
      {
        "duration": 17,
        "start_time": "2022-02-09T07:20:27.160Z"
      },
      {
        "duration": 20,
        "start_time": "2022-02-09T07:20:42.513Z"
      },
      {
        "duration": 5,
        "start_time": "2022-02-09T07:21:10.603Z"
      },
      {
        "duration": 11,
        "start_time": "2022-02-09T07:21:11.868Z"
      },
      {
        "duration": 21,
        "start_time": "2022-02-09T07:21:12.993Z"
      },
      {
        "duration": 11,
        "start_time": "2022-02-09T07:22:16.186Z"
      },
      {
        "duration": 4,
        "start_time": "2022-02-09T07:23:08.452Z"
      },
      {
        "duration": 10,
        "start_time": "2022-02-09T07:23:09.280Z"
      },
      {
        "duration": 9,
        "start_time": "2022-02-09T07:23:09.997Z"
      },
      {
        "duration": 23,
        "start_time": "2022-02-09T07:23:39.222Z"
      },
      {
        "duration": 5,
        "start_time": "2022-02-09T07:25:51.998Z"
      },
      {
        "duration": 13,
        "start_time": "2022-02-09T07:25:52.657Z"
      },
      {
        "duration": 10,
        "start_time": "2022-02-09T07:25:53.274Z"
      },
      {
        "duration": 27,
        "start_time": "2022-02-09T07:25:58.110Z"
      },
      {
        "duration": 352,
        "start_time": "2022-02-09T07:45:52.977Z"
      },
      {
        "duration": 23,
        "start_time": "2022-02-09T07:46:42.669Z"
      },
      {
        "duration": 21,
        "start_time": "2022-02-09T07:46:47.891Z"
      },
      {
        "duration": 28,
        "start_time": "2022-02-09T07:46:56.170Z"
      },
      {
        "duration": 289,
        "start_time": "2022-02-09T07:52:09.363Z"
      },
      {
        "duration": 295,
        "start_time": "2022-02-09T07:53:04.091Z"
      },
      {
        "duration": 335,
        "start_time": "2022-02-09T07:53:38.516Z"
      },
      {
        "duration": 348,
        "start_time": "2022-02-09T07:54:22.337Z"
      },
      {
        "duration": 24,
        "start_time": "2022-02-09T07:54:48.729Z"
      },
      {
        "duration": 355,
        "start_time": "2022-02-09T07:54:57.791Z"
      },
      {
        "duration": 297,
        "start_time": "2022-02-09T07:55:14.598Z"
      },
      {
        "duration": 308,
        "start_time": "2022-02-09T07:55:24.317Z"
      },
      {
        "duration": 307,
        "start_time": "2022-02-09T07:56:05.746Z"
      },
      {
        "duration": 11,
        "start_time": "2022-02-09T07:56:24.444Z"
      },
      {
        "duration": 261,
        "start_time": "2022-02-09T07:57:07.374Z"
      },
      {
        "duration": 289,
        "start_time": "2022-02-09T07:57:20.476Z"
      },
      {
        "duration": 299,
        "start_time": "2022-02-09T07:57:32.680Z"
      },
      {
        "duration": 310,
        "start_time": "2022-02-09T07:57:52.859Z"
      },
      {
        "duration": 9,
        "start_time": "2022-02-09T07:58:25.924Z"
      },
      {
        "duration": 21,
        "start_time": "2022-02-09T07:59:33.215Z"
      },
      {
        "duration": 29,
        "start_time": "2022-02-09T08:02:06.816Z"
      },
      {
        "duration": 4771,
        "start_time": "2022-02-09T08:04:58.484Z"
      },
      {
        "duration": 6208,
        "start_time": "2022-02-09T08:05:12.257Z"
      },
      {
        "duration": 36,
        "start_time": "2022-02-09T08:05:31.665Z"
      },
      {
        "duration": 319,
        "start_time": "2022-02-09T08:06:16.666Z"
      },
      {
        "duration": 32,
        "start_time": "2022-02-09T08:06:25.037Z"
      },
      {
        "duration": 32,
        "start_time": "2022-02-09T08:06:51.683Z"
      },
      {
        "duration": 32,
        "start_time": "2022-02-09T08:18:08.158Z"
      },
      {
        "duration": 7401,
        "start_time": "2022-02-09T08:25:48.178Z"
      },
      {
        "duration": 33,
        "start_time": "2022-02-09T08:30:13.100Z"
      },
      {
        "duration": 32,
        "start_time": "2022-02-09T08:30:57.164Z"
      },
      {
        "duration": 35,
        "start_time": "2022-02-09T08:32:01.576Z"
      },
      {
        "duration": 7740,
        "start_time": "2022-02-09T08:35:44.684Z"
      },
      {
        "duration": 6,
        "start_time": "2022-02-09T08:37:22.587Z"
      },
      {
        "duration": 8729,
        "start_time": "2022-02-09T08:37:25.307Z"
      },
      {
        "duration": 296,
        "start_time": "2022-02-09T08:37:47.684Z"
      },
      {
        "duration": 5,
        "start_time": "2022-02-09T08:38:06.588Z"
      },
      {
        "duration": 6,
        "start_time": "2022-02-09T08:38:10.180Z"
      },
      {
        "duration": 6,
        "start_time": "2022-02-09T08:38:10.678Z"
      },
      {
        "duration": 14,
        "start_time": "2022-02-09T08:38:27.214Z"
      },
      {
        "duration": 331,
        "start_time": "2022-02-09T08:39:01.696Z"
      },
      {
        "duration": 376,
        "start_time": "2022-02-09T08:39:05.040Z"
      },
      {
        "duration": 322,
        "start_time": "2022-02-09T08:39:11.955Z"
      },
      {
        "duration": 15,
        "start_time": "2022-02-09T08:40:09.432Z"
      },
      {
        "duration": 309,
        "start_time": "2022-02-09T08:41:01.318Z"
      },
      {
        "duration": 32,
        "start_time": "2022-02-09T08:41:53.632Z"
      },
      {
        "duration": 292,
        "start_time": "2022-02-09T08:42:03.235Z"
      },
      {
        "duration": 7,
        "start_time": "2022-02-09T08:42:26.531Z"
      },
      {
        "duration": 33,
        "start_time": "2022-02-09T08:43:50.269Z"
      },
      {
        "duration": 7,
        "start_time": "2022-02-09T08:43:50.802Z"
      },
      {
        "duration": 11,
        "start_time": "2022-02-09T08:43:52.302Z"
      },
      {
        "duration": 7,
        "start_time": "2022-02-09T08:44:29.120Z"
      },
      {
        "duration": 19,
        "start_time": "2022-02-09T08:45:54.412Z"
      },
      {
        "duration": 11,
        "start_time": "2022-02-09T15:15:17.516Z"
      },
      {
        "duration": 11,
        "start_time": "2022-02-09T15:15:23.155Z"
      },
      {
        "duration": 9,
        "start_time": "2022-02-09T15:16:11.637Z"
      },
      {
        "duration": 11,
        "start_time": "2022-02-09T15:22:37.173Z"
      },
      {
        "duration": 18,
        "start_time": "2022-02-09T15:22:51.722Z"
      },
      {
        "duration": 6,
        "start_time": "2022-02-09T15:23:40.627Z"
      },
      {
        "duration": 6,
        "start_time": "2022-02-09T15:24:19.075Z"
      },
      {
        "duration": 9,
        "start_time": "2022-02-09T15:25:30.523Z"
      },
      {
        "duration": 10,
        "start_time": "2022-02-09T15:25:54.704Z"
      },
      {
        "duration": 11,
        "start_time": "2022-02-09T15:26:39.656Z"
      },
      {
        "duration": 98,
        "start_time": "2022-02-09T15:39:09.206Z"
      },
      {
        "duration": 111,
        "start_time": "2022-02-09T15:40:01.974Z"
      },
      {
        "duration": 97,
        "start_time": "2022-02-09T15:40:11.165Z"
      },
      {
        "duration": 431,
        "start_time": "2022-02-09T15:40:27.003Z"
      },
      {
        "duration": 713,
        "start_time": "2022-02-09T15:41:12.343Z"
      },
      {
        "duration": 30,
        "start_time": "2022-02-09T15:41:33.301Z"
      },
      {
        "duration": 32,
        "start_time": "2022-02-09T15:41:54.134Z"
      },
      {
        "duration": 31,
        "start_time": "2022-02-09T16:52:41.660Z"
      },
      {
        "duration": 18,
        "start_time": "2022-02-09T16:53:29.453Z"
      },
      {
        "duration": 22,
        "start_time": "2022-02-09T16:54:45.337Z"
      },
      {
        "duration": 34,
        "start_time": "2022-02-09T17:03:05.478Z"
      },
      {
        "duration": 130,
        "start_time": "2022-02-09T17:18:24.776Z"
      },
      {
        "duration": 4,
        "start_time": "2022-02-09T17:21:29.481Z"
      },
      {
        "duration": 73,
        "start_time": "2022-02-09T17:21:29.492Z"
      },
      {
        "duration": 15,
        "start_time": "2022-02-09T17:21:29.568Z"
      },
      {
        "duration": 39,
        "start_time": "2022-02-09T17:21:29.586Z"
      },
      {
        "duration": 19,
        "start_time": "2022-02-09T17:21:29.628Z"
      },
      {
        "duration": 5,
        "start_time": "2022-02-09T17:21:29.650Z"
      },
      {
        "duration": 5,
        "start_time": "2022-02-09T17:21:29.658Z"
      },
      {
        "duration": 59,
        "start_time": "2022-02-09T17:21:29.666Z"
      },
      {
        "duration": 8,
        "start_time": "2022-02-09T17:21:29.729Z"
      },
      {
        "duration": 14,
        "start_time": "2022-02-09T17:21:29.740Z"
      },
      {
        "duration": 11,
        "start_time": "2022-02-09T17:21:29.757Z"
      },
      {
        "duration": 408,
        "start_time": "2022-02-09T17:21:29.770Z"
      },
      {
        "duration": 11,
        "start_time": "2022-02-09T17:21:30.181Z"
      },
      {
        "duration": 35,
        "start_time": "2022-02-09T17:21:30.195Z"
      },
      {
        "duration": 366,
        "start_time": "2022-02-09T17:21:30.232Z"
      },
      {
        "duration": 28,
        "start_time": "2022-02-09T17:21:30.600Z"
      },
      {
        "duration": 12,
        "start_time": "2022-02-09T17:21:30.630Z"
      },
      {
        "duration": 18,
        "start_time": "2022-02-09T17:21:30.645Z"
      },
      {
        "duration": 59,
        "start_time": "2022-02-09T17:21:30.666Z"
      },
      {
        "duration": 4,
        "start_time": "2022-02-09T17:21:30.727Z"
      },
      {
        "duration": 25,
        "start_time": "2022-02-09T17:21:30.733Z"
      },
      {
        "duration": 335,
        "start_time": "2022-02-09T17:21:30.760Z"
      },
      {
        "duration": 32,
        "start_time": "2022-02-09T17:21:31.098Z"
      },
      {
        "duration": 16,
        "start_time": "2022-02-09T17:21:31.140Z"
      },
      {
        "duration": 71,
        "start_time": "2022-02-09T17:21:31.160Z"
      },
      {
        "duration": 6,
        "start_time": "2022-02-09T17:21:31.234Z"
      },
      {
        "duration": 5,
        "start_time": "2022-02-09T17:21:31.243Z"
      },
      {
        "duration": 26,
        "start_time": "2022-02-09T17:21:31.250Z"
      },
      {
        "duration": 16,
        "start_time": "2022-02-09T17:21:31.279Z"
      },
      {
        "duration": 356,
        "start_time": "2022-02-09T17:21:31.298Z"
      },
      {
        "duration": 11,
        "start_time": "2022-02-09T17:21:31.657Z"
      },
      {
        "duration": 22,
        "start_time": "2022-02-09T17:21:31.671Z"
      },
      {
        "duration": 33,
        "start_time": "2022-02-09T17:21:31.695Z"
      },
      {
        "duration": 10,
        "start_time": "2022-02-09T17:21:31.732Z"
      },
      {
        "duration": 11,
        "start_time": "2022-02-09T17:21:31.744Z"
      },
      {
        "duration": 11,
        "start_time": "2022-02-09T17:21:31.758Z"
      },
      {
        "duration": 61,
        "start_time": "2022-02-09T17:21:31.772Z"
      },
      {
        "duration": 23,
        "start_time": "2022-02-09T17:21:31.836Z"
      },
      {
        "duration": 5,
        "start_time": "2022-02-09T17:21:31.862Z"
      },
      {
        "duration": 19,
        "start_time": "2022-02-09T17:21:31.870Z"
      },
      {
        "duration": 38,
        "start_time": "2022-02-09T17:21:31.891Z"
      },
      {
        "duration": 186,
        "start_time": "2022-02-09T17:21:31.932Z"
      },
      {
        "duration": 333,
        "start_time": "2022-02-09T17:21:32.123Z"
      },
      {
        "duration": 12,
        "start_time": "2022-02-09T17:21:32.460Z"
      },
      {
        "duration": 12,
        "start_time": "2022-02-09T17:21:32.475Z"
      },
      {
        "duration": 5,
        "start_time": "2022-02-09T17:21:32.489Z"
      },
      {
        "duration": 6,
        "start_time": "2022-02-09T17:21:32.524Z"
      },
      {
        "duration": 21,
        "start_time": "2022-02-09T17:21:32.532Z"
      },
      {
        "duration": 35,
        "start_time": "2022-02-09T17:21:32.556Z"
      },
      {
        "duration": 64,
        "start_time": "2022-02-09T17:21:32.593Z"
      },
      {
        "duration": 23,
        "start_time": "2022-02-09T17:21:32.659Z"
      },
      {
        "duration": 41,
        "start_time": "2022-02-09T17:21:32.685Z"
      },
      {
        "duration": 16,
        "start_time": "2022-02-09T17:21:32.728Z"
      },
      {
        "duration": 4,
        "start_time": "2022-02-09T17:21:32.747Z"
      },
      {
        "duration": 9,
        "start_time": "2022-02-09T17:21:32.753Z"
      },
      {
        "duration": 20,
        "start_time": "2022-02-09T17:21:32.765Z"
      },
      {
        "duration": 37,
        "start_time": "2022-02-09T17:21:32.787Z"
      },
      {
        "duration": 22,
        "start_time": "2022-02-09T17:21:32.826Z"
      },
      {
        "duration": 17,
        "start_time": "2022-02-09T17:21:32.850Z"
      },
      {
        "duration": 5,
        "start_time": "2022-02-09T17:21:32.870Z"
      },
      {
        "duration": 16,
        "start_time": "2022-02-09T17:21:32.878Z"
      },
      {
        "duration": 10,
        "start_time": "2022-02-09T17:21:32.924Z"
      },
      {
        "duration": 17,
        "start_time": "2022-02-09T17:21:32.937Z"
      },
      {
        "duration": 34,
        "start_time": "2022-02-09T17:21:32.956Z"
      },
      {
        "duration": 4,
        "start_time": "2022-02-09T17:21:33.025Z"
      },
      {
        "duration": 19,
        "start_time": "2022-02-09T17:21:33.031Z"
      },
      {
        "duration": 19,
        "start_time": "2022-02-09T17:21:33.053Z"
      },
      {
        "duration": 297,
        "start_time": "2022-02-09T17:21:33.074Z"
      },
      {
        "duration": 11,
        "start_time": "2022-02-09T17:23:05.508Z"
      },
      {
        "duration": 18,
        "start_time": "2022-02-09T17:23:13.464Z"
      },
      {
        "duration": 13,
        "start_time": "2022-02-09T17:23:20.579Z"
      },
      {
        "duration": 9,
        "start_time": "2022-02-09T18:35:54.098Z"
      },
      {
        "duration": 290,
        "start_time": "2022-02-09T18:36:25.247Z"
      },
      {
        "duration": 302,
        "start_time": "2022-02-09T18:37:03.707Z"
      },
      {
        "duration": 301,
        "start_time": "2022-02-09T18:37:43.551Z"
      },
      {
        "duration": 9,
        "start_time": "2022-02-09T18:37:50.915Z"
      },
      {
        "duration": 21,
        "start_time": "2022-02-09T18:39:50.823Z"
      },
      {
        "duration": 27,
        "start_time": "2022-02-09T18:40:03.148Z"
      },
      {
        "duration": 33,
        "start_time": "2022-02-09T18:41:19.524Z"
      },
      {
        "duration": 33,
        "start_time": "2022-02-09T18:41:27.828Z"
      },
      {
        "duration": 328,
        "start_time": "2022-02-09T18:41:50.042Z"
      },
      {
        "duration": 29,
        "start_time": "2022-02-09T18:42:02.315Z"
      },
      {
        "duration": 38,
        "start_time": "2022-02-09T18:45:29.048Z"
      },
      {
        "duration": 37,
        "start_time": "2022-02-09T18:47:01.508Z"
      },
      {
        "duration": 39,
        "start_time": "2022-02-09T18:48:38.817Z"
      },
      {
        "duration": 5,
        "start_time": "2022-02-09T19:02:47.132Z"
      },
      {
        "duration": 287,
        "start_time": "2022-02-09T19:03:40.256Z"
      },
      {
        "duration": 5,
        "start_time": "2022-02-09T19:05:28.937Z"
      },
      {
        "duration": 321,
        "start_time": "2022-02-09T19:05:29.999Z"
      },
      {
        "duration": 6,
        "start_time": "2022-02-09T19:07:03.534Z"
      },
      {
        "duration": 14,
        "start_time": "2022-02-09T19:07:13.767Z"
      },
      {
        "duration": 7,
        "start_time": "2022-02-09T19:07:51.447Z"
      },
      {
        "duration": 274,
        "start_time": "2022-02-09T19:08:36.212Z"
      },
      {
        "duration": 10,
        "start_time": "2022-02-09T19:09:32.204Z"
      },
      {
        "duration": 348,
        "start_time": "2022-02-09T19:10:18.364Z"
      },
      {
        "duration": 298,
        "start_time": "2022-02-09T19:10:56.635Z"
      },
      {
        "duration": 14,
        "start_time": "2022-02-09T19:11:13.877Z"
      },
      {
        "duration": 304,
        "start_time": "2022-02-09T19:12:38.813Z"
      },
      {
        "duration": 7,
        "start_time": "2022-02-09T19:12:46.931Z"
      },
      {
        "duration": 4,
        "start_time": "2022-02-09T19:14:24.212Z"
      },
      {
        "duration": 292,
        "start_time": "2022-02-09T19:15:59.514Z"
      },
      {
        "duration": 285,
        "start_time": "2022-02-09T19:16:16.477Z"
      },
      {
        "duration": 293,
        "start_time": "2022-02-09T19:16:30.275Z"
      },
      {
        "duration": 6,
        "start_time": "2022-02-09T19:18:03.158Z"
      },
      {
        "duration": 12,
        "start_time": "2022-02-09T19:18:20.340Z"
      },
      {
        "duration": 16,
        "start_time": "2022-02-09T19:19:11.065Z"
      },
      {
        "duration": 17,
        "start_time": "2022-02-09T19:23:50.206Z"
      },
      {
        "duration": 741,
        "start_time": "2022-02-09T20:04:41.657Z"
      },
      {
        "duration": 698,
        "start_time": "2022-02-09T20:05:56.191Z"
      },
      {
        "duration": 17,
        "start_time": "2022-02-09T20:10:20.588Z"
      },
      {
        "duration": 28,
        "start_time": "2022-02-09T20:14:07.221Z"
      },
      {
        "duration": 19,
        "start_time": "2022-02-09T20:16:56.702Z"
      },
      {
        "duration": 15,
        "start_time": "2022-02-09T20:17:29.798Z"
      },
      {
        "duration": 15,
        "start_time": "2022-02-09T20:17:38.731Z"
      },
      {
        "duration": 16,
        "start_time": "2022-02-09T20:20:25.971Z"
      },
      {
        "duration": 5095,
        "start_time": "2022-02-09T20:21:51.404Z"
      },
      {
        "duration": 7485,
        "start_time": "2022-02-09T20:21:59.732Z"
      },
      {
        "duration": 16,
        "start_time": "2022-02-09T20:22:28.153Z"
      },
      {
        "duration": 16,
        "start_time": "2022-02-09T20:23:49.640Z"
      },
      {
        "duration": 27,
        "start_time": "2022-02-09T20:23:57.832Z"
      },
      {
        "duration": 16,
        "start_time": "2022-02-09T20:25:07.979Z"
      },
      {
        "duration": 32,
        "start_time": "2022-02-09T20:36:52.008Z"
      },
      {
        "duration": 33,
        "start_time": "2022-02-09T20:37:40.118Z"
      },
      {
        "duration": 5,
        "start_time": "2022-02-09T20:51:25.644Z"
      },
      {
        "duration": 12,
        "start_time": "2022-02-09T20:51:26.522Z"
      },
      {
        "duration": 18,
        "start_time": "2022-02-09T20:51:27.180Z"
      },
      {
        "duration": 18,
        "start_time": "2022-02-09T20:55:27.526Z"
      },
      {
        "duration": 10,
        "start_time": "2022-02-09T20:55:56.180Z"
      },
      {
        "duration": 3,
        "start_time": "2022-02-09T20:56:59.625Z"
      },
      {
        "duration": 33,
        "start_time": "2022-02-09T21:03:16.413Z"
      },
      {
        "duration": 4,
        "start_time": "2022-02-09T21:10:39.176Z"
      },
      {
        "duration": 13,
        "start_time": "2022-02-09T21:10:42.004Z"
      },
      {
        "duration": 17,
        "start_time": "2022-02-09T21:10:42.995Z"
      },
      {
        "duration": 31,
        "start_time": "2022-02-09T21:10:54.118Z"
      },
      {
        "duration": 4,
        "start_time": "2022-02-09T21:14:45.950Z"
      },
      {
        "duration": 12,
        "start_time": "2022-02-09T21:14:48.171Z"
      },
      {
        "duration": 18,
        "start_time": "2022-02-09T21:14:50.388Z"
      },
      {
        "duration": 40,
        "start_time": "2022-02-09T21:14:58.485Z"
      },
      {
        "duration": 4,
        "start_time": "2022-02-09T21:15:55.954Z"
      },
      {
        "duration": 10,
        "start_time": "2022-02-09T21:15:56.530Z"
      },
      {
        "duration": 32,
        "start_time": "2022-02-09T21:16:05.807Z"
      },
      {
        "duration": 4,
        "start_time": "2022-02-09T21:17:20.715Z"
      },
      {
        "duration": 11,
        "start_time": "2022-02-09T21:17:23.041Z"
      },
      {
        "duration": 32,
        "start_time": "2022-02-09T21:18:05.976Z"
      },
      {
        "duration": 45,
        "start_time": "2022-02-09T21:20:09.637Z"
      },
      {
        "duration": 9,
        "start_time": "2022-02-09T21:26:40.832Z"
      },
      {
        "duration": 4,
        "start_time": "2022-02-09T21:27:31.496Z"
      },
      {
        "duration": 71,
        "start_time": "2022-02-09T21:27:31.515Z"
      },
      {
        "duration": 14,
        "start_time": "2022-02-09T21:27:31.589Z"
      },
      {
        "duration": 13,
        "start_time": "2022-02-09T21:27:31.624Z"
      },
      {
        "duration": 19,
        "start_time": "2022-02-09T21:27:31.640Z"
      },
      {
        "duration": 6,
        "start_time": "2022-02-09T21:27:31.662Z"
      },
      {
        "duration": 54,
        "start_time": "2022-02-09T21:27:31.670Z"
      },
      {
        "duration": 13,
        "start_time": "2022-02-09T21:27:31.727Z"
      },
      {
        "duration": 7,
        "start_time": "2022-02-09T21:27:31.744Z"
      },
      {
        "duration": 13,
        "start_time": "2022-02-09T21:27:31.754Z"
      },
      {
        "duration": 55,
        "start_time": "2022-02-09T21:27:31.769Z"
      },
      {
        "duration": 352,
        "start_time": "2022-02-09T21:27:31.826Z"
      },
      {
        "duration": 8,
        "start_time": "2022-02-09T21:27:32.181Z"
      },
      {
        "duration": 35,
        "start_time": "2022-02-09T21:27:32.192Z"
      },
      {
        "duration": 336,
        "start_time": "2022-02-09T21:27:32.229Z"
      },
      {
        "duration": 18,
        "start_time": "2022-02-09T21:27:32.567Z"
      },
      {
        "duration": 9,
        "start_time": "2022-02-09T21:27:32.587Z"
      },
      {
        "duration": 14,
        "start_time": "2022-02-09T21:27:32.622Z"
      },
      {
        "duration": 20,
        "start_time": "2022-02-09T21:27:32.638Z"
      },
      {
        "duration": 7,
        "start_time": "2022-02-09T21:27:32.660Z"
      },
      {
        "duration": 13,
        "start_time": "2022-02-09T21:27:32.670Z"
      },
      {
        "duration": 327,
        "start_time": "2022-02-09T21:27:32.685Z"
      },
      {
        "duration": 23,
        "start_time": "2022-02-09T21:27:33.014Z"
      },
      {
        "duration": 10,
        "start_time": "2022-02-09T21:27:33.046Z"
      },
      {
        "duration": 72,
        "start_time": "2022-02-09T21:27:33.059Z"
      },
      {
        "duration": 6,
        "start_time": "2022-02-09T21:27:33.134Z"
      },
      {
        "duration": 4,
        "start_time": "2022-02-09T21:27:33.143Z"
      },
      {
        "duration": 22,
        "start_time": "2022-02-09T21:27:33.150Z"
      },
      {
        "duration": 11,
        "start_time": "2022-02-09T21:27:33.175Z"
      },
      {
        "duration": 299,
        "start_time": "2022-02-09T21:27:33.225Z"
      },
      {
        "duration": 10,
        "start_time": "2022-02-09T21:27:33.527Z"
      },
      {
        "duration": 20,
        "start_time": "2022-02-09T21:27:33.539Z"
      },
      {
        "duration": 11,
        "start_time": "2022-02-09T21:27:33.561Z"
      },
      {
        "duration": 8,
        "start_time": "2022-02-09T21:27:33.574Z"
      },
      {
        "duration": 44,
        "start_time": "2022-02-09T21:27:33.584Z"
      },
      {
        "duration": 9,
        "start_time": "2022-02-09T21:27:33.630Z"
      },
      {
        "duration": 9,
        "start_time": "2022-02-09T21:27:33.641Z"
      },
      {
        "duration": 23,
        "start_time": "2022-02-09T21:27:33.653Z"
      },
      {
        "duration": 46,
        "start_time": "2022-02-09T21:27:33.678Z"
      },
      {
        "duration": 15,
        "start_time": "2022-02-09T21:27:33.727Z"
      },
      {
        "duration": 22,
        "start_time": "2022-02-09T21:27:33.744Z"
      },
      {
        "duration": 9,
        "start_time": "2022-02-09T21:27:33.769Z"
      },
      {
        "duration": 299,
        "start_time": "2022-02-09T21:27:33.780Z"
      },
      {
        "duration": 10,
        "start_time": "2022-02-09T21:27:34.082Z"
      },
      {
        "duration": 29,
        "start_time": "2022-02-09T21:27:34.094Z"
      },
      {
        "duration": 5,
        "start_time": "2022-02-09T21:27:34.125Z"
      },
      {
        "duration": 10,
        "start_time": "2022-02-09T21:27:34.133Z"
      },
      {
        "duration": 18,
        "start_time": "2022-02-09T21:27:34.145Z"
      },
      {
        "duration": 21,
        "start_time": "2022-02-09T21:27:34.165Z"
      },
      {
        "duration": 58,
        "start_time": "2022-02-09T21:27:34.188Z"
      },
      {
        "duration": 21,
        "start_time": "2022-02-09T21:27:34.248Z"
      },
      {
        "duration": 14,
        "start_time": "2022-02-09T21:27:34.271Z"
      },
      {
        "duration": 43,
        "start_time": "2022-02-09T21:27:34.288Z"
      },
      {
        "duration": 4,
        "start_time": "2022-02-09T21:27:34.334Z"
      },
      {
        "duration": 9,
        "start_time": "2022-02-09T21:27:34.341Z"
      },
      {
        "duration": 20,
        "start_time": "2022-02-09T21:27:34.352Z"
      },
      {
        "duration": 4,
        "start_time": "2022-02-09T21:27:34.375Z"
      },
      {
        "duration": 46,
        "start_time": "2022-02-09T21:27:34.382Z"
      },
      {
        "duration": 15,
        "start_time": "2022-02-09T21:27:34.431Z"
      },
      {
        "duration": 6,
        "start_time": "2022-02-09T21:27:34.449Z"
      },
      {
        "duration": 17,
        "start_time": "2022-02-09T21:27:34.458Z"
      },
      {
        "duration": 8,
        "start_time": "2022-02-09T21:27:34.477Z"
      },
      {
        "duration": 51,
        "start_time": "2022-02-09T21:27:34.487Z"
      },
      {
        "duration": 4,
        "start_time": "2022-02-09T21:27:34.540Z"
      },
      {
        "duration": 11,
        "start_time": "2022-02-09T21:27:34.547Z"
      },
      {
        "duration": 18,
        "start_time": "2022-02-09T21:27:34.560Z"
      },
      {
        "duration": 50,
        "start_time": "2022-02-09T21:27:34.580Z"
      },
      {
        "duration": 5,
        "start_time": "2022-02-09T21:27:34.633Z"
      },
      {
        "duration": 27,
        "start_time": "2022-02-09T21:27:34.646Z"
      },
      {
        "duration": 77,
        "start_time": "2022-02-09T21:27:34.675Z"
      },
      {
        "duration": 21,
        "start_time": "2022-02-09T21:27:34.755Z"
      },
      {
        "duration": 10,
        "start_time": "2022-02-09T21:27:34.778Z"
      },
      {
        "duration": 64,
        "start_time": "2022-02-09T21:27:34.791Z"
      },
      {
        "duration": 17,
        "start_time": "2022-02-09T21:27:34.858Z"
      },
      {
        "duration": 67,
        "start_time": "2022-02-09T21:27:34.877Z"
      },
      {
        "duration": 33,
        "start_time": "2022-02-09T21:27:34.946Z"
      },
      {
        "duration": 331,
        "start_time": "2022-02-10T06:18:44.568Z"
      },
      {
        "duration": 1127,
        "start_time": "2022-02-10T06:18:51.352Z"
      },
      {
        "duration": 58,
        "start_time": "2022-02-10T06:18:52.481Z"
      },
      {
        "duration": 12,
        "start_time": "2022-02-10T06:18:52.541Z"
      },
      {
        "duration": 20,
        "start_time": "2022-02-10T06:18:52.555Z"
      },
      {
        "duration": 12,
        "start_time": "2022-02-10T06:18:52.577Z"
      },
      {
        "duration": 5,
        "start_time": "2022-02-10T06:18:52.591Z"
      },
      {
        "duration": 5,
        "start_time": "2022-02-10T06:18:52.597Z"
      },
      {
        "duration": 10,
        "start_time": "2022-02-10T06:18:52.605Z"
      },
      {
        "duration": 6,
        "start_time": "2022-02-10T06:18:52.617Z"
      },
      {
        "duration": 51,
        "start_time": "2022-02-10T06:18:52.624Z"
      },
      {
        "duration": 7,
        "start_time": "2022-02-10T06:18:52.676Z"
      },
      {
        "duration": 194,
        "start_time": "2022-02-10T06:18:52.685Z"
      },
      {
        "duration": 7,
        "start_time": "2022-02-10T06:18:52.880Z"
      },
      {
        "duration": 14,
        "start_time": "2022-02-10T06:18:52.888Z"
      },
      {
        "duration": 197,
        "start_time": "2022-02-10T06:18:52.903Z"
      },
      {
        "duration": 11,
        "start_time": "2022-02-10T06:18:53.101Z"
      },
      {
        "duration": 6,
        "start_time": "2022-02-10T06:18:53.113Z"
      },
      {
        "duration": 8,
        "start_time": "2022-02-10T06:18:53.121Z"
      },
      {
        "duration": 11,
        "start_time": "2022-02-10T06:18:53.131Z"
      },
      {
        "duration": 2,
        "start_time": "2022-02-10T06:18:53.143Z"
      },
      {
        "duration": 9,
        "start_time": "2022-02-10T06:18:53.172Z"
      },
      {
        "duration": 162,
        "start_time": "2022-02-10T06:18:53.183Z"
      },
      {
        "duration": 10,
        "start_time": "2022-02-10T06:18:53.349Z"
      },
      {
        "duration": 6,
        "start_time": "2022-02-10T06:18:53.372Z"
      },
      {
        "duration": 18,
        "start_time": "2022-02-10T06:18:53.379Z"
      },
      {
        "duration": 4,
        "start_time": "2022-02-10T06:18:53.398Z"
      },
      {
        "duration": 5,
        "start_time": "2022-02-10T06:18:53.403Z"
      },
      {
        "duration": 11,
        "start_time": "2022-02-10T06:18:53.409Z"
      },
      {
        "duration": 6,
        "start_time": "2022-02-10T06:18:53.421Z"
      },
      {
        "duration": 181,
        "start_time": "2022-02-10T06:18:53.428Z"
      },
      {
        "duration": 6,
        "start_time": "2022-02-10T06:18:53.611Z"
      },
      {
        "duration": 11,
        "start_time": "2022-02-10T06:18:53.618Z"
      },
      {
        "duration": 8,
        "start_time": "2022-02-10T06:18:53.630Z"
      },
      {
        "duration": 6,
        "start_time": "2022-02-10T06:18:53.639Z"
      },
      {
        "duration": 26,
        "start_time": "2022-02-10T06:18:53.646Z"
      },
      {
        "duration": 6,
        "start_time": "2022-02-10T06:18:53.674Z"
      },
      {
        "duration": 7,
        "start_time": "2022-02-10T06:18:53.681Z"
      },
      {
        "duration": 13,
        "start_time": "2022-02-10T06:18:53.689Z"
      },
      {
        "duration": 4,
        "start_time": "2022-02-10T06:18:53.703Z"
      },
      {
        "duration": 11,
        "start_time": "2022-02-10T06:18:53.709Z"
      },
      {
        "duration": 11,
        "start_time": "2022-02-10T06:18:53.721Z"
      },
      {
        "duration": 9,
        "start_time": "2022-02-10T06:18:53.733Z"
      },
      {
        "duration": 165,
        "start_time": "2022-02-10T06:18:53.771Z"
      },
      {
        "duration": 7,
        "start_time": "2022-02-10T06:18:53.938Z"
      },
      {
        "duration": 4,
        "start_time": "2022-02-10T06:18:53.946Z"
      },
      {
        "duration": 19,
        "start_time": "2022-02-10T06:18:53.952Z"
      },
      {
        "duration": 3,
        "start_time": "2022-02-10T06:18:53.973Z"
      },
      {
        "duration": 18,
        "start_time": "2022-02-10T06:18:53.977Z"
      },
      {
        "duration": 16,
        "start_time": "2022-02-10T06:18:53.996Z"
      },
      {
        "duration": 19,
        "start_time": "2022-02-10T06:18:54.013Z"
      },
      {
        "duration": 40,
        "start_time": "2022-02-10T06:18:54.033Z"
      },
      {
        "duration": 11,
        "start_time": "2022-02-10T06:18:54.075Z"
      },
      {
        "duration": 11,
        "start_time": "2022-02-10T06:18:54.087Z"
      },
      {
        "duration": 14,
        "start_time": "2022-02-10T06:18:54.100Z"
      },
      {
        "duration": 5,
        "start_time": "2022-02-10T06:18:54.116Z"
      },
      {
        "duration": 33,
        "start_time": "2022-02-10T06:18:54.122Z"
      },
      {
        "duration": 16,
        "start_time": "2022-02-10T06:18:54.156Z"
      },
      {
        "duration": 14,
        "start_time": "2022-02-10T06:18:54.173Z"
      },
      {
        "duration": 14,
        "start_time": "2022-02-10T06:18:54.188Z"
      },
      {
        "duration": 13,
        "start_time": "2022-02-10T06:18:54.204Z"
      },
      {
        "duration": 19,
        "start_time": "2022-02-10T06:18:54.218Z"
      },
      {
        "duration": 14,
        "start_time": "2022-02-10T06:18:54.238Z"
      },
      {
        "duration": 19,
        "start_time": "2022-02-10T06:18:54.253Z"
      },
      {
        "duration": 8,
        "start_time": "2022-02-10T06:18:54.273Z"
      },
      {
        "duration": 19,
        "start_time": "2022-02-10T06:18:54.282Z"
      },
      {
        "duration": 13,
        "start_time": "2022-02-10T06:18:54.303Z"
      },
      {
        "duration": 9,
        "start_time": "2022-02-10T06:18:54.318Z"
      },
      {
        "duration": 4,
        "start_time": "2022-02-10T06:18:54.331Z"
      },
      {
        "duration": 20,
        "start_time": "2022-02-10T06:18:54.336Z"
      },
      {
        "duration": 25,
        "start_time": "2022-02-10T06:18:54.357Z"
      },
      {
        "duration": 12,
        "start_time": "2022-02-10T06:18:54.383Z"
      },
      {
        "duration": 8,
        "start_time": "2022-02-10T06:18:54.396Z"
      },
      {
        "duration": 25,
        "start_time": "2022-02-10T06:18:54.406Z"
      },
      {
        "duration": 9,
        "start_time": "2022-02-10T06:18:54.432Z"
      },
      {
        "duration": 39,
        "start_time": "2022-02-10T06:18:54.443Z"
      },
      {
        "duration": 18,
        "start_time": "2022-02-10T06:18:54.483Z"
      },
      {
        "duration": 11,
        "start_time": "2022-02-10T06:55:28.751Z"
      },
      {
        "duration": 5,
        "start_time": "2022-02-10T07:11:55.507Z"
      },
      {
        "duration": 4,
        "start_time": "2022-02-10T07:14:32.590Z"
      },
      {
        "duration": 9,
        "start_time": "2022-02-10T08:07:51.311Z"
      },
      {
        "duration": 8040,
        "start_time": "2022-02-10T08:12:21.232Z"
      },
      {
        "duration": 3,
        "start_time": "2022-02-10T08:14:58.887Z"
      },
      {
        "duration": 51,
        "start_time": "2022-02-10T08:14:58.941Z"
      },
      {
        "duration": 9,
        "start_time": "2022-02-10T08:14:58.994Z"
      },
      {
        "duration": 9,
        "start_time": "2022-02-10T08:14:59.070Z"
      },
      {
        "duration": 12,
        "start_time": "2022-02-10T08:14:59.175Z"
      },
      {
        "duration": 3,
        "start_time": "2022-02-10T08:14:59.189Z"
      },
      {
        "duration": 20,
        "start_time": "2022-02-10T08:14:59.194Z"
      },
      {
        "duration": 9,
        "start_time": "2022-02-10T08:14:59.301Z"
      },
      {
        "duration": 22,
        "start_time": "2022-02-10T08:14:59.312Z"
      },
      {
        "duration": 29,
        "start_time": "2022-02-10T08:14:59.335Z"
      },
      {
        "duration": 18,
        "start_time": "2022-02-10T08:14:59.372Z"
      },
      {
        "duration": 174,
        "start_time": "2022-02-10T08:14:59.392Z"
      },
      {
        "duration": 7,
        "start_time": "2022-02-10T08:14:59.568Z"
      },
      {
        "duration": 30,
        "start_time": "2022-02-10T08:14:59.577Z"
      },
      {
        "duration": 250,
        "start_time": "2022-02-10T08:14:59.609Z"
      },
      {
        "duration": 11,
        "start_time": "2022-02-10T08:14:59.861Z"
      },
      {
        "duration": 12,
        "start_time": "2022-02-10T08:14:59.874Z"
      },
      {
        "duration": 11,
        "start_time": "2022-02-10T08:14:59.887Z"
      },
      {
        "duration": 9,
        "start_time": "2022-02-10T08:14:59.900Z"
      },
      {
        "duration": 22,
        "start_time": "2022-02-10T08:14:59.911Z"
      },
      {
        "duration": 190,
        "start_time": "2022-02-10T08:14:59.935Z"
      },
      {
        "duration": 11,
        "start_time": "2022-02-10T08:15:00.127Z"
      },
      {
        "duration": 25,
        "start_time": "2022-02-10T08:15:00.140Z"
      },
      {
        "duration": 30,
        "start_time": "2022-02-10T08:15:00.166Z"
      },
      {
        "duration": 5,
        "start_time": "2022-02-10T08:15:00.198Z"
      },
      {
        "duration": 15,
        "start_time": "2022-02-10T08:15:00.204Z"
      },
      {
        "duration": 31,
        "start_time": "2022-02-10T08:15:00.220Z"
      },
      {
        "duration": 16,
        "start_time": "2022-02-10T08:15:00.252Z"
      },
      {
        "duration": 159,
        "start_time": "2022-02-10T08:15:00.269Z"
      },
      {
        "duration": 6,
        "start_time": "2022-02-10T08:15:00.430Z"
      },
      {
        "duration": 21,
        "start_time": "2022-02-10T08:15:00.438Z"
      },
      {
        "duration": 24,
        "start_time": "2022-02-10T08:15:00.460Z"
      },
      {
        "duration": 8,
        "start_time": "2022-02-10T08:15:00.485Z"
      },
      {
        "duration": 12,
        "start_time": "2022-02-10T08:15:00.494Z"
      },
      {
        "duration": 23,
        "start_time": "2022-02-10T08:15:00.507Z"
      },
      {
        "duration": 9,
        "start_time": "2022-02-10T08:15:00.531Z"
      },
      {
        "duration": 18,
        "start_time": "2022-02-10T08:15:00.543Z"
      },
      {
        "duration": 7,
        "start_time": "2022-02-10T08:15:00.563Z"
      },
      {
        "duration": 12,
        "start_time": "2022-02-10T08:15:00.572Z"
      },
      {
        "duration": 22,
        "start_time": "2022-02-10T08:15:00.585Z"
      },
      {
        "duration": 8,
        "start_time": "2022-02-10T08:15:00.609Z"
      },
      {
        "duration": 158,
        "start_time": "2022-02-10T08:15:00.619Z"
      },
      {
        "duration": 6,
        "start_time": "2022-02-10T08:15:00.779Z"
      },
      {
        "duration": 7,
        "start_time": "2022-02-10T08:15:00.787Z"
      },
      {
        "duration": 5,
        "start_time": "2022-02-10T08:15:00.795Z"
      },
      {
        "duration": 11,
        "start_time": "2022-02-10T08:15:00.801Z"
      },
      {
        "duration": 16,
        "start_time": "2022-02-10T08:15:00.813Z"
      },
      {
        "duration": 15,
        "start_time": "2022-02-10T08:15:00.830Z"
      },
      {
        "duration": 28,
        "start_time": "2022-02-10T08:15:00.846Z"
      },
      {
        "duration": 14,
        "start_time": "2022-02-10T08:15:00.876Z"
      },
      {
        "duration": 10,
        "start_time": "2022-02-10T08:15:00.891Z"
      },
      {
        "duration": 9,
        "start_time": "2022-02-10T08:15:00.903Z"
      },
      {
        "duration": 6,
        "start_time": "2022-02-10T08:15:00.913Z"
      },
      {
        "duration": 8,
        "start_time": "2022-02-10T08:15:00.920Z"
      },
      {
        "duration": 12,
        "start_time": "2022-02-10T08:15:00.930Z"
      },
      {
        "duration": 29,
        "start_time": "2022-02-10T08:15:00.943Z"
      },
      {
        "duration": 18,
        "start_time": "2022-02-10T08:15:00.974Z"
      },
      {
        "duration": 14,
        "start_time": "2022-02-10T08:15:00.994Z"
      },
      {
        "duration": 6,
        "start_time": "2022-02-10T08:15:01.010Z"
      },
      {
        "duration": 13,
        "start_time": "2022-02-10T08:15:01.018Z"
      },
      {
        "duration": 11,
        "start_time": "2022-02-10T08:15:01.033Z"
      },
      {
        "duration": 13,
        "start_time": "2022-02-10T08:15:01.046Z"
      },
      {
        "duration": 9,
        "start_time": "2022-02-10T08:15:01.060Z"
      },
      {
        "duration": 16,
        "start_time": "2022-02-10T08:15:01.071Z"
      },
      {
        "duration": 18,
        "start_time": "2022-02-10T08:15:01.088Z"
      },
      {
        "duration": 6,
        "start_time": "2022-02-10T08:15:01.108Z"
      },
      {
        "duration": 7,
        "start_time": "2022-02-10T08:15:01.115Z"
      },
      {
        "duration": 24,
        "start_time": "2022-02-10T08:15:01.124Z"
      },
      {
        "duration": 22,
        "start_time": "2022-02-10T08:15:01.150Z"
      },
      {
        "duration": 13,
        "start_time": "2022-02-10T08:15:01.173Z"
      },
      {
        "duration": 15,
        "start_time": "2022-02-10T08:15:01.187Z"
      },
      {
        "duration": 32,
        "start_time": "2022-02-10T08:15:01.204Z"
      },
      {
        "duration": 11,
        "start_time": "2022-02-10T08:15:01.238Z"
      },
      {
        "duration": 38,
        "start_time": "2022-02-10T08:15:01.251Z"
      },
      {
        "duration": 22,
        "start_time": "2022-02-10T08:15:01.291Z"
      },
      {
        "duration": 19,
        "start_time": "2022-02-10T09:02:08.787Z"
      },
      {
        "duration": 2,
        "start_time": "2022-02-10T09:02:34.562Z"
      },
      {
        "duration": 54,
        "start_time": "2022-02-10T09:02:36.046Z"
      },
      {
        "duration": 10,
        "start_time": "2022-02-10T09:02:36.101Z"
      },
      {
        "duration": 8,
        "start_time": "2022-02-10T09:02:36.113Z"
      },
      {
        "duration": 12,
        "start_time": "2022-02-10T09:02:36.123Z"
      },
      {
        "duration": 37,
        "start_time": "2022-02-10T09:02:36.136Z"
      },
      {
        "duration": 6,
        "start_time": "2022-02-10T09:02:36.175Z"
      },
      {
        "duration": 15,
        "start_time": "2022-02-10T09:02:36.183Z"
      },
      {
        "duration": 5,
        "start_time": "2022-02-10T09:02:36.199Z"
      },
      {
        "duration": 8,
        "start_time": "2022-02-10T09:02:36.207Z"
      },
      {
        "duration": 6,
        "start_time": "2022-02-10T09:02:36.217Z"
      },
      {
        "duration": 208,
        "start_time": "2022-02-10T09:02:36.224Z"
      },
      {
        "duration": 6,
        "start_time": "2022-02-10T09:02:36.434Z"
      },
      {
        "duration": 13,
        "start_time": "2022-02-10T09:02:36.442Z"
      },
      {
        "duration": 188,
        "start_time": "2022-02-10T09:02:36.472Z"
      },
      {
        "duration": 10,
        "start_time": "2022-02-10T09:02:36.662Z"
      },
      {
        "duration": 9,
        "start_time": "2022-02-10T09:02:36.674Z"
      },
      {
        "duration": 11,
        "start_time": "2022-02-10T09:02:36.685Z"
      },
      {
        "duration": 3,
        "start_time": "2022-02-10T09:02:36.698Z"
      },
      {
        "duration": 10,
        "start_time": "2022-02-10T09:02:36.702Z"
      },
      {
        "duration": 199,
        "start_time": "2022-02-10T09:02:36.713Z"
      },
      {
        "duration": 12,
        "start_time": "2022-02-10T09:02:36.913Z"
      },
      {
        "duration": 14,
        "start_time": "2022-02-10T09:02:36.926Z"
      },
      {
        "duration": 47,
        "start_time": "2022-02-10T09:02:36.942Z"
      },
      {
        "duration": 5,
        "start_time": "2022-02-10T09:02:36.991Z"
      },
      {
        "duration": 14,
        "start_time": "2022-02-10T09:02:36.998Z"
      },
      {
        "duration": 31,
        "start_time": "2022-02-10T09:02:37.014Z"
      },
      {
        "duration": 15,
        "start_time": "2022-02-10T09:02:37.051Z"
      },
      {
        "duration": 181,
        "start_time": "2022-02-10T09:02:37.068Z"
      },
      {
        "duration": 7,
        "start_time": "2022-02-10T09:02:37.250Z"
      },
      {
        "duration": 25,
        "start_time": "2022-02-10T09:02:37.258Z"
      },
      {
        "duration": 29,
        "start_time": "2022-02-10T09:02:37.285Z"
      },
      {
        "duration": 14,
        "start_time": "2022-02-10T09:02:37.316Z"
      },
      {
        "duration": 13,
        "start_time": "2022-02-10T09:02:37.332Z"
      },
      {
        "duration": 21,
        "start_time": "2022-02-10T09:02:37.347Z"
      },
      {
        "duration": 9,
        "start_time": "2022-02-10T09:02:37.369Z"
      },
      {
        "duration": 15,
        "start_time": "2022-02-10T09:02:37.380Z"
      },
      {
        "duration": 27,
        "start_time": "2022-02-10T09:02:37.397Z"
      },
      {
        "duration": 11,
        "start_time": "2022-02-10T09:02:37.426Z"
      },
      {
        "duration": 34,
        "start_time": "2022-02-10T09:02:37.438Z"
      },
      {
        "duration": 169,
        "start_time": "2022-02-10T09:02:37.473Z"
      },
      {
        "duration": 7,
        "start_time": "2022-02-10T09:02:37.644Z"
      },
      {
        "duration": 20,
        "start_time": "2022-02-10T09:02:37.652Z"
      },
      {
        "duration": 3,
        "start_time": "2022-02-10T09:02:37.674Z"
      },
      {
        "duration": 6,
        "start_time": "2022-02-10T09:02:37.678Z"
      },
      {
        "duration": 4,
        "start_time": "2022-02-10T09:02:37.686Z"
      },
      {
        "duration": 17,
        "start_time": "2022-02-10T09:02:37.692Z"
      },
      {
        "duration": 16,
        "start_time": "2022-02-10T09:02:37.711Z"
      },
      {
        "duration": 54,
        "start_time": "2022-02-10T09:02:37.729Z"
      },
      {
        "duration": 16,
        "start_time": "2022-02-10T09:02:37.785Z"
      },
      {
        "duration": 11,
        "start_time": "2022-02-10T09:02:37.803Z"
      },
      {
        "duration": 14,
        "start_time": "2022-02-10T09:02:37.816Z"
      },
      {
        "duration": 4,
        "start_time": "2022-02-10T09:02:37.832Z"
      },
      {
        "duration": 34,
        "start_time": "2022-02-10T09:02:37.838Z"
      },
      {
        "duration": 10,
        "start_time": "2022-02-10T09:02:37.874Z"
      },
      {
        "duration": 3,
        "start_time": "2022-02-10T09:02:37.886Z"
      },
      {
        "duration": 16,
        "start_time": "2022-02-10T09:02:37.891Z"
      },
      {
        "duration": 13,
        "start_time": "2022-02-10T09:02:37.909Z"
      },
      {
        "duration": 10,
        "start_time": "2022-02-10T09:02:37.924Z"
      },
      {
        "duration": 16,
        "start_time": "2022-02-10T09:02:37.936Z"
      },
      {
        "duration": 24,
        "start_time": "2022-02-10T09:02:37.954Z"
      },
      {
        "duration": 11,
        "start_time": "2022-02-10T09:02:37.979Z"
      },
      {
        "duration": 6,
        "start_time": "2022-02-10T09:02:37.992Z"
      },
      {
        "duration": 19,
        "start_time": "2022-02-10T09:02:38.000Z"
      },
      {
        "duration": 26,
        "start_time": "2022-02-10T09:02:38.020Z"
      },
      {
        "duration": 15,
        "start_time": "2022-02-10T09:02:38.047Z"
      },
      {
        "duration": 18,
        "start_time": "2022-02-10T09:02:38.064Z"
      },
      {
        "duration": 33,
        "start_time": "2022-02-10T09:02:38.084Z"
      },
      {
        "duration": 39,
        "start_time": "2022-02-10T09:02:38.119Z"
      },
      {
        "duration": 17,
        "start_time": "2022-02-10T09:02:38.160Z"
      },
      {
        "duration": 25,
        "start_time": "2022-02-10T09:02:38.178Z"
      },
      {
        "duration": 40,
        "start_time": "2022-02-10T09:02:38.205Z"
      },
      {
        "duration": 9,
        "start_time": "2022-02-10T09:02:38.247Z"
      },
      {
        "duration": 25,
        "start_time": "2022-02-10T09:02:38.258Z"
      },
      {
        "duration": 18,
        "start_time": "2022-02-10T09:02:38.285Z"
      },
      {
        "duration": 16,
        "start_time": "2022-02-10T09:17:56.343Z"
      },
      {
        "duration": 378,
        "start_time": "2022-02-10T16:48:56.037Z"
      },
      {
        "duration": 1064,
        "start_time": "2022-02-10T16:49:00.365Z"
      },
      {
        "duration": 57,
        "start_time": "2022-02-10T16:49:01.431Z"
      },
      {
        "duration": 9,
        "start_time": "2022-02-10T16:49:01.490Z"
      },
      {
        "duration": 9,
        "start_time": "2022-02-10T16:49:01.501Z"
      },
      {
        "duration": 16,
        "start_time": "2022-02-10T16:49:01.512Z"
      },
      {
        "duration": 4,
        "start_time": "2022-02-10T16:49:01.529Z"
      },
      {
        "duration": 6,
        "start_time": "2022-02-10T16:49:01.534Z"
      },
      {
        "duration": 8,
        "start_time": "2022-02-10T16:49:01.542Z"
      },
      {
        "duration": 4,
        "start_time": "2022-02-10T16:49:01.552Z"
      },
      {
        "duration": 12,
        "start_time": "2022-02-10T16:49:01.558Z"
      },
      {
        "duration": 18,
        "start_time": "2022-02-10T16:49:01.571Z"
      },
      {
        "duration": 187,
        "start_time": "2022-02-10T16:49:01.591Z"
      },
      {
        "duration": 6,
        "start_time": "2022-02-10T16:49:01.779Z"
      },
      {
        "duration": 14,
        "start_time": "2022-02-10T16:49:01.786Z"
      },
      {
        "duration": 193,
        "start_time": "2022-02-10T16:49:01.801Z"
      },
      {
        "duration": 4,
        "start_time": "2022-02-10T16:49:01.996Z"
      },
      {
        "duration": 35,
        "start_time": "2022-02-10T16:49:02.001Z"
      },
      {
        "duration": 12,
        "start_time": "2022-02-10T16:49:02.038Z"
      },
      {
        "duration": 2,
        "start_time": "2022-02-10T16:49:02.052Z"
      },
      {
        "duration": 10,
        "start_time": "2022-02-10T16:49:02.055Z"
      },
      {
        "duration": 179,
        "start_time": "2022-02-10T16:49:02.067Z"
      },
      {
        "duration": 10,
        "start_time": "2022-02-10T16:49:02.248Z"
      },
      {
        "duration": 22,
        "start_time": "2022-02-10T16:49:02.259Z"
      },
      {
        "duration": 29,
        "start_time": "2022-02-10T16:49:02.282Z"
      },
      {
        "duration": 4,
        "start_time": "2022-02-10T16:49:02.313Z"
      },
      {
        "duration": 17,
        "start_time": "2022-02-10T16:49:02.318Z"
      },
      {
        "duration": 24,
        "start_time": "2022-02-10T16:49:02.336Z"
      },
      {
        "duration": 6,
        "start_time": "2022-02-10T16:49:02.361Z"
      },
      {
        "duration": 157,
        "start_time": "2022-02-10T16:49:02.368Z"
      },
      {
        "duration": 6,
        "start_time": "2022-02-10T16:49:02.527Z"
      },
      {
        "duration": 12,
        "start_time": "2022-02-10T16:49:02.535Z"
      },
      {
        "duration": 9,
        "start_time": "2022-02-10T16:49:02.549Z"
      },
      {
        "duration": 6,
        "start_time": "2022-02-10T16:49:02.559Z"
      },
      {
        "duration": 5,
        "start_time": "2022-02-10T16:49:02.569Z"
      },
      {
        "duration": 6,
        "start_time": "2022-02-10T16:49:02.576Z"
      },
      {
        "duration": 7,
        "start_time": "2022-02-10T16:49:02.584Z"
      },
      {
        "duration": 5,
        "start_time": "2022-02-10T16:49:02.592Z"
      },
      {
        "duration": 30,
        "start_time": "2022-02-10T16:49:02.598Z"
      },
      {
        "duration": 6,
        "start_time": "2022-02-10T16:49:02.629Z"
      },
      {
        "duration": 6,
        "start_time": "2022-02-10T16:49:02.636Z"
      },
      {
        "duration": 172,
        "start_time": "2022-02-10T16:49:02.643Z"
      },
      {
        "duration": 11,
        "start_time": "2022-02-10T16:49:02.816Z"
      },
      {
        "duration": 11,
        "start_time": "2022-02-10T16:49:02.828Z"
      },
      {
        "duration": 3,
        "start_time": "2022-02-10T16:49:02.840Z"
      },
      {
        "duration": 4,
        "start_time": "2022-02-10T16:49:02.845Z"
      },
      {
        "duration": 4,
        "start_time": "2022-02-10T16:49:02.850Z"
      },
      {
        "duration": 11,
        "start_time": "2022-02-10T16:49:02.855Z"
      },
      {
        "duration": 13,
        "start_time": "2022-02-10T16:49:02.868Z"
      },
      {
        "duration": 44,
        "start_time": "2022-02-10T16:49:02.883Z"
      },
      {
        "duration": 15,
        "start_time": "2022-02-10T16:49:02.928Z"
      },
      {
        "duration": 11,
        "start_time": "2022-02-10T16:49:02.945Z"
      },
      {
        "duration": 9,
        "start_time": "2022-02-10T16:49:02.957Z"
      },
      {
        "duration": 3,
        "start_time": "2022-02-10T16:49:02.967Z"
      },
      {
        "duration": 5,
        "start_time": "2022-02-10T16:49:02.971Z"
      },
      {
        "duration": 10,
        "start_time": "2022-02-10T16:49:02.977Z"
      },
      {
        "duration": 6,
        "start_time": "2022-02-10T16:49:02.988Z"
      },
      {
        "duration": 37,
        "start_time": "2022-02-10T16:49:02.995Z"
      },
      {
        "duration": 9,
        "start_time": "2022-02-10T16:49:03.033Z"
      },
      {
        "duration": 4,
        "start_time": "2022-02-10T16:49:03.043Z"
      },
      {
        "duration": 12,
        "start_time": "2022-02-10T16:49:03.049Z"
      },
      {
        "duration": 8,
        "start_time": "2022-02-10T16:49:03.062Z"
      },
      {
        "duration": 11,
        "start_time": "2022-02-10T16:49:03.071Z"
      },
      {
        "duration": 3,
        "start_time": "2022-02-10T16:49:03.083Z"
      },
      {
        "duration": 7,
        "start_time": "2022-02-10T16:49:03.088Z"
      },
      {
        "duration": 31,
        "start_time": "2022-02-10T16:49:03.097Z"
      },
      {
        "duration": 7,
        "start_time": "2022-02-10T16:49:03.130Z"
      },
      {
        "duration": 4,
        "start_time": "2022-02-10T16:49:03.138Z"
      },
      {
        "duration": 18,
        "start_time": "2022-02-10T16:49:03.143Z"
      },
      {
        "duration": 24,
        "start_time": "2022-02-10T16:49:03.162Z"
      },
      {
        "duration": 12,
        "start_time": "2022-02-10T16:49:03.187Z"
      },
      {
        "duration": 32,
        "start_time": "2022-02-10T16:49:03.200Z"
      },
      {
        "duration": 21,
        "start_time": "2022-02-10T16:49:03.234Z"
      },
      {
        "duration": 9,
        "start_time": "2022-02-10T16:49:03.256Z"
      },
      {
        "duration": 17,
        "start_time": "2022-02-10T16:49:03.266Z"
      },
      {
        "duration": 17,
        "start_time": "2022-02-10T16:49:03.284Z"
      },
      {
        "duration": 11,
        "start_time": "2022-02-10T16:51:26.680Z"
      },
      {
        "duration": 1593,
        "start_time": "2022-02-11T06:21:29.483Z"
      },
      {
        "duration": 81,
        "start_time": "2022-02-11T06:21:31.079Z"
      },
      {
        "duration": 15,
        "start_time": "2022-02-11T06:21:31.171Z"
      },
      {
        "duration": 12,
        "start_time": "2022-02-11T06:21:31.190Z"
      },
      {
        "duration": 20,
        "start_time": "2022-02-11T06:21:31.205Z"
      },
      {
        "duration": 43,
        "start_time": "2022-02-11T06:21:31.228Z"
      },
      {
        "duration": 8,
        "start_time": "2022-02-11T06:21:31.273Z"
      },
      {
        "duration": 17,
        "start_time": "2022-02-11T06:21:31.285Z"
      },
      {
        "duration": 9,
        "start_time": "2022-02-11T06:21:31.305Z"
      },
      {
        "duration": 55,
        "start_time": "2022-02-11T06:21:31.316Z"
      },
      {
        "duration": 10,
        "start_time": "2022-02-11T06:21:31.373Z"
      },
      {
        "duration": 336,
        "start_time": "2022-02-11T06:21:31.386Z"
      },
      {
        "duration": 10,
        "start_time": "2022-02-11T06:21:31.726Z"
      },
      {
        "duration": 41,
        "start_time": "2022-02-11T06:21:31.739Z"
      },
      {
        "duration": 336,
        "start_time": "2022-02-11T06:21:31.783Z"
      },
      {
        "duration": 7,
        "start_time": "2022-02-11T06:21:32.121Z"
      },
      {
        "duration": 38,
        "start_time": "2022-02-11T06:21:32.131Z"
      },
      {
        "duration": 20,
        "start_time": "2022-02-11T06:21:32.172Z"
      },
      {
        "duration": 4,
        "start_time": "2022-02-11T06:21:32.194Z"
      },
      {
        "duration": 35,
        "start_time": "2022-02-11T06:21:32.200Z"
      },
      {
        "duration": 313,
        "start_time": "2022-02-11T06:21:32.237Z"
      },
      {
        "duration": 21,
        "start_time": "2022-02-11T06:21:32.552Z"
      },
      {
        "duration": 23,
        "start_time": "2022-02-11T06:21:32.579Z"
      },
      {
        "duration": 47,
        "start_time": "2022-02-11T06:21:32.605Z"
      },
      {
        "duration": 23,
        "start_time": "2022-02-11T06:21:32.655Z"
      },
      {
        "duration": 27,
        "start_time": "2022-02-11T06:21:32.680Z"
      },
      {
        "duration": 30,
        "start_time": "2022-02-11T06:21:32.710Z"
      },
      {
        "duration": 47,
        "start_time": "2022-02-11T06:21:32.743Z"
      },
      {
        "duration": 299,
        "start_time": "2022-02-11T06:21:32.792Z"
      },
      {
        "duration": 11,
        "start_time": "2022-02-11T06:21:33.094Z"
      },
      {
        "duration": 38,
        "start_time": "2022-02-11T06:21:33.107Z"
      },
      {
        "duration": 27,
        "start_time": "2022-02-11T06:21:33.148Z"
      },
      {
        "duration": 30,
        "start_time": "2022-02-11T06:21:33.178Z"
      },
      {
        "duration": 31,
        "start_time": "2022-02-11T06:21:33.210Z"
      },
      {
        "duration": 33,
        "start_time": "2022-02-11T06:21:33.243Z"
      },
      {
        "duration": 20,
        "start_time": "2022-02-11T06:21:33.279Z"
      },
      {
        "duration": 29,
        "start_time": "2022-02-11T06:21:33.302Z"
      },
      {
        "duration": 19,
        "start_time": "2022-02-11T06:21:33.334Z"
      },
      {
        "duration": 18,
        "start_time": "2022-02-11T06:21:33.355Z"
      },
      {
        "duration": 42,
        "start_time": "2022-02-11T06:21:33.375Z"
      },
      {
        "duration": 279,
        "start_time": "2022-02-11T06:21:33.420Z"
      },
      {
        "duration": 11,
        "start_time": "2022-02-11T06:21:33.701Z"
      },
      {
        "duration": 32,
        "start_time": "2022-02-11T06:21:33.715Z"
      },
      {
        "duration": 5,
        "start_time": "2022-02-11T06:21:33.750Z"
      },
      {
        "duration": 5,
        "start_time": "2022-02-11T06:21:33.769Z"
      },
      {
        "duration": 29,
        "start_time": "2022-02-11T06:21:33.776Z"
      },
      {
        "duration": 19,
        "start_time": "2022-02-11T06:21:33.808Z"
      },
      {
        "duration": 22,
        "start_time": "2022-02-11T06:21:33.829Z"
      },
      {
        "duration": 32,
        "start_time": "2022-02-11T06:21:33.854Z"
      },
      {
        "duration": 21,
        "start_time": "2022-02-11T06:21:33.888Z"
      },
      {
        "duration": 15,
        "start_time": "2022-02-11T06:21:33.912Z"
      },
      {
        "duration": 44,
        "start_time": "2022-02-11T06:21:33.929Z"
      },
      {
        "duration": 5,
        "start_time": "2022-02-11T06:21:33.976Z"
      },
      {
        "duration": 20,
        "start_time": "2022-02-11T06:21:33.983Z"
      },
      {
        "duration": 23,
        "start_time": "2022-02-11T06:21:34.005Z"
      },
      {
        "duration": 28,
        "start_time": "2022-02-11T06:21:34.031Z"
      },
      {
        "duration": 35,
        "start_time": "2022-02-11T06:21:34.061Z"
      },
      {
        "duration": 32,
        "start_time": "2022-02-11T06:21:34.099Z"
      },
      {
        "duration": 10,
        "start_time": "2022-02-11T06:21:34.133Z"
      },
      {
        "duration": 21,
        "start_time": "2022-02-11T06:21:34.145Z"
      },
      {
        "duration": 21,
        "start_time": "2022-02-11T06:21:34.168Z"
      },
      {
        "duration": 41,
        "start_time": "2022-02-11T06:21:34.191Z"
      },
      {
        "duration": 12,
        "start_time": "2022-02-11T06:21:34.234Z"
      },
      {
        "duration": 18,
        "start_time": "2022-02-11T06:21:34.248Z"
      },
      {
        "duration": 31,
        "start_time": "2022-02-11T06:21:34.269Z"
      },
      {
        "duration": 16,
        "start_time": "2022-02-11T06:21:34.302Z"
      },
      {
        "duration": 28,
        "start_time": "2022-02-11T06:21:34.320Z"
      },
      {
        "duration": 39,
        "start_time": "2022-02-11T06:21:34.355Z"
      },
      {
        "duration": 37,
        "start_time": "2022-02-11T06:21:34.397Z"
      },
      {
        "duration": 35,
        "start_time": "2022-02-11T06:21:34.436Z"
      },
      {
        "duration": 20,
        "start_time": "2022-02-11T06:21:34.473Z"
      },
      {
        "duration": 40,
        "start_time": "2022-02-11T06:21:34.495Z"
      },
      {
        "duration": 40,
        "start_time": "2022-02-11T06:21:34.537Z"
      },
      {
        "duration": 30,
        "start_time": "2022-02-11T06:21:34.580Z"
      },
      {
        "duration": 61,
        "start_time": "2022-02-11T06:21:34.613Z"
      },
      {
        "duration": 13,
        "start_time": "2022-02-11T06:30:32.243Z"
      },
      {
        "duration": 10,
        "start_time": "2022-02-11T06:32:23.916Z"
      },
      {
        "duration": 24,
        "start_time": "2022-02-11T06:33:02.923Z"
      },
      {
        "duration": 7,
        "start_time": "2022-02-11T06:34:17.706Z"
      },
      {
        "duration": 11,
        "start_time": "2022-02-11T06:34:52.957Z"
      },
      {
        "duration": 84,
        "start_time": "2022-02-11T06:41:36.888Z"
      },
      {
        "duration": 4,
        "start_time": "2022-02-11T06:41:45.187Z"
      },
      {
        "duration": 412,
        "start_time": "2022-02-11T06:42:08.854Z"
      },
      {
        "duration": 298,
        "start_time": "2022-02-11T06:42:24.996Z"
      },
      {
        "duration": 4894,
        "start_time": "2022-02-11T06:44:36.655Z"
      },
      {
        "duration": 4,
        "start_time": "2022-02-11T06:45:37.197Z"
      },
      {
        "duration": 4853,
        "start_time": "2022-02-11T06:45:40.289Z"
      },
      {
        "duration": 35,
        "start_time": "2022-02-11T06:50:09.073Z"
      },
      {
        "duration": 33,
        "start_time": "2022-02-11T07:01:51.321Z"
      },
      {
        "duration": 37,
        "start_time": "2022-02-11T07:20:12.920Z"
      },
      {
        "duration": 23,
        "start_time": "2022-02-11T07:29:26.107Z"
      },
      {
        "duration": 32,
        "start_time": "2022-02-11T07:43:20.873Z"
      },
      {
        "duration": 34,
        "start_time": "2022-02-11T08:06:43.043Z"
      },
      {
        "duration": 4,
        "start_time": "2022-02-11T08:49:07.933Z"
      },
      {
        "duration": 3,
        "start_time": "2022-02-11T08:49:11.508Z"
      },
      {
        "duration": 85,
        "start_time": "2022-02-11T08:49:11.518Z"
      },
      {
        "duration": 14,
        "start_time": "2022-02-11T08:49:11.605Z"
      },
      {
        "duration": 16,
        "start_time": "2022-02-11T08:49:11.622Z"
      },
      {
        "duration": 45,
        "start_time": "2022-02-11T08:49:11.641Z"
      },
      {
        "duration": 6,
        "start_time": "2022-02-11T08:49:11.688Z"
      },
      {
        "duration": 15,
        "start_time": "2022-02-11T08:49:11.697Z"
      },
      {
        "duration": 20,
        "start_time": "2022-02-11T08:49:11.715Z"
      },
      {
        "duration": 37,
        "start_time": "2022-02-11T08:49:11.737Z"
      },
      {
        "duration": 19,
        "start_time": "2022-02-11T08:49:11.777Z"
      },
      {
        "duration": 10,
        "start_time": "2022-02-11T08:49:11.799Z"
      },
      {
        "duration": 441,
        "start_time": "2022-02-11T08:49:11.812Z"
      },
      {
        "duration": 9,
        "start_time": "2022-02-11T08:49:12.269Z"
      },
      {
        "duration": 20,
        "start_time": "2022-02-11T08:49:12.281Z"
      },
      {
        "duration": 353,
        "start_time": "2022-02-11T08:49:12.303Z"
      },
      {
        "duration": 7,
        "start_time": "2022-02-11T08:49:12.669Z"
      },
      {
        "duration": 32,
        "start_time": "2022-02-11T08:49:12.680Z"
      },
      {
        "duration": 20,
        "start_time": "2022-02-11T08:49:12.715Z"
      },
      {
        "duration": 28,
        "start_time": "2022-02-11T08:49:12.738Z"
      },
      {
        "duration": 31,
        "start_time": "2022-02-11T08:49:12.768Z"
      },
      {
        "duration": 319,
        "start_time": "2022-02-11T08:49:12.801Z"
      },
      {
        "duration": 19,
        "start_time": "2022-02-11T08:49:13.123Z"
      },
      {
        "duration": 33,
        "start_time": "2022-02-11T08:49:13.145Z"
      },
      {
        "duration": 42,
        "start_time": "2022-02-11T08:49:13.181Z"
      },
      {
        "duration": 7,
        "start_time": "2022-02-11T08:49:13.226Z"
      },
      {
        "duration": 35,
        "start_time": "2022-02-11T08:49:13.236Z"
      },
      {
        "duration": 29,
        "start_time": "2022-02-11T08:49:13.273Z"
      },
      {
        "duration": 23,
        "start_time": "2022-02-11T08:49:13.305Z"
      },
      {
        "duration": 303,
        "start_time": "2022-02-11T08:49:13.330Z"
      },
      {
        "duration": 10,
        "start_time": "2022-02-11T08:49:13.635Z"
      },
      {
        "duration": 34,
        "start_time": "2022-02-11T08:49:13.647Z"
      },
      {
        "duration": 32,
        "start_time": "2022-02-11T08:49:13.683Z"
      },
      {
        "duration": 13,
        "start_time": "2022-02-11T08:49:13.717Z"
      },
      {
        "duration": 15,
        "start_time": "2022-02-11T08:49:13.732Z"
      },
      {
        "duration": 24,
        "start_time": "2022-02-11T08:49:13.749Z"
      },
      {
        "duration": 16,
        "start_time": "2022-02-11T08:49:13.776Z"
      },
      {
        "duration": 23,
        "start_time": "2022-02-11T08:49:13.794Z"
      },
      {
        "duration": 14,
        "start_time": "2022-02-11T08:49:13.823Z"
      },
      {
        "duration": 22,
        "start_time": "2022-02-11T08:49:13.840Z"
      },
      {
        "duration": 20,
        "start_time": "2022-02-11T08:49:13.865Z"
      },
      {
        "duration": 297,
        "start_time": "2022-02-11T08:49:13.888Z"
      },
      {
        "duration": 12,
        "start_time": "2022-02-11T08:49:14.188Z"
      },
      {
        "duration": 18,
        "start_time": "2022-02-11T08:49:14.203Z"
      },
      {
        "duration": 45,
        "start_time": "2022-02-11T08:49:14.224Z"
      },
      {
        "duration": 6,
        "start_time": "2022-02-11T08:49:14.272Z"
      },
      {
        "duration": 17,
        "start_time": "2022-02-11T08:49:14.281Z"
      },
      {
        "duration": 25,
        "start_time": "2022-02-11T08:49:14.301Z"
      },
      {
        "duration": 25,
        "start_time": "2022-02-11T08:49:14.328Z"
      },
      {
        "duration": 26,
        "start_time": "2022-02-11T08:49:14.369Z"
      },
      {
        "duration": 24,
        "start_time": "2022-02-11T08:49:14.399Z"
      },
      {
        "duration": 58,
        "start_time": "2022-02-11T08:49:14.426Z"
      },
      {
        "duration": 16,
        "start_time": "2022-02-11T08:49:14.486Z"
      },
      {
        "duration": 7,
        "start_time": "2022-02-11T08:49:14.505Z"
      },
      {
        "duration": 9,
        "start_time": "2022-02-11T08:49:14.515Z"
      },
      {
        "duration": 44,
        "start_time": "2022-02-11T08:49:14.526Z"
      },
      {
        "duration": 17,
        "start_time": "2022-02-11T08:49:14.573Z"
      },
      {
        "duration": 31,
        "start_time": "2022-02-11T08:49:14.592Z"
      },
      {
        "duration": 36,
        "start_time": "2022-02-11T08:49:14.626Z"
      },
      {
        "duration": 15,
        "start_time": "2022-02-11T08:49:14.665Z"
      },
      {
        "duration": 25,
        "start_time": "2022-02-11T08:49:14.682Z"
      },
      {
        "duration": 19,
        "start_time": "2022-02-11T08:49:14.709Z"
      },
      {
        "duration": 41,
        "start_time": "2022-02-11T08:49:14.730Z"
      },
      {
        "duration": 23,
        "start_time": "2022-02-11T08:49:14.773Z"
      },
      {
        "duration": 41,
        "start_time": "2022-02-11T08:49:14.799Z"
      },
      {
        "duration": 41,
        "start_time": "2022-02-11T08:49:14.842Z"
      },
      {
        "duration": 14,
        "start_time": "2022-02-11T08:49:14.885Z"
      },
      {
        "duration": 21,
        "start_time": "2022-02-11T08:49:14.901Z"
      },
      {
        "duration": 46,
        "start_time": "2022-02-11T08:49:14.925Z"
      },
      {
        "duration": 11,
        "start_time": "2022-02-11T08:49:14.973Z"
      },
      {
        "duration": 46,
        "start_time": "2022-02-11T08:49:14.987Z"
      },
      {
        "duration": 10,
        "start_time": "2022-02-11T08:49:15.036Z"
      },
      {
        "duration": 49,
        "start_time": "2022-02-11T08:49:15.048Z"
      },
      {
        "duration": 19,
        "start_time": "2022-02-11T08:49:15.100Z"
      },
      {
        "duration": 49,
        "start_time": "2022-02-11T08:49:15.122Z"
      },
      {
        "duration": 46,
        "start_time": "2022-02-11T08:49:15.174Z"
      },
      {
        "duration": 31,
        "start_time": "2022-02-11T08:49:15.223Z"
      },
      {
        "duration": 34,
        "start_time": "2022-02-11T08:49:15.269Z"
      },
      {
        "duration": 12,
        "start_time": "2022-02-11T08:59:51.996Z"
      },
      {
        "duration": 4,
        "start_time": "2022-02-11T09:00:31.560Z"
      },
      {
        "duration": 75,
        "start_time": "2022-02-11T09:00:31.585Z"
      },
      {
        "duration": 16,
        "start_time": "2022-02-11T09:00:31.663Z"
      },
      {
        "duration": 19,
        "start_time": "2022-02-11T09:00:31.682Z"
      },
      {
        "duration": 38,
        "start_time": "2022-02-11T09:00:31.704Z"
      },
      {
        "duration": 8,
        "start_time": "2022-02-11T09:00:31.744Z"
      },
      {
        "duration": 20,
        "start_time": "2022-02-11T09:00:31.754Z"
      },
      {
        "duration": 48,
        "start_time": "2022-02-11T09:00:31.777Z"
      },
      {
        "duration": 12,
        "start_time": "2022-02-11T09:00:31.828Z"
      },
      {
        "duration": 30,
        "start_time": "2022-02-11T09:00:31.845Z"
      },
      {
        "duration": 20,
        "start_time": "2022-02-11T09:00:31.878Z"
      },
      {
        "duration": 352,
        "start_time": "2022-02-11T09:00:31.900Z"
      },
      {
        "duration": 22,
        "start_time": "2022-02-11T09:00:32.254Z"
      },
      {
        "duration": 40,
        "start_time": "2022-02-11T09:00:32.279Z"
      },
      {
        "duration": 342,
        "start_time": "2022-02-11T09:00:32.322Z"
      },
      {
        "duration": 7,
        "start_time": "2022-02-11T09:00:32.671Z"
      },
      {
        "duration": 17,
        "start_time": "2022-02-11T09:00:32.682Z"
      },
      {
        "duration": 20,
        "start_time": "2022-02-11T09:00:32.702Z"
      },
      {
        "duration": 4,
        "start_time": "2022-02-11T09:00:32.724Z"
      },
      {
        "duration": 13,
        "start_time": "2022-02-11T09:00:32.770Z"
      },
      {
        "duration": 317,
        "start_time": "2022-02-11T09:00:32.785Z"
      },
      {
        "duration": 19,
        "start_time": "2022-02-11T09:00:33.105Z"
      },
      {
        "duration": 14,
        "start_time": "2022-02-11T09:00:33.126Z"
      },
      {
        "duration": 61,
        "start_time": "2022-02-11T09:00:33.143Z"
      },
      {
        "duration": 6,
        "start_time": "2022-02-11T09:00:33.206Z"
      },
      {
        "duration": 8,
        "start_time": "2022-02-11T09:00:33.214Z"
      },
      {
        "duration": 50,
        "start_time": "2022-02-11T09:00:33.224Z"
      },
      {
        "duration": 10,
        "start_time": "2022-02-11T09:00:33.276Z"
      },
      {
        "duration": 321,
        "start_time": "2022-02-11T09:00:33.289Z"
      },
      {
        "duration": 12,
        "start_time": "2022-02-11T09:00:33.613Z"
      },
      {
        "duration": 47,
        "start_time": "2022-02-11T09:00:33.628Z"
      },
      {
        "duration": 13,
        "start_time": "2022-02-11T09:00:33.678Z"
      },
      {
        "duration": 10,
        "start_time": "2022-02-11T09:00:33.701Z"
      },
      {
        "duration": 53,
        "start_time": "2022-02-11T09:00:33.716Z"
      },
      {
        "duration": 11,
        "start_time": "2022-02-11T09:00:33.772Z"
      },
      {
        "duration": 12,
        "start_time": "2022-02-11T09:00:33.786Z"
      },
      {
        "duration": 9,
        "start_time": "2022-02-11T09:00:33.801Z"
      },
      {
        "duration": 56,
        "start_time": "2022-02-11T09:00:33.813Z"
      },
      {
        "duration": 12,
        "start_time": "2022-02-11T09:00:33.872Z"
      },
      {
        "duration": 11,
        "start_time": "2022-02-11T09:00:33.887Z"
      },
      {
        "duration": 332,
        "start_time": "2022-02-11T09:00:33.901Z"
      },
      {
        "duration": 12,
        "start_time": "2022-02-11T09:00:34.236Z"
      },
      {
        "duration": 19,
        "start_time": "2022-02-11T09:00:34.270Z"
      },
      {
        "duration": 6,
        "start_time": "2022-02-11T09:00:34.292Z"
      },
      {
        "duration": 10,
        "start_time": "2022-02-11T09:00:34.300Z"
      },
      {
        "duration": 6,
        "start_time": "2022-02-11T09:00:34.313Z"
      },
      {
        "duration": 61,
        "start_time": "2022-02-11T09:00:34.322Z"
      },
      {
        "duration": 27,
        "start_time": "2022-02-11T09:00:34.386Z"
      },
      {
        "duration": 57,
        "start_time": "2022-02-11T09:00:34.416Z"
      },
      {
        "duration": 22,
        "start_time": "2022-02-11T09:00:34.476Z"
      },
      {
        "duration": 15,
        "start_time": "2022-02-11T09:00:34.501Z"
      },
      {
        "duration": 50,
        "start_time": "2022-02-11T09:00:34.519Z"
      },
      {
        "duration": 5,
        "start_time": "2022-02-11T09:00:34.572Z"
      },
      {
        "duration": 7,
        "start_time": "2022-02-11T09:00:34.579Z"
      },
      {
        "duration": 18,
        "start_time": "2022-02-11T09:00:34.589Z"
      },
      {
        "duration": 4,
        "start_time": "2022-02-11T09:00:34.610Z"
      },
      {
        "duration": 15,
        "start_time": "2022-02-11T09:00:34.617Z"
      },
      {
        "duration": 16,
        "start_time": "2022-02-11T09:00:34.669Z"
      },
      {
        "duration": 5,
        "start_time": "2022-02-11T09:00:34.687Z"
      },
      {
        "duration": 16,
        "start_time": "2022-02-11T09:00:34.694Z"
      },
      {
        "duration": 10,
        "start_time": "2022-02-11T09:00:34.712Z"
      },
      {
        "duration": 55,
        "start_time": "2022-02-11T09:00:34.725Z"
      },
      {
        "duration": 5,
        "start_time": "2022-02-11T09:00:34.782Z"
      },
      {
        "duration": 16,
        "start_time": "2022-02-11T09:00:34.789Z"
      },
      {
        "duration": 20,
        "start_time": "2022-02-11T09:00:34.808Z"
      },
      {
        "duration": 42,
        "start_time": "2022-02-11T09:00:34.831Z"
      },
      {
        "duration": 4,
        "start_time": "2022-02-11T09:00:34.875Z"
      },
      {
        "duration": 29,
        "start_time": "2022-02-11T09:00:34.881Z"
      },
      {
        "duration": 10,
        "start_time": "2022-02-11T09:00:34.912Z"
      },
      {
        "duration": 73,
        "start_time": "2022-02-11T09:00:34.924Z"
      },
      {
        "duration": 10,
        "start_time": "2022-02-11T09:00:34.999Z"
      },
      {
        "duration": 59,
        "start_time": "2022-02-11T09:00:35.012Z"
      },
      {
        "duration": 22,
        "start_time": "2022-02-11T09:00:35.073Z"
      },
      {
        "duration": 22,
        "start_time": "2022-02-11T09:00:35.097Z"
      },
      {
        "duration": 69,
        "start_time": "2022-02-11T09:00:35.123Z"
      },
      {
        "duration": 35,
        "start_time": "2022-02-11T09:00:35.195Z"
      },
      {
        "duration": 59,
        "start_time": "2022-02-11T09:00:35.232Z"
      },
      {
        "duration": 4,
        "start_time": "2022-02-11T09:55:10.556Z"
      },
      {
        "duration": 75,
        "start_time": "2022-02-11T09:55:10.562Z"
      },
      {
        "duration": 29,
        "start_time": "2022-02-11T09:55:10.640Z"
      },
      {
        "duration": 12,
        "start_time": "2022-02-11T09:55:10.672Z"
      },
      {
        "duration": 21,
        "start_time": "2022-02-11T09:55:10.686Z"
      },
      {
        "duration": 6,
        "start_time": "2022-02-11T09:55:10.709Z"
      },
      {
        "duration": 54,
        "start_time": "2022-02-11T09:55:10.717Z"
      },
      {
        "duration": 28,
        "start_time": "2022-02-11T09:55:10.774Z"
      },
      {
        "duration": 18,
        "start_time": "2022-02-11T09:55:10.805Z"
      },
      {
        "duration": 13,
        "start_time": "2022-02-11T09:55:10.826Z"
      },
      {
        "duration": 30,
        "start_time": "2022-02-11T09:55:10.841Z"
      },
      {
        "duration": 340,
        "start_time": "2022-02-11T09:55:10.873Z"
      },
      {
        "duration": 10,
        "start_time": "2022-02-11T09:55:11.216Z"
      },
      {
        "duration": 47,
        "start_time": "2022-02-11T09:55:11.229Z"
      },
      {
        "duration": 456,
        "start_time": "2022-02-11T09:55:11.279Z"
      },
      {
        "duration": 7,
        "start_time": "2022-02-11T09:55:11.737Z"
      },
      {
        "duration": 34,
        "start_time": "2022-02-11T09:55:11.746Z"
      },
      {
        "duration": 20,
        "start_time": "2022-02-11T09:55:11.782Z"
      },
      {
        "duration": 5,
        "start_time": "2022-02-11T09:55:11.804Z"
      },
      {
        "duration": 14,
        "start_time": "2022-02-11T09:55:11.811Z"
      },
      {
        "duration": 328,
        "start_time": "2022-02-11T09:55:11.827Z"
      },
      {
        "duration": 13,
        "start_time": "2022-02-11T09:55:12.158Z"
      },
      {
        "duration": 35,
        "start_time": "2022-02-11T09:55:12.177Z"
      },
      {
        "duration": 7,
        "start_time": "2022-02-11T09:55:12.216Z"
      },
      {
        "duration": 44,
        "start_time": "2022-02-11T09:55:12.225Z"
      },
      {
        "duration": 15,
        "start_time": "2022-02-11T09:55:12.271Z"
      },
      {
        "duration": 18,
        "start_time": "2022-02-11T09:55:12.288Z"
      },
      {
        "duration": 317,
        "start_time": "2022-02-11T09:55:12.308Z"
      },
      {
        "duration": 9,
        "start_time": "2022-02-11T09:55:12.627Z"
      },
      {
        "duration": 42,
        "start_time": "2022-02-11T09:55:12.640Z"
      },
      {
        "duration": 11,
        "start_time": "2022-02-11T09:55:12.684Z"
      },
      {
        "duration": 10,
        "start_time": "2022-02-11T09:55:12.697Z"
      },
      {
        "duration": 9,
        "start_time": "2022-02-11T09:55:12.709Z"
      },
      {
        "duration": 8,
        "start_time": "2022-02-11T09:55:12.720Z"
      },
      {
        "duration": 46,
        "start_time": "2022-02-11T09:55:12.730Z"
      },
      {
        "duration": 6,
        "start_time": "2022-02-11T09:55:12.778Z"
      },
      {
        "duration": 13,
        "start_time": "2022-02-11T09:55:12.786Z"
      },
      {
        "duration": 13,
        "start_time": "2022-02-11T09:55:12.801Z"
      },
      {
        "duration": 7,
        "start_time": "2022-02-11T09:55:12.816Z"
      },
      {
        "duration": 338,
        "start_time": "2022-02-11T09:55:12.826Z"
      },
      {
        "duration": 10,
        "start_time": "2022-02-11T09:55:13.170Z"
      },
      {
        "duration": 18,
        "start_time": "2022-02-11T09:55:13.183Z"
      },
      {
        "duration": 5,
        "start_time": "2022-02-11T09:55:13.203Z"
      },
      {
        "duration": 12,
        "start_time": "2022-02-11T09:55:13.211Z"
      },
      {
        "duration": 8,
        "start_time": "2022-02-11T09:55:13.225Z"
      },
      {
        "duration": 45,
        "start_time": "2022-02-11T09:55:13.236Z"
      },
      {
        "duration": 25,
        "start_time": "2022-02-11T09:55:13.283Z"
      },
      {
        "duration": 25,
        "start_time": "2022-02-11T09:55:13.310Z"
      },
      {
        "duration": 54,
        "start_time": "2022-02-11T09:55:13.337Z"
      },
      {
        "duration": 17,
        "start_time": "2022-02-11T09:55:13.394Z"
      },
      {
        "duration": 17,
        "start_time": "2022-02-11T09:55:13.413Z"
      },
      {
        "duration": 40,
        "start_time": "2022-02-11T09:55:13.432Z"
      },
      {
        "duration": 7,
        "start_time": "2022-02-11T09:55:13.475Z"
      },
      {
        "duration": 20,
        "start_time": "2022-02-11T09:55:13.485Z"
      },
      {
        "duration": 4,
        "start_time": "2022-02-11T09:55:13.508Z"
      },
      {
        "duration": 15,
        "start_time": "2022-02-11T09:55:13.514Z"
      },
      {
        "duration": 47,
        "start_time": "2022-02-11T09:55:13.531Z"
      },
      {
        "duration": 6,
        "start_time": "2022-02-11T09:55:13.580Z"
      },
      {
        "duration": 18,
        "start_time": "2022-02-11T09:55:13.588Z"
      },
      {
        "duration": 10,
        "start_time": "2022-02-11T09:55:13.609Z"
      },
      {
        "duration": 59,
        "start_time": "2022-02-11T09:55:13.621Z"
      },
      {
        "duration": 9,
        "start_time": "2022-02-11T09:55:13.683Z"
      },
      {
        "duration": 34,
        "start_time": "2022-02-11T09:55:13.695Z"
      },
      {
        "duration": 33,
        "start_time": "2022-02-11T09:55:13.732Z"
      },
      {
        "duration": 18,
        "start_time": "2022-02-11T09:55:13.768Z"
      },
      {
        "duration": 18,
        "start_time": "2022-02-11T09:55:13.796Z"
      },
      {
        "duration": 49,
        "start_time": "2022-02-11T09:55:13.818Z"
      },
      {
        "duration": 17,
        "start_time": "2022-02-11T09:55:13.871Z"
      },
      {
        "duration": 45,
        "start_time": "2022-02-11T09:55:13.891Z"
      },
      {
        "duration": 10,
        "start_time": "2022-02-11T09:55:13.939Z"
      },
      {
        "duration": 48,
        "start_time": "2022-02-11T09:55:13.952Z"
      },
      {
        "duration": 22,
        "start_time": "2022-02-11T09:55:14.002Z"
      },
      {
        "duration": 55,
        "start_time": "2022-02-11T09:55:14.026Z"
      },
      {
        "duration": 32,
        "start_time": "2022-02-11T09:55:14.084Z"
      },
      {
        "duration": 61,
        "start_time": "2022-02-11T09:55:14.119Z"
      },
      {
        "duration": 33,
        "start_time": "2022-02-11T09:55:14.182Z"
      },
      {
        "duration": 33,
        "start_time": "2022-02-11T09:58:30.871Z"
      },
      {
        "duration": 31,
        "start_time": "2022-02-11T10:00:20.012Z"
      },
      {
        "duration": 26,
        "start_time": "2022-02-11T10:02:20.846Z"
      },
      {
        "duration": 3,
        "start_time": "2022-02-11T10:02:48.289Z"
      },
      {
        "duration": 100,
        "start_time": "2022-02-11T10:02:48.299Z"
      },
      {
        "duration": 16,
        "start_time": "2022-02-11T10:02:48.402Z"
      },
      {
        "duration": 15,
        "start_time": "2022-02-11T10:02:48.421Z"
      },
      {
        "duration": 52,
        "start_time": "2022-02-11T10:02:48.439Z"
      },
      {
        "duration": 10,
        "start_time": "2022-02-11T10:02:48.493Z"
      },
      {
        "duration": 10,
        "start_time": "2022-02-11T10:02:48.505Z"
      },
      {
        "duration": 54,
        "start_time": "2022-02-11T10:02:48.517Z"
      },
      {
        "duration": 9,
        "start_time": "2022-02-11T10:02:48.575Z"
      },
      {
        "duration": 15,
        "start_time": "2022-02-11T10:02:48.586Z"
      },
      {
        "duration": 9,
        "start_time": "2022-02-11T10:02:48.604Z"
      },
      {
        "duration": 379,
        "start_time": "2022-02-11T10:02:48.616Z"
      },
      {
        "duration": 10,
        "start_time": "2022-02-11T10:02:48.997Z"
      },
      {
        "duration": 28,
        "start_time": "2022-02-11T10:02:49.010Z"
      },
      {
        "duration": 441,
        "start_time": "2022-02-11T10:02:49.041Z"
      },
      {
        "duration": 7,
        "start_time": "2022-02-11T10:02:49.484Z"
      },
      {
        "duration": 15,
        "start_time": "2022-02-11T10:02:49.493Z"
      },
      {
        "duration": 59,
        "start_time": "2022-02-11T10:02:49.510Z"
      },
      {
        "duration": 4,
        "start_time": "2022-02-11T10:02:49.572Z"
      },
      {
        "duration": 22,
        "start_time": "2022-02-11T10:02:49.578Z"
      },
      {
        "duration": 331,
        "start_time": "2022-02-11T10:02:49.602Z"
      },
      {
        "duration": 9,
        "start_time": "2022-02-11T10:02:49.936Z"
      },
      {
        "duration": 36,
        "start_time": "2022-02-11T10:02:49.970Z"
      },
      {
        "duration": 7,
        "start_time": "2022-02-11T10:02:50.010Z"
      },
      {
        "duration": 4,
        "start_time": "2022-02-11T10:02:50.019Z"
      },
      {
        "duration": 51,
        "start_time": "2022-02-11T10:02:50.026Z"
      },
      {
        "duration": 21,
        "start_time": "2022-02-11T10:02:50.079Z"
      },
      {
        "duration": 362,
        "start_time": "2022-02-11T10:02:50.103Z"
      },
      {
        "duration": 11,
        "start_time": "2022-02-11T10:02:50.469Z"
      },
      {
        "duration": 20,
        "start_time": "2022-02-11T10:02:50.483Z"
      },
      {
        "duration": 17,
        "start_time": "2022-02-11T10:02:50.505Z"
      },
      {
        "duration": 46,
        "start_time": "2022-02-11T10:02:50.525Z"
      },
      {
        "duration": 12,
        "start_time": "2022-02-11T10:02:50.575Z"
      },
      {
        "duration": 11,
        "start_time": "2022-02-11T10:02:50.590Z"
      },
      {
        "duration": 12,
        "start_time": "2022-02-11T10:02:50.604Z"
      },
      {
        "duration": 51,
        "start_time": "2022-02-11T10:02:50.618Z"
      },
      {
        "duration": 11,
        "start_time": "2022-02-11T10:02:50.671Z"
      },
      {
        "duration": 15,
        "start_time": "2022-02-11T10:02:50.684Z"
      },
      {
        "duration": 13,
        "start_time": "2022-02-11T10:02:50.702Z"
      },
      {
        "duration": 341,
        "start_time": "2022-02-11T10:02:50.718Z"
      },
      {
        "duration": 19,
        "start_time": "2022-02-11T10:02:51.062Z"
      },
      {
        "duration": 38,
        "start_time": "2022-02-11T10:02:51.084Z"
      },
      {
        "duration": 6,
        "start_time": "2022-02-11T10:02:51.125Z"
      },
      {
        "duration": 35,
        "start_time": "2022-02-11T10:02:51.134Z"
      },
      {
        "duration": 7,
        "start_time": "2022-02-11T10:02:51.172Z"
      },
      {
        "duration": 25,
        "start_time": "2022-02-11T10:02:51.182Z"
      },
      {
        "duration": 61,
        "start_time": "2022-02-11T10:02:51.210Z"
      },
      {
        "duration": 34,
        "start_time": "2022-02-11T10:02:51.274Z"
      },
      {
        "duration": 28,
        "start_time": "2022-02-11T10:02:51.318Z"
      },
      {
        "duration": 19,
        "start_time": "2022-02-11T10:02:51.370Z"
      },
      {
        "duration": 21,
        "start_time": "2022-02-11T10:02:51.393Z"
      },
      {
        "duration": 5,
        "start_time": "2022-02-11T10:02:51.418Z"
      },
      {
        "duration": 43,
        "start_time": "2022-02-11T10:02:51.426Z"
      },
      {
        "duration": 30,
        "start_time": "2022-02-11T10:02:51.473Z"
      },
      {
        "duration": 6,
        "start_time": "2022-02-11T10:02:51.506Z"
      },
      {
        "duration": 20,
        "start_time": "2022-02-11T10:02:51.515Z"
      },
      {
        "duration": 61,
        "start_time": "2022-02-11T10:02:51.537Z"
      },
      {
        "duration": 7,
        "start_time": "2022-02-11T10:02:51.601Z"
      },
      {
        "duration": 21,
        "start_time": "2022-02-11T10:02:51.611Z"
      },
      {
        "duration": 11,
        "start_time": "2022-02-11T10:02:51.634Z"
      },
      {
        "duration": 34,
        "start_time": "2022-02-11T10:02:51.648Z"
      },
      {
        "duration": 7,
        "start_time": "2022-02-11T10:02:51.685Z"
      },
      {
        "duration": 28,
        "start_time": "2022-02-11T10:02:51.695Z"
      },
      {
        "duration": 44,
        "start_time": "2022-02-11T10:02:51.725Z"
      },
      {
        "duration": 12,
        "start_time": "2022-02-11T10:02:51.771Z"
      },
      {
        "duration": 7,
        "start_time": "2022-02-11T10:02:51.786Z"
      },
      {
        "duration": 34,
        "start_time": "2022-02-11T10:02:51.796Z"
      },
      {
        "duration": 47,
        "start_time": "2022-02-11T10:02:51.833Z"
      },
      {
        "duration": 53,
        "start_time": "2022-02-11T10:02:51.883Z"
      },
      {
        "duration": 40,
        "start_time": "2022-02-11T10:02:51.939Z"
      },
      {
        "duration": 42,
        "start_time": "2022-02-11T10:02:51.982Z"
      },
      {
        "duration": 58,
        "start_time": "2022-02-11T10:02:52.027Z"
      },
      {
        "duration": 36,
        "start_time": "2022-02-11T10:02:52.088Z"
      },
      {
        "duration": 58,
        "start_time": "2022-02-11T10:02:52.126Z"
      },
      {
        "duration": 35,
        "start_time": "2022-02-11T10:02:52.186Z"
      },
      {
        "duration": 59,
        "start_time": "2022-02-11T10:02:52.223Z"
      },
      {
        "duration": 27,
        "start_time": "2022-02-11T10:04:35.584Z"
      },
      {
        "duration": 22,
        "start_time": "2022-02-11T10:05:09.701Z"
      },
      {
        "duration": 616,
        "start_time": "2022-02-17T10:50:45.811Z"
      },
      {
        "duration": 71,
        "start_time": "2022-02-17T10:50:47.876Z"
      },
      {
        "duration": 12,
        "start_time": "2022-02-17T10:50:49.127Z"
      },
      {
        "duration": 10,
        "start_time": "2022-02-17T10:50:51.448Z"
      },
      {
        "duration": 14,
        "start_time": "2022-02-17T10:50:53.163Z"
      },
      {
        "duration": 6,
        "start_time": "2022-02-17T10:50:53.937Z"
      },
      {
        "duration": 5,
        "start_time": "2022-02-17T10:50:55.015Z"
      },
      {
        "duration": 10,
        "start_time": "2022-02-17T10:50:55.799Z"
      },
      {
        "duration": 6,
        "start_time": "2022-02-17T10:50:58.320Z"
      },
      {
        "duration": 8,
        "start_time": "2022-02-17T10:51:06.417Z"
      },
      {
        "duration": 7,
        "start_time": "2022-02-17T10:51:08.283Z"
      },
      {
        "duration": 262,
        "start_time": "2022-02-17T10:51:09.192Z"
      },
      {
        "duration": 7,
        "start_time": "2022-02-17T10:51:10.815Z"
      },
      {
        "duration": 13,
        "start_time": "2022-02-17T10:51:14.570Z"
      },
      {
        "duration": 212,
        "start_time": "2022-02-17T10:51:16.400Z"
      },
      {
        "duration": 6,
        "start_time": "2022-02-17T10:51:18.800Z"
      },
      {
        "duration": 11,
        "start_time": "2022-02-17T10:51:19.499Z"
      },
      {
        "duration": 14,
        "start_time": "2022-02-17T10:52:17.824Z"
      },
      {
        "duration": 3,
        "start_time": "2022-02-17T10:52:20.236Z"
      },
      {
        "duration": 8,
        "start_time": "2022-02-17T10:52:34.201Z"
      },
      {
        "duration": 176,
        "start_time": "2022-02-17T10:52:36.452Z"
      },
      {
        "duration": 3,
        "start_time": "2022-02-17T11:00:43.028Z"
      },
      {
        "duration": 55,
        "start_time": "2022-02-17T11:00:43.342Z"
      },
      {
        "duration": 12,
        "start_time": "2022-02-17T11:00:46.628Z"
      },
      {
        "duration": 10,
        "start_time": "2022-02-17T11:00:46.643Z"
      },
      {
        "duration": 13,
        "start_time": "2022-02-17T11:00:46.655Z"
      },
      {
        "duration": 7,
        "start_time": "2022-02-17T11:00:46.670Z"
      },
      {
        "duration": 6,
        "start_time": "2022-02-17T11:00:46.679Z"
      },
      {
        "duration": 10,
        "start_time": "2022-02-17T11:00:46.942Z"
      },
      {
        "duration": 6,
        "start_time": "2022-02-17T11:00:48.317Z"
      },
      {
        "duration": 9,
        "start_time": "2022-02-17T11:00:49.356Z"
      },
      {
        "duration": 7,
        "start_time": "2022-02-17T11:00:49.869Z"
      },
      {
        "duration": 237,
        "start_time": "2022-02-17T11:00:54.116Z"
      },
      {
        "duration": 256,
        "start_time": "2022-02-17T11:01:21.990Z"
      },
      {
        "duration": 13,
        "start_time": "2022-02-17T11:01:28.518Z"
      },
      {
        "duration": 534,
        "start_time": "2022-02-17T11:06:41.555Z"
      },
      {
        "duration": 61,
        "start_time": "2022-02-17T11:06:42.155Z"
      },
      {
        "duration": 11,
        "start_time": "2022-02-17T11:06:42.858Z"
      },
      {
        "duration": 10,
        "start_time": "2022-02-17T11:06:44.100Z"
      },
      {
        "duration": 16,
        "start_time": "2022-02-17T11:06:45.119Z"
      },
      {
        "duration": 6,
        "start_time": "2022-02-17T11:06:45.738Z"
      },
      {
        "duration": 5,
        "start_time": "2022-02-17T11:06:46.464Z"
      },
      {
        "duration": 11,
        "start_time": "2022-02-17T11:06:47.231Z"
      },
      {
        "duration": 6,
        "start_time": "2022-02-17T11:06:48.711Z"
      },
      {
        "duration": 8,
        "start_time": "2022-02-17T11:06:49.568Z"
      },
      {
        "duration": 7,
        "start_time": "2022-02-17T11:06:50.583Z"
      },
      {
        "duration": 254,
        "start_time": "2022-02-17T11:06:52.319Z"
      },
      {
        "duration": 4750,
        "start_time": "2022-02-17T11:06:56.023Z"
      },
      {
        "duration": 113259,
        "start_time": "2022-02-17T11:05:07.516Z"
      },
      {
        "duration": 8,
        "start_time": "2022-02-17T11:07:10.224Z"
      },
      {
        "duration": 13,
        "start_time": "2022-02-17T11:07:11.136Z"
      },
      {
        "duration": 215,
        "start_time": "2022-02-17T11:07:19.320Z"
      },
      {
        "duration": 56,
        "start_time": "2022-02-17T11:16:40.711Z"
      },
      {
        "duration": 682,
        "start_time": "2022-02-18T06:55:37.287Z"
      },
      {
        "duration": 83,
        "start_time": "2022-02-18T06:55:37.972Z"
      },
      {
        "duration": 12,
        "start_time": "2022-02-18T06:55:38.057Z"
      },
      {
        "duration": 22,
        "start_time": "2022-02-18T06:55:38.072Z"
      },
      {
        "duration": 20,
        "start_time": "2022-02-18T06:55:38.108Z"
      },
      {
        "duration": 11,
        "start_time": "2022-02-18T06:55:38.129Z"
      },
      {
        "duration": 16,
        "start_time": "2022-02-18T06:55:38.142Z"
      },
      {
        "duration": 24,
        "start_time": "2022-02-18T06:55:38.161Z"
      },
      {
        "duration": 23,
        "start_time": "2022-02-18T06:55:38.188Z"
      },
      {
        "duration": 26,
        "start_time": "2022-02-18T06:55:38.214Z"
      },
      {
        "duration": 57,
        "start_time": "2022-02-18T06:55:38.242Z"
      },
      {
        "duration": 276,
        "start_time": "2022-02-18T06:55:38.301Z"
      },
      {
        "duration": 4,
        "start_time": "2022-02-18T06:55:38.579Z"
      },
      {
        "duration": 33,
        "start_time": "2022-02-18T06:55:38.585Z"
      },
      {
        "duration": 235,
        "start_time": "2022-02-18T06:55:38.620Z"
      },
      {
        "duration": 5,
        "start_time": "2022-02-18T06:55:38.857Z"
      },
      {
        "duration": 16,
        "start_time": "2022-02-18T06:55:38.864Z"
      },
      {
        "duration": 36,
        "start_time": "2022-02-18T06:55:38.881Z"
      },
      {
        "duration": 3,
        "start_time": "2022-02-18T06:55:38.919Z"
      },
      {
        "duration": 16,
        "start_time": "2022-02-18T06:55:38.923Z"
      },
      {
        "duration": 212,
        "start_time": "2022-02-18T06:55:38.941Z"
      },
      {
        "duration": 7,
        "start_time": "2022-02-18T06:55:39.155Z"
      },
      {
        "duration": 87,
        "start_time": "2022-02-18T06:55:39.166Z"
      },
      {
        "duration": 5,
        "start_time": "2022-02-18T06:55:39.256Z"
      },
      {
        "duration": 9,
        "start_time": "2022-02-18T06:55:39.263Z"
      },
      {
        "duration": 18,
        "start_time": "2022-02-18T06:55:39.274Z"
      },
      {
        "duration": 23,
        "start_time": "2022-02-18T06:55:39.294Z"
      },
      {
        "duration": 211,
        "start_time": "2022-02-18T06:55:39.319Z"
      },
      {
        "duration": 8,
        "start_time": "2022-02-18T06:55:39.532Z"
      },
      {
        "duration": 22,
        "start_time": "2022-02-18T06:55:39.542Z"
      },
      {
        "duration": 15,
        "start_time": "2022-02-18T06:55:39.566Z"
      },
      {
        "duration": 27,
        "start_time": "2022-02-18T06:55:39.583Z"
      },
      {
        "duration": 8,
        "start_time": "2022-02-18T06:55:39.612Z"
      },
      {
        "duration": 20,
        "start_time": "2022-02-18T06:55:39.622Z"
      },
      {
        "duration": 10,
        "start_time": "2022-02-18T06:55:39.644Z"
      },
      {
        "duration": 10,
        "start_time": "2022-02-18T06:55:39.656Z"
      },
      {
        "duration": 11,
        "start_time": "2022-02-18T06:55:39.667Z"
      },
      {
        "duration": 30,
        "start_time": "2022-02-18T06:55:39.680Z"
      },
      {
        "duration": 8,
        "start_time": "2022-02-18T06:55:39.713Z"
      },
      {
        "duration": 220,
        "start_time": "2022-02-18T06:55:39.723Z"
      },
      {
        "duration": 9,
        "start_time": "2022-02-18T06:55:39.945Z"
      },
      {
        "duration": 19,
        "start_time": "2022-02-18T06:55:39.955Z"
      },
      {
        "duration": 4,
        "start_time": "2022-02-18T06:55:39.976Z"
      },
      {
        "duration": 26,
        "start_time": "2022-02-18T06:55:39.982Z"
      },
      {
        "duration": 12,
        "start_time": "2022-02-18T06:55:40.010Z"
      },
      {
        "duration": 20,
        "start_time": "2022-02-18T06:55:40.024Z"
      },
      {
        "duration": 19,
        "start_time": "2022-02-18T06:55:40.046Z"
      },
      {
        "duration": 41,
        "start_time": "2022-02-18T06:55:40.067Z"
      },
      {
        "duration": 18,
        "start_time": "2022-02-18T06:55:40.110Z"
      },
      {
        "duration": 13,
        "start_time": "2022-02-18T06:55:40.130Z"
      },
      {
        "duration": 13,
        "start_time": "2022-02-18T06:55:40.146Z"
      },
      {
        "duration": 4,
        "start_time": "2022-02-18T06:55:40.161Z"
      },
      {
        "duration": 41,
        "start_time": "2022-02-18T06:55:40.167Z"
      },
      {
        "duration": 15,
        "start_time": "2022-02-18T06:55:40.210Z"
      },
      {
        "duration": 8,
        "start_time": "2022-02-18T06:55:40.227Z"
      },
      {
        "duration": 14,
        "start_time": "2022-02-18T06:55:40.237Z"
      },
      {
        "duration": 21,
        "start_time": "2022-02-18T06:55:40.253Z"
      },
      {
        "duration": 8,
        "start_time": "2022-02-18T06:55:40.276Z"
      },
      {
        "duration": 23,
        "start_time": "2022-02-18T06:55:40.286Z"
      },
      {
        "duration": 8,
        "start_time": "2022-02-18T06:55:40.312Z"
      },
      {
        "duration": 19,
        "start_time": "2022-02-18T06:55:40.322Z"
      },
      {
        "duration": 13,
        "start_time": "2022-02-18T06:55:40.343Z"
      },
      {
        "duration": 17,
        "start_time": "2022-02-18T06:55:40.358Z"
      },
      {
        "duration": 20,
        "start_time": "2022-02-18T06:55:40.377Z"
      },
      {
        "duration": 8,
        "start_time": "2022-02-18T06:55:40.407Z"
      },
      {
        "duration": 9,
        "start_time": "2022-02-18T06:55:40.417Z"
      },
      {
        "duration": 30,
        "start_time": "2022-02-18T06:55:40.428Z"
      },
      {
        "duration": 9,
        "start_time": "2022-02-18T06:55:40.463Z"
      },
      {
        "duration": 52,
        "start_time": "2022-02-18T06:55:40.475Z"
      },
      {
        "duration": 8,
        "start_time": "2022-02-18T06:55:40.529Z"
      },
      {
        "duration": 27,
        "start_time": "2022-02-18T06:55:40.539Z"
      },
      {
        "duration": 46,
        "start_time": "2022-02-18T06:55:40.568Z"
      },
      {
        "duration": 17,
        "start_time": "2022-02-18T06:55:40.616Z"
      },
      {
        "duration": 25,
        "start_time": "2022-02-18T06:55:40.635Z"
      },
      {
        "duration": 52,
        "start_time": "2022-02-18T06:55:40.661Z"
      },
      {
        "duration": 25,
        "start_time": "2022-02-18T06:55:40.715Z"
      },
      {
        "duration": 13,
        "start_time": "2022-02-18T07:37:56.095Z"
      },
      {
        "duration": 3,
        "start_time": "2022-02-18T07:38:03.889Z"
      },
      {
        "duration": 94,
        "start_time": "2022-02-18T07:38:03.903Z"
      },
      {
        "duration": 13,
        "start_time": "2022-02-18T07:38:04.030Z"
      },
      {
        "duration": 12,
        "start_time": "2022-02-18T07:38:04.045Z"
      },
      {
        "duration": 20,
        "start_time": "2022-02-18T07:38:04.060Z"
      },
      {
        "duration": 9,
        "start_time": "2022-02-18T07:38:04.083Z"
      },
      {
        "duration": 10,
        "start_time": "2022-02-18T07:38:04.094Z"
      },
      {
        "duration": 17,
        "start_time": "2022-02-18T07:38:04.107Z"
      },
      {
        "duration": 7,
        "start_time": "2022-02-18T07:38:04.126Z"
      },
      {
        "duration": 15,
        "start_time": "2022-02-18T07:38:04.135Z"
      },
      {
        "duration": 11,
        "start_time": "2022-02-18T07:38:04.152Z"
      },
      {
        "duration": 266,
        "start_time": "2022-02-18T07:38:04.165Z"
      },
      {
        "duration": 4,
        "start_time": "2022-02-18T07:38:04.433Z"
      },
      {
        "duration": 21,
        "start_time": "2022-02-18T07:38:04.439Z"
      },
      {
        "duration": 253,
        "start_time": "2022-02-18T07:38:04.462Z"
      },
      {
        "duration": 6,
        "start_time": "2022-02-18T07:38:04.717Z"
      },
      {
        "duration": 29,
        "start_time": "2022-02-18T07:38:04.725Z"
      },
      {
        "duration": 14,
        "start_time": "2022-02-18T07:38:04.758Z"
      },
      {
        "duration": 3,
        "start_time": "2022-02-18T07:38:04.775Z"
      },
      {
        "duration": 31,
        "start_time": "2022-02-18T07:38:04.780Z"
      },
      {
        "duration": 212,
        "start_time": "2022-02-18T07:38:04.813Z"
      },
      {
        "duration": 7,
        "start_time": "2022-02-18T07:38:05.027Z"
      },
      {
        "duration": 24,
        "start_time": "2022-02-18T07:38:05.036Z"
      },
      {
        "duration": 7,
        "start_time": "2022-02-18T07:38:05.062Z"
      },
      {
        "duration": 8,
        "start_time": "2022-02-18T07:38:05.070Z"
      },
      {
        "duration": 36,
        "start_time": "2022-02-18T07:38:05.080Z"
      },
      {
        "duration": 24,
        "start_time": "2022-02-18T07:38:05.119Z"
      },
      {
        "duration": 203,
        "start_time": "2022-02-18T07:38:05.145Z"
      },
      {
        "duration": 9,
        "start_time": "2022-02-18T07:38:05.351Z"
      },
      {
        "duration": 15,
        "start_time": "2022-02-18T07:38:05.362Z"
      },
      {
        "duration": 35,
        "start_time": "2022-02-18T07:38:05.379Z"
      },
      {
        "duration": 15,
        "start_time": "2022-02-18T07:38:05.417Z"
      },
      {
        "duration": 16,
        "start_time": "2022-02-18T07:38:05.434Z"
      },
      {
        "duration": 9,
        "start_time": "2022-02-18T07:38:05.453Z"
      },
      {
        "duration": 15,
        "start_time": "2022-02-18T07:38:05.464Z"
      },
      {
        "duration": 26,
        "start_time": "2022-02-18T07:38:05.481Z"
      },
      {
        "duration": 15,
        "start_time": "2022-02-18T07:38:05.514Z"
      },
      {
        "duration": 11,
        "start_time": "2022-02-18T07:38:05.533Z"
      },
      {
        "duration": 12,
        "start_time": "2022-02-18T07:38:05.546Z"
      },
      {
        "duration": 221,
        "start_time": "2022-02-18T07:38:05.560Z"
      },
      {
        "duration": 9,
        "start_time": "2022-02-18T07:38:05.783Z"
      },
      {
        "duration": 24,
        "start_time": "2022-02-18T07:38:05.794Z"
      },
      {
        "duration": 5,
        "start_time": "2022-02-18T07:38:05.820Z"
      },
      {
        "duration": 26,
        "start_time": "2022-02-18T07:38:05.827Z"
      },
      {
        "duration": 8,
        "start_time": "2022-02-18T07:38:05.855Z"
      },
      {
        "duration": 39,
        "start_time": "2022-02-18T07:38:05.865Z"
      },
      {
        "duration": 25,
        "start_time": "2022-02-18T07:38:05.906Z"
      },
      {
        "duration": 72,
        "start_time": "2022-02-18T07:38:05.933Z"
      },
      {
        "duration": 29,
        "start_time": "2022-02-18T07:38:06.008Z"
      },
      {
        "duration": 13,
        "start_time": "2022-02-18T07:38:06.040Z"
      },
      {
        "duration": 13,
        "start_time": "2022-02-18T07:38:06.055Z"
      },
      {
        "duration": 4,
        "start_time": "2022-02-18T07:38:06.070Z"
      },
      {
        "duration": 18,
        "start_time": "2022-02-18T07:38:06.076Z"
      },
      {
        "duration": 37,
        "start_time": "2022-02-18T07:38:06.096Z"
      },
      {
        "duration": 9,
        "start_time": "2022-02-18T07:38:06.135Z"
      },
      {
        "duration": 13,
        "start_time": "2022-02-18T07:38:06.147Z"
      },
      {
        "duration": 22,
        "start_time": "2022-02-18T07:38:06.162Z"
      },
      {
        "duration": 8,
        "start_time": "2022-02-18T07:38:06.186Z"
      },
      {
        "duration": 18,
        "start_time": "2022-02-18T07:38:06.196Z"
      },
      {
        "duration": 22,
        "start_time": "2022-02-18T07:38:06.216Z"
      },
      {
        "duration": 28,
        "start_time": "2022-02-18T07:38:06.240Z"
      },
      {
        "duration": 9,
        "start_time": "2022-02-18T07:38:06.270Z"
      },
      {
        "duration": 17,
        "start_time": "2022-02-18T07:38:06.281Z"
      },
      {
        "duration": 24,
        "start_time": "2022-02-18T07:38:06.300Z"
      },
      {
        "duration": 30,
        "start_time": "2022-02-18T07:38:06.326Z"
      },
      {
        "duration": 6,
        "start_time": "2022-02-18T07:38:06.358Z"
      },
      {
        "duration": 29,
        "start_time": "2022-02-18T07:38:06.366Z"
      },
      {
        "duration": 13,
        "start_time": "2022-02-18T07:38:06.397Z"
      },
      {
        "duration": 35,
        "start_time": "2022-02-18T07:38:06.412Z"
      },
      {
        "duration": 8,
        "start_time": "2022-02-18T07:38:06.449Z"
      },
      {
        "duration": 33,
        "start_time": "2022-02-18T07:38:06.459Z"
      },
      {
        "duration": 31,
        "start_time": "2022-02-18T07:38:06.494Z"
      },
      {
        "duration": 17,
        "start_time": "2022-02-18T07:38:06.527Z"
      },
      {
        "duration": 30,
        "start_time": "2022-02-18T07:38:06.546Z"
      },
      {
        "duration": 48,
        "start_time": "2022-02-18T07:38:06.578Z"
      },
      {
        "duration": 23,
        "start_time": "2022-02-18T07:38:06.627Z"
      },
      {
        "duration": 3,
        "start_time": "2022-02-18T07:57:16.382Z"
      },
      {
        "duration": 57,
        "start_time": "2022-02-18T07:57:16.392Z"
      },
      {
        "duration": 12,
        "start_time": "2022-02-18T07:57:16.451Z"
      },
      {
        "duration": 12,
        "start_time": "2022-02-18T07:57:16.465Z"
      },
      {
        "duration": 38,
        "start_time": "2022-02-18T07:57:16.479Z"
      },
      {
        "duration": 25,
        "start_time": "2022-02-18T07:57:16.518Z"
      },
      {
        "duration": 23,
        "start_time": "2022-02-18T07:57:16.545Z"
      },
      {
        "duration": 14,
        "start_time": "2022-02-18T07:57:16.570Z"
      },
      {
        "duration": 27,
        "start_time": "2022-02-18T07:57:16.587Z"
      },
      {
        "duration": 27,
        "start_time": "2022-02-18T07:57:16.616Z"
      },
      {
        "duration": 17,
        "start_time": "2022-02-18T07:57:16.645Z"
      },
      {
        "duration": 248,
        "start_time": "2022-02-18T07:57:16.664Z"
      },
      {
        "duration": 5,
        "start_time": "2022-02-18T07:57:16.914Z"
      },
      {
        "duration": 25,
        "start_time": "2022-02-18T07:57:16.921Z"
      },
      {
        "duration": 382,
        "start_time": "2022-02-18T07:57:16.949Z"
      },
      {
        "duration": 6,
        "start_time": "2022-02-18T07:57:17.335Z"
      },
      {
        "duration": 16,
        "start_time": "2022-02-18T07:57:17.344Z"
      },
      {
        "duration": 45,
        "start_time": "2022-02-18T07:57:17.362Z"
      },
      {
        "duration": 3,
        "start_time": "2022-02-18T07:57:17.409Z"
      },
      {
        "duration": 20,
        "start_time": "2022-02-18T07:57:17.414Z"
      },
      {
        "duration": 206,
        "start_time": "2022-02-18T07:57:17.436Z"
      },
      {
        "duration": 7,
        "start_time": "2022-02-18T07:57:17.644Z"
      },
      {
        "duration": 36,
        "start_time": "2022-02-18T07:57:17.653Z"
      },
      {
        "duration": 18,
        "start_time": "2022-02-18T07:57:17.691Z"
      },
      {
        "duration": 6,
        "start_time": "2022-02-18T07:57:17.711Z"
      },
      {
        "duration": 16,
        "start_time": "2022-02-18T07:57:17.719Z"
      },
      {
        "duration": 13,
        "start_time": "2022-02-18T07:57:17.737Z"
      },
      {
        "duration": 222,
        "start_time": "2022-02-18T07:57:17.751Z"
      },
      {
        "duration": 9,
        "start_time": "2022-02-18T07:57:17.975Z"
      },
      {
        "duration": 30,
        "start_time": "2022-02-18T07:57:17.986Z"
      },
      {
        "duration": 22,
        "start_time": "2022-02-18T07:57:18.018Z"
      },
      {
        "duration": 14,
        "start_time": "2022-02-18T07:57:18.042Z"
      },
      {
        "duration": 13,
        "start_time": "2022-02-18T07:57:18.058Z"
      },
      {
        "duration": 12,
        "start_time": "2022-02-18T07:57:18.073Z"
      },
      {
        "duration": 18,
        "start_time": "2022-02-18T07:57:18.087Z"
      },
      {
        "duration": 5,
        "start_time": "2022-02-18T07:57:18.111Z"
      },
      {
        "duration": 11,
        "start_time": "2022-02-18T07:57:18.118Z"
      },
      {
        "duration": 11,
        "start_time": "2022-02-18T07:57:18.132Z"
      },
      {
        "duration": 13,
        "start_time": "2022-02-18T07:57:18.145Z"
      },
      {
        "duration": 291,
        "start_time": "2022-02-18T07:57:18.160Z"
      },
      {
        "duration": 9,
        "start_time": "2022-02-18T07:57:18.453Z"
      },
      {
        "duration": 16,
        "start_time": "2022-02-18T07:57:18.464Z"
      },
      {
        "duration": 5,
        "start_time": "2022-02-18T07:57:18.482Z"
      },
      {
        "duration": 5,
        "start_time": "2022-02-18T07:57:18.507Z"
      },
      {
        "duration": 19,
        "start_time": "2022-02-18T07:57:18.514Z"
      },
      {
        "duration": 23,
        "start_time": "2022-02-18T07:57:18.535Z"
      },
      {
        "duration": 20,
        "start_time": "2022-02-18T07:57:18.560Z"
      },
      {
        "duration": 33,
        "start_time": "2022-02-18T07:57:18.582Z"
      },
      {
        "duration": 19,
        "start_time": "2022-02-18T07:57:18.617Z"
      },
      {
        "duration": 13,
        "start_time": "2022-02-18T07:57:18.637Z"
      },
      {
        "duration": 14,
        "start_time": "2022-02-18T07:57:18.652Z"
      },
      {
        "duration": 3,
        "start_time": "2022-02-18T07:57:18.668Z"
      },
      {
        "duration": 36,
        "start_time": "2022-02-18T07:57:18.673Z"
      },
      {
        "duration": 15,
        "start_time": "2022-02-18T07:57:18.711Z"
      },
      {
        "duration": 8,
        "start_time": "2022-02-18T07:57:18.729Z"
      },
      {
        "duration": 19,
        "start_time": "2022-02-18T07:57:18.739Z"
      },
      {
        "duration": 17,
        "start_time": "2022-02-18T07:57:18.760Z"
      },
      {
        "duration": 12,
        "start_time": "2022-02-18T07:57:18.779Z"
      },
      {
        "duration": 25,
        "start_time": "2022-02-18T07:57:18.793Z"
      },
      {
        "duration": 14,
        "start_time": "2022-02-18T07:57:18.820Z"
      },
      {
        "duration": 17,
        "start_time": "2022-02-18T07:57:18.836Z"
      },
      {
        "duration": 7,
        "start_time": "2022-02-18T07:57:18.855Z"
      },
      {
        "duration": 16,
        "start_time": "2022-02-18T07:57:18.864Z"
      },
      {
        "duration": 30,
        "start_time": "2022-02-18T07:57:18.882Z"
      },
      {
        "duration": 9,
        "start_time": "2022-02-18T07:57:18.914Z"
      },
      {
        "duration": 6,
        "start_time": "2022-02-18T07:57:18.925Z"
      },
      {
        "duration": 28,
        "start_time": "2022-02-18T07:57:18.933Z"
      },
      {
        "duration": 10,
        "start_time": "2022-02-18T07:57:18.963Z"
      },
      {
        "duration": 52,
        "start_time": "2022-02-18T07:57:18.974Z"
      },
      {
        "duration": 6,
        "start_time": "2022-02-18T07:57:19.028Z"
      },
      {
        "duration": 25,
        "start_time": "2022-02-18T07:57:19.036Z"
      },
      {
        "duration": 18,
        "start_time": "2022-02-18T07:57:19.063Z"
      },
      {
        "duration": 16,
        "start_time": "2022-02-18T07:57:19.107Z"
      },
      {
        "duration": 27,
        "start_time": "2022-02-18T07:57:19.126Z"
      },
      {
        "duration": 25,
        "start_time": "2022-02-18T07:57:19.156Z"
      },
      {
        "duration": 26,
        "start_time": "2022-02-18T07:57:19.209Z"
      }
    ],
    "kernelspec": {
      "display_name": "Python 3 (ipykernel)",
      "language": "python",
      "name": "python3"
    },
    "language_info": {
      "codemirror_mode": {
        "name": "ipython",
        "version": 3
      },
      "file_extension": ".py",
      "mimetype": "text/x-python",
      "name": "python",
      "nbconvert_exporter": "python",
      "pygments_lexer": "ipython3",
      "version": "3.9.5"
    },
    "toc": {
      "base_numbering": 1,
      "nav_menu": {
        "height": "362.986px",
        "width": "479.983px"
      },
      "number_sections": true,
      "sideBar": true,
      "skip_h1_title": true,
      "title_cell": "Table of Contents",
      "title_sidebar": "Contents",
      "toc_cell": false,
      "toc_position": {
        "height": "calc(100% - 180px)",
        "left": "10px",
        "top": "150px",
        "width": "315.969px"
      },
      "toc_section_display": true,
      "toc_window_display": true
    },
    "colab": {
      "provenance": []
    }
  },
  "nbformat": 4,
  "nbformat_minor": 5
}