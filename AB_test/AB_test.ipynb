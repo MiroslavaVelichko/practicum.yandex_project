{
  "cells": [
    {
      "cell_type": "markdown",
      "metadata": {
        "toc": true,
        "id": "H5Rfeb9oMNGG"
      },
      "source": [
        "<h1>Содержание<span class=\"tocSkip\"></span></h1>\n",
        "<div class=\"toc\"><ul class=\"toc-item\"><li><span><a href=\"#Обзор-данных\" data-toc-modified-id=\"Обзор-данных-1\"><span class=\"toc-item-num\">1&nbsp;&nbsp;</span>Обзор данных</a></span></li><li><span><a href=\"#Предобработка-данных\" data-toc-modified-id=\"Предобработка-данных-2\"><span class=\"toc-item-num\">2&nbsp;&nbsp;</span>Предобработка данных</a></span><ul class=\"toc-item\"><li><span><a href=\"#Стиль-заголовков\" data-toc-modified-id=\"Стиль-заголовков-2.1\"><span class=\"toc-item-num\">2.1&nbsp;&nbsp;</span>Стиль заголовков</a></span></li><li><span><a href=\"#Изменение-типов-данных\" data-toc-modified-id=\"Изменение-типов-данных-2.2\"><span class=\"toc-item-num\">2.2&nbsp;&nbsp;</span>Изменение типов данных</a></span></li><li><span><a href=\"#Проверка-на-ошибки-и-аномалии\" data-toc-modified-id=\"Проверка-на-ошибки-и-аномалии-2.3\"><span class=\"toc-item-num\">2.3&nbsp;&nbsp;</span>Проверка на ошибки и аномалии</a></span></li><li><span><a href=\"#Проверка-на-наличие-дубликатов\" data-toc-modified-id=\"Проверка-на-наличие-дубликатов-2.4\"><span class=\"toc-item-num\">2.4&nbsp;&nbsp;</span>Проверка на наличие дубликатов</a></span></li></ul></li><li><span><a href=\"#Приоритизация-гипотез\" data-toc-modified-id=\"Приоритизация-гипотез-3\"><span class=\"toc-item-num\">3&nbsp;&nbsp;</span>Приоритизация гипотез</a></span></li><li><span><a href=\"#Анализ-A/B-теста\" data-toc-modified-id=\"Анализ-A/B-теста-4\"><span class=\"toc-item-num\">4&nbsp;&nbsp;</span>Анализ A/B-теста</a></span><ul class=\"toc-item\"><li><span><a href=\"#График-кумулятивной-выручки-по-группам\" data-toc-modified-id=\"График-кумулятивной-выручки-по-группам-4.1\"><span class=\"toc-item-num\">4.1&nbsp;&nbsp;</span>График кумулятивной выручки по группам</a></span></li><li><span><a href=\"#График-кумулятивного-среднего-чека-по-группам\" data-toc-modified-id=\"График-кумулятивного-среднего-чека-по-группам-4.2\"><span class=\"toc-item-num\">4.2&nbsp;&nbsp;</span>График кумулятивного среднего чека по группам</a></span></li><li><span><a href=\"#График-относительного-изменения-кумулятивного-среднего-чека-группы-B-к-группе-A\" data-toc-modified-id=\"График-относительного-изменения-кумулятивного-среднего-чека-группы-B-к-группе-A-4.3\"><span class=\"toc-item-num\">4.3&nbsp;&nbsp;</span>График относительного изменения кумулятивного среднего чека группы B к группе A</a></span></li><li><span><a href=\"#График-кумулятивной-конверсии-по-группам\" data-toc-modified-id=\"График-кумулятивной-конверсии-по-группам-4.4\"><span class=\"toc-item-num\">4.4&nbsp;&nbsp;</span>График кумулятивной конверсии по группам</a></span></li><li><span><a href=\"#График-относительного-изменения-кумулятивной-конверсии-группы-B-к-группе-A\" data-toc-modified-id=\"График-относительного-изменения-кумулятивной-конверсии-группы-B-к-группе-A-4.5\"><span class=\"toc-item-num\">4.5&nbsp;&nbsp;</span>График относительного изменения кумулятивной конверсии группы B к группе A</a></span></li><li><span><a href=\"#Точечный-график-количества-заказов-по-пользователям\" data-toc-modified-id=\"Точечный-график-количества-заказов-по-пользователям-4.6\"><span class=\"toc-item-num\">4.6&nbsp;&nbsp;</span>Точечный график количества заказов по пользователям</a></span></li><li><span><a href=\"#95-й-и-99-й-перцентили-количества-заказов-на-пользователя.\" data-toc-modified-id=\"95-й-и-99-й-перцентили-количества-заказов-на-пользователя.-4.7\"><span class=\"toc-item-num\">4.7&nbsp;&nbsp;</span>95-й и 99-й перцентили количества заказов на пользователя.</a></span></li><li><span><a href=\"#Точечный-график-стоимостей-заказов\" data-toc-modified-id=\"Точечный-график-стоимостей-заказов-4.8\"><span class=\"toc-item-num\">4.8&nbsp;&nbsp;</span>Точечный график стоимостей заказов</a></span></li><li><span><a href=\"#95-й-и-99-й-перцентили-стоимости-заказов\" data-toc-modified-id=\"95-й-и-99-й-перцентили-стоимости-заказов-4.9\"><span class=\"toc-item-num\">4.9&nbsp;&nbsp;</span>95-й и 99-й перцентили стоимости заказов</a></span></li><li><span><a href=\"#Cтатистическая-значимость-различий-в-конверсии-между-группами-по-«сырым»-данным\" data-toc-modified-id=\"Cтатистическая-значимость-различий-в-конверсии-между-группами-по-«сырым»-данным-4.10\"><span class=\"toc-item-num\">4.10&nbsp;&nbsp;</span>Cтатистическая значимость различий в конверсии между группами по «сырым» данным</a></span></li><li><span><a href=\"#Cтатистическая-значимость-различий-в-среднем-чеке-заказа-между-группами-по-«сырым»-данным\" data-toc-modified-id=\"Cтатистическая-значимость-различий-в-среднем-чеке-заказа-между-группами-по-«сырым»-данным-4.11\"><span class=\"toc-item-num\">4.11&nbsp;&nbsp;</span>Cтатистическая значимость различий в среднем чеке заказа между группами по «сырым» данным</a></span></li><li><span><a href=\"#Cтатистическая-значимость-различий-в-конверсии-между-группами-по-«очищенным»-данным\" data-toc-modified-id=\"Cтатистическая-значимость-различий-в-конверсии-между-группами-по-«очищенным»-данным-4.12\"><span class=\"toc-item-num\">4.12&nbsp;&nbsp;</span>Cтатистическая значимость различий в конверсии между группами по «очищенным» данным</a></span></li><li><span><a href=\"#Cтатистическая-значимость-различий-в-среднем-чеке-заказа-между-группами-по-«очищенным»-данным\" data-toc-modified-id=\"Cтатистическая-значимость-различий-в-среднем-чеке-заказа-между-группами-по-«очищенным»-данным-4.13\"><span class=\"toc-item-num\">4.13&nbsp;&nbsp;</span>Cтатистическая значимость различий в среднем чеке заказа между группами по «очищенным» данным</a></span></li><li><span><a href=\"#Решение-по-результатам-теста\" data-toc-modified-id=\"Решение-по-результатам-теста-4.14\"><span class=\"toc-item-num\">4.14&nbsp;&nbsp;</span>Решение по результатам теста</a></span></li></ul></li><li><span><a href=\"#Вывод\" data-toc-modified-id=\"Вывод-5\"><span class=\"toc-item-num\">5&nbsp;&nbsp;</span>Вывод</a></span></li></ul></div>"
      ]
    },
    {
      "cell_type": "markdown",
      "metadata": {
        "id": "sAP7Q353MNGQ"
      },
      "source": [
        "# Маркетинговое исследование интернет-магазина"
      ]
    },
    {
      "cell_type": "markdown",
      "metadata": {
        "id": "N9XY0hvWMNGU"
      },
      "source": [
        "Исследование для крупного интернет-магазина. Совместно с отделом маркетинга подготовлен список гипотез для увеличения выручки.\n",
        "\n",
        "**Цель исследования**: приоритизировать гипотезы, запустить A/B-тест и проанализировать результаты.\n",
        "\n",
        "**Ход исследования**\n",
        "\n",
        "Входные данные — файл, содержащий девять гипотез по увеличению выручки интернет-магазина, два файла с результатами A/B-тестов.\n",
        "\n",
        "Перед исследованием понадобится обзор данных.\n",
        "Проверим данные на ошибки и оценим их влияние на исследование. На этапе предобработки постараемся исправить самые критичные ошибки данных.\n",
        "\n",
        "Таким образом, исследование пройдёт в четыре этапа:\n",
        "* Обзор данных;\n",
        "* Предобработка данных;\n",
        "* Приоритизация гипотез;\n",
        "* Анализ A/B-теста"
      ]
    },
    {
      "cell_type": "markdown",
      "metadata": {
        "id": "fs57HzsJMNGY"
      },
      "source": [
        "## Обзор данных"
      ]
    },
    {
      "cell_type": "markdown",
      "metadata": {
        "id": "O7JVAL6xMNGa"
      },
      "source": [
        "Для первого знакомства с данными импортируем необходимые библиотеки и сохраним данные о визитах, заказах и гипотезах в переменные."
      ]
    },
    {
      "cell_type": "code",
      "execution_count": null,
      "metadata": {
        "id": "99V498SiMNGc"
      },
      "outputs": [],
      "source": [
        "# импорт библиотек\n",
        "import pandas as pd \n",
        "import datetime as dt\n",
        "import numpy as np\n",
        "import scipy.stats as stats\n",
        "import matplotlib.pyplot as plt \n",
        "from pandas.plotting import register_matplotlib_converters\n",
        "import warnings\n",
        "register_matplotlib_converters()"
      ]
    },
    {
      "cell_type": "code",
      "execution_count": null,
      "metadata": {
        "id": "5FewFl0iMNGf"
      },
      "outputs": [],
      "source": [
        "hypothesis = pd.read_csv('/datasets/hypothesis.csv')  # чтение файла с данными и сохранение в hypothesis\n",
        "orders = pd.read_csv('/datasets/orders.csv')  # чтение файла с данными и сохранение в orders\n",
        "visitors = pd.read_csv('/datasets/visitors.csv')  # чтение файла с данными и сохранение в visitors"
      ]
    },
    {
      "cell_type": "code",
      "execution_count": null,
      "metadata": {
        "id": "2sJthPnOMNGi",
        "outputId": "da574e46-dfbf-40c1-e0d3-4908079b038d"
      },
      "outputs": [
        {
          "name": "stdout",
          "output_type": "stream",
          "text": [
            "<class 'pandas.core.frame.DataFrame'>\n",
            "RangeIndex: 9 entries, 0 to 8\n",
            "Data columns (total 5 columns):\n",
            " #   Column      Non-Null Count  Dtype \n",
            "---  ------      --------------  ----- \n",
            " 0   Hypothesis  9 non-null      object\n",
            " 1   Reach       9 non-null      int64 \n",
            " 2   Impact      9 non-null      int64 \n",
            " 3   Confidence  9 non-null      int64 \n",
            " 4   Efforts     9 non-null      int64 \n",
            "dtypes: int64(4), object(1)\n",
            "memory usage: 488.0+ bytes\n"
          ]
        },
        {
          "data": {
            "text/html": [
              "<div>\n",
              "<style scoped>\n",
              "    .dataframe tbody tr th:only-of-type {\n",
              "        vertical-align: middle;\n",
              "    }\n",
              "\n",
              "    .dataframe tbody tr th {\n",
              "        vertical-align: top;\n",
              "    }\n",
              "\n",
              "    .dataframe thead th {\n",
              "        text-align: right;\n",
              "    }\n",
              "</style>\n",
              "<table border=\"1\" class=\"dataframe\">\n",
              "  <thead>\n",
              "    <tr style=\"text-align: right;\">\n",
              "      <th></th>\n",
              "      <th>Hypothesis</th>\n",
              "      <th>Reach</th>\n",
              "      <th>Impact</th>\n",
              "      <th>Confidence</th>\n",
              "      <th>Efforts</th>\n",
              "    </tr>\n",
              "  </thead>\n",
              "  <tbody>\n",
              "    <tr>\n",
              "      <th>0</th>\n",
              "      <td>Добавить два новых канала привлечения трафика,...</td>\n",
              "      <td>3</td>\n",
              "      <td>10</td>\n",
              "      <td>8</td>\n",
              "      <td>6</td>\n",
              "    </tr>\n",
              "    <tr>\n",
              "      <th>1</th>\n",
              "      <td>Запустить собственную службу доставки, что сок...</td>\n",
              "      <td>2</td>\n",
              "      <td>5</td>\n",
              "      <td>4</td>\n",
              "      <td>10</td>\n",
              "    </tr>\n",
              "    <tr>\n",
              "      <th>2</th>\n",
              "      <td>Добавить блоки рекомендаций товаров на сайт ин...</td>\n",
              "      <td>8</td>\n",
              "      <td>3</td>\n",
              "      <td>7</td>\n",
              "      <td>3</td>\n",
              "    </tr>\n",
              "    <tr>\n",
              "      <th>3</th>\n",
              "      <td>Изменить структура категорий, что увеличит кон...</td>\n",
              "      <td>8</td>\n",
              "      <td>3</td>\n",
              "      <td>3</td>\n",
              "      <td>8</td>\n",
              "    </tr>\n",
              "    <tr>\n",
              "      <th>4</th>\n",
              "      <td>Изменить цвет фона главной страницы, чтобы уве...</td>\n",
              "      <td>3</td>\n",
              "      <td>1</td>\n",
              "      <td>1</td>\n",
              "      <td>1</td>\n",
              "    </tr>\n",
              "  </tbody>\n",
              "</table>\n",
              "</div>"
            ],
            "text/plain": [
              "                                          Hypothesis  Reach  Impact  \\\n",
              "0  Добавить два новых канала привлечения трафика,...      3      10   \n",
              "1  Запустить собственную службу доставки, что сок...      2       5   \n",
              "2  Добавить блоки рекомендаций товаров на сайт ин...      8       3   \n",
              "3  Изменить структура категорий, что увеличит кон...      8       3   \n",
              "4  Изменить цвет фона главной страницы, чтобы уве...      3       1   \n",
              "\n",
              "   Confidence  Efforts  \n",
              "0           8        6  \n",
              "1           4       10  \n",
              "2           7        3  \n",
              "3           3        8  \n",
              "4           1        1  "
            ]
          },
          "execution_count": 4,
          "metadata": {},
          "output_type": "execute_result"
        }
      ],
      "source": [
        "hypothesis.info() # получение общей информации о данных \n",
        "hypothesis.head() # получение первых 5 строк таблицы"
      ]
    },
    {
      "cell_type": "markdown",
      "metadata": {
        "id": "p8JikCQdMNGk"
      },
      "source": [
        "Столбцы таблицы `hypothesis`:\n",
        "* `Hypothesis` — краткое описание гипотезы;\n",
        "* `Reach` — охват пользователей по 10-балльной шкале;\n",
        "* `Impact` — влияние на пользователей по 10-балльной шкале;\n",
        "* `Confidence` — уверенность в гипотезе по 10-балльной шкале;\n",
        "* `Efforts` — затраты ресурсов на проверку гипотезы по 10-балльной шкале. Чем больше значение Efforts, тем дороже проверка гипотезы."
      ]
    },
    {
      "cell_type": "code",
      "execution_count": null,
      "metadata": {
        "id": "5BufUUTrMNGl",
        "outputId": "23ebb7d7-ae15-458e-f72f-216e16196a59"
      },
      "outputs": [
        {
          "name": "stdout",
          "output_type": "stream",
          "text": [
            "<class 'pandas.core.frame.DataFrame'>\n",
            "RangeIndex: 1197 entries, 0 to 1196\n",
            "Data columns (total 5 columns):\n",
            " #   Column         Non-Null Count  Dtype \n",
            "---  ------         --------------  ----- \n",
            " 0   transactionId  1197 non-null   int64 \n",
            " 1   visitorId      1197 non-null   int64 \n",
            " 2   date           1197 non-null   object\n",
            " 3   revenue        1197 non-null   int64 \n",
            " 4   group          1197 non-null   object\n",
            "dtypes: int64(3), object(2)\n",
            "memory usage: 46.9+ KB\n"
          ]
        },
        {
          "data": {
            "text/html": [
              "<div>\n",
              "<style scoped>\n",
              "    .dataframe tbody tr th:only-of-type {\n",
              "        vertical-align: middle;\n",
              "    }\n",
              "\n",
              "    .dataframe tbody tr th {\n",
              "        vertical-align: top;\n",
              "    }\n",
              "\n",
              "    .dataframe thead th {\n",
              "        text-align: right;\n",
              "    }\n",
              "</style>\n",
              "<table border=\"1\" class=\"dataframe\">\n",
              "  <thead>\n",
              "    <tr style=\"text-align: right;\">\n",
              "      <th></th>\n",
              "      <th>transactionId</th>\n",
              "      <th>visitorId</th>\n",
              "      <th>date</th>\n",
              "      <th>revenue</th>\n",
              "      <th>group</th>\n",
              "    </tr>\n",
              "  </thead>\n",
              "  <tbody>\n",
              "    <tr>\n",
              "      <th>0</th>\n",
              "      <td>3667963787</td>\n",
              "      <td>3312258926</td>\n",
              "      <td>2019-08-15</td>\n",
              "      <td>1650</td>\n",
              "      <td>B</td>\n",
              "    </tr>\n",
              "    <tr>\n",
              "      <th>1</th>\n",
              "      <td>2804400009</td>\n",
              "      <td>3642806036</td>\n",
              "      <td>2019-08-15</td>\n",
              "      <td>730</td>\n",
              "      <td>B</td>\n",
              "    </tr>\n",
              "    <tr>\n",
              "      <th>2</th>\n",
              "      <td>2961555356</td>\n",
              "      <td>4069496402</td>\n",
              "      <td>2019-08-15</td>\n",
              "      <td>400</td>\n",
              "      <td>A</td>\n",
              "    </tr>\n",
              "    <tr>\n",
              "      <th>3</th>\n",
              "      <td>3797467345</td>\n",
              "      <td>1196621759</td>\n",
              "      <td>2019-08-15</td>\n",
              "      <td>9759</td>\n",
              "      <td>B</td>\n",
              "    </tr>\n",
              "    <tr>\n",
              "      <th>4</th>\n",
              "      <td>2282983706</td>\n",
              "      <td>2322279887</td>\n",
              "      <td>2019-08-15</td>\n",
              "      <td>2308</td>\n",
              "      <td>B</td>\n",
              "    </tr>\n",
              "  </tbody>\n",
              "</table>\n",
              "</div>"
            ],
            "text/plain": [
              "   transactionId   visitorId        date  revenue group\n",
              "0     3667963787  3312258926  2019-08-15     1650     B\n",
              "1     2804400009  3642806036  2019-08-15      730     B\n",
              "2     2961555356  4069496402  2019-08-15      400     A\n",
              "3     3797467345  1196621759  2019-08-15     9759     B\n",
              "4     2282983706  2322279887  2019-08-15     2308     B"
            ]
          },
          "execution_count": 5,
          "metadata": {},
          "output_type": "execute_result"
        }
      ],
      "source": [
        "orders.info() # получение общей информации о данных \n",
        "orders.head() # получение первых 5 строк таблицы"
      ]
    },
    {
      "cell_type": "markdown",
      "metadata": {
        "id": "OXVycpjEMNGn"
      },
      "source": [
        "Столбцы таблицы `orders`:\n",
        "* `transactionId` — идентификатор заказа;\n",
        "* `visitorId` — идентификатор пользователя, совершившего заказ;\n",
        "* `date` — дата, когда был совершён заказ;\n",
        "* `revenue` — выручка заказа;\n",
        "* `group` — группа A/B-теста, в которую попал заказ."
      ]
    },
    {
      "cell_type": "code",
      "execution_count": null,
      "metadata": {
        "id": "qhcJmxEfMNGo",
        "outputId": "49f01e37-3011-4e94-d1f9-f7b320205031"
      },
      "outputs": [
        {
          "name": "stdout",
          "output_type": "stream",
          "text": [
            "<class 'pandas.core.frame.DataFrame'>\n",
            "RangeIndex: 62 entries, 0 to 61\n",
            "Data columns (total 3 columns):\n",
            " #   Column    Non-Null Count  Dtype \n",
            "---  ------    --------------  ----- \n",
            " 0   date      62 non-null     object\n",
            " 1   group     62 non-null     object\n",
            " 2   visitors  62 non-null     int64 \n",
            "dtypes: int64(1), object(2)\n",
            "memory usage: 1.6+ KB\n"
          ]
        },
        {
          "data": {
            "text/html": [
              "<div>\n",
              "<style scoped>\n",
              "    .dataframe tbody tr th:only-of-type {\n",
              "        vertical-align: middle;\n",
              "    }\n",
              "\n",
              "    .dataframe tbody tr th {\n",
              "        vertical-align: top;\n",
              "    }\n",
              "\n",
              "    .dataframe thead th {\n",
              "        text-align: right;\n",
              "    }\n",
              "</style>\n",
              "<table border=\"1\" class=\"dataframe\">\n",
              "  <thead>\n",
              "    <tr style=\"text-align: right;\">\n",
              "      <th></th>\n",
              "      <th>date</th>\n",
              "      <th>group</th>\n",
              "      <th>visitors</th>\n",
              "    </tr>\n",
              "  </thead>\n",
              "  <tbody>\n",
              "    <tr>\n",
              "      <th>0</th>\n",
              "      <td>2019-08-01</td>\n",
              "      <td>A</td>\n",
              "      <td>719</td>\n",
              "    </tr>\n",
              "    <tr>\n",
              "      <th>1</th>\n",
              "      <td>2019-08-02</td>\n",
              "      <td>A</td>\n",
              "      <td>619</td>\n",
              "    </tr>\n",
              "    <tr>\n",
              "      <th>2</th>\n",
              "      <td>2019-08-03</td>\n",
              "      <td>A</td>\n",
              "      <td>507</td>\n",
              "    </tr>\n",
              "    <tr>\n",
              "      <th>3</th>\n",
              "      <td>2019-08-04</td>\n",
              "      <td>A</td>\n",
              "      <td>717</td>\n",
              "    </tr>\n",
              "    <tr>\n",
              "      <th>4</th>\n",
              "      <td>2019-08-05</td>\n",
              "      <td>A</td>\n",
              "      <td>756</td>\n",
              "    </tr>\n",
              "  </tbody>\n",
              "</table>\n",
              "</div>"
            ],
            "text/plain": [
              "         date group  visitors\n",
              "0  2019-08-01     A       719\n",
              "1  2019-08-02     A       619\n",
              "2  2019-08-03     A       507\n",
              "3  2019-08-04     A       717\n",
              "4  2019-08-05     A       756"
            ]
          },
          "execution_count": 6,
          "metadata": {},
          "output_type": "execute_result"
        }
      ],
      "source": [
        "visitors.info() # получение общей информации о данных \n",
        "visitors.head() # получение первых 5 строк таблицы"
      ]
    },
    {
      "cell_type": "markdown",
      "metadata": {
        "id": "_iIR5yf0MNGv"
      },
      "source": [
        "Столбцы таблицы `visitors`:\n",
        "* `date` — дата;\n",
        "* `group` — группа A/B-теста;\n",
        "* `visitors` — количество пользователей в указанную дату в указанной группе A/B-теста"
      ]
    },
    {
      "cell_type": "markdown",
      "metadata": {
        "id": "4lgD1nPqMNGv"
      },
      "source": [
        "* Пропусков в данных не обнаружено;\n",
        "* Столбцы, содержание даты необходимо привести к нужному типу;\n",
        "* В названиях колонок видны нарушения стиля."
      ]
    },
    {
      "cell_type": "markdown",
      "metadata": {
        "id": "rF3BIbO0MNGx"
      },
      "source": [
        "## Предобработка данных"
      ]
    },
    {
      "cell_type": "markdown",
      "metadata": {
        "id": "2GMGckiHMNGy"
      },
      "source": [
        "### Стиль заголовков"
      ]
    },
    {
      "cell_type": "markdown",
      "metadata": {
        "id": "_zepTnpdMNGz"
      },
      "source": [
        "В названиях столбцов таблицы `orders` , состоящих из нескольких слов, не используется разделитель, названия содержат верхний регистр.\n",
        "Переименуем колонки методом `rename`."
      ]
    },
    {
      "cell_type": "code",
      "execution_count": null,
      "metadata": {
        "id": "YWuRXicuMNG0",
        "outputId": "0cb78ccb-1678-4ad8-c28f-cc3d4f524928"
      },
      "outputs": [
        {
          "data": {
            "text/plain": [
              "Index(['transaction_id', 'visitor_id', 'date', 'revenue', 'group'], dtype='object')"
            ]
          },
          "execution_count": 7,
          "metadata": {},
          "output_type": "execute_result"
        }
      ],
      "source": [
        "orders = orders.rename(columns={'transactionId':'transaction_id', 'visitorId':'visitor_id'}) \n",
        "orders.columns # перечень названий столбцов таблицы"
      ]
    },
    {
      "cell_type": "markdown",
      "metadata": {
        "id": "zuskYfEXMNG1"
      },
      "source": [
        "Используя метод `str.lower()`, преобразуем символы в названии колонок таблицы `hypothesis` в нижний регистр."
      ]
    },
    {
      "cell_type": "code",
      "execution_count": null,
      "metadata": {
        "id": "PMwsH1vRMNG2",
        "outputId": "42303e5d-cbba-484e-9ab0-b1741b44f677"
      },
      "outputs": [
        {
          "data": {
            "text/plain": [
              "Index(['hypothesis', 'reach', 'impact', 'confidence', 'efforts'], dtype='object')"
            ]
          },
          "execution_count": 8,
          "metadata": {},
          "output_type": "execute_result"
        }
      ],
      "source": [
        "hypothesis.columns = hypothesis.columns.str.lower() # применение метода str.lower()\n",
        "hypothesis.columns # перечень названий столбцов таблицы"
      ]
    },
    {
      "cell_type": "markdown",
      "metadata": {
        "id": "vzNAgvtVMNG2"
      },
      "source": [
        "Преобразование выполнено успешно."
      ]
    },
    {
      "cell_type": "markdown",
      "metadata": {
        "id": "cYcERohoMNG4"
      },
      "source": [
        "### Изменение типов данных"
      ]
    },
    {
      "cell_type": "markdown",
      "metadata": {
        "id": "bRvoMtAvMNG4"
      },
      "source": [
        "Преобразуем значения в столбцах в нужный тип данных."
      ]
    },
    {
      "cell_type": "code",
      "execution_count": null,
      "metadata": {
        "id": "MmOK6yTXMNG5"
      },
      "outputs": [],
      "source": [
        "orders['date'] = pd.to_datetime(orders['date']).dt.date # преобразование данных о времени"
      ]
    },
    {
      "cell_type": "code",
      "execution_count": null,
      "metadata": {
        "id": "s0TKN0IDMNG5"
      },
      "outputs": [],
      "source": [
        "visitors['date'] = pd.to_datetime(visitors['date']).dt.date # преобразование данных о времени"
      ]
    },
    {
      "cell_type": "markdown",
      "metadata": {
        "id": "igZXxgrSMNG7"
      },
      "source": [
        "### Проверка на ошибки и аномалии"
      ]
    },
    {
      "cell_type": "code",
      "execution_count": null,
      "metadata": {
        "id": "lbhuMT8bMNG7",
        "outputId": "39d881f6-02a4-43bb-c289-6c57cf7c81cb"
      },
      "outputs": [
        {
          "data": {
            "text/plain": [
              "datetime.date(2019, 8, 1)"
            ]
          },
          "execution_count": 11,
          "metadata": {},
          "output_type": "execute_result"
        }
      ],
      "source": [
        "orders['date'].min() # получение минимального значения столбца 'date'"
      ]
    },
    {
      "cell_type": "code",
      "execution_count": null,
      "metadata": {
        "id": "LJYlpCuOMNG8",
        "outputId": "43f6ec09-2150-4ecf-9901-e7d8f6435c3c"
      },
      "outputs": [
        {
          "data": {
            "text/plain": [
              "datetime.date(2019, 8, 31)"
            ]
          },
          "execution_count": 12,
          "metadata": {},
          "output_type": "execute_result"
        }
      ],
      "source": [
        "orders['date'].max()  # получение максимального значения столбца 'date'"
      ]
    },
    {
      "cell_type": "markdown",
      "metadata": {
        "id": "gbpAqzLGMNG9"
      },
      "source": [
        "Таблица `orders` содержит информацию о заказах, совершенных с 01.08.2019г. по 31.08.2019г."
      ]
    },
    {
      "cell_type": "code",
      "execution_count": null,
      "metadata": {
        "id": "d5TJGbVyMNG-",
        "outputId": "457a9ecb-8a97-421a-cc2e-773cf622750e"
      },
      "outputs": [
        {
          "name": "stdout",
          "output_type": "stream",
          "text": [
            "count       1197.00\n",
            "mean        8348.01\n",
            "std        39191.13\n",
            "min           50.00\n",
            "25%         1220.00\n",
            "50%         2978.00\n",
            "75%         8290.00\n",
            "max      1294500.00\n",
            "Name: revenue, dtype: float64\n"
          ]
        },
        {
          "data": {
            "image/png": "[encoded data removed]",
            "text/plain": [
              "<Figure size 432x288 with 1 Axes>"
            ]
          },
          "metadata": {
            "needs_background": "light"
          },
          "output_type": "display_data"
        }
      ],
      "source": [
        "orders['revenue'].hist(range = (0, 100000)) \n",
        "print((orders['revenue'].describe()).round(2)) # получение списка характерных значений"
      ]
    },
    {
      "cell_type": "markdown",
      "metadata": {
        "id": "UtltuDjFMNG_"
      },
      "source": [
        "Значение выручки в таблице `orders` находится в диапазоне от 50 руб. до 1 294 500 руб. Средняя стоимость заказа  - 8348.01 руб."
      ]
    },
    {
      "cell_type": "code",
      "execution_count": null,
      "metadata": {
        "id": "caGNU9GjMNHA",
        "outputId": "89adf8f3-efa3-4fbf-b996-a794185ca660"
      },
      "outputs": [
        {
          "data": {
            "text/html": [
              "<div>\n",
              "<style scoped>\n",
              "    .dataframe tbody tr th:only-of-type {\n",
              "        vertical-align: middle;\n",
              "    }\n",
              "\n",
              "    .dataframe tbody tr th {\n",
              "        vertical-align: top;\n",
              "    }\n",
              "\n",
              "    .dataframe thead th {\n",
              "        text-align: right;\n",
              "    }\n",
              "</style>\n",
              "<table border=\"1\" class=\"dataframe\">\n",
              "  <thead>\n",
              "    <tr style=\"text-align: right;\">\n",
              "      <th></th>\n",
              "      <th>visitor_id</th>\n",
              "    </tr>\n",
              "    <tr>\n",
              "      <th>group</th>\n",
              "      <th></th>\n",
              "    </tr>\n",
              "  </thead>\n",
              "  <tbody>\n",
              "    <tr>\n",
              "      <th>A</th>\n",
              "      <td>503</td>\n",
              "    </tr>\n",
              "    <tr>\n",
              "      <th>B</th>\n",
              "      <td>586</td>\n",
              "    </tr>\n",
              "  </tbody>\n",
              "</table>\n",
              "</div>"
            ],
            "text/plain": [
              "       visitor_id\n",
              "group            \n",
              "A             503\n",
              "B             586"
            ]
          },
          "execution_count": 14,
          "metadata": {},
          "output_type": "execute_result"
        }
      ],
      "source": [
        "orders.groupby(['group']).agg({'visitor_id': 'nunique'})  # просмотр списока уникальных значений"
      ]
    },
    {
      "cell_type": "markdown",
      "metadata": {
        "id": "0cOFeQ76MNHB"
      },
      "source": [
        "Группы распределены не равномерно: 586 уникальных пользователей в группе `В` и 503 в группе `А`."
      ]
    },
    {
      "cell_type": "code",
      "execution_count": null,
      "metadata": {
        "id": "JJg2fyaWMNHB",
        "outputId": "459e2426-e085-45c0-e2a6-d341404dc539"
      },
      "outputs": [
        {
          "data": {
            "text/plain": [
              "1031"
            ]
          },
          "execution_count": 15,
          "metadata": {},
          "output_type": "execute_result"
        }
      ],
      "source": [
        "orders['visitor_id'].nunique() # просмотр общего количества уникальных пользователей"
      ]
    },
    {
      "cell_type": "markdown",
      "metadata": {
        "id": "nqRtssxJMNHC"
      },
      "source": [
        "При этом количество уникальных пользователей в обеих группах - 1089, а в целом по таблице  - 1031. Вероятно есть пользователи, которые попали в обе группы."
      ]
    },
    {
      "cell_type": "code",
      "execution_count": null,
      "metadata": {
        "id": "kc4MCHBtMNHD",
        "outputId": "2819e863-88f8-42f4-eeba-efa196ff1724"
      },
      "outputs": [
        {
          "data": {
            "text/html": [
              "<div>\n",
              "<style scoped>\n",
              "    .dataframe tbody tr th:only-of-type {\n",
              "        vertical-align: middle;\n",
              "    }\n",
              "\n",
              "    .dataframe tbody tr th {\n",
              "        vertical-align: top;\n",
              "    }\n",
              "\n",
              "    .dataframe thead th {\n",
              "        text-align: right;\n",
              "    }\n",
              "</style>\n",
              "<table border=\"1\" class=\"dataframe\">\n",
              "  <thead>\n",
              "    <tr style=\"text-align: right;\">\n",
              "      <th></th>\n",
              "      <th>visitor_id</th>\n",
              "      <th>group</th>\n",
              "    </tr>\n",
              "  </thead>\n",
              "  <tbody>\n",
              "    <tr>\n",
              "      <th>0</th>\n",
              "      <td>2654030115</td>\n",
              "      <td>2</td>\n",
              "    </tr>\n",
              "    <tr>\n",
              "      <th>1</th>\n",
              "      <td>3891541246</td>\n",
              "      <td>2</td>\n",
              "    </tr>\n",
              "    <tr>\n",
              "      <th>2</th>\n",
              "      <td>3941795274</td>\n",
              "      <td>2</td>\n",
              "    </tr>\n",
              "    <tr>\n",
              "      <th>3</th>\n",
              "      <td>1404934699</td>\n",
              "      <td>2</td>\n",
              "    </tr>\n",
              "    <tr>\n",
              "      <th>4</th>\n",
              "      <td>351125977</td>\n",
              "      <td>2</td>\n",
              "    </tr>\n",
              "    <tr>\n",
              "      <th>5</th>\n",
              "      <td>3951559397</td>\n",
              "      <td>2</td>\n",
              "    </tr>\n",
              "    <tr>\n",
              "      <th>6</th>\n",
              "      <td>2927087541</td>\n",
              "      <td>2</td>\n",
              "    </tr>\n",
              "    <tr>\n",
              "      <th>7</th>\n",
              "      <td>3963646447</td>\n",
              "      <td>2</td>\n",
              "    </tr>\n",
              "    <tr>\n",
              "      <th>8</th>\n",
              "      <td>2458001652</td>\n",
              "      <td>2</td>\n",
              "    </tr>\n",
              "    <tr>\n",
              "      <th>9</th>\n",
              "      <td>3972127743</td>\n",
              "      <td>2</td>\n",
              "    </tr>\n",
              "    <tr>\n",
              "      <th>10</th>\n",
              "      <td>3984495233</td>\n",
              "      <td>2</td>\n",
              "    </tr>\n",
              "    <tr>\n",
              "      <th>11</th>\n",
              "      <td>2949041841</td>\n",
              "      <td>2</td>\n",
              "    </tr>\n",
              "    <tr>\n",
              "      <th>12</th>\n",
              "      <td>1959144690</td>\n",
              "      <td>2</td>\n",
              "    </tr>\n",
              "    <tr>\n",
              "      <th>13</th>\n",
              "      <td>276558944</td>\n",
              "      <td>2</td>\n",
              "    </tr>\n",
              "    <tr>\n",
              "      <th>14</th>\n",
              "      <td>2954449915</td>\n",
              "      <td>2</td>\n",
              "    </tr>\n",
              "    <tr>\n",
              "      <th>15</th>\n",
              "      <td>237748145</td>\n",
              "      <td>2</td>\n",
              "    </tr>\n",
              "    <tr>\n",
              "      <th>16</th>\n",
              "      <td>963407295</td>\n",
              "      <td>2</td>\n",
              "    </tr>\n",
              "    <tr>\n",
              "      <th>17</th>\n",
              "      <td>1333886533</td>\n",
              "      <td>2</td>\n",
              "    </tr>\n",
              "    <tr>\n",
              "      <th>18</th>\n",
              "      <td>232979603</td>\n",
              "      <td>2</td>\n",
              "    </tr>\n",
              "    <tr>\n",
              "      <th>19</th>\n",
              "      <td>4069496402</td>\n",
              "      <td>2</td>\n",
              "    </tr>\n",
              "    <tr>\n",
              "      <th>20</th>\n",
              "      <td>2378935119</td>\n",
              "      <td>2</td>\n",
              "    </tr>\n",
              "    <tr>\n",
              "      <th>21</th>\n",
              "      <td>393266494</td>\n",
              "      <td>2</td>\n",
              "    </tr>\n",
              "    <tr>\n",
              "      <th>22</th>\n",
              "      <td>2579882178</td>\n",
              "      <td>2</td>\n",
              "    </tr>\n",
              "    <tr>\n",
              "      <th>23</th>\n",
              "      <td>1316129916</td>\n",
              "      <td>2</td>\n",
              "    </tr>\n",
              "    <tr>\n",
              "      <th>24</th>\n",
              "      <td>1801183820</td>\n",
              "      <td>2</td>\n",
              "    </tr>\n",
              "    <tr>\n",
              "      <th>25</th>\n",
              "      <td>3656415546</td>\n",
              "      <td>2</td>\n",
              "    </tr>\n",
              "    <tr>\n",
              "      <th>26</th>\n",
              "      <td>1614305549</td>\n",
              "      <td>2</td>\n",
              "    </tr>\n",
              "    <tr>\n",
              "      <th>27</th>\n",
              "      <td>1648269707</td>\n",
              "      <td>2</td>\n",
              "    </tr>\n",
              "    <tr>\n",
              "      <th>28</th>\n",
              "      <td>2686716486</td>\n",
              "      <td>2</td>\n",
              "    </tr>\n",
              "    <tr>\n",
              "      <th>29</th>\n",
              "      <td>2712142231</td>\n",
              "      <td>2</td>\n",
              "    </tr>\n",
              "    <tr>\n",
              "      <th>30</th>\n",
              "      <td>2716752286</td>\n",
              "      <td>2</td>\n",
              "    </tr>\n",
              "    <tr>\n",
              "      <th>31</th>\n",
              "      <td>1668030113</td>\n",
              "      <td>2</td>\n",
              "    </tr>\n",
              "    <tr>\n",
              "      <th>32</th>\n",
              "      <td>1602967004</td>\n",
              "      <td>2</td>\n",
              "    </tr>\n",
              "    <tr>\n",
              "      <th>33</th>\n",
              "      <td>3717692402</td>\n",
              "      <td>2</td>\n",
              "    </tr>\n",
              "    <tr>\n",
              "      <th>34</th>\n",
              "      <td>3766097110</td>\n",
              "      <td>2</td>\n",
              "    </tr>\n",
              "    <tr>\n",
              "      <th>35</th>\n",
              "      <td>1738359350</td>\n",
              "      <td>2</td>\n",
              "    </tr>\n",
              "    <tr>\n",
              "      <th>36</th>\n",
              "      <td>2780786433</td>\n",
              "      <td>2</td>\n",
              "    </tr>\n",
              "    <tr>\n",
              "      <th>37</th>\n",
              "      <td>3803269165</td>\n",
              "      <td>2</td>\n",
              "    </tr>\n",
              "    <tr>\n",
              "      <th>38</th>\n",
              "      <td>477780734</td>\n",
              "      <td>2</td>\n",
              "    </tr>\n",
              "    <tr>\n",
              "      <th>39</th>\n",
              "      <td>471551937</td>\n",
              "      <td>2</td>\n",
              "    </tr>\n",
              "    <tr>\n",
              "      <th>40</th>\n",
              "      <td>2600415354</td>\n",
              "      <td>2</td>\n",
              "    </tr>\n",
              "    <tr>\n",
              "      <th>41</th>\n",
              "      <td>818047933</td>\n",
              "      <td>2</td>\n",
              "    </tr>\n",
              "    <tr>\n",
              "      <th>42</th>\n",
              "      <td>457167155</td>\n",
              "      <td>2</td>\n",
              "    </tr>\n",
              "    <tr>\n",
              "      <th>43</th>\n",
              "      <td>2587333274</td>\n",
              "      <td>2</td>\n",
              "    </tr>\n",
              "    <tr>\n",
              "      <th>44</th>\n",
              "      <td>2038680547</td>\n",
              "      <td>2</td>\n",
              "    </tr>\n",
              "    <tr>\n",
              "      <th>45</th>\n",
              "      <td>3957174400</td>\n",
              "      <td>2</td>\n",
              "    </tr>\n",
              "    <tr>\n",
              "      <th>46</th>\n",
              "      <td>3234906277</td>\n",
              "      <td>2</td>\n",
              "    </tr>\n",
              "    <tr>\n",
              "      <th>47</th>\n",
              "      <td>1294878855</td>\n",
              "      <td>2</td>\n",
              "    </tr>\n",
              "    <tr>\n",
              "      <th>48</th>\n",
              "      <td>199603092</td>\n",
              "      <td>2</td>\n",
              "    </tr>\n",
              "    <tr>\n",
              "      <th>49</th>\n",
              "      <td>3202540741</td>\n",
              "      <td>2</td>\n",
              "    </tr>\n",
              "    <tr>\n",
              "      <th>50</th>\n",
              "      <td>1230306981</td>\n",
              "      <td>2</td>\n",
              "    </tr>\n",
              "    <tr>\n",
              "      <th>51</th>\n",
              "      <td>3062433592</td>\n",
              "      <td>2</td>\n",
              "    </tr>\n",
              "    <tr>\n",
              "      <th>52</th>\n",
              "      <td>4256040402</td>\n",
              "      <td>2</td>\n",
              "    </tr>\n",
              "    <tr>\n",
              "      <th>53</th>\n",
              "      <td>4266935830</td>\n",
              "      <td>2</td>\n",
              "    </tr>\n",
              "    <tr>\n",
              "      <th>54</th>\n",
              "      <td>4186807279</td>\n",
              "      <td>2</td>\n",
              "    </tr>\n",
              "    <tr>\n",
              "      <th>55</th>\n",
              "      <td>8300375</td>\n",
              "      <td>2</td>\n",
              "    </tr>\n",
              "    <tr>\n",
              "      <th>56</th>\n",
              "      <td>4120364173</td>\n",
              "      <td>2</td>\n",
              "    </tr>\n",
              "    <tr>\n",
              "      <th>57</th>\n",
              "      <td>2044997962</td>\n",
              "      <td>2</td>\n",
              "    </tr>\n",
              "  </tbody>\n",
              "</table>\n",
              "</div>"
            ],
            "text/plain": [
              "    visitor_id  group\n",
              "0   2654030115      2\n",
              "1   3891541246      2\n",
              "2   3941795274      2\n",
              "3   1404934699      2\n",
              "4    351125977      2\n",
              "5   3951559397      2\n",
              "6   2927087541      2\n",
              "7   3963646447      2\n",
              "8   2458001652      2\n",
              "9   3972127743      2\n",
              "10  3984495233      2\n",
              "11  2949041841      2\n",
              "12  1959144690      2\n",
              "13   276558944      2\n",
              "14  2954449915      2\n",
              "15   237748145      2\n",
              "16   963407295      2\n",
              "17  1333886533      2\n",
              "18   232979603      2\n",
              "19  4069496402      2\n",
              "20  2378935119      2\n",
              "21   393266494      2\n",
              "22  2579882178      2\n",
              "23  1316129916      2\n",
              "24  1801183820      2\n",
              "25  3656415546      2\n",
              "26  1614305549      2\n",
              "27  1648269707      2\n",
              "28  2686716486      2\n",
              "29  2712142231      2\n",
              "30  2716752286      2\n",
              "31  1668030113      2\n",
              "32  1602967004      2\n",
              "33  3717692402      2\n",
              "34  3766097110      2\n",
              "35  1738359350      2\n",
              "36  2780786433      2\n",
              "37  3803269165      2\n",
              "38   477780734      2\n",
              "39   471551937      2\n",
              "40  2600415354      2\n",
              "41   818047933      2\n",
              "42   457167155      2\n",
              "43  2587333274      2\n",
              "44  2038680547      2\n",
              "45  3957174400      2\n",
              "46  3234906277      2\n",
              "47  1294878855      2\n",
              "48   199603092      2\n",
              "49  3202540741      2\n",
              "50  1230306981      2\n",
              "51  3062433592      2\n",
              "52  4256040402      2\n",
              "53  4266935830      2\n",
              "54  4186807279      2\n",
              "55     8300375      2\n",
              "56  4120364173      2\n",
              "57  2044997962      2"
            ]
          },
          "execution_count": 16,
          "metadata": {},
          "output_type": "execute_result"
        }
      ],
      "source": [
        "visitor_duplicate = orders.groupby(['visitor_id', ]).agg({'group': 'nunique'}).sort_values(by='group', ascending=False).reset_index()\n",
        "visitor_duplicate.query('group > 1')"
      ]
    },
    {
      "cell_type": "markdown",
      "metadata": {
        "id": "LyTKtCOwMNHE"
      },
      "source": [
        "58 пользователей попали в обе группы."
      ]
    },
    {
      "cell_type": "markdown",
      "metadata": {
        "id": "AYfAir9bMNHF"
      },
      "source": [
        "Создадим список уникальных пользователей, которые попали только в одну группу, и обновим таблицу `orders`."
      ]
    },
    {
      "cell_type": "code",
      "execution_count": null,
      "metadata": {
        "id": "xA9kMO9jMNHF"
      },
      "outputs": [],
      "source": [
        "abc = visitor_duplicate.query('group < 2') # создание среза, в котором каждый пользователь находится только в одной группе"
      ]
    },
    {
      "cell_type": "code",
      "execution_count": null,
      "metadata": {
        "id": "gxPKL9vXMNHG",
        "outputId": "a1a36a5b-d171-4682-b0a3-b6a610944dbb"
      },
      "outputs": [
        {
          "data": {
            "text/html": [
              "<div>\n",
              "<style scoped>\n",
              "    .dataframe tbody tr th:only-of-type {\n",
              "        vertical-align: middle;\n",
              "    }\n",
              "\n",
              "    .dataframe tbody tr th {\n",
              "        vertical-align: top;\n",
              "    }\n",
              "\n",
              "    .dataframe thead th {\n",
              "        text-align: right;\n",
              "    }\n",
              "</style>\n",
              "<table border=\"1\" class=\"dataframe\">\n",
              "  <thead>\n",
              "    <tr style=\"text-align: right;\">\n",
              "      <th></th>\n",
              "      <th>transaction_id</th>\n",
              "      <th>visitor_id</th>\n",
              "      <th>date</th>\n",
              "      <th>revenue</th>\n",
              "      <th>group</th>\n",
              "    </tr>\n",
              "  </thead>\n",
              "  <tbody>\n",
              "    <tr>\n",
              "      <th>0</th>\n",
              "      <td>3667963787</td>\n",
              "      <td>3312258926</td>\n",
              "      <td>2019-08-15</td>\n",
              "      <td>1650</td>\n",
              "      <td>B</td>\n",
              "    </tr>\n",
              "    <tr>\n",
              "      <th>1</th>\n",
              "      <td>2804400009</td>\n",
              "      <td>3642806036</td>\n",
              "      <td>2019-08-15</td>\n",
              "      <td>730</td>\n",
              "      <td>B</td>\n",
              "    </tr>\n",
              "    <tr>\n",
              "      <th>3</th>\n",
              "      <td>3797467345</td>\n",
              "      <td>1196621759</td>\n",
              "      <td>2019-08-15</td>\n",
              "      <td>9759</td>\n",
              "      <td>B</td>\n",
              "    </tr>\n",
              "    <tr>\n",
              "      <th>4</th>\n",
              "      <td>2282983706</td>\n",
              "      <td>2322279887</td>\n",
              "      <td>2019-08-15</td>\n",
              "      <td>2308</td>\n",
              "      <td>B</td>\n",
              "    </tr>\n",
              "    <tr>\n",
              "      <th>5</th>\n",
              "      <td>182168103</td>\n",
              "      <td>935554773</td>\n",
              "      <td>2019-08-15</td>\n",
              "      <td>2210</td>\n",
              "      <td>B</td>\n",
              "    </tr>\n",
              "    <tr>\n",
              "      <th>...</th>\n",
              "      <td>...</td>\n",
              "      <td>...</td>\n",
              "      <td>...</td>\n",
              "      <td>...</td>\n",
              "      <td>...</td>\n",
              "    </tr>\n",
              "    <tr>\n",
              "      <th>1191</th>\n",
              "      <td>3592955527</td>\n",
              "      <td>608641596</td>\n",
              "      <td>2019-08-14</td>\n",
              "      <td>16490</td>\n",
              "      <td>B</td>\n",
              "    </tr>\n",
              "    <tr>\n",
              "      <th>1192</th>\n",
              "      <td>2662137336</td>\n",
              "      <td>3733762160</td>\n",
              "      <td>2019-08-14</td>\n",
              "      <td>6490</td>\n",
              "      <td>B</td>\n",
              "    </tr>\n",
              "    <tr>\n",
              "      <th>1193</th>\n",
              "      <td>2203539145</td>\n",
              "      <td>370388673</td>\n",
              "      <td>2019-08-14</td>\n",
              "      <td>3190</td>\n",
              "      <td>A</td>\n",
              "    </tr>\n",
              "    <tr>\n",
              "      <th>1194</th>\n",
              "      <td>1807773912</td>\n",
              "      <td>573423106</td>\n",
              "      <td>2019-08-14</td>\n",
              "      <td>10550</td>\n",
              "      <td>A</td>\n",
              "    </tr>\n",
              "    <tr>\n",
              "      <th>1196</th>\n",
              "      <td>3936777065</td>\n",
              "      <td>2108080724</td>\n",
              "      <td>2019-08-15</td>\n",
              "      <td>202740</td>\n",
              "      <td>B</td>\n",
              "    </tr>\n",
              "  </tbody>\n",
              "</table>\n",
              "<p>1016 rows × 5 columns</p>\n",
              "</div>"
            ],
            "text/plain": [
              "      transaction_id  visitor_id        date  revenue group\n",
              "0         3667963787  3312258926  2019-08-15     1650     B\n",
              "1         2804400009  3642806036  2019-08-15      730     B\n",
              "3         3797467345  1196621759  2019-08-15     9759     B\n",
              "4         2282983706  2322279887  2019-08-15     2308     B\n",
              "5          182168103   935554773  2019-08-15     2210     B\n",
              "...              ...         ...         ...      ...   ...\n",
              "1191      3592955527   608641596  2019-08-14    16490     B\n",
              "1192      2662137336  3733762160  2019-08-14     6490     B\n",
              "1193      2203539145   370388673  2019-08-14     3190     A\n",
              "1194      1807773912   573423106  2019-08-14    10550     A\n",
              "1196      3936777065  2108080724  2019-08-15   202740     B\n",
              "\n",
              "[1016 rows x 5 columns]"
            ]
          },
          "execution_count": 18,
          "metadata": {},
          "output_type": "execute_result"
        }
      ],
      "source": [
        "orders =  orders[orders['visitor_id'].isin(abc['visitor_id'])] # запись среза в таблицу 'orders'\n",
        "orders "
      ]
    },
    {
      "cell_type": "code",
      "execution_count": null,
      "metadata": {
        "id": "lsLYNN7SMNHH",
        "outputId": "1b89232d-fae6-4688-e7f2-655414211219"
      },
      "outputs": [
        {
          "data": {
            "text/plain": [
              "973"
            ]
          },
          "execution_count": 19,
          "metadata": {},
          "output_type": "execute_result"
        }
      ],
      "source": [
        "orders['visitor_id'].nunique()  # просмотр общего количества уникальных пользователей"
      ]
    },
    {
      "cell_type": "markdown",
      "metadata": {
        "id": "K2yek9RjMNHI"
      },
      "source": [
        "Количество уникальных пользователей уменьшилось с 1031 до 973, на 58 человек."
      ]
    },
    {
      "cell_type": "code",
      "execution_count": null,
      "metadata": {
        "id": "1sDuji2wMNHI",
        "outputId": "af59bf39-faed-4b40-ca3d-d647af4cb352"
      },
      "outputs": [
        {
          "data": {
            "text/html": [
              "<div>\n",
              "<style scoped>\n",
              "    .dataframe tbody tr th:only-of-type {\n",
              "        vertical-align: middle;\n",
              "    }\n",
              "\n",
              "    .dataframe tbody tr th {\n",
              "        vertical-align: top;\n",
              "    }\n",
              "\n",
              "    .dataframe thead th {\n",
              "        text-align: right;\n",
              "    }\n",
              "</style>\n",
              "<table border=\"1\" class=\"dataframe\">\n",
              "  <thead>\n",
              "    <tr style=\"text-align: right;\">\n",
              "      <th></th>\n",
              "      <th>visitor_id</th>\n",
              "    </tr>\n",
              "    <tr>\n",
              "      <th>group</th>\n",
              "      <th></th>\n",
              "    </tr>\n",
              "  </thead>\n",
              "  <tbody>\n",
              "    <tr>\n",
              "      <th>A</th>\n",
              "      <td>445</td>\n",
              "    </tr>\n",
              "    <tr>\n",
              "      <th>B</th>\n",
              "      <td>528</td>\n",
              "    </tr>\n",
              "  </tbody>\n",
              "</table>\n",
              "</div>"
            ],
            "text/plain": [
              "       visitor_id\n",
              "group            \n",
              "A             445\n",
              "B             528"
            ]
          },
          "execution_count": 20,
          "metadata": {},
          "output_type": "execute_result"
        }
      ],
      "source": [
        "orders.groupby(['group']).agg({'visitor_id': 'nunique'})  # просмотр списока уникальных значений"
      ]
    },
    {
      "cell_type": "markdown",
      "metadata": {
        "id": "BCc7OBbDMNHJ"
      },
      "source": [
        "Теперь распределение по группам выглядит следующим образом: 445 человек в группе `А`, и 528 - в группе `В`."
      ]
    },
    {
      "cell_type": "code",
      "execution_count": null,
      "metadata": {
        "id": "TWh3G3fOMNHJ",
        "outputId": "8b52606f-490f-4f6a-ff3f-8e3ea4ba38bd"
      },
      "outputs": [
        {
          "data": {
            "text/plain": [
              "1016"
            ]
          },
          "execution_count": 21,
          "metadata": {},
          "output_type": "execute_result"
        }
      ],
      "source": [
        "orders['transaction_id'].nunique()  # просмотр количества уникальных значений"
      ]
    },
    {
      "cell_type": "markdown",
      "metadata": {
        "id": "Jzo2QFY4MNHK"
      },
      "source": [
        "Все номера транзакций уникальны, их количество соответсвует количеству строк."
      ]
    },
    {
      "cell_type": "code",
      "execution_count": null,
      "metadata": {
        "id": "WUYXmfmRMNHL",
        "outputId": "d3d7846c-7cee-4493-b8c3-6eaf9b2639a6"
      },
      "outputs": [
        {
          "data": {
            "text/plain": [
              "datetime.date(2019, 8, 1)"
            ]
          },
          "execution_count": 22,
          "metadata": {},
          "output_type": "execute_result"
        }
      ],
      "source": [
        "visitors['date'].min()"
      ]
    },
    {
      "cell_type": "code",
      "execution_count": null,
      "metadata": {
        "id": "OO6YWVeYMNHL",
        "outputId": "73204cc2-bd9e-4b64-cb9c-794dcf4a3780"
      },
      "outputs": [
        {
          "data": {
            "text/plain": [
              "datetime.date(2019, 8, 31)"
            ]
          },
          "execution_count": 23,
          "metadata": {},
          "output_type": "execute_result"
        }
      ],
      "source": [
        "visitors['date'].max()"
      ]
    },
    {
      "cell_type": "markdown",
      "metadata": {
        "id": "hdbzSsDQMNHM"
      },
      "source": [
        "В таблице `visitors`  cодержитcя информация о посетителях в период с 01.08.2019г. по 31.08.2019г."
      ]
    },
    {
      "cell_type": "code",
      "execution_count": null,
      "metadata": {
        "id": "zpjNLcaAMNHN",
        "outputId": "50aa4968-3528-4ec6-ac26-f5d9e23adca6"
      },
      "outputs": [
        {
          "data": {
            "text/plain": [
              "B    31\n",
              "A    31\n",
              "Name: group, dtype: int64"
            ]
          },
          "execution_count": 24,
          "metadata": {},
          "output_type": "execute_result"
        }
      ],
      "source": [
        "visitors['group'].value_counts()"
      ]
    },
    {
      "cell_type": "markdown",
      "metadata": {
        "id": "9mI-Jy-CMNHO"
      },
      "source": [
        "В таблице `visitors` содержится по 31 записи для каждой из групп: на каждый день исследуемого периода."
      ]
    },
    {
      "cell_type": "markdown",
      "metadata": {
        "id": "O1h3J4YKMNHO"
      },
      "source": [
        "### Проверка на наличие дубликатов"
      ]
    },
    {
      "cell_type": "markdown",
      "metadata": {
        "id": "WBpcfrEeMNHP"
      },
      "source": [
        "Посчитаем явные дубликаты в таблицах."
      ]
    },
    {
      "cell_type": "code",
      "execution_count": null,
      "metadata": {
        "id": "LcETfztlMNHP",
        "outputId": "d771d037-5990-415c-f7ae-a3b95dbba4c3"
      },
      "outputs": [
        {
          "data": {
            "text/plain": [
              "0"
            ]
          },
          "execution_count": 25,
          "metadata": {},
          "output_type": "execute_result"
        }
      ],
      "source": [
        "visitors.duplicated().sum() # проверка на отсутствие явных дубликатов"
      ]
    },
    {
      "cell_type": "code",
      "execution_count": null,
      "metadata": {
        "id": "jvQFZ1PtMNHT",
        "outputId": "7f1f8ac2-ac29-445a-a914-ba8819666935"
      },
      "outputs": [
        {
          "data": {
            "text/plain": [
              "0"
            ]
          },
          "execution_count": 26,
          "metadata": {},
          "output_type": "execute_result"
        }
      ],
      "source": [
        "orders.duplicated().sum() # проверка на отсутствие явных дубликатов"
      ]
    },
    {
      "cell_type": "markdown",
      "metadata": {
        "id": "OJYncHolMNHZ"
      },
      "source": [
        "Явные дубликаты отсутствуют."
      ]
    },
    {
      "cell_type": "markdown",
      "metadata": {
        "id": "M1JtTDvsMNHa"
      },
      "source": [
        "## Приоритизация гипотез"
      ]
    },
    {
      "cell_type": "markdown",
      "metadata": {
        "id": "QL5H1EvGMNHa"
      },
      "source": [
        "Рассчитаем `ICE` для гипотез. Добавим полученные значения `ICE` к существующей таблице. \n",
        "Выведем столбцы `'hypothesis'` и `'ICE'`, отсортированные по столбцу `'ICE'`."
      ]
    },
    {
      "cell_type": "code",
      "execution_count": null,
      "metadata": {
        "id": "_g3DzlSLMNHb",
        "outputId": "78c6b312-ff05-42fe-c48e-b789bd3d9219"
      },
      "outputs": [
        {
          "data": {
            "text/html": [
              "<div>\n",
              "<style scoped>\n",
              "    .dataframe tbody tr th:only-of-type {\n",
              "        vertical-align: middle;\n",
              "    }\n",
              "\n",
              "    .dataframe tbody tr th {\n",
              "        vertical-align: top;\n",
              "    }\n",
              "\n",
              "    .dataframe thead th {\n",
              "        text-align: right;\n",
              "    }\n",
              "</style>\n",
              "<table border=\"1\" class=\"dataframe\">\n",
              "  <thead>\n",
              "    <tr style=\"text-align: right;\">\n",
              "      <th></th>\n",
              "      <th>hypothesis</th>\n",
              "      <th>ICE</th>\n",
              "    </tr>\n",
              "  </thead>\n",
              "  <tbody>\n",
              "    <tr>\n",
              "      <th>8</th>\n",
              "      <td>Запустить акцию, дающую скидку на товар в день рождения</td>\n",
              "      <td>16.200000</td>\n",
              "    </tr>\n",
              "    <tr>\n",
              "      <th>0</th>\n",
              "      <td>Добавить два новых канала привлечения трафика, что позволит привлекать на 30% больше пользователей</td>\n",
              "      <td>13.333333</td>\n",
              "    </tr>\n",
              "    <tr>\n",
              "      <th>7</th>\n",
              "      <td>Добавить форму подписки на все основные страницы, чтобы собрать базу клиентов для email-рассылок</td>\n",
              "      <td>11.200000</td>\n",
              "    </tr>\n",
              "    <tr>\n",
              "      <th>6</th>\n",
              "      <td>Показать на главной странице баннеры с актуальными акциями и распродажами, чтобы увеличить конверсию</td>\n",
              "      <td>8.000000</td>\n",
              "    </tr>\n",
              "    <tr>\n",
              "      <th>2</th>\n",
              "      <td>Добавить блоки рекомендаций товаров на сайт интернет магазина, чтобы повысить конверсию и средний чек заказа</td>\n",
              "      <td>7.000000</td>\n",
              "    </tr>\n",
              "    <tr>\n",
              "      <th>1</th>\n",
              "      <td>Запустить собственную службу доставки, что сократит срок доставки заказов</td>\n",
              "      <td>2.000000</td>\n",
              "    </tr>\n",
              "    <tr>\n",
              "      <th>5</th>\n",
              "      <td>Добавить страницу отзывов клиентов о магазине, что позволит увеличить количество заказов</td>\n",
              "      <td>1.333333</td>\n",
              "    </tr>\n",
              "    <tr>\n",
              "      <th>3</th>\n",
              "      <td>Изменить структура категорий, что увеличит конверсию, т.к. пользователи быстрее найдут нужный товар</td>\n",
              "      <td>1.125000</td>\n",
              "    </tr>\n",
              "    <tr>\n",
              "      <th>4</th>\n",
              "      <td>Изменить цвет фона главной страницы, чтобы увеличить вовлеченность пользователей</td>\n",
              "      <td>1.000000</td>\n",
              "    </tr>\n",
              "  </tbody>\n",
              "</table>\n",
              "</div>"
            ],
            "text/plain": [
              "                                                                                                     hypothesis  \\\n",
              "8                                                       Запустить акцию, дающую скидку на товар в день рождения   \n",
              "0            Добавить два новых канала привлечения трафика, что позволит привлекать на 30% больше пользователей   \n",
              "7              Добавить форму подписки на все основные страницы, чтобы собрать базу клиентов для email-рассылок   \n",
              "6          Показать на главной странице баннеры с актуальными акциями и распродажами, чтобы увеличить конверсию   \n",
              "2  Добавить блоки рекомендаций товаров на сайт интернет магазина, чтобы повысить конверсию и средний чек заказа   \n",
              "1                                     Запустить собственную службу доставки, что сократит срок доставки заказов   \n",
              "5                      Добавить страницу отзывов клиентов о магазине, что позволит увеличить количество заказов   \n",
              "3           Изменить структура категорий, что увеличит конверсию, т.к. пользователи быстрее найдут нужный товар   \n",
              "4                              Изменить цвет фона главной страницы, чтобы увеличить вовлеченность пользователей   \n",
              "\n",
              "         ICE  \n",
              "8  16.200000  \n",
              "0  13.333333  \n",
              "7  11.200000  \n",
              "6   8.000000  \n",
              "2   7.000000  \n",
              "1   2.000000  \n",
              "5   1.333333  \n",
              "3   1.125000  \n",
              "4   1.000000  "
            ]
          },
          "execution_count": 27,
          "metadata": {},
          "output_type": "execute_result"
        }
      ],
      "source": [
        "hypothesis['ICE'] = (hypothesis['impact']*hypothesis['confidence'])/hypothesis['efforts']\n",
        "pd.options.display.max_colwidth = 150\n",
        "hypothesis[['hypothesis', 'ICE']].sort_values(by='ICE', ascending=False)"
      ]
    },
    {
      "cell_type": "markdown",
      "metadata": {
        "id": "zRZYobD4MNHd"
      },
      "source": [
        "Наиболее перспективные гипотезы по `ICE`: \n",
        "* `№8` \"Запустить акцию, дающую скидку на товар в день рождения\",\n",
        "* `№0` \"Добавить два новых канала привлечения трафика, что позволит привлекать на 30% больше пользователей \",\n",
        "* `№7` \"Добавить форму подписки на все основные страницы, чтобы собрать базу клиентов для email-рассылок\",\n",
        "* `№6` \"Показать на главной странице баннеры с актуальными акциями и распродажами, чтобы увеличить конверсию\",\n",
        "* `№2`\"Добавить блоки рекомендаций товаров на сайт интернет магазина, чтобы повысить конверсию и средний чек заказа\"."
      ]
    },
    {
      "cell_type": "markdown",
      "metadata": {
        "id": "ej7gGf1AMNHd"
      },
      "source": [
        "Рaссчитаем `RICE` для гипотез. Добавим полученные значения `RICE` к существующей таблице. \n",
        "Выведем из получившейся таблицы столбцы `'hypothesis'` и `'RICE'`, отсортированные по столбцу `'RICE'`."
      ]
    },
    {
      "cell_type": "code",
      "execution_count": null,
      "metadata": {
        "id": "IJ66hP9CMNHe",
        "outputId": "2f2c04c7-5fc1-47e7-db7c-784de6878410"
      },
      "outputs": [
        {
          "data": {
            "text/html": [
              "<div>\n",
              "<style scoped>\n",
              "    .dataframe tbody tr th:only-of-type {\n",
              "        vertical-align: middle;\n",
              "    }\n",
              "\n",
              "    .dataframe tbody tr th {\n",
              "        vertical-align: top;\n",
              "    }\n",
              "\n",
              "    .dataframe thead th {\n",
              "        text-align: right;\n",
              "    }\n",
              "</style>\n",
              "<table border=\"1\" class=\"dataframe\">\n",
              "  <thead>\n",
              "    <tr style=\"text-align: right;\">\n",
              "      <th></th>\n",
              "      <th>hypothesis</th>\n",
              "      <th>RICE</th>\n",
              "      <th>ICE</th>\n",
              "    </tr>\n",
              "  </thead>\n",
              "  <tbody>\n",
              "    <tr>\n",
              "      <th>7</th>\n",
              "      <td>Добавить форму подписки на все основные страницы, чтобы собрать базу клиентов для email-рассылок</td>\n",
              "      <td>112.0</td>\n",
              "      <td>11.200000</td>\n",
              "    </tr>\n",
              "    <tr>\n",
              "      <th>2</th>\n",
              "      <td>Добавить блоки рекомендаций товаров на сайт интернет магазина, чтобы повысить конверсию и средний чек заказа</td>\n",
              "      <td>56.0</td>\n",
              "      <td>7.000000</td>\n",
              "    </tr>\n",
              "    <tr>\n",
              "      <th>0</th>\n",
              "      <td>Добавить два новых канала привлечения трафика, что позволит привлекать на 30% больше пользователей</td>\n",
              "      <td>40.0</td>\n",
              "      <td>13.333333</td>\n",
              "    </tr>\n",
              "    <tr>\n",
              "      <th>6</th>\n",
              "      <td>Показать на главной странице баннеры с актуальными акциями и распродажами, чтобы увеличить конверсию</td>\n",
              "      <td>40.0</td>\n",
              "      <td>8.000000</td>\n",
              "    </tr>\n",
              "    <tr>\n",
              "      <th>8</th>\n",
              "      <td>Запустить акцию, дающую скидку на товар в день рождения</td>\n",
              "      <td>16.2</td>\n",
              "      <td>16.200000</td>\n",
              "    </tr>\n",
              "    <tr>\n",
              "      <th>3</th>\n",
              "      <td>Изменить структура категорий, что увеличит конверсию, т.к. пользователи быстрее найдут нужный товар</td>\n",
              "      <td>9.0</td>\n",
              "      <td>1.125000</td>\n",
              "    </tr>\n",
              "    <tr>\n",
              "      <th>1</th>\n",
              "      <td>Запустить собственную службу доставки, что сократит срок доставки заказов</td>\n",
              "      <td>4.0</td>\n",
              "      <td>2.000000</td>\n",
              "    </tr>\n",
              "    <tr>\n",
              "      <th>5</th>\n",
              "      <td>Добавить страницу отзывов клиентов о магазине, что позволит увеличить количество заказов</td>\n",
              "      <td>4.0</td>\n",
              "      <td>1.333333</td>\n",
              "    </tr>\n",
              "    <tr>\n",
              "      <th>4</th>\n",
              "      <td>Изменить цвет фона главной страницы, чтобы увеличить вовлеченность пользователей</td>\n",
              "      <td>3.0</td>\n",
              "      <td>1.000000</td>\n",
              "    </tr>\n",
              "  </tbody>\n",
              "</table>\n",
              "</div>"
            ],
            "text/plain": [
              "                                                                                                     hypothesis  \\\n",
              "7              Добавить форму подписки на все основные страницы, чтобы собрать базу клиентов для email-рассылок   \n",
              "2  Добавить блоки рекомендаций товаров на сайт интернет магазина, чтобы повысить конверсию и средний чек заказа   \n",
              "0            Добавить два новых канала привлечения трафика, что позволит привлекать на 30% больше пользователей   \n",
              "6          Показать на главной странице баннеры с актуальными акциями и распродажами, чтобы увеличить конверсию   \n",
              "8                                                       Запустить акцию, дающую скидку на товар в день рождения   \n",
              "3           Изменить структура категорий, что увеличит конверсию, т.к. пользователи быстрее найдут нужный товар   \n",
              "1                                     Запустить собственную службу доставки, что сократит срок доставки заказов   \n",
              "5                      Добавить страницу отзывов клиентов о магазине, что позволит увеличить количество заказов   \n",
              "4                              Изменить цвет фона главной страницы, чтобы увеличить вовлеченность пользователей   \n",
              "\n",
              "    RICE        ICE  \n",
              "7  112.0  11.200000  \n",
              "2   56.0   7.000000  \n",
              "0   40.0  13.333333  \n",
              "6   40.0   8.000000  \n",
              "8   16.2  16.200000  \n",
              "3    9.0   1.125000  \n",
              "1    4.0   2.000000  \n",
              "5    4.0   1.333333  \n",
              "4    3.0   1.000000  "
            ]
          },
          "execution_count": 28,
          "metadata": {},
          "output_type": "execute_result"
        }
      ],
      "source": [
        "hypothesis['RICE'] = (hypothesis['reach']*hypothesis['impact']*hypothesis['confidence'])/hypothesis['efforts']\n",
        "\n",
        "hypothesis[['hypothesis', 'RICE', 'ICE']].sort_values(by='RICE', ascending=False)"
      ]
    },
    {
      "cell_type": "markdown",
      "metadata": {
        "id": "FOkw7zGPMNHe"
      },
      "source": [
        "И снова наиболее перспективные гипотезы: \n",
        "* `№7` \"Добавить форму подписки на все основные страницы, чтобы собрать базу клиентов для email-рассылок\", \n",
        "* `№2` \"Добавить блоки рекомендаций товаров на сайт интернет магазина, чтобы повысить конверсию и средний чек заказа\", \n",
        "* `№0` \"Добавить два новых канала привлечения трафика, что позволит привлекать на 30% больше пользователей \", \n",
        "* `№6` \"Показать на главной странице баннеры с актуальными акциями и распродажами, чтобы увеличить конверсию\", \n",
        "* `№8` \"Запустить акцию, дающую скидку на товар в день рождения\". \n",
        "Однако на первом месте с большим отрывом гипотеза номер `№7` \"Добавить форму подписки на все основные страницы, чтобы собрать базу клиентов для email-рассылок\". Так получилось, потому что ее параметр ~~`reach`~~ 'охват' равен `10`. У всех остальных он меньше. Т.е. гипотеза `7` затронет наибольшее число пользователей."
      ]
    },
    {
      "cell_type": "markdown",
      "metadata": {
        "id": "Cryx5pndMNHj"
      },
      "source": [
        "##  Анализ A/B-теста"
      ]
    },
    {
      "cell_type": "markdown",
      "metadata": {
        "id": "6YJ7DgZlMNHk"
      },
      "source": [
        "### График кумулятивной выручки по группам"
      ]
    },
    {
      "cell_type": "markdown",
      "metadata": {
        "id": "qoMZ9NZzMNHk"
      },
      "source": [
        "Получим агрегированные кумулятивные по дням данные о заказах и посетителях интернет-магазина. Построим графики кумулятивной выручки по дням и группам A/B-тестирования."
      ]
    },
    {
      "cell_type": "code",
      "execution_count": null,
      "metadata": {
        "id": "slKNm6GKMNHl",
        "outputId": "658e6093-90d5-45e6-a026-3033eac7579a"
      },
      "outputs": [
        {
          "data": {
            "image/png": "[encoded data removed]",
            "text/plain": [
              "<Figure size 720x360 with 1 Axes>"
            ]
          },
          "metadata": {
            "needs_background": "light"
          },
          "output_type": "display_data"
        }
      ],
      "source": [
        "datesGroups = orders[['date', 'group']].drop_duplicates()\n",
        "\n",
        "ordersAggregated = datesGroups.apply(\n",
        "    lambda x: orders[\n",
        "        np.logical_and(\n",
        "            orders['date'] <= x['date'], orders['group'] == x['group']\n",
        "        )\n",
        "    ].agg(\n",
        "        {\n",
        "            'date': 'max',\n",
        "            'group': 'max',\n",
        "            'transaction_id': 'nunique',\n",
        "            'visitor_id': 'nunique',\n",
        "            'revenue': 'sum',\n",
        "        }\n",
        "    ),\n",
        "    axis=1,\n",
        ").sort_values(by=['date', 'group'])\n",
        "\n",
        "visitorsAggregated = datesGroups.apply(\n",
        "    lambda x: visitors[\n",
        "        np.logical_and(\n",
        "            visitors['date'] <= x['date'], visitors['group'] == x['group']\n",
        "        )\n",
        "    ].agg({'date': 'max', 'group': 'max', 'visitors': 'sum'}),\n",
        "    axis=1,\n",
        ").sort_values(by=['date', 'group'])\n",
        "\n",
        "cumulativeData = ordersAggregated.merge(\n",
        "    visitorsAggregated, left_on=['date', 'group'], right_on=['date', 'group']\n",
        ")\n",
        "cumulativeData.columns = [\n",
        "    'date',\n",
        "    'group',\n",
        "    'orders',\n",
        "    'buyers',\n",
        "    'revenue',\n",
        "    'visitors',\n",
        "]\n",
        "\n",
        "\n",
        "cumulativeRevenueA = cumulativeData[cumulativeData['group']=='A'][['date','revenue', 'orders']]\n",
        "\n",
        "# датафрейм с кумулятивным количеством заказов и кумулятивной выручкой по дням в группе B\n",
        "cumulativeRevenueB = cumulativeData[cumulativeData['group']=='B'][['date','revenue', 'orders']]\n",
        "\n",
        "plt.figure(figsize=(10, 5))\n",
        "# Строим график выручки группы А\n",
        "plt.plot(cumulativeRevenueA['date'], cumulativeRevenueA['revenue'], label='A')\n",
        "\n",
        "# Строим график выручки группы B\n",
        "plt.plot(cumulativeRevenueB['date'], cumulativeRevenueB['revenue'], label='B')\n",
        "\n",
        "plt.legend() \n",
        "\n",
        "plt.title('Куммулятивная выручка по группам, млн.руб.')\n",
        "plt.xlabel('Дата')\n",
        "plt.ylabel('Выручка, млн.руб.')\n",
        "plt.show()"
      ]
    },
    {
      "cell_type": "markdown",
      "metadata": {
        "id": "Ic7sR9x0MNHp"
      },
      "source": [
        "Группа `В` лидирует по накопленной выручке практически с самого начала теста. Однако с середины теста произошел резкий рост выручки группы `В` и отрыв значительно увеличился. После чего график стабилизировался."
      ]
    },
    {
      "cell_type": "markdown",
      "metadata": {
        "id": "yvNjdAd1MNHq"
      },
      "source": [
        "### График кумулятивного среднего чека по группам"
      ]
    },
    {
      "cell_type": "markdown",
      "metadata": {
        "id": "Avc-1ShhMNHq"
      },
      "source": [
        "Построим графики среднего чека по группам — разделим кумулятивную выручку на кумулятивное число заказов."
      ]
    },
    {
      "cell_type": "code",
      "execution_count": null,
      "metadata": {
        "id": "XyEXpcgWMNHr",
        "outputId": "2697790f-8c2e-4880-9793-c8b3b50301ba"
      },
      "outputs": [
        {
          "data": {
            "image/png": "[encoded data removed]",
            "text/plain": [
              "<Figure size 720x360 with 1 Axes>"
            ]
          },
          "metadata": {
            "needs_background": "light"
          },
          "output_type": "display_data"
        }
      ],
      "source": [
        "plt.figure(figsize=(10, 5))\n",
        "plt.plot(cumulativeRevenueA['date'], cumulativeRevenueA['revenue']/cumulativeRevenueA['orders'], label='A')\n",
        "plt.plot(cumulativeRevenueB['date'], cumulativeRevenueB['revenue']/cumulativeRevenueB['orders'], label='B')\n",
        "plt.legend() \n",
        "plt.title('Куммулятивный средний чек по группам, тыс.руб.')\n",
        "plt.xlabel('Дата')\n",
        "plt.ylabel('Средний чек, тыс.руб.')\n",
        "plt.show()"
      ]
    },
    {
      "cell_type": "markdown",
      "metadata": {
        "id": "MBn4Ms9BMNHr"
      },
      "source": [
        "Кумулятивное значение среднего чека колеблется.  Возможно, в группу `B` в середине теста попали крупные заказы (резкий всплеск на графике). Тогда ей нужно больше данных, чтобы прийти к реальному среднему чеку и установиться на его уровне."
      ]
    },
    {
      "cell_type": "markdown",
      "metadata": {
        "id": "OWKBd_dEMNH4"
      },
      "source": [
        "### График относительного изменения кумулятивного среднего чека группы B к группе A"
      ]
    },
    {
      "cell_type": "markdown",
      "metadata": {
        "id": "mdZdE6qeMNH5"
      },
      "source": [
        "Построим график относительного различия для среднего чека. Добавим горизонтальную ось методом `axhline()`:"
      ]
    },
    {
      "cell_type": "code",
      "execution_count": null,
      "metadata": {
        "id": "OdFbtKv-MNH5",
        "outputId": "fc5869b8-231f-4fa8-a708-c7eeb47ecccd"
      },
      "outputs": [
        {
          "data": {
            "image/png": "[encoded data removed]",
            "text/plain": [
              "<Figure size 720x360 with 1 Axes>"
            ]
          },
          "metadata": {
            "needs_background": "light"
          },
          "output_type": "display_data"
        }
      ],
      "source": [
        "# собираем данные в одном датафрейме\n",
        "mergedCumulativeRevenue = cumulativeRevenueA.merge(cumulativeRevenueB, left_on='date', right_on='date', how='left', suffixes=['A', 'B'])\n",
        "\n",
        "# cтроим отношение средних чеков\n",
        "plt.figure(figsize=(10, 5))\n",
        "plt.plot(mergedCumulativeRevenue['date'], (mergedCumulativeRevenue['revenueB']/mergedCumulativeRevenue['ordersB'])/(mergedCumulativeRevenue['revenueA']/mergedCumulativeRevenue['ordersA'])-1)\n",
        "\n",
        "# добавляем ось X\n",
        "plt.axhline(y=0, color='black', linestyle='--') \n",
        "plt.title(' График относительного изменения кумулятивного среднего чека группы B к группе A')\n",
        "plt.xlabel('Дата')\n",
        "plt.show()"
      ]
    },
    {
      "cell_type": "markdown",
      "metadata": {
        "id": "oJ6sCBn-MNH6"
      },
      "source": [
        "Результаты теста значительно и резко менялись в несколько дат. Вероятно в эти даты были совершены аномальные заказы."
      ]
    },
    {
      "cell_type": "markdown",
      "metadata": {
        "id": "nJtBITtfMNH7"
      },
      "source": [
        "### График кумулятивной конверсии по группам"
      ]
    },
    {
      "cell_type": "markdown",
      "metadata": {
        "id": "u3OibDeTMNH8"
      },
      "source": [
        "Аналогично проанализируем график кумулятивной конверсии. "
      ]
    },
    {
      "cell_type": "code",
      "execution_count": null,
      "metadata": {
        "id": "6DiEcTFdMNH8",
        "outputId": "c4f749e7-392a-49ab-98fc-efa0761d63bf"
      },
      "outputs": [
        {
          "data": {
            "image/png": "[encoded data removed]",
            "text/plain": [
              "<Figure size 720x360 with 1 Axes>"
            ]
          },
          "metadata": {
            "needs_background": "light"
          },
          "output_type": "display_data"
        }
      ],
      "source": [
        "# считаем кумулятивную конверсию\n",
        "cumulativeData['conversion'] = cumulativeData['orders']/cumulativeData['visitors']\n",
        "\n",
        "# отделяем данные по группе A\n",
        "cumulativeDataA = cumulativeData[cumulativeData['group']=='A']\n",
        "\n",
        "# отделяем данные по группе B\n",
        "cumulativeDataB = cumulativeData[cumulativeData['group']=='B']\n",
        "\n",
        "# строим графики\n",
        "plt.figure(figsize=(10, 5))\n",
        "plt.plot(cumulativeDataA['date'], cumulativeDataA['conversion'], label='A')\n",
        "plt.plot(cumulativeDataB['date'], cumulativeDataB['conversion'], label='B')\n",
        "plt.legend()\n",
        "\n",
        "# задаем масштаб осей\n",
        "plt.axis([dt.datetime(2019, 8, 1), dt.datetime(2019, 8, 31), 0, 0.05])\n",
        "plt.title('Кумулятивная конверсия по группам')\n",
        "plt.xlabel('Дата')\n",
        "plt.show()"
      ]
    },
    {
      "cell_type": "markdown",
      "metadata": {
        "id": "zt_CSU8IMNH9"
      },
      "source": [
        "Если исключить колебания в начале теста, накопленная конверсия группы `В` стабильно лучше группы `А`."
      ]
    },
    {
      "cell_type": "markdown",
      "metadata": {
        "id": "U9S5fQTrMNH-"
      },
      "source": [
        "### График относительного изменения кумулятивной конверсии группы B к группе A"
      ]
    },
    {
      "cell_type": "markdown",
      "metadata": {
        "id": "U-KdZgArMNH-"
      },
      "source": [
        "Построим график относительного различия кумулятивных конверсий:"
      ]
    },
    {
      "cell_type": "code",
      "execution_count": null,
      "metadata": {
        "id": "EQQfSI81MNH_",
        "outputId": "af861dc7-63bf-423c-f56c-fd4871956115"
      },
      "outputs": [
        {
          "data": {
            "image/png": "[encoded data removed]",
            "text/plain": [
              "<Figure size 720x360 with 1 Axes>"
            ]
          },
          "metadata": {
            "needs_background": "light"
          },
          "output_type": "display_data"
        }
      ],
      "source": [
        "mergedCumulativeConversions = cumulativeDataA[['date','conversion']].merge(cumulativeDataB[['date','conversion']], left_on='date', right_on='date', how='left', suffixes=['A', 'B'])\n",
        "plt.figure(figsize=(10, 5))\n",
        "plt.plot(mergedCumulativeConversions['date'] , mergedCumulativeConversions['conversionB']/mergedCumulativeConversions['conversionA']-1, label=\"Относительный прирост конверсии группы B относительно группы A\")\n",
        "plt.legend()\n",
        "\n",
        "plt.axhline(y=0, color='black', linestyle='--')\n",
        "plt.axhline(y=0.2, color='grey', linestyle='--')\n",
        "plt.axis([\"2019-08-01\", '2019-08-31', -0.30, 0.30])\n",
        "plt.title('График относительного изменения кумулятивной конверсии группы B к группе A')\n",
        "plt.xlabel('Дата')\n",
        "plt.show()"
      ]
    },
    {
      "cell_type": "markdown",
      "metadata": {
        "id": "1EfPoAxjMNIB"
      },
      "source": [
        "В начале теста группа `B` проигрывала группе `A`, затем вырвалась вперёд. Накопленные результаты группы `В` лучше группы `А` практически на протяжении всего теста. Однако постепенно снижаются."
      ]
    },
    {
      "cell_type": "markdown",
      "metadata": {
        "id": "Wld-U01eMNIC"
      },
      "source": [
        "### Точечный график количества заказов по пользователям"
      ]
    },
    {
      "cell_type": "markdown",
      "metadata": {
        "id": "are4U_pHMNIC"
      },
      "source": [
        "Изучим гистограмму распределения количества заказов:"
      ]
    },
    {
      "cell_type": "code",
      "execution_count": null,
      "metadata": {
        "id": "knPgjhpOMNIC",
        "outputId": "1d90deab-bcd5-42a1-d0dd-70cc933e2357"
      },
      "outputs": [
        {
          "name": "stdout",
          "output_type": "stream",
          "text": [
            "         userId  orders\n",
            "908  3967698036       3\n",
            "55    249864742       3\n",
            "478  2108163459       3\n",
            "687  2988190573       3\n",
            "890  3908431265       3\n",
            "138   611059232       3\n",
            "632  2742574263       3\n",
            "157   678354126       2\n",
            "323  1404560065       2\n",
            "452  1985475298       2\n"
          ]
        },
        {
          "data": {
            "image/png": "[encoded data removed]",
            "text/plain": [
              "<Figure size 432x288 with 1 Axes>"
            ]
          },
          "metadata": {
            "needs_background": "light"
          },
          "output_type": "display_data"
        }
      ],
      "source": [
        "ordersByUsers = (\n",
        "    orders.groupby('visitor_id', as_index=False)\n",
        "    .agg({'transaction_id': 'nunique'})\n",
        ")\n",
        "ordersByUsers.columns = ['userId', 'orders']\n",
        "\n",
        "print(ordersByUsers.sort_values(by='orders', ascending=False).head(10))\n",
        "\n",
        "plt.hist(ordersByUsers['orders']) \n",
        "plt.title('Гистограмма распределения количества заказов')\n",
        "plt.xlabel('Количество заказов, шт.')\n",
        "plt.ylabel('Количество пользователей, чел.')\n",
        "plt.show()"
      ]
    },
    {
      "cell_type": "markdown",
      "metadata": {
        "id": "5-tm5ujtMNID"
      },
      "source": [
        "Большинство покупателей заказывали только один раз. "
      ]
    },
    {
      "cell_type": "markdown",
      "metadata": {
        "id": "byvg3S90MNIE"
      },
      "source": [
        "Построим точечную диаграмму числа заказов на одного пользователя:"
      ]
    },
    {
      "cell_type": "code",
      "execution_count": null,
      "metadata": {
        "id": "A0vj7ZPqMNIE",
        "outputId": "3e4fc612-ab2f-4e07-fbce-25414315874c"
      },
      "outputs": [
        {
          "data": {
            "image/png": "[encoded data removed]",
            "text/plain": [
              "<Figure size 720x360 with 1 Axes>"
            ]
          },
          "metadata": {
            "needs_background": "light"
          },
          "output_type": "display_data"
        }
      ],
      "source": [
        "# серия из чисел от 0 до количества наблюдений в ordersByUsers\n",
        "plt.figure(figsize=(10, 5))\n",
        "x_values = pd.Series(range(0, len(ordersByUsers)))\n",
        "plt.scatter(x_values, ordersByUsers['orders']) \n",
        "plt.title('Точечный график количества заказов по пользователям')\n",
        "plt.ylabel('Количество заказов, шт.')\n",
        "plt.show()"
      ]
    },
    {
      "cell_type": "markdown",
      "metadata": {
        "id": "dx_4VxunMNIF"
      },
      "source": [
        "Пользователей заказавших более двух раз немного, они могут быть аномальными."
      ]
    },
    {
      "cell_type": "markdown",
      "metadata": {
        "id": "BhBUzXUvMNIF"
      },
      "source": [
        "### 95-й и 99-й перцентили количества заказов на пользователя."
      ]
    },
    {
      "cell_type": "markdown",
      "metadata": {
        "id": "NKhquLpKMNIG"
      },
      "source": [
        "Посчитаем выборочные перцентили количества заказов на одного пользователя:"
      ]
    },
    {
      "cell_type": "code",
      "execution_count": null,
      "metadata": {
        "id": "Kf4RU4UoMNIH",
        "outputId": "1757f0be-bec4-4205-dcba-0665f3431dcd"
      },
      "outputs": [
        {
          "name": "stdout",
          "output_type": "stream",
          "text": [
            "[1. 2.]\n"
          ]
        }
      ],
      "source": [
        "print(np.percentile(ordersByUsers['orders'], [90, 99])) "
      ]
    },
    {
      "cell_type": "markdown",
      "metadata": {
        "id": "YrkitcYjMNIH"
      },
      "source": [
        "Не более 10% пользователей совершили более одного заказа, и не более 1% пользователей - больше двух заказов."
      ]
    },
    {
      "cell_type": "markdown",
      "metadata": {
        "id": "A4J-LXqYMNIM"
      },
      "source": [
        "### Точечный график стоимостей заказов"
      ]
    },
    {
      "cell_type": "markdown",
      "metadata": {
        "id": "kqeQ6d9RMNIN"
      },
      "source": [
        "Изучим гистограмму распределения стоимостей заказов, а также точечную диаграмму стоимостей заказов:"
      ]
    },
    {
      "cell_type": "code",
      "execution_count": null,
      "metadata": {
        "id": "aDb5YfwaMNIN",
        "outputId": "568ff94d-0725-422f-b2c0-17a8b48a19ab"
      },
      "outputs": [
        {
          "name": "stdout",
          "output_type": "stream",
          "text": [
            "      transaction_id  visitor_id        date  revenue group\n",
            "425        590470918  1920142716  2019-08-19  1294500     B\n",
            "1196      3936777065  2108080724  2019-08-15   202740     B\n",
            "1136       666610489  1307669133  2019-08-13    92550     A\n",
            "744       3668308183   888512513  2019-08-27    86620     B\n",
            "743       3603576309  4133034833  2019-08-09    67990     A\n",
            "1103      1348774318  1164614297  2019-08-12    66350     A\n",
            "1099       316924019   148427295  2019-08-12    65710     A\n",
            "949       1347999392   887908475  2019-08-21    60450     A\n",
            "940       2420050534  4003628586  2019-08-08    58550     B\n",
            "131       3163614039  2254586615  2019-08-22    53904     A\n"
          ]
        },
        {
          "data": {
            "image/png": "[encoded data removed]",
            "text/plain": [
              "<Figure size 432x288 with 1 Axes>"
            ]
          },
          "metadata": {
            "needs_background": "light"
          },
          "output_type": "display_data"
        }
      ],
      "source": [
        "print(orders.sort_values(by='revenue', ascending=False).head(10))\n",
        "plt.hist(orders['revenue']) \n",
        "plt.title('Гистограмма распределения стоимостей заказов')\n",
        "plt.xlabel('Стоимость заказов, млн.руб.')\n",
        "plt.ylabel('Количество пользователей, чел.')\n",
        "plt.show()"
      ]
    },
    {
      "cell_type": "code",
      "execution_count": null,
      "metadata": {
        "id": "JQlmz0BHMNIO",
        "outputId": "b4b230b9-6c23-4239-efbf-5d5818b2118f"
      },
      "outputs": [
        {
          "data": {
            "image/png": "[encoded data removed]",
            "text/plain": [
              "<Figure size 720x360 with 1 Axes>"
            ]
          },
          "metadata": {
            "needs_background": "light"
          },
          "output_type": "display_data"
        }
      ],
      "source": [
        "plt.figure(figsize=(10, 5))\n",
        "x_values = pd.Series(range(0, len(orders['revenue'])))\n",
        "plt.scatter(x_values, orders['revenue']) \n",
        "plt.title('Точечный график стоимостей заказов')\n",
        "plt.ylabel('Стоимость заказов, млн.руб.')\n",
        "plt.show()"
      ]
    },
    {
      "cell_type": "markdown",
      "metadata": {
        "id": "W5T6nDeiMNIP"
      },
      "source": [
        "Есть несколько заказов стоимостью выше 200 т.р. Один из них - 1,2 млн рублей. Эти заказы выглядят аномально."
      ]
    },
    {
      "cell_type": "markdown",
      "metadata": {
        "id": "wf3IMgZcMNIP"
      },
      "source": [
        "### 95-й и 99-й перцентили стоимости заказов"
      ]
    },
    {
      "cell_type": "markdown",
      "metadata": {
        "id": "PhEZigVFMNIP"
      },
      "source": [
        "Посчитаем выборочные перцентили стоимости заказов:"
      ]
    },
    {
      "cell_type": "code",
      "execution_count": null,
      "metadata": {
        "id": "k_90cMo3MNIQ",
        "outputId": "59798461-c61c-4b9b-c165-c812d38f9586"
      },
      "outputs": [
        {
          "data": {
            "text/plain": [
              "array([17990., 53904.])"
            ]
          },
          "execution_count": 39,
          "metadata": {},
          "output_type": "execute_result"
        }
      ],
      "source": [
        "(np.percentile(orders['revenue'], [90, 99])) "
      ]
    },
    {
      "cell_type": "markdown",
      "metadata": {
        "id": "lzb-BADzMNIQ"
      },
      "source": [
        "Не более, чем у 10% заказов чек дороже 17 990 рублей. И не более, чем у 1% заказов - дороже 53 904 рублей."
      ]
    },
    {
      "cell_type": "markdown",
      "metadata": {
        "id": "9wtEqiBuMNIR"
      },
      "source": [
        "### Cтатистическая значимость различий в конверсии между группами по «сырым» данным"
      ]
    },
    {
      "cell_type": "markdown",
      "metadata": {
        "id": "jqBPvi-LMNIS"
      },
      "source": [
        "**Нулевая гипотеза:** различий в конверсии между группами нет.   \n",
        "\n",
        "**Альтернативная:** различия в конверсии между группами есть."
      ]
    },
    {
      "cell_type": "markdown",
      "metadata": {
        "id": "Xmu22XfDMNIi"
      },
      "source": [
        "Посчитаем статистическую значимость различия в конверсии между группами.\n",
        "Создадим переменные `ordersByUsersA` и `ordersByUsersB` со столбцами ['userId', 'orders']. В них для пользователей, которые заказывали хотя бы 1 раз, укажем число совершённых заказов."
      ]
    },
    {
      "cell_type": "code",
      "execution_count": null,
      "metadata": {
        "id": "sumhFe6HMNIj"
      },
      "outputs": [],
      "source": [
        "ordersByUsersA = (\n",
        "    orders[orders['group'] == 'A']\n",
        "    .groupby('visitor_id', as_index=False)\n",
        "    .agg({'transaction_id': pd.Series.nunique})\n",
        ")\n",
        "ordersByUsersA.columns = ['visitor_id', 'orders']\n",
        "\n",
        "ordersByUsersB = (\n",
        "    orders[orders['group'] == 'B']\n",
        "    .groupby('visitor_id', as_index=False)\n",
        "    .agg({'transaction_id': pd.Series.nunique})\n",
        ")\n",
        "ordersByUsersB.columns = ['visitor_id', 'orders'] "
      ]
    },
    {
      "cell_type": "code",
      "execution_count": null,
      "metadata": {
        "id": "mJ2RY_iXMNIj"
      },
      "outputs": [],
      "source": [
        "sampleA = pd.concat([ordersByUsersA['orders'],pd.Series(0, index=np.arange(visitors[visitors['group']=='A']['visitors'].sum() - len(ordersByUsersA['orders'])), name='orders')],axis=0)\n",
        "\n",
        "sampleB = pd.concat([ordersByUsersB['orders'],pd.Series(0, index=np.arange(visitors[visitors['group']=='B']['visitors'].sum() - len(ordersByUsersB['orders'])), name='orders')],axis=0) "
      ]
    },
    {
      "cell_type": "code",
      "execution_count": null,
      "metadata": {
        "id": "4WOk46ZeMNIk",
        "outputId": "a3b34623-ad3e-4ad6-9731-29583dfb988b"
      },
      "outputs": [
        {
          "name": "stdout",
          "output_type": "stream",
          "text": [
            "0.011\n",
            "0.160\n"
          ]
        }
      ],
      "source": [
        "print(\"{0:.3f}\".format(stats.mannwhitneyu(sampleA, sampleB)[1]))\n",
        "\n",
        "print(\"{0:.3f}\".format(sampleB.mean() / sampleA.mean() - 1))"
      ]
    },
    {
      "cell_type": "markdown",
      "metadata": {
        "id": "yq0GPKhqMNIk"
      },
      "source": [
        "**Примем стандартный уровень статистической значимости - равный 0,05.**"
      ]
    },
    {
      "cell_type": "markdown",
      "metadata": {
        "id": "DLXG7o_LMNIl"
      },
      "source": [
        "`p-value` = 0.011,  меньше 0.05, Нулевую гипотезу о том, что статистически значимых различий в конверсии между группами нет, отвергаем. Относительный прирост конверсии группы `B` составляет `16%`."
      ]
    },
    {
      "cell_type": "markdown",
      "metadata": {
        "id": "WzLXUMnYMNIn"
      },
      "source": [
        "### Cтатистическая значимость различий в среднем чеке заказа между группами по «сырым» данным"
      ]
    },
    {
      "cell_type": "markdown",
      "metadata": {
        "id": "_UaEyCkbMNIn"
      },
      "source": [
        "**Нулевая гипотеза:** различий в среднем чеке между группами нет.    \n",
        "**Альтернативная гипотеза:** различия в среднем чеке между группами есть."
      ]
    },
    {
      "cell_type": "code",
      "execution_count": null,
      "metadata": {
        "id": "5U7IlDFUMNIo",
        "outputId": "596a7c3b-2dbf-4e9c-b511-b7f271bd2f7e"
      },
      "outputs": [
        {
          "name": "stdout",
          "output_type": "stream",
          "text": [
            "0.829\n",
            "0.287\n"
          ]
        }
      ],
      "source": [
        "print('{0:.3f}'.format(stats.mannwhitneyu(orders[orders['group']=='A']['revenue'], orders[orders['group']=='B']['revenue'])[1]))\n",
        "print('{0:.3f}'.format(orders[orders['group']=='B']['revenue'].mean()/orders[orders['group']=='A']['revenue'].mean()-1)) "
      ]
    },
    {
      "cell_type": "markdown",
      "metadata": {
        "id": "L732ziTMMNIr"
      },
      "source": [
        "`P-value` = 0.829, значительно больше 0.05. Значит, причин отвергать нулевую гипотезу и считать, что в среднем чеке есть различия, нет. Впрочем, средний чек группы `B` значительно выше среднего чека группы `A`."
      ]
    },
    {
      "cell_type": "markdown",
      "metadata": {
        "id": "fJzRykscMNIs"
      },
      "source": [
        "### Cтатистическая значимость различий в конверсии между группами по «очищенным» данным"
      ]
    },
    {
      "cell_type": "markdown",
      "metadata": {
        "id": "mqK27YlcMNIs"
      },
      "source": [
        "Примем за аномальных пользователей тех, кто совершил от `3` заказов или совершил заказ дороже  `19 260` рублей. Так мы уберём 1% пользователей с наибольшим числом заказов и 8% пользователей с дорогими заказами. Сделаем срезы пользователей с числом заказов больше  2 — `usersWithManyOrders` и пользователей, совершивших заказы дороже  19 260 — `usersWithExpensiveOrders`. Объединим их в таблице `abnormalUsers`.\n",
        "Узнаем, сколько всего аномальных пользователей методом `shape()`."
      ]
    },
    {
      "cell_type": "code",
      "execution_count": null,
      "metadata": {
        "id": "M5B6SWbJMNIu",
        "outputId": "643f43bb-1bbc-4efd-e67f-8724c0a9cf68"
      },
      "outputs": [
        {
          "name": "stdout",
          "output_type": "stream",
          "text": [
            "568     113298937\n",
            "1099    148427295\n",
            "461     154576532\n",
            "928     204675465\n",
            "33      249864742\n",
            "Name: visitor_id, dtype: int64\n",
            "82\n"
          ]
        }
      ],
      "source": [
        "percentile_orders = int(np.percentile(ordersByUsers['orders'], [99]))\n",
        "percentile_revenue = int(np.percentile(orders['revenue'], [92])) \n",
        "usersWithManyOrders = pd.concat(\n",
        "    [\n",
        "        ordersByUsersA[ordersByUsersA['orders'] > percentile_orders]['visitor_id'],\n",
        "        ordersByUsersB[ordersByUsersB['orders'] > percentile_orders]['visitor_id'],\n",
        "    ],\n",
        "    axis=0,\n",
        ")\n",
        "usersWithExpensiveOrders = orders[orders['revenue'] > percentile_revenue]['visitor_id']\n",
        "abnormalUsers = (\n",
        "    pd.concat([usersWithManyOrders, usersWithExpensiveOrders], axis=0)\n",
        "    .drop_duplicates()\n",
        "    .sort_values()\n",
        ")\n",
        "print(abnormalUsers.head(5))\n",
        "print(abnormalUsers.shape[0]) "
      ]
    },
    {
      "cell_type": "markdown",
      "metadata": {
        "id": "T-lCvBH3MNIu"
      },
      "source": [
        "Всего 82 аномальных пользователя."
      ]
    },
    {
      "cell_type": "code",
      "execution_count": null,
      "metadata": {
        "id": "9h4wp52sMNIv"
      },
      "outputs": [],
      "source": [
        "sampleAFiltered = pd.concat(\n",
        "    [\n",
        "        ordersByUsersA[\n",
        "            np.logical_not(ordersByUsersA['visitor_id'].isin(abnormalUsers))\n",
        "        ]['orders'],\n",
        "        pd.Series(\n",
        "            0,\n",
        "            index=np.arange(\n",
        "                visitors[visitors['group']=='A']['visitors'].sum() - len(ordersByUsersA['visitor_id'])\n",
        "            ),\n",
        "            name='orders',\n",
        "        ),\n",
        "    ],\n",
        "    axis=0,\n",
        ")\n",
        "\n",
        "sampleBFiltered = pd.concat(\n",
        "    [\n",
        "        ordersByUsersB[\n",
        "            np.logical_not(ordersByUsersB['visitor_id'].isin(abnormalUsers))\n",
        "        ]['orders'],\n",
        "        pd.Series(\n",
        "            0,\n",
        "            index=np.arange(\n",
        "                visitors[visitors['group']=='B']['visitors'].sum() - len(ordersByUsersB['visitor_id'])\n",
        "            ),\n",
        "            name='orders',\n",
        "        ),\n",
        "    ],\n",
        "    axis=0,\n",
        ") "
      ]
    },
    {
      "cell_type": "markdown",
      "metadata": {
        "id": "44jOQcFTMNIw"
      },
      "source": [
        "<div id='link'></div> "
      ]
    },
    {
      "cell_type": "code",
      "execution_count": null,
      "metadata": {
        "id": "J6g9biS9MNIw",
        "outputId": "5d67be1e-3b3c-461e-dca4-f214cb728b42"
      },
      "outputs": [
        {
          "name": "stdout",
          "output_type": "stream",
          "text": [
            "0.019\n",
            "0.172\n"
          ]
        }
      ],
      "source": [
        "print('{0:.3f}'.format(stats.mannwhitneyu(sampleAFiltered, sampleBFiltered)[1]))\n",
        "print('{0:.3f}'.format(sampleBFiltered.mean()/sampleAFiltered.mean()-1)) "
      ]
    },
    {
      "cell_type": "markdown",
      "metadata": {
        "id": "ix8BbsOSMNIx"
      },
      "source": [
        "Результаты по конверсии практически не изменились. "
      ]
    },
    {
      "cell_type": "markdown",
      "metadata": {
        "id": "R2yi3IANMNIy"
      },
      "source": [
        "### Cтатистическая значимость различий в среднем чеке заказа между группами по «очищенным» данным"
      ]
    },
    {
      "cell_type": "code",
      "execution_count": null,
      "metadata": {
        "id": "_4MRUV7VMNIy",
        "outputId": "ed9c8ce8-bb98-411a-ec75-7bf8f0e00865"
      },
      "outputs": [
        {
          "name": "stdout",
          "output_type": "stream",
          "text": [
            "0.481\n",
            "-0.085\n"
          ]
        }
      ],
      "source": [
        "print(\n",
        "    '{0:.3f}'.format(\n",
        "        stats.mannwhitneyu(\n",
        "            orders[\n",
        "                np.logical_and(\n",
        "                    orders['group'] == 'A',\n",
        "                    np.logical_not(orders['visitor_id'].isin(abnormalUsers)),\n",
        "                )\n",
        "            ]['revenue'],\n",
        "            orders[\n",
        "                np.logical_and(\n",
        "                    orders['group'] == 'B',\n",
        "                    np.logical_not(orders['visitor_id'].isin(abnormalUsers)),\n",
        "                )\n",
        "            ]['revenue'],\n",
        "        )[1]\n",
        "    )\n",
        ")\n",
        "\n",
        "print(\n",
        "    \"{0:.3f}\".format(\n",
        "        orders[\n",
        "            np.logical_and(\n",
        "                orders['group'] == 'B',\n",
        "                np.logical_not(orders['visitor_id'].isin(abnormalUsers)),\n",
        "            )\n",
        "        ]['revenue'].mean()\n",
        "        / orders[\n",
        "            np.logical_and(\n",
        "                orders['group'] == 'A',\n",
        "                np.logical_not(orders['visitor_id'].isin(abnormalUsers)),\n",
        "            )\n",
        "        ]['revenue'].mean()\n",
        "        - 1\n",
        "    )\n",
        ") "
      ]
    },
    {
      "cell_type": "markdown",
      "metadata": {
        "id": "ksa_EfkcMNI0"
      },
      "source": [
        "`P-value`  уменьшился, *но нулевую гипотезу по-прежнему невозможно отвергнуть*. Разница между сегментами сократилась с 28.7% до 8,5%. Но теперь средний чек группы `А` выше. *Однако это различие не имеет статистической значимости.*"
      ]
    },
    {
      "cell_type": "markdown",
      "metadata": {
        "id": "6lle5F5yMNI2"
      },
      "source": [
        "### Решение по результатам теста "
      ]
    },
    {
      "cell_type": "markdown",
      "metadata": {
        "id": "Qrsz7ji6MNI2"
      },
      "source": [
        "Имеющиеся факты:\n",
        "* Есть статистически значимое различие по конверсии между группами как по «сырым», так и по данным после фильтрации аномалий;\n",
        "* Нет статистически значимого различия по среднему чеку между группами ни по «сырым», ни по данным после фильтрации аномалий;\n",
        "* График различия конверсии между группами сообщает, что результаты группы `B` лучше группы `A`;\n",
        "* График различия среднего чека сильно колеблется. Сделать из этого графика определённые выводы нельзя."
      ]
    },
    {
      "cell_type": "markdown",
      "metadata": {
        "id": "d6ksn-eNMNI4"
      },
      "source": [
        "Группа B оказалась статистически значимо лучше группы A по одной из метрик. Относительный прирост конверсии группы B составляет 17,2%. Относительный проигрыш группы B по среднему чеку равен 8.5%, однако это различие не имеет статистической значимости."
      ]
    },
    {
      "cell_type": "markdown",
      "metadata": {
        "id": "qIzR7PaDMNI7"
      },
      "source": [
        "## Вывод"
      ]
    },
    {
      "cell_type": "markdown",
      "metadata": {
        "id": "1T4HSbgcMNI7"
      },
      "source": [
        "Произведено маркетинговое исследование интернет-магазина.\n",
        "\n",
        "\n",
        "Перед тем как приступить к исследованию была произведена предобработка данных. Данные были проверены на ошибки и аномалии.\n",
        "\n",
        "В первой части исследования была произведена приоритизация гипотез, в ходе которой было установлено что наиболее перспективными являются гипотезы: \n",
        "* `№7` \"Добавить форму подписки на все основные страницы, чтобы собрать базу клиентов для email-рассылок\", \n",
        "* `№2` \"Добавить блоки рекомендаций товаров на сайт интернет магазина, чтобы повысить конверсию и средний чек заказа\", \n",
        "* `№0` \"Добавить два новых канала привлечения трафика, что позволит привлекать на 30% больше пользователей \", \n",
        "* `№6` \"Показать на главной странице баннеры с актуальными акциями и распродажами, чтобы увеличить конверсию\", \n",
        "* `№8` \"Запустить акцию, дающую скидку на товар в день рождения\". \n",
        "\n",
        "\n",
        "\n",
        "Во второй части исследования произведен анализ результатов проведенного A/B-теста и было установлено:\n",
        "* Есть статистически значимое различие по конверсии между группами как по «сырым», так и по данным после фильтрации аномалий;\n",
        "\n",
        "\n",
        "* Нет статистически значимого различия по среднему чеку между группами ни по «сырым», ни по данным после фильтрации аномалий;\n",
        "* График различия конверсии между группами сообщает, что результаты группы B лучше группы A;\n",
        "* График различия среднего чека сильно колеблется. Сделать из этого графика определённые выводы нельзя.\n",
        "* Группа B оказалась статистически значимо лучше группы A по одной из метрик. Относительный прирост конверсии группы B составляет 17,2%. Относительный проигрыш группы B по среднему чеку равен 8.5%, однако это различие не имеет статистической значимости.  \n"
      ]
    },
    {
      "cell_type": "markdown",
      "metadata": {
        "id": "Yh7n9QxbMNI9"
      },
      "source": [
        "**Исходя из фактов выше, следует остановить тест, и признать его успешным. Группа В показала лучшие результаты по конверсии, и различия в коверсии статистически значимы. И хотя тест не установил статистически значимого различия среднего чека, выбранная гипотеза позволит достичь цели за счет увеличения конверсии.**"
      ]
    }
  ],
  "metadata": {
    "ExecuteTimeLog": [
      {
        "duration": 864,
        "start_time": "2022-05-06T07:19:05.806Z"
      },
      {
        "duration": 46,
        "start_time": "2022-05-06T07:20:52.211Z"
      },
      {
        "duration": 22,
        "start_time": "2022-05-06T07:21:21.716Z"
      },
      {
        "duration": 18,
        "start_time": "2022-05-06T07:22:00.345Z"
      },
      {
        "duration": 13,
        "start_time": "2022-05-06T07:22:27.405Z"
      },
      {
        "duration": 8,
        "start_time": "2022-05-06T07:46:17.594Z"
      },
      {
        "duration": 5,
        "start_time": "2022-05-06T07:47:17.272Z"
      },
      {
        "duration": 7,
        "start_time": "2022-05-06T07:50:33.773Z"
      },
      {
        "duration": 2423,
        "start_time": "2022-05-06T07:51:16.685Z"
      },
      {
        "duration": 5,
        "start_time": "2022-05-06T07:52:08.364Z"
      },
      {
        "duration": 12,
        "start_time": "2022-05-06T07:52:14.696Z"
      },
      {
        "duration": 7,
        "start_time": "2022-05-06T07:52:57.412Z"
      },
      {
        "duration": 9,
        "start_time": "2022-05-06T07:57:03.794Z"
      },
      {
        "duration": 120,
        "start_time": "2022-05-06T09:15:37.928Z"
      },
      {
        "duration": 476,
        "start_time": "2022-05-06T09:15:51.302Z"
      },
      {
        "duration": 8,
        "start_time": "2022-05-06T09:15:58.963Z"
      },
      {
        "duration": 469,
        "start_time": "2022-05-06T09:16:05.376Z"
      },
      {
        "duration": 5,
        "start_time": "2022-05-06T09:20:10.345Z"
      },
      {
        "duration": 4,
        "start_time": "2022-05-06T09:20:45.400Z"
      },
      {
        "duration": 26,
        "start_time": "2022-05-06T09:21:50.655Z"
      },
      {
        "duration": 547,
        "start_time": "2022-05-06T09:23:15.013Z"
      },
      {
        "duration": 141,
        "start_time": "2022-05-06T09:26:57.640Z"
      },
      {
        "duration": 299,
        "start_time": "2022-05-06T09:28:40.439Z"
      },
      {
        "duration": 215,
        "start_time": "2022-05-06T09:31:04.864Z"
      },
      {
        "duration": 314,
        "start_time": "2022-05-06T09:32:46.494Z"
      },
      {
        "duration": 113,
        "start_time": "2022-05-06T09:56:22.712Z"
      },
      {
        "duration": 128,
        "start_time": "2022-05-06T09:58:01.349Z"
      },
      {
        "duration": 6,
        "start_time": "2022-05-06T09:58:17.195Z"
      },
      {
        "duration": 123,
        "start_time": "2022-05-06T09:58:30.315Z"
      },
      {
        "duration": 118,
        "start_time": "2022-05-06T10:00:03.193Z"
      },
      {
        "duration": 4,
        "start_time": "2022-05-06T10:01:03.089Z"
      },
      {
        "duration": 5,
        "start_time": "2022-05-06T10:01:52.249Z"
      },
      {
        "duration": 5,
        "start_time": "2022-05-06T10:01:56.734Z"
      },
      {
        "duration": 11,
        "start_time": "2022-05-06T10:04:35.819Z"
      },
      {
        "duration": 9,
        "start_time": "2022-05-06T10:05:25.359Z"
      },
      {
        "duration": 101,
        "start_time": "2022-05-06T10:05:38.412Z"
      },
      {
        "duration": 161,
        "start_time": "2022-05-06T10:06:51.562Z"
      },
      {
        "duration": 106,
        "start_time": "2022-05-06T10:07:16.620Z"
      },
      {
        "duration": 101,
        "start_time": "2022-05-06T10:07:34.542Z"
      },
      {
        "duration": 5,
        "start_time": "2022-05-06T10:08:17.548Z"
      },
      {
        "duration": 9,
        "start_time": "2022-05-06T10:12:26.088Z"
      },
      {
        "duration": 111,
        "start_time": "2022-05-06T10:12:39.960Z"
      },
      {
        "duration": 171,
        "start_time": "2022-05-06T10:13:41.327Z"
      },
      {
        "duration": 10,
        "start_time": "2022-05-06T10:54:24.689Z"
      },
      {
        "duration": 11,
        "start_time": "2022-05-06T10:54:32.984Z"
      },
      {
        "duration": 307,
        "start_time": "2022-05-06T10:56:56.470Z"
      },
      {
        "duration": 127,
        "start_time": "2022-05-06T11:00:10.552Z"
      },
      {
        "duration": 7,
        "start_time": "2022-05-06T11:00:55.029Z"
      },
      {
        "duration": 11,
        "start_time": "2022-05-06T11:01:28.117Z"
      },
      {
        "duration": 435,
        "start_time": "2022-05-06T11:01:56.889Z"
      },
      {
        "duration": 24,
        "start_time": "2022-05-06T11:02:08.538Z"
      },
      {
        "duration": 2095,
        "start_time": "2022-05-06T11:02:30.067Z"
      },
      {
        "duration": 7,
        "start_time": "2022-05-06T11:02:54.487Z"
      },
      {
        "duration": 23,
        "start_time": "2022-05-06T11:02:55.494Z"
      },
      {
        "duration": 12,
        "start_time": "2022-05-06T11:12:11.837Z"
      },
      {
        "duration": 1938,
        "start_time": "2022-05-06T11:17:04.197Z"
      },
      {
        "duration": 8,
        "start_time": "2022-05-06T11:17:33.013Z"
      },
      {
        "duration": 1986,
        "start_time": "2022-05-06T11:17:46.699Z"
      },
      {
        "duration": 1939,
        "start_time": "2022-05-06T11:18:31.584Z"
      },
      {
        "duration": 153,
        "start_time": "2022-05-06T11:19:42.559Z"
      },
      {
        "duration": 6,
        "start_time": "2022-05-06T11:19:43.280Z"
      },
      {
        "duration": 23,
        "start_time": "2022-05-06T11:19:43.946Z"
      },
      {
        "duration": 9,
        "start_time": "2022-05-06T11:19:51.085Z"
      },
      {
        "duration": 2281,
        "start_time": "2022-05-06T11:31:16.393Z"
      },
      {
        "duration": 9,
        "start_time": "2022-05-06T11:31:51.342Z"
      },
      {
        "duration": 21,
        "start_time": "2022-05-06T11:32:06.660Z"
      },
      {
        "duration": 15,
        "start_time": "2022-05-06T11:33:07.381Z"
      },
      {
        "duration": 55,
        "start_time": "2022-05-07T05:20:37.422Z"
      },
      {
        "duration": 9,
        "start_time": "2022-05-07T05:20:58.769Z"
      },
      {
        "duration": 10,
        "start_time": "2022-05-07T05:21:21.537Z"
      },
      {
        "duration": 1438,
        "start_time": "2022-05-07T05:21:32.051Z"
      },
      {
        "duration": 76,
        "start_time": "2022-05-07T05:21:33.492Z"
      },
      {
        "duration": 23,
        "start_time": "2022-05-07T05:21:33.570Z"
      },
      {
        "duration": 18,
        "start_time": "2022-05-07T05:21:33.595Z"
      },
      {
        "duration": 16,
        "start_time": "2022-05-07T05:21:33.615Z"
      },
      {
        "duration": 7,
        "start_time": "2022-05-07T05:21:33.633Z"
      },
      {
        "duration": 7,
        "start_time": "2022-05-07T05:21:33.642Z"
      },
      {
        "duration": 10,
        "start_time": "2022-05-07T05:21:33.651Z"
      },
      {
        "duration": 6,
        "start_time": "2022-05-07T05:21:33.663Z"
      },
      {
        "duration": 11,
        "start_time": "2022-05-07T05:21:33.672Z"
      },
      {
        "duration": 9,
        "start_time": "2022-05-07T05:21:33.685Z"
      },
      {
        "duration": 599,
        "start_time": "2022-05-07T05:21:33.696Z"
      },
      {
        "duration": 205,
        "start_time": "2022-05-07T05:21:34.297Z"
      },
      {
        "duration": 373,
        "start_time": "2022-05-07T05:21:34.503Z"
      },
      {
        "duration": 220,
        "start_time": "2022-05-07T05:21:34.878Z"
      },
      {
        "duration": 354,
        "start_time": "2022-05-07T05:21:35.100Z"
      },
      {
        "duration": 142,
        "start_time": "2022-05-07T05:21:35.455Z"
      },
      {
        "duration": 138,
        "start_time": "2022-05-07T05:21:35.599Z"
      },
      {
        "duration": 4,
        "start_time": "2022-05-07T05:21:35.739Z"
      },
      {
        "duration": 161,
        "start_time": "2022-05-07T05:21:35.744Z"
      },
      {
        "duration": 152,
        "start_time": "2022-05-07T05:21:35.907Z"
      },
      {
        "duration": 6,
        "start_time": "2022-05-07T05:21:36.061Z"
      },
      {
        "duration": 319,
        "start_time": "2022-05-07T05:21:36.069Z"
      },
      {
        "duration": 155,
        "start_time": "2022-05-07T05:21:36.390Z"
      },
      {
        "duration": 7,
        "start_time": "2022-05-07T05:21:36.547Z"
      },
      {
        "duration": 43,
        "start_time": "2022-05-07T05:21:36.555Z"
      },
      {
        "duration": 14,
        "start_time": "2022-05-07T05:21:36.600Z"
      },
      {
        "duration": 25,
        "start_time": "2022-05-07T05:21:36.617Z"
      },
      {
        "duration": 27,
        "start_time": "2022-05-07T05:21:36.644Z"
      },
      {
        "duration": 18,
        "start_time": "2022-05-07T05:21:36.673Z"
      },
      {
        "duration": 31,
        "start_time": "2022-05-07T05:21:36.693Z"
      },
      {
        "duration": 15,
        "start_time": "2022-05-07T05:21:36.726Z"
      },
      {
        "duration": 296,
        "start_time": "2022-05-07T05:21:58.674Z"
      },
      {
        "duration": 233,
        "start_time": "2022-05-07T05:22:17.696Z"
      },
      {
        "duration": 317,
        "start_time": "2022-05-07T05:22:53.047Z"
      },
      {
        "duration": 5,
        "start_time": "2022-05-07T05:25:54.731Z"
      },
      {
        "duration": 5,
        "start_time": "2022-05-07T05:26:02.828Z"
      },
      {
        "duration": 5,
        "start_time": "2022-05-07T05:26:04.362Z"
      },
      {
        "duration": 179,
        "start_time": "2022-05-07T05:26:52.388Z"
      },
      {
        "duration": 217,
        "start_time": "2022-05-07T05:27:00.512Z"
      },
      {
        "duration": 176,
        "start_time": "2022-05-07T05:27:10.651Z"
      },
      {
        "duration": 303,
        "start_time": "2022-05-07T05:29:19.159Z"
      },
      {
        "duration": 274,
        "start_time": "2022-05-07T05:29:34.876Z"
      },
      {
        "duration": 12,
        "start_time": "2022-05-07T05:36:03.754Z"
      },
      {
        "duration": 193,
        "start_time": "2022-05-07T05:36:21.385Z"
      },
      {
        "duration": 5,
        "start_time": "2022-05-07T05:36:51.851Z"
      },
      {
        "duration": 193,
        "start_time": "2022-05-07T05:37:12.858Z"
      },
      {
        "duration": 4,
        "start_time": "2022-05-07T05:37:33.927Z"
      },
      {
        "duration": 4,
        "start_time": "2022-05-07T05:37:49.415Z"
      },
      {
        "duration": 151,
        "start_time": "2022-05-07T05:39:00.594Z"
      },
      {
        "duration": 7,
        "start_time": "2022-05-07T05:40:00.557Z"
      },
      {
        "duration": 6,
        "start_time": "2022-05-07T05:40:11.179Z"
      },
      {
        "duration": 12,
        "start_time": "2022-05-07T05:41:07.958Z"
      },
      {
        "duration": 9,
        "start_time": "2022-05-07T05:41:30.403Z"
      },
      {
        "duration": 6,
        "start_time": "2022-05-07T05:41:37.816Z"
      },
      {
        "duration": 5,
        "start_time": "2022-05-07T05:41:52.697Z"
      },
      {
        "duration": 5,
        "start_time": "2022-05-07T05:42:56.824Z"
      },
      {
        "duration": 6,
        "start_time": "2022-05-07T05:43:11.114Z"
      },
      {
        "duration": 7,
        "start_time": "2022-05-07T05:43:36.590Z"
      },
      {
        "duration": 5,
        "start_time": "2022-05-07T05:44:21.128Z"
      },
      {
        "duration": 11,
        "start_time": "2022-05-07T05:45:16.235Z"
      },
      {
        "duration": 10,
        "start_time": "2022-05-07T05:45:24.794Z"
      },
      {
        "duration": 6,
        "start_time": "2022-05-07T05:49:12.991Z"
      },
      {
        "duration": 6,
        "start_time": "2022-05-07T05:49:14.522Z"
      },
      {
        "duration": 6,
        "start_time": "2022-05-07T05:55:03.586Z"
      },
      {
        "duration": 143,
        "start_time": "2022-05-07T06:00:57.454Z"
      },
      {
        "duration": 236,
        "start_time": "2022-05-07T06:04:24.821Z"
      },
      {
        "duration": 147,
        "start_time": "2022-05-07T06:04:32.164Z"
      },
      {
        "duration": 132,
        "start_time": "2022-05-07T06:04:44.526Z"
      },
      {
        "duration": 5,
        "start_time": "2022-05-07T06:11:11.284Z"
      },
      {
        "duration": 5,
        "start_time": "2022-05-07T06:11:58.485Z"
      },
      {
        "duration": 20,
        "start_time": "2022-05-07T06:12:48.735Z"
      },
      {
        "duration": 26,
        "start_time": "2022-05-07T06:14:19.965Z"
      },
      {
        "duration": 11,
        "start_time": "2022-05-07T06:17:18.650Z"
      },
      {
        "duration": 9,
        "start_time": "2022-05-07T06:17:31.612Z"
      },
      {
        "duration": 10,
        "start_time": "2022-05-07T06:18:14.955Z"
      },
      {
        "duration": 13,
        "start_time": "2022-05-07T06:18:54.957Z"
      },
      {
        "duration": 10,
        "start_time": "2022-05-07T06:19:03.893Z"
      },
      {
        "duration": 4,
        "start_time": "2022-05-07T06:26:24.230Z"
      },
      {
        "duration": 18,
        "start_time": "2022-05-07T06:26:45.476Z"
      },
      {
        "duration": 12,
        "start_time": "2022-05-07T06:26:57.232Z"
      },
      {
        "duration": 8,
        "start_time": "2022-05-07T06:27:14.982Z"
      },
      {
        "duration": 14,
        "start_time": "2022-05-07T06:27:48.487Z"
      },
      {
        "duration": 14,
        "start_time": "2022-05-07T06:28:36.263Z"
      },
      {
        "duration": 16,
        "start_time": "2022-05-07T06:29:39.505Z"
      },
      {
        "duration": 11,
        "start_time": "2022-05-07T06:30:05.557Z"
      },
      {
        "duration": 13,
        "start_time": "2022-05-07T06:30:10.453Z"
      },
      {
        "duration": 8,
        "start_time": "2022-05-07T06:30:35.877Z"
      },
      {
        "duration": 13,
        "start_time": "2022-05-07T06:30:45.369Z"
      },
      {
        "duration": 4,
        "start_time": "2022-05-07T06:32:20.192Z"
      },
      {
        "duration": 11,
        "start_time": "2022-05-07T06:33:33.552Z"
      },
      {
        "duration": 10,
        "start_time": "2022-05-07T06:33:45.738Z"
      },
      {
        "duration": 10,
        "start_time": "2022-05-07T06:34:06.852Z"
      },
      {
        "duration": 8,
        "start_time": "2022-05-07T06:35:59.774Z"
      },
      {
        "duration": 5,
        "start_time": "2022-05-07T06:36:16.391Z"
      },
      {
        "duration": 10,
        "start_time": "2022-05-07T06:36:36.990Z"
      },
      {
        "duration": 13,
        "start_time": "2022-05-07T06:36:43.845Z"
      },
      {
        "duration": 6,
        "start_time": "2022-05-07T06:37:21.569Z"
      },
      {
        "duration": 9,
        "start_time": "2022-05-07T06:37:45.355Z"
      },
      {
        "duration": 14,
        "start_time": "2022-05-07T06:37:53.790Z"
      },
      {
        "duration": 7,
        "start_time": "2022-05-07T06:39:06.495Z"
      },
      {
        "duration": 8,
        "start_time": "2022-05-07T06:39:33.135Z"
      },
      {
        "duration": 28,
        "start_time": "2022-05-07T06:40:35.179Z"
      },
      {
        "duration": 11,
        "start_time": "2022-05-07T06:44:08.540Z"
      },
      {
        "duration": 1376,
        "start_time": "2022-05-07T06:44:42.308Z"
      },
      {
        "duration": 12,
        "start_time": "2022-05-07T06:44:53.718Z"
      },
      {
        "duration": 12,
        "start_time": "2022-05-07T06:45:04.946Z"
      },
      {
        "duration": 7,
        "start_time": "2022-05-07T06:45:51.728Z"
      },
      {
        "duration": 1827,
        "start_time": "2022-05-07T06:46:13.412Z"
      },
      {
        "duration": 14,
        "start_time": "2022-05-07T06:46:32.991Z"
      },
      {
        "duration": 10,
        "start_time": "2022-05-07T06:46:57.597Z"
      },
      {
        "duration": 10,
        "start_time": "2022-05-07T06:48:42.924Z"
      },
      {
        "duration": 10,
        "start_time": "2022-05-07T06:49:22.679Z"
      },
      {
        "duration": 17,
        "start_time": "2022-05-07T06:49:44.163Z"
      },
      {
        "duration": 153,
        "start_time": "2022-05-07T06:50:13.252Z"
      },
      {
        "duration": 11,
        "start_time": "2022-05-07T06:50:58.599Z"
      },
      {
        "duration": 13,
        "start_time": "2022-05-07T06:51:05.943Z"
      },
      {
        "duration": 178,
        "start_time": "2022-05-07T06:52:03.886Z"
      },
      {
        "duration": 12,
        "start_time": "2022-05-07T06:52:14.861Z"
      },
      {
        "duration": 7,
        "start_time": "2022-05-07T06:52:47.483Z"
      },
      {
        "duration": 6,
        "start_time": "2022-05-07T06:52:57.167Z"
      },
      {
        "duration": 8,
        "start_time": "2022-05-07T06:56:41.184Z"
      },
      {
        "duration": 16,
        "start_time": "2022-05-07T06:57:06.859Z"
      },
      {
        "duration": 4,
        "start_time": "2022-05-07T06:58:43.385Z"
      },
      {
        "duration": 27,
        "start_time": "2022-05-07T06:59:01.635Z"
      },
      {
        "duration": 20,
        "start_time": "2022-05-07T06:59:35.229Z"
      },
      {
        "duration": 13,
        "start_time": "2022-05-07T06:59:52.673Z"
      },
      {
        "duration": 15,
        "start_time": "2022-05-07T07:00:09.884Z"
      },
      {
        "duration": 9,
        "start_time": "2022-05-07T07:01:29.139Z"
      },
      {
        "duration": 16,
        "start_time": "2022-05-07T07:01:36.701Z"
      },
      {
        "duration": 28,
        "start_time": "2022-05-07T07:01:54.734Z"
      },
      {
        "duration": 15,
        "start_time": "2022-05-07T07:02:14.902Z"
      },
      {
        "duration": 175,
        "start_time": "2022-05-07T07:03:13.757Z"
      },
      {
        "duration": 5,
        "start_time": "2022-05-07T07:03:33.758Z"
      },
      {
        "duration": 14,
        "start_time": "2022-05-07T07:03:41.917Z"
      },
      {
        "duration": 13,
        "start_time": "2022-05-07T07:04:07.360Z"
      },
      {
        "duration": 5,
        "start_time": "2022-05-07T07:04:17.698Z"
      },
      {
        "duration": 15,
        "start_time": "2022-05-07T07:04:29.592Z"
      },
      {
        "duration": 5,
        "start_time": "2022-05-07T07:06:39.974Z"
      },
      {
        "duration": 11,
        "start_time": "2022-05-07T07:08:36.818Z"
      },
      {
        "duration": 4,
        "start_time": "2022-05-07T07:08:46.037Z"
      },
      {
        "duration": 13,
        "start_time": "2022-05-07T07:11:04.815Z"
      },
      {
        "duration": 161,
        "start_time": "2022-05-07T07:13:20.478Z"
      },
      {
        "duration": 1323,
        "start_time": "2022-05-07T07:13:32.115Z"
      },
      {
        "duration": 4,
        "start_time": "2022-05-07T07:13:33.666Z"
      },
      {
        "duration": 16,
        "start_time": "2022-05-07T07:21:25.399Z"
      },
      {
        "duration": 176,
        "start_time": "2022-05-07T07:22:01.447Z"
      },
      {
        "duration": 175,
        "start_time": "2022-05-07T07:22:06.338Z"
      },
      {
        "duration": 9,
        "start_time": "2022-05-07T07:22:11.343Z"
      },
      {
        "duration": 6,
        "start_time": "2022-05-07T07:22:27.308Z"
      },
      {
        "duration": 10,
        "start_time": "2022-05-07T07:22:31.273Z"
      },
      {
        "duration": 12,
        "start_time": "2022-05-07T07:23:06.041Z"
      },
      {
        "duration": 9,
        "start_time": "2022-05-07T07:25:46.050Z"
      },
      {
        "duration": 16,
        "start_time": "2022-05-07T07:25:50.112Z"
      },
      {
        "duration": 4,
        "start_time": "2022-05-07T07:26:21.333Z"
      },
      {
        "duration": 11,
        "start_time": "2022-05-07T07:27:04.980Z"
      },
      {
        "duration": 15,
        "start_time": "2022-05-07T07:27:32.871Z"
      },
      {
        "duration": 4,
        "start_time": "2022-05-07T07:28:00.619Z"
      },
      {
        "duration": 4,
        "start_time": "2022-05-07T07:28:12.156Z"
      },
      {
        "duration": 15,
        "start_time": "2022-05-07T07:28:38.970Z"
      },
      {
        "duration": 10,
        "start_time": "2022-05-07T07:28:43.333Z"
      },
      {
        "duration": 4,
        "start_time": "2022-05-07T07:28:45.466Z"
      },
      {
        "duration": 4,
        "start_time": "2022-05-07T07:28:50.699Z"
      },
      {
        "duration": 12,
        "start_time": "2022-05-07T07:30:18.593Z"
      },
      {
        "duration": 3,
        "start_time": "2022-05-07T07:32:45.691Z"
      },
      {
        "duration": 70,
        "start_time": "2022-05-07T07:32:45.698Z"
      },
      {
        "duration": 17,
        "start_time": "2022-05-07T07:32:45.770Z"
      },
      {
        "duration": 16,
        "start_time": "2022-05-07T07:32:45.788Z"
      },
      {
        "duration": 17,
        "start_time": "2022-05-07T07:32:45.806Z"
      },
      {
        "duration": 15,
        "start_time": "2022-05-07T07:32:45.824Z"
      },
      {
        "duration": 8,
        "start_time": "2022-05-07T07:32:45.840Z"
      },
      {
        "duration": 8,
        "start_time": "2022-05-07T07:32:45.849Z"
      },
      {
        "duration": 7,
        "start_time": "2022-05-07T07:32:45.858Z"
      },
      {
        "duration": 8,
        "start_time": "2022-05-07T07:32:45.867Z"
      },
      {
        "duration": 6,
        "start_time": "2022-05-07T07:32:45.878Z"
      },
      {
        "duration": 195,
        "start_time": "2022-05-07T07:32:45.885Z"
      },
      {
        "duration": 6,
        "start_time": "2022-05-07T07:32:46.082Z"
      },
      {
        "duration": 21,
        "start_time": "2022-05-07T07:32:46.090Z"
      },
      {
        "duration": 23,
        "start_time": "2022-05-07T07:32:46.113Z"
      },
      {
        "duration": 22,
        "start_time": "2022-05-07T07:32:46.137Z"
      },
      {
        "duration": 11,
        "start_time": "2022-05-07T07:32:46.160Z"
      },
      {
        "duration": 4,
        "start_time": "2022-05-07T07:32:46.173Z"
      },
      {
        "duration": 7,
        "start_time": "2022-05-07T07:32:46.179Z"
      },
      {
        "duration": 11,
        "start_time": "2022-05-07T07:32:46.188Z"
      },
      {
        "duration": 0,
        "start_time": "2022-05-07T07:32:46.234Z"
      },
      {
        "duration": 0,
        "start_time": "2022-05-07T07:32:46.235Z"
      },
      {
        "duration": 0,
        "start_time": "2022-05-07T07:32:46.237Z"
      },
      {
        "duration": 0,
        "start_time": "2022-05-07T07:32:46.238Z"
      },
      {
        "duration": 0,
        "start_time": "2022-05-07T07:32:46.239Z"
      },
      {
        "duration": 0,
        "start_time": "2022-05-07T07:32:46.241Z"
      },
      {
        "duration": 0,
        "start_time": "2022-05-07T07:32:46.242Z"
      },
      {
        "duration": 0,
        "start_time": "2022-05-07T07:32:46.243Z"
      },
      {
        "duration": 0,
        "start_time": "2022-05-07T07:32:46.245Z"
      },
      {
        "duration": 0,
        "start_time": "2022-05-07T07:32:46.246Z"
      },
      {
        "duration": 0,
        "start_time": "2022-05-07T07:32:46.248Z"
      },
      {
        "duration": 1,
        "start_time": "2022-05-07T07:32:46.249Z"
      },
      {
        "duration": 0,
        "start_time": "2022-05-07T07:32:46.251Z"
      },
      {
        "duration": 0,
        "start_time": "2022-05-07T07:32:46.253Z"
      },
      {
        "duration": 0,
        "start_time": "2022-05-07T07:32:46.254Z"
      },
      {
        "duration": 0,
        "start_time": "2022-05-07T07:32:46.255Z"
      },
      {
        "duration": 0,
        "start_time": "2022-05-07T07:32:46.257Z"
      },
      {
        "duration": 0,
        "start_time": "2022-05-07T07:32:46.258Z"
      },
      {
        "duration": 0,
        "start_time": "2022-05-07T07:32:46.260Z"
      },
      {
        "duration": 0,
        "start_time": "2022-05-07T07:32:46.261Z"
      },
      {
        "duration": 0,
        "start_time": "2022-05-07T07:32:46.263Z"
      },
      {
        "duration": 0,
        "start_time": "2022-05-07T07:32:46.264Z"
      },
      {
        "duration": 0,
        "start_time": "2022-05-07T07:32:46.266Z"
      },
      {
        "duration": 0,
        "start_time": "2022-05-07T07:32:46.267Z"
      },
      {
        "duration": 0,
        "start_time": "2022-05-07T07:32:46.269Z"
      },
      {
        "duration": 0,
        "start_time": "2022-05-07T07:32:46.270Z"
      },
      {
        "duration": 0,
        "start_time": "2022-05-07T07:32:46.271Z"
      },
      {
        "duration": 0,
        "start_time": "2022-05-07T07:32:46.273Z"
      },
      {
        "duration": 0,
        "start_time": "2022-05-07T07:32:46.333Z"
      },
      {
        "duration": 3,
        "start_time": "2022-05-07T07:33:25.326Z"
      },
      {
        "duration": 61,
        "start_time": "2022-05-07T07:33:25.332Z"
      },
      {
        "duration": 17,
        "start_time": "2022-05-07T07:33:25.395Z"
      },
      {
        "duration": 18,
        "start_time": "2022-05-07T07:33:25.414Z"
      },
      {
        "duration": 16,
        "start_time": "2022-05-07T07:33:25.435Z"
      },
      {
        "duration": 6,
        "start_time": "2022-05-07T07:33:25.453Z"
      },
      {
        "duration": 11,
        "start_time": "2022-05-07T07:33:25.461Z"
      },
      {
        "duration": 10,
        "start_time": "2022-05-07T07:33:25.474Z"
      },
      {
        "duration": 9,
        "start_time": "2022-05-07T07:33:25.486Z"
      },
      {
        "duration": 7,
        "start_time": "2022-05-07T07:33:25.497Z"
      },
      {
        "duration": 5,
        "start_time": "2022-05-07T07:33:25.533Z"
      },
      {
        "duration": 166,
        "start_time": "2022-05-07T07:33:25.540Z"
      },
      {
        "duration": 6,
        "start_time": "2022-05-07T07:33:25.708Z"
      },
      {
        "duration": 17,
        "start_time": "2022-05-07T07:33:25.733Z"
      },
      {
        "duration": 6,
        "start_time": "2022-05-07T07:33:25.752Z"
      },
      {
        "duration": 14,
        "start_time": "2022-05-07T07:33:25.760Z"
      },
      {
        "duration": 11,
        "start_time": "2022-05-07T07:33:25.776Z"
      },
      {
        "duration": 5,
        "start_time": "2022-05-07T07:33:25.789Z"
      },
      {
        "duration": 6,
        "start_time": "2022-05-07T07:33:25.833Z"
      },
      {
        "duration": 12,
        "start_time": "2022-05-07T07:33:25.841Z"
      },
      {
        "duration": 8,
        "start_time": "2022-05-07T07:33:25.855Z"
      },
      {
        "duration": 9,
        "start_time": "2022-05-07T07:33:25.865Z"
      },
      {
        "duration": 8,
        "start_time": "2022-05-07T07:33:25.876Z"
      },
      {
        "duration": 11,
        "start_time": "2022-05-07T07:33:25.886Z"
      },
      {
        "duration": 10,
        "start_time": "2022-05-07T07:33:25.898Z"
      },
      {
        "duration": 39,
        "start_time": "2022-05-07T07:33:25.910Z"
      },
      {
        "duration": 14,
        "start_time": "2022-05-07T07:33:25.953Z"
      },
      {
        "duration": 476,
        "start_time": "2022-05-07T07:33:25.969Z"
      },
      {
        "duration": 201,
        "start_time": "2022-05-07T07:33:26.446Z"
      },
      {
        "duration": 271,
        "start_time": "2022-05-07T07:33:26.648Z"
      },
      {
        "duration": 192,
        "start_time": "2022-05-07T07:33:26.921Z"
      },
      {
        "duration": 322,
        "start_time": "2022-05-07T07:33:27.115Z"
      },
      {
        "duration": 149,
        "start_time": "2022-05-07T07:33:27.439Z"
      },
      {
        "duration": 149,
        "start_time": "2022-05-07T07:33:27.590Z"
      },
      {
        "duration": 4,
        "start_time": "2022-05-07T07:33:27.741Z"
      },
      {
        "duration": 154,
        "start_time": "2022-05-07T07:33:27.747Z"
      },
      {
        "duration": 257,
        "start_time": "2022-05-07T07:33:27.903Z"
      },
      {
        "duration": 5,
        "start_time": "2022-05-07T07:33:28.162Z"
      },
      {
        "duration": 239,
        "start_time": "2022-05-07T07:33:28.169Z"
      },
      {
        "duration": 130,
        "start_time": "2022-05-07T07:33:28.410Z"
      },
      {
        "duration": 6,
        "start_time": "2022-05-07T07:33:28.542Z"
      },
      {
        "duration": 27,
        "start_time": "2022-05-07T07:33:28.549Z"
      },
      {
        "duration": 10,
        "start_time": "2022-05-07T07:33:28.577Z"
      },
      {
        "duration": 8,
        "start_time": "2022-05-07T07:33:28.589Z"
      },
      {
        "duration": 39,
        "start_time": "2022-05-07T07:33:28.599Z"
      },
      {
        "duration": 8,
        "start_time": "2022-05-07T07:33:28.640Z"
      },
      {
        "duration": 25,
        "start_time": "2022-05-07T07:33:28.649Z"
      },
      {
        "duration": 15,
        "start_time": "2022-05-07T07:33:28.676Z"
      },
      {
        "duration": 5,
        "start_time": "2022-05-07T07:35:36.624Z"
      },
      {
        "duration": 6,
        "start_time": "2022-05-07T07:36:00.655Z"
      },
      {
        "duration": 22,
        "start_time": "2022-05-07T07:38:33.806Z"
      },
      {
        "duration": 19,
        "start_time": "2022-05-07T07:38:42.741Z"
      },
      {
        "duration": 14,
        "start_time": "2022-05-07T07:38:53.537Z"
      },
      {
        "duration": 12,
        "start_time": "2022-05-07T07:39:00.959Z"
      },
      {
        "duration": 9,
        "start_time": "2022-05-07T07:39:21.878Z"
      },
      {
        "duration": 5,
        "start_time": "2022-05-07T07:40:28.681Z"
      },
      {
        "duration": 5,
        "start_time": "2022-05-07T07:40:32.648Z"
      },
      {
        "duration": 74,
        "start_time": "2022-05-07T07:40:32.657Z"
      },
      {
        "duration": 23,
        "start_time": "2022-05-07T07:40:32.733Z"
      },
      {
        "duration": 30,
        "start_time": "2022-05-07T07:40:32.758Z"
      },
      {
        "duration": 40,
        "start_time": "2022-05-07T07:40:32.790Z"
      },
      {
        "duration": 30,
        "start_time": "2022-05-07T07:40:32.832Z"
      },
      {
        "duration": 32,
        "start_time": "2022-05-07T07:40:32.865Z"
      },
      {
        "duration": 31,
        "start_time": "2022-05-07T07:40:32.898Z"
      },
      {
        "duration": 30,
        "start_time": "2022-05-07T07:40:32.931Z"
      },
      {
        "duration": 39,
        "start_time": "2022-05-07T07:40:32.963Z"
      },
      {
        "duration": 18,
        "start_time": "2022-05-07T07:40:33.004Z"
      },
      {
        "duration": 173,
        "start_time": "2022-05-07T07:40:33.025Z"
      },
      {
        "duration": 6,
        "start_time": "2022-05-07T07:40:33.200Z"
      },
      {
        "duration": 40,
        "start_time": "2022-05-07T07:40:33.207Z"
      },
      {
        "duration": 40,
        "start_time": "2022-05-07T07:40:33.248Z"
      },
      {
        "duration": 25,
        "start_time": "2022-05-07T07:40:33.290Z"
      },
      {
        "duration": 39,
        "start_time": "2022-05-07T07:40:33.317Z"
      },
      {
        "duration": 27,
        "start_time": "2022-05-07T07:40:33.358Z"
      },
      {
        "duration": 41,
        "start_time": "2022-05-07T07:40:33.386Z"
      },
      {
        "duration": 34,
        "start_time": "2022-05-07T07:40:33.429Z"
      },
      {
        "duration": 48,
        "start_time": "2022-05-07T07:40:33.465Z"
      },
      {
        "duration": 45,
        "start_time": "2022-05-07T07:40:33.515Z"
      },
      {
        "duration": 38,
        "start_time": "2022-05-07T07:40:33.562Z"
      },
      {
        "duration": 31,
        "start_time": "2022-05-07T07:40:33.602Z"
      },
      {
        "duration": 42,
        "start_time": "2022-05-07T07:40:33.635Z"
      },
      {
        "duration": 30,
        "start_time": "2022-05-07T07:40:33.681Z"
      },
      {
        "duration": 32,
        "start_time": "2022-05-07T07:40:33.712Z"
      },
      {
        "duration": 30,
        "start_time": "2022-05-07T07:40:33.746Z"
      },
      {
        "duration": 34,
        "start_time": "2022-05-07T07:40:33.778Z"
      },
      {
        "duration": 507,
        "start_time": "2022-05-07T07:40:33.814Z"
      },
      {
        "duration": 211,
        "start_time": "2022-05-07T07:40:34.323Z"
      },
      {
        "duration": 311,
        "start_time": "2022-05-07T07:40:34.536Z"
      },
      {
        "duration": 203,
        "start_time": "2022-05-07T07:40:34.849Z"
      },
      {
        "duration": 312,
        "start_time": "2022-05-07T07:40:35.054Z"
      },
      {
        "duration": 157,
        "start_time": "2022-05-07T07:40:35.368Z"
      },
      {
        "duration": 164,
        "start_time": "2022-05-07T07:40:35.527Z"
      },
      {
        "duration": 5,
        "start_time": "2022-05-07T07:40:35.694Z"
      },
      {
        "duration": 164,
        "start_time": "2022-05-07T07:40:35.701Z"
      },
      {
        "duration": 154,
        "start_time": "2022-05-07T07:40:35.867Z"
      },
      {
        "duration": 15,
        "start_time": "2022-05-07T07:40:36.023Z"
      },
      {
        "duration": 227,
        "start_time": "2022-05-07T07:40:36.040Z"
      },
      {
        "duration": 129,
        "start_time": "2022-05-07T07:40:36.269Z"
      },
      {
        "duration": 7,
        "start_time": "2022-05-07T07:40:36.400Z"
      },
      {
        "duration": 76,
        "start_time": "2022-05-07T07:40:36.409Z"
      },
      {
        "duration": 20,
        "start_time": "2022-05-07T07:40:36.487Z"
      },
      {
        "duration": 46,
        "start_time": "2022-05-07T07:40:36.509Z"
      },
      {
        "duration": 30,
        "start_time": "2022-05-07T07:40:36.557Z"
      },
      {
        "duration": 57,
        "start_time": "2022-05-07T07:40:36.588Z"
      },
      {
        "duration": 52,
        "start_time": "2022-05-07T07:40:36.647Z"
      },
      {
        "duration": 42,
        "start_time": "2022-05-07T07:40:36.700Z"
      },
      {
        "duration": 9,
        "start_time": "2022-05-07T07:43:23.467Z"
      },
      {
        "duration": 3,
        "start_time": "2022-05-07T07:43:42.511Z"
      },
      {
        "duration": 71,
        "start_time": "2022-05-07T07:43:42.535Z"
      },
      {
        "duration": 17,
        "start_time": "2022-05-07T07:43:42.608Z"
      },
      {
        "duration": 21,
        "start_time": "2022-05-07T07:43:42.627Z"
      },
      {
        "duration": 16,
        "start_time": "2022-05-07T07:43:42.650Z"
      },
      {
        "duration": 6,
        "start_time": "2022-05-07T07:43:42.757Z"
      },
      {
        "duration": 5,
        "start_time": "2022-05-07T07:43:42.777Z"
      },
      {
        "duration": 6,
        "start_time": "2022-05-07T07:43:42.863Z"
      },
      {
        "duration": 4,
        "start_time": "2022-05-07T07:43:42.885Z"
      },
      {
        "duration": 5,
        "start_time": "2022-05-07T07:43:42.904Z"
      },
      {
        "duration": 4,
        "start_time": "2022-05-07T07:43:42.921Z"
      },
      {
        "duration": 136,
        "start_time": "2022-05-07T07:43:42.961Z"
      },
      {
        "duration": 10,
        "start_time": "2022-05-07T07:43:43.099Z"
      },
      {
        "duration": 5,
        "start_time": "2022-05-07T07:43:43.506Z"
      },
      {
        "duration": 17,
        "start_time": "2022-05-07T07:43:43.515Z"
      },
      {
        "duration": 5,
        "start_time": "2022-05-07T07:43:43.534Z"
      },
      {
        "duration": 21,
        "start_time": "2022-05-07T07:43:43.541Z"
      },
      {
        "duration": 8,
        "start_time": "2022-05-07T07:43:43.564Z"
      },
      {
        "duration": 13,
        "start_time": "2022-05-07T07:43:43.574Z"
      },
      {
        "duration": 12,
        "start_time": "2022-05-07T07:43:43.589Z"
      },
      {
        "duration": 9,
        "start_time": "2022-05-07T07:43:43.603Z"
      },
      {
        "duration": 7,
        "start_time": "2022-05-07T07:43:43.633Z"
      },
      {
        "duration": 6,
        "start_time": "2022-05-07T07:43:43.642Z"
      },
      {
        "duration": 7,
        "start_time": "2022-05-07T07:43:43.649Z"
      },
      {
        "duration": 7,
        "start_time": "2022-05-07T07:43:43.658Z"
      },
      {
        "duration": 6,
        "start_time": "2022-05-07T07:43:43.668Z"
      },
      {
        "duration": 9,
        "start_time": "2022-05-07T07:43:43.675Z"
      },
      {
        "duration": 50,
        "start_time": "2022-05-07T07:43:43.686Z"
      },
      {
        "duration": 12,
        "start_time": "2022-05-07T07:43:43.738Z"
      },
      {
        "duration": 506,
        "start_time": "2022-05-07T07:43:43.752Z"
      },
      {
        "duration": 213,
        "start_time": "2022-05-07T07:43:44.260Z"
      },
      {
        "duration": 280,
        "start_time": "2022-05-07T07:43:44.476Z"
      },
      {
        "duration": 317,
        "start_time": "2022-05-07T07:43:44.758Z"
      },
      {
        "duration": 302,
        "start_time": "2022-05-07T07:43:45.076Z"
      },
      {
        "duration": 162,
        "start_time": "2022-05-07T07:43:45.380Z"
      },
      {
        "duration": 156,
        "start_time": "2022-05-07T07:43:45.543Z"
      },
      {
        "duration": 5,
        "start_time": "2022-05-07T07:43:45.700Z"
      },
      {
        "duration": 165,
        "start_time": "2022-05-07T07:43:45.707Z"
      },
      {
        "duration": 149,
        "start_time": "2022-05-07T07:43:45.874Z"
      },
      {
        "duration": 12,
        "start_time": "2022-05-07T07:43:46.025Z"
      },
      {
        "duration": 230,
        "start_time": "2022-05-07T07:43:46.039Z"
      },
      {
        "duration": 147,
        "start_time": "2022-05-07T07:43:46.271Z"
      },
      {
        "duration": 8,
        "start_time": "2022-05-07T07:43:46.433Z"
      },
      {
        "duration": 31,
        "start_time": "2022-05-07T07:43:46.442Z"
      },
      {
        "duration": 11,
        "start_time": "2022-05-07T07:43:46.474Z"
      },
      {
        "duration": 21,
        "start_time": "2022-05-07T07:43:46.487Z"
      },
      {
        "duration": 29,
        "start_time": "2022-05-07T07:43:46.510Z"
      },
      {
        "duration": 9,
        "start_time": "2022-05-07T07:43:46.542Z"
      },
      {
        "duration": 32,
        "start_time": "2022-05-07T07:43:46.553Z"
      },
      {
        "duration": 16,
        "start_time": "2022-05-07T07:43:46.587Z"
      },
      {
        "duration": 18,
        "start_time": "2022-05-07T07:48:27.709Z"
      },
      {
        "duration": 14,
        "start_time": "2022-05-07T07:50:48.859Z"
      },
      {
        "duration": 6,
        "start_time": "2022-05-07T08:05:46.217Z"
      },
      {
        "duration": 19,
        "start_time": "2022-05-07T08:06:49.366Z"
      },
      {
        "duration": 10,
        "start_time": "2022-05-07T08:07:00.273Z"
      },
      {
        "duration": 43,
        "start_time": "2022-05-07T08:07:01.026Z"
      },
      {
        "duration": 4,
        "start_time": "2022-05-07T08:27:55.724Z"
      },
      {
        "duration": 119,
        "start_time": "2022-05-07T08:27:55.730Z"
      },
      {
        "duration": 21,
        "start_time": "2022-05-07T08:27:55.851Z"
      },
      {
        "duration": 24,
        "start_time": "2022-05-07T08:27:55.874Z"
      },
      {
        "duration": 36,
        "start_time": "2022-05-07T08:27:55.901Z"
      },
      {
        "duration": 17,
        "start_time": "2022-05-07T08:27:55.942Z"
      },
      {
        "duration": 9,
        "start_time": "2022-05-07T08:27:55.961Z"
      },
      {
        "duration": 7,
        "start_time": "2022-05-07T08:27:55.972Z"
      },
      {
        "duration": 7,
        "start_time": "2022-05-07T08:27:55.980Z"
      },
      {
        "duration": 11,
        "start_time": "2022-05-07T08:27:55.989Z"
      },
      {
        "duration": 7,
        "start_time": "2022-05-07T08:27:56.004Z"
      },
      {
        "duration": 189,
        "start_time": "2022-05-07T08:27:56.033Z"
      },
      {
        "duration": 17,
        "start_time": "2022-05-07T08:27:56.224Z"
      },
      {
        "duration": 18,
        "start_time": "2022-05-07T08:27:56.244Z"
      },
      {
        "duration": 17,
        "start_time": "2022-05-07T08:27:56.264Z"
      },
      {
        "duration": 6,
        "start_time": "2022-05-07T08:27:56.283Z"
      },
      {
        "duration": 16,
        "start_time": "2022-05-07T08:27:56.291Z"
      },
      {
        "duration": 26,
        "start_time": "2022-05-07T08:27:56.309Z"
      },
      {
        "duration": 32,
        "start_time": "2022-05-07T08:27:56.337Z"
      },
      {
        "duration": 7,
        "start_time": "2022-05-07T08:27:56.371Z"
      },
      {
        "duration": 6,
        "start_time": "2022-05-07T08:27:56.380Z"
      },
      {
        "duration": 8,
        "start_time": "2022-05-07T08:27:56.387Z"
      },
      {
        "duration": 9,
        "start_time": "2022-05-07T08:27:56.397Z"
      },
      {
        "duration": 33,
        "start_time": "2022-05-07T08:27:56.408Z"
      },
      {
        "duration": 16,
        "start_time": "2022-05-07T08:27:56.444Z"
      },
      {
        "duration": 9,
        "start_time": "2022-05-07T08:27:56.462Z"
      },
      {
        "duration": 12,
        "start_time": "2022-05-07T08:27:56.473Z"
      },
      {
        "duration": 542,
        "start_time": "2022-05-07T08:27:56.487Z"
      },
      {
        "duration": 227,
        "start_time": "2022-05-07T08:27:57.035Z"
      },
      {
        "duration": 296,
        "start_time": "2022-05-07T08:27:57.264Z"
      },
      {
        "duration": 206,
        "start_time": "2022-05-07T08:27:57.562Z"
      },
      {
        "duration": 307,
        "start_time": "2022-05-07T08:27:57.769Z"
      },
      {
        "duration": 184,
        "start_time": "2022-05-07T08:27:58.079Z"
      },
      {
        "duration": 174,
        "start_time": "2022-05-07T08:27:58.265Z"
      },
      {
        "duration": 6,
        "start_time": "2022-05-07T08:27:58.441Z"
      },
      {
        "duration": 177,
        "start_time": "2022-05-07T08:27:58.449Z"
      },
      {
        "duration": 173,
        "start_time": "2022-05-07T08:27:58.633Z"
      },
      {
        "duration": 7,
        "start_time": "2022-05-07T08:27:58.808Z"
      },
      {
        "duration": 275,
        "start_time": "2022-05-07T08:27:58.817Z"
      },
      {
        "duration": 159,
        "start_time": "2022-05-07T08:27:59.094Z"
      },
      {
        "duration": 9,
        "start_time": "2022-05-07T08:27:59.255Z"
      },
      {
        "duration": 48,
        "start_time": "2022-05-07T08:27:59.267Z"
      },
      {
        "duration": 22,
        "start_time": "2022-05-07T08:27:59.317Z"
      },
      {
        "duration": 23,
        "start_time": "2022-05-07T08:27:59.341Z"
      },
      {
        "duration": 13,
        "start_time": "2022-05-07T08:27:59.366Z"
      },
      {
        "duration": 59,
        "start_time": "2022-05-07T08:27:59.381Z"
      },
      {
        "duration": 18,
        "start_time": "2022-05-07T08:27:59.443Z"
      },
      {
        "duration": 2,
        "start_time": "2022-05-07T08:55:16.296Z"
      },
      {
        "duration": 4,
        "start_time": "2022-05-07T08:55:19.446Z"
      },
      {
        "duration": 95,
        "start_time": "2022-05-07T08:55:19.453Z"
      },
      {
        "duration": 17,
        "start_time": "2022-05-07T08:55:19.550Z"
      },
      {
        "duration": 21,
        "start_time": "2022-05-07T08:55:19.569Z"
      },
      {
        "duration": 17,
        "start_time": "2022-05-07T08:55:19.593Z"
      },
      {
        "duration": 33,
        "start_time": "2022-05-07T08:55:19.611Z"
      },
      {
        "duration": 17,
        "start_time": "2022-05-07T08:55:19.648Z"
      },
      {
        "duration": 11,
        "start_time": "2022-05-07T08:55:19.666Z"
      },
      {
        "duration": 6,
        "start_time": "2022-05-07T08:55:19.679Z"
      },
      {
        "duration": 8,
        "start_time": "2022-05-07T08:55:19.687Z"
      },
      {
        "duration": 7,
        "start_time": "2022-05-07T08:55:19.698Z"
      },
      {
        "duration": 179,
        "start_time": "2022-05-07T08:55:19.707Z"
      },
      {
        "duration": 9,
        "start_time": "2022-05-07T08:55:19.888Z"
      },
      {
        "duration": 11,
        "start_time": "2022-05-07T08:55:19.899Z"
      },
      {
        "duration": 40,
        "start_time": "2022-05-07T08:55:19.912Z"
      },
      {
        "duration": 7,
        "start_time": "2022-05-07T08:55:19.954Z"
      },
      {
        "duration": 9,
        "start_time": "2022-05-07T08:55:19.963Z"
      },
      {
        "duration": 9,
        "start_time": "2022-05-07T08:55:19.974Z"
      },
      {
        "duration": 12,
        "start_time": "2022-05-07T08:55:19.984Z"
      },
      {
        "duration": 7,
        "start_time": "2022-05-07T08:55:19.998Z"
      },
      {
        "duration": 9,
        "start_time": "2022-05-07T08:55:20.007Z"
      },
      {
        "duration": 6,
        "start_time": "2022-05-07T08:55:20.042Z"
      },
      {
        "duration": 11,
        "start_time": "2022-05-07T08:55:20.049Z"
      },
      {
        "duration": 8,
        "start_time": "2022-05-07T08:55:20.062Z"
      },
      {
        "duration": 9,
        "start_time": "2022-05-07T08:55:20.072Z"
      },
      {
        "duration": 170,
        "start_time": "2022-05-07T08:55:20.083Z"
      },
      {
        "duration": 11,
        "start_time": "2022-05-07T08:55:20.255Z"
      },
      {
        "duration": 493,
        "start_time": "2022-05-07T08:55:20.268Z"
      },
      {
        "duration": 205,
        "start_time": "2022-05-07T08:55:20.765Z"
      },
      {
        "duration": 278,
        "start_time": "2022-05-07T08:55:20.972Z"
      },
      {
        "duration": 200,
        "start_time": "2022-05-07T08:55:21.252Z"
      },
      {
        "duration": 329,
        "start_time": "2022-05-07T08:55:21.454Z"
      },
      {
        "duration": 138,
        "start_time": "2022-05-07T08:55:21.785Z"
      },
      {
        "duration": 144,
        "start_time": "2022-05-07T08:55:21.924Z"
      },
      {
        "duration": 5,
        "start_time": "2022-05-07T08:55:22.069Z"
      },
      {
        "duration": 175,
        "start_time": "2022-05-07T08:55:22.075Z"
      },
      {
        "duration": 149,
        "start_time": "2022-05-07T08:55:22.252Z"
      },
      {
        "duration": 5,
        "start_time": "2022-05-07T08:55:22.404Z"
      },
      {
        "duration": 250,
        "start_time": "2022-05-07T08:55:22.411Z"
      },
      {
        "duration": 177,
        "start_time": "2022-05-07T08:55:22.663Z"
      },
      {
        "duration": 9,
        "start_time": "2022-05-07T08:55:22.843Z"
      },
      {
        "duration": 32,
        "start_time": "2022-05-07T08:55:22.854Z"
      },
      {
        "duration": 12,
        "start_time": "2022-05-07T08:55:22.887Z"
      },
      {
        "duration": 39,
        "start_time": "2022-05-07T08:55:22.901Z"
      },
      {
        "duration": 20,
        "start_time": "2022-05-07T08:55:22.942Z"
      },
      {
        "duration": 31,
        "start_time": "2022-05-07T08:55:22.964Z"
      },
      {
        "duration": 16,
        "start_time": "2022-05-07T08:55:22.997Z"
      },
      {
        "duration": 18,
        "start_time": "2022-05-07T08:55:52.728Z"
      },
      {
        "duration": 9,
        "start_time": "2022-05-07T08:56:10.801Z"
      },
      {
        "duration": 7,
        "start_time": "2022-05-07T08:56:25.017Z"
      },
      {
        "duration": 13,
        "start_time": "2022-05-07T08:56:56.134Z"
      },
      {
        "duration": 6,
        "start_time": "2022-05-07T08:57:21.083Z"
      },
      {
        "duration": 18,
        "start_time": "2022-05-07T08:57:26.370Z"
      },
      {
        "duration": 6,
        "start_time": "2022-05-07T08:57:49.574Z"
      },
      {
        "duration": 3,
        "start_time": "2022-05-07T08:57:55.262Z"
      },
      {
        "duration": 63,
        "start_time": "2022-05-07T08:57:55.274Z"
      },
      {
        "duration": 19,
        "start_time": "2022-05-07T08:57:55.338Z"
      },
      {
        "duration": 17,
        "start_time": "2022-05-07T08:57:55.359Z"
      },
      {
        "duration": 57,
        "start_time": "2022-05-07T08:57:55.378Z"
      },
      {
        "duration": 9,
        "start_time": "2022-05-07T08:57:55.442Z"
      },
      {
        "duration": 11,
        "start_time": "2022-05-07T08:57:55.453Z"
      },
      {
        "duration": 7,
        "start_time": "2022-05-07T08:57:55.466Z"
      },
      {
        "duration": 6,
        "start_time": "2022-05-07T08:57:55.475Z"
      },
      {
        "duration": 7,
        "start_time": "2022-05-07T08:57:55.482Z"
      },
      {
        "duration": 7,
        "start_time": "2022-05-07T08:57:55.491Z"
      },
      {
        "duration": 205,
        "start_time": "2022-05-07T08:57:55.499Z"
      },
      {
        "duration": 10,
        "start_time": "2022-05-07T08:57:55.706Z"
      },
      {
        "duration": 6,
        "start_time": "2022-05-07T08:57:55.741Z"
      },
      {
        "duration": 14,
        "start_time": "2022-05-07T08:57:55.751Z"
      },
      {
        "duration": 11,
        "start_time": "2022-05-07T08:57:55.766Z"
      },
      {
        "duration": 17,
        "start_time": "2022-05-07T08:57:55.779Z"
      },
      {
        "duration": 5,
        "start_time": "2022-05-07T08:57:55.798Z"
      },
      {
        "duration": 7,
        "start_time": "2022-05-07T08:57:55.805Z"
      },
      {
        "duration": 27,
        "start_time": "2022-05-07T08:57:55.814Z"
      },
      {
        "duration": 21,
        "start_time": "2022-05-07T08:57:55.844Z"
      },
      {
        "duration": 2933,
        "start_time": "2022-05-07T08:57:55.867Z"
      },
      {
        "duration": 0,
        "start_time": "2022-05-07T08:57:58.803Z"
      },
      {
        "duration": 0,
        "start_time": "2022-05-07T08:57:58.805Z"
      },
      {
        "duration": 0,
        "start_time": "2022-05-07T08:57:58.806Z"
      },
      {
        "duration": 0,
        "start_time": "2022-05-07T08:57:58.807Z"
      },
      {
        "duration": 0,
        "start_time": "2022-05-07T08:57:58.809Z"
      },
      {
        "duration": 0,
        "start_time": "2022-05-07T08:57:58.810Z"
      },
      {
        "duration": 0,
        "start_time": "2022-05-07T08:57:58.812Z"
      },
      {
        "duration": 0,
        "start_time": "2022-05-07T08:57:58.813Z"
      },
      {
        "duration": 0,
        "start_time": "2022-05-07T08:57:58.815Z"
      },
      {
        "duration": 0,
        "start_time": "2022-05-07T08:57:58.816Z"
      },
      {
        "duration": 0,
        "start_time": "2022-05-07T08:57:58.818Z"
      },
      {
        "duration": 0,
        "start_time": "2022-05-07T08:57:58.819Z"
      },
      {
        "duration": 0,
        "start_time": "2022-05-07T08:57:58.821Z"
      },
      {
        "duration": 0,
        "start_time": "2022-05-07T08:57:58.823Z"
      },
      {
        "duration": 0,
        "start_time": "2022-05-07T08:57:58.824Z"
      },
      {
        "duration": 0,
        "start_time": "2022-05-07T08:57:58.825Z"
      },
      {
        "duration": 0,
        "start_time": "2022-05-07T08:57:58.827Z"
      },
      {
        "duration": 0,
        "start_time": "2022-05-07T08:57:58.828Z"
      },
      {
        "duration": 0,
        "start_time": "2022-05-07T08:57:58.830Z"
      },
      {
        "duration": 0,
        "start_time": "2022-05-07T08:57:58.831Z"
      },
      {
        "duration": 0,
        "start_time": "2022-05-07T08:57:58.833Z"
      },
      {
        "duration": 0,
        "start_time": "2022-05-07T08:57:58.834Z"
      },
      {
        "duration": 0,
        "start_time": "2022-05-07T08:57:58.835Z"
      },
      {
        "duration": 0,
        "start_time": "2022-05-07T08:57:58.838Z"
      },
      {
        "duration": 0,
        "start_time": "2022-05-07T08:57:58.844Z"
      },
      {
        "duration": 0,
        "start_time": "2022-05-07T08:57:58.849Z"
      },
      {
        "duration": 0,
        "start_time": "2022-05-07T08:57:58.850Z"
      },
      {
        "duration": 11,
        "start_time": "2022-05-07T08:59:32.960Z"
      },
      {
        "duration": 15,
        "start_time": "2022-05-07T08:59:56.550Z"
      },
      {
        "duration": 17,
        "start_time": "2022-05-07T09:00:00.547Z"
      },
      {
        "duration": 5,
        "start_time": "2022-05-07T09:00:08.155Z"
      },
      {
        "duration": 75,
        "start_time": "2022-05-07T09:00:08.162Z"
      },
      {
        "duration": 26,
        "start_time": "2022-05-07T09:00:08.241Z"
      },
      {
        "duration": 22,
        "start_time": "2022-05-07T09:00:08.270Z"
      },
      {
        "duration": 22,
        "start_time": "2022-05-07T09:00:08.294Z"
      },
      {
        "duration": 28,
        "start_time": "2022-05-07T09:00:08.318Z"
      },
      {
        "duration": 23,
        "start_time": "2022-05-07T09:00:08.351Z"
      },
      {
        "duration": 8,
        "start_time": "2022-05-07T09:00:08.375Z"
      },
      {
        "duration": 8,
        "start_time": "2022-05-07T09:00:08.385Z"
      },
      {
        "duration": 7,
        "start_time": "2022-05-07T09:00:08.395Z"
      },
      {
        "duration": 8,
        "start_time": "2022-05-07T09:00:08.405Z"
      },
      {
        "duration": 175,
        "start_time": "2022-05-07T09:00:08.415Z"
      },
      {
        "duration": 10,
        "start_time": "2022-05-07T09:00:08.591Z"
      },
      {
        "duration": 10,
        "start_time": "2022-05-07T09:00:08.603Z"
      },
      {
        "duration": 48,
        "start_time": "2022-05-07T09:00:08.614Z"
      },
      {
        "duration": 10,
        "start_time": "2022-05-07T09:00:08.665Z"
      },
      {
        "duration": 19,
        "start_time": "2022-05-07T09:00:08.677Z"
      },
      {
        "duration": 4,
        "start_time": "2022-05-07T09:00:08.698Z"
      },
      {
        "duration": 14,
        "start_time": "2022-05-07T09:00:08.703Z"
      },
      {
        "duration": 23,
        "start_time": "2022-05-07T09:00:08.718Z"
      },
      {
        "duration": 7,
        "start_time": "2022-05-07T09:00:08.750Z"
      },
      {
        "duration": 19,
        "start_time": "2022-05-07T09:00:08.759Z"
      },
      {
        "duration": 9,
        "start_time": "2022-05-07T09:00:08.780Z"
      },
      {
        "duration": 9,
        "start_time": "2022-05-07T09:00:08.793Z"
      },
      {
        "duration": 9,
        "start_time": "2022-05-07T09:00:08.804Z"
      },
      {
        "duration": 26,
        "start_time": "2022-05-07T09:00:08.815Z"
      },
      {
        "duration": 34,
        "start_time": "2022-05-07T09:00:08.843Z"
      },
      {
        "duration": 494,
        "start_time": "2022-05-07T09:00:08.879Z"
      },
      {
        "duration": 221,
        "start_time": "2022-05-07T09:00:09.375Z"
      },
      {
        "duration": 309,
        "start_time": "2022-05-07T09:00:09.598Z"
      },
      {
        "duration": 207,
        "start_time": "2022-05-07T09:00:09.909Z"
      },
      {
        "duration": 359,
        "start_time": "2022-05-07T09:00:10.118Z"
      },
      {
        "duration": 165,
        "start_time": "2022-05-07T09:00:10.478Z"
      },
      {
        "duration": 169,
        "start_time": "2022-05-07T09:00:10.646Z"
      },
      {
        "duration": 5,
        "start_time": "2022-05-07T09:00:10.817Z"
      },
      {
        "duration": 158,
        "start_time": "2022-05-07T09:00:10.837Z"
      },
      {
        "duration": 168,
        "start_time": "2022-05-07T09:00:10.997Z"
      },
      {
        "duration": 6,
        "start_time": "2022-05-07T09:00:11.168Z"
      },
      {
        "duration": 412,
        "start_time": "2022-05-07T09:00:11.176Z"
      },
      {
        "duration": 155,
        "start_time": "2022-05-07T09:00:11.589Z"
      },
      {
        "duration": 13,
        "start_time": "2022-05-07T09:00:11.748Z"
      },
      {
        "duration": 39,
        "start_time": "2022-05-07T09:00:11.763Z"
      },
      {
        "duration": 11,
        "start_time": "2022-05-07T09:00:11.804Z"
      },
      {
        "duration": 14,
        "start_time": "2022-05-07T09:00:11.817Z"
      },
      {
        "duration": 35,
        "start_time": "2022-05-07T09:00:11.837Z"
      },
      {
        "duration": 26,
        "start_time": "2022-05-07T09:00:11.873Z"
      },
      {
        "duration": 16,
        "start_time": "2022-05-07T09:00:11.901Z"
      },
      {
        "duration": 1309,
        "start_time": "2022-05-07T10:10:10.527Z"
      },
      {
        "duration": 94,
        "start_time": "2022-05-07T10:10:11.838Z"
      },
      {
        "duration": 23,
        "start_time": "2022-05-07T10:10:11.934Z"
      },
      {
        "duration": 25,
        "start_time": "2022-05-07T10:10:11.960Z"
      },
      {
        "duration": 51,
        "start_time": "2022-05-07T10:10:11.987Z"
      },
      {
        "duration": 17,
        "start_time": "2022-05-07T10:10:12.041Z"
      },
      {
        "duration": 9,
        "start_time": "2022-05-07T10:10:12.060Z"
      },
      {
        "duration": 8,
        "start_time": "2022-05-07T10:10:12.071Z"
      },
      {
        "duration": 8,
        "start_time": "2022-05-07T10:10:12.081Z"
      },
      {
        "duration": 9,
        "start_time": "2022-05-07T10:10:12.092Z"
      },
      {
        "duration": 12,
        "start_time": "2022-05-07T10:10:12.103Z"
      },
      {
        "duration": 180,
        "start_time": "2022-05-07T10:10:12.117Z"
      },
      {
        "duration": 10,
        "start_time": "2022-05-07T10:10:12.299Z"
      },
      {
        "duration": 31,
        "start_time": "2022-05-07T10:10:12.310Z"
      },
      {
        "duration": 26,
        "start_time": "2022-05-07T10:10:12.343Z"
      },
      {
        "duration": 6,
        "start_time": "2022-05-07T10:10:12.370Z"
      },
      {
        "duration": 16,
        "start_time": "2022-05-07T10:10:12.378Z"
      },
      {
        "duration": 5,
        "start_time": "2022-05-07T10:10:12.396Z"
      },
      {
        "duration": 39,
        "start_time": "2022-05-07T10:10:12.403Z"
      },
      {
        "duration": 18,
        "start_time": "2022-05-07T10:10:12.444Z"
      },
      {
        "duration": 5,
        "start_time": "2022-05-07T10:10:12.465Z"
      },
      {
        "duration": 9,
        "start_time": "2022-05-07T10:10:12.471Z"
      },
      {
        "duration": 8,
        "start_time": "2022-05-07T10:10:12.482Z"
      },
      {
        "duration": 7,
        "start_time": "2022-05-07T10:10:12.492Z"
      },
      {
        "duration": 38,
        "start_time": "2022-05-07T10:10:12.501Z"
      },
      {
        "duration": 11,
        "start_time": "2022-05-07T10:10:12.541Z"
      },
      {
        "duration": 17,
        "start_time": "2022-05-07T10:10:12.554Z"
      },
      {
        "duration": 608,
        "start_time": "2022-05-07T10:10:12.576Z"
      },
      {
        "duration": 237,
        "start_time": "2022-05-07T10:10:13.186Z"
      },
      {
        "duration": 327,
        "start_time": "2022-05-07T10:10:13.425Z"
      },
      {
        "duration": 210,
        "start_time": "2022-05-07T10:10:13.755Z"
      },
      {
        "duration": 311,
        "start_time": "2022-05-07T10:10:13.967Z"
      },
      {
        "duration": 174,
        "start_time": "2022-05-07T10:10:14.280Z"
      },
      {
        "duration": 164,
        "start_time": "2022-05-07T10:10:14.456Z"
      },
      {
        "duration": 4,
        "start_time": "2022-05-07T10:10:14.623Z"
      },
      {
        "duration": 174,
        "start_time": "2022-05-07T10:10:14.636Z"
      },
      {
        "duration": 265,
        "start_time": "2022-05-07T10:10:14.812Z"
      },
      {
        "duration": 6,
        "start_time": "2022-05-07T10:10:15.079Z"
      },
      {
        "duration": 240,
        "start_time": "2022-05-07T10:10:15.087Z"
      },
      {
        "duration": 163,
        "start_time": "2022-05-07T10:10:15.329Z"
      },
      {
        "duration": 6,
        "start_time": "2022-05-07T10:10:15.495Z"
      },
      {
        "duration": 48,
        "start_time": "2022-05-07T10:10:15.503Z"
      },
      {
        "duration": 15,
        "start_time": "2022-05-07T10:10:15.553Z"
      },
      {
        "duration": 13,
        "start_time": "2022-05-07T10:10:15.570Z"
      },
      {
        "duration": 12,
        "start_time": "2022-05-07T10:10:15.585Z"
      },
      {
        "duration": 36,
        "start_time": "2022-05-07T10:10:15.599Z"
      },
      {
        "duration": 21,
        "start_time": "2022-05-07T10:10:15.637Z"
      },
      {
        "duration": 1469,
        "start_time": "2022-05-08T18:16:21.003Z"
      },
      {
        "duration": 64,
        "start_time": "2022-05-08T18:16:22.475Z"
      },
      {
        "duration": 21,
        "start_time": "2022-05-08T18:16:22.541Z"
      },
      {
        "duration": 15,
        "start_time": "2022-05-08T18:16:22.565Z"
      },
      {
        "duration": 17,
        "start_time": "2022-05-08T18:16:22.582Z"
      },
      {
        "duration": 26,
        "start_time": "2022-05-08T18:16:22.601Z"
      },
      {
        "duration": 6,
        "start_time": "2022-05-08T18:16:22.629Z"
      },
      {
        "duration": 17,
        "start_time": "2022-05-08T18:16:22.637Z"
      },
      {
        "duration": 6,
        "start_time": "2022-05-08T18:16:22.655Z"
      },
      {
        "duration": 9,
        "start_time": "2022-05-08T18:16:22.663Z"
      },
      {
        "duration": 9,
        "start_time": "2022-05-08T18:16:22.674Z"
      },
      {
        "duration": 150,
        "start_time": "2022-05-08T18:16:22.685Z"
      },
      {
        "duration": 9,
        "start_time": "2022-05-08T18:16:22.836Z"
      },
      {
        "duration": 4,
        "start_time": "2022-05-08T18:16:22.847Z"
      },
      {
        "duration": 16,
        "start_time": "2022-05-08T18:16:22.853Z"
      },
      {
        "duration": 4,
        "start_time": "2022-05-08T18:16:22.871Z"
      },
      {
        "duration": 48,
        "start_time": "2022-05-08T18:16:22.877Z"
      },
      {
        "duration": 6,
        "start_time": "2022-05-08T18:16:22.926Z"
      },
      {
        "duration": 9,
        "start_time": "2022-05-08T18:16:22.934Z"
      },
      {
        "duration": 5,
        "start_time": "2022-05-08T18:16:22.945Z"
      },
      {
        "duration": 7,
        "start_time": "2022-05-08T18:16:22.951Z"
      },
      {
        "duration": 6,
        "start_time": "2022-05-08T18:16:22.960Z"
      },
      {
        "duration": 8,
        "start_time": "2022-05-08T18:16:22.968Z"
      },
      {
        "duration": 46,
        "start_time": "2022-05-08T18:16:22.978Z"
      },
      {
        "duration": 9,
        "start_time": "2022-05-08T18:16:23.026Z"
      },
      {
        "duration": 9,
        "start_time": "2022-05-08T18:16:23.036Z"
      },
      {
        "duration": 11,
        "start_time": "2022-05-08T18:16:23.047Z"
      },
      {
        "duration": 854,
        "start_time": "2022-05-08T18:16:23.063Z"
      },
      {
        "duration": 257,
        "start_time": "2022-05-08T18:16:23.922Z"
      },
      {
        "duration": 392,
        "start_time": "2022-05-08T18:16:24.181Z"
      },
      {
        "duration": 238,
        "start_time": "2022-05-08T18:16:24.575Z"
      },
      {
        "duration": 366,
        "start_time": "2022-05-08T18:16:24.816Z"
      },
      {
        "duration": 138,
        "start_time": "2022-05-08T18:16:25.184Z"
      },
      {
        "duration": 129,
        "start_time": "2022-05-08T18:16:25.324Z"
      },
      {
        "duration": 5,
        "start_time": "2022-05-08T18:16:25.454Z"
      },
      {
        "duration": 140,
        "start_time": "2022-05-08T18:16:25.461Z"
      },
      {
        "duration": 212,
        "start_time": "2022-05-08T18:16:25.603Z"
      },
      {
        "duration": 10,
        "start_time": "2022-05-08T18:16:25.817Z"
      },
      {
        "duration": 329,
        "start_time": "2022-05-08T18:16:25.829Z"
      },
      {
        "duration": 293,
        "start_time": "2022-05-08T18:16:26.160Z"
      },
      {
        "duration": 6,
        "start_time": "2022-05-08T18:16:26.455Z"
      },
      {
        "duration": 81,
        "start_time": "2022-05-08T18:16:26.463Z"
      },
      {
        "duration": 13,
        "start_time": "2022-05-08T18:16:26.547Z"
      },
      {
        "duration": 66,
        "start_time": "2022-05-08T18:16:26.562Z"
      },
      {
        "duration": 11,
        "start_time": "2022-05-08T18:16:26.630Z"
      },
      {
        "duration": 90,
        "start_time": "2022-05-08T18:16:26.644Z"
      },
      {
        "duration": 17,
        "start_time": "2022-05-08T18:16:26.737Z"
      },
      {
        "duration": 4,
        "start_time": "2022-05-08T18:52:30.933Z"
      },
      {
        "duration": 73,
        "start_time": "2022-05-08T18:52:30.939Z"
      },
      {
        "duration": 17,
        "start_time": "2022-05-08T18:52:31.014Z"
      },
      {
        "duration": 39,
        "start_time": "2022-05-08T18:52:31.033Z"
      },
      {
        "duration": 30,
        "start_time": "2022-05-08T18:52:31.074Z"
      },
      {
        "duration": 10,
        "start_time": "2022-05-08T18:52:31.106Z"
      },
      {
        "duration": 13,
        "start_time": "2022-05-08T18:52:31.117Z"
      },
      {
        "duration": 8,
        "start_time": "2022-05-08T18:52:31.132Z"
      },
      {
        "duration": 14,
        "start_time": "2022-05-08T18:52:31.141Z"
      },
      {
        "duration": 7,
        "start_time": "2022-05-08T18:52:31.157Z"
      },
      {
        "duration": 7,
        "start_time": "2022-05-08T18:52:31.166Z"
      },
      {
        "duration": 124,
        "start_time": "2022-05-08T18:52:31.174Z"
      },
      {
        "duration": 22,
        "start_time": "2022-05-08T18:52:31.300Z"
      },
      {
        "duration": 5,
        "start_time": "2022-05-08T18:52:31.326Z"
      },
      {
        "duration": 17,
        "start_time": "2022-05-08T18:52:31.332Z"
      },
      {
        "duration": 5,
        "start_time": "2022-05-08T18:52:31.351Z"
      },
      {
        "duration": 15,
        "start_time": "2022-05-08T18:52:31.357Z"
      },
      {
        "duration": 5,
        "start_time": "2022-05-08T18:52:31.374Z"
      },
      {
        "duration": 45,
        "start_time": "2022-05-08T18:52:31.380Z"
      },
      {
        "duration": 5,
        "start_time": "2022-05-08T18:52:31.427Z"
      },
      {
        "duration": 8,
        "start_time": "2022-05-08T18:52:31.433Z"
      },
      {
        "duration": 5,
        "start_time": "2022-05-08T18:52:31.443Z"
      },
      {
        "duration": 12,
        "start_time": "2022-05-08T18:52:31.450Z"
      },
      {
        "duration": 11,
        "start_time": "2022-05-08T18:52:31.463Z"
      },
      {
        "duration": 9,
        "start_time": "2022-05-08T18:52:31.476Z"
      },
      {
        "duration": 10,
        "start_time": "2022-05-08T18:52:31.487Z"
      },
      {
        "duration": 10,
        "start_time": "2022-05-08T18:52:31.522Z"
      },
      {
        "duration": 440,
        "start_time": "2022-05-08T18:52:31.535Z"
      },
      {
        "duration": 175,
        "start_time": "2022-05-08T18:52:31.977Z"
      },
      {
        "duration": 254,
        "start_time": "2022-05-08T18:52:32.155Z"
      },
      {
        "duration": 165,
        "start_time": "2022-05-08T18:52:32.411Z"
      },
      {
        "duration": 289,
        "start_time": "2022-05-08T18:52:32.577Z"
      },
      {
        "duration": 134,
        "start_time": "2022-05-08T18:52:32.868Z"
      },
      {
        "duration": 149,
        "start_time": "2022-05-08T18:52:33.004Z"
      },
      {
        "duration": 4,
        "start_time": "2022-05-08T18:52:33.155Z"
      },
      {
        "duration": 132,
        "start_time": "2022-05-08T18:52:33.161Z"
      },
      {
        "duration": 127,
        "start_time": "2022-05-08T18:52:33.295Z"
      },
      {
        "duration": 5,
        "start_time": "2022-05-08T18:52:33.424Z"
      },
      {
        "duration": 233,
        "start_time": "2022-05-08T18:52:33.430Z"
      },
      {
        "duration": 140,
        "start_time": "2022-05-08T18:52:33.664Z"
      },
      {
        "duration": 7,
        "start_time": "2022-05-08T18:52:33.822Z"
      },
      {
        "duration": 55,
        "start_time": "2022-05-08T18:52:33.831Z"
      },
      {
        "duration": 10,
        "start_time": "2022-05-08T18:52:33.888Z"
      },
      {
        "duration": 18,
        "start_time": "2022-05-08T18:52:33.900Z"
      },
      {
        "duration": 15,
        "start_time": "2022-05-08T18:52:33.919Z"
      },
      {
        "duration": 38,
        "start_time": "2022-05-08T18:52:33.936Z"
      },
      {
        "duration": 16,
        "start_time": "2022-05-08T18:52:33.976Z"
      },
      {
        "duration": 45,
        "start_time": "2022-05-11T04:43:05.240Z"
      },
      {
        "duration": 1244,
        "start_time": "2022-05-11T04:43:10.978Z"
      },
      {
        "duration": 35,
        "start_time": "2022-05-11T04:43:12.224Z"
      },
      {
        "duration": 20,
        "start_time": "2022-05-11T04:43:12.261Z"
      },
      {
        "duration": 14,
        "start_time": "2022-05-11T04:43:12.284Z"
      },
      {
        "duration": 14,
        "start_time": "2022-05-11T04:43:12.300Z"
      },
      {
        "duration": 5,
        "start_time": "2022-05-11T04:43:12.317Z"
      },
      {
        "duration": 35,
        "start_time": "2022-05-11T04:43:12.324Z"
      },
      {
        "duration": 7,
        "start_time": "2022-05-11T04:43:12.361Z"
      },
      {
        "duration": 5,
        "start_time": "2022-05-11T04:43:12.370Z"
      },
      {
        "duration": 7,
        "start_time": "2022-05-11T04:43:12.378Z"
      },
      {
        "duration": 5,
        "start_time": "2022-05-11T04:43:12.387Z"
      },
      {
        "duration": 147,
        "start_time": "2022-05-11T04:43:12.393Z"
      },
      {
        "duration": 18,
        "start_time": "2022-05-11T04:43:12.542Z"
      },
      {
        "duration": 5,
        "start_time": "2022-05-11T04:43:12.561Z"
      },
      {
        "duration": 14,
        "start_time": "2022-05-11T04:43:12.568Z"
      },
      {
        "duration": 4,
        "start_time": "2022-05-11T04:43:12.583Z"
      },
      {
        "duration": 13,
        "start_time": "2022-05-11T04:43:12.588Z"
      },
      {
        "duration": 4,
        "start_time": "2022-05-11T04:43:12.602Z"
      },
      {
        "duration": 9,
        "start_time": "2022-05-11T04:43:12.607Z"
      },
      {
        "duration": 4,
        "start_time": "2022-05-11T04:43:12.617Z"
      },
      {
        "duration": 8,
        "start_time": "2022-05-11T04:43:12.622Z"
      },
      {
        "duration": 5,
        "start_time": "2022-05-11T04:43:12.631Z"
      },
      {
        "duration": 9,
        "start_time": "2022-05-11T04:43:12.637Z"
      },
      {
        "duration": 10,
        "start_time": "2022-05-11T04:43:12.647Z"
      },
      {
        "duration": 12,
        "start_time": "2022-05-11T04:43:12.658Z"
      },
      {
        "duration": 8,
        "start_time": "2022-05-11T04:43:12.671Z"
      },
      {
        "duration": 9,
        "start_time": "2022-05-11T04:43:12.680Z"
      },
      {
        "duration": 480,
        "start_time": "2022-05-11T04:43:12.692Z"
      },
      {
        "duration": 182,
        "start_time": "2022-05-11T04:43:13.174Z"
      },
      {
        "duration": 334,
        "start_time": "2022-05-11T04:43:13.358Z"
      },
      {
        "duration": 225,
        "start_time": "2022-05-11T04:43:13.694Z"
      },
      {
        "duration": 321,
        "start_time": "2022-05-11T04:43:13.920Z"
      },
      {
        "duration": 124,
        "start_time": "2022-05-11T04:43:14.243Z"
      },
      {
        "duration": 124,
        "start_time": "2022-05-11T04:43:14.369Z"
      },
      {
        "duration": 5,
        "start_time": "2022-05-11T04:43:14.494Z"
      },
      {
        "duration": 130,
        "start_time": "2022-05-11T04:43:14.500Z"
      },
      {
        "duration": 193,
        "start_time": "2022-05-11T04:43:14.632Z"
      },
      {
        "duration": 4,
        "start_time": "2022-05-11T04:43:14.827Z"
      },
      {
        "duration": 208,
        "start_time": "2022-05-11T04:43:14.833Z"
      },
      {
        "duration": 127,
        "start_time": "2022-05-11T04:43:15.043Z"
      },
      {
        "duration": 5,
        "start_time": "2022-05-11T04:43:15.172Z"
      },
      {
        "duration": 24,
        "start_time": "2022-05-11T04:43:15.178Z"
      },
      {
        "duration": 9,
        "start_time": "2022-05-11T04:43:15.203Z"
      },
      {
        "duration": 8,
        "start_time": "2022-05-11T04:43:15.213Z"
      },
      {
        "duration": 36,
        "start_time": "2022-05-11T04:43:15.222Z"
      },
      {
        "duration": 22,
        "start_time": "2022-05-11T04:43:15.260Z"
      },
      {
        "duration": 12,
        "start_time": "2022-05-11T04:43:15.283Z"
      },
      {
        "duration": 8,
        "start_time": "2022-05-11T04:44:11.838Z"
      },
      {
        "duration": 8,
        "start_time": "2022-05-11T04:47:59.859Z"
      },
      {
        "duration": 8,
        "start_time": "2022-05-11T04:55:37.193Z"
      },
      {
        "duration": 9,
        "start_time": "2022-05-11T04:59:09.276Z"
      },
      {
        "duration": 8,
        "start_time": "2022-05-11T04:59:18.399Z"
      },
      {
        "duration": 9,
        "start_time": "2022-05-11T05:07:33.329Z"
      },
      {
        "duration": 396,
        "start_time": "2022-05-11T05:08:13.701Z"
      },
      {
        "duration": 397,
        "start_time": "2022-05-11T05:09:37.451Z"
      },
      {
        "duration": 515,
        "start_time": "2022-05-11T05:11:59.974Z"
      },
      {
        "duration": 506,
        "start_time": "2022-05-11T05:12:06.412Z"
      },
      {
        "duration": 488,
        "start_time": "2022-05-11T05:12:22.703Z"
      },
      {
        "duration": 409,
        "start_time": "2022-05-11T05:17:44.241Z"
      },
      {
        "duration": 417,
        "start_time": "2022-05-11T05:17:52.470Z"
      },
      {
        "duration": 415,
        "start_time": "2022-05-11T05:18:00.219Z"
      },
      {
        "duration": 270,
        "start_time": "2022-05-11T05:18:36.822Z"
      },
      {
        "duration": 180,
        "start_time": "2022-05-11T05:19:23.436Z"
      },
      {
        "duration": 129,
        "start_time": "2022-05-11T05:21:59.303Z"
      },
      {
        "duration": 10,
        "start_time": "2022-05-11T05:23:01.455Z"
      },
      {
        "duration": 63,
        "start_time": "2022-05-11T05:23:18.715Z"
      },
      {
        "duration": 12,
        "start_time": "2022-05-11T05:23:43.149Z"
      },
      {
        "duration": 13,
        "start_time": "2022-05-11T05:23:51.092Z"
      },
      {
        "duration": 9,
        "start_time": "2022-05-11T05:24:00.921Z"
      },
      {
        "duration": 181,
        "start_time": "2022-05-11T05:24:55.794Z"
      },
      {
        "duration": 278,
        "start_time": "2022-05-11T05:26:35.657Z"
      },
      {
        "duration": 240,
        "start_time": "2022-05-11T05:27:43.390Z"
      },
      {
        "duration": 165,
        "start_time": "2022-05-11T05:28:24.671Z"
      },
      {
        "duration": 156,
        "start_time": "2022-05-11T05:28:36.151Z"
      },
      {
        "duration": 157,
        "start_time": "2022-05-11T05:29:52.343Z"
      },
      {
        "duration": 288,
        "start_time": "2022-05-11T05:32:43.582Z"
      },
      {
        "duration": 17,
        "start_time": "2022-05-11T05:34:01.961Z"
      },
      {
        "duration": 1313,
        "start_time": "2022-05-11T05:35:58.866Z"
      },
      {
        "duration": 133,
        "start_time": "2022-05-11T05:36:35.898Z"
      },
      {
        "duration": 112,
        "start_time": "2022-05-11T05:36:52.489Z"
      },
      {
        "duration": 124,
        "start_time": "2022-05-11T05:36:59.652Z"
      },
      {
        "duration": 3,
        "start_time": "2022-05-11T05:37:16.508Z"
      },
      {
        "duration": 40,
        "start_time": "2022-05-11T05:37:16.515Z"
      },
      {
        "duration": 15,
        "start_time": "2022-05-11T05:37:16.558Z"
      },
      {
        "duration": 17,
        "start_time": "2022-05-11T05:37:16.574Z"
      },
      {
        "duration": 18,
        "start_time": "2022-05-11T05:37:16.593Z"
      },
      {
        "duration": 4,
        "start_time": "2022-05-11T05:37:16.613Z"
      },
      {
        "duration": 6,
        "start_time": "2022-05-11T05:37:16.618Z"
      },
      {
        "duration": 5,
        "start_time": "2022-05-11T05:37:16.655Z"
      },
      {
        "duration": 6,
        "start_time": "2022-05-11T05:37:16.662Z"
      },
      {
        "duration": 7,
        "start_time": "2022-05-11T05:37:16.669Z"
      },
      {
        "duration": 4,
        "start_time": "2022-05-11T05:37:16.678Z"
      },
      {
        "duration": 296,
        "start_time": "2022-05-11T05:37:16.684Z"
      },
      {
        "duration": 10,
        "start_time": "2022-05-11T05:37:16.981Z"
      },
      {
        "duration": 7,
        "start_time": "2022-05-11T05:37:16.993Z"
      },
      {
        "duration": 15,
        "start_time": "2022-05-11T05:37:17.001Z"
      },
      {
        "duration": 5,
        "start_time": "2022-05-11T05:37:17.017Z"
      },
      {
        "duration": 44,
        "start_time": "2022-05-11T05:37:17.024Z"
      },
      {
        "duration": 8,
        "start_time": "2022-05-11T05:37:17.069Z"
      },
      {
        "duration": 9,
        "start_time": "2022-05-11T05:37:17.079Z"
      },
      {
        "duration": 4,
        "start_time": "2022-05-11T05:37:17.091Z"
      },
      {
        "duration": 8,
        "start_time": "2022-05-11T05:37:17.096Z"
      },
      {
        "duration": 8,
        "start_time": "2022-05-11T05:37:17.105Z"
      },
      {
        "duration": 41,
        "start_time": "2022-05-11T05:37:17.115Z"
      },
      {
        "duration": 5,
        "start_time": "2022-05-11T05:37:17.158Z"
      },
      {
        "duration": 8,
        "start_time": "2022-05-11T05:37:17.165Z"
      },
      {
        "duration": 9,
        "start_time": "2022-05-11T05:37:17.175Z"
      },
      {
        "duration": 9,
        "start_time": "2022-05-11T05:37:17.186Z"
      },
      {
        "duration": 471,
        "start_time": "2022-05-11T05:37:17.198Z"
      },
      {
        "duration": 191,
        "start_time": "2022-05-11T05:37:17.671Z"
      },
      {
        "duration": 275,
        "start_time": "2022-05-11T05:37:17.864Z"
      },
      {
        "duration": 176,
        "start_time": "2022-05-11T05:37:18.141Z"
      },
      {
        "duration": 317,
        "start_time": "2022-05-11T05:37:18.320Z"
      },
      {
        "duration": 132,
        "start_time": "2022-05-11T05:37:18.639Z"
      },
      {
        "duration": 127,
        "start_time": "2022-05-11T05:37:18.773Z"
      },
      {
        "duration": 4,
        "start_time": "2022-05-11T05:37:18.902Z"
      },
      {
        "duration": 143,
        "start_time": "2022-05-11T05:37:18.907Z"
      },
      {
        "duration": 122,
        "start_time": "2022-05-11T05:37:19.051Z"
      },
      {
        "duration": 5,
        "start_time": "2022-05-11T05:37:19.175Z"
      },
      {
        "duration": 207,
        "start_time": "2022-05-11T05:37:19.181Z"
      },
      {
        "duration": 126,
        "start_time": "2022-05-11T05:37:19.390Z"
      },
      {
        "duration": 7,
        "start_time": "2022-05-11T05:37:19.518Z"
      },
      {
        "duration": 34,
        "start_time": "2022-05-11T05:37:19.526Z"
      },
      {
        "duration": 10,
        "start_time": "2022-05-11T05:37:19.561Z"
      },
      {
        "duration": 33,
        "start_time": "2022-05-11T05:37:19.572Z"
      },
      {
        "duration": 23,
        "start_time": "2022-05-11T05:37:19.606Z"
      },
      {
        "duration": 31,
        "start_time": "2022-05-11T05:37:19.633Z"
      },
      {
        "duration": 13,
        "start_time": "2022-05-11T05:37:19.666Z"
      },
      {
        "duration": 111,
        "start_time": "2022-05-11T05:38:57.284Z"
      },
      {
        "duration": 123,
        "start_time": "2022-05-11T05:39:48.344Z"
      },
      {
        "duration": 129,
        "start_time": "2022-05-11T05:40:02.395Z"
      },
      {
        "duration": 145,
        "start_time": "2022-05-11T05:40:41.279Z"
      },
      {
        "duration": 140,
        "start_time": "2022-05-11T05:42:18.106Z"
      },
      {
        "duration": 145,
        "start_time": "2022-05-11T05:43:29.535Z"
      },
      {
        "duration": 130,
        "start_time": "2022-05-11T05:44:24.544Z"
      },
      {
        "duration": 134,
        "start_time": "2022-05-11T05:45:33.548Z"
      },
      {
        "duration": 2048,
        "start_time": "2022-05-11T05:47:15.851Z"
      },
      {
        "duration": 7,
        "start_time": "2022-05-11T05:48:04.337Z"
      },
      {
        "duration": 6,
        "start_time": "2022-05-11T05:53:05.918Z"
      },
      {
        "duration": 43,
        "start_time": "2022-05-11T05:53:09.499Z"
      },
      {
        "duration": 29,
        "start_time": "2022-05-11T05:53:49.598Z"
      },
      {
        "duration": 6,
        "start_time": "2022-05-11T05:58:47.145Z"
      },
      {
        "duration": 26,
        "start_time": "2022-05-11T05:58:49.753Z"
      },
      {
        "duration": 14,
        "start_time": "2022-05-11T06:44:15.547Z"
      },
      {
        "duration": 153,
        "start_time": "2022-05-11T06:47:59.087Z"
      },
      {
        "duration": 14,
        "start_time": "2022-05-11T06:48:04.515Z"
      },
      {
        "duration": 15,
        "start_time": "2022-05-11T06:48:31.890Z"
      },
      {
        "duration": 141,
        "start_time": "2022-05-11T06:48:47.520Z"
      },
      {
        "duration": 4,
        "start_time": "2022-05-11T06:49:17.390Z"
      },
      {
        "duration": 5,
        "start_time": "2022-05-11T06:49:24.974Z"
      },
      {
        "duration": 4,
        "start_time": "2022-05-11T06:49:36.610Z"
      },
      {
        "duration": 133,
        "start_time": "2022-05-11T06:49:47.542Z"
      },
      {
        "duration": 178,
        "start_time": "2022-05-11T06:49:54.656Z"
      },
      {
        "duration": 5,
        "start_time": "2022-05-11T06:52:08.883Z"
      },
      {
        "duration": 9,
        "start_time": "2022-05-11T06:52:27.167Z"
      },
      {
        "duration": 9,
        "start_time": "2022-05-11T06:53:36.107Z"
      },
      {
        "duration": 10,
        "start_time": "2022-05-11T06:53:45.308Z"
      },
      {
        "duration": 5,
        "start_time": "2022-05-11T06:54:02.369Z"
      },
      {
        "duration": 11,
        "start_time": "2022-05-11T06:54:13.334Z"
      },
      {
        "duration": 11,
        "start_time": "2022-05-11T06:54:19.467Z"
      },
      {
        "duration": 4,
        "start_time": "2022-05-11T06:54:29.894Z"
      },
      {
        "duration": 5,
        "start_time": "2022-05-11T06:54:38.373Z"
      },
      {
        "duration": 6,
        "start_time": "2022-05-11T06:54:55.538Z"
      },
      {
        "duration": 3,
        "start_time": "2022-05-11T06:55:05.536Z"
      },
      {
        "duration": 6,
        "start_time": "2022-05-11T06:55:17.034Z"
      },
      {
        "duration": 6,
        "start_time": "2022-05-11T06:55:27.441Z"
      },
      {
        "duration": 10,
        "start_time": "2022-05-11T06:55:33.337Z"
      },
      {
        "duration": 10,
        "start_time": "2022-05-11T06:55:39.992Z"
      },
      {
        "duration": 10,
        "start_time": "2022-05-11T06:55:45.096Z"
      },
      {
        "duration": 3,
        "start_time": "2022-05-11T07:01:03.067Z"
      },
      {
        "duration": 42,
        "start_time": "2022-05-11T07:01:03.075Z"
      },
      {
        "duration": 16,
        "start_time": "2022-05-11T07:01:03.120Z"
      },
      {
        "duration": 22,
        "start_time": "2022-05-11T07:01:03.137Z"
      },
      {
        "duration": 23,
        "start_time": "2022-05-11T07:01:03.161Z"
      },
      {
        "duration": 11,
        "start_time": "2022-05-11T07:01:03.186Z"
      },
      {
        "duration": 17,
        "start_time": "2022-05-11T07:01:03.198Z"
      },
      {
        "duration": 12,
        "start_time": "2022-05-11T07:01:03.216Z"
      },
      {
        "duration": 8,
        "start_time": "2022-05-11T07:01:03.230Z"
      },
      {
        "duration": 15,
        "start_time": "2022-05-11T07:01:03.240Z"
      },
      {
        "duration": 6,
        "start_time": "2022-05-11T07:01:03.257Z"
      },
      {
        "duration": 138,
        "start_time": "2022-05-11T07:01:03.264Z"
      },
      {
        "duration": 9,
        "start_time": "2022-05-11T07:01:03.404Z"
      },
      {
        "duration": 52,
        "start_time": "2022-05-11T07:01:03.415Z"
      },
      {
        "duration": 26,
        "start_time": "2022-05-11T07:01:03.468Z"
      },
      {
        "duration": 5,
        "start_time": "2022-05-11T07:01:03.495Z"
      },
      {
        "duration": 21,
        "start_time": "2022-05-11T07:01:03.501Z"
      },
      {
        "duration": 5,
        "start_time": "2022-05-11T07:01:03.525Z"
      },
      {
        "duration": 18,
        "start_time": "2022-05-11T07:01:03.532Z"
      },
      {
        "duration": 7,
        "start_time": "2022-05-11T07:01:03.552Z"
      },
      {
        "duration": 14,
        "start_time": "2022-05-11T07:01:03.560Z"
      },
      {
        "duration": 9,
        "start_time": "2022-05-11T07:01:03.576Z"
      },
      {
        "duration": 11,
        "start_time": "2022-05-11T07:01:03.587Z"
      },
      {
        "duration": 7,
        "start_time": "2022-05-11T07:01:03.600Z"
      },
      {
        "duration": 13,
        "start_time": "2022-05-11T07:01:03.609Z"
      },
      {
        "duration": 25,
        "start_time": "2022-05-11T07:01:03.624Z"
      },
      {
        "duration": 20,
        "start_time": "2022-05-11T07:01:03.655Z"
      },
      {
        "duration": 442,
        "start_time": "2022-05-11T07:01:03.677Z"
      },
      {
        "duration": 204,
        "start_time": "2022-05-11T07:01:04.121Z"
      },
      {
        "duration": 322,
        "start_time": "2022-05-11T07:01:04.327Z"
      },
      {
        "duration": 185,
        "start_time": "2022-05-11T07:01:04.655Z"
      },
      {
        "duration": 337,
        "start_time": "2022-05-11T07:01:04.842Z"
      },
      {
        "duration": 155,
        "start_time": "2022-05-11T07:01:05.182Z"
      },
      {
        "duration": 153,
        "start_time": "2022-05-11T07:01:05.339Z"
      },
      {
        "duration": 4,
        "start_time": "2022-05-11T07:01:05.494Z"
      },
      {
        "duration": 149,
        "start_time": "2022-05-11T07:01:05.500Z"
      },
      {
        "duration": 146,
        "start_time": "2022-05-11T07:01:05.655Z"
      },
      {
        "duration": 5,
        "start_time": "2022-05-11T07:01:05.803Z"
      },
      {
        "duration": 235,
        "start_time": "2022-05-11T07:01:05.810Z"
      },
      {
        "duration": 143,
        "start_time": "2022-05-11T07:01:06.047Z"
      },
      {
        "duration": 6,
        "start_time": "2022-05-11T07:01:06.194Z"
      },
      {
        "duration": 30,
        "start_time": "2022-05-11T07:01:06.202Z"
      },
      {
        "duration": 23,
        "start_time": "2022-05-11T07:01:06.234Z"
      },
      {
        "duration": 12,
        "start_time": "2022-05-11T07:01:06.259Z"
      },
      {
        "duration": 10,
        "start_time": "2022-05-11T07:01:06.272Z"
      },
      {
        "duration": 31,
        "start_time": "2022-05-11T07:01:06.284Z"
      },
      {
        "duration": 45,
        "start_time": "2022-05-11T07:01:06.317Z"
      },
      {
        "duration": 1306,
        "start_time": "2022-05-11T07:27:50.469Z"
      },
      {
        "duration": 39,
        "start_time": "2022-05-11T07:27:51.778Z"
      },
      {
        "duration": 24,
        "start_time": "2022-05-11T07:27:51.819Z"
      },
      {
        "duration": 18,
        "start_time": "2022-05-11T07:27:51.845Z"
      },
      {
        "duration": 19,
        "start_time": "2022-05-11T07:27:51.867Z"
      },
      {
        "duration": 11,
        "start_time": "2022-05-11T07:27:51.888Z"
      },
      {
        "duration": 9,
        "start_time": "2022-05-11T07:27:51.900Z"
      },
      {
        "duration": 11,
        "start_time": "2022-05-11T07:27:51.910Z"
      },
      {
        "duration": 32,
        "start_time": "2022-05-11T07:27:51.923Z"
      },
      {
        "duration": 14,
        "start_time": "2022-05-11T07:27:51.957Z"
      },
      {
        "duration": 7,
        "start_time": "2022-05-11T07:27:51.972Z"
      },
      {
        "duration": 155,
        "start_time": "2022-05-11T07:27:51.980Z"
      },
      {
        "duration": 24,
        "start_time": "2022-05-11T07:27:52.137Z"
      },
      {
        "duration": 6,
        "start_time": "2022-05-11T07:27:52.166Z"
      },
      {
        "duration": 23,
        "start_time": "2022-05-11T07:27:52.174Z"
      },
      {
        "duration": 7,
        "start_time": "2022-05-11T07:27:52.199Z"
      },
      {
        "duration": 51,
        "start_time": "2022-05-11T07:27:52.208Z"
      },
      {
        "duration": 5,
        "start_time": "2022-05-11T07:27:52.261Z"
      },
      {
        "duration": 14,
        "start_time": "2022-05-11T07:27:52.267Z"
      },
      {
        "duration": 7,
        "start_time": "2022-05-11T07:27:52.283Z"
      },
      {
        "duration": 4,
        "start_time": "2022-05-11T07:27:52.292Z"
      },
      {
        "duration": 6,
        "start_time": "2022-05-11T07:27:52.298Z"
      },
      {
        "duration": 9,
        "start_time": "2022-05-11T07:27:52.305Z"
      },
      {
        "duration": 40,
        "start_time": "2022-05-11T07:27:52.316Z"
      },
      {
        "duration": 6,
        "start_time": "2022-05-11T07:27:52.358Z"
      },
      {
        "duration": 13,
        "start_time": "2022-05-11T07:27:52.366Z"
      },
      {
        "duration": 11,
        "start_time": "2022-05-11T07:27:52.381Z"
      },
      {
        "duration": 568,
        "start_time": "2022-05-11T07:27:52.393Z"
      },
      {
        "duration": 223,
        "start_time": "2022-05-11T07:27:52.963Z"
      },
      {
        "duration": 269,
        "start_time": "2022-05-11T07:27:53.188Z"
      },
      {
        "duration": 188,
        "start_time": "2022-05-11T07:27:53.459Z"
      },
      {
        "duration": 309,
        "start_time": "2022-05-11T07:27:53.654Z"
      },
      {
        "duration": 146,
        "start_time": "2022-05-11T07:27:53.965Z"
      },
      {
        "duration": 153,
        "start_time": "2022-05-11T07:27:54.112Z"
      },
      {
        "duration": 6,
        "start_time": "2022-05-11T07:27:54.267Z"
      },
      {
        "duration": 155,
        "start_time": "2022-05-11T07:27:54.275Z"
      },
      {
        "duration": 242,
        "start_time": "2022-05-11T07:27:54.432Z"
      },
      {
        "duration": 6,
        "start_time": "2022-05-11T07:27:54.677Z"
      },
      {
        "duration": 233,
        "start_time": "2022-05-11T07:27:54.685Z"
      },
      {
        "duration": 205,
        "start_time": "2022-05-11T07:27:54.919Z"
      },
      {
        "duration": 8,
        "start_time": "2022-05-11T07:27:55.130Z"
      },
      {
        "duration": 48,
        "start_time": "2022-05-11T07:27:55.140Z"
      },
      {
        "duration": 10,
        "start_time": "2022-05-11T07:27:55.190Z"
      },
      {
        "duration": 14,
        "start_time": "2022-05-11T07:27:55.201Z"
      },
      {
        "duration": 8,
        "start_time": "2022-05-11T07:27:55.217Z"
      },
      {
        "duration": 49,
        "start_time": "2022-05-11T07:27:55.227Z"
      },
      {
        "duration": 14,
        "start_time": "2022-05-11T07:27:55.278Z"
      },
      {
        "duration": 50,
        "start_time": "2022-05-11T11:33:54.304Z"
      },
      {
        "duration": 1430,
        "start_time": "2022-05-11T11:33:59.343Z"
      },
      {
        "duration": 43,
        "start_time": "2022-05-11T11:34:00.776Z"
      },
      {
        "duration": 23,
        "start_time": "2022-05-11T11:34:00.821Z"
      },
      {
        "duration": 17,
        "start_time": "2022-05-11T11:34:00.847Z"
      },
      {
        "duration": 21,
        "start_time": "2022-05-11T11:34:00.866Z"
      },
      {
        "duration": 6,
        "start_time": "2022-05-11T11:34:00.890Z"
      },
      {
        "duration": 10,
        "start_time": "2022-05-11T11:34:00.897Z"
      },
      {
        "duration": 12,
        "start_time": "2022-05-11T11:34:00.909Z"
      },
      {
        "duration": 11,
        "start_time": "2022-05-11T11:34:00.923Z"
      },
      {
        "duration": 16,
        "start_time": "2022-05-11T11:34:00.937Z"
      },
      {
        "duration": 20,
        "start_time": "2022-05-11T11:34:00.955Z"
      },
      {
        "duration": 177,
        "start_time": "2022-05-11T11:34:00.977Z"
      },
      {
        "duration": 19,
        "start_time": "2022-05-11T11:34:01.156Z"
      },
      {
        "duration": 11,
        "start_time": "2022-05-11T11:34:01.176Z"
      },
      {
        "duration": 28,
        "start_time": "2022-05-11T11:34:01.189Z"
      },
      {
        "duration": 5,
        "start_time": "2022-05-11T11:34:01.218Z"
      },
      {
        "duration": 34,
        "start_time": "2022-05-11T11:34:01.225Z"
      },
      {
        "duration": 20,
        "start_time": "2022-05-11T11:34:01.261Z"
      },
      {
        "duration": 23,
        "start_time": "2022-05-11T11:34:01.282Z"
      },
      {
        "duration": 9,
        "start_time": "2022-05-11T11:34:01.307Z"
      },
      {
        "duration": 15,
        "start_time": "2022-05-11T11:34:01.317Z"
      },
      {
        "duration": 9,
        "start_time": "2022-05-11T11:34:01.334Z"
      },
      {
        "duration": 13,
        "start_time": "2022-05-11T11:34:01.345Z"
      },
      {
        "duration": 9,
        "start_time": "2022-05-11T11:34:01.360Z"
      },
      {
        "duration": 10,
        "start_time": "2022-05-11T11:34:01.371Z"
      },
      {
        "duration": 9,
        "start_time": "2022-05-11T11:34:01.383Z"
      },
      {
        "duration": 17,
        "start_time": "2022-05-11T11:34:01.393Z"
      },
      {
        "duration": 560,
        "start_time": "2022-05-11T11:34:01.414Z"
      },
      {
        "duration": 236,
        "start_time": "2022-05-11T11:34:01.976Z"
      },
      {
        "duration": 343,
        "start_time": "2022-05-11T11:34:02.214Z"
      },
      {
        "duration": 211,
        "start_time": "2022-05-11T11:34:02.558Z"
      },
      {
        "duration": 341,
        "start_time": "2022-05-11T11:34:02.772Z"
      },
      {
        "duration": 161,
        "start_time": "2022-05-11T11:34:03.115Z"
      },
      {
        "duration": 176,
        "start_time": "2022-05-11T11:34:03.278Z"
      },
      {
        "duration": 4,
        "start_time": "2022-05-11T11:34:03.456Z"
      },
      {
        "duration": 170,
        "start_time": "2022-05-11T11:34:03.462Z"
      },
      {
        "duration": 242,
        "start_time": "2022-05-11T11:34:03.633Z"
      },
      {
        "duration": 6,
        "start_time": "2022-05-11T11:34:03.876Z"
      },
      {
        "duration": 229,
        "start_time": "2022-05-11T11:34:03.883Z"
      },
      {
        "duration": 67,
        "start_time": "2022-05-11T11:34:04.114Z"
      },
      {
        "duration": 0,
        "start_time": "2022-05-11T11:34:04.182Z"
      },
      {
        "duration": 0,
        "start_time": "2022-05-11T11:34:04.184Z"
      },
      {
        "duration": 0,
        "start_time": "2022-05-11T11:34:04.185Z"
      },
      {
        "duration": 0,
        "start_time": "2022-05-11T11:34:04.186Z"
      },
      {
        "duration": 0,
        "start_time": "2022-05-11T11:34:04.187Z"
      },
      {
        "duration": 0,
        "start_time": "2022-05-11T11:34:04.188Z"
      },
      {
        "duration": 0,
        "start_time": "2022-05-11T11:34:04.189Z"
      },
      {
        "duration": 0,
        "start_time": "2022-05-11T11:34:04.190Z"
      },
      {
        "duration": 173,
        "start_time": "2022-05-11T11:34:30.761Z"
      },
      {
        "duration": 8,
        "start_time": "2022-05-11T11:34:33.299Z"
      },
      {
        "duration": 9,
        "start_time": "2022-05-11T11:34:41.863Z"
      },
      {
        "duration": 148,
        "start_time": "2022-05-11T11:35:05.763Z"
      },
      {
        "duration": 7,
        "start_time": "2022-05-11T11:35:05.914Z"
      },
      {
        "duration": 27,
        "start_time": "2022-05-11T11:35:05.923Z"
      },
      {
        "duration": 12,
        "start_time": "2022-05-11T11:35:05.972Z"
      },
      {
        "duration": 24,
        "start_time": "2022-05-11T11:35:05.986Z"
      },
      {
        "duration": 19,
        "start_time": "2022-05-11T11:35:06.012Z"
      },
      {
        "duration": 42,
        "start_time": "2022-05-11T11:35:06.034Z"
      },
      {
        "duration": 19,
        "start_time": "2022-05-11T11:35:06.078Z"
      },
      {
        "duration": 51,
        "start_time": "2022-05-11T18:22:22.784Z"
      },
      {
        "duration": 1322,
        "start_time": "2022-05-11T18:22:27.769Z"
      },
      {
        "duration": 43,
        "start_time": "2022-05-11T18:22:29.093Z"
      },
      {
        "duration": 20,
        "start_time": "2022-05-11T18:22:29.138Z"
      },
      {
        "duration": 21,
        "start_time": "2022-05-11T18:22:29.161Z"
      },
      {
        "duration": 30,
        "start_time": "2022-05-11T18:22:29.184Z"
      },
      {
        "duration": 21,
        "start_time": "2022-05-11T18:22:29.216Z"
      },
      {
        "duration": 6,
        "start_time": "2022-05-11T18:22:29.239Z"
      },
      {
        "duration": 7,
        "start_time": "2022-05-11T18:22:29.247Z"
      },
      {
        "duration": 9,
        "start_time": "2022-05-11T18:22:29.256Z"
      },
      {
        "duration": 18,
        "start_time": "2022-05-11T18:22:29.267Z"
      },
      {
        "duration": 10,
        "start_time": "2022-05-11T18:22:29.287Z"
      },
      {
        "duration": 132,
        "start_time": "2022-05-11T18:22:29.299Z"
      },
      {
        "duration": 11,
        "start_time": "2022-05-11T18:22:29.433Z"
      },
      {
        "duration": 5,
        "start_time": "2022-05-11T18:22:29.446Z"
      },
      {
        "duration": 38,
        "start_time": "2022-05-11T18:22:29.453Z"
      },
      {
        "duration": 5,
        "start_time": "2022-05-11T18:22:29.493Z"
      },
      {
        "duration": 22,
        "start_time": "2022-05-11T18:22:29.499Z"
      },
      {
        "duration": 12,
        "start_time": "2022-05-11T18:22:29.523Z"
      },
      {
        "duration": 13,
        "start_time": "2022-05-11T18:22:29.537Z"
      },
      {
        "duration": 16,
        "start_time": "2022-05-11T18:22:29.552Z"
      },
      {
        "duration": 23,
        "start_time": "2022-05-11T18:22:29.569Z"
      },
      {
        "duration": 6,
        "start_time": "2022-05-11T18:22:29.594Z"
      },
      {
        "duration": 8,
        "start_time": "2022-05-11T18:22:29.601Z"
      },
      {
        "duration": 16,
        "start_time": "2022-05-11T18:22:29.611Z"
      },
      {
        "duration": 12,
        "start_time": "2022-05-11T18:22:29.629Z"
      },
      {
        "duration": 12,
        "start_time": "2022-05-11T18:22:29.642Z"
      },
      {
        "duration": 37,
        "start_time": "2022-05-11T18:22:29.655Z"
      },
      {
        "duration": 556,
        "start_time": "2022-05-11T18:22:29.695Z"
      },
      {
        "duration": 203,
        "start_time": "2022-05-11T18:22:30.253Z"
      },
      {
        "duration": 351,
        "start_time": "2022-05-11T18:22:30.458Z"
      },
      {
        "duration": 187,
        "start_time": "2022-05-11T18:22:30.811Z"
      },
      {
        "duration": 303,
        "start_time": "2022-05-11T18:22:30.999Z"
      },
      {
        "duration": 150,
        "start_time": "2022-05-11T18:22:31.303Z"
      },
      {
        "duration": 158,
        "start_time": "2022-05-11T18:22:31.455Z"
      },
      {
        "duration": 5,
        "start_time": "2022-05-11T18:22:31.614Z"
      },
      {
        "duration": 164,
        "start_time": "2022-05-11T18:22:31.620Z"
      },
      {
        "duration": 220,
        "start_time": "2022-05-11T18:22:31.785Z"
      },
      {
        "duration": 4,
        "start_time": "2022-05-11T18:22:32.007Z"
      },
      {
        "duration": 223,
        "start_time": "2022-05-11T18:22:32.013Z"
      },
      {
        "duration": 148,
        "start_time": "2022-05-11T18:22:32.237Z"
      },
      {
        "duration": 6,
        "start_time": "2022-05-11T18:22:32.386Z"
      },
      {
        "duration": 25,
        "start_time": "2022-05-11T18:22:32.394Z"
      },
      {
        "duration": 10,
        "start_time": "2022-05-11T18:22:32.421Z"
      },
      {
        "duration": 10,
        "start_time": "2022-05-11T18:22:32.433Z"
      },
      {
        "duration": 27,
        "start_time": "2022-05-11T18:22:32.468Z"
      },
      {
        "duration": 28,
        "start_time": "2022-05-11T18:22:32.496Z"
      },
      {
        "duration": 12,
        "start_time": "2022-05-11T18:22:32.526Z"
      },
      {
        "duration": 11,
        "start_time": "2022-05-11T18:23:32.099Z"
      },
      {
        "duration": 230,
        "start_time": "2022-05-11T18:28:55.761Z"
      },
      {
        "duration": 7,
        "start_time": "2022-05-11T18:29:48.912Z"
      },
      {
        "duration": 31,
        "start_time": "2022-05-11T18:29:50.756Z"
      },
      {
        "duration": 135,
        "start_time": "2022-05-11T18:30:26.306Z"
      },
      {
        "duration": 169,
        "start_time": "2022-05-11T18:31:08.559Z"
      },
      {
        "duration": 4,
        "start_time": "2022-05-11T18:32:21.863Z"
      },
      {
        "duration": 52,
        "start_time": "2022-05-11T18:32:21.873Z"
      },
      {
        "duration": 16,
        "start_time": "2022-05-11T18:32:21.928Z"
      },
      {
        "duration": 21,
        "start_time": "2022-05-11T18:32:21.945Z"
      },
      {
        "duration": 26,
        "start_time": "2022-05-11T18:32:21.969Z"
      },
      {
        "duration": 8,
        "start_time": "2022-05-11T18:32:21.997Z"
      },
      {
        "duration": 16,
        "start_time": "2022-05-11T18:32:22.006Z"
      },
      {
        "duration": 9,
        "start_time": "2022-05-11T18:32:22.023Z"
      },
      {
        "duration": 5,
        "start_time": "2022-05-11T18:32:22.034Z"
      },
      {
        "duration": 34,
        "start_time": "2022-05-11T18:32:22.042Z"
      },
      {
        "duration": 19,
        "start_time": "2022-05-11T18:32:22.079Z"
      },
      {
        "duration": 136,
        "start_time": "2022-05-11T18:32:22.100Z"
      },
      {
        "duration": 10,
        "start_time": "2022-05-11T18:32:22.237Z"
      },
      {
        "duration": 5,
        "start_time": "2022-05-11T18:32:22.248Z"
      },
      {
        "duration": 24,
        "start_time": "2022-05-11T18:32:22.266Z"
      },
      {
        "duration": 6,
        "start_time": "2022-05-11T18:32:22.292Z"
      },
      {
        "duration": 20,
        "start_time": "2022-05-11T18:32:22.299Z"
      },
      {
        "duration": 7,
        "start_time": "2022-05-11T18:32:22.321Z"
      },
      {
        "duration": 13,
        "start_time": "2022-05-11T18:32:22.329Z"
      },
      {
        "duration": 24,
        "start_time": "2022-05-11T18:32:22.344Z"
      },
      {
        "duration": 7,
        "start_time": "2022-05-11T18:32:22.370Z"
      },
      {
        "duration": 13,
        "start_time": "2022-05-11T18:32:22.378Z"
      },
      {
        "duration": 9,
        "start_time": "2022-05-11T18:32:22.393Z"
      },
      {
        "duration": 10,
        "start_time": "2022-05-11T18:32:22.403Z"
      },
      {
        "duration": 18,
        "start_time": "2022-05-11T18:32:22.414Z"
      },
      {
        "duration": 12,
        "start_time": "2022-05-11T18:32:22.434Z"
      },
      {
        "duration": 40,
        "start_time": "2022-05-11T18:32:22.447Z"
      },
      {
        "duration": 456,
        "start_time": "2022-05-11T18:32:22.488Z"
      },
      {
        "duration": 216,
        "start_time": "2022-05-11T18:32:22.947Z"
      },
      {
        "duration": 330,
        "start_time": "2022-05-11T18:32:23.164Z"
      },
      {
        "duration": 186,
        "start_time": "2022-05-11T18:32:23.495Z"
      },
      {
        "duration": 301,
        "start_time": "2022-05-11T18:32:23.682Z"
      },
      {
        "duration": 142,
        "start_time": "2022-05-11T18:32:23.984Z"
      },
      {
        "duration": 159,
        "start_time": "2022-05-11T18:32:24.128Z"
      },
      {
        "duration": 5,
        "start_time": "2022-05-11T18:32:24.288Z"
      },
      {
        "duration": 149,
        "start_time": "2022-05-11T18:32:24.294Z"
      },
      {
        "duration": 240,
        "start_time": "2022-05-11T18:32:24.445Z"
      },
      {
        "duration": 5,
        "start_time": "2022-05-11T18:32:24.687Z"
      },
      {
        "duration": 134,
        "start_time": "2022-05-11T18:32:24.693Z"
      },
      {
        "duration": 7,
        "start_time": "2022-05-11T18:32:24.829Z"
      },
      {
        "duration": 35,
        "start_time": "2022-05-11T18:32:24.838Z"
      },
      {
        "duration": 11,
        "start_time": "2022-05-11T18:32:24.876Z"
      },
      {
        "duration": 10,
        "start_time": "2022-05-11T18:32:24.889Z"
      },
      {
        "duration": 8,
        "start_time": "2022-05-11T18:32:24.901Z"
      },
      {
        "duration": 23,
        "start_time": "2022-05-11T18:32:24.911Z"
      },
      {
        "duration": 18,
        "start_time": "2022-05-11T18:32:24.968Z"
      },
      {
        "duration": 67,
        "start_time": "2022-05-12T19:12:14.380Z"
      },
      {
        "duration": 1786,
        "start_time": "2022-05-12T19:12:17.859Z"
      },
      {
        "duration": 42,
        "start_time": "2022-05-12T19:12:19.652Z"
      },
      {
        "duration": 30,
        "start_time": "2022-05-12T19:12:19.696Z"
      },
      {
        "duration": 28,
        "start_time": "2022-05-12T19:12:19.729Z"
      },
      {
        "duration": 31,
        "start_time": "2022-05-12T19:12:19.759Z"
      },
      {
        "duration": 16,
        "start_time": "2022-05-12T19:12:19.792Z"
      },
      {
        "duration": 16,
        "start_time": "2022-05-12T19:12:19.810Z"
      },
      {
        "duration": 29,
        "start_time": "2022-05-12T19:12:19.829Z"
      },
      {
        "duration": 11,
        "start_time": "2022-05-12T19:12:19.860Z"
      },
      {
        "duration": 9,
        "start_time": "2022-05-12T19:12:19.875Z"
      },
      {
        "duration": 11,
        "start_time": "2022-05-12T19:12:19.886Z"
      },
      {
        "duration": 348,
        "start_time": "2022-05-12T19:12:19.900Z"
      },
      {
        "duration": 13,
        "start_time": "2022-05-12T19:12:20.252Z"
      },
      {
        "duration": 9,
        "start_time": "2022-05-12T19:12:20.267Z"
      },
      {
        "duration": 23,
        "start_time": "2022-05-12T19:12:20.278Z"
      },
      {
        "duration": 6,
        "start_time": "2022-05-12T19:12:20.303Z"
      },
      {
        "duration": 56,
        "start_time": "2022-05-12T19:12:20.312Z"
      },
      {
        "duration": 8,
        "start_time": "2022-05-12T19:12:20.372Z"
      },
      {
        "duration": 15,
        "start_time": "2022-05-12T19:12:20.382Z"
      },
      {
        "duration": 6,
        "start_time": "2022-05-12T19:12:20.399Z"
      },
      {
        "duration": 46,
        "start_time": "2022-05-12T19:12:20.407Z"
      },
      {
        "duration": 5,
        "start_time": "2022-05-12T19:12:20.456Z"
      },
      {
        "duration": 13,
        "start_time": "2022-05-12T19:12:20.464Z"
      },
      {
        "duration": 9,
        "start_time": "2022-05-12T19:12:20.478Z"
      },
      {
        "duration": 13,
        "start_time": "2022-05-12T19:12:20.489Z"
      },
      {
        "duration": 53,
        "start_time": "2022-05-12T19:12:20.504Z"
      },
      {
        "duration": 21,
        "start_time": "2022-05-12T19:12:20.560Z"
      },
      {
        "duration": 961,
        "start_time": "2022-05-12T19:12:20.586Z"
      },
      {
        "duration": 331,
        "start_time": "2022-05-12T19:12:21.551Z"
      },
      {
        "duration": 473,
        "start_time": "2022-05-12T19:12:21.884Z"
      },
      {
        "duration": 287,
        "start_time": "2022-05-12T19:12:22.360Z"
      },
      {
        "duration": 398,
        "start_time": "2022-05-12T19:12:22.651Z"
      },
      {
        "duration": 234,
        "start_time": "2022-05-12T19:12:23.052Z"
      },
      {
        "duration": 250,
        "start_time": "2022-05-12T19:12:23.289Z"
      },
      {
        "duration": 13,
        "start_time": "2022-05-12T19:12:23.541Z"
      },
      {
        "duration": 241,
        "start_time": "2022-05-12T19:12:23.556Z"
      },
      {
        "duration": 322,
        "start_time": "2022-05-12T19:12:23.800Z"
      },
      {
        "duration": 7,
        "start_time": "2022-05-12T19:12:24.124Z"
      },
      {
        "duration": 254,
        "start_time": "2022-05-12T19:12:24.133Z"
      },
      {
        "duration": 10,
        "start_time": "2022-05-12T19:12:24.389Z"
      },
      {
        "duration": 32,
        "start_time": "2022-05-12T19:12:24.402Z"
      },
      {
        "duration": 13,
        "start_time": "2022-05-12T19:12:24.452Z"
      },
      {
        "duration": 20,
        "start_time": "2022-05-12T19:12:24.467Z"
      },
      {
        "duration": 107,
        "start_time": "2022-05-12T19:12:24.489Z"
      },
      {
        "duration": 0,
        "start_time": "2022-05-12T19:12:24.598Z"
      },
      {
        "duration": 0,
        "start_time": "2022-05-12T19:12:24.600Z"
      },
      {
        "duration": 0,
        "start_time": "2022-05-12T19:12:24.602Z"
      },
      {
        "duration": 15,
        "start_time": "2022-05-12T19:15:55.700Z"
      },
      {
        "duration": 0,
        "start_time": "2022-05-12T19:15:55.718Z"
      },
      {
        "duration": 0,
        "start_time": "2022-05-12T19:15:55.720Z"
      },
      {
        "duration": 0,
        "start_time": "2022-05-12T19:15:55.721Z"
      },
      {
        "duration": 15,
        "start_time": "2022-05-12T19:16:03.057Z"
      },
      {
        "duration": 15,
        "start_time": "2022-05-12T19:16:09.935Z"
      },
      {
        "duration": 10,
        "start_time": "2022-05-12T19:17:15.368Z"
      },
      {
        "duration": 6,
        "start_time": "2022-05-12T19:17:24.903Z"
      },
      {
        "duration": 64,
        "start_time": "2022-05-13T04:47:08.368Z"
      },
      {
        "duration": 1291,
        "start_time": "2022-05-13T04:47:14.758Z"
      },
      {
        "duration": 39,
        "start_time": "2022-05-13T04:47:16.052Z"
      },
      {
        "duration": 18,
        "start_time": "2022-05-13T04:47:16.093Z"
      },
      {
        "duration": 15,
        "start_time": "2022-05-13T04:47:16.113Z"
      },
      {
        "duration": 20,
        "start_time": "2022-05-13T04:47:16.130Z"
      },
      {
        "duration": 18,
        "start_time": "2022-05-13T04:47:16.152Z"
      },
      {
        "duration": 9,
        "start_time": "2022-05-13T04:47:16.172Z"
      },
      {
        "duration": 8,
        "start_time": "2022-05-13T04:47:16.183Z"
      },
      {
        "duration": 5,
        "start_time": "2022-05-13T04:47:16.193Z"
      },
      {
        "duration": 6,
        "start_time": "2022-05-13T04:47:16.202Z"
      },
      {
        "duration": 6,
        "start_time": "2022-05-13T04:47:16.210Z"
      },
      {
        "duration": 223,
        "start_time": "2022-05-13T04:47:16.217Z"
      },
      {
        "duration": 21,
        "start_time": "2022-05-13T04:47:16.442Z"
      },
      {
        "duration": 6,
        "start_time": "2022-05-13T04:47:16.465Z"
      },
      {
        "duration": 19,
        "start_time": "2022-05-13T04:47:16.473Z"
      },
      {
        "duration": 5,
        "start_time": "2022-05-13T04:47:16.494Z"
      },
      {
        "duration": 21,
        "start_time": "2022-05-13T04:47:16.501Z"
      },
      {
        "duration": 39,
        "start_time": "2022-05-13T04:47:16.524Z"
      },
      {
        "duration": 12,
        "start_time": "2022-05-13T04:47:16.565Z"
      },
      {
        "duration": 5,
        "start_time": "2022-05-13T04:47:16.579Z"
      },
      {
        "duration": 5,
        "start_time": "2022-05-13T04:47:16.587Z"
      },
      {
        "duration": 7,
        "start_time": "2022-05-13T04:47:16.594Z"
      },
      {
        "duration": 9,
        "start_time": "2022-05-13T04:47:16.603Z"
      },
      {
        "duration": 9,
        "start_time": "2022-05-13T04:47:16.613Z"
      },
      {
        "duration": 8,
        "start_time": "2022-05-13T04:47:16.661Z"
      },
      {
        "duration": 14,
        "start_time": "2022-05-13T04:47:16.671Z"
      },
      {
        "duration": 18,
        "start_time": "2022-05-13T04:47:16.687Z"
      },
      {
        "duration": 753,
        "start_time": "2022-05-13T04:47:16.709Z"
      },
      {
        "duration": 191,
        "start_time": "2022-05-13T04:47:17.464Z"
      },
      {
        "duration": 317,
        "start_time": "2022-05-13T04:47:17.657Z"
      },
      {
        "duration": 177,
        "start_time": "2022-05-13T04:47:17.975Z"
      },
      {
        "duration": 291,
        "start_time": "2022-05-13T04:47:18.154Z"
      },
      {
        "duration": 238,
        "start_time": "2022-05-13T04:47:18.449Z"
      },
      {
        "duration": 237,
        "start_time": "2022-05-13T04:47:18.689Z"
      },
      {
        "duration": 5,
        "start_time": "2022-05-13T04:47:18.928Z"
      },
      {
        "duration": 201,
        "start_time": "2022-05-13T04:47:18.935Z"
      },
      {
        "duration": 213,
        "start_time": "2022-05-13T04:47:19.137Z"
      },
      {
        "duration": 14,
        "start_time": "2022-05-13T04:47:19.352Z"
      },
      {
        "duration": 143,
        "start_time": "2022-05-13T04:47:19.368Z"
      },
      {
        "duration": 9,
        "start_time": "2022-05-13T04:47:19.513Z"
      },
      {
        "duration": 28,
        "start_time": "2022-05-13T04:47:19.524Z"
      },
      {
        "duration": 13,
        "start_time": "2022-05-13T04:47:19.562Z"
      },
      {
        "duration": 11,
        "start_time": "2022-05-13T04:47:19.576Z"
      },
      {
        "duration": 9,
        "start_time": "2022-05-13T04:47:19.589Z"
      },
      {
        "duration": 65,
        "start_time": "2022-05-13T04:47:19.600Z"
      },
      {
        "duration": 18,
        "start_time": "2022-05-13T04:47:19.667Z"
      }
    ],
    "kernelspec": {
      "display_name": "Python 3 (ipykernel)",
      "language": "python",
      "name": "python3"
    },
    "language_info": {
      "codemirror_mode": {
        "name": "ipython",
        "version": 3
      },
      "file_extension": ".py",
      "mimetype": "text/x-python",
      "name": "python",
      "nbconvert_exporter": "python",
      "pygments_lexer": "ipython3",
      "version": "3.9.5"
    },
    "toc": {
      "base_numbering": 1,
      "nav_menu": {},
      "number_sections": true,
      "sideBar": true,
      "skip_h1_title": true,
      "title_cell": "Содержание",
      "title_sidebar": "Contents",
      "toc_cell": true,
      "toc_position": {
        "height": "calc(100% - 180px)",
        "left": "10px",
        "top": "150px",
        "width": "296px"
      },
      "toc_section_display": true,
      "toc_window_display": true
    },
    "colab": {
      "provenance": []
    }
  },
  "nbformat": 4,
  "nbformat_minor": 0
}